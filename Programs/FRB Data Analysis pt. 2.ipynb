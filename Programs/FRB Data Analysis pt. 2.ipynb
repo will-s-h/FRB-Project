{
 "cells": [
  {
   "cell_type": "code",
   "execution_count": 1,
   "metadata": {},
   "outputs": [],
   "source": [
    "%matplotlib inline\n",
    "import matplotlib.pyplot as plt\n",
    "import numpy as np\n",
    "import math\n",
    "import pandas as pd"
   ]
  },
  {
   "cell_type": "code",
   "execution_count": 2,
   "metadata": {},
   "outputs": [
    {
     "data": {
      "text/html": [
       "<div>\n",
       "<style scoped>\n",
       "    .dataframe tbody tr th:only-of-type {\n",
       "        vertical-align: middle;\n",
       "    }\n",
       "\n",
       "    .dataframe tbody tr th {\n",
       "        vertical-align: top;\n",
       "    }\n",
       "\n",
       "    .dataframe thead th {\n",
       "        text-align: right;\n",
       "    }\n",
       "</style>\n",
       "<table border=\"1\" class=\"dataframe\">\n",
       "  <thead>\n",
       "    <tr style=\"text-align: right;\">\n",
       "      <th></th>\n",
       "      <th>tns_name</th>\n",
       "      <th>previous_name</th>\n",
       "      <th>repeater_name</th>\n",
       "      <th>snr_fitb</th>\n",
       "      <th>dm_fitb</th>\n",
       "      <th>dm_fitb_err</th>\n",
       "      <th>flux</th>\n",
       "      <th>flux_err</th>\n",
       "      <th>flux_notes</th>\n",
       "      <th>fluence</th>\n",
       "      <th>fluence_err</th>\n",
       "      <th>fluence_notes</th>\n",
       "    </tr>\n",
       "  </thead>\n",
       "  <tbody>\n",
       "    <tr>\n",
       "      <th>0</th>\n",
       "      <td>FRB20180725A</td>\n",
       "      <td>180725.J0613+67</td>\n",
       "      <td>-9999</td>\n",
       "      <td>33.2</td>\n",
       "      <td>715.8090</td>\n",
       "      <td>0.0040</td>\n",
       "      <td>2.0</td>\n",
       "      <td>1.0</td>\n",
       "      <td>-9999</td>\n",
       "      <td>4.0</td>\n",
       "      <td>2.0</td>\n",
       "      <td>-9999</td>\n",
       "    </tr>\n",
       "    <tr>\n",
       "      <th>1</th>\n",
       "      <td>FRB20180727A</td>\n",
       "      <td>180727.J1311+26</td>\n",
       "      <td>-9999</td>\n",
       "      <td>12.2</td>\n",
       "      <td>642.1300</td>\n",
       "      <td>0.0200</td>\n",
       "      <td>0.6</td>\n",
       "      <td>0.3</td>\n",
       "      <td>-9999</td>\n",
       "      <td>2.3</td>\n",
       "      <td>0.8</td>\n",
       "      <td>-9999</td>\n",
       "    </tr>\n",
       "    <tr>\n",
       "      <th>2</th>\n",
       "      <td>FRB20180729A</td>\n",
       "      <td>180729.J1316+55</td>\n",
       "      <td>-9999</td>\n",
       "      <td>206.6</td>\n",
       "      <td>109.5942</td>\n",
       "      <td>0.0003</td>\n",
       "      <td>12.0</td>\n",
       "      <td>7.0</td>\n",
       "      <td>-9999</td>\n",
       "      <td>20.0</td>\n",
       "      <td>10.0</td>\n",
       "      <td>-9999</td>\n",
       "    </tr>\n",
       "    <tr>\n",
       "      <th>3</th>\n",
       "      <td>FRB20180729B</td>\n",
       "      <td>180729.J0558+56</td>\n",
       "      <td>-9999</td>\n",
       "      <td>22.0</td>\n",
       "      <td>317.2240</td>\n",
       "      <td>0.0040</td>\n",
       "      <td>0.9</td>\n",
       "      <td>0.6</td>\n",
       "      <td>-9999</td>\n",
       "      <td>1.2</td>\n",
       "      <td>0.7</td>\n",
       "      <td>-9999</td>\n",
       "    </tr>\n",
       "    <tr>\n",
       "      <th>4</th>\n",
       "      <td>FRB20180730A</td>\n",
       "      <td>180730.J0353+87</td>\n",
       "      <td>-9999</td>\n",
       "      <td>89.8</td>\n",
       "      <td>848.9040</td>\n",
       "      <td>0.0020</td>\n",
       "      <td>5.0</td>\n",
       "      <td>3.0</td>\n",
       "      <td>-9999</td>\n",
       "      <td>30.0</td>\n",
       "      <td>10.0</td>\n",
       "      <td>-9999</td>\n",
       "    </tr>\n",
       "    <tr>\n",
       "      <th>...</th>\n",
       "      <td>...</td>\n",
       "      <td>...</td>\n",
       "      <td>...</td>\n",
       "      <td>...</td>\n",
       "      <td>...</td>\n",
       "      <td>...</td>\n",
       "      <td>...</td>\n",
       "      <td>...</td>\n",
       "      <td>...</td>\n",
       "      <td>...</td>\n",
       "      <td>...</td>\n",
       "      <td>...</td>\n",
       "    </tr>\n",
       "    <tr>\n",
       "      <th>594</th>\n",
       "      <td>FRB20190701A</td>\n",
       "      <td>-9999</td>\n",
       "      <td>-9999</td>\n",
       "      <td>14.6</td>\n",
       "      <td>637.0930</td>\n",
       "      <td>0.0040</td>\n",
       "      <td>1.3</td>\n",
       "      <td>0.2</td>\n",
       "      <td>-9999</td>\n",
       "      <td>1.7</td>\n",
       "      <td>0.3</td>\n",
       "      <td>-9999</td>\n",
       "    </tr>\n",
       "    <tr>\n",
       "      <th>595</th>\n",
       "      <td>FRB20190701B</td>\n",
       "      <td>-9999</td>\n",
       "      <td>-9999</td>\n",
       "      <td>17.5</td>\n",
       "      <td>749.1100</td>\n",
       "      <td>0.0100</td>\n",
       "      <td>1.1</td>\n",
       "      <td>0.5</td>\n",
       "      <td>-9999</td>\n",
       "      <td>1.9</td>\n",
       "      <td>0.7</td>\n",
       "      <td>-9999</td>\n",
       "    </tr>\n",
       "    <tr>\n",
       "      <th>596</th>\n",
       "      <td>FRB20190701C</td>\n",
       "      <td>-9999</td>\n",
       "      <td>-9999</td>\n",
       "      <td>16.8</td>\n",
       "      <td>974.1900</td>\n",
       "      <td>0.0300</td>\n",
       "      <td>0.9</td>\n",
       "      <td>0.5</td>\n",
       "      <td>-9999</td>\n",
       "      <td>2.0</td>\n",
       "      <td>2.0</td>\n",
       "      <td>-9999</td>\n",
       "    </tr>\n",
       "    <tr>\n",
       "      <th>597</th>\n",
       "      <td>FRB20190701D</td>\n",
       "      <td>-9999</td>\n",
       "      <td>-9999</td>\n",
       "      <td>44.8</td>\n",
       "      <td>933.3600</td>\n",
       "      <td>0.0100</td>\n",
       "      <td>1.3</td>\n",
       "      <td>0.7</td>\n",
       "      <td>-9999</td>\n",
       "      <td>9.0</td>\n",
       "      <td>4.0</td>\n",
       "      <td>-9999</td>\n",
       "    </tr>\n",
       "    <tr>\n",
       "      <th>598</th>\n",
       "      <td>FRB20190701E</td>\n",
       "      <td>-9999</td>\n",
       "      <td>-9999</td>\n",
       "      <td>16.7</td>\n",
       "      <td>890.4770</td>\n",
       "      <td>0.0080</td>\n",
       "      <td>0.7</td>\n",
       "      <td>0.3</td>\n",
       "      <td>-9999</td>\n",
       "      <td>2.0</td>\n",
       "      <td>0.5</td>\n",
       "      <td>-9999</td>\n",
       "    </tr>\n",
       "  </tbody>\n",
       "</table>\n",
       "<p>599 rows × 12 columns</p>\n",
       "</div>"
      ],
      "text/plain": [
       "         tns_name    previous_name repeater_name  snr_fitb   dm_fitb  \\\n",
       "0    FRB20180725A  180725.J0613+67         -9999      33.2  715.8090   \n",
       "1    FRB20180727A  180727.J1311+26         -9999      12.2  642.1300   \n",
       "2    FRB20180729A  180729.J1316+55         -9999     206.6  109.5942   \n",
       "3    FRB20180729B  180729.J0558+56         -9999      22.0  317.2240   \n",
       "4    FRB20180730A  180730.J0353+87         -9999      89.8  848.9040   \n",
       "..            ...              ...           ...       ...       ...   \n",
       "594  FRB20190701A            -9999         -9999      14.6  637.0930   \n",
       "595  FRB20190701B            -9999         -9999      17.5  749.1100   \n",
       "596  FRB20190701C            -9999         -9999      16.8  974.1900   \n",
       "597  FRB20190701D            -9999         -9999      44.8  933.3600   \n",
       "598  FRB20190701E            -9999         -9999      16.7  890.4770   \n",
       "\n",
       "     dm_fitb_err  flux  flux_err flux_notes  fluence  fluence_err  \\\n",
       "0         0.0040   2.0       1.0      -9999      4.0          2.0   \n",
       "1         0.0200   0.6       0.3      -9999      2.3          0.8   \n",
       "2         0.0003  12.0       7.0      -9999     20.0         10.0   \n",
       "3         0.0040   0.9       0.6      -9999      1.2          0.7   \n",
       "4         0.0020   5.0       3.0      -9999     30.0         10.0   \n",
       "..           ...   ...       ...        ...      ...          ...   \n",
       "594       0.0040   1.3       0.2      -9999      1.7          0.3   \n",
       "595       0.0100   1.1       0.5      -9999      1.9          0.7   \n",
       "596       0.0300   0.9       0.5      -9999      2.0          2.0   \n",
       "597       0.0100   1.3       0.7      -9999      9.0          4.0   \n",
       "598       0.0080   0.7       0.3      -9999      2.0          0.5   \n",
       "\n",
       "    fluence_notes  \n",
       "0           -9999  \n",
       "1           -9999  \n",
       "2           -9999  \n",
       "3           -9999  \n",
       "4           -9999  \n",
       "..            ...  \n",
       "594         -9999  \n",
       "595         -9999  \n",
       "596         -9999  \n",
       "597         -9999  \n",
       "598         -9999  \n",
       "\n",
       "[599 rows x 12 columns]"
      ]
     },
     "execution_count": 2,
     "metadata": {},
     "output_type": "execute_result"
    }
   ],
   "source": [
    "CHIME = pd.read_csv(\"./data/chimefrb.csv\") #catalog from 07/14\n",
    "CHIME"
   ]
  },
  {
   "cell_type": "code",
   "execution_count": 41,
   "metadata": {},
   "outputs": [],
   "source": [
    "#### unpack FRB-cat1 data published by CHIME ####\n",
    "\n",
    "snr, dm, low_ft_95, up_ft_95, flux, flux_err, fluence, fluence_err, = np.loadtxt(\n",
    "    './data/chimefrbcat1.csv', skiprows=1, usecols=(17, 18, 21, 22, 31, 32, 34, 35), delimiter=',', unpack=True)\n",
    "\n",
    "tns = np.loadtxt('./data/chimefrbcat1.csv', dtype='str', skiprows=1, usecols=(0), delimiter=',')\n",
    "fluence_notes = np.loadtxt('./data/chimefrbcat1.csv', dtype='str', skiprows=1, usecols=36, delimiter=',')\n",
    "\n",
    "## note: low_ft_95, up_ft_95, flux, flux_err, fluence_err never used\n",
    "##       tns, fluence_notes are never used\n",
    "## only snr, dm, fluence are relevant\n",
    "\n",
    "#### define minimmum fluence for each event #####\n",
    "\n",
    "MIN_SNR = 12 # approx. threshold, according to CHIME's cat1 paper\n",
    "min_fluence = fluence * (MIN_SNR / snr) # scale reported fluence 'snr' by SNR ratio"
   ]
  },
  {
   "cell_type": "code",
   "execution_count": 42,
   "metadata": {},
   "outputs": [],
   "source": [
    "dm_new = np.array(CHIME['dm_fitb'])\n",
    "snr_new = np.array(CHIME['snr_fitb'])\n",
    "fluence_new = np.array(CHIME['fluence'])\n",
    "MIN_SNR = 12\n",
    "min_fluence_new = fluence_new * MIN_SNR/snr_new"
   ]
  },
  {
   "cell_type": "code",
   "execution_count": 51,
   "metadata": {},
   "outputs": [
    {
     "data": {
      "text/plain": [
       "<matplotlib.collections.PathCollection at 0x7f7fa0b83340>"
      ]
     },
     "execution_count": 51,
     "metadata": {},
     "output_type": "execute_result"
    },
    {
     "data": {
      "image/png": "[encoded data removed]",
      "text/plain": [
       "<Figure size 432x288 with 1 Axes>"
      ]
     },
     "metadata": {
      "needs_background": "light"
     },
     "output_type": "display_data"
    }
   ],
   "source": [
    "plt.scatter(dm_new, fluence_new, marker='.')\n",
    "plt.scatter(dm, fluence, marker='.')"
   ]
  },
  {
   "cell_type": "code",
   "execution_count": 63,
   "metadata": {},
   "outputs": [
    {
     "data": {
      "text/plain": [
       "0.0"
      ]
     },
     "execution_count": 63,
     "metadata": {},
     "output_type": "execute_result"
    }
   ],
   "source": [
    "sum(abs(fluence-fluence_new))"
   ]
  },
  {
   "cell_type": "code",
   "execution_count": 43,
   "metadata": {},
   "outputs": [],
   "source": [
    "import sys\n",
    "import os\n",
    "sys.path.append(os.path.abspath(\"../petrosianfuncs/\"))\n",
    "import cosmology as c\n",
    "# rs = c.z_DM(DM)\n",
    "\n",
    "K_MACQUART = 700/0.7 # approx. value of the proportionality constant linking redshift and dispersion\n",
    "ISM = 30 # ansatz of interstellar medium's contribution to disperson, in pc cm-3\n",
    "HALO = 50 # ansatz of MW's halo contribution to disperson, in pc cm-3\n",
    "\n",
    "'''\n",
    "function 'dm_ex' returns the extragalactic contribution to an FRB's total dispersion measure (dm_tot)\n",
    "provided approx. values of the dispersion due to the interstellar medium (ISM) and the MW's halo (HALO)\n",
    "'''\n",
    "def dm_ex(dm_tot, dm_ism=ISM, dm_halo=HALO):\n",
    "    return dm_tot - (dm_ism + dm_halo)\n",
    "\n",
    "'''\n",
    "function 'get_z' takes a dispersion measure and ansatz of the Macquart relation \n",
    "and returns corresponding redshift\n",
    "'''\n",
    "def get_z(dm, k=K_MACQUART):\n",
    "    y = dm_ex(dm)\n",
    "    arr = np.roots([1, (1 - y/k), ((1/k)*(50 - y))]) # apply Macquart relation\n",
    "    zeroes = np.argwhere(arr > 0).flatten()\n",
    "    if len(zeroes) > 0:\n",
    "        return arr[zeroes].item()\n",
    "    else:\n",
    "        return 0\n",
    "\n",
    "rs = []\n",
    "rs_new = []\n",
    "\n",
    "for i, dm_i in enumerate(dm):\n",
    "    rs.append(get_z(dm_i))\n",
    "\n",
    "for i, dm_i in enumerate(dm_new):\n",
    "    rs_new.append(get_z(dm_i))\n",
    "    \n",
    "rs = np.array(rs)\n",
    "rs_new = np.array(rs_new)"
   ]
  },
  {
   "cell_type": "code",
   "execution_count": 45,
   "metadata": {},
   "outputs": [],
   "source": [
    "#help(c.DM)\n",
    "#help(c.z_DM)\n",
    "#help(c.D_L)\n",
    "lum = c.E_v(fluence, rs, alpha=1)*1e4/c.JYMS\n",
    "min_lum = c.E_v(min_fluence, rs, alpha=1)*1e4/c.JYMS\n",
    "\n",
    "lum_new = c.E_v(fluence_new, rs_new, alpha=1)*1e4/c.JYMS\n",
    "min_lum_new = c.E_v(min_fluence_new, rs_new, alpha=1)*1e4/c.JYMS\n",
    "\n",
    "# to match Story's code, multiply by 1e4/c.JYMS"
   ]
  },
  {
   "cell_type": "code",
   "execution_count": 48,
   "metadata": {},
   "outputs": [
    {
     "data": {
      "text/plain": [
       "(1e+54, 1e+60)"
      ]
     },
     "execution_count": 48,
     "metadata": {},
     "output_type": "execute_result"
    },
    {
     "data": {
      "image/png": "[encoded data removed]",
      "text/plain": [
       "<Figure size 432x288 with 1 Axes>"
      ]
     },
     "metadata": {
      "needs_background": "light"
     },
     "output_type": "display_data"
    }
   ],
   "source": [
    "plt.scatter(min_lum, lum, marker='.')\n",
    "plt.scatter(min_lum_new, lum_new, marker='.')\n",
    "plt.yscale('log')\n",
    "plt.xscale('log')\n",
    "plt.xlim([1e54, 1e60])\n",
    "plt.ylim([1e54, 1e60])"
   ]
  },
  {
   "cell_type": "markdown",
   "metadata": {},
   "source": [
    "# Differences Thus Far\n",
    "- DM function different: more sophisticated DM model, but I don't subtract 30 and 50 for ISM and HALO contributions\n",
    "- get z from DM function different: mine is more sophisticated due to Arcus/Zhang DM model\n",
    "- L and MIN_L have different units"
   ]
  },
  {
   "cell_type": "code",
   "execution_count": 22,
   "metadata": {},
   "outputs": [],
   "source": [
    "# def truncate_and_evolve(x, y, rs, evo=None):\n",
    "#     if evo is None:\n",
    "#         evo = np.ones(len(x))\n",
    "#     return x[y > x], y[y > x]/evo[y > x], evo[y > x], rs[y > x]\n",
    "\n",
    "# min_lum_trunc, lum_trunc, evo_trunc, rs_trunc = truncate_and_evolve(MIN_L, L, rs)\n",
    "\n",
    "def truncate(x, y, evo=np.ones(len(fluence))):\n",
    "\n",
    "    x_trunc = []\n",
    "    y_trunc = []\n",
    "    evo_trunc = []\n",
    "    rs_trunc = []\n",
    "\n",
    "    for i in range(len(x)):\n",
    "        if (y[i] / evo[i]) > ((x[i] / evo[i])):\n",
    "            x_trunc.append(x[i])\n",
    "            y_trunc.append(y[i] / evo[i])\n",
    "            evo_trunc.append(evo[i])\n",
    "            rs_trunc.append(rs[i])\n",
    "            \n",
    "    return x_trunc, y_trunc, evo_trunc, rs_trunc\n",
    "\n",
    "min_lum_trunc, lum_trunc, evo_trunc, rs_trunc = np.array(truncate(min_lum, lum))"
   ]
  },
  {
   "cell_type": "code",
   "execution_count": 23,
   "metadata": {},
   "outputs": [],
   "source": [
    "#### assign ranks to redshifts in increasing order ####\n",
    "\n",
    "def get_x_ranks(x, y, evo=np.ones(len(lum_trunc))):\n",
    "    \n",
    "    x_inc = np.argsort(x)\n",
    "    \n",
    "    x_ranks = []\n",
    "    x_assoc_sets = []\n",
    "    \n",
    "    # iterate through redshift array, find associated set for each: all lum > lum(event i) with rs < rs(event i)\n",
    "    for i in range(len(x)):\n",
    "        curr = x_inc[i] # current event being analyzed\n",
    "        y_assoc = []\n",
    "\n",
    "        # iterate through luminosities, enforcing associated set constraints\n",
    "        for j in range(len(y)):\n",
    "            if y[j] > (x[curr] / evo[curr]) and x[j] < x[curr]:\n",
    "                y_assoc.append(y[j])\n",
    "                \n",
    "        x_assoc_sets.append(len(y_assoc)) # number of events in current associated set\n",
    "        y_assoc.append(y[curr])\n",
    "    \n",
    "        args = np.argwhere(np.sort(y_assoc) == y[curr])\n",
    "        if len(args) > 1:\n",
    "            x_ranks.append(np.average(args) + 1)  \n",
    "        else:\n",
    "            x_ranks.append(args[0,0] + 1)\n",
    "            \n",
    "    return x_ranks, x_assoc_sets\n",
    "\n",
    "#### construct arrays for ranks of each redshift, and associated set of each redshift ####\n",
    "\n",
    "x_ranks, x_assoc_sets = np.asarray(get_x_ranks(min_lum_trunc, lum_trunc))"
   ]
  },
  {
   "cell_type": "code",
   "execution_count": 24,
   "metadata": {},
   "outputs": [],
   "source": [
    "#### construct normalized rank statistic vector 'T' ####\n",
    "\n",
    "def get_T(ranks, sets):\n",
    "    \n",
    "    t = []\n",
    "    \n",
    "    for i in range(len(ranks)):\n",
    "        n = sets[i] + 1\n",
    "        if n > 1:\n",
    "            mu = .5 * (1 + n)      # uniform RV expectation val\n",
    "            var = (n**2 - 1) / 12  # uniform RV variance\n",
    "            t.append((ranks[i] - mu) / float(math.sqrt(var)))\n",
    "    return t\n",
    "\n",
    "T = get_T(x_ranks, x_assoc_sets)\n",
    "p = math.sqrt(len(T)) \n",
    "t_bar = np.sum(np.asarray(T) / (p**2))\n",
    "\n",
    "#### construct kendall test statistic t_k using normal approx. ####\n",
    "\n",
    "def t_kendall(vec, w=np.ones(len(T) + 1)):\n",
    "    \n",
    "    t_k = 0\n",
    "\n",
    "    for i, t in enumerate(vec):\n",
    "        t_k += w[i]*t\n",
    "    \n",
    "    return t_k / float(math.sqrt(np.sum(w**2)))"
   ]
  },
  {
   "cell_type": "code",
   "execution_count": 25,
   "metadata": {},
   "outputs": [],
   "source": [
    "#### function which enables luminosity evolution as function of redshift and critical redshift ####\n",
    "\n",
    "x_cr = 3.5\n",
    "\n",
    "def get_evos(x, g):\n",
    "    \n",
    "    evo_low = x **g\n",
    "    evo_hi = x **g * (1 + x_cr**g) / (x**g + x_cr**g)  #ansatz for luminosity evolution beyond critical redshift\n",
    "    \n",
    "    evos = []\n",
    "    \n",
    "    for i, val in enumerate(x):\n",
    "        if val <= x_cr:\n",
    "            evos.append(evo_low[i])\n",
    "        else:\n",
    "            evos.append(evo_hi[i])\n",
    "            \n",
    "    return np.asarray(evos)\n",
    "\n",
    "#### function which computes the kendall statistic of a luminosity-evolution correction to CHIME cat1 ####\n",
    "\n",
    "def kendall_evo(g):\n",
    "    \n",
    "    Z = 1 + rs\n",
    "    evos = get_evos(Z, g)\n",
    "    \n",
    "    x_evos, y_evos, evos_trunc, rs_trunc = truncate(min_lum, lum, evo=evos)\n",
    "    x_ranks, x_assoc_sets = np.array(get_x_ranks(x_evos, y_evos, evos_trunc))\n",
    "    T = get_T(x_ranks, x_assoc_sets)\n",
    "    \n",
    "    return t_kendall(T), rs_trunc"
   ]
  },
  {
   "cell_type": "code",
   "execution_count": 26,
   "metadata": {},
   "outputs": [],
   "source": [
    "g_space = np.linspace(2, 4.5, 20)\n",
    "y = []\n",
    "y_new = []\n",
    "\n",
    "for i, val in enumerate(g_space):\n",
    "    y.append(kendall_evo(val)[0])"
   ]
  },
  {
   "cell_type": "code",
   "execution_count": 27,
   "metadata": {},
   "outputs": [
    {
     "data": {
      "text/plain": [
       "<matplotlib.collections.PathCollection at 0x7f7fbd74a2b0>"
      ]
     },
     "execution_count": 27,
     "metadata": {},
     "output_type": "execute_result"
    },
    {
     "data": {
      "image/png": "[encoded data removed]",
      "text/plain": [
       "<Figure size 432x288 with 1 Axes>"
      ]
     },
     "metadata": {
      "needs_background": "light"
     },
     "output_type": "display_data"
    }
   ],
   "source": [
    "plt.scatter(g_space, y)"
   ]
  },
  {
   "cell_type": "code",
   "execution_count": null,
   "metadata": {},
   "outputs": [],
   "source": []
  }
 ],
 "metadata": {
  "kernelspec": {
   "display_name": "Python 3.9.12 ('2022')",
   "language": "python",
   "name": "python3"
  },
  "language_info": {
   "codemirror_mode": {
    "name": "ipython",
    "version": 3
   },
   "file_extension": ".py",
   "mimetype": "text/x-python",
   "name": "python",
   "nbconvert_exporter": "python",
   "pygments_lexer": "ipython3",
   "version": "3.9.12"
  },
  "orig_nbformat": 4,
  "vscode": {
   "interpreter": {
    "hash": "8ef6c2603613cee003e8dc1202cc215413d5752975eb5ab63e282753c2927b8a"
   }
  }
 },
 "nbformat": 4,
 "nbformat_minor": 2
}
