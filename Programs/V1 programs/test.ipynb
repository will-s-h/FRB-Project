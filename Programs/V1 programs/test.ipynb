{
 "cells": [
  {
   "cell_type": "code",
   "execution_count": 26,
   "metadata": {},
   "outputs": [],
   "source": [
    "import numpy as np\n",
    "import math\n",
    "import matplotlib.pyplot as plt\n",
    "\n",
    "L_p = np.array([2.13336814e+35, 1.13369761e+35, 2.33097518e+35, 1.13332024e+34,\n",
    "       5.98133924e+34, 8.18257210e+34, 1.73097018e+35, 3.24324377e+34,\n",
    "       1.73097018e+35, 1.18335288e+34, 1.78642665e+35, 2.34174926e+34,\n",
    "       1.09450593e+34, 1.68941463e+36, 1.24665226e+35, 6.93572362e+34,\n",
    "       1.45722728e+35, 4.59941243e+34, 2.34302449e+35, 1.71472117e+34,\n",
    "       1.11513351e+35, 4.86624761e+34, 1.07487886e+35, 2.54841509e+34,\n",
    "       2.83789752e+34, 2.26804336e+35, 4.82140057e+34, 1.23868121e+34,\n",
    "       3.98034463e+33, 1.17219436e+34, 4.15212544e+32, 7.23783865e+34,\n",
    "       2.74984673e+34, 1.45018806e+34, 3.52426220e+34, 5.21193301e+33,\n",
    "       2.02640817e+34, 3.50357719e+33, 4.40213012e+34, 1.87352002e+34,\n",
    "       7.90624394e+33, 4.75457273e+33, 1.64159139e+34, 3.40313381e+33,\n",
    "       9.23177394e+33, 2.04900039e+34, 5.92380816e+34, 4.41464007e+34,\n",
    "       1.29684380e+34, 1.68849400e+35, 2.43651278e+35, 2.79508932e+34,\n",
    "       4.49174581e+34, 1.03549551e+35, 2.75959649e+32, 4.51577622e+33,\n",
    "       2.64305786e+33, 5.27654375e+32, 3.54700997e+32, 3.27600381e+34,\n",
    "       4.20429263e+33, 4.10960200e+32])\n",
    "\n",
    "z = np.array([0.48, 0.4 , 0.79, 0.17, 0.23, 0.29, 0.35, 0.22, 0.35, 0.06, 0.49,\n",
    "       0.1 , 0.14, 0.56, 0.31, 0.34, 0.38, 0.25, 0.51, 0.11, 0.37, 0.3 ,\n",
    "       0.37, 0.08, 0.2 , 0.3 , 0.34, 0.3 , 0.57, 0.95, 0.19, 0.28, 0.72,\n",
    "       0.14, 0.76, 0.56, 0.89, 0.43, 1.3 , 0.74, 0.35, 0.69, 0.59, 0.44,\n",
    "       0.57, 0.49, 1.2 , 1.5 , 0.8 , 2.1 , 1.57, 0.19, 2.  , 1.6 , 0.13,\n",
    "       0.29, 0.42, 0.21, 0.16, 1.08, 0.43, 0.21])\n",
    "\n",
    "d_L = np.array([ 2.72,  2.21,  5.03,  0.8 ,  1.15,  1.52,  1.89,  1.11,  1.89,\n",
    "        0.29,  2.76,  0.47,  0.66,  3.32,  1.6 ,  1.82,  2.06,  1.29,\n",
    "        2.97,  0.52,  2.  ,  1.57,  2.03,  0.38,  0.99,  1.55,  1.81,\n",
    "        1.57,  3.33,  6.26,  0.92,  1.42,  4.49,  0.67,  4.76,  3.3 ,\n",
    "        5.82,  2.42,  9.25,  4.6 ,  1.86,  4.25,  3.5 ,  2.46,  3.32,\n",
    "        2.79,  8.41, 11.09,  5.08, 16.8 , 11.73,  0.92, 15.82, 12.01,\n",
    "        0.62,  1.49,  2.35,  1.05,  0.77,  7.4 ,  2.42,  1.07])"
   ]
  },
  {
   "cell_type": "code",
   "execution_count": 27,
   "metadata": {},
   "outputs": [],
   "source": [
    "def g_new(z, k): #The improved g-function, which transforms luminosities\n",
    "    Z = z+1\n",
    "    Z_c = 3.5\n",
    "    return Z**k/(1+Z/Z_c)**k\n",
    "\n",
    "def L_lim1(F_lim, z_i, d_Li, g=g_new, k=0): #finds the limiting luminosity using flux, luminosity distance, and g\n",
    "    return (F_lim*1e-19)*4*math.pi*(d_Li*3.08567758e25)**2/g(z_i, k)\n",
    "\n",
    "def new_L(L, z, k=0, g=g_new):\n",
    "    return [L[i]/g(z[i], k) for i in range(len(L))]\n",
    "\n",
    "def sort_by_1(*args, reverse=False):\n",
    "    thing = zip(*sorted(zip(*args), reverse=reverse))\n",
    "    return [list(thang) for thang in thing]"
   ]
  },
  {
   "cell_type": "code",
   "execution_count": 28,
   "metadata": {},
   "outputs": [],
   "source": [
    "ASKAP = (slice(0,27), 'ASKAP', 14.8, '#1f77b4')\n",
    "PARKES = (slice(27,54), 'Parkes', 0.15, '#ff7f0e')\n",
    "NEW_PARKES = (slice(27,54), 'Parkes', 0.30, '#ff7f0e')\n",
    "NN_PARKES = (slice(27,54), 'Parkes', 0.31, '#ff7f0e')\n",
    "CHIME = (slice(54,62), 'CHIME', 0.30, '#2ca02c')\n",
    "ALL = (slice(0,62), 'All FRBs', 0.30, '#1f77b4')"
   ]
  },
  {
   "cell_type": "code",
   "execution_count": 43,
   "metadata": {},
   "outputs": [],
   "source": [
    "def sigma_z(L, z, d_L, k=0, func=L_lim1, g=g_new, TELESCOPE=ALL): #z0 being the z of interest\n",
    "    \n",
    "    tel, telname, F_LIM, color = TELESCOPE\n",
    "    \n",
    "    L = new_L(L, z, k=k)\n",
    "    z, L, d_L = sort_by_1(z[tel], L[tel], d_L[tel])\n",
    "    \n",
    "    fig, ax = plt.subplots()\n",
    "    ax.scatter(z, L)\n",
    "    ax.set_yscale('log')\n",
    "    ax.set_xscale('log')\n",
    "    \n",
    "    zs_actual = []\n",
    "    m = []\n",
    "    for i in range(len(L)):\n",
    "        num = 0\n",
    "        \n",
    "        if(L[i] < func(F_LIM, z[i], d_L[i], g=g, k=k)): #skip all those under limit\n",
    "            print(z[i])\n",
    "            continue\n",
    "        \n",
    "        #if above limit, add to list of indices\n",
    "        zs_actual.append(z[i])\n",
    "        \n",
    "        for j in range(0, i): #since sorted by now, only j < i has z_j < z_i\n",
    "            if(L[j] >= func(F_LIM, z[i], d_L[i], g=g) and z[j] <= z[i]): #associated set requirements\n",
    "                num += 1\n",
    "        \n",
    "        m.append(num+1) #includes itself?\n",
    "    \n",
    "    sigma = []\n",
    "    prod = 1\n",
    "    for j in range(len(m)):\n",
    "        prod *= (1 + 1/m[j])\n",
    "        sigma.append(prod)\n",
    "    \n",
    "    return sigma, zs_actual"
   ]
  },
  {
   "cell_type": "code",
   "execution_count": null,
   "metadata": {},
   "outputs": [],
   "source": [
    "\n",
    "\n"
   ]
  },
  {
   "cell_type": "code",
   "execution_count": null,
   "metadata": {},
   "outputs": [],
   "source": []
  },
  {
   "cell_type": "code",
   "execution_count": 45,
   "metadata": {},
   "outputs": [
    {
     "name": "stdout",
     "output_type": "stream",
     "text": [
      "0.69\n",
      "0.95\n",
      "1.5\n",
      "2.0\n",
      "0.69\n",
      "0.95\n",
      "1.5\n",
      "2.0\n",
      "0.69\n",
      "0.95\n",
      "1.5\n",
      "2.0\n"
     ]
    },
    {
     "data": {
      "image/png": "[encoded data removed]",
      "text/plain": [
       "<Figure size 432x288 with 1 Axes>"
      ]
     },
     "metadata": {
      "needs_background": "light"
     },
     "output_type": "display_data"
    },
    {
     "data": {
      "image/png": "[encoded data removed]",
      "text/plain": [
       "<Figure size 432x288 with 1 Axes>"
      ]
     },
     "metadata": {
      "needs_background": "light"
     },
     "output_type": "display_data"
    },
    {
     "data": {
      "image/png": "[encoded data removed]",
      "text/plain": [
       "<Figure size 432x288 with 1 Axes>"
      ]
     },
     "metadata": {
      "needs_background": "light"
     },
     "output_type": "display_data"
    }
   ],
   "source": [
    "sigma0, z_0 = sigma_z(L_p, z, d_L, k=0, TELESCOPE=NEW_PARKES)\n",
    "sigma2, z_2 = sigma_z(L_p, z, d_L, k=2, TELESCOPE=NEW_PARKES)\n",
    "sigma4, z_4 = sigma_z(L_p, z, d_L, k=4, TELESCOPE=NEW_PARKES)"
   ]
  },
  {
   "cell_type": "code",
   "execution_count": 32,
   "metadata": {},
   "outputs": [],
   "source": [
    "rawL = L_p[27:54]\n",
    "rawz = z[27:54]\n",
    "rawdL = d_L[27:54]\n",
    "\n",
    "rawL = np.delete(rawL, [14,2,25])\n",
    "rawz = np.delete(rawz, [14,2,25])\n",
    "rawdL = np.delete(rawdL, [14,2,25])\n",
    "\n",
    "def rawLF(L_p, z, d_L):\n",
    "    z_, L_p_, d_L_ = sort_by_1(z, L_p, d_L)\n",
    "    N = [i for i in range(1, len(z_)+1)] # 1 to N inclusive\n",
    "    return z_, N\n",
    "\n",
    "z_, N = rawLF(rawL, rawz, rawdL)"
   ]
  },
  {
   "cell_type": "code",
   "execution_count": 33,
   "metadata": {},
   "outputs": [
    {
     "data": {
      "image/png": "[encoded data removed]",
      "text/plain": [
       "<Figure size 432x288 with 1 Axes>"
      ]
     },
     "metadata": {
      "needs_background": "light"
     },
     "output_type": "display_data"
    }
   ],
   "source": [
    "fig, ax = plt.subplots()\n",
    "ax.scatter(np.log10(1+np.array(z_0)), np.log10(sigma0), label='k=0')\n",
    "ax.scatter(np.log10(1+np.array(z_2)), np.log10(sigma2), label='k=2', marker='x')\n",
    "ax.scatter(np.log10(1+np.array(z_4)), np.log10(sigma4), label='k=4', marker='v')\n",
    "#plt.xlim([0, 0.6])\n",
    "plt.ylim([0, 2.6])\n",
    "plt.title(f'log(dot σ(z)) vs. log(1+z)')\n",
    "plt.xlabel('log(1+z)')\n",
    "plt.ylabel('log(dot σ(z))')\n",
    "\n",
    "ax.scatter(np.log10(1+np.array(z_)), np.log10(np.array(N)+1), label='raw N(<z)', color='black')\n",
    "\n",
    "#plt.ylabel('log N(<z)')\n",
    "#plt.xlabel('log (1+z)')\n",
    "#plt.title('log N(<z) vs. log(1+z)')\n",
    "\n",
    "ax.legend()\n",
    "\n",
    "#plt.savefig('dotsigma.png', dpi=300)\n",
    "plt.show()\n"
   ]
  },
  {
   "cell_type": "code",
   "execution_count": null,
   "metadata": {},
   "outputs": [],
   "source": []
  },
  {
   "cell_type": "code",
   "execution_count": null,
   "metadata": {},
   "outputs": [],
   "source": []
  }
 ],
 "metadata": {
  "kernelspec": {
   "display_name": "Python 3",
   "language": "python",
   "name": "python3"
  },
  "language_info": {
   "codemirror_mode": {
    "name": "ipython",
    "version": 3
   },
   "file_extension": ".py",
   "mimetype": "text/x-python",
   "name": "python",
   "nbconvert_exporter": "python",
   "pygments_lexer": "ipython3",
   "version": "3.7.3"
  }
 },
 "nbformat": 4,
 "nbformat_minor": 2
}
