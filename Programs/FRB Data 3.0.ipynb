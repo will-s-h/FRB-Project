{
 "cells": [
  {
   "cell_type": "markdown",
   "metadata": {},
   "source": [
    "# Goals of this Notebook\n",
    "\n",
    "- combine Story's and my analysis into one pipeline\n",
    "- analyze and highlight differences between Story's and my analysis, make it easy to transition between the two with the change of a parameter"
   ]
  },
  {
   "cell_type": "code",
   "execution_count": 3,
   "metadata": {},
   "outputs": [],
   "source": [
    "%matplotlib inline\n",
    "import matplotlib.pyplot as plt\n",
    "import numpy as np\n",
    "import math\n",
    "import pandas as pd\n",
    "\n",
    "import sys\n",
    "import os \n",
    "sys.path.append(os.path.abspath(\"../frbfuncs/\"))\n",
    "import cosmology as c \n",
    "import deprecated_cosmology as d"
   ]
  },
  {
   "cell_type": "markdown",
   "metadata": {},
   "source": [
    "# Data"
   ]
  },
  {
   "cell_type": "markdown",
   "metadata": {},
   "source": [
    "## variables to use:\n",
    "- Story's dataset: dm, fluence, min_fluence, snr\n",
    "- new CHIME dataset: dm_new, fluence_new, min_fluence_new, snr_new"
   ]
  },
  {
   "cell_type": "code",
   "execution_count": 4,
   "metadata": {},
   "outputs": [],
   "source": [
    "import cfod\n",
    "from cfod import catalog\n",
    "CHIME = catalog.as_dataframe()\n",
    "\n",
    "#### unpack FRB-cat1 data published by CHIME ####\n",
    "\n",
    "snr, dm, low_ft_95, up_ft_95, flux, flux_err, fluence, fluence_err, = np.loadtxt(\n",
    "    './data/chimefrbcat1.csv', skiprows=1, usecols=(17, 18, 21, 22, 31, 32, 34, 35), delimiter=',', unpack=True)\n",
    "\n",
    "## note: low_ft_95, up_ft_95, flux, flux_err, fluence_err never used\n",
    "##       tns, fluence_notes are never used\n",
    "## only snr, dm, fluence are relevant\n",
    "\n",
    "#### define minimmum fluence for each event #####\n",
    "\n",
    "MIN_SNR = 12 # approx. threshold, according to CHIME's cat1 paper\n",
    "min_fluence = fluence * (MIN_SNR / snr) # scale reported fluence 'snr' by SNR ratio\n",
    "del fluence_err, flux, flux_err, low_ft_95, up_ft_95\n",
    "\n",
    "dm_new = np.array(CHIME['dm_fitb'])\n",
    "snr_new = np.array(CHIME['snr_fitb'])\n",
    "fluence_new = np.array(CHIME['fluence'])\n",
    "MIN_SNR = 12\n",
    "min_fluence_new = fluence_new * MIN_SNR/snr_new\n",
    "del CHIME, MIN_SNR, catalog"
   ]
  },
  {
   "cell_type": "markdown",
   "metadata": {},
   "source": [
    "# DM-z relation"
   ]
  },
  {
   "cell_type": "markdown",
   "metadata": {},
   "source": [
    "## Functions to Use\n",
    "- get_z_story(dm): Story's function\n",
    "- get_z(dm): my function\n",
    "\n",
    "$$z^2 + (1- \\frac{DM}{k})z + \\frac{1}{k}(50-DM) = 0$$"
   ]
  },
  {
   "cell_type": "code",
   "execution_count": 4,
   "metadata": {},
   "outputs": [],
   "source": [
    "#remove excess DM\n",
    "def dm_ex(dm_tot, dm_ism=30, dm_halo=50):\n",
    "    return dm_tot - (dm_ism + dm_halo)\n",
    "\n",
    "#Story's get_z function\n",
    "def get_z_story(dm, k=700/0.7):\n",
    "    if type(dm) is np.ndarray:\n",
    "        arr = np.zeros(len(dm))\n",
    "        for i, dm_i in enumerate(dm):\n",
    "            arr[i] = get_z_story(dm_i)\n",
    "        return arr\n",
    "    \n",
    "    y = dm_ex(dm)\n",
    "    arr = np.roots([1, (1 - y/k), ((1/k)*(50 - y))]) # apply Macquart relation\n",
    "    zeroes = np.argwhere(arr > 0).flatten()\n",
    "    if len(zeroes) > 0:\n",
    "        return arr[zeroes].item()\n",
    "    else:\n",
    "        return 0\n",
    "\n",
    "#my get_z function\n",
    "def get_z(dm, func=\"Arcus\", fast=False):\n",
    "    y = dm_ex(dm)\n",
    "    return c.z_DM(y, func=func, fast=fast)"
   ]
  },
  {
   "cell_type": "code",
   "execution_count": 7,
   "metadata": {},
   "outputs": [
    {
     "data": {
      "text/plain": [
       "<matplotlib.legend.Legend at 0x7f7b19d1dc70>"
      ]
     },
     "execution_count": 7,
     "metadata": {},
     "output_type": "execute_result"
    },
    {
     "data": {
      "image/png": "[encoded data removed]",
      "text/plain": [
       "<Figure size 432x288 with 1 Axes>"
      ]
     },
     "metadata": {
      "needs_background": "light"
     },
     "output_type": "display_data"
    }
   ],
   "source": [
    "DM = np.linspace(0, 6000, 10)\n",
    "plt.scatter(DM, get_z_story(DM), label='Story')\n",
    "plt.scatter(DM, get_z(DM, \"Zhang\"), label='inversion method')\n",
    "plt.legend()"
   ]
  },
  {
   "cell_type": "code",
   "execution_count": 11,
   "metadata": {},
   "outputs": [
    {
     "data": {
      "text/plain": [
       "array([ 8.00000000e+01, -2.04998400e-06,  1.08882432e-08, -3.89484285e-08,\n",
       "        4.30923046e-06, -8.59795364e-08, -1.91849949e-06,  7.35587491e-07,\n",
       "       -2.88173396e-08, -1.13759597e-06])"
      ]
     },
     "execution_count": 11,
     "metadata": {},
     "output_type": "execute_result"
    }
   ],
   "source": [
    "c.DM(get_z(DM, \"Zhang\"), dDMdz=c.dDMdz_Zhang)+80 - DM"
   ]
  },
  {
   "cell_type": "markdown",
   "metadata": {},
   "source": [
    "# Luminosity Function\n",
    "\n",
    "The general E_v function allows for any $\\alpha$ and returns $\\displaystyle L = \\frac{4\\pi D_L(z)^2}{(1+z)^{2-\\alpha}} F$.\n",
    "- Story's code uses $\\alpha = 1$\n",
    "- My original code uses $\\alpha = 1.5$\n",
    "- try a couple different values: $\\alpha = 0.5, 1$"
   ]
  },
  {
   "cell_type": "code",
   "execution_count": 5,
   "metadata": {},
   "outputs": [],
   "source": [
    "def get_L(fluence, rs, alpha=1):\n",
    "    return c.E_v(fluence, rs, alpha=alpha)"
   ]
  },
  {
   "cell_type": "markdown",
   "metadata": {},
   "source": [
    "# Differences in Kendall Tau Implementation\n",
    "\n",
    "## Variables in Kendall Tau Calculation\n",
    "- Story: $L$ and $L_{\\mathrm{lim}}$\n",
    "- Mine: $L$ vs $z$, with cutoff function\n",
    "\n",
    "## Evolution Function\n",
    "- Story evolves using the function \n",
    "$$g(z, \\gamma) = x^\\gamma \\cdot \\begin{cases} \n",
    "1 & x \\leq x_{\\mathrm{cr}}\\\\\n",
    "\\displaystyle \\frac{1 + x_\\mathrm{cr}^\\gamma}{x^\\gamma + x_\\mathrm{cr}^\\gamma} & x > x_\\mathrm{cr}\n",
    "\\end{cases}$$\n",
    "(not really dimensionally accurate)\n",
    "- my evolves using two functions\n",
    "    - $g(z, k) = $\n",
    "- **use original g(z,k) equation with Z^k/(1+(Z/Z_Cr)^n)^(k/n)**\n",
    "\n",
    "## Implementation of Evolution\n",
    "- story: evolves only L\n",
    "- mine: evolves both L and L_min\n",
    "\n",
    "## Rank Calculation\n",
    "- story: averages those with same $y$ value\n",
    "- mine: $\\leq$ is considered lower, $>$ considered higher\n",
    "\n",
    "\n",
    "## TODO\n",
    "- use dataset without ties\n",
    "- break ties arbitrarily\n",
    "- try different alpha values\n",
    "- use original $g(z,k)$ function\n",
    "- obtain working value of $k$, begin working from there\n",
    "- can mention ASKAP and Parkes in paper, but CHIME clearly has more data. can see if those give similar results; if so, encouraging.\n",
    "\n",
    "## More Stuff\n",
    "- \n",
    "- (optional) re-run simulations for kendall tau, can be included as an appendix for how good the Efron-Petrosian method is\n"
   ]
  },
  {
   "cell_type": "code",
   "execution_count": null,
   "metadata": {},
   "outputs": [],
   "source": []
  }
 ],
 "metadata": {
  "kernelspec": {
   "display_name": "Python 3.9.12 ('2022')",
   "language": "python",
   "name": "python3"
  },
  "language_info": {
   "codemirror_mode": {
    "name": "ipython",
    "version": 3
   },
   "file_extension": ".py",
   "mimetype": "text/x-python",
   "name": "python",
   "nbconvert_exporter": "python",
   "pygments_lexer": "ipython3",
   "version": "3.9.12"
  },
  "orig_nbformat": 4,
  "vscode": {
   "interpreter": {
    "hash": "8ef6c2603613cee003e8dc1202cc215413d5752975eb5ab63e282753c2927b8a"
   }
  }
 },
 "nbformat": 4,
 "nbformat_minor": 2
}
