{
 "cells": [
  {
   "cell_type": "markdown",
   "metadata": {},
   "source": [
    "# Story's Analysis"
   ]
  },
  {
   "cell_type": "code",
   "execution_count": 45,
   "metadata": {},
   "outputs": [],
   "source": [
    "%matplotlib inline\n",
    "import matplotlib.pyplot as plt\n",
    "import numpy as np\n",
    "import math\n",
    "import pandas as pd"
   ]
  },
  {
   "cell_type": "code",
   "execution_count": 65,
   "metadata": {},
   "outputs": [
    {
     "data": {
      "text/html": [
       "<div>\n",
       "<style scoped>\n",
       "    .dataframe tbody tr th:only-of-type {\n",
       "        vertical-align: middle;\n",
       "    }\n",
       "\n",
       "    .dataframe tbody tr th {\n",
       "        vertical-align: top;\n",
       "    }\n",
       "\n",
       "    .dataframe thead th {\n",
       "        text-align: right;\n",
       "    }\n",
       "</style>\n",
       "<table border=\"1\" class=\"dataframe\">\n",
       "  <thead>\n",
       "    <tr style=\"text-align: right;\">\n",
       "      <th></th>\n",
       "      <th>sp_idx</th>\n",
       "      <th>sp_idx_err</th>\n",
       "      <th>sp_run</th>\n",
       "      <th>sp_run_err</th>\n",
       "    </tr>\n",
       "  </thead>\n",
       "  <tbody>\n",
       "    <tr>\n",
       "      <th>0</th>\n",
       "      <td>38.20</td>\n",
       "      <td>3.70</td>\n",
       "      <td>-45.80</td>\n",
       "      <td>4.20</td>\n",
       "    </tr>\n",
       "    <tr>\n",
       "      <th>1</th>\n",
       "      <td>3.80</td>\n",
       "      <td>1.80</td>\n",
       "      <td>-9.20</td>\n",
       "      <td>3.00</td>\n",
       "    </tr>\n",
       "    <tr>\n",
       "      <th>2</th>\n",
       "      <td>16.46</td>\n",
       "      <td>0.24</td>\n",
       "      <td>-30.21</td>\n",
       "      <td>0.38</td>\n",
       "    </tr>\n",
       "    <tr>\n",
       "      <th>3</th>\n",
       "      <td>14.50</td>\n",
       "      <td>3.50</td>\n",
       "      <td>-14.60</td>\n",
       "      <td>3.50</td>\n",
       "    </tr>\n",
       "    <tr>\n",
       "      <th>4</th>\n",
       "      <td>4.27</td>\n",
       "      <td>0.30</td>\n",
       "      <td>-11.31</td>\n",
       "      <td>0.48</td>\n",
       "    </tr>\n",
       "    <tr>\n",
       "      <th>...</th>\n",
       "      <td>...</td>\n",
       "      <td>...</td>\n",
       "      <td>...</td>\n",
       "      <td>...</td>\n",
       "    </tr>\n",
       "    <tr>\n",
       "      <th>595</th>\n",
       "      <td>-1.10</td>\n",
       "      <td>1.50</td>\n",
       "      <td>3.30</td>\n",
       "      <td>1.90</td>\n",
       "    </tr>\n",
       "    <tr>\n",
       "      <th>596</th>\n",
       "      <td>3.90</td>\n",
       "      <td>1.70</td>\n",
       "      <td>-11.80</td>\n",
       "      <td>3.10</td>\n",
       "    </tr>\n",
       "    <tr>\n",
       "      <th>597</th>\n",
       "      <td>46.20</td>\n",
       "      <td>9.00</td>\n",
       "      <td>-211.00</td>\n",
       "      <td>41.00</td>\n",
       "    </tr>\n",
       "    <tr>\n",
       "      <th>598</th>\n",
       "      <td>6.49</td>\n",
       "      <td>0.75</td>\n",
       "      <td>-20.90</td>\n",
       "      <td>1.60</td>\n",
       "    </tr>\n",
       "    <tr>\n",
       "      <th>599</th>\n",
       "      <td>0.30</td>\n",
       "      <td>1.40</td>\n",
       "      <td>-5.10</td>\n",
       "      <td>2.20</td>\n",
       "    </tr>\n",
       "  </tbody>\n",
       "</table>\n",
       "<p>600 rows × 4 columns</p>\n",
       "</div>"
      ],
      "text/plain": [
       "     sp_idx  sp_idx_err  sp_run  sp_run_err\n",
       "0     38.20        3.70  -45.80        4.20\n",
       "1      3.80        1.80   -9.20        3.00\n",
       "2     16.46        0.24  -30.21        0.38\n",
       "3     14.50        3.50  -14.60        3.50\n",
       "4      4.27        0.30  -11.31        0.48\n",
       "..      ...         ...     ...         ...\n",
       "595   -1.10        1.50    3.30        1.90\n",
       "596    3.90        1.70  -11.80        3.10\n",
       "597   46.20        9.00 -211.00       41.00\n",
       "598    6.49        0.75  -20.90        1.60\n",
       "599    0.30        1.40   -5.10        2.20\n",
       "\n",
       "[600 rows x 4 columns]"
      ]
     },
     "execution_count": 65,
     "metadata": {},
     "output_type": "execute_result"
    }
   ],
   "source": [
    "import cfod\n",
    "from cfod import catalog\n",
    "CHIME = catalog.as_dataframe()\n",
    "\n",
    "# CHIME = pd.read_csv(\"./data/chimefrb.csv\") #catalog from 07/14\n",
    "CHIME[['sp_idx', 'sp_idx_err', 'sp_run', 'sp_run_err']]"
   ]
  },
  {
   "cell_type": "code",
   "execution_count": 47,
   "metadata": {},
   "outputs": [],
   "source": [
    "#### unpack FRB-cat1 data published by CHIME ####\n",
    "\n",
    "snr, dm, low_ft_95, up_ft_95, flux, flux_err, fluence, fluence_err, = np.loadtxt(\n",
    "    './data/chimefrbcat1.csv', skiprows=1, usecols=(17, 18, 21, 22, 31, 32, 34, 35), delimiter=',', unpack=True)\n",
    "\n",
    "tns = np.loadtxt('./data/chimefrbcat1.csv', dtype='str', skiprows=1, usecols=(0), delimiter=',')\n",
    "fluence_notes = np.loadtxt('./data/chimefrbcat1.csv', dtype='str', skiprows=1, usecols=36, delimiter=',')\n",
    "\n",
    "## note: low_ft_95, up_ft_95, flux, flux_err, fluence_err never used\n",
    "##       tns, fluence_notes are never used\n",
    "## only snr, dm, fluence are relevant\n",
    "\n",
    "#### define minimmum fluence for each event #####\n",
    "\n",
    "MIN_SNR = 12 # approx. threshold, according to CHIME's cat1 paper\n",
    "min_fluence = fluence * (MIN_SNR / snr) # scale reported fluence 'snr' by SNR ratio\n",
    "del fluence_err, fluence_notes, flux, flux_err, tns, low_ft_95, up_ft_95"
   ]
  },
  {
   "cell_type": "code",
   "execution_count": 48,
   "metadata": {},
   "outputs": [],
   "source": [
    "dm_new = np.array(CHIME['dm_fitb'])\n",
    "snr_new = np.array(CHIME['snr_fitb'])\n",
    "fluence_new = np.array(CHIME['fluence'])\n",
    "MIN_SNR = 12\n",
    "min_fluence_new = fluence_new * MIN_SNR/snr_new\n",
    "del CHIME, snr_new, snr, MIN_SNR"
   ]
  },
  {
   "cell_type": "code",
   "execution_count": 49,
   "metadata": {},
   "outputs": [
    {
     "data": {
      "text/plain": [
       "<matplotlib.collections.PathCollection at 0x7ff6b27acb80>"
      ]
     },
     "execution_count": 49,
     "metadata": {},
     "output_type": "execute_result"
    },
    {
     "data": {
      "image/png": "[encoded data removed]",
      "text/plain": [
       "<Figure size 432x288 with 1 Axes>"
      ]
     },
     "metadata": {
      "needs_background": "light"
     },
     "output_type": "display_data"
    }
   ],
   "source": [
    "plt.scatter(dm_new, fluence_new, marker='.')\n",
    "plt.scatter(dm, fluence, marker='.')"
   ]
  },
  {
   "cell_type": "code",
   "execution_count": 52,
   "metadata": {},
   "outputs": [
    {
     "data": {
      "image/png": "[encoded data removed]",
      "text/plain": [
       "<Figure size 432x288 with 1 Axes>"
      ]
     },
     "metadata": {
      "needs_background": "light"
     },
     "output_type": "display_data"
    }
   ],
   "source": [
    "plt.scatter(dm, fluence, marker='.', label='old')\n",
    "plt.scatter(dm_new, fluence_new, marker='.', label='new')\n",
    "plt.legend()\n",
    "plt.yscale('log')\n",
    "plt.xscale('log')"
   ]
  },
  {
   "cell_type": "code",
   "execution_count": 6,
   "metadata": {},
   "outputs": [],
   "source": [
    "import sys\n",
    "import os\n",
    "sys.path.append(os.path.abspath(\"../frbfuncs/\"))\n",
    "import cosmology as c\n",
    "# rs = c.z_DM(DM)\n",
    "\n",
    "#K_MACQUART = 700/0.7 # approx. value of the proportionality constant linking redshift and dispersion\n",
    "ISM = 30 # ansatz of interstellar medium's contribution to disperson, in pc cm-3\n",
    "HALO = 50 # ansatz of MW's halo contribution to disperson, in pc cm-3\n",
    "\n",
    "'''\n",
    "function 'dm_ex' returns the extragalactic contribution to an FRB's total dispersion measure (dm_tot)\n",
    "provided approx. values of the dispersion due to the interstellar medium (ISM) and the MW's halo (HALO)\n",
    "'''\n",
    "def dm_ex(dm_tot, dm_ism=30, dm_halo=50):\n",
    "    return dm_tot - (dm_ism + dm_halo)\n",
    "\n",
    "'''\n",
    "function 'get_z' takes a dispersion measure and ansatz of the Macquart relation \n",
    "and returns corresponding redshift\n",
    "'''\n",
    "def get_z(dm):\n",
    "    y = dm_ex(dm)\n",
    "    return c.z_DM(y)\n",
    "\n",
    "del ISM, HALO"
   ]
  },
  {
   "cell_type": "code",
   "execution_count": 7,
   "metadata": {},
   "outputs": [],
   "source": [
    "rs = get_z(dm)\n",
    "rs_new = get_z(dm_new)"
   ]
  },
  {
   "cell_type": "code",
   "execution_count": 8,
   "metadata": {},
   "outputs": [],
   "source": [
    "lum = c.E_v(fluence, rs, alpha=1)\n",
    "min_lum = c.E_v(min_fluence, rs, alpha=1)\n",
    "\n",
    "lum_new = c.E_v(fluence_new, rs_new, alpha=1)\n",
    "min_lum_new = c.E_v(min_fluence_new, rs_new, alpha=1)\n",
    "\n",
    "# to match Story's code, multiply by 1e4/c.JYMS\n",
    "del fluence, fluence_new, min_fluence, min_fluence_new"
   ]
  },
  {
   "cell_type": "code",
   "execution_count": 56,
   "metadata": {},
   "outputs": [
    {
     "data": {
      "text/plain": [
       "8.294490818030045"
      ]
     },
     "execution_count": 56,
     "metadata": {},
     "output_type": "execute_result"
    }
   ],
   "source": [
    "sum(fluence)/len(fluence)"
   ]
  },
  {
   "cell_type": "markdown",
   "metadata": {},
   "source": [
    "$F$ (Jy ms)\n",
    "\n",
    "$$F \\frac{4\\pi d_L^2(z)}{1+z}$$"
   ]
  },
  {
   "cell_type": "code",
   "execution_count": 57,
   "metadata": {},
   "outputs": [
    {
     "data": {
      "text/plain": [
       "Text(0, 0.5, '$L$ J/Hz')"
      ]
     },
     "execution_count": 57,
     "metadata": {},
     "output_type": "execute_result"
    },
    {
     "data": {
      "image/png": "[encoded data removed]",
      "text/plain": [
       "<Figure size 432x288 with 1 Axes>"
      ]
     },
     "metadata": {
      "needs_background": "light"
     },
     "output_type": "display_data"
    }
   ],
   "source": [
    "plt.scatter(min_lum, lum, marker='.')\n",
    "plt.scatter(min_lum_new, lum_new, marker='.')\n",
    "plt.yscale('log')\n",
    "plt.xscale('log')\n",
    "plt.xlabel('$L_\\mathrm{min}$ (J/Hz)')\n",
    "plt.ylabel('$L$ J/Hz')\n",
    "#plt.xlim([1e54, 1e60])\n",
    "#plt.ylim([1e54, 1e60])"
   ]
  },
  {
   "cell_type": "markdown",
   "metadata": {},
   "source": [
    "# Differences Thus Far\n",
    "- ### different data sets\n",
    "- DM function different: more sophisticated DM model, but I don't subtract 30 and 50 for ISM and HALO contributions\n",
    "- get z from DM function different: mine is more sophisticated due to Arcus/Zhang DM model\n",
    "- L and MIN_L have different units"
   ]
  },
  {
   "cell_type": "code",
   "execution_count": 10,
   "metadata": {},
   "outputs": [],
   "source": [
    "def truncate_and_evolve(x, y, rs, evo=None):\n",
    "    if evo is None:\n",
    "        evo = np.ones(len(x))\n",
    "    return x[y > x], y[y > x]/evo[y > x], evo[y > x], rs[y > x]\n",
    "\n",
    "#min_lum_trunc, lum_trunc, evo_trunc, rs_trunc = truncate_and_evolve(min_lum, lum, rs)"
   ]
  },
  {
   "cell_type": "code",
   "execution_count": 11,
   "metadata": {},
   "outputs": [],
   "source": [
    "### assign ranks to redshifts in increasing order ####    \n",
    "def get_x_ranks(x, y, evo=None):\n",
    "    if evo is None:\n",
    "        evo = np.ones(len(x))\n",
    "    \n",
    "    x_inc = np.argsort(x)\n",
    "    \n",
    "    x_ranks = np.zeros(len(x))\n",
    "    x_assoc_sets = np.zeros(len(x))\n",
    "    \n",
    "    # iterate through redshift array, find associated set for each: all lum > lum(event i) with rs < rs(event i)\n",
    "    for i in range(len(x)):\n",
    "        curr = x_inc[i] # current event being analyzed\n",
    "        y_assoc = y[(y > x[curr]/evo[curr]) & (x < x[curr])] # iterate through luminosities, enforcing associated set constraints  \n",
    "        x_assoc_sets[i] = len(y_assoc) # number of events in current associated set\n",
    "        y_assoc = np.append(y_assoc, y[curr])\n",
    "    \n",
    "        args = np.argwhere(np.sort(y_assoc) == y[curr])\n",
    "        if len(args) > 1:\n",
    "            x_ranks[i] = np.average(args) + 1 #half considered below, half considered above\n",
    "        else:\n",
    "            x_ranks[i] = args[0,0] + 1 #include itself in rank\n",
    "            \n",
    "    return x_ranks, x_assoc_sets\n",
    "\n",
    "#### construct arrays for ranks of each redshift, and associated set of each redshift ####\n",
    "\n",
    "#x_ranks, x_assoc_sets = get_x_ranks(min_lum_trunc, lum_trunc)"
   ]
  },
  {
   "cell_type": "code",
   "execution_count": 12,
   "metadata": {},
   "outputs": [],
   "source": [
    "def get_T(ranks, sets):\n",
    "    rnks = ranks[sets > 0]\n",
    "    ns = (sets+1)[sets > 0]\n",
    "    return (rnks-(.5*(1+ns))) / (np.sqrt((ns**2 - 1) / 12))\n",
    "\n",
    "def t_kendall(vec, w=None):\n",
    "    if w is None:\n",
    "        w = np.ones(len(vec)) # why +1??\n",
    "    \n",
    "    return np.sum(w*vec) / np.sqrt(np.sum(w**2))"
   ]
  },
  {
   "cell_type": "code",
   "execution_count": 13,
   "metadata": {},
   "outputs": [],
   "source": [
    "#### function which enables luminosity evolution as function of redshift and critical redshift ####\n",
    "\n",
    "def get_evos(x, g):\n",
    "    x_cr = 3.5\n",
    "    return np.piecewise(x, [x <= x_cr, x > x_cr], [lambda x: x**g, lambda x: x**g * (1 + x_cr**g) / (x**g + x_cr**g)])\n",
    "\n",
    "#### function which computes the kendall statistic of a luminosity-evolution correction to CHIME cat1 ####\n",
    "\n",
    "def kendall_evo(g, min_lum, lum, rs):\n",
    "    \n",
    "    Z = 1 + rs\n",
    "    evos = get_evos(Z, g)\n",
    "    \n",
    "    x_evos, y_evos, evos_trunc, rs_trunc = truncate_and_evolve(min_lum, lum, rs, evo=evos)\n",
    "    x_ranks, x_assoc_sets = np.array(get_x_ranks(x_evos, y_evos, evos_trunc))\n",
    "    T = get_T(x_ranks, x_assoc_sets)\n",
    "    \n",
    "    return t_kendall(T)"
   ]
  },
  {
   "cell_type": "code",
   "execution_count": 14,
   "metadata": {},
   "outputs": [],
   "source": [
    "g_space = np.linspace(2, 4.5, 20)\n",
    "y = []\n",
    "y_new = []\n",
    "\n",
    "for val in g_space:\n",
    "    y.append(kendall_evo(val, min_lum, lum, rs))\n",
    "    y_new.append(kendall_evo(val, min_lum_new, lum_new, rs_new))"
   ]
  },
  {
   "cell_type": "code",
   "execution_count": 15,
   "metadata": {},
   "outputs": [
    {
     "data": {
      "image/png": "[encoded data removed]",
      "text/plain": [
       "<Figure size 432x288 with 1 Axes>"
      ]
     },
     "metadata": {
      "needs_background": "light"
     },
     "output_type": "display_data"
    }
   ],
   "source": [
    "plt.scatter(g_space, y, label='story\\'s data')\n",
    "plt.scatter(g_space, y_new, label='most recent data')\n",
    "plt.legend()\n",
    "plt.hlines(0, 2.0, 4.5)\n",
    "plt.show()\n",
    "\n",
    "del g_space, y, y_new, val"
   ]
  },
  {
   "cell_type": "markdown",
   "metadata": {},
   "source": [
    "# My Analysis"
   ]
  },
  {
   "cell_type": "code",
   "execution_count": 16,
   "metadata": {},
   "outputs": [
    {
     "name": "stdout",
     "output_type": "stream",
     "text": [
      "data available\n"
     ]
    }
   ],
   "source": [
    "#variables\n",
    "\n",
    "min_lum, lum, rs #story's data\n",
    "min_lum_new, lum_new, rs_new #new data\n",
    "\n",
    "print(\"data available\")"
   ]
  },
  {
   "cell_type": "code",
   "execution_count": 40,
   "metadata": {},
   "outputs": [],
   "source": [
    "def gfunction(x, g):\n",
    "    x_cr = 3.5\n",
    "    return np.piecewise(x+1, [x <= x_cr, x > x_cr], [lambda x: x**g, lambda x: x**g * (1 + x_cr**g) / (x**g + x_cr**g)])\n",
    "\n",
    "def ktau_E_new(_y, _x, _z, func=gfunction, k=0):\n",
    "    y, x, z = _y[_y > _x], _x[_y > _x], _z[_y > _x]\n",
    "    gs = func(z, k)\n",
    "    excludei = np.full(len(y), True)\n",
    "    ns = np.zeros(len(y))\n",
    "    rnks = np.zeros(len(y))\n",
    "    \n",
    "    for i in range(len(y)):\n",
    "        higher = 0\n",
    "        lower = 0\n",
    "        \n",
    "        excludei[i] = False\n",
    "        mask = (y/gs >= x[i]/gs[i]) & (x <= x[i]) & excludei #don't include itself, so x < x[i] instead of x <= x[i].\n",
    "        higher = np.sum(y[mask]/gs[mask] > y[i]/gs[i])\n",
    "        lower = np.sum(mask)-higher\n",
    "        excludei[i] = True\n",
    "        \n",
    "        ns[i] = higher+lower+1\n",
    "        rnks[i] = lower + 1\n",
    "        if(ns[i] == 1):\n",
    "            ns[i] += 2\n",
    "            rnks[i] += 1\n",
    "    \n",
    "    #rnks = rnks[ns > 1]\n",
    "    #ns = ns[ns > 1]\n",
    "    \n",
    "    _T = (rnks-.5*(ns+1))/np.sqrt((ns**2 - 1)/12)\n",
    "    return np.sum(_T)/np.sqrt(np.sum(_T**2))"
   ]
  },
  {
   "cell_type": "code",
   "execution_count": 41,
   "metadata": {},
   "outputs": [],
   "source": [
    "def ktau_E(_y, _x, _z, _gfunc=gfunction, _k=0):\n",
    "    \n",
    "    _R = []\n",
    "    _E = []\n",
    "    _V = []\n",
    "    _T = []\n",
    "    \n",
    "    gs = _gfunc(_z, _k)\n",
    "    \n",
    "    for i in range(len(_y)):\n",
    "        higher = 0\n",
    "        lower = 0\n",
    "        \n",
    "        if _y[i] <= _x[i]: #not considering data points under the cutoff\n",
    "            continue\n",
    "        \n",
    "        for j in range(len(_y)): \n",
    "            if j == i or _y[j] <= _x[j]: #skip over itself, data points under cutoff\n",
    "                continue\n",
    "                \n",
    "            if(_y[j]/gs[j] >= _x[i]/gs[i] and _x[j] <= _x[i]): #associated set requirements\n",
    "                \n",
    "                if(_y[j]/gs[j] > _y[i]/gs[i]):\n",
    "                    higher += 1\n",
    "                else:\n",
    "                    lower += 1\n",
    "        \n",
    "        _N_i = higher+lower+1.\n",
    "        _R_i = (lower+1.)/_N_i\n",
    "        _E_i = (1.+1./_N_i)/2.\n",
    "        _V_i = (1.-1./_N_i**2)/12.\n",
    "        \n",
    "        if _V_i == 0: #essentially, ignore points with only themselves in the associated set\n",
    "            _V_i += 1\n",
    "        \n",
    "        _R.append(_R_i) #diagnostic print: print(f'loc: ({Es[i], z[i]}), high/low: {higher, lower}, rank: {R[len(R)-1]}')\n",
    "        _E.append(_E_i) #0.5\n",
    "        _V.append(_V_i) #1/12\n",
    "        _T.append((_R_i-_E_i)/_V_i**0.5)\n",
    "    \n",
    "    return sum(_T)/(len(_T))**0.5"
   ]
  },
  {
   "cell_type": "code",
   "execution_count": 42,
   "metadata": {},
   "outputs": [
    {
     "name": "stdout",
     "output_type": "stream",
     "text": [
      "-0.5343395676863717\n",
      "-0.5129329621179199\n"
     ]
    }
   ],
   "source": [
    "print(ktau_E(lum, min_lum, rs, _k=4))\n",
    "print(ktau_E_new(lum, min_lum, rs, k=4))"
   ]
  },
  {
   "cell_type": "code",
   "execution_count": 29,
   "metadata": {},
   "outputs": [],
   "source": [
    "g_space = np.linspace(2, 4.5, 20)\n",
    "y = []\n",
    "y_new = []\n",
    "\n",
    "for val in g_space:\n",
    "    y.append(ktau_E_new(lum, min_lum, rs, k=val))\n",
    "    y_new.append(ktau_E_new(lum_new, min_lum_new, rs_new, k=val))\n",
    "\n",
    "del val"
   ]
  },
  {
   "cell_type": "code",
   "execution_count": 30,
   "metadata": {},
   "outputs": [
    {
     "data": {
      "image/png": "[encoded data removed]",
      "text/plain": [
       "<Figure size 432x288 with 1 Axes>"
      ]
     },
     "metadata": {
      "needs_background": "light"
     },
     "output_type": "display_data"
    }
   ],
   "source": [
    "plt.scatter(g_space, y, label='story\\'s data')\n",
    "plt.scatter(g_space, y_new, label='most recent data')\n",
    "plt.legend()\n",
    "plt.hlines(0, 2.0, 4.5)\n",
    "plt.show()"
   ]
  },
  {
   "cell_type": "code",
   "execution_count": null,
   "metadata": {},
   "outputs": [],
   "source": []
  },
  {
   "cell_type": "code",
   "execution_count": null,
   "metadata": {},
   "outputs": [],
   "source": []
  }
 ],
 "metadata": {
  "kernelspec": {
   "display_name": "Python 3.9.12 ('2022')",
   "language": "python",
   "name": "python3"
  },
  "language_info": {
   "codemirror_mode": {
    "name": "ipython",
    "version": 3
   },
   "file_extension": ".py",
   "mimetype": "text/x-python",
   "name": "python",
   "nbconvert_exporter": "python",
   "pygments_lexer": "ipython3",
   "version": "3.9.12"
  },
  "orig_nbformat": 4,
  "vscode": {
   "interpreter": {
    "hash": "8ef6c2603613cee003e8dc1202cc215413d5752975eb5ab63e282753c2927b8a"
   }
  }
 },
 "nbformat": 4,
 "nbformat_minor": 2
}
