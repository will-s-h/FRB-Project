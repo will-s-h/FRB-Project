{
 "cells": [
  {
   "cell_type": "code",
   "execution_count": 1,
   "metadata": {},
   "outputs": [],
   "source": [
    "import matplotlib.pyplot as plt\n",
    "import numpy as np\n",
    "import math"
   ]
  },
  {
   "cell_type": "markdown",
   "metadata": {},
   "source": [
    "# IMPORTANT!\n",
    "I need to keep track of which things shuffle the order of inputs when outputting its thing! It's made for (already several) very tough debugs!"
   ]
  },
  {
   "cell_type": "markdown",
   "metadata": {},
   "source": [
    "# Arcus and Zhang Models of FRBs"
   ]
  },
  {
   "cell_type": "markdown",
   "metadata": {},
   "source": [
    "## Star Formation Rates"
   ]
  },
  {
   "cell_type": "code",
   "execution_count": 2,
   "metadata": {},
   "outputs": [],
   "source": [
    "#Star formation rate models, as defined by\n",
    "#Zhang et al. 2020 and\n",
    "#Arcus et al. 2020, respectively\n",
    "\n",
    "def SFR_Zhang(z):\n",
    "    '''\n",
    "    ----------I/O-----------\n",
    "    INPUT: z — redshift (single value or numpy array)\n",
    "    OUTPUT: SFR — (relative) star formation rate\n",
    "    ------------------------\n",
    "    \n",
    "    Notes:\n",
    "    SFR as defined by Zhang et al. 2020. Looks like three separate regimes.\n",
    "    '''\n",
    "    a = 3.4\n",
    "    b = -0.3\n",
    "    c = -3.5\n",
    "    B = 5000.0\n",
    "    C = 9.0\n",
    "    eta = -10.0\n",
    "    return ((1+z)**(a*eta) + ((1+z)/B)**(b*eta) + ((1+z)/C)**(c*eta))**(1/eta)\n",
    "\n",
    "def SFR_Arcus(z):\n",
    "    '''\n",
    "    ----------I/O-----------\n",
    "    INPUT: z — redshift (single value or numpy array)\n",
    "    OUTPUT: SFR — (relative) star formation rate\n",
    "    ------------------------\n",
    "    \n",
    "    Notes:\n",
    "    SFR as defined by Arcus et al. 2020. SFR looks like a smooth peak at around z=2.\n",
    "    '''\n",
    "    \n",
    "    Z=1+z\n",
    "    return (0.015*(Z**2.7))/(1+(Z/2.9)**5.6)"
   ]
  },
  {
   "cell_type": "markdown",
   "metadata": {},
   "source": [
    "### Compare SFRs"
   ]
  },
  {
   "cell_type": "code",
   "execution_count": 3,
   "metadata": {},
   "outputs": [],
   "source": [
    "#generate 200 redshifts between 0-10\n",
    "zs = np.linspace(0,10,200)\n",
    "\n",
    "#find SFR at each of these redshifts\n",
    "ys_Zhang = SFR_Zhang(zs)\n",
    "ys_Arcus = SFR_Arcus(zs)"
   ]
  },
  {
   "cell_type": "code",
   "execution_count": 4,
   "metadata": {},
   "outputs": [
    {
     "data": {
      "image/png": "[encoded data removed]",
      "text/plain": [
       "<Figure size 432x288 with 1 Axes>"
      ]
     },
     "metadata": {
      "needs_background": "light"
     },
     "output_type": "display_data"
    }
   ],
   "source": [
    "#plot and compare SFRs\n",
    "plt.plot(zs, ys_Zhang, label='Zhang')\n",
    "plt.plot(zs, ys_Arcus*90, label='Arcus')\n",
    "plt.title(\"SFR Models (Relative)\")\n",
    "plt.legend()\n",
    "plt.xlabel('redshift ($z$)')\n",
    "plt.show()"
   ]
  },
  {
   "cell_type": "markdown",
   "metadata": {},
   "source": [
    "## cosmology stuff"
   ]
  },
  {
   "cell_type": "markdown",
   "metadata": {},
   "source": [
    "### cosmological model"
   ]
  },
  {
   "cell_type": "code",
   "execution_count": 5,
   "metadata": {},
   "outputs": [],
   "source": [
    "#define cosmological model\n",
    "cosm_model = [0.286, 0.714, 0.049, 70]\n",
    "#Omega_M (matter), Omega_Lambda (dark energy), Omega_b (baryons), H_0 (Hubble constant, in km/s/Mpc)\n",
    "\n",
    "#define constants\n",
    "c = 299792458.0\n",
    "H_0 = cosm_model[3]*3.24077929e-20 #convert km/s/Mpc to s^-1\n",
    "Jyms = 1.0e-29 #1 Jy ms = 1.0e-29 J/(m^2 * Hz)\n",
    "Gyr = 3.1556926e16 #number of seconds in 10^9 years"
   ]
  },
  {
   "cell_type": "markdown",
   "metadata": {},
   "source": [
    "### cosmology functions $E(z)$, normalize(), luminosity/comoving distance\n",
    "- note: luminosity distance matches with one cosmology calculator"
   ]
  },
  {
   "cell_type": "code",
   "execution_count": 6,
   "metadata": {},
   "outputs": [],
   "source": [
    "def E(z):\n",
    "    '''\n",
    "    ----------I/O-----------\n",
    "    INPUT: z — redshift (single value or np array)\n",
    "    OUTPUT: E(z), defined so that H = H_0 * E(z) (provides Hubble parameter at arbitrary z)\n",
    "    ------------------------\n",
    "    \n",
    "    Notes:\n",
    "    Though not input, depends on cosm_model.\n",
    "    '''\n",
    "    \n",
    "    O_M = cosm_model[0]\n",
    "    O_L = cosm_model[1]\n",
    "    return ((1+z)**3 * O_M + O_L)**0.5\n",
    "\n",
    "def D_C(z):\n",
    "    '''\n",
    "    WARNING: input order is NOT same as output order\n",
    "    \n",
    "    ----------I/O-----------\n",
    "    INPUT: z — redshift (single value or np array)\n",
    "    OUTPUT: comoving distance, in units of hubble distances (c/H_0)\n",
    "    ------------------------\n",
    "    \n",
    "    Notes:\n",
    "    Currently using low precision, dz=0.01\n",
    "    '''\n",
    "    #TEST TEST TEST\n",
    "    dz = 0.001 \n",
    "    \n",
    "    if not isinstance(z, np.ndarray):\n",
    "        #single value\n",
    "        zs = np.arange(0., z, dz)\n",
    "        integral = 0\n",
    "        for z_i in zs:\n",
    "            integrand = (1/E(z_i) + 1/E(z_i+dz))/2.0\n",
    "            integral += integrand*dz\n",
    "        return integral\n",
    "    \n",
    "    sorted_zs = sorted(z)\n",
    "    D_Cs = np.zeros(len(sorted_zs))\n",
    "    ind = 0\n",
    "    zs = np.arange(0., max(z)+dz, dz)\n",
    "    integral = 0\n",
    "    for z_i in zs:\n",
    "        integrand = (1/E(z_i) + 1/E(z_i+dz))/2.0\n",
    "        while(ind < len(sorted_zs) and sorted_zs[ind] < (z_i+dz)):\n",
    "            D_Cs[ind] = integral + integrand * (sorted_zs[ind] - z_i)\n",
    "            ind += 1\n",
    "        integral += integrand*dz\n",
    "    return D_Cs\n",
    "\n",
    "def D_L(z, temp=False):\n",
    "    '''\n",
    "    WARNING: input order is NOT same as output order\n",
    "    \n",
    "    ----------I/O-----------\n",
    "    INPUT: \n",
    "    z — redshift (single value or np array)\n",
    "    temp - boolean indicating to use approximate analytic expression (temporary measure)\n",
    "    \n",
    "    OUTPUT: luminosity distance, in units of hubble distances (c/H_0)\n",
    "    ------------------------\n",
    "    \n",
    "    Notes:\n",
    "    Currently using low precision, dz=0.01\n",
    "    temp expression only a good approximation for z<3, but good for testing.\n",
    "    '''\n",
    "    #temporary measure\n",
    "    if temp:\n",
    "        return 1.56391885121*(z**1.2290110356)\n",
    "    return (1+z)*D_C(z)\n",
    "\n",
    "def normalize(x, max_val=1):\n",
    "    '''\n",
    "    ----------I/O-----------\n",
    "    INPUT: \n",
    "    x - any list/array\n",
    "    max_val - the value of the maximum of the normalized array, default = 1.\n",
    "    OUTPUT: \n",
    "    x normalized so that its maximum is max_val\n",
    "    ------------------------\n",
    "    \n",
    "    Notes:\n",
    "    N/A\n",
    "    '''\n",
    "    return x*max_val/max(x)"
   ]
  },
  {
   "cell_type": "code",
   "execution_count": 7,
   "metadata": {},
   "outputs": [],
   "source": [
    "def t_L(z):\n",
    "    '''\n",
    "    ----------I/O-----------\n",
    "    INPUT: \n",
    "    z - redshift (single value or np array)\n",
    "    OUTPUT: \n",
    "    t_L - lookback time(s) (in units of hubble times)\n",
    "    ------------------------\n",
    "    \n",
    "    Notes:\n",
    "    dz = 0.01\n",
    "    returns a sorted array\n",
    "    '''\n",
    "    dz = 0.01\n",
    "    \n",
    "    if not isinstance(z, np.ndarray):\n",
    "        integral = 0\n",
    "        zs = np.arange(0., z, dz)\n",
    "        for z_i in zs:\n",
    "            integrand = (((1+z_i)*E(z_i))**(-1) + ((1+z_i+dz)*E(z_i+dz))**(-1))/2.0\n",
    "            integral += integrand * dz\n",
    "        return integral\n",
    "    \n",
    "    sorted_zs = sorted(z)\n",
    "    t_Ls = np.zeros(len(sorted_zs))\n",
    "    ind = 0\n",
    "    zs = np.arange(0., max(z)+dz, dz)\n",
    "    integral = 0\n",
    "    for z_i in zs:\n",
    "        integrand = (1/((1+z_i)*E(z_i)) + 1/((1+z_i+dz)*E(z_i+dz)))/2.0\n",
    "        while(ind < len(sorted_zs) and sorted_zs[ind] < (z_i+dz)):\n",
    "            t_Ls[ind] = integral + integrand * (sorted_zs[ind] - z_i)\n",
    "            ind += 1\n",
    "        integral += integrand*dz\n",
    "    return t_Ls"
   ]
  },
  {
   "cell_type": "code",
   "execution_count": 8,
   "metadata": {},
   "outputs": [],
   "source": [
    "zs = np.linspace(0,10,200)\n",
    "tLs = t_L(zs)"
   ]
  },
  {
   "cell_type": "code",
   "execution_count": 9,
   "metadata": {},
   "outputs": [
    {
     "data": {
      "image/png": "[encoded data removed]",
      "text/plain": [
       "<Figure size 432x288 with 1 Axes>"
      ]
     },
     "metadata": {
      "needs_background": "light"
     },
     "output_type": "display_data"
    }
   ],
   "source": [
    "plt.title('t_L vs. z')\n",
    "plt.plot(zs, tLs)\n",
    "plt.xlabel('redshift')\n",
    "plt.ylabel('lookback time, ($1/H_0$)')\n",
    "plt.show()"
   ]
  },
  {
   "cell_type": "markdown",
   "metadata": {},
   "source": [
    "## $\\frac{dDM}{dz}$ models"
   ]
  },
  {
   "cell_type": "code",
   "execution_count": 10,
   "metadata": {},
   "outputs": [],
   "source": [
    "#note: Arcus and Zhang also differ by a multiplicative constant\n",
    "\n",
    "def dDMdz_Arcus(z): \n",
    "    '''\n",
    "    ----------I/O-----------\n",
    "    INPUT: z — redshift (single value or np array)\n",
    "    OUTPUT: dDM/dz — increase in DM per increase z, in pc cm^-3\n",
    "    ------------------------\n",
    "    \n",
    "    Notes:\n",
    "    Three separate sections, corresponding to presence/lack of H or He.\n",
    "    '''\n",
    "    \n",
    "    C = 3*(c*H_0)*(cosm_model[2])/(8*np.pi*6.67408e-11*1.6726219e-27) # SI units\n",
    "    convert = 3.08567758e22 #1 pc cm^-3 in SI units\n",
    "    fac = 0.75*np.piecewise(z, [z<8, z>=8], [1, 0]) + 0.125*np.piecewise(z, [z<2.5, z>=2.5], [1, 0])\n",
    "    return (C/convert)*(1+z)*fac/E(z)\n",
    "\n",
    "def dDMdz_Zhang(z):\n",
    "    '''\n",
    "    ----------I/O-----------\n",
    "    INPUT: z — redshift (single value or np array)\n",
    "    OUTPUT: dDM/dz — increase in DM per increase z, in pc cm^-3\n",
    "    ------------------------\n",
    "    \n",
    "    Notes:\n",
    "    One smooth peak with maximum at z<1.\n",
    "    '''\n",
    "    \n",
    "    C = 3*(299792458)*(cosm_model[3]*3.24077929e-20)*(cosm_model[2])/(8*np.pi*6.67408e-11*1.6726219e-27)\n",
    "    C *= (7./8.)*0.84\n",
    "    convert = 3.08567758e22\n",
    "    return (1+z)*(C/convert)/E(z)"
   ]
  },
  {
   "cell_type": "markdown",
   "metadata": {},
   "source": [
    "### plot and compare $\\frac{dDM}{dz}$ models"
   ]
  },
  {
   "cell_type": "code",
   "execution_count": 11,
   "metadata": {},
   "outputs": [],
   "source": [
    "#generate data points\n",
    "\n",
    "zs = np.linspace(0,10,200)\n",
    "dDM_A = dDMdz_Arcus(zs)\n",
    "dDM_Z = dDMdz_Zhang(zs)"
   ]
  },
  {
   "cell_type": "code",
   "execution_count": 12,
   "metadata": {},
   "outputs": [
    {
     "data": {
      "image/png": "[encoded data removed]",
      "text/plain": [
       "<Figure size 432x288 with 1 Axes>"
      ]
     },
     "metadata": {
      "needs_background": "light"
     },
     "output_type": "display_data"
    }
   ],
   "source": [
    "#plot\n",
    "plt.plot(zs, dDM_A, label='dDM/dz Arcus')\n",
    "plt.plot(zs, dDM_Z, label='dDM/dz Zhang')\n",
    "plt.legend()\n",
    "plt.ylabel('dDM/dz (pc cm$^{-3}$)')\n",
    "plt.xlabel('redshift')\n",
    "plt.title('Different $dDM/dz$ functions')\n",
    "plt.show()"
   ]
  },
  {
   "cell_type": "markdown",
   "metadata": {},
   "source": [
    "## DM(z), attempt at numerical integration"
   ]
  },
  {
   "cell_type": "code",
   "execution_count": 13,
   "metadata": {},
   "outputs": [],
   "source": [
    "def DM_single_z(z, dDMdz=dDMdz_Arcus):\n",
    "    '''\n",
    "    ----------I/O-----------\n",
    "    INPUT: \n",
    "    z     — redshift (single value)\n",
    "    dDMdz — dDM/dz model used, default Arcus\n",
    "    \n",
    "    OUTPUT: \n",
    "    DM(z), single value of DM at redshift=z\n",
    "    ------------------------\n",
    "    \n",
    "    Notes:\n",
    "    z must be >= 0\n",
    "    dz = 0.01 by default, no parameter to change\n",
    "    '''\n",
    "    \n",
    "    if(z < 0):\n",
    "        print('z out of range')\n",
    "        return 0\n",
    "    \n",
    "    dz = 0.01\n",
    "    DM = 0.0\n",
    "    for z_ in np.arange(0, z, dz):\n",
    "        DM += (dDMdz(z_) + dDMdz(z_+dz))*dz/2.0\n",
    "    return DM\n",
    "    \n",
    "\n",
    "def DM(z, dDMdz=dDMdz_Arcus):\n",
    "    '''\n",
    "    ----------I/O-----------\n",
    "    INPUT: \n",
    "    z     — single value or array/list of redshift\n",
    "    dDMdz — dDM/dz model used, default Arcus\n",
    "    \n",
    "    OUTPUT: \n",
    "    DM(z) — DM(z), in pc cm^-3, single value or list depending on z input\n",
    "    ------------------------\n",
    "    \n",
    "    Notes:\n",
    "    all values of z must be >= 0\n",
    "    dz = 0.01 by default, no parameter to change\n",
    "    '''\n",
    "    \n",
    "    if not isinstance(z, np.ndarray):\n",
    "        return DM_single_z(z, dDMdz)\n",
    "    \n",
    "    if(min(z) < 0):\n",
    "        print('z out of range')\n",
    "        return z*0\n",
    "    \n",
    "    z_s = sorted(z)\n",
    "    ind = 0\n",
    "    DMs = np.array([])\n",
    "    \n",
    "    dz = 0.01\n",
    "    DM = 0.0\n",
    "    for z_ in np.arange(0, max(z)+2*dz, dz):\n",
    "        DM += (dDMdz(z_) + dDMdz(z_+dz))*dz/2.0\n",
    "        while(ind < len(z_s) and abs(z_s[ind]-z_) < dz):\n",
    "            DMs = np.append(DMs, DM)\n",
    "            ind += 1\n",
    "    return DMs"
   ]
  },
  {
   "cell_type": "markdown",
   "metadata": {},
   "source": [
    "### plot and compare"
   ]
  },
  {
   "cell_type": "code",
   "execution_count": 14,
   "metadata": {},
   "outputs": [],
   "source": [
    "#generate data values: might take a while\n",
    "zs = np.linspace(0,10,200)\n",
    "DM_Arcus = DM(zs, dDMdz_Arcus)\n",
    "DM_Zhang = DM(zs, dDMdz_Zhang)"
   ]
  },
  {
   "cell_type": "code",
   "execution_count": 15,
   "metadata": {
    "scrolled": true
   },
   "outputs": [
    {
     "data": {
      "image/png": "[encoded data removed]",
      "text/plain": [
       "<Figure size 432x288 with 1 Axes>"
      ]
     },
     "metadata": {
      "needs_background": "light"
     },
     "output_type": "display_data"
    }
   ],
   "source": [
    "#plot\n",
    "plt.plot(zs, DM_Arcus, label='DM(z) Arcus')\n",
    "plt.plot(zs, DM_Zhang, label='DM(z) Zhang')\n",
    "plt.legend()\n",
    "plt.ylabel('DM (pc cm$^{-3}$)')\n",
    "plt.xlabel('redshift')\n",
    "plt.title('Different DM(z) methods')\n",
    "plt.show()"
   ]
  },
  {
   "cell_type": "markdown",
   "metadata": {},
   "source": [
    "### inverse function z(DM) function + test"
   ]
  },
  {
   "cell_type": "code",
   "execution_count": 16,
   "metadata": {},
   "outputs": [],
   "source": [
    "from bisect import bisect_left as bleft\n",
    "#behavior:\n",
    "# if exactly at an element, returns that index\n",
    "# if between two elements, returns index of right hand element\n",
    "# if beyond range, returns right hand index (0 or len(arr))\n",
    "\n",
    "from bisect import bisect_right as bright\n",
    "#behavior:\n",
    "#if exactly at an element, returns index+1\n",
    "#if between two elements, returns right hand index\n",
    "# if beyond range, returns right hand index (0 or len(arr))\n",
    "\n",
    "\n",
    "def z_DM(DM, DMs, zs): #assumes DMs and zs already sorted\n",
    "    '''\n",
    "    ----------I/O-----------\n",
    "    INPUT: \n",
    "    DM - a single value\n",
    "    DMs - a pre-calculated & sorted list of DMs\n",
    "    zs - a pre-calculated & sorted list of zs, that align one-to-one with DMs\n",
    "    \n",
    "    OUTPUT: \n",
    "    zs - linearly interpolated list of zs that correspond with the input DM\n",
    "    ------------------------\n",
    "    '''\n",
    "    if(DM > max(DMs) or DM < min(DMs)):\n",
    "        print('DM out of range: ' + str(DM) + ' pc cm^-3')\n",
    "        return 0\n",
    "    \n",
    "    i = bleft(DMs, DM)\n",
    "    \n",
    "    if (i != bright(DMs, DM)): #means that DM is exactly within DMs\n",
    "        return zs[i]\n",
    "    \n",
    "    #if not exactly equal to one of data points, linearly interpolate\n",
    "    return zs[i-1] + (zs[i]-zs[i-1])*(DM-DMs[i-1])/(DMs[i]-DMs[i-1])"
   ]
  },
  {
   "cell_type": "code",
   "execution_count": 17,
   "metadata": {},
   "outputs": [
    {
     "data": {
      "text/plain": [
       "<matplotlib.collections.PathCollection at 0x7fb1333e79a0>"
      ]
     },
     "execution_count": 17,
     "metadata": {},
     "output_type": "execute_result"
    },
    {
     "data": {
      "image/png": "[encoded data removed]",
      "text/plain": [
       "<Figure size 432x288 with 1 Axes>"
      ]
     },
     "metadata": {
      "needs_background": "light"
     },
     "output_type": "display_data"
    }
   ],
   "source": [
    "plt.plot(zs, DM_Zhang)\n",
    "plt.scatter(z_DM(1000, DM_Zhang, zs), 1000)\n",
    "plt.scatter(z_DM(2000, DM_Zhang, zs), 2000)\n",
    "plt.scatter(z_DM(3059.1, DM_Zhang, zs), 3059.1)\n",
    "plt.scatter(z_DM(6000, DM_Zhang, zs), 6000)"
   ]
  },
  {
   "cell_type": "markdown",
   "metadata": {},
   "source": [
    "### inverse z(t_L):"
   ]
  },
  {
   "cell_type": "code",
   "execution_count": 18,
   "metadata": {},
   "outputs": [],
   "source": [
    "def z_tL(t_L, tLs, zs):\n",
    "    '''\n",
    "    ----------I/O-----------\n",
    "    INPUT: \n",
    "    t_L - single value\n",
    "    tLs - pre-calculated & sorted list of lookback times\n",
    "    zs  - pre-calculated & sorted list of zs, that correspond one-to-one with tLs\n",
    "    \n",
    "    OUTPUT: \n",
    "    list of zs that correspond to tLs, linearly interpolated\n",
    "    ------------------------\n",
    "    '''\n",
    "    \n",
    "    if(t_L > max(tLs) or t_L < min(tLs)):\n",
    "        print('t_L out of range: ' + str(t_L) + ' hubble time(s)')\n",
    "        return 0\n",
    "    \n",
    "    i = bleft(tLs, t_L)\n",
    "    \n",
    "    if (i != bright(tLs, t_L)): #means that t_L is exactly within tLs\n",
    "        return zs[i]\n",
    "    \n",
    "    #if not exactly equal to one of data points, linearly interpolate\n",
    "    return zs[i-1] + (zs[i]-zs[i-1])*(t_L-tLs[i-1])/(tLs[i]-tLs[i-1])"
   ]
  },
  {
   "cell_type": "code",
   "execution_count": 19,
   "metadata": {},
   "outputs": [],
   "source": [
    "zs = np.linspace(0,10,200)\n",
    "tLs = t_L(zs)"
   ]
  },
  {
   "cell_type": "code",
   "execution_count": 20,
   "metadata": {},
   "outputs": [
    {
     "data": {
      "text/plain": [
       "<matplotlib.collections.PathCollection at 0x7fb1334dba30>"
      ]
     },
     "execution_count": 20,
     "metadata": {},
     "output_type": "execute_result"
    },
    {
     "data": {
      "image/png": "[encoded data removed]",
      "text/plain": [
       "<Figure size 432x288 with 1 Axes>"
      ]
     },
     "metadata": {
      "needs_background": "light"
     },
     "output_type": "display_data"
    }
   ],
   "source": [
    "plt.plot(zs, tLs)\n",
    "plt.scatter(z_tL(0.1, tLs, zs), 0.1)\n",
    "plt.scatter(z_tL(0.25, tLs, zs), 0.25)\n",
    "plt.scatter(z_tL(0.5, tLs, zs), 0.5)\n",
    "plt.scatter(z_tL(0.9, tLs, zs), 0.9)"
   ]
  },
  {
   "cell_type": "markdown",
   "metadata": {},
   "source": [
    "## dR/dz (differential event rate) Arcus model"
   ]
  },
  {
   "cell_type": "code",
   "execution_count": 21,
   "metadata": {},
   "outputs": [],
   "source": [
    "def F_v(E, z, alpha):\n",
    "    '''\n",
    "    WARNING: input order is NOT same as output order\n",
    "    \n",
    "    ----------I/O-----------\n",
    "    INPUT: \n",
    "    E - specific energy, in J/Hz\n",
    "    z - redshift (single value or list)\n",
    "    alpha - spectral index (F_v is proportional to v^-a)\n",
    "    \n",
    "    OUTPUT: \n",
    "    F_v (single val/list) corresponding with E, at z\n",
    "    ------------------------\n",
    "    '''\n",
    "    return E*(1+z)**(2-alpha)/(4*np.pi*(D_L(z)*c/H_0)**2*Jyms)\n",
    "\n",
    "def dRdz(z, n, F_0, SFR=SFR_Arcus, params=None):\n",
    "    '''\n",
    "    WARNING: input order is NOT same as output order\n",
    "    \n",
    "    ----------I/O-----------\n",
    "    INPUT:\n",
    "    z      — redshift (single value, numpy array)\n",
    "    n      — power law w/ SFR\n",
    "    F_0    — fluence limit of telescope (in Jy ms)\n",
    "    SFR    – which SFR model to use, default Arcus\n",
    "    params — [alpha, gamma, E_max, E_min], parameters of FRB energy distribution, (F_max/min in J/Hz), default None\n",
    "        \n",
    "    OUTPUT: \n",
    "    dR/dz(z, F>F_0) — differential FRB rate at z\n",
    "    ------------------------\n",
    "    \n",
    "    Notes:\n",
    "    Arcus model of dR/dz. \n",
    "    '''\n",
    "    \n",
    "    model = (1+z)*(SFR(z)**n)*(D_L(z)**2)/(E(z) * (1+z)**4)\n",
    "    \n",
    "    if params is None:\n",
    "        return model\n",
    "    \n",
    "    alpha = params[0]\n",
    "    gamma = params[1]\n",
    "    #params[2] and [3] are E_max and E_min -> convert E (J/Hz) to F (Jy ms)\n",
    "    F_max = F_v(params[2], z, alpha)\n",
    "    F_min = F_v(params[3], z, alpha)\n",
    "    exp = 1.0-gamma\n",
    "    \n",
    "    frac = (F_max**exp - F_0**exp)/(F_max**exp - F_min**exp)\n",
    "    frac = np.piecewise(frac, [frac <= 0, (frac > 0) & (frac < 1), frac >= 1], [lambda x:0, lambda x:x, lambda x:1])\n",
    "    \n",
    "    return frac*model"
   ]
  },
  {
   "cell_type": "markdown",
   "metadata": {},
   "source": [
    "### plot different dependences of rate on SFR"
   ]
  },
  {
   "cell_type": "code",
   "execution_count": 22,
   "metadata": {},
   "outputs": [],
   "source": [
    "# get dR/dz for Parkes, for n=0,1,2 and no other params\n",
    "\n",
    "zs = np.linspace(0,10,200)\n",
    "dRdz_0 = dRdz(zs, n=0, F_0=3)\n",
    "dRdz_1 = dRdz(zs, n=1, F_0=3) #F_0 = 3 Jy ms is parkes\n",
    "dRdz_2 = dRdz(zs, n=2, F_0=3)"
   ]
  },
  {
   "cell_type": "code",
   "execution_count": 23,
   "metadata": {
    "scrolled": false
   },
   "outputs": [
    {
     "data": {
      "image/png": "[encoded data removed]",
      "text/plain": [
       "<Figure size 432x288 with 1 Axes>"
      ]
     },
     "metadata": {
      "needs_background": "light"
     },
     "output_type": "display_data"
    }
   ],
   "source": [
    "#plot\n",
    "plt.plot(zs, normalize(ys_Arcus), label='SFR')\n",
    "plt.plot(zs, normalize(dRdz_0), label='dR/dz (n=0)')\n",
    "plt.plot(zs, normalize(dRdz_1), label='dR/dz (n=1)')\n",
    "plt.plot(zs, normalize(dRdz_2), label='dR/dz (n=2)')\n",
    "plt.legend()\n",
    "plt.xlabel('redshift')\n",
    "plt.title('event rate as function of $z$')\n",
    "plt.show()"
   ]
  },
  {
   "cell_type": "markdown",
   "metadata": {},
   "source": [
    "### plot rate vs. alpha/gamma"
   ]
  },
  {
   "cell_type": "code",
   "execution_count": 24,
   "metadata": {
    "scrolled": true
   },
   "outputs": [
    {
     "name": "stderr",
     "output_type": "stream",
     "text": [
      "<ipython-input-21-090f9ad5381a>:15: RuntimeWarning: divide by zero encountered in true_divide\n",
      "  return E*(1+z)**(2-alpha)/(4*np.pi*(D_L(z)*c/H_0)**2*Jyms)\n",
      "<ipython-input-21-090f9ad5381a>:49: RuntimeWarning: divide by zero encountered in true_divide\n",
      "  frac = (F_max**exp - F_0**exp)/(F_max**exp - F_min**exp)\n"
     ]
    }
   ],
   "source": [
    "# get dR/dz for Parkes, for n=1, gamma=1.2, alpha = 1,2,3,4\n",
    "\n",
    "zs = np.linspace(0,10,2000)\n",
    "dRdz_a1 = dRdz(zs, n=0, F_0=3, params=[2.0, 1.3, 1.28e29, 1.28e22])\n",
    "dRdz_a2 = dRdz(zs, n=1, F_0=3, params=[2.1, 1.7, 1.28e29, 1.28e22])\n",
    "dRdz_a3 = dRdz(zs, n=2, F_0=3, params=[2.2, 2.0, 1.28e29, 1.28e22])\n",
    "#dRdz_a4 = dRdz(zs, n=1, F_0=3, params=[1.0, 3.5, 1.28e29, 1.28e22])"
   ]
  },
  {
   "cell_type": "code",
   "execution_count": 25,
   "metadata": {
    "scrolled": false
   },
   "outputs": [
    {
     "data": {
      "image/png": "[encoded data removed]",
      "text/plain": [
       "<Figure size 432x288 with 1 Axes>"
      ]
     },
     "metadata": {
      "needs_background": "light"
     },
     "output_type": "display_data"
    }
   ],
   "source": [
    "#plot\n",
    "plt.plot(zs, normalize(dRdz_a1), label='alpha = 1')\n",
    "plt.plot(zs, normalize(dRdz_a2), label='alpha = 2')\n",
    "plt.plot(zs, normalize(dRdz_a3), label='alpha = 3')\n",
    "#plt.plot(zs, normalize(dRdz_a4), label='alpha = 4')\n",
    "plt.legend()\n",
    "plt.xlabel('$z$ (redshift)')\n",
    "plt.title('event rate as function of $z$')\n",
    "plt.show()"
   ]
  },
  {
   "cell_type": "markdown",
   "metadata": {},
   "source": [
    "## dR_F/dDM"
   ]
  },
  {
   "cell_type": "markdown",
   "metadata": {},
   "source": [
    "### dR/dDM function"
   ]
  },
  {
   "cell_type": "code",
   "execution_count": 26,
   "metadata": {},
   "outputs": [],
   "source": [
    "zs = np.linspace(0,10,200)\n",
    "DM_Arcus = DM(zs, dDMdz_Arcus)\n",
    "DM_model = [DM_Arcus, zs, dDMdz_Arcus]\n",
    "\n",
    "def eff_estimate(DM):\n",
    "    '''\n",
    "    ----------I/O-----------\n",
    "    INPUT: DM - (single val/np array) of DMs\n",
    "    OUTPUT: estimate of efficiency of Parkes, as calculated in Arcus et al. 2020\n",
    "    ------------------------\n",
    "    '''\n",
    "    return 0.902546109797 - 0.184416774387*((DM + 402.950615298)**0.153263945981)\n",
    "\n",
    "def dRdDM(DM, n, F_0, SFR=SFR_Arcus, params=None, eff=False):\n",
    "    '''\n",
    "    ----------I/O-----------\n",
    "    INPUT: \n",
    "    DM     — list of DMs\n",
    "    n      — power law w/ SFR\n",
    "    F_0    — fluence limit of telescope (in Jy ms)\n",
    "    SFR    – which SFR model to use, default Arcus\n",
    "    params — [alpha, gamma, E_max, E_min], parameters of FRB energy distribution, (F_max/min in J/Hz), default None\n",
    "    eff    – parameter to include efficiency [estimate]. default value is False\n",
    "    \n",
    "    OUTPUT: \n",
    "    dR/dDM(DM, F>F_0) — differential FRB rate at DM\n",
    "    ------------------------\n",
    "    \n",
    "    Notes:\n",
    "    N/A\n",
    "    '''\n",
    "    z_vals = np.zeros(len(DM))\n",
    "    i = 0\n",
    "    for DM_i in DM:\n",
    "        z_vals[i] = z_DM(DM_i, DM_model[0], DM_model[1])\n",
    "        i+=1\n",
    "    dRdz_val = dRdz(z_vals, n, F_0, SFR=SFR, params=params)\n",
    "    dDMdz_val = DM_model[2](z_vals)\n",
    "    if eff:\n",
    "        return dRdz_val*eff_estimate(DM)/dDMdz_val\n",
    "    return dRdz_val/dDMdz_val"
   ]
  },
  {
   "cell_type": "markdown",
   "metadata": {},
   "source": [
    "### plot some examples"
   ]
  },
  {
   "cell_type": "code",
   "execution_count": 27,
   "metadata": {},
   "outputs": [
    {
     "name": "stdout",
     "output_type": "stream",
     "text": [
      "DM out of range: 0.0 pc cm^-3\n",
      "DM out of range: 0.0 pc cm^-3\n",
      "DM out of range: 0.0 pc cm^-3\n",
      "DM out of range: 0.0 pc cm^-3\n"
     ]
    },
    {
     "name": "stderr",
     "output_type": "stream",
     "text": [
      "<ipython-input-21-090f9ad5381a>:15: RuntimeWarning: divide by zero encountered in true_divide\n",
      "  return E*(1+z)**(2-alpha)/(4*np.pi*(D_L(z)*c/H_0)**2*Jyms)\n",
      "<ipython-input-21-090f9ad5381a>:49: RuntimeWarning: divide by zero encountered in true_divide\n",
      "  frac = (F_max**exp - F_0**exp)/(F_max**exp - F_min**exp)\n"
     ]
    }
   ],
   "source": [
    "# get dR/dz for Parkes, for n=0,1,2\n",
    "\n",
    "Jyms = 1.0e-26\n",
    "\n",
    "DMs = np.linspace(0, 6000, 100)\n",
    "dRdDM_0 = dRdDM(DMs, n=2, F_0=3, params=[1.0, 1.2, 1.28e29, 1.28e22], eff=False)\n",
    "dRdDM_1 = dRdDM(DMs, n=2, F_0=3, params=[2.0, 1.2, 1.28e29, 1.28e22], eff=False) #F_0 = 3 Jy ms is parkes\n",
    "dRdDM_2 = dRdDM(DMs, n=2, F_0=3, params=[3.0, 1.2, 1.28e29, 1.28e22], eff=False)\n",
    "dRdDM_3 = dRdDM(DMs, n=2, F_0=3, params=[4.0, 1.2, 1.28e29, 1.28e22], eff=False)"
   ]
  },
  {
   "cell_type": "code",
   "execution_count": 28,
   "metadata": {},
   "outputs": [],
   "source": [
    "def approx_integral(dRdDM, dDM):\n",
    "    return sum(dRdDM*dDM)\n",
    "\n",
    "dDM = DMs[1]-DMs[0]\n",
    "A1 = approx_integral(dRdDM_0, dDM)\n",
    "A2 = approx_integral(dRdDM_1, dDM)\n",
    "A3 = approx_integral(dRdDM_2, dDM)\n",
    "A4 = approx_integral(dRdDM_3, dDM)"
   ]
  },
  {
   "cell_type": "code",
   "execution_count": 29,
   "metadata": {},
   "outputs": [
    {
     "ename": "NameError",
     "evalue": "name 'DM_parkes' is not defined",
     "output_type": "error",
     "traceback": [
      "\u001b[0;31m---------------------------------------------------------------------------\u001b[0m",
      "\u001b[0;31mNameError\u001b[0m                                 Traceback (most recent call last)",
      "\u001b[0;32m<ipython-input-29-c28958f626fc>\u001b[0m in \u001b[0;36m<module>\u001b[0;34m\u001b[0m\n\u001b[1;32m      8\u001b[0m \u001b[0mplt\u001b[0m\u001b[0;34m.\u001b[0m\u001b[0mxlabel\u001b[0m\u001b[0;34m(\u001b[0m\u001b[0;34m'DM'\u001b[0m\u001b[0;34m)\u001b[0m\u001b[0;34m\u001b[0m\u001b[0;34m\u001b[0m\u001b[0m\n\u001b[1;32m      9\u001b[0m \u001b[0mplt\u001b[0m\u001b[0;34m.\u001b[0m\u001b[0mtitle\u001b[0m\u001b[0;34m(\u001b[0m\u001b[0;34m'normalized event rate as function of $DM$'\u001b[0m\u001b[0;34m)\u001b[0m\u001b[0;34m\u001b[0m\u001b[0;34m\u001b[0m\u001b[0m\n\u001b[0;32m---> 10\u001b[0;31m \u001b[0mplt\u001b[0m\u001b[0;34m.\u001b[0m\u001b[0mhist\u001b[0m\u001b[0;34m(\u001b[0m\u001b[0mDM_parkes\u001b[0m\u001b[0;34m,\u001b[0m \u001b[0mbins\u001b[0m\u001b[0;34m=\u001b[0m\u001b[0;36m6\u001b[0m\u001b[0;34m,\u001b[0m \u001b[0mdensity\u001b[0m\u001b[0;34m=\u001b[0m\u001b[0;32mTrue\u001b[0m\u001b[0;34m,\u001b[0m \u001b[0malpha\u001b[0m\u001b[0;34m=\u001b[0m\u001b[0;36m0.3\u001b[0m\u001b[0;34m)\u001b[0m\u001b[0;34m\u001b[0m\u001b[0;34m\u001b[0m\u001b[0m\n\u001b[0m\u001b[1;32m     11\u001b[0m \u001b[0mplt\u001b[0m\u001b[0;34m.\u001b[0m\u001b[0mshow\u001b[0m\u001b[0;34m(\u001b[0m\u001b[0;34m)\u001b[0m\u001b[0;34m\u001b[0m\u001b[0;34m\u001b[0m\u001b[0m\n",
      "\u001b[0;31mNameError\u001b[0m: name 'DM_parkes' is not defined"
     ]
    },
    {
     "data": {
      "image/png": "[encoded data removed]",
      "text/plain": [
       "<Figure size 432x288 with 1 Axes>"
      ]
     },
     "metadata": {
      "needs_background": "light"
     },
     "output_type": "display_data"
    }
   ],
   "source": [
    "#plot\n",
    "plt.plot(DMs, dRdDM_0/A1, label='dR/dDM (alpha=1)')\n",
    "plt.plot(DMs, dRdDM_1/A2, label='dR/dDM (2)')\n",
    "plt.plot(DMs, dRdDM_2/A3, label='dR/dDM (3)')\n",
    "plt.plot(DMs, dRdDM_3/A4, label='dR/dDM (4)')\n",
    "plt.legend()\n",
    "plt.ylabel('p(DM)')\n",
    "plt.xlabel('DM')\n",
    "plt.title('normalized event rate as function of $DM$')\n",
    "plt.hist(DM_parkes, bins=6, density=True, alpha=0.3)\n",
    "plt.show()"
   ]
  },
  {
   "cell_type": "markdown",
   "metadata": {},
   "source": [
    "\n",
    "## <span style=\"color:red\">notes: the plot is definitely wrong</span>\n",
    "- for starters, the plot should cutoff at much lower DM, ~2000\n",
    "- additionally, the spike due to the discontinuous DM Model should not be so prominent\n",
    "- also, F_0 should have a big impact, unlike the minimal impact you see above"
   ]
  },
  {
   "cell_type": "markdown",
   "metadata": {},
   "source": [
    "# Zhang et al. 2020 model"
   ]
  },
  {
   "cell_type": "markdown",
   "metadata": {},
   "source": [
    "Monte Carlo using the \"rejection method\" in this website:\n",
    "http://web.mit.edu/urban_or_book/www/book/chapter7/7.1.3.html\n",
    "\n",
    "### below: some of my program's specifications for the simulation"
   ]
  },
  {
   "cell_type": "code",
   "execution_count": 30,
   "metadata": {},
   "outputs": [],
   "source": [
    "max_SFRZ = 10.17407485592877\n",
    "zs = np.linspace(0,8.1,500)\n",
    "tL_model = [zs, t_L(zs)]"
   ]
  },
  {
   "cell_type": "markdown",
   "metadata": {},
   "source": [
    "## simulating dN/dtdV"
   ]
  },
  {
   "cell_type": "code",
   "execution_count": 31,
   "metadata": {},
   "outputs": [],
   "source": [
    "def samp_z(samp_size, delay=None, seed=0):\n",
    "    '''\n",
    "    ----------I/O-----------\n",
    "    INPUT: \n",
    "    samp_size — number of FRBs represented in the sample\n",
    "    delay     — type of delay, default None (using SFR), can also be \"gauss\", \"lognormal\", or \"power\"*\n",
    "    seed      – random seed, for reproducibility\n",
    "    \n",
    "    OUTPUT: \n",
    "    numpy array of zs, corresponding to the FRB sample\n",
    "    ------------------------\n",
    "    \n",
    "    Notes:\n",
    "    *power law not implemented yet\n",
    "    seed=None makes it random seed\n",
    "    \n",
    "    If more than 2/3 ends up getting cut in rejection method and tL < 0, may have less than requested sample size. Very unlikely.\n",
    "    '''\n",
    "    \n",
    "    rng = np.random.default_rng(seed)\n",
    "    \n",
    "    z_samps = rng.random((3*samp_size,2))\n",
    "    z_samps[:,0] *= 8\n",
    "    z_samps[:,1] *= max_SFRZ\n",
    "    rem_z = z_samps[:,0][z_samps[:,1] <= SFR_Zhang(z_samps[:,0])]\n",
    "    \n",
    "    \n",
    "    if (delay is None or delay.lower() == 'sfr'):\n",
    "        if len(rem_z) < samp_size:\n",
    "            print('Sample size smaller than expected.')\n",
    "            return rem_z\n",
    "        return rem_z[:samp_size]\n",
    "    \n",
    "    tLs = t_L(rem_z)/H_0/Gyr\n",
    "    \n",
    "    if delay.lower() == 'gauss':\n",
    "        tLs -= rng.normal(2, 0.3, len(tLs))\n",
    "    \n",
    "    if delay.lower() == 'lognormal':\n",
    "        tLs -= rng.lognormal(np.log(2.9), 0.2, len(tLs))\n",
    "    \n",
    "    #insert power law here:\n",
    "    \n",
    "    tLs = tLs[tLs > 0]*Gyr*H_0 #only take >0 and convert back to Hubble times\n",
    "    zs_final = np.zeros(len(tLs))\n",
    "    for i in range(len(tLs)):\n",
    "        zs_final[i] = z_tL(tLs[i], tL_model[1], tL_model[0])\n",
    "    \n",
    "    if len(zs_final) < samp_size:\n",
    "        print('Sample size smaller than expected.')\n",
    "        return zs_final\n",
    "    rng.shuffle(zs_final)\n",
    "    return zs_final[:samp_size]"
   ]
  },
  {
   "cell_type": "code",
   "execution_count": 78,
   "metadata": {},
   "outputs": [],
   "source": [
    "#should take about a minute\n",
    "seed=6\n",
    "size=1000\n",
    "sample_reg = samp_z(size, seed=seed)\n",
    "sample_n   = samp_z(size, delay='gauss', seed=seed)\n",
    "sample_log = samp_z(size, delay='lognormal', seed=seed)"
   ]
  },
  {
   "cell_type": "code",
   "execution_count": 79,
   "metadata": {},
   "outputs": [],
   "source": [
    "#binning the next histogram\n",
    "binwidth=0.1\n",
    "bins_reg=np.arange(min(sample_reg), max(sample_reg) + binwidth, binwidth)\n",
    "bins_n  =np.arange(min(sample_n), max(sample_n) + binwidth, binwidth)\n",
    "bins_log=np.arange(min(sample_log), max(sample_log) + binwidth, binwidth)"
   ]
  },
  {
   "cell_type": "code",
   "execution_count": 80,
   "metadata": {
    "scrolled": true
   },
   "outputs": [
    {
     "data": {
      "image/png": "[encoded data removed]",
      "text/plain": [
       "<Figure size 432x288 with 1 Axes>"
      ]
     },
     "metadata": {
      "needs_background": "light"
     },
     "output_type": "display_data"
    }
   ],
   "source": [
    "#plotting the three kinds of delay models (not including power law delay)\n",
    "plt.hist(sample_reg, histtype='step', label = 'no delay', density=True, bins=bins_reg)\n",
    "plt.hist(sample_n, histtype='step', label='normal', density=True, bins=bins_n)\n",
    "plt.hist(sample_log, histtype='step', label='log normal', density=True, bins=bins_log)\n",
    "plt.title('')\n",
    "plt.legend()\n",
    "plt.show()"
   ]
  },
  {
   "cell_type": "markdown",
   "metadata": {},
   "source": [
    "## convert dN/dtdV to dN/dtdz\n",
    "first, testing kernel density estimates"
   ]
  },
  {
   "cell_type": "code",
   "execution_count": 81,
   "metadata": {},
   "outputs": [],
   "source": [
    "from scipy import stats\n",
    "\n",
    "kde_reg = stats.gaussian_kde(sample_reg)\n",
    "kde_n   = stats.gaussian_kde(sample_n)\n",
    "kde_log = stats.gaussian_kde(sample_log)"
   ]
  },
  {
   "cell_type": "code",
   "execution_count": 82,
   "metadata": {},
   "outputs": [
    {
     "data": {
      "image/png": "[encoded data removed]",
      "text/plain": [
       "<Figure size 432x288 with 1 Axes>"
      ]
     },
     "metadata": {
      "needs_background": "light"
     },
     "output_type": "display_data"
    }
   ],
   "source": [
    "zs = np.linspace(0,8,200)\n",
    "plt.plot(zs, kde_reg(zs))\n",
    "plt.plot(zs, kde_n(zs))\n",
    "plt.plot(zs, kde_log(zs))\n",
    "plt.show()"
   ]
  },
  {
   "cell_type": "code",
   "execution_count": 83,
   "metadata": {},
   "outputs": [],
   "source": [
    "def dVdz(z):\n",
    "    '''\n",
    "    WARNING: input order is NOT same as output order\n",
    "    '''\n",
    "    return 4*np.pi*(D_L(z)**2)/(E(z)*((1+z)**2))"
   ]
  },
  {
   "cell_type": "code",
   "execution_count": 84,
   "metadata": {},
   "outputs": [
    {
     "data": {
      "image/png": "[encoded data removed]",
      "text/plain": [
       "<Figure size 432x288 with 1 Axes>"
      ]
     },
     "metadata": {
      "needs_background": "light"
     },
     "output_type": "display_data"
    }
   ],
   "source": [
    "zs = np.linspace(0,8,200)\n",
    "plt.plot(zs, kde_reg(zs)*dVdz(zs)/(1+zs))\n",
    "plt.plot(zs, kde_n(zs)*dVdz(zs)/(1+zs))\n",
    "plt.plot(zs, kde_log(zs)*dVdz(zs)/(1+zs))\n",
    "plt.title('dN/dtdz')\n",
    "plt.xlabel('z')\n",
    "plt.show()"
   ]
  },
  {
   "cell_type": "code",
   "execution_count": 86,
   "metadata": {},
   "outputs": [
    {
     "data": {
      "text/plain": [
       "0.5091193853338914"
      ]
     },
     "execution_count": 86,
     "metadata": {},
     "output_type": "execute_result"
    }
   ],
   "source": [
    "max(kde_reg(zs)*dVdz(zs)/(1+zs))"
   ]
  },
  {
   "cell_type": "markdown",
   "metadata": {},
   "source": [
    "### simulating energy distribution\n",
    "## <span style=\"color:red\">EDITS MADE BELOW THIS LINE</span>"
   ]
  },
  {
   "cell_type": "code",
   "execution_count": 87,
   "metadata": {},
   "outputs": [],
   "source": [
    "#I need to sample the dN/dtdz distribution rather than the previous dN/dtdV distribution\n",
    "\n",
    "funcs = [kde_reg, kde_n, kde_log, None]\n",
    "max_vals = [0.54, 1.42, 1.86, None]\n",
    "\n",
    "def samp_dNdtdz(samp_size, delay=None, seed=0):\n",
    "    '''\n",
    "    ----------I/O-----------\n",
    "    INPUT: \n",
    "    samp_size — number of FRBs represented in the sample\n",
    "    delay     — type of delay, default None (using SFR), can also be \"gauss\", \"lognormal\", or \"power\"*\n",
    "    seed      – random seed, for reproducibility\n",
    "    \n",
    "    OUTPUT: \n",
    "    numpy array of zs, corresponding to the FRB sample\n",
    "    ------------------------\n",
    "    \n",
    "    Notes:\n",
    "    *power law not implemented yet\n",
    "    seed=None makes it random seed\n",
    "    \n",
    "    If more than 2/3 ends up getting cut in rejection method, may have less than requested sample size. Very unlikely.\n",
    "    '''\n",
    "    \n",
    "    choices = {None:0, 'sfr':0, 'gauss':1, 'lognormal':2, 'power':3}\n",
    "    delay_str = delay\n",
    "    if type(delay_str) == str:\n",
    "        delay_str = delay.lower()\n",
    "    num = choices[delay_str]\n",
    "    \n",
    "    rng = np.random.default_rng(seed)\n",
    "    \n",
    "    z_samps = rng.random((3*samp_size,2))\n",
    "    z_samps[:,0] *= 8\n",
    "    z_samps[:,0] = sorted(z_samps[:,0])\n",
    "    zs = z_samps[:,0]\n",
    "    z_samps[:,1] *= max_vals[num]\n",
    "    rem_z = z_samps[:,0][z_samps[:,1] <= funcs[num](zs)*dVdz(zs)/(1+zs)]\n",
    "    if len(rem_z) < samp_size:\n",
    "        print('Sample size smaller than expected.')\n",
    "        return rem_z\n",
    "    rng.shuffle(rem_z)\n",
    "    return rem_z[:samp_size]"
   ]
  },
  {
   "cell_type": "code",
   "execution_count": 92,
   "metadata": {},
   "outputs": [],
   "source": [
    "samp_zs = samp_dNdtdz(100000)"
   ]
  },
  {
   "cell_type": "code",
   "execution_count": 96,
   "metadata": {},
   "outputs": [
    {
     "data": {
      "image/png": "[encoded data removed]",
      "text/plain": [
       "<Figure size 432x288 with 1 Axes>"
      ]
     },
     "metadata": {
      "needs_background": "light"
     },
     "output_type": "display_data"
    }
   ],
   "source": [
    "plt.hist(samp_zs, bins=100)\n",
    "zs = np.linspace(0,8,200)\n",
    "plt.plot(zs, kde_reg(zs)*dVdz(zs)/(1+zs)*5000)\n",
    "plt.show()"
   ]
  },
  {
   "cell_type": "code",
   "execution_count": 97,
   "metadata": {},
   "outputs": [
    {
     "data": {
      "text/plain": [
       "array([2, 4, 5])"
      ]
     },
     "execution_count": 97,
     "metadata": {},
     "output_type": "execute_result"
    }
   ],
   "source": [
    "array=np.array([False, False, True, False, True, True, False])\n",
    "arr_test = np.array([0,1,2,3,4,5,6])\n",
    "\n",
    "arr_test[array]"
   ]
  },
  {
   "cell_type": "code",
   "execution_count": 44,
   "metadata": {},
   "outputs": [
    {
     "ename": "NameError",
     "evalue": "name 'z_samps' is not defined",
     "output_type": "error",
     "traceback": [
      "\u001b[0;31m---------------------------------------------------------------------------\u001b[0m",
      "\u001b[0;31mNameError\u001b[0m                                 Traceback (most recent call last)",
      "\u001b[0;32m<ipython-input-44-3385b6c718ee>\u001b[0m in \u001b[0;36m<module>\u001b[0;34m\u001b[0m\n\u001b[0;32m----> 1\u001b[0;31m \u001b[0mkde_reg\u001b[0m\u001b[0;34m(\u001b[0m\u001b[0mz_samps\u001b[0m\u001b[0;34m[\u001b[0m\u001b[0;34m:\u001b[0m\u001b[0;34m,\u001b[0m\u001b[0;36m0\u001b[0m\u001b[0;34m]\u001b[0m\u001b[0;34m[\u001b[0m\u001b[0;36m9\u001b[0m\u001b[0;34m:\u001b[0m\u001b[0;36m16\u001b[0m\u001b[0;34m]\u001b[0m\u001b[0;34m)\u001b[0m\u001b[0;34m*\u001b[0m\u001b[0mdVdz\u001b[0m\u001b[0;34m(\u001b[0m\u001b[0mz_samps\u001b[0m\u001b[0;34m[\u001b[0m\u001b[0;34m:\u001b[0m\u001b[0;34m,\u001b[0m\u001b[0;36m0\u001b[0m\u001b[0;34m]\u001b[0m\u001b[0;34m[\u001b[0m\u001b[0;36m9\u001b[0m\u001b[0;34m:\u001b[0m\u001b[0;36m16\u001b[0m\u001b[0;34m]\u001b[0m\u001b[0;34m)\u001b[0m\u001b[0;34m\u001b[0m\u001b[0;34m\u001b[0m\u001b[0m\n\u001b[0m",
      "\u001b[0;31mNameError\u001b[0m: name 'z_samps' is not defined"
     ]
    }
   ],
   "source": [
    "kde_reg(z_samps[:,0][9:16])*dVdz(z_samps[:,0][9:16])"
   ]
  },
  {
   "cell_type": "code",
   "execution_count": 92,
   "metadata": {},
   "outputs": [
    {
     "data": {
      "text/plain": [
       "array([False,  True, False, False, False,  True, False, False, False,\n",
       "        True,  True, False, False, False, False, False,  True,  True,\n",
       "       False, False, False, False,  True,  True,  True, False, False,\n",
       "        True, False,  True])"
      ]
     },
     "execution_count": 92,
     "metadata": {},
     "output_type": "execute_result"
    }
   ],
   "source": [
    "z_samps[:,1] <= (kde_reg(z_samps[:,0])*dVdz(z_samps[:,0])/(1+z_samps[:,0]))"
   ]
  },
  {
   "cell_type": "code",
   "execution_count": 87,
   "metadata": {},
   "outputs": [
    {
     "data": {
      "text/plain": [
       "array([0.22655737, 0.06711297])"
      ]
     },
     "execution_count": 87,
     "metadata": {},
     "output_type": "execute_result"
    }
   ],
   "source": [
    "z_samps[10]"
   ]
  },
  {
   "cell_type": "code",
   "execution_count": 80,
   "metadata": {},
   "outputs": [
    {
     "data": {
      "text/plain": [
       "array([0.14568483, 0.00892492, 0.49288801, 0.39392814, 0.50493911,\n",
       "       0.00147879, 0.01813621, 0.09485404, 0.29238906, 0.2282511 ,\n",
       "       0.06711297, 0.34948234, 0.20718588, 0.52965108, 0.35124801,\n",
       "       0.21001757, 0.3896037 , 0.16753061, 0.48032343, 0.19320941,\n",
       "       0.17380947, 0.18247206, 0.48074815, 0.33652106, 0.44962784,\n",
       "       0.1292595 , 0.03162674, 0.08115091, 0.43001511, 0.0280915 ])"
      ]
     },
     "execution_count": 80,
     "metadata": {},
     "output_type": "execute_result"
    }
   ],
   "source": [
    "z_samps[:,1]"
   ]
  },
  {
   "cell_type": "code",
   "execution_count": 122,
   "metadata": {},
   "outputs": [
    {
     "name": "stderr",
     "output_type": "stream",
     "text": [
      "/Users/williamhuang/opt/anaconda3/lib/python3.8/site-packages/numpy/core/_asarray.py:171: VisibleDeprecationWarning: Creating an ndarray from ragged nested sequences (which is a list-or-tuple of lists-or-tuples-or ndarrays with different lengths or shapes) is deprecated. If you meant to do this, you must specify 'dtype=object' when creating the ndarray.\n",
      "  return array(a, dtype, copy=False, order=order, subok=True)\n"
     ]
    },
    {
     "data": {
      "text/plain": [
       "[<matplotlib.lines.Line2D at 0x7f993a3c2430>]"
      ]
     },
     "execution_count": 122,
     "metadata": {},
     "output_type": "execute_result"
    },
    {
     "data": {
      "image/png": "[encoded data removed]",
      "text/plain": [
       "<Figure size 432x288 with 1 Axes>"
      ]
     },
     "metadata": {
      "needs_background": "light"
     },
     "output_type": "display_data"
    }
   ],
   "source": [
    "rng = np.random.default_rng(0)\n",
    "z_samps = rng.random((30,2))\n",
    "z_samps[:,0] *= 8\n",
    "z_samps[:,1] *= max_vals[0]\n",
    "z_samps[:,0] = sorted(z_samps[:,0])\n",
    "zs = z_samps[:,0]\n",
    "plt.scatter(z_samps[:,0], z_samps[:,1])\n",
    "plt.scatter(z_samps[:,0][z_samps[:,1] <= (kde_reg(zs)*dVdz(zs)/(1+zs))], z_samps[:,1][z_samps[:,1] <= funcs[0](zs)*dVdz(zs)/(1+zs)])\n",
    "for x,y in z_samps:\n",
    "    plt.plot([x, x], [y, kde_reg(x)*dVdz(x)/(1+x)])\n",
    "zs = np.linspace(0,8,200)\n",
    "plt.plot(zs, kde_reg(zs)*dVdz(zs)/(1+zs))"
   ]
  },
  {
   "cell_type": "code",
   "execution_count": null,
   "metadata": {},
   "outputs": [],
   "source": []
  },
  {
   "cell_type": "code",
   "execution_count": 45,
   "metadata": {},
   "outputs": [],
   "source": [
    "def dNdE(E, alpha, E_C):\n",
    "    #E can be array, others must be constants\n",
    "    return (E/E_C)**(-alpha) * np.exp(-E/E_C)\n",
    "    \n",
    "def F_v_Zhang(E, z, v_c):\n",
    "    '''\n",
    "    WARNING: input order is NOT same as output order\n",
    "    '''\n",
    "    #E and z should be arrays\n",
    "    #E should be in J, v_c should be in Hz\n",
    "    return (1+z)*E/(4*np.pi*(D_L(z)*c/H_0)**2*v_c*Jyms)\n",
    "\n",
    "def samp_E(samp_size, params, tel, seed=0): #does not include Fluence cut\n",
    "    alpha, E_C = params\n",
    "    E_min, E_max, v_c= tel\n",
    "    \n",
    "    E_logspaced = np.logspace(np.log10(E_min), np.log10(E_max), 100000)\n",
    "    As = np.zeros(len(E_logspaced)-1)\n",
    "    for i in range(len(E_logspaced)-1):\n",
    "        E_i_1, E_i = E_logspaced[i+1], E_logspaced[i]\n",
    "        dNdE_av = (dNdE(E_i_1, alpha, E_C)+dNdE(E_i, alpha, E_C))/2\n",
    "        dE = E_i_1 - E_i\n",
    "        As[i] = dNdE_av*dE\n",
    "    print(sum(As)/E_C)\n",
    "    As /= sum(As)    \n",
    "    \n",
    "    rng = np.random.default_rng(seed)\n",
    "    \n",
    "    Es = E_logspaced[:-1] #elements\n",
    "    #probabilities is As\n",
    "    samp_Es = rng.choice(Es, samp_size, p=As)\n",
    "    \n",
    "    #add some \n",
    "    #since should be exactly part of the elements of Es, can use bleft to obtain index:\n",
    "    \n",
    "    dEs = E_logspaced[1:]-E_logspaced[:-1] \n",
    "    \n",
    "    for i in range(len(samp_Es)):\n",
    "        dE = dEs[bleft(Es, samp_Es[i])]\n",
    "        samp_Es[i] += dE*rng.random()\n",
    "    \n",
    "    return samp_Es"
   ]
  },
  {
   "cell_type": "code",
   "execution_count": 46,
   "metadata": {},
   "outputs": [
    {
     "data": {
      "image/png": "[encoded data removed]",
      "text/plain": [
       "<Figure size 432x288 with 1 Axes>"
      ]
     },
     "metadata": {
      "needs_background": "light"
     },
     "output_type": "display_data"
    }
   ],
   "source": [
    "Es = np.logspace(37.5-41.5, 44-41.5, 200)\n",
    "plt.plot(Es, dNdE(Es, 1.8, 1), label='distr')\n",
    "plt.plot([1e-3, 1e-3], [-1,4], label='$E_{min}$')\n",
    "plt.plot([1, 1], [-1,4], label='$E_{mid}$')\n",
    "plt.plot([316.228, 316.228], [-1,1e7], label='$E_{max}$')\n",
    "plt.plot([-1,320], [0,0], color='black')\n",
    "plt.ylim([-0.3,3.2])\n",
    "plt.xlim([-0.3,6])\n",
    "plt.legend()\n",
    "plt.show()"
   ]
  },
  {
   "cell_type": "code",
   "execution_count": 47,
   "metadata": {},
   "outputs": [
    {
     "name": "stdout",
     "output_type": "stream",
     "text": [
      "0.003605050137461976\n"
     ]
    }
   ],
   "source": [
    "E_loged = np.logspace(42-41.5, 1, 1000000)\n",
    "dE = E_loged[1:] - E_loged[:-1]\n",
    "E_loged = E_loged[:-1]\n",
    "\n",
    "area_tot = sum(dNdE(E_loged, 1.8, 1)*dE)\n",
    "print(area_tot)"
   ]
  },
  {
   "cell_type": "code",
   "execution_count": 42,
   "metadata": {},
   "outputs": [
    {
     "data": {
      "text/plain": [
       "1.824241871325299e-06"
      ]
     },
     "execution_count": 42,
     "metadata": {},
     "output_type": "execute_result"
    }
   ],
   "source": [
    "0.003605050137461976/1976.1908736602632"
   ]
  },
  {
   "cell_type": "code",
   "execution_count": 48,
   "metadata": {},
   "outputs": [
    {
     "name": "stdout",
     "output_type": "stream",
     "text": [
      "0.15926237318699915\n",
      "1976.962972411541\n",
      "8.055910778780422\n"
     ]
    }
   ],
   "source": [
    "Es_int1 = np.linspace(1e-4,10,100000000)\n",
    "dE1 = Es_int1[1] - Es_int1[0]\n",
    "Es_int2 = np.linspace(1, 10, 1000000)\n",
    "dE2 = Es_int2[1] - Es_int2[0]\n",
    "\n",
    "total_area = sum(dNdE(Es_int1, 1.8, 1)*dE1)\n",
    "right_area = sum(dNdE(Es_int2, 1.8, 1)*dE2)\n",
    "print(right_area)\n",
    "print(total_area)\n",
    "print(right_area/total_area*1e5)"
   ]
  },
  {
   "cell_type": "code",
   "execution_count": 44,
   "metadata": {},
   "outputs": [
    {
     "name": "stdout",
     "output_type": "stream",
     "text": [
      "1976.1703945488493\n"
     ]
    }
   ],
   "source": [
    "E_samp = samp_E(100000, [1.8, 10**41.5], [10**37.5, 1e44, 1.352e9], seed=6)"
   ]
  },
  {
   "cell_type": "code",
   "execution_count": 45,
   "metadata": {},
   "outputs": [
    {
     "data": {
      "text/plain": [
       "0.0"
      ]
     },
     "execution_count": 45,
     "metadata": {},
     "output_type": "execute_result"
    }
   ],
   "source": [
    "sum(E_samp>10**42)/100000"
   ]
  },
  {
   "cell_type": "code",
   "execution_count": 46,
   "metadata": {},
   "outputs": [
    {
     "data": {
      "image/png": "[encoded data removed]",
      "text/plain": [
       "<Figure size 432x288 with 1 Axes>"
      ]
     },
     "metadata": {
      "needs_background": "light"
     },
     "output_type": "display_data"
    }
   ],
   "source": [
    "plt.hist(E_samp, bins=100, label='sim')\n",
    "E_x = np.logspace(37.5, 42, 200)\n",
    "plt.plot(E_x, dNdE(E_x, 1.8, 10**41.5), label='distr')\n",
    "plt.ylim([0,1000])\n",
    "plt.xlim([0, 0.1e42])\n",
    "#plt.yscale('log')\n",
    "plt.legend()\n",
    "plt.show()"
   ]
  },
  {
   "cell_type": "markdown",
   "metadata": {},
   "source": [
    "## trying those new graphs"
   ]
  },
  {
   "cell_type": "code",
   "execution_count": 135,
   "metadata": {},
   "outputs": [
    {
     "name": "stdout",
     "output_type": "stream",
     "text": [
      "1976.1703945488493\n"
     ]
    }
   ],
   "source": [
    "seed=6\n",
    "size=100000\n",
    "z_s = samp_z(size, seed=seed) #takes the most time\n",
    "E_s = samp_E(size, [1.8, 10**41.5], [10**37.5, 1e44, 1.352e9], seed=seed)"
   ]
  },
  {
   "cell_type": "code",
   "execution_count": 136,
   "metadata": {},
   "outputs": [
    {
     "data": {
      "image/png": "[encoded data removed]",
      "text/plain": [
       "<Figure size 432x288 with 1 Axes>"
      ]
     },
     "metadata": {
      "needs_background": "light"
     },
     "output_type": "display_data"
    }
   ],
   "source": [
    "plt.hist(z_s,bins=100)\n",
    "plt.xlabel('redshift')\n",
    "plt.ylabel('# of FRBs')\n",
    "plt.show()"
   ]
  },
  {
   "cell_type": "code",
   "execution_count": 137,
   "metadata": {},
   "outputs": [
    {
     "data": {
      "image/png": "[encoded data removed]",
      "text/plain": [
       "<Figure size 432x288 with 1 Axes>"
      ]
     },
     "metadata": {
      "needs_background": "light"
     },
     "output_type": "display_data"
    }
   ],
   "source": [
    "plt.hist(np.log10(E_s),bins=100)\n",
    "plt.xlabel('E (energy at location)')\n",
    "plt.ylabel('# of FRBs')\n",
    "Es = np.logspace(37.5, 42, 200)\n",
    "plt.plot(np.log10(Es), Es*dNdE(Es, 1.8, 10**41.5)/6e40, label='distr')\n",
    "#plt.ylim([0,30])\n",
    "plt.show()"
   ]
  },
  {
   "cell_type": "code",
   "execution_count": 138,
   "metadata": {},
   "outputs": [],
   "source": [
    "Fvs = F_v_Zhang(E_s/1e7, z_s, 1.352e9) #/1e7 is erg > J"
   ]
  },
  {
   "cell_type": "code",
   "execution_count": 139,
   "metadata": {},
   "outputs": [
    {
     "data": {
      "image/png": "[encoded data removed]",
      "text/plain": [
       "<Figure size 432x288 with 1 Axes>"
      ]
     },
     "metadata": {
      "needs_background": "light"
     },
     "output_type": "display_data"
    }
   ],
   "source": [
    "plt.hist(np.log10(E_s[Fvs > 2]))\n",
    "plt.xlabel('E (energy at location)')\n",
    "plt.ylabel('# of FRBs')\n",
    "#plt.xlim(38,42)\n",
    "plt.show()"
   ]
  },
  {
   "cell_type": "markdown",
   "metadata": {},
   "source": [
    "# Comparison with Data"
   ]
  },
  {
   "cell_type": "code",
   "execution_count": 44,
   "metadata": {},
   "outputs": [
    {
     "data": {
      "text/html": [
       "<div>\n",
       "<style scoped>\n",
       "    .dataframe tbody tr th:only-of-type {\n",
       "        vertical-align: middle;\n",
       "    }\n",
       "\n",
       "    .dataframe tbody tr th {\n",
       "        vertical-align: top;\n",
       "    }\n",
       "\n",
       "    .dataframe thead th {\n",
       "        text-align: right;\n",
       "    }\n",
       "</style>\n",
       "<table border=\"1\" class=\"dataframe\">\n",
       "  <thead>\n",
       "    <tr style=\"text-align: right;\">\n",
       "      <th></th>\n",
       "      <th>name</th>\n",
       "      <th>utc</th>\n",
       "      <th>tel</th>\n",
       "      <th>DM_gal</th>\n",
       "      <th>DM</th>\n",
       "      <th>W</th>\n",
       "      <th>S/N</th>\n",
       "      <th>Flux</th>\n",
       "      <th>f_c</th>\n",
       "      <th>F_obs</th>\n",
       "      <th>DM_excess</th>\n",
       "      <th>bandwidth</th>\n",
       "      <th>repeat</th>\n",
       "    </tr>\n",
       "  </thead>\n",
       "  <tbody>\n",
       "    <tr>\n",
       "      <th>0</th>\n",
       "      <td>FRB190711</td>\n",
       "      <td>2019/07/11 1:53:41</td>\n",
       "      <td>ASKAP</td>\n",
       "      <td>56.40</td>\n",
       "      <td>593.10</td>\n",
       "      <td>6.5</td>\n",
       "      <td>23.8</td>\n",
       "      <td>NaN</td>\n",
       "      <td>1320.0</td>\n",
       "      <td>34.0</td>\n",
       "      <td>536.70</td>\n",
       "      <td>1.0</td>\n",
       "      <td>x</td>\n",
       "    </tr>\n",
       "    <tr>\n",
       "      <th>1</th>\n",
       "      <td>FRB190611</td>\n",
       "      <td>2019/06/11 5:45:43</td>\n",
       "      <td>ASKAP</td>\n",
       "      <td>57.83</td>\n",
       "      <td>321.40</td>\n",
       "      <td>2.0</td>\n",
       "      <td>9.3</td>\n",
       "      <td>NaN</td>\n",
       "      <td>1320.0</td>\n",
       "      <td>10.0</td>\n",
       "      <td>263.57</td>\n",
       "      <td>1.0</td>\n",
       "      <td>NaN</td>\n",
       "    </tr>\n",
       "    <tr>\n",
       "      <th>2</th>\n",
       "      <td>FRB190608</td>\n",
       "      <td>2019/06/08 22:48:13</td>\n",
       "      <td>ASKAP</td>\n",
       "      <td>37.20</td>\n",
       "      <td>338.70</td>\n",
       "      <td>6.0</td>\n",
       "      <td>16.1</td>\n",
       "      <td>NaN</td>\n",
       "      <td>1320.0</td>\n",
       "      <td>26.0</td>\n",
       "      <td>301.50</td>\n",
       "      <td>1.0</td>\n",
       "      <td>NaN</td>\n",
       "    </tr>\n",
       "    <tr>\n",
       "      <th>3</th>\n",
       "      <td>FRB190102</td>\n",
       "      <td>2019/01/02 5:38:43</td>\n",
       "      <td>ASKAP</td>\n",
       "      <td>57.30</td>\n",
       "      <td>363.60</td>\n",
       "      <td>1.7</td>\n",
       "      <td>14.0</td>\n",
       "      <td>NaN</td>\n",
       "      <td>1320.0</td>\n",
       "      <td>14.0</td>\n",
       "      <td>306.30</td>\n",
       "      <td>1.0</td>\n",
       "      <td>NaN</td>\n",
       "    </tr>\n",
       "    <tr>\n",
       "      <th>4</th>\n",
       "      <td>FRB181112</td>\n",
       "      <td>2018/11/12 17:31:15</td>\n",
       "      <td>ASKAP</td>\n",
       "      <td>102.00</td>\n",
       "      <td>589.27</td>\n",
       "      <td>2.1</td>\n",
       "      <td>19.3</td>\n",
       "      <td>NaN</td>\n",
       "      <td>1272.5</td>\n",
       "      <td>26.0</td>\n",
       "      <td>487.27</td>\n",
       "      <td>NaN</td>\n",
       "      <td>NaN</td>\n",
       "    </tr>\n",
       "  </tbody>\n",
       "</table>\n",
       "</div>"
      ],
      "text/plain": [
       "        name                  utc    tel  DM_gal      DM    W   S/N  Flux  \\\n",
       "0  FRB190711   2019/07/11 1:53:41  ASKAP   56.40  593.10  6.5  23.8   NaN   \n",
       "1  FRB190611   2019/06/11 5:45:43  ASKAP   57.83  321.40  2.0   9.3   NaN   \n",
       "2  FRB190608  2019/06/08 22:48:13  ASKAP   37.20  338.70  6.0  16.1   NaN   \n",
       "3  FRB190102   2019/01/02 5:38:43  ASKAP   57.30  363.60  1.7  14.0   NaN   \n",
       "4  FRB181112  2018/11/12 17:31:15  ASKAP  102.00  589.27  2.1  19.3   NaN   \n",
       "\n",
       "      f_c  F_obs  DM_excess  bandwidth repeat  \n",
       "0  1320.0   34.0     536.70        1.0      x  \n",
       "1  1320.0   10.0     263.57        1.0    NaN  \n",
       "2  1320.0   26.0     301.50        1.0    NaN  \n",
       "3  1320.0   14.0     306.30        1.0    NaN  \n",
       "4  1272.5   26.0     487.27        NaN    NaN  "
      ]
     },
     "execution_count": 44,
     "metadata": {},
     "output_type": "execute_result"
    }
   ],
   "source": [
    "import pandas as pd\n",
    "data = pd.read_csv(\"./data/frb_0602.csv\")\n",
    "column_meanings = data.columns\n",
    "data.columns = ['name', 'utc', 'tel', 'DM_gal', 'DM', 'W', 'S/N', 'Flux', 'f_c', 'F_obs', 'DM_excess', 'bandwidth', 'repeat']\n",
    "data.head()"
   ]
  },
  {
   "cell_type": "code",
   "execution_count": 45,
   "metadata": {},
   "outputs": [],
   "source": [
    "#modify the capital 'Parkes' to 'parkes', for easier selection of telescopes later\n",
    "data.at[88, 'tel'] = 'parkes'"
   ]
  },
  {
   "cell_type": "code",
   "execution_count": 46,
   "metadata": {},
   "outputs": [],
   "source": [
    "ASKAP = data[data['tel'] == 'ASKAP']\n",
    "CHIME = data[data['tel'] == 'CHIME/FRB']\n",
    "parkes = data[data['tel'] == 'parkes']"
   ]
  },
  {
   "cell_type": "code",
   "execution_count": 47,
   "metadata": {},
   "outputs": [],
   "source": [
    "DM_ASKAP = np.array(ASKAP['DM_excess'])\n",
    "F_A      = np.array(ASKAP['F_obs'])\n",
    "DM_CHIME = np.array(CHIME['DM_excess'])\n",
    "F_C      = np.array(CHIME['F_obs'])\n",
    "DM_parkes= np.array(parkes['DM_excess'])\n",
    "F_P      = np.array(parkes['F_obs'])"
   ]
  },
  {
   "cell_type": "code",
   "execution_count": 48,
   "metadata": {},
   "outputs": [
    {
     "data": {
      "image/png": "[encoded data removed]",
      "text/plain": [
       "<Figure size 432x288 with 1 Axes>"
      ]
     },
     "metadata": {
      "needs_background": "light"
     },
     "output_type": "display_data"
    }
   ],
   "source": [
    "binwidth = 250\n",
    "dmdata=DM_ASKAP\n",
    "bins_A=np.arange(0, max(dmdata) + binwidth, binwidth)\n",
    "\n",
    "binwidth = 250\n",
    "dmdata=DM_CHIME\n",
    "bins_C=np.arange(0, max(dmdata) + binwidth, binwidth)\n",
    "\n",
    "binwidth = 400\n",
    "dmdata=DM_parkes\n",
    "bins_P=np.arange(0, max(dmdata) + binwidth, binwidth)\n",
    "\n",
    "plt.hist(DM_ASKAP,alpha=0.3, label='ASKAP', bins=bins_A)\n",
    "plt.hist(DM_CHIME,alpha=0.3, label='CHIME', bins=bins_C)\n",
    "plt.hist(DM_parkes,alpha=0.2, label='parkes', bins=bins_P)\n",
    "plt.title('FRB distributions')\n",
    "plt.ylabel('# of FRBs')\n",
    "plt.xlabel('DM excess (pc cm$^{-3}$)')\n",
    "plt.legend()\n",
    "plt.show()"
   ]
  },
  {
   "cell_type": "code",
   "execution_count": 87,
   "metadata": {},
   "outputs": [
    {
     "data": {
      "text/html": [
       "<div>\n",
       "<style scoped>\n",
       "    .dataframe tbody tr th:only-of-type {\n",
       "        vertical-align: middle;\n",
       "    }\n",
       "\n",
       "    .dataframe tbody tr th {\n",
       "        vertical-align: top;\n",
       "    }\n",
       "\n",
       "    .dataframe thead th {\n",
       "        text-align: right;\n",
       "    }\n",
       "</style>\n",
       "<table border=\"1\" class=\"dataframe\">\n",
       "  <thead>\n",
       "    <tr style=\"text-align: right;\">\n",
       "      <th></th>\n",
       "      <th>name</th>\n",
       "      <th>utc</th>\n",
       "      <th>tel</th>\n",
       "      <th>DM_gal</th>\n",
       "      <th>DM</th>\n",
       "      <th>W</th>\n",
       "      <th>S/N</th>\n",
       "      <th>Flux</th>\n",
       "      <th>f_c</th>\n",
       "      <th>F_obs</th>\n",
       "      <th>DM_excess</th>\n",
       "      <th>bandwidth</th>\n",
       "      <th>repeat</th>\n",
       "    </tr>\n",
       "  </thead>\n",
       "  <tbody>\n",
       "    <tr>\n",
       "      <th>0</th>\n",
       "      <td>FRB190711</td>\n",
       "      <td>2019/07/11 1:53:41</td>\n",
       "      <td>ASKAP</td>\n",
       "      <td>56.40</td>\n",
       "      <td>593.10</td>\n",
       "      <td>6.5</td>\n",
       "      <td>23.8</td>\n",
       "      <td>NaN</td>\n",
       "      <td>1320.0</td>\n",
       "      <td>34.00</td>\n",
       "      <td>536.70</td>\n",
       "      <td>1.0</td>\n",
       "      <td>x</td>\n",
       "    </tr>\n",
       "    <tr>\n",
       "      <th>1</th>\n",
       "      <td>FRB190611</td>\n",
       "      <td>2019/06/11 5:45:43</td>\n",
       "      <td>ASKAP</td>\n",
       "      <td>57.83</td>\n",
       "      <td>321.40</td>\n",
       "      <td>2.0</td>\n",
       "      <td>9.3</td>\n",
       "      <td>NaN</td>\n",
       "      <td>1320.0</td>\n",
       "      <td>10.00</td>\n",
       "      <td>263.57</td>\n",
       "      <td>1.0</td>\n",
       "      <td>NaN</td>\n",
       "    </tr>\n",
       "    <tr>\n",
       "      <th>2</th>\n",
       "      <td>FRB190608</td>\n",
       "      <td>2019/06/08 22:48:13</td>\n",
       "      <td>ASKAP</td>\n",
       "      <td>37.20</td>\n",
       "      <td>338.70</td>\n",
       "      <td>6.0</td>\n",
       "      <td>16.1</td>\n",
       "      <td>NaN</td>\n",
       "      <td>1320.0</td>\n",
       "      <td>26.00</td>\n",
       "      <td>301.50</td>\n",
       "      <td>1.0</td>\n",
       "      <td>NaN</td>\n",
       "    </tr>\n",
       "    <tr>\n",
       "      <th>3</th>\n",
       "      <td>FRB190102</td>\n",
       "      <td>2019/01/02 5:38:43</td>\n",
       "      <td>ASKAP</td>\n",
       "      <td>57.30</td>\n",
       "      <td>363.60</td>\n",
       "      <td>1.7</td>\n",
       "      <td>14.0</td>\n",
       "      <td>NaN</td>\n",
       "      <td>1320.0</td>\n",
       "      <td>14.00</td>\n",
       "      <td>306.30</td>\n",
       "      <td>1.0</td>\n",
       "      <td>NaN</td>\n",
       "    </tr>\n",
       "    <tr>\n",
       "      <th>4</th>\n",
       "      <td>FRB181112</td>\n",
       "      <td>2018/11/12 17:31:15</td>\n",
       "      <td>ASKAP</td>\n",
       "      <td>102.00</td>\n",
       "      <td>589.27</td>\n",
       "      <td>2.1</td>\n",
       "      <td>19.3</td>\n",
       "      <td>NaN</td>\n",
       "      <td>1272.5</td>\n",
       "      <td>26.00</td>\n",
       "      <td>487.27</td>\n",
       "      <td>NaN</td>\n",
       "      <td>NaN</td>\n",
       "    </tr>\n",
       "    <tr>\n",
       "      <th>...</th>\n",
       "      <td>...</td>\n",
       "      <td>...</td>\n",
       "      <td>...</td>\n",
       "      <td>...</td>\n",
       "      <td>...</td>\n",
       "      <td>...</td>\n",
       "      <td>...</td>\n",
       "      <td>...</td>\n",
       "      <td>...</td>\n",
       "      <td>...</td>\n",
       "      <td>...</td>\n",
       "      <td>...</td>\n",
       "      <td>...</td>\n",
       "    </tr>\n",
       "    <tr>\n",
       "      <th>85</th>\n",
       "      <td>FRB010724</td>\n",
       "      <td>2001/07/24 19:50:02</td>\n",
       "      <td>parkes</td>\n",
       "      <td>44.58</td>\n",
       "      <td>375.00</td>\n",
       "      <td>5.0</td>\n",
       "      <td>23.0</td>\n",
       "      <td>30.00</td>\n",
       "      <td>1374.0</td>\n",
       "      <td>8.64</td>\n",
       "      <td>330.42</td>\n",
       "      <td>3.0</td>\n",
       "      <td>X</td>\n",
       "    </tr>\n",
       "    <tr>\n",
       "      <th>86</th>\n",
       "      <td>FRB010621</td>\n",
       "      <td>2001/06/21 13:02:11</td>\n",
       "      <td>parkes</td>\n",
       "      <td>523.00</td>\n",
       "      <td>745.00</td>\n",
       "      <td>7.0</td>\n",
       "      <td>16.3</td>\n",
       "      <td>0.41</td>\n",
       "      <td>1374.0</td>\n",
       "      <td>4.24</td>\n",
       "      <td>225.00</td>\n",
       "      <td>3.0</td>\n",
       "      <td>X</td>\n",
       "    </tr>\n",
       "    <tr>\n",
       "      <th>87</th>\n",
       "      <td>FRB010312</td>\n",
       "      <td>2001/03/12 11:06:48</td>\n",
       "      <td>parkes</td>\n",
       "      <td>51.00</td>\n",
       "      <td>1187.00</td>\n",
       "      <td>24.3</td>\n",
       "      <td>11.0</td>\n",
       "      <td>0.25</td>\n",
       "      <td>1374.0</td>\n",
       "      <td>5.60</td>\n",
       "      <td>1136.00</td>\n",
       "      <td>3.0</td>\n",
       "      <td>X</td>\n",
       "    </tr>\n",
       "    <tr>\n",
       "      <th>88</th>\n",
       "      <td>FRB010305</td>\n",
       "      <td>2001/03/05 12:29:16</td>\n",
       "      <td>parkes</td>\n",
       "      <td>36.00</td>\n",
       "      <td>350.00</td>\n",
       "      <td>9.0</td>\n",
       "      <td>10.2</td>\n",
       "      <td>4.20</td>\n",
       "      <td>1374.0</td>\n",
       "      <td>3.78</td>\n",
       "      <td>314.00</td>\n",
       "      <td>3.0</td>\n",
       "      <td>NaN</td>\n",
       "    </tr>\n",
       "    <tr>\n",
       "      <th>89</th>\n",
       "      <td>FRB010125</td>\n",
       "      <td>2001/01/25 0:29:16</td>\n",
       "      <td>parkes</td>\n",
       "      <td>110.00</td>\n",
       "      <td>790.00</td>\n",
       "      <td>9.4</td>\n",
       "      <td>17.0</td>\n",
       "      <td>0.30</td>\n",
       "      <td>1372.5</td>\n",
       "      <td>5.72</td>\n",
       "      <td>680.30</td>\n",
       "      <td>3.0</td>\n",
       "      <td>X</td>\n",
       "    </tr>\n",
       "  </tbody>\n",
       "</table>\n",
       "<p>90 rows × 13 columns</p>\n",
       "</div>"
      ],
      "text/plain": [
       "         name                  utc     tel  DM_gal       DM     W   S/N  \\\n",
       "0   FRB190711   2019/07/11 1:53:41   ASKAP   56.40   593.10   6.5  23.8   \n",
       "1   FRB190611   2019/06/11 5:45:43   ASKAP   57.83   321.40   2.0   9.3   \n",
       "2   FRB190608  2019/06/08 22:48:13   ASKAP   37.20   338.70   6.0  16.1   \n",
       "3   FRB190102   2019/01/02 5:38:43   ASKAP   57.30   363.60   1.7  14.0   \n",
       "4   FRB181112  2018/11/12 17:31:15   ASKAP  102.00   589.27   2.1  19.3   \n",
       "..        ...                  ...     ...     ...      ...   ...   ...   \n",
       "85  FRB010724  2001/07/24 19:50:02  parkes   44.58   375.00   5.0  23.0   \n",
       "86  FRB010621  2001/06/21 13:02:11  parkes  523.00   745.00   7.0  16.3   \n",
       "87  FRB010312  2001/03/12 11:06:48  parkes   51.00  1187.00  24.3  11.0   \n",
       "88  FRB010305  2001/03/05 12:29:16  parkes   36.00   350.00   9.0  10.2   \n",
       "89  FRB010125   2001/01/25 0:29:16  parkes  110.00   790.00   9.4  17.0   \n",
       "\n",
       "     Flux     f_c  F_obs  DM_excess  bandwidth repeat  \n",
       "0     NaN  1320.0  34.00     536.70        1.0      x  \n",
       "1     NaN  1320.0  10.00     263.57        1.0    NaN  \n",
       "2     NaN  1320.0  26.00     301.50        1.0    NaN  \n",
       "3     NaN  1320.0  14.00     306.30        1.0    NaN  \n",
       "4     NaN  1272.5  26.00     487.27        NaN    NaN  \n",
       "..    ...     ...    ...        ...        ...    ...  \n",
       "85  30.00  1374.0   8.64     330.42        3.0      X  \n",
       "86   0.41  1374.0   4.24     225.00        3.0      X  \n",
       "87   0.25  1374.0   5.60    1136.00        3.0      X  \n",
       "88   4.20  1374.0   3.78     314.00        3.0    NaN  \n",
       "89   0.30  1372.5   5.72     680.30        3.0      X  \n",
       "\n",
       "[90 rows x 13 columns]"
      ]
     },
     "execution_count": 87,
     "metadata": {},
     "output_type": "execute_result"
    }
   ],
   "source": [
    "data"
   ]
  },
  {
   "cell_type": "markdown",
   "metadata": {},
   "source": [
    "## experimental section"
   ]
  },
  {
   "cell_type": "code",
   "execution_count": 148,
   "metadata": {},
   "outputs": [],
   "source": [
    "zs  = np.linspace(0,8,200)\n",
    "DMs = DM(zs, dDMdz=dDMdz_Zhang)\n",
    "\n",
    "z_A = np.zeros(len(DM_ASKAP))\n",
    "z_C = np.zeros(len(DM_CHIME))\n",
    "z_P = np.zeros(len(DM_parkes))\n",
    "\n",
    "for i, DM_i in enumerate(DM_ASKAP):\n",
    "    z_A[i] = z_DM(DM_i, DMs, zs)\n",
    "\n",
    "for i, DM_i, in enumerate(DM_CHIME):\n",
    "    z_C[i] = z_DM(DM_i, DMs, zs)\n",
    "\n",
    "for i, DM_i in enumerate(DM_parkes):\n",
    "    z_P[i] = z_DM(DM_i, DMs, zs)\n",
    "\n",
    "E_A = 4*np.pi*(D_L(z_A)*c/H_0)**2*(1.352e9)*(F_A*Jyms)/(1+(z_A))**2\n",
    "E_C = 4*np.pi*(D_L(z_C)*c/H_0)**2*(1.352e9)*(F_C*Jyms)/(1+(z_C))**2\n",
    "E_P = 4*np.pi*(D_L(z_P)*c/H_0)**2*(1.352e9)*(F_P*Jyms)/(1+(z_P))**2\n",
    "\n",
    "E_lim = 4*np.pi*(D_L(zs)*c/H_0)**2*(1.352e9)*(2*Jyms)/(1+(zs))**2 #2 Jyms"
   ]
  },
  {
   "cell_type": "code",
   "execution_count": 149,
   "metadata": {},
   "outputs": [
    {
     "data": {
      "image/png": "[encoded data removed]",
      "text/plain": [
       "<Figure size 432x288 with 1 Axes>"
      ]
     },
     "metadata": {
      "needs_background": "light"
     },
     "output_type": "display_data"
    }
   ],
   "source": [
    "plt.scatter(z_A, E_A)\n",
    "#plt.scatter(z_A[F_A < 26], E_A[F_A < 26])\n",
    "plt.scatter(z_P, E_P)\n",
    "plt.scatter(z_C, E_C)\n",
    "plt.plot(zs, E_lim*26/2)\n",
    "plt.plot(zs, E_lim)\n",
    "plt.xlim([0,3])\n",
    "plt.yscale('log')\n",
    "#plt.ylim([0,10])"
   ]
  },
  {
   "cell_type": "code",
   "execution_count": 104,
   "metadata": {},
   "outputs": [
    {
     "name": "stdout",
     "output_type": "stream",
     "text": [
      "29\n",
      "32\n"
     ]
    }
   ],
   "source": [
    "print(sum(ASKAP['F_obs'] >= 26))\n",
    "print(len(ASKAP))"
   ]
  },
  {
   "cell_type": "code",
   "execution_count": 125,
   "metadata": {},
   "outputs": [
    {
     "name": "stdout",
     "output_type": "stream",
     "text": [
      "16\n",
      "28\n"
     ]
    }
   ],
   "source": [
    "\n",
    "print(sum(F_P>2))\n",
    "print(len(F_P))"
   ]
  },
  {
   "cell_type": "code",
   "execution_count": null,
   "metadata": {},
   "outputs": [],
   "source": []
  }
 ],
 "metadata": {
  "kernelspec": {
   "display_name": "Python 3",
   "language": "python",
   "name": "python3"
  },
  "language_info": {
   "codemirror_mode": {
    "name": "ipython",
    "version": 3
   },
   "file_extension": ".py",
   "mimetype": "text/x-python",
   "name": "python",
   "nbconvert_exporter": "python",
   "pygments_lexer": "ipython3",
   "version": "3.8.8"
  }
 },
 "nbformat": 4,
 "nbformat_minor": 4
}
