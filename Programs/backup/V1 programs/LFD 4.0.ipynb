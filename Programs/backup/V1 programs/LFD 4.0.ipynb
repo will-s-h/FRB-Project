{
 "cells": [
  {
   "cell_type": "markdown",
   "metadata": {},
   "source": [
    "## MAIN GOAL OF THIS VERSION\n",
    "- try to implement pandas instead of multiple arrays\n",
    "- be best"
   ]
  },
  {
   "cell_type": "markdown",
   "metadata": {},
   "source": [
    "## hide_toggle() setup"
   ]
  },
  {
   "cell_type": "code",
   "execution_count": 1,
   "metadata": {},
   "outputs": [
    {
     "data": {
      "text/html": [
       "\n",
       "        <script>\n",
       "            function code_toggle_5723355561712830654() {\n",
       "                $('div.cell.code_cell.rendered.selected').find('div.input').toggle();\n",
       "            }\n",
       "\n",
       "            \n",
       "        </script>\n",
       "\n",
       "        <a href=\"javascript:code_toggle_5723355561712830654()\">Toggle show/hide</a>\n",
       "    "
      ],
      "text/plain": [
       "<IPython.core.display.HTML object>"
      ]
     },
     "execution_count": 1,
     "metadata": {},
     "output_type": "execute_result"
    }
   ],
   "source": [
    "#Note that I don't actually know how this function works,\n",
    "#but it doesn't really matter because I'm not looking to\n",
    "#edit this function any time soon. It serves its purpose.\n",
    "\n",
    "from IPython.display import HTML\n",
    "import random\n",
    "\n",
    "def hide_toggle(for_next=False):\n",
    "    this_cell = \"\"\"$('div.cell.code_cell.rendered.selected')\"\"\"\n",
    "    next_cell = this_cell + '.next()'\n",
    "\n",
    "    toggle_text = 'Toggle show/hide'  # text shown on toggle link\n",
    "    target_cell = this_cell  # target cell to control with toggle\n",
    "    js_hide_current = ''  # bit of JS to permanently hide code in current cell (only when toggling next cell)\n",
    "\n",
    "    if for_next:\n",
    "        target_cell = next_cell\n",
    "        toggle_text += ' next cell'\n",
    "        js_hide_current = this_cell + '.find(\"div.input\").hide();'\n",
    "\n",
    "    js_f_name = 'code_toggle_{}'.format(str(random.randint(1,2**64)))\n",
    "\n",
    "    html = \"\"\"\n",
    "        <script>\n",
    "            function {f_name}() {{\n",
    "                {cell_selector}.find('div.input').toggle();\n",
    "            }}\n",
    "\n",
    "            {js_hide_current}\n",
    "        </script>\n",
    "\n",
    "        <a href=\"javascript:{f_name}()\">{toggle_text}</a>\n",
    "    \"\"\".format(\n",
    "        f_name=js_f_name,\n",
    "        cell_selector=target_cell,\n",
    "        js_hide_current=js_hide_current, \n",
    "        toggle_text=toggle_text\n",
    "    )\n",
    "\n",
    "    return HTML(html)\n",
    "\n",
    "hide_toggle()"
   ]
  },
  {
   "cell_type": "markdown",
   "metadata": {},
   "source": [
    "# Original Kendall Tau Setup"
   ]
  },
  {
   "cell_type": "markdown",
   "metadata": {},
   "source": [
    "g_new, L_lim1  \n",
    "sort_by_first, sort_by_1, kt_newform  \n",
    "L_lim2, kendall_tau"
   ]
  },
  {
   "cell_type": "code",
   "execution_count": 2,
   "metadata": {},
   "outputs": [
    {
     "data": {
      "text/html": [
       "\n",
       "        <script>\n",
       "            function code_toggle_3324728109104614318() {\n",
       "                $('div.cell.code_cell.rendered.selected').find('div.input').toggle();\n",
       "            }\n",
       "\n",
       "            \n",
       "        </script>\n",
       "\n",
       "        <a href=\"javascript:code_toggle_3324728109104614318()\">Toggle show/hide</a>\n",
       "    "
      ],
      "text/plain": [
       "<IPython.core.display.HTML object>"
      ]
     },
     "execution_count": 2,
     "metadata": {},
     "output_type": "execute_result"
    }
   ],
   "source": [
    "def g_new(z, k): #The improved g-function, which transforms luminosities\n",
    "    Z = z+1\n",
    "    Z_c = 3.5\n",
    "    return Z**k/(1+Z/Z_c)**k\n",
    "\n",
    "def L_lim1(F_lim, z_i, d_Li, g=g_new, k=0): #finds the limiting luminosity using flux, luminosity distance, and g\n",
    "    return (F_lim*1e-19)*4*math.pi*(d_Li*3.08567758e25)**2/g(z_i, k)\n",
    "\n",
    "hide_toggle()"
   ]
  },
  {
   "cell_type": "code",
   "execution_count": 3,
   "metadata": {},
   "outputs": [
    {
     "data": {
      "text/html": [
       "\n",
       "        <script>\n",
       "            function code_toggle_15621528441426395684() {\n",
       "                $('div.cell.code_cell.rendered.selected').find('div.input').toggle();\n",
       "            }\n",
       "\n",
       "            \n",
       "        </script>\n",
       "\n",
       "        <a href=\"javascript:code_toggle_15621528441426395684()\">Toggle show/hide</a>\n",
       "    "
      ],
      "text/plain": [
       "<IPython.core.display.HTML object>"
      ]
     },
     "execution_count": 3,
     "metadata": {},
     "output_type": "execute_result"
    }
   ],
   "source": [
    "import numpy as np\n",
    "import matplotlib.pyplot as plt\n",
    "import math\n",
    "\n",
    "def sort_by_first(A, B, reverse=False): #SORT USING Z!\n",
    "    list1, list2 = zip(*sorted(zip(A, B), reverse=reverse))\n",
    "    return list(list1), list(list2)\n",
    "\n",
    "def sort_by_1(*args, reverse=False):\n",
    "    thing = zip(*sorted(zip(*args), reverse=reverse))\n",
    "    return [list(thang) for thang in thing]\n",
    "\n",
    "def kt_newform(L, z, F_lim, d_L, g=g_new, k=0, func=L_lim1):\n",
    "    \n",
    "    #if necessary, sort by z while keeping reference to L\n",
    "    z, L, d_L = sort_by_1(z, L, d_L)\n",
    "        \n",
    "    R = []\n",
    "    E = []\n",
    "    V = []\n",
    "    \n",
    "    for i in range(len(L)):\n",
    "        higher = 0\n",
    "        lower = 0\n",
    "        \n",
    "        #not considering data points under the cutoff\n",
    "        if(L[i] < func(F_lim, z[i], d_L[i], g=g, k=k)):\n",
    "            continue\n",
    "        \n",
    "        for j in range(0, i): #since sorted by now, only j < i has z_j < z_i\n",
    "            if(L[j] >= func(F_lim, z[i], d_L[i], g=g, k=k) and z[j] <= z[i]): #associated set requirements\n",
    "                \n",
    "                if(L[j] > L[i]):\n",
    "                    higher += 1\n",
    "                else:\n",
    "                    lower += 1\n",
    "        \n",
    "        R.append((lower+1)/(higher+lower+1))\n",
    "        E.append(0.5)\n",
    "        V.append(1/12)\n",
    "    \n",
    "    numer = sum(R) - sum(E)\n",
    "    denom = (sum(V))**0.5\n",
    "    return numer/denom\n",
    "\n",
    "hide_toggle()"
   ]
  },
  {
   "cell_type": "code",
   "execution_count": 4,
   "metadata": {},
   "outputs": [
    {
     "data": {
      "text/html": [
       "\n",
       "        <script>\n",
       "            function code_toggle_14303824069012989658() {\n",
       "                $('div.cell.code_cell.rendered.selected').find('div.input').toggle();\n",
       "            }\n",
       "\n",
       "            \n",
       "        </script>\n",
       "\n",
       "        <a href=\"javascript:code_toggle_14303824069012989658()\">Toggle show/hide</a>\n",
       "    "
      ],
      "text/plain": [
       "<IPython.core.display.HTML object>"
      ]
     },
     "execution_count": 4,
     "metadata": {},
     "output_type": "execute_result"
    }
   ],
   "source": [
    "#original setup of Kendall Tau, using a generic F_lim, z --> L converter\n",
    "#now only used in L-Llim space, since cannot account for d_L\n",
    "\n",
    "def L_lim2(L_limi):\n",
    "    return L_limi\n",
    "\n",
    "def kendall_tau(L, Llim, srted=False, func=L_lim2):\n",
    "    \n",
    "    #if necessary, sort by z while keeping reference to L\n",
    "    \n",
    "    #these days I almost always assume it isn't sorted\n",
    "    #bc 1) if I assume it is sorted, trouble may ensue\n",
    "    #and 2) it doesn't take too long to sort it again\n",
    "    \n",
    "    if not srted:\n",
    "        Llim, L = sort_by_first(Llim, L)\n",
    "        \n",
    "    R = [] # rank\n",
    "    E = [] # expected value\n",
    "    V = [] # (expected) variance\n",
    "    \n",
    "    for i in range(len(L)):\n",
    "        higher = 0\n",
    "        lower = 0\n",
    "        \n",
    "        #similar issue?\n",
    "        \n",
    "        if(L[i] < func(Llim[i])): #don't include sources that are not above flux limit\n",
    "            continue\n",
    "        \n",
    "        for j in range(0, i): #since sorted by Llim now, only j < i has z_j < z_i\n",
    "            if(L[j] >= func(Llim[i]) and Llim[j] <= Llim[i]): #associated set requirements\n",
    "                if(L[j] > L[i]):\n",
    "                    higher += 1\n",
    "                else:\n",
    "                    lower += 1\n",
    "        \n",
    "        R.append((lower+1)/(higher+lower+1))\n",
    "        E.append(0.5)\n",
    "        V.append(1/12)\n",
    "    \n",
    "    numer = sum(R) - sum(E)\n",
    "    denom = (sum(V))**0.5\n",
    "    return numer/denom\n",
    "\n",
    "hide_toggle()"
   ]
  },
  {
   "cell_type": "markdown",
   "metadata": {},
   "source": [
    "### import data from \"frb.csv\""
   ]
  },
  {
   "cell_type": "code",
   "execution_count": 5,
   "metadata": {},
   "outputs": [
    {
     "name": "stderr",
     "output_type": "stream",
     "text": [
      "/anaconda3/lib/python3.7/site-packages/ipykernel_launcher.py:15: SettingWithCopyWarning: \n",
      "A value is trying to be set on a copy of a slice from a DataFrame\n",
      "\n",
      "See the caveats in the documentation: http://pandas.pydata.org/pandas-docs/stable/indexing.html#indexing-view-versus-copy\n",
      "  from ipykernel import kernelapp as app\n"
     ]
    },
    {
     "data": {
      "text/html": [
       "\n",
       "        <script>\n",
       "            function code_toggle_17274904390601645960() {\n",
       "                $('div.cell.code_cell.rendered.selected').find('div.input').toggle();\n",
       "            }\n",
       "\n",
       "            \n",
       "        </script>\n",
       "\n",
       "        <a href=\"javascript:code_toggle_17274904390601645960()\">Toggle show/hide</a>\n",
       "    "
      ],
      "text/plain": [
       "<IPython.core.display.HTML object>"
      ]
     },
     "execution_count": 5,
     "metadata": {},
     "output_type": "execute_result"
    }
   ],
   "source": [
    "import pandas as pd\n",
    "data = pd.read_csv(\"./data/frb.csv\") \n",
    "data.columns = ['frb', 'telescope', 'snr', 'f_p', 'd_L', 'z', 'f_lim', 'L_p', 'L_lim']\n",
    "data.snr = pd.to_numeric(data.snr, errors='coerce')\n",
    "data.f_p = pd.to_numeric(data.f_p, errors='coerce')\n",
    "data.d_L = pd.to_numeric(data.d_L, errors='coerce')\n",
    "data.z = pd.to_numeric(data.z, errors='coerce')\n",
    "del data['f_lim']\n",
    "del data['L_p']\n",
    "del data['L_lim']\n",
    "ASKAP_FRBs = data.iloc[:27]\n",
    "CHIME_FRBs = data.iloc[27:35]\n",
    "PARKES_FRBs = data.iloc[35:]\n",
    "data = pd.concat([ASKAP_FRBs, PARKES_FRBs[PARKES_FRBs.snr > 0], CHIME_FRBs], ignore_index=True)\n",
    "data['telescope'][27] = 'parkes'\n",
    "hide_toggle()"
   ]
  },
  {
   "cell_type": "markdown",
   "metadata": {},
   "source": [
    "### derive some properties"
   ]
  },
  {
   "cell_type": "code",
   "execution_count": 6,
   "metadata": {},
   "outputs": [
    {
     "data": {
      "text/html": [
       "\n",
       "        <script>\n",
       "            function code_toggle_11627566922934427717() {\n",
       "                $('div.cell.code_cell.rendered.selected').find('div.input').toggle();\n",
       "            }\n",
       "\n",
       "            \n",
       "        </script>\n",
       "\n",
       "        <a href=\"javascript:code_toggle_11627566922934427717()\">Toggle show/hide</a>\n",
       "    "
      ],
      "text/plain": [
       "<IPython.core.display.HTML object>"
      ]
     },
     "execution_count": 6,
     "metadata": {},
     "output_type": "execute_result"
    }
   ],
   "source": [
    "data['L_p'] = (data['f_p']*1e-19)*4*math.pi*(data['d_L']*3.08567758e25)**2\n",
    "f_lim = [14.8, 0.30, 0.30]\n",
    "slices = [slice(0,27), slice(27,54), slice(54,62)]\n",
    "a_Llim, p_Llim, c_Llim = [data['L_p'][slices[i]]*f_lim[i]/data['f_p'][slices[i]] for i in range(3)]\n",
    "data['L_lim'] = pd.concat([a_Llim, p_Llim, c_Llim], ignore_index=True)\n",
    "hide_toggle()"
   ]
  },
  {
   "cell_type": "markdown",
   "metadata": {},
   "source": [
    "### import other properties"
   ]
  },
  {
   "cell_type": "code",
   "execution_count": 8,
   "metadata": {},
   "outputs": [
    {
     "data": {
      "text/html": [
       "\n",
       "        <script>\n",
       "            function code_toggle_5841896668234993265() {\n",
       "                $('div.cell.code_cell.rendered.selected').find('div.input').toggle();\n",
       "            }\n",
       "\n",
       "            \n",
       "        </script>\n",
       "\n",
       "        <a href=\"javascript:code_toggle_5841896668234993265()\">Toggle show/hide</a>\n",
       "    "
      ],
      "text/plain": [
       "<IPython.core.display.HTML object>"
      ]
     },
     "execution_count": 8,
     "metadata": {},
     "output_type": "execute_result"
    }
   ],
   "source": [
    "newdata = pd.read_csv(\"./data/DM_W_corrected.csv\") \n",
    "newdata.columns = ['frb', 'telescope', 'DM', 'W', 'snr', 'f_p']\n",
    "newdata.snr = pd.to_numeric(newdata.snr, errors='coerce')\n",
    "newdata.DM = pd.to_numeric(newdata.DM, errors='coerce')\n",
    "newdata.W = pd.to_numeric(newdata.W, errors='coerce')\n",
    "newdata.f_p = pd.to_numeric(newdata.f_p, errors='coerce')\n",
    "askap = newdata.iloc[:27]\n",
    "chime = newdata.iloc[27:35]\n",
    "parkes = newdata.iloc[35:]\n",
    "newdata = pd.concat([askap, parkes[parkes.snr > 0], chime], ignore_index=True)\n",
    "data['DM'], data['W'] = newdata['DM'], newdata['W']\n",
    "data['fl'] = data['W']*data['f_p']\n",
    "hide_toggle()"
   ]
  },
  {
   "cell_type": "code",
   "execution_count": 9,
   "metadata": {},
   "outputs": [
    {
     "data": {
      "image/png": "[encoded data removed]",
      "text/plain": [
       "<Figure size 432x288 with 1 Axes>"
      ]
     },
     "metadata": {
      "needs_background": "light"
     },
     "output_type": "display_data"
    },
    {
     "data": {
      "text/html": [
       "\n",
       "        <script>\n",
       "            function code_toggle_6392339517743967911() {\n",
       "                $('div.cell.code_cell.rendered.selected').find('div.input').toggle();\n",
       "            }\n",
       "\n",
       "            \n",
       "        </script>\n",
       "\n",
       "        <a href=\"javascript:code_toggle_6392339517743967911()\">Toggle show/hide</a>\n",
       "    "
      ],
      "text/plain": [
       "<IPython.core.display.HTML object>"
      ]
     },
     "execution_count": 9,
     "metadata": {},
     "output_type": "execute_result"
    }
   ],
   "source": [
    "fig, ax = plt.subplots()\n",
    "#ax.set_yscale('log')\n",
    "#ax.set_xscale('log')\n",
    "ax.set_xlim([0, 1e4])\n",
    "\n",
    "ax.scatter(data['DM'][:27], data['fl'][:27], label='ASKAP')\n",
    "ax.scatter(data['DM'][27:54], data['fl'][27:54], label='Parkes')\n",
    "ax.scatter(data['DM'][54:], data['fl'][54:], label='CHIME')\n",
    "ax.set_title('fluence vs. DM')\n",
    "ax.set_xlabel('DM (cm^-3 pc)')\n",
    "ax.set_ylabel('fluence (Jy ms)')\n",
    "ax.legend()\n",
    "plt.show()\n",
    "hide_toggle()"
   ]
  },
  {
   "cell_type": "markdown",
   "metadata": {},
   "source": [
    "# Kendall Tau Graph Functions"
   ]
  },
  {
   "cell_type": "markdown",
   "metadata": {},
   "source": [
    "presets: ASKAP, PARKES, NEW_PARKES, CHIME, ALL  \n",
    "new_L, tau_k, tkgraph  \n",
    "tkplot  \n",
    "tau_k2, tk_graph2  \n",
    "tk_pandas, tk2_pandas"
   ]
  },
  {
   "cell_type": "code",
   "execution_count": 10,
   "metadata": {},
   "outputs": [
    {
     "data": {
      "text/html": [
       "\n",
       "        <script>\n",
       "            function code_toggle_6895437838250241151() {\n",
       "                $('div.cell.code_cell.rendered.selected').find('div.input').toggle();\n",
       "            }\n",
       "\n",
       "            \n",
       "        </script>\n",
       "\n",
       "        <a href=\"javascript:code_toggle_6895437838250241151()\">Toggle show/hide</a>\n",
       "    "
      ],
      "text/plain": [
       "<IPython.core.display.HTML object>"
      ]
     },
     "execution_count": 10,
     "metadata": {},
     "output_type": "execute_result"
    }
   ],
   "source": [
    "#Presets for the TELESCOPE option\n",
    "ASKAP = (slice(0,27), 'ASKAP', 14.8, '#1f77b4')\n",
    "PARKES = (slice(27,54), 'Parkes', 0.15, '#ff7f0e')\n",
    "NEW_PARKES = (slice(27,54), 'Parkes', 0.30, '#ff7f0e')\n",
    "NN_PARKES = (slice(27,54), 'Parkes', 0.31, '#ff7f0e')\n",
    "CHIME = (slice(54,62), 'CHIME', 0.30, '#2ca02c')\n",
    "ALL = (slice(0,62), 'All FRBs', 0.30, '#1f77b4')\n",
    "PAC = (slice(27,62), 'Parkes + CHIME', 0.30, '#1f77b4') # PARKES + CHIME\n",
    "hide_toggle()"
   ]
  },
  {
   "cell_type": "code",
   "execution_count": 11,
   "metadata": {},
   "outputs": [
    {
     "data": {
      "text/html": [
       "\n",
       "        <script>\n",
       "            function code_toggle_9007947408746753668() {\n",
       "                $('div.cell.code_cell.rendered.selected').find('div.input').toggle();\n",
       "            }\n",
       "\n",
       "            \n",
       "        </script>\n",
       "\n",
       "        <a href=\"javascript:code_toggle_9007947408746753668()\">Toggle show/hide</a>\n",
       "    "
      ],
      "text/plain": [
       "<IPython.core.display.HTML object>"
      ]
     },
     "execution_count": 11,
     "metadata": {},
     "output_type": "execute_result"
    }
   ],
   "source": [
    "def new_L(L, z, k=0, g=g_new):\n",
    "    return [L[i]/g(z[i], k) for i in range(len(L))]\n",
    "\n",
    "def tau_k(L_p, z, k, F_lim, d_L, func=L_lim1, g=g_new):\n",
    "    L_new = new_L(L_p, z, k=k, g=g)\n",
    "    return kt_newform(L_new, z, F_lim, d_L, g=g, k=k, func=func)\n",
    "\n",
    "def tkgraph(L_p, z, d_L, func=L_lim1, g=g_new, k_min=0, k_max=10, dk=0.01, TELESCOPE=ALL):\n",
    "    #the current k value\n",
    "    k = k_min\n",
    "    \n",
    "    #expand telescope\n",
    "    tel, telname, F_LIM, color = TELESCOPE\n",
    "\n",
    "    #list of k, tau\n",
    "    list_k = []\n",
    "    list_t = []\n",
    "\n",
    "    k1 = k_min #k closest to tau = 1\n",
    "    kn1 = k_min #k closest to tau = -1\n",
    "    k0 = k_min #k closest to t=0\n",
    "\n",
    "    dif1 = 1e300 #smallest distance so far to tau = 1\n",
    "    difn1 = 1e300 #smallest distance so far to tau = -1\n",
    "    dif0 = 1e300\n",
    "\n",
    "    while(k <= k_max):\n",
    "        list_k.append(k)\n",
    "        t_k = tau_k(L_p[tel], z[tel], k, F_LIM, d_L[tel], func=func, g=g)\n",
    "        list_t.append(t_k)\n",
    "\n",
    "        if(abs(t_k-1) < dif1):\n",
    "            dif1 = abs(t_k-1)\n",
    "            k1 = k\n",
    "        if(abs(t_k+1) < difn1):\n",
    "            difn1 = abs(t_k+1)\n",
    "            kn1 = k\n",
    "        if(abs(t_k) < dif0):\n",
    "            dif0 = abs(t_k)\n",
    "            k0 = k\n",
    "\n",
    "        k += dk\n",
    "    \n",
    "    return list_k, list_t, round(k1,2), round(kn1,2), round(k0,2)\n",
    "\n",
    "hide_toggle()"
   ]
  },
  {
   "cell_type": "code",
   "execution_count": 12,
   "metadata": {},
   "outputs": [
    {
     "data": {
      "text/html": [
       "\n",
       "        <script>\n",
       "            function code_toggle_8216872305664954629() {\n",
       "                $('div.cell.code_cell.rendered.selected').find('div.input').toggle();\n",
       "            }\n",
       "\n",
       "            \n",
       "        </script>\n",
       "\n",
       "        <a href=\"javascript:code_toggle_8216872305664954629()\">Toggle show/hide</a>\n",
       "    "
      ],
      "text/plain": [
       "<IPython.core.display.HTML object>"
      ]
     },
     "execution_count": 12,
     "metadata": {},
     "output_type": "execute_result"
    }
   ],
   "source": [
    "def tkplot(list_k, list_t, k1, kn1, k0, k_min=0, k_max=10, dk=0.01, TELESCOPE=ALL, PLOT_LINES=True, NAT=False):\n",
    "    \n",
    "    #expand telescope\n",
    "    tel, telname, F_LIM, color = TELESCOPE\n",
    "\n",
    "    k1, kn1, k0 = round(k1, 2), round(kn1, 2), round(k0, 2)\n",
    "\n",
    "    YMAX, YMIN = max(list_t), min(list_t)\n",
    "    XMAX, XMIN = k_max, k_min\n",
    "    MAR = 0 #margin\n",
    "    XMAR = MAR/10 * (abs(XMAX)+abs(XMIN)) #scaling the xmargin\n",
    "    YMAR = MAR/10 * (abs(YMAX)+abs(YMIN)) #scaling the ymargin\n",
    "\n",
    "    fig, ax = plt.subplots()  # Create a figure and an axes.\n",
    "    ax.plot(list_k, list_t, label='τ(k)')\n",
    "    ax.plot(list_k, [0 for i in range(len(list_k))], label='τ=0')\n",
    "\n",
    "    if PLOT_LINES:\n",
    "        ax.plot([k1 for i in range(11)], [YMIN+(1-YMIN)*i/10 for i in range(11)], color='black', linestyle='--', label='k = ' + str(kn1))\n",
    "        ax.plot([kn1 for i in range(11)], [YMIN+(-1-YMIN)*i/10 for i in range(11)], color='black', linestyle='--', label='k = ' + str(k1))\n",
    "        ax.plot([XMIN + (k1-XMIN)*i/10 for i in range(11)],[1 for i in range(11)], color='black', linestyle='--')\n",
    "        ax.plot([XMIN + (kn1-XMIN)*i/10 for i in range(11)],[-1 for i in range(11)], color='black', linestyle='--')\n",
    "    \n",
    "    if not NAT:\n",
    "        ax.set_ylim([YMIN-YMAR, YMAX+YMAR])\n",
    "        ax.set_xlim([XMIN-XMAR, XMAX+XMAR])\n",
    "    ax.set_xlabel('k')  # Add an x-label to the axes.\n",
    "    ax.set_ylabel('τ')  # Add a y-label to the axes.\n",
    "    ax.plot()\n",
    "\n",
    "    ax.set_title(f\"[{telname}] Relation between τ and k\")  # Add a title to the axes.\n",
    "    ax.legend()  # Add a legend.\n",
    "    return fig, ax\n",
    "\n",
    "hide_toggle()"
   ]
  },
  {
   "cell_type": "code",
   "execution_count": 13,
   "metadata": {},
   "outputs": [
    {
     "data": {
      "text/html": [
       "\n",
       "        <script>\n",
       "            function code_toggle_10469200052831998700() {\n",
       "                $('div.cell.code_cell.rendered.selected').find('div.input').toggle();\n",
       "            }\n",
       "\n",
       "            \n",
       "        </script>\n",
       "\n",
       "        <a href=\"javascript:code_toggle_10469200052831998700()\">Toggle show/hide</a>\n",
       "    "
      ],
      "text/plain": [
       "<IPython.core.display.HTML object>"
      ]
     },
     "execution_count": 13,
     "metadata": {},
     "output_type": "execute_result"
    }
   ],
   "source": [
    "#this uses the other version of kendall tau, to be used for L-Llim space. \n",
    "#Haven't been able to get it working though.\n",
    "\n",
    "def tau_k2(L_p, L_plim, z, k, func=L_lim2, g=g_new):\n",
    "    L_new = new_L(L_p, z, k=k, g=g)\n",
    "    L_pnew = new_L(L_plim, z, k=k, g=g)\n",
    "    return kendall_tau(L_new, L_pnew, func=func)\n",
    "\n",
    "def tk_graph2(L_p, L_lim, z, func=L_lim2, g=g_new, k_min=0, k_max=10, dk=0.01, TELESCOPE=ALL):\n",
    "    #the current k value\n",
    "    k = k_min\n",
    "    \n",
    "    #expand telescope\n",
    "    tel, telname, F_LIM, color = TELESCOPE\n",
    "\n",
    "    #list of k, tau\n",
    "    list_k = []\n",
    "    list_t = []\n",
    "\n",
    "    k1 = k_min #k closest to tau = 1\n",
    "    kn1 = k_min #k closest to tau = -1\n",
    "    k0 = k_min #k closest to t=0\n",
    "\n",
    "    dif1 = 1e300 #smallest distance so far to tau = 1\n",
    "    difn1 = 1e300 #smallest distance so far to tau = -1\n",
    "    dif0 = 1e300\n",
    "\n",
    "    while(k <= k_max):\n",
    "        list_k.append(k)\n",
    "        t_k = tau_k2(L_p[tel], L_lim[tel], z[tel], k, func=func, g=g)\n",
    "        list_t.append(t_k)\n",
    "\n",
    "        if(abs(t_k-1) < dif1):\n",
    "            dif1 = abs(t_k-1)\n",
    "            k1 = k\n",
    "        if(abs(t_k+1) < difn1):\n",
    "            difn1 = abs(t_k+1)\n",
    "            kn1 = k\n",
    "        if(abs(t_k) < dif0):\n",
    "            dif0 = abs(t_k)\n",
    "            k0 = k\n",
    "\n",
    "        k += dk\n",
    "    \n",
    "    return list_k, list_t, round(k1,2), round(kn1,2), round(k0,2)\n",
    "\n",
    "hide_toggle()"
   ]
  },
  {
   "cell_type": "code",
   "execution_count": 14,
   "metadata": {},
   "outputs": [
    {
     "data": {
      "text/html": [
       "\n",
       "        <script>\n",
       "            function code_toggle_10717007745088935926() {\n",
       "                $('div.cell.code_cell.rendered.selected').find('div.input').toggle();\n",
       "            }\n",
       "\n",
       "            \n",
       "        </script>\n",
       "\n",
       "        <a href=\"javascript:code_toggle_10717007745088935926()\">Toggle show/hide</a>\n",
       "    "
      ],
      "text/plain": [
       "<IPython.core.display.HTML object>"
      ]
     },
     "execution_count": 14,
     "metadata": {},
     "output_type": "execute_result"
    }
   ],
   "source": [
    "def tk_pandas(data, k_min=0, k_max=10, TELESCOPE=ALL):\n",
    "    L_p = data['L_p'].to_numpy()\n",
    "    z = data['z'].to_numpy()\n",
    "    d_L = data['d_L'].to_numpy()\n",
    "    list_k, list_t, k1, kn1, k0 = tkgraph(L_p, z, d_L, func=L_lim1, g=g_new, k_min=k_min, k_max=k_max, TELESCOPE=TELESCOPE)\n",
    "    fig, ax = tkplot(list_k, list_t, k1, kn1, k0, k_min=k_min, k_max=k_max, TELESCOPE=TELESCOPE)\n",
    "    return fig, ax, k0\n",
    "\n",
    "def tk2_pandas(data, k_min=0, k_max=10, TELESCOPE=ALL):\n",
    "    L_p = data['L_p'].to_numpy()\n",
    "    L_lim = data['L_lim'].to_numpy()\n",
    "    z = data['z'].to_numpy()\n",
    "    list_k, list_t, k1, kn1, k0 = tk_graph2(L_p, L_lim, z, k_min=k_min, k_max=k_max, TELESCOPE=TELESCOPE)\n",
    "    fig, ax = tkplot(list_k, list_t, k1, kn1, k0, k_min=k_min, k_max=k_max, TELESCOPE=TELESCOPE)\n",
    "    return fig, ax, k0\n",
    "\n",
    "hide_toggle()"
   ]
  },
  {
   "cell_type": "markdown",
   "metadata": {},
   "source": [
    "# Graph Functions\n",
    "graphLz  \n",
    "graphSz  \n",
    "graphPL  \n",
    "unpack, loglogpfit  \n",
    "LLlim"
   ]
  },
  {
   "cell_type": "code",
   "execution_count": 15,
   "metadata": {},
   "outputs": [
    {
     "data": {
      "text/html": [
       "\n",
       "        <script>\n",
       "            function code_toggle_11230061576539555794() {\n",
       "                $('div.cell.code_cell.rendered.selected').find('div.input').toggle();\n",
       "            }\n",
       "\n",
       "            \n",
       "        </script>\n",
       "\n",
       "        <a href=\"javascript:code_toggle_11230061576539555794()\">Toggle show/hide</a>\n",
       "    "
      ],
      "text/plain": [
       "<IPython.core.display.HTML object>"
      ]
     },
     "execution_count": 15,
     "metadata": {},
     "output_type": "execute_result"
    }
   ],
   "source": [
    "def graphLz(L, z, d_L, k=0, TELESCOPE=ALL, L_str='L_peak', prev=None, s=None):\n",
    "    tel, telname, F_LIM, color = TELESCOPE\n",
    "\n",
    "    L_cutoffs = []\n",
    "    for i in range(len(z)):\n",
    "        L_cutoffs.append(L_lim1(F_LIM, z[i], d_L[i], g=g_new, k=k))\n",
    "\n",
    "    fig, ax = plt.subplots()\n",
    "    if prev:\n",
    "        plt.close() #closes the window with nothing on it\n",
    "        fig, ax = prev #continues working on previous fig\n",
    "    plt.yscale('log')\n",
    "    ax.scatter(z[tel], new_L(L[tel], z[tel], k=k), label=telname, s=s)\n",
    "    ax.plot(sorted(z), sorted(L_cutoffs), label=f'F_cutoff = {F_LIM} Jy/g(z,k={k})')\n",
    "    ax.set_ylim([1e31, 1e37])\n",
    "    ax.set_xlim([-0.05, 2.25])\n",
    "    ax.set_xlabel('z')\n",
    "    ax.set_ylabel(L_str)\n",
    "    ax.set_title(f'[{telname}] {L_str} vs. z (k={k})')\n",
    "    ax.legend()\n",
    "    return fig, ax\n",
    "\n",
    "hide_toggle()"
   ]
  },
  {
   "cell_type": "code",
   "execution_count": 16,
   "metadata": {},
   "outputs": [
    {
     "data": {
      "text/html": [
       "\n",
       "        <script>\n",
       "            function code_toggle_9846809133191145208() {\n",
       "                $('div.cell.code_cell.rendered.selected').find('div.input').toggle();\n",
       "            }\n",
       "\n",
       "            \n",
       "        </script>\n",
       "\n",
       "        <a href=\"javascript:code_toggle_9846809133191145208()\">Toggle show/hide</a>\n",
       "    "
      ],
      "text/plain": [
       "<IPython.core.display.HTML object>"
      ]
     },
     "execution_count": 16,
     "metadata": {},
     "output_type": "execute_result"
    }
   ],
   "source": [
    "def graphSz(sigma, z_, TELESCOPE=ALL, prev=None):\n",
    "    tel, telname, F_LIM, color = TELESCOPE\n",
    "    \n",
    "    fig, ax = plt.subplots()\n",
    "    \n",
    "    if prev:\n",
    "        plt.close() #closes the window with nothing on it\n",
    "        fig, ax = prev #continues working on previous fig\n",
    "    \n",
    "    plt.yscale('log')\n",
    "    plt.xscale('log')\n",
    "    plt.ylim([1, 200])\n",
    "    plt.xlim([1, 5])\n",
    "    ax.scatter(1 + np.array(z_), sigma, label=telname)\n",
    "    ax.set_xlabel('1+z')\n",
    "    ax.set_ylabel('sigma')\n",
    "    ax.set_title(f'[{telname}] sigma vs. (1+z)')\n",
    "    ax.legend()\n",
    "    \n",
    "    return fig, ax\n",
    "\n",
    "hide_toggle()"
   ]
  },
  {
   "cell_type": "code",
   "execution_count": 17,
   "metadata": {},
   "outputs": [
    {
     "data": {
      "text/html": [
       "\n",
       "        <script>\n",
       "            function code_toggle_15319615873952332252() {\n",
       "                $('div.cell.code_cell.rendered.selected').find('div.input').toggle();\n",
       "            }\n",
       "\n",
       "            \n",
       "        </script>\n",
       "\n",
       "        <a href=\"javascript:code_toggle_15319615873952332252()\">Toggle show/hide</a>\n",
       "    "
      ],
      "text/plain": [
       "<IPython.core.display.HTML object>"
      ]
     },
     "execution_count": 17,
     "metadata": {},
     "output_type": "execute_result"
    }
   ],
   "source": [
    "def graphPL(phi, Lprime, TELESCOPE=ALL, prev=None, old=False):\n",
    "    tel, telname, F_LIM, color = TELESCOPE\n",
    "    \n",
    "    fig, ax = plt.subplots()\n",
    "    \n",
    "    if prev:\n",
    "        plt.close() #closes the window with nothing on it\n",
    "        fig, ax = prev #continues working on previous fig\n",
    "        \n",
    "    plt.yscale('log')\n",
    "    plt.xscale('log')\n",
    "    plt.ylim([1, 200])\n",
    "    plt.xlim([1e32, 1e36])\n",
    "    if old:\n",
    "        plt.xlim([1e25, 1e29])\n",
    "    ax.scatter(Lprime, phi, label=telname)\n",
    "    ax.set_xlabel('L\\'')\n",
    "    ax.set_ylabel('phi(L\\')')\n",
    "    ax.set_title('phi(L\\') vs L\\'')\n",
    "    ax.legend()\n",
    "    \n",
    "    return fig, ax\n",
    "\n",
    "hide_toggle()"
   ]
  },
  {
   "cell_type": "code",
   "execution_count": 18,
   "metadata": {},
   "outputs": [
    {
     "data": {
      "text/html": [
       "\n",
       "        <script>\n",
       "            function code_toggle_7861763124231480357() {\n",
       "                $('div.cell.code_cell.rendered.selected').find('div.input').toggle();\n",
       "            }\n",
       "\n",
       "            \n",
       "        </script>\n",
       "\n",
       "        <a href=\"javascript:code_toggle_7861763124231480357()\">Toggle show/hide</a>\n",
       "    "
      ],
      "text/plain": [
       "<IPython.core.display.HTML object>"
      ]
     },
     "execution_count": 18,
     "metadata": {},
     "output_type": "execute_result"
    }
   ],
   "source": [
    "def unpack(args, logz):\n",
    "    poly = np.zeros(len(logz))\n",
    "    for j in range(len(args)):\n",
    "        power = len(args)-j-1\n",
    "        poly += args[j]*(logz**power)\n",
    "    return poly\n",
    "\n",
    "def loglogpfit(s_or_p, x, sigma=False, phi=False, Lz=False, order=2, print_coeffs=True, prev=None, TELESCOPE=ALL, old=False):\n",
    "    tel, telname, F_LIM, color = TELESCOPE\n",
    "    \n",
    "    if not (sigma or phi or Lz):\n",
    "        raise Exception('specify a preset using sigma=True, phi=True, or Lz=True')\n",
    "    \n",
    "    logSP = np.log10(s_or_p)\n",
    "    logx = np.log10(x)\n",
    "    \n",
    "    if sigma or Lz:\n",
    "        logx = np.log10(1 + np.array(x)) #representing 1+z\n",
    "    \n",
    "    if Lz:\n",
    "        logSP = logSP[tel]\n",
    "        logx = logx[tel]\n",
    "    \n",
    "    args = np.polyfit(logx, logSP, order)\n",
    "    if print_coeffs:\n",
    "        print(args)\n",
    "    \n",
    "    fig, ax = plt.subplots()\n",
    "    \n",
    "    if prev:\n",
    "        plt.close()\n",
    "        fig, ax = prev\n",
    "    \n",
    "    if sigma:\n",
    "        plt.ylim([0, 2.3])\n",
    "        plt.xlim([0, 0.7])\n",
    "        ax.scatter(logx, logSP, label=telname)\n",
    "        ax.plot(np.linspace(0, 0.7, 50), unpack(args, np.linspace(0, 0.7, 50)), label='best fit')\n",
    "        ax.set_xlabel('log(1+z)')\n",
    "        ax.set_ylabel('log(sigma)')\n",
    "        ax.set_title('log(sigma) vs. log(1+z)')\n",
    "        ax.legend()\n",
    "    \n",
    "    elif phi:\n",
    "        plt.ylim([0, 2.3])\n",
    "        plt.xlim([32, 36])\n",
    "        if old:\n",
    "            plt.xlim([25, 29])\n",
    "        ax.scatter(logx, logSP, label=telname)\n",
    "        if old:\n",
    "            ax.plot(np.linspace(25, 29, 50), unpack(args, np.linspace(25, 29, 50)), label='best fit')\n",
    "        else:\n",
    "            ax.plot(np.linspace(32, 36, 50), unpack(args, np.linspace(32, 36, 50)), label='best fit')\n",
    "        ax.set_xlabel('log(L\\')')\n",
    "        ax.set_ylabel('log(phi)')\n",
    "        ax.set_title('log(phi) vs. log(L\\')')\n",
    "        ax.legend()\n",
    "    \n",
    "    elif Lz:\n",
    "        plt.ylim([31, 37])\n",
    "        plt.xlim([0, 0.7])\n",
    "        ax.scatter(logx, logSP, label=telname)\n",
    "        ax.plot(np.linspace(0, 0.7, 50), unpack(args, np.linspace(0, 0.7, 50)), label='best fit')\n",
    "        ax.set_xlabel('log(1+z)')\n",
    "        ax.set_ylabel('log(L)')\n",
    "        ax.set_title('log(L) vs. log(1+z)')\n",
    "        ax.legend()\n",
    "        \n",
    "    return fig, ax, args\n",
    "\n",
    "hide_toggle()"
   ]
  },
  {
   "cell_type": "code",
   "execution_count": 19,
   "metadata": {},
   "outputs": [
    {
     "data": {
      "text/html": [
       "\n",
       "        <script>\n",
       "            function code_toggle_292030297304840493() {\n",
       "                $('div.cell.code_cell.rendered.selected').find('div.input').toggle();\n",
       "            }\n",
       "\n",
       "            \n",
       "        </script>\n",
       "\n",
       "        <a href=\"javascript:code_toggle_292030297304840493()\">Toggle show/hide</a>\n",
       "    "
      ],
      "text/plain": [
       "<IPython.core.display.HTML object>"
      ]
     },
     "execution_count": 19,
     "metadata": {},
     "output_type": "execute_result"
    }
   ],
   "source": [
    "def LLlim(L, Llim, z, k=0, TELESCOPE=ALL, prev=None):\n",
    "    tel, telname, F_LIM, color = TELESCOPE\n",
    "    \n",
    "    fig, ax = plt.subplots()\n",
    "    \n",
    "    if prev:\n",
    "        plt.close() #closes the window with nothing on it\n",
    "        fig, ax = prev #continues working on previous fig\n",
    "        \n",
    "    plt.yscale('log')\n",
    "    plt.xscale('log')\n",
    "    plt.ylim([1e31, 1e37])\n",
    "    plt.xlim([1e31, 1e37])\n",
    "    ax.scatter(new_L(Llim[tel],z[tel],k=k), new_L(L[tel],z[tel],k=k), label=telname, color=color)\n",
    "    ax.plot([1e31, 1e37], [1e31, 1e37], color='black')\n",
    "    ax.set_xlabel('L_lim\\'')\n",
    "    ax.set_ylabel('L\\'')\n",
    "    ax.set_title('L\\' vs. L_lim\\'')\n",
    "    ax.legend()\n",
    "    \n",
    "    return fig, ax\n",
    "hide_toggle()"
   ]
  },
  {
   "cell_type": "markdown",
   "metadata": {},
   "source": [
    "# LFD Functions"
   ]
  },
  {
   "cell_type": "markdown",
   "metadata": {},
   "source": [
    "sigma_z  \n",
    "manual_dL, manual_Llim, manual_dVdz  \n",
    "get_max_z, create_Lcutoffs, phi_L"
   ]
  },
  {
   "cell_type": "code",
   "execution_count": 20,
   "metadata": {},
   "outputs": [
    {
     "data": {
      "text/html": [
       "\n",
       "        <script>\n",
       "            function code_toggle_11230377564534797467() {\n",
       "                $('div.cell.code_cell.rendered.selected').find('div.input').toggle();\n",
       "            }\n",
       "\n",
       "            \n",
       "        </script>\n",
       "\n",
       "        <a href=\"javascript:code_toggle_11230377564534797467()\">Toggle show/hide</a>\n",
       "    "
      ],
      "text/plain": [
       "<IPython.core.display.HTML object>"
      ]
     },
     "execution_count": 20,
     "metadata": {},
     "output_type": "execute_result"
    }
   ],
   "source": [
    "def sigma_z(L, z, d_L, k=0, func=L_lim1, g=g_new, TELESCOPE=ALL): #z0 being the z of interest\n",
    "    \n",
    "    tel, telname, F_LIM, color = TELESCOPE\n",
    "    \n",
    "    L = new_L(L, z, k=k)\n",
    "    z, L, d_L = sort_by_1(z[tel], L[tel], d_L[tel])\n",
    "    \n",
    "    zs_actual = []\n",
    "    m = []\n",
    "    for i in range(len(L)):\n",
    "        num = 0\n",
    "        \n",
    "        if(L[i] < func(F_LIM, z[i], d_L[i], g=g, k=k)): #skip all those under limit\n",
    "            print(z[i])\n",
    "            continue\n",
    "        \n",
    "        #if above limit, add to list of indices\n",
    "        zs_actual.append(z[i])\n",
    "        \n",
    "        for j in range(0, i): #since sorted by now, only j < i has z_j < z_i\n",
    "            if(L[j] >= func(F_LIM, z[i], d_L[i], g=g) and z[j] <= z[i]): #associated set requirements\n",
    "                num += 1\n",
    "        \n",
    "        m.append(num+1) #includes itself?\n",
    "    \n",
    "    sigma = []\n",
    "    prod = 1\n",
    "    for j in range(len(m)):\n",
    "        prod *= (1 + 1/m[j])\n",
    "        sigma.append(prod)\n",
    "    \n",
    "    return sigma, zs_actual\n",
    "\n",
    "hide_toggle()"
   ]
  },
  {
   "cell_type": "code",
   "execution_count": 21,
   "metadata": {},
   "outputs": [
    {
     "data": {
      "text/html": [
       "\n",
       "        <script>\n",
       "            function code_toggle_516673141575909425() {\n",
       "                $('div.cell.code_cell.rendered.selected').find('div.input').toggle();\n",
       "            }\n",
       "\n",
       "            \n",
       "        </script>\n",
       "\n",
       "        <a href=\"javascript:code_toggle_516673141575909425()\">Toggle show/hide</a>\n",
       "    "
      ],
      "text/plain": [
       "<IPython.core.display.HTML object>"
      ]
     },
     "execution_count": 21,
     "metadata": {},
     "output_type": "execute_result"
    }
   ],
   "source": [
    "def manual_dL(z, O_M=0.286, O_V=0.714, H_0=69.6, dz = 1e-5, prev=None):\n",
    "    d_H = 299792458/(H_0*3.24077929e-20) #Hubble Distance, in meters!\n",
    "    \n",
    "    #numerical integration\n",
    "    z_cur = 0\n",
    "    integral = 0\n",
    "    \n",
    "    if prev: #already integrated up to a certain point\n",
    "        z_cur, d_L = prev #assume format is [z, d_L]\n",
    "        integral = d_L/(d_H*(1+z_cur))\n",
    "    \n",
    "    while(z_cur < z):\n",
    "        dI = dz/(O_M*(1+z_cur)**3 + O_V)**0.5\n",
    "        z_cur += dz\n",
    "        dI2 = dz/(O_M*(1+z_cur)**3 + O_V)**0.5\n",
    "        integral += (dI+dI2)/2\n",
    "    \n",
    "    return integral*(1+z)*d_H\n",
    "\n",
    "def manual_Llim(F_lim, z_i, g=g_new, k=0, prev=None):\n",
    "    if not prev:\n",
    "        return (F_lim*1e-19)*4*math.pi*(manual_dL(z_i, prev=prev))**2/g(z_i, k)\n",
    "    d_L = manual_dL(z_i, prev=prev)\n",
    "    return [(F_lim*1e-19)*4*math.pi*(d_L)**2/g(z_i, k), d_L]\n",
    "\n",
    "def manual_dVdz(z, O_M=0.286, O_V=0.714, H_0=69.6, dz= 1e-5, prev=None):\n",
    "    d_H = 299792458/(H_0*3.24077929e-20) #Hubble Distance, in meters!\n",
    "    \n",
    "    #numerical integration\n",
    "    z_cur = 0\n",
    "    integral = 0\n",
    "    \n",
    "    if prev:\n",
    "        z_cur, integral = prev\n",
    "    \n",
    "    while(z_cur < z):\n",
    "        dI = dz/(O_M*(1+z_cur)**3 + O_V)**0.5\n",
    "        z_cur += dz\n",
    "        dI2 = dz/(O_M*(1+z_cur)**3 + O_V)**0.5\n",
    "        integral += (dI+dI2)/2\n",
    "    \n",
    "    if not prev:\n",
    "        return 4*math.pi*(d_H**3)*integral**2/(O_M*(1+z_cur)**3 + O_V)**0.5\n",
    "    return [4*math.pi*(d_H**3)*integral**2/(O_M*(1+z_cur)**3 + O_V)**0.5, integral]\n",
    "\n",
    "hide_toggle()"
   ]
  },
  {
   "cell_type": "code",
   "execution_count": 22,
   "metadata": {},
   "outputs": [
    {
     "data": {
      "text/html": [
       "\n",
       "        <script>\n",
       "            function code_toggle_10418674796660777816() {\n",
       "                $('div.cell.code_cell.rendered.selected').find('div.input').toggle();\n",
       "            }\n",
       "\n",
       "            \n",
       "        </script>\n",
       "\n",
       "        <a href=\"javascript:code_toggle_10418674796660777816()\">Toggle show/hide</a>\n",
       "    "
      ],
      "text/plain": [
       "<IPython.core.display.HTML object>"
      ]
     },
     "execution_count": 22,
     "metadata": {},
     "output_type": "execute_result"
    }
   ],
   "source": [
    "def get_max_z(zrange, L_cutoffs, L):\n",
    "    idx = np.argwhere(np.diff(np.sign(np.array(L_cutoffs) - L))).flatten()\n",
    "    if(len(idx) < 1):\n",
    "        return 1e300\n",
    "    return np.array(zrange)[idx][0]\n",
    "\n",
    "def create_Lcutoffs(TELESCOPE=ALL):\n",
    "    tel, telname, F_LIM, color = TELESCOPE\n",
    "    \n",
    "    #creation of the cutoff luminosities\n",
    "    zrange = np.linspace(0, 2.25, num=2000)\n",
    "    L_cutoffs = []\n",
    "    \n",
    "    prev = (0, 0)\n",
    "\n",
    "    for i in range(len(zrange)):\n",
    "        L_lim, d_L = manual_Llim(F_LIM, zrange[i], g=g_new, k=0, prev=prev)\n",
    "        L_cutoffs.append(L_lim)\n",
    "        prev = (zrange[i], d_L)\n",
    "        \n",
    "    zrange, L_cutoffs = sort_by_first(zrange, L_cutoffs)\n",
    "    return zrange, L_cutoffs\n",
    "\n",
    "def phi_L(L_p, z, k=0, L_cutoffs=None, zrange=None, func=L_lim1, g=g_new, TELESCOPE=ALL): #z0 being the z of interest\n",
    "    \n",
    "    tel, telname, F_LIM, color = TELESCOPE\n",
    "    \n",
    "    #creating the L_cutoffs and zrange if None\n",
    "    if (not L_cutoffs) or (not zrange):\n",
    "        zrange, L_cutoffs = create_Lcutoffs(TELESCOPE=TELESCOPE)\n",
    "    cutoffs_prime = new_L(L_cutoffs, zrange, k=k, g=g_new)\n",
    "    #####################################\n",
    "    \n",
    "    ax.plot(zrange, cutoffs_prime, color='black')\n",
    "    \n",
    "    #creation of L_prime\n",
    "    Lprime = new_L(L_p[tel], z[tel], k=k, g=g_new)\n",
    "    ####################\n",
    "    \n",
    "    Lprime, z = sort_by_first(Lprime, z[tel], reverse=True)\n",
    "    L_actuals = [] # only return the luminosities that are above the limit\n",
    "    n = []\n",
    "    for i in range(len(z)):\n",
    "        num = 0\n",
    "        z_max = get_max_z(zrange, cutoffs_prime, Lprime[i])\n",
    "        \n",
    "        if (z[i] > z_max and z[i] != 0.57 and z[i] != 1.5): #skip things under limit\n",
    "            ax.scatter(z[i], Lprime[i])\n",
    "            ax.scatter(z_max, Lprime[i], color='peachpuff')\n",
    "            print(z[i])\n",
    "            continue\n",
    "            \n",
    "        L_actuals.append(Lprime[i])\n",
    "        \n",
    "        for j in range(0, i): #since sorted by largest L' to smallest\n",
    "                            #should only include L'[j] > L'[i]\n",
    "                \n",
    "            if(Lprime[j] >= Lprime[i] and z[j] <= z_max): #associated set requirements\n",
    "                num += 1\n",
    "        \n",
    "        n.append(num+1) #includes itself?\n",
    "    \n",
    "    phi = []\n",
    "    prod = 1\n",
    "    for l in range(len(n)):\n",
    "        prod *= (1 + 1/n[l])\n",
    "        phi.append(prod)\n",
    "    \n",
    "    return phi, L_actuals\n",
    "\n",
    "hide_toggle()"
   ]
  },
  {
   "cell_type": "markdown",
   "metadata": {},
   "source": [
    "# Full Analysis of Parkes"
   ]
  },
  {
   "cell_type": "code",
   "execution_count": 23,
   "metadata": {},
   "outputs": [
    {
     "data": {
      "text/html": [
       "\n",
       "        <script>\n",
       "            function code_toggle_9010898748403676991() {\n",
       "                $('div.cell.code_cell.rendered.selected').find('div.input').toggle();\n",
       "            }\n",
       "\n",
       "            \n",
       "        </script>\n",
       "\n",
       "        <a href=\"javascript:code_toggle_9010898748403676991()\">Toggle show/hide</a>\n",
       "    "
      ],
      "text/plain": [
       "<IPython.core.display.HTML object>"
      ]
     },
     "execution_count": 23,
     "metadata": {},
     "output_type": "execute_result"
    }
   ],
   "source": [
    "L_p = np.array(data['L_p'])\n",
    "z = np.array(data['z'])\n",
    "d_L = np.array(data['d_L'])\n",
    "hide_toggle()"
   ]
  },
  {
   "cell_type": "code",
   "execution_count": 24,
   "metadata": {},
   "outputs": [
    {
     "data": {
      "image/png": "[encoded data removed]",
      "text/plain": [
       "<Figure size 432x288 with 1 Axes>"
      ]
     },
     "metadata": {
      "needs_background": "light"
     },
     "output_type": "display_data"
    },
    {
     "data": {
      "text/html": [
       "\n",
       "        <script>\n",
       "            function code_toggle_17799031632922425348() {\n",
       "                $('div.cell.code_cell.rendered.selected').find('div.input').toggle();\n",
       "            }\n",
       "\n",
       "            \n",
       "        </script>\n",
       "\n",
       "        <a href=\"javascript:code_toggle_17799031632922425348()\">Toggle show/hide</a>\n",
       "    "
      ],
      "text/plain": [
       "<IPython.core.display.HTML object>"
      ]
     },
     "execution_count": 24,
     "metadata": {},
     "output_type": "execute_result"
    }
   ],
   "source": [
    "fig, ax = graphLz(L_p, z, d_L, k=0, TELESCOPE=NEW_PARKES, L_str='L_p')\n",
    "ax.scatter(z[54:], L_p[54:], color='orange', label = 'CHIME')\n",
    "plt.title('[Parkes] Peak Luminosity vs. z')\n",
    "plt.ylabel('Peak Luminosity (erg s^-1 Hz^-1)')\n",
    "plt.xlabel('Redshift (z)')\n",
    "plt.legend()\n",
    "plt.show()\n",
    "hide_toggle()"
   ]
  },
  {
   "cell_type": "markdown",
   "metadata": {},
   "source": [
    "### log(L) vs. log (1+z)"
   ]
  },
  {
   "cell_type": "code",
   "execution_count": 25,
   "metadata": {},
   "outputs": [
    {
     "data": {
      "image/png": "[encoded data removed]",
      "text/plain": [
       "<Figure size 432x288 with 1 Axes>"
      ]
     },
     "metadata": {
      "needs_background": "light"
     },
     "output_type": "display_data"
    },
    {
     "data": {
      "text/html": [
       "\n",
       "        <script>\n",
       "            function code_toggle_249755278662835115() {\n",
       "                $('div.cell.code_cell.rendered.selected').find('div.input').toggle();\n",
       "            }\n",
       "\n",
       "            \n",
       "        </script>\n",
       "\n",
       "        <a href=\"javascript:code_toggle_249755278662835115()\">Toggle show/hide</a>\n",
       "    "
      ],
      "text/plain": [
       "<IPython.core.display.HTML object>"
      ]
     },
     "execution_count": 25,
     "metadata": {},
     "output_type": "execute_result"
    }
   ],
   "source": [
    "fig, ax = plt.subplots()\n",
    "ax.scatter(np.log10(1+z)[NEW_PARKES[0]], np.log10(L_p)[NEW_PARKES[0]], label = 'Parkes')\n",
    "ax.scatter(np.log10(1+z)[54:], np.log10(L_p)[54:], label = 'CHIME')\n",
    "plt.ylim([31, 37])\n",
    "plt.xlim([0, 0.5])\n",
    "plt.ylabel('log Luminosity (erg s^-1 Hz^-1)')\n",
    "plt.xlabel('log (1+z)')\n",
    "plt.title('[Parkes] log L vs. log (1+z)')\n",
    "plt.show()\n",
    "hide_toggle()"
   ]
  },
  {
   "cell_type": "markdown",
   "metadata": {},
   "source": [
    "### Kendall Tau, both methods"
   ]
  },
  {
   "cell_type": "code",
   "execution_count": 26,
   "metadata": {},
   "outputs": [
    {
     "data": {
      "text/html": [
       "\n",
       "        <script>\n",
       "            function code_toggle_17796852184894127816() {\n",
       "                $('div.cell.code_cell.rendered.selected').find('div.input').toggle();\n",
       "            }\n",
       "\n",
       "            \n",
       "        </script>\n",
       "\n",
       "        <a href=\"javascript:code_toggle_17796852184894127816()\">Toggle show/hide</a>\n",
       "    "
      ],
      "text/plain": [
       "<IPython.core.display.HTML object>"
      ]
     },
     "execution_count": 26,
     "metadata": {},
     "output_type": "execute_result"
    },
    {
     "data": {
      "image/png": "[encoded data removed]",
      "text/plain": [
       "<Figure size 432x288 with 1 Axes>"
      ]
     },
     "metadata": {
      "needs_background": "light"
     },
     "output_type": "display_data"
    }
   ],
   "source": [
    "fig, ax, k0 = tk_pandas(data, k_min=0, k_max=10, TELESCOPE=PAC)\n",
    "plt.title('[Parkes] τ(k) for L vs. z')\n",
    "hide_toggle()"
   ]
  },
  {
   "cell_type": "code",
   "execution_count": 28,
   "metadata": {},
   "outputs": [
    {
     "data": {
      "text/html": [
       "<div>\n",
       "<style scoped>\n",
       "    .dataframe tbody tr th:only-of-type {\n",
       "        vertical-align: middle;\n",
       "    }\n",
       "\n",
       "    .dataframe tbody tr th {\n",
       "        vertical-align: top;\n",
       "    }\n",
       "\n",
       "    .dataframe thead th {\n",
       "        text-align: right;\n",
       "    }\n",
       "</style>\n",
       "<table border=\"1\" class=\"dataframe\">\n",
       "  <thead>\n",
       "    <tr style=\"text-align: right;\">\n",
       "      <th></th>\n",
       "      <th>frb</th>\n",
       "      <th>telescope</th>\n",
       "      <th>snr</th>\n",
       "      <th>f_p</th>\n",
       "      <th>d_L</th>\n",
       "      <th>z</th>\n",
       "      <th>L_p</th>\n",
       "      <th>L_lim</th>\n",
       "      <th>DM</th>\n",
       "      <th>W</th>\n",
       "      <th>fl</th>\n",
       "    </tr>\n",
       "  </thead>\n",
       "  <tbody>\n",
       "    <tr>\n",
       "      <th>27</th>\n",
       "      <td>FRB010305</td>\n",
       "      <td>parkes</td>\n",
       "      <td>10.2</td>\n",
       "      <td>4.20</td>\n",
       "      <td>1.57</td>\n",
       "      <td>0.30</td>\n",
       "      <td>1.238681e+34</td>\n",
       "      <td>8.847723e+32</td>\n",
       "      <td>350.00</td>\n",
       "      <td>9.000</td>\n",
       "      <td>37.8000</td>\n",
       "    </tr>\n",
       "    <tr>\n",
       "      <th>28</th>\n",
       "      <td>FRB010125</td>\n",
       "      <td>parkes</td>\n",
       "      <td>17.0</td>\n",
       "      <td>0.30</td>\n",
       "      <td>3.33</td>\n",
       "      <td>0.57</td>\n",
       "      <td>3.980345e+33</td>\n",
       "      <td>3.980345e+33</td>\n",
       "      <td>790.00</td>\n",
       "      <td>9.400</td>\n",
       "      <td>2.8200</td>\n",
       "    </tr>\n",
       "    <tr>\n",
       "      <th>29</th>\n",
       "      <td>FRB010312</td>\n",
       "      <td>parkes</td>\n",
       "      <td>11.0</td>\n",
       "      <td>0.25</td>\n",
       "      <td>6.26</td>\n",
       "      <td>0.95</td>\n",
       "      <td>1.172194e+34</td>\n",
       "      <td>1.406633e+34</td>\n",
       "      <td>1187.00</td>\n",
       "      <td>24.300</td>\n",
       "      <td>6.0750</td>\n",
       "    </tr>\n",
       "    <tr>\n",
       "      <th>30</th>\n",
       "      <td>FRB010621</td>\n",
       "      <td>parkes</td>\n",
       "      <td>16.3</td>\n",
       "      <td>0.41</td>\n",
       "      <td>0.92</td>\n",
       "      <td>0.19</td>\n",
       "      <td>4.152125e+32</td>\n",
       "      <td>3.038141e+32</td>\n",
       "      <td>745.00</td>\n",
       "      <td>7.000</td>\n",
       "      <td>2.8700</td>\n",
       "    </tr>\n",
       "    <tr>\n",
       "      <th>31</th>\n",
       "      <td>FRB010724</td>\n",
       "      <td>parkes</td>\n",
       "      <td>23.0</td>\n",
       "      <td>30.00</td>\n",
       "      <td>1.42</td>\n",
       "      <td>0.28</td>\n",
       "      <td>7.237839e+34</td>\n",
       "      <td>7.237839e+32</td>\n",
       "      <td>375.00</td>\n",
       "      <td>5.000</td>\n",
       "      <td>150.0000</td>\n",
       "    </tr>\n",
       "    <tr>\n",
       "      <th>32</th>\n",
       "      <td>FRB090625</td>\n",
       "      <td>parkes</td>\n",
       "      <td>30.0</td>\n",
       "      <td>1.14</td>\n",
       "      <td>4.49</td>\n",
       "      <td>0.72</td>\n",
       "      <td>2.749847e+34</td>\n",
       "      <td>7.236439e+33</td>\n",
       "      <td>899.55</td>\n",
       "      <td>1.920</td>\n",
       "      <td>2.1888</td>\n",
       "    </tr>\n",
       "    <tr>\n",
       "      <th>33</th>\n",
       "      <td>FRB110214</td>\n",
       "      <td>parkes</td>\n",
       "      <td>13.0</td>\n",
       "      <td>27.00</td>\n",
       "      <td>0.67</td>\n",
       "      <td>0.14</td>\n",
       "      <td>1.450188e+34</td>\n",
       "      <td>1.611320e+32</td>\n",
       "      <td>168.90</td>\n",
       "      <td>1.900</td>\n",
       "      <td>51.3000</td>\n",
       "    </tr>\n",
       "    <tr>\n",
       "      <th>34</th>\n",
       "      <td>FRB110220</td>\n",
       "      <td>parkes</td>\n",
       "      <td>49.0</td>\n",
       "      <td>1.30</td>\n",
       "      <td>4.76</td>\n",
       "      <td>0.76</td>\n",
       "      <td>3.524262e+34</td>\n",
       "      <td>8.132913e+33</td>\n",
       "      <td>944.38</td>\n",
       "      <td>5.600</td>\n",
       "      <td>7.2800</td>\n",
       "    </tr>\n",
       "    <tr>\n",
       "      <th>35</th>\n",
       "      <td>FRB110626</td>\n",
       "      <td>parkes</td>\n",
       "      <td>11.0</td>\n",
       "      <td>0.40</td>\n",
       "      <td>3.30</td>\n",
       "      <td>0.56</td>\n",
       "      <td>5.211933e+33</td>\n",
       "      <td>3.908950e+33</td>\n",
       "      <td>723.00</td>\n",
       "      <td>1.400</td>\n",
       "      <td>0.5600</td>\n",
       "    </tr>\n",
       "    <tr>\n",
       "      <th>36</th>\n",
       "      <td>FRB110703</td>\n",
       "      <td>parkes</td>\n",
       "      <td>16.0</td>\n",
       "      <td>0.50</td>\n",
       "      <td>5.82</td>\n",
       "      <td>0.89</td>\n",
       "      <td>2.026408e+34</td>\n",
       "      <td>1.215845e+34</td>\n",
       "      <td>1103.60</td>\n",
       "      <td>4.300</td>\n",
       "      <td>2.1500</td>\n",
       "    </tr>\n",
       "    <tr>\n",
       "      <th>37</th>\n",
       "      <td>FRB120127</td>\n",
       "      <td>parkes</td>\n",
       "      <td>11.0</td>\n",
       "      <td>0.50</td>\n",
       "      <td>2.42</td>\n",
       "      <td>0.43</td>\n",
       "      <td>3.503577e+33</td>\n",
       "      <td>2.102146e+33</td>\n",
       "      <td>553.30</td>\n",
       "      <td>1.100</td>\n",
       "      <td>0.5500</td>\n",
       "    </tr>\n",
       "    <tr>\n",
       "      <th>38</th>\n",
       "      <td>FRB121002</td>\n",
       "      <td>parkes</td>\n",
       "      <td>16.0</td>\n",
       "      <td>0.43</td>\n",
       "      <td>9.25</td>\n",
       "      <td>1.30</td>\n",
       "      <td>4.402130e+34</td>\n",
       "      <td>3.071254e+34</td>\n",
       "      <td>1629.18</td>\n",
       "      <td>5.440</td>\n",
       "      <td>2.3392</td>\n",
       "    </tr>\n",
       "    <tr>\n",
       "      <th>39</th>\n",
       "      <td>FRB130626</td>\n",
       "      <td>parkes</td>\n",
       "      <td>21.0</td>\n",
       "      <td>0.74</td>\n",
       "      <td>4.60</td>\n",
       "      <td>0.74</td>\n",
       "      <td>1.873520e+34</td>\n",
       "      <td>7.595351e+33</td>\n",
       "      <td>952.40</td>\n",
       "      <td>1.980</td>\n",
       "      <td>1.4652</td>\n",
       "    </tr>\n",
       "    <tr>\n",
       "      <th>40</th>\n",
       "      <td>FRB130628</td>\n",
       "      <td>parkes</td>\n",
       "      <td>29.0</td>\n",
       "      <td>1.91</td>\n",
       "      <td>1.86</td>\n",
       "      <td>0.35</td>\n",
       "      <td>7.906244e+33</td>\n",
       "      <td>1.241818e+33</td>\n",
       "      <td>469.88</td>\n",
       "      <td>0.640</td>\n",
       "      <td>1.2224</td>\n",
       "    </tr>\n",
       "    <tr>\n",
       "      <th>41</th>\n",
       "      <td>FRB130729</td>\n",
       "      <td>parkes</td>\n",
       "      <td>14.0</td>\n",
       "      <td>0.22</td>\n",
       "      <td>4.25</td>\n",
       "      <td>0.69</td>\n",
       "      <td>4.754573e+33</td>\n",
       "      <td>6.483508e+33</td>\n",
       "      <td>861.00</td>\n",
       "      <td>15.610</td>\n",
       "      <td>3.4342</td>\n",
       "    </tr>\n",
       "    <tr>\n",
       "      <th>42</th>\n",
       "      <td>FRB131104</td>\n",
       "      <td>parkes</td>\n",
       "      <td>30.0</td>\n",
       "      <td>1.12</td>\n",
       "      <td>3.50</td>\n",
       "      <td>0.59</td>\n",
       "      <td>1.641591e+34</td>\n",
       "      <td>4.397120e+33</td>\n",
       "      <td>779.00</td>\n",
       "      <td>2.080</td>\n",
       "      <td>2.3296</td>\n",
       "    </tr>\n",
       "    <tr>\n",
       "      <th>43</th>\n",
       "      <td>FRB140514</td>\n",
       "      <td>parkes</td>\n",
       "      <td>16.0</td>\n",
       "      <td>0.47</td>\n",
       "      <td>2.46</td>\n",
       "      <td>0.44</td>\n",
       "      <td>3.403134e+33</td>\n",
       "      <td>2.172213e+33</td>\n",
       "      <td>562.70</td>\n",
       "      <td>2.800</td>\n",
       "      <td>1.3160</td>\n",
       "    </tr>\n",
       "    <tr>\n",
       "      <th>44</th>\n",
       "      <td>FRB150215</td>\n",
       "      <td>parkes</td>\n",
       "      <td>19.0</td>\n",
       "      <td>0.70</td>\n",
       "      <td>3.32</td>\n",
       "      <td>0.57</td>\n",
       "      <td>9.231774e+33</td>\n",
       "      <td>3.956475e+33</td>\n",
       "      <td>1105.60</td>\n",
       "      <td>2.880</td>\n",
       "      <td>2.0160</td>\n",
       "    </tr>\n",
       "    <tr>\n",
       "      <th>45</th>\n",
       "      <td>FRB150418</td>\n",
       "      <td>parkes</td>\n",
       "      <td>39.0</td>\n",
       "      <td>2.20</td>\n",
       "      <td>2.79</td>\n",
       "      <td>0.49</td>\n",
       "      <td>2.049000e+34</td>\n",
       "      <td>2.794091e+33</td>\n",
       "      <td>776.20</td>\n",
       "      <td>0.800</td>\n",
       "      <td>1.7600</td>\n",
       "    </tr>\n",
       "    <tr>\n",
       "      <th>46</th>\n",
       "      <td>FRB150610</td>\n",
       "      <td>parkes</td>\n",
       "      <td>18.0</td>\n",
       "      <td>0.70</td>\n",
       "      <td>8.41</td>\n",
       "      <td>1.20</td>\n",
       "      <td>5.923808e+34</td>\n",
       "      <td>2.538775e+34</td>\n",
       "      <td>1593.90</td>\n",
       "      <td>2.000</td>\n",
       "      <td>1.4000</td>\n",
       "    </tr>\n",
       "    <tr>\n",
       "      <th>47</th>\n",
       "      <td>FRB151206</td>\n",
       "      <td>parkes</td>\n",
       "      <td>10.0</td>\n",
       "      <td>0.30</td>\n",
       "      <td>11.09</td>\n",
       "      <td>1.50</td>\n",
       "      <td>4.414640e+34</td>\n",
       "      <td>4.414640e+34</td>\n",
       "      <td>1909.80</td>\n",
       "      <td>3.000</td>\n",
       "      <td>0.9000</td>\n",
       "    </tr>\n",
       "    <tr>\n",
       "      <th>48</th>\n",
       "      <td>FRB151230</td>\n",
       "      <td>parkes</td>\n",
       "      <td>17.0</td>\n",
       "      <td>0.42</td>\n",
       "      <td>5.08</td>\n",
       "      <td>0.80</td>\n",
       "      <td>1.296844e+34</td>\n",
       "      <td>9.263170e+33</td>\n",
       "      <td>960.40</td>\n",
       "      <td>4.400</td>\n",
       "      <td>1.8480</td>\n",
       "    </tr>\n",
       "    <tr>\n",
       "      <th>49</th>\n",
       "      <td>FRB160102</td>\n",
       "      <td>parkes</td>\n",
       "      <td>16.0</td>\n",
       "      <td>0.50</td>\n",
       "      <td>16.80</td>\n",
       "      <td>2.10</td>\n",
       "      <td>1.688494e+35</td>\n",
       "      <td>1.013096e+35</td>\n",
       "      <td>2596.10</td>\n",
       "      <td>3.400</td>\n",
       "      <td>1.7000</td>\n",
       "    </tr>\n",
       "    <tr>\n",
       "      <th>50</th>\n",
       "      <td>FRB171209</td>\n",
       "      <td>parkes</td>\n",
       "      <td>40.0</td>\n",
       "      <td>1.48</td>\n",
       "      <td>11.73</td>\n",
       "      <td>1.57</td>\n",
       "      <td>2.436513e+35</td>\n",
       "      <td>4.938877e+34</td>\n",
       "      <td>1457.40</td>\n",
       "      <td>2.500</td>\n",
       "      <td>3.7000</td>\n",
       "    </tr>\n",
       "    <tr>\n",
       "      <th>51</th>\n",
       "      <td>FRB180309</td>\n",
       "      <td>parkes</td>\n",
       "      <td>411.0</td>\n",
       "      <td>27.60</td>\n",
       "      <td>0.92</td>\n",
       "      <td>0.19</td>\n",
       "      <td>2.795089e+34</td>\n",
       "      <td>3.038141e+32</td>\n",
       "      <td>263.42</td>\n",
       "      <td>0.475</td>\n",
       "      <td>13.1100</td>\n",
       "    </tr>\n",
       "    <tr>\n",
       "      <th>52</th>\n",
       "      <td>FRB180311</td>\n",
       "      <td>parkes</td>\n",
       "      <td>11.5</td>\n",
       "      <td>0.15</td>\n",
       "      <td>15.82</td>\n",
       "      <td>2.00</td>\n",
       "      <td>4.491746e+34</td>\n",
       "      <td>8.983492e+34</td>\n",
       "      <td>1570.90</td>\n",
       "      <td>13.400</td>\n",
       "      <td>2.0100</td>\n",
       "    </tr>\n",
       "    <tr>\n",
       "      <th>53</th>\n",
       "      <td>FRB180714</td>\n",
       "      <td>parkes</td>\n",
       "      <td>22.0</td>\n",
       "      <td>0.60</td>\n",
       "      <td>12.01</td>\n",
       "      <td>1.60</td>\n",
       "      <td>1.035496e+35</td>\n",
       "      <td>5.177478e+34</td>\n",
       "      <td>1467.92</td>\n",
       "      <td>2.900</td>\n",
       "      <td>1.7400</td>\n",
       "    </tr>\n",
       "    <tr>\n",
       "      <th>54</th>\n",
       "      <td>FRB180908.J1232+74</td>\n",
       "      <td>CHIME/FRB</td>\n",
       "      <td>0.0</td>\n",
       "      <td>0.60</td>\n",
       "      <td>0.62</td>\n",
       "      <td>0.13</td>\n",
       "      <td>2.759596e+32</td>\n",
       "      <td>1.379798e+32</td>\n",
       "      <td>195.70</td>\n",
       "      <td>1.910</td>\n",
       "      <td>1.1460</td>\n",
       "    </tr>\n",
       "    <tr>\n",
       "      <th>55</th>\n",
       "      <td>FRB190117.J2207+17</td>\n",
       "      <td>CHIME/FRB</td>\n",
       "      <td>0.0</td>\n",
       "      <td>1.70</td>\n",
       "      <td>1.49</td>\n",
       "      <td>0.29</td>\n",
       "      <td>4.515776e+33</td>\n",
       "      <td>7.969017e+32</td>\n",
       "      <td>393.30</td>\n",
       "      <td>1.440</td>\n",
       "      <td>2.4480</td>\n",
       "    </tr>\n",
       "    <tr>\n",
       "      <th>56</th>\n",
       "      <td>FRB190208.J1855+46</td>\n",
       "      <td>CHIME/FRB</td>\n",
       "      <td>0.0</td>\n",
       "      <td>0.40</td>\n",
       "      <td>2.35</td>\n",
       "      <td>0.42</td>\n",
       "      <td>2.643058e+33</td>\n",
       "      <td>1.982293e+33</td>\n",
       "      <td>579.90</td>\n",
       "      <td>0.910</td>\n",
       "      <td>0.3640</td>\n",
       "    </tr>\n",
       "    <tr>\n",
       "      <th>57</th>\n",
       "      <td>FRB190212.J18+81</td>\n",
       "      <td>CHIME/FRB</td>\n",
       "      <td>0.0</td>\n",
       "      <td>0.40</td>\n",
       "      <td>1.05</td>\n",
       "      <td>0.21</td>\n",
       "      <td>5.276544e+32</td>\n",
       "      <td>3.957408e+32</td>\n",
       "      <td>301.70</td>\n",
       "      <td>4.100</td>\n",
       "      <td>1.6400</td>\n",
       "    </tr>\n",
       "    <tr>\n",
       "      <th>58</th>\n",
       "      <td>FRB190303.J1353+48</td>\n",
       "      <td>CHIME/FRB</td>\n",
       "      <td>0.0</td>\n",
       "      <td>0.50</td>\n",
       "      <td>0.77</td>\n",
       "      <td>0.16</td>\n",
       "      <td>3.547010e+32</td>\n",
       "      <td>2.128206e+32</td>\n",
       "      <td>222.40</td>\n",
       "      <td>4.500</td>\n",
       "      <td>2.2500</td>\n",
       "    </tr>\n",
       "    <tr>\n",
       "      <th>59</th>\n",
       "      <td>FRB190417.J1939+59</td>\n",
       "      <td>CHIME/FRB</td>\n",
       "      <td>0.0</td>\n",
       "      <td>0.50</td>\n",
       "      <td>7.40</td>\n",
       "      <td>1.08</td>\n",
       "      <td>3.276004e+34</td>\n",
       "      <td>1.965602e+34</td>\n",
       "      <td>1378.10</td>\n",
       "      <td>3.300</td>\n",
       "      <td>1.6500</td>\n",
       "    </tr>\n",
       "    <tr>\n",
       "      <th>60</th>\n",
       "      <td>FRB190604.J1435+53</td>\n",
       "      <td>CHIME/FRB</td>\n",
       "      <td>0.0</td>\n",
       "      <td>0.60</td>\n",
       "      <td>2.42</td>\n",
       "      <td>0.43</td>\n",
       "      <td>4.204293e+33</td>\n",
       "      <td>2.102146e+33</td>\n",
       "      <td>552.70</td>\n",
       "      <td>1.200</td>\n",
       "      <td>0.7200</td>\n",
       "    </tr>\n",
       "    <tr>\n",
       "      <th>61</th>\n",
       "      <td>FRB190907.J08+46</td>\n",
       "      <td>CHIME/FRB</td>\n",
       "      <td>0.0</td>\n",
       "      <td>0.30</td>\n",
       "      <td>1.07</td>\n",
       "      <td>0.21</td>\n",
       "      <td>4.109602e+32</td>\n",
       "      <td>4.109602e+32</td>\n",
       "      <td>310.90</td>\n",
       "      <td>3.000</td>\n",
       "      <td>0.9000</td>\n",
       "    </tr>\n",
       "  </tbody>\n",
       "</table>\n",
       "</div>"
      ],
      "text/plain": [
       "                   frb  telescope    snr    f_p    d_L     z           L_p  \\\n",
       "27           FRB010305     parkes   10.2   4.20   1.57  0.30  1.238681e+34   \n",
       "28           FRB010125     parkes   17.0   0.30   3.33  0.57  3.980345e+33   \n",
       "29           FRB010312     parkes   11.0   0.25   6.26  0.95  1.172194e+34   \n",
       "30           FRB010621     parkes   16.3   0.41   0.92  0.19  4.152125e+32   \n",
       "31           FRB010724     parkes   23.0  30.00   1.42  0.28  7.237839e+34   \n",
       "32           FRB090625     parkes   30.0   1.14   4.49  0.72  2.749847e+34   \n",
       "33           FRB110214     parkes   13.0  27.00   0.67  0.14  1.450188e+34   \n",
       "34           FRB110220     parkes   49.0   1.30   4.76  0.76  3.524262e+34   \n",
       "35           FRB110626     parkes   11.0   0.40   3.30  0.56  5.211933e+33   \n",
       "36           FRB110703     parkes   16.0   0.50   5.82  0.89  2.026408e+34   \n",
       "37           FRB120127     parkes   11.0   0.50   2.42  0.43  3.503577e+33   \n",
       "38           FRB121002     parkes   16.0   0.43   9.25  1.30  4.402130e+34   \n",
       "39           FRB130626     parkes   21.0   0.74   4.60  0.74  1.873520e+34   \n",
       "40           FRB130628     parkes   29.0   1.91   1.86  0.35  7.906244e+33   \n",
       "41           FRB130729     parkes   14.0   0.22   4.25  0.69  4.754573e+33   \n",
       "42           FRB131104     parkes   30.0   1.12   3.50  0.59  1.641591e+34   \n",
       "43           FRB140514     parkes   16.0   0.47   2.46  0.44  3.403134e+33   \n",
       "44           FRB150215     parkes   19.0   0.70   3.32  0.57  9.231774e+33   \n",
       "45           FRB150418     parkes   39.0   2.20   2.79  0.49  2.049000e+34   \n",
       "46           FRB150610     parkes   18.0   0.70   8.41  1.20  5.923808e+34   \n",
       "47           FRB151206     parkes   10.0   0.30  11.09  1.50  4.414640e+34   \n",
       "48           FRB151230     parkes   17.0   0.42   5.08  0.80  1.296844e+34   \n",
       "49           FRB160102     parkes   16.0   0.50  16.80  2.10  1.688494e+35   \n",
       "50           FRB171209     parkes   40.0   1.48  11.73  1.57  2.436513e+35   \n",
       "51           FRB180309     parkes  411.0  27.60   0.92  0.19  2.795089e+34   \n",
       "52           FRB180311     parkes   11.5   0.15  15.82  2.00  4.491746e+34   \n",
       "53           FRB180714     parkes   22.0   0.60  12.01  1.60  1.035496e+35   \n",
       "54  FRB180908.J1232+74  CHIME/FRB    0.0   0.60   0.62  0.13  2.759596e+32   \n",
       "55  FRB190117.J2207+17  CHIME/FRB    0.0   1.70   1.49  0.29  4.515776e+33   \n",
       "56  FRB190208.J1855+46  CHIME/FRB    0.0   0.40   2.35  0.42  2.643058e+33   \n",
       "57    FRB190212.J18+81  CHIME/FRB    0.0   0.40   1.05  0.21  5.276544e+32   \n",
       "58  FRB190303.J1353+48  CHIME/FRB    0.0   0.50   0.77  0.16  3.547010e+32   \n",
       "59  FRB190417.J1939+59  CHIME/FRB    0.0   0.50   7.40  1.08  3.276004e+34   \n",
       "60  FRB190604.J1435+53  CHIME/FRB    0.0   0.60   2.42  0.43  4.204293e+33   \n",
       "61    FRB190907.J08+46  CHIME/FRB    0.0   0.30   1.07  0.21  4.109602e+32   \n",
       "\n",
       "           L_lim       DM       W        fl  \n",
       "27  8.847723e+32   350.00   9.000   37.8000  \n",
       "28  3.980345e+33   790.00   9.400    2.8200  \n",
       "29  1.406633e+34  1187.00  24.300    6.0750  \n",
       "30  3.038141e+32   745.00   7.000    2.8700  \n",
       "31  7.237839e+32   375.00   5.000  150.0000  \n",
       "32  7.236439e+33   899.55   1.920    2.1888  \n",
       "33  1.611320e+32   168.90   1.900   51.3000  \n",
       "34  8.132913e+33   944.38   5.600    7.2800  \n",
       "35  3.908950e+33   723.00   1.400    0.5600  \n",
       "36  1.215845e+34  1103.60   4.300    2.1500  \n",
       "37  2.102146e+33   553.30   1.100    0.5500  \n",
       "38  3.071254e+34  1629.18   5.440    2.3392  \n",
       "39  7.595351e+33   952.40   1.980    1.4652  \n",
       "40  1.241818e+33   469.88   0.640    1.2224  \n",
       "41  6.483508e+33   861.00  15.610    3.4342  \n",
       "42  4.397120e+33   779.00   2.080    2.3296  \n",
       "43  2.172213e+33   562.70   2.800    1.3160  \n",
       "44  3.956475e+33  1105.60   2.880    2.0160  \n",
       "45  2.794091e+33   776.20   0.800    1.7600  \n",
       "46  2.538775e+34  1593.90   2.000    1.4000  \n",
       "47  4.414640e+34  1909.80   3.000    0.9000  \n",
       "48  9.263170e+33   960.40   4.400    1.8480  \n",
       "49  1.013096e+35  2596.10   3.400    1.7000  \n",
       "50  4.938877e+34  1457.40   2.500    3.7000  \n",
       "51  3.038141e+32   263.42   0.475   13.1100  \n",
       "52  8.983492e+34  1570.90  13.400    2.0100  \n",
       "53  5.177478e+34  1467.92   2.900    1.7400  \n",
       "54  1.379798e+32   195.70   1.910    1.1460  \n",
       "55  7.969017e+32   393.30   1.440    2.4480  \n",
       "56  1.982293e+33   579.90   0.910    0.3640  \n",
       "57  3.957408e+32   301.70   4.100    1.6400  \n",
       "58  2.128206e+32   222.40   4.500    2.2500  \n",
       "59  1.965602e+34  1378.10   3.300    1.6500  \n",
       "60  2.102146e+33   552.70   1.200    0.7200  \n",
       "61  4.109602e+32   310.90   3.000    0.9000  "
      ]
     },
     "execution_count": 28,
     "metadata": {},
     "output_type": "execute_result"
    }
   ],
   "source": [
    "data.iloc[PAC[0]]"
   ]
  },
  {
   "cell_type": "code",
   "execution_count": 27,
   "metadata": {},
   "outputs": [
    {
     "name": "stdout",
     "output_type": "stream",
     "text": [
      "4.66\n"
     ]
    },
    {
     "data": {
      "text/html": [
       "\n",
       "        <script>\n",
       "            function code_toggle_13965344238386864574() {\n",
       "                $('div.cell.code_cell.rendered.selected').find('div.input').toggle();\n",
       "            }\n",
       "\n",
       "            \n",
       "        </script>\n",
       "\n",
       "        <a href=\"javascript:code_toggle_13965344238386864574()\">Toggle show/hide</a>\n",
       "    "
      ],
      "text/plain": [
       "<IPython.core.display.HTML object>"
      ]
     },
     "execution_count": 27,
     "metadata": {},
     "output_type": "execute_result"
    }
   ],
   "source": [
    "print(k0)\n",
    "hide_toggle()"
   ]
  },
  {
   "cell_type": "code",
   "execution_count": 82,
   "metadata": {},
   "outputs": [
    {
     "data": {
      "text/html": [
       "\n",
       "        <script>\n",
       "            function code_toggle_14012309383174141909() {\n",
       "                $('div.cell.code_cell.rendered.selected').find('div.input').toggle();\n",
       "            }\n",
       "\n",
       "            \n",
       "        </script>\n",
       "\n",
       "        <a href=\"javascript:code_toggle_14012309383174141909()\">Toggle show/hide</a>\n",
       "    "
      ],
      "text/plain": [
       "<IPython.core.display.HTML object>"
      ]
     },
     "execution_count": 82,
     "metadata": {},
     "output_type": "execute_result"
    },
    {
     "data": {
      "image/png": "[encoded data removed]",
      "text/plain": [
       "<Figure size 432x288 with 1 Axes>"
      ]
     },
     "metadata": {
      "needs_background": "light"
     },
     "output_type": "display_data"
    }
   ],
   "source": [
    "fig, ax, k0 = tk2_pandas(data, k_min=0, k_max=10, TELESCOPE=PAC)\n",
    "plt.title('[Parkes] τ(k) for L vs. L_lim')\n",
    "hide_toggle()"
   ]
  },
  {
   "cell_type": "code",
   "execution_count": 83,
   "metadata": {},
   "outputs": [
    {
     "name": "stdout",
     "output_type": "stream",
     "text": [
      "4.37\n"
     ]
    },
    {
     "data": {
      "text/html": [
       "\n",
       "        <script>\n",
       "            function code_toggle_5191235029660241191() {\n",
       "                $('div.cell.code_cell.rendered.selected').find('div.input').toggle();\n",
       "            }\n",
       "\n",
       "            \n",
       "        </script>\n",
       "\n",
       "        <a href=\"javascript:code_toggle_5191235029660241191()\">Toggle show/hide</a>\n",
       "    "
      ],
      "text/plain": [
       "<IPython.core.display.HTML object>"
      ]
     },
     "execution_count": 83,
     "metadata": {},
     "output_type": "execute_result"
    }
   ],
   "source": [
    "print(k0)\n",
    "hide_toggle()"
   ]
  },
  {
   "cell_type": "markdown",
   "metadata": {},
   "source": [
    "since it seems k~2 is the closest to 0, with error bars of ±2, the values of k used from now on will be k = 0,2,4"
   ]
  },
  {
   "cell_type": "markdown",
   "metadata": {},
   "source": [
    "### dot sigma(z)\n",
    "sigma0-4, z0-4  \n",
    "rawL, rawz, rawdL  \n",
    "rawLF(), z_, N  \n",
    "graph"
   ]
  },
  {
   "cell_type": "code",
   "execution_count": 84,
   "metadata": {},
   "outputs": [
    {
     "name": "stdout",
     "output_type": "stream",
     "text": [
      "0.69\n",
      "0.95\n",
      "2.0\n",
      "0.69\n",
      "0.95\n",
      "2.0\n",
      "0.69\n",
      "0.95\n",
      "2.0\n"
     ]
    },
    {
     "data": {
      "text/html": [
       "\n",
       "        <script>\n",
       "            function code_toggle_17432818406834825301() {\n",
       "                $('div.cell.code_cell.rendered.selected').find('div.input').toggle();\n",
       "            }\n",
       "\n",
       "            \n",
       "        </script>\n",
       "\n",
       "        <a href=\"javascript:code_toggle_17432818406834825301()\">Toggle show/hide</a>\n",
       "    "
      ],
      "text/plain": [
       "<IPython.core.display.HTML object>"
      ]
     },
     "execution_count": 84,
     "metadata": {},
     "output_type": "execute_result"
    }
   ],
   "source": [
    "sigma0, z_0 = sigma_z(L_p, z, d_L, k=0, TELESCOPE=PAC)\n",
    "sigma2, z_2 = sigma_z(L_p, z, d_L, k=2, TELESCOPE=PAC)\n",
    "sigma4, z_4 = sigma_z(L_p, z, d_L, k=4, TELESCOPE=PAC)\n",
    "hide_toggle()"
   ]
  },
  {
   "cell_type": "code",
   "execution_count": 85,
   "metadata": {},
   "outputs": [
    {
     "data": {
      "text/html": [
       "\n",
       "        <script>\n",
       "            function code_toggle_615315924027468770() {\n",
       "                $('div.cell.code_cell.rendered.selected').find('div.input').toggle();\n",
       "            }\n",
       "\n",
       "            \n",
       "        </script>\n",
       "\n",
       "        <a href=\"javascript:code_toggle_615315924027468770()\">Toggle show/hide</a>\n",
       "    "
      ],
      "text/plain": [
       "<IPython.core.display.HTML object>"
      ]
     },
     "execution_count": 85,
     "metadata": {},
     "output_type": "execute_result"
    }
   ],
   "source": [
    "rawL = L_p[27:]\n",
    "rawz = z[27:]\n",
    "rawdL = d_L[27:]\n",
    "\n",
    "rawL = np.delete(rawL, [14,2,25])\n",
    "rawz = np.delete(rawz, [14,2,25])\n",
    "rawdL = np.delete(rawdL, [14,2,25])\n",
    "hide_toggle()"
   ]
  },
  {
   "cell_type": "code",
   "execution_count": 31,
   "metadata": {},
   "outputs": [
    {
     "data": {
      "text/html": [
       "\n",
       "        <script>\n",
       "            function code_toggle_17508975726157722980() {\n",
       "                $('div.cell.code_cell.rendered.selected').find('div.input').toggle();\n",
       "            }\n",
       "\n",
       "            \n",
       "        </script>\n",
       "\n",
       "        <a href=\"javascript:code_toggle_17508975726157722980()\">Toggle show/hide</a>\n",
       "    "
      ],
      "text/plain": [
       "<IPython.core.display.HTML object>"
      ]
     },
     "execution_count": 31,
     "metadata": {},
     "output_type": "execute_result"
    }
   ],
   "source": [
    "def rawLF(L_p, z, d_L):\n",
    "    z_, L_p_, d_L_ = sort_by_1(z, L_p, d_L)\n",
    "    N = [i for i in range(1, len(z_)+1)] # 1 to N inclusive\n",
    "    return z_, N\n",
    "\n",
    "z_, N = rawLF(rawL, rawz, rawdL)\n",
    "hide_toggle()"
   ]
  },
  {
   "cell_type": "code",
   "execution_count": 86,
   "metadata": {},
   "outputs": [
    {
     "data": {
      "image/png": "[encoded data removed]",
      "text/plain": [
       "<Figure size 432x288 with 1 Axes>"
      ]
     },
     "metadata": {
      "needs_background": "light"
     },
     "output_type": "display_data"
    },
    {
     "data": {
      "text/html": [
       "\n",
       "        <script>\n",
       "            function code_toggle_2088259798025092400() {\n",
       "                $('div.cell.code_cell.rendered.selected').find('div.input').toggle();\n",
       "            }\n",
       "\n",
       "            \n",
       "        </script>\n",
       "\n",
       "        <a href=\"javascript:code_toggle_2088259798025092400()\">Toggle show/hide</a>\n",
       "    "
      ],
      "text/plain": [
       "<IPython.core.display.HTML object>"
      ]
     },
     "execution_count": 86,
     "metadata": {},
     "output_type": "execute_result"
    }
   ],
   "source": [
    "fig, ax = plt.subplots()\n",
    "ax.scatter(np.log10(1+np.array(z_0)), np.log10(sigma0), label='k=0')\n",
    "ax.scatter(np.log10(1+np.array(z_2)), np.log10(sigma2), label='k=2', marker='x')\n",
    "ax.scatter(np.log10(1+np.array(z_4)), np.log10(sigma4), label='k=4', marker='v')\n",
    "#plt.xlim([0, 0.6])\n",
    "plt.ylim([0, 2.6])\n",
    "plt.title(f'log(dot σ(z)) vs. log(1+z)')\n",
    "plt.xlabel('log(1+z)')\n",
    "plt.ylabel('log(dot σ(z))')\n",
    "\n",
    "ax.scatter(np.log10(1+np.array(z_)), np.log10(np.array(N)+1), label='raw N(<z)', color='black')\n",
    "\n",
    "#plt.ylabel('log N(<z)')\n",
    "#plt.xlabel('log (1+z)')\n",
    "#plt.title('log N(<z) vs. log(1+z)')\n",
    "\n",
    "ax.legend()\n",
    "\n",
    "#plt.savefig('dotsigma.png', dpi=300)\n",
    "plt.show()\n",
    "hide_toggle()"
   ]
  },
  {
   "cell_type": "markdown",
   "metadata": {},
   "source": [
    "### phi(L')\n",
    "zrange, L_cutoffs, phi0-4, Lprime 0-4  \n",
    "rawPhi(), L_p_, NPhi  \n",
    "graph  "
   ]
  },
  {
   "cell_type": "code",
   "execution_count": 87,
   "metadata": {},
   "outputs": [
    {
     "name": "stdout",
     "output_type": "stream",
     "text": [
      "2.0\n",
      "0.95\n",
      "0.69\n",
      "2.0\n",
      "0.95\n",
      "0.69\n",
      "2.0\n",
      "0.95\n",
      "0.69\n"
     ]
    },
    {
     "data": {
      "text/html": [
       "\n",
       "        <script>\n",
       "            function code_toggle_947009474969581636() {\n",
       "                $('div.cell.code_cell.rendered.selected').find('div.input').toggle();\n",
       "            }\n",
       "\n",
       "            \n",
       "        </script>\n",
       "\n",
       "        <a href=\"javascript:code_toggle_947009474969581636()\">Toggle show/hide</a>\n",
       "    "
      ],
      "text/plain": [
       "<IPython.core.display.HTML object>"
      ]
     },
     "execution_count": 87,
     "metadata": {},
     "output_type": "execute_result"
    }
   ],
   "source": [
    "#NN_PARKES = (slice(27, 54), 'Parkes', 0.3, 'ff7f0e') #about as close as i can get to 0.30 without cutting off additional points\n",
    "zrange, L_cutoffs = create_Lcutoffs(TELESCOPE=NEW_PARKES)\n",
    "phi0, Lprime0 = phi_L(L_p, z, k=0, L_cutoffs=L_cutoffs, zrange=zrange, TELESCOPE=PAC)\n",
    "phi2, Lprime2 = phi_L(L_p, z, k=2, L_cutoffs=L_cutoffs, zrange=zrange, TELESCOPE=PAC)\n",
    "phi4, Lprime4 = phi_L(L_p, z, k=4, L_cutoffs=L_cutoffs, zrange=zrange, TELESCOPE=PAC)\n",
    "hide_toggle()"
   ]
  },
  {
   "cell_type": "code",
   "execution_count": 88,
   "metadata": {},
   "outputs": [
    {
     "data": {
      "text/html": [
       "\n",
       "        <script>\n",
       "            function code_toggle_10832819942522474304() {\n",
       "                $('div.cell.code_cell.rendered.selected').find('div.input').toggle();\n",
       "            }\n",
       "\n",
       "            \n",
       "        </script>\n",
       "\n",
       "        <a href=\"javascript:code_toggle_10832819942522474304()\">Toggle show/hide</a>\n",
       "    "
      ],
      "text/plain": [
       "<IPython.core.display.HTML object>"
      ]
     },
     "execution_count": 88,
     "metadata": {},
     "output_type": "execute_result"
    }
   ],
   "source": [
    "def rawPhi(L_p, z, d_L):\n",
    "    L_p_, z_, d_L_ = sort_by_1(L_p, z, d_L, reverse=True)\n",
    "    N = [i for i in range(1, len(L_p_)+1)]\n",
    "    return L_p_, N\n",
    "\n",
    "L_p_, NPhi = rawPhi(rawL, rawz, rawdL)\n",
    "hide_toggle()"
   ]
  },
  {
   "cell_type": "code",
   "execution_count": 89,
   "metadata": {},
   "outputs": [
    {
     "data": {
      "image/png": "[encoded data removed]",
      "text/plain": [
       "<Figure size 432x288 with 1 Axes>"
      ]
     },
     "metadata": {
      "needs_background": "light"
     },
     "output_type": "display_data"
    },
    {
     "data": {
      "text/html": [
       "\n",
       "        <script>\n",
       "            function code_toggle_11395107515136260700() {\n",
       "                $('div.cell.code_cell.rendered.selected').find('div.input').toggle();\n",
       "            }\n",
       "\n",
       "            \n",
       "        </script>\n",
       "\n",
       "        <a href=\"javascript:code_toggle_11395107515136260700()\">Toggle show/hide</a>\n",
       "    "
      ],
      "text/plain": [
       "<IPython.core.display.HTML object>"
      ]
     },
     "execution_count": 89,
     "metadata": {},
     "output_type": "execute_result"
    }
   ],
   "source": [
    "fig, ax = plt.subplots()\n",
    "ax.scatter(np.log10(Lprime0), np.log10(phi0), label='k=0')\n",
    "ax.scatter(np.log10(Lprime0), np.log10(phi2), label='k=2', marker='x')\n",
    "ax.scatter(np.log10(Lprime0), np.log10(phi4), label='k=4', marker='v')\n",
    "ax.scatter(np.log10(L_p_), np.log10(np.array(NPhi)+1), label='N(>L)', color='black', marker='.')\n",
    "ax.legend()\n",
    "#plt.ylim(0, 2.25)\n",
    "#plt.xlim(32.5, 35.5)\n",
    "plt.xlabel('log(L) in erg/s')\n",
    "plt.ylabel('log Φ(L)')\n",
    "plt.title(f'log Φ(L) vs. log(L)')\n",
    "#plt.savefig('phi(L) new.png', dpi=300)\n",
    "plt.show()\n",
    "hide_toggle()"
   ]
  },
  {
   "cell_type": "markdown",
   "metadata": {},
   "source": [
    "## dot rho\n",
    "devSig, devPhi  \n",
    "manual_dL, manual_Llim, manual_dVdz  \n",
    "rho_z"
   ]
  },
  {
   "cell_type": "code",
   "execution_count": 90,
   "metadata": {},
   "outputs": [
    {
     "data": {
      "text/html": [
       "\n",
       "        <script>\n",
       "            function code_toggle_1127615445293886943() {\n",
       "                $('div.cell.code_cell.rendered.selected').find('div.input').toggle();\n",
       "            }\n",
       "\n",
       "            \n",
       "        </script>\n",
       "\n",
       "        <a href=\"javascript:code_toggle_1127615445293886943()\">Toggle show/hide</a>\n",
       "    "
      ],
      "text/plain": [
       "<IPython.core.display.HTML object>"
      ]
     },
     "execution_count": 90,
     "metadata": {},
     "output_type": "execute_result"
    }
   ],
   "source": [
    "def devSig(z, d1, d2, Z_c, n):\n",
    "    Z = z+1.0\n",
    "    fac1 = np.power(Z, d1-1.0)\n",
    "    fac2 = np.power(np.power(Z/Z_c, n*(d1-d2))+1.0, -1.0/n - 1.0)\n",
    "    fac3 = d2*np.power(Z/Z_c, n*(d1-d2))+d1\n",
    "    return fac1*fac2*fac3\n",
    "\n",
    "def devPhi(L, Phi_0, L_0, d1, d2, n):\n",
    "    ratio = L/L_0\n",
    "    fac1 = Phi_0 * np.power(1+ np.power(ratio, n*(d2-d1)), -1.0/n -1.0)\n",
    "    fac2 = d2*np.power(ratio, n*(d2-d1))+d1\n",
    "    fac3 = L*np.power(ratio, d1)\n",
    "    return fac1*fac2/fac3\n",
    "hide_toggle()"
   ]
  },
  {
   "cell_type": "code",
   "execution_count": 42,
   "metadata": {},
   "outputs": [
    {
     "data": {
      "text/html": [
       "\n",
       "        <script>\n",
       "            function code_toggle_610504012122601137() {\n",
       "                $('div.cell.code_cell.rendered.selected').find('div.input').toggle();\n",
       "            }\n",
       "\n",
       "            \n",
       "        </script>\n",
       "\n",
       "        <a href=\"javascript:code_toggle_610504012122601137()\">Toggle show/hide</a>\n",
       "    "
      ],
      "text/plain": [
       "<IPython.core.display.HTML object>"
      ]
     },
     "execution_count": 42,
     "metadata": {},
     "output_type": "execute_result"
    }
   ],
   "source": [
    "def manual_dL(z, O_M=0.286, O_V=0.714, H_0=69.6, dz = 1e-5, prev=None):\n",
    "    d_H = 299792458/(H_0*3.24077929e-20) #Hubble Distance, in meters!\n",
    "    \n",
    "    #numerical integration\n",
    "    z_cur = 0\n",
    "    integral = 0\n",
    "    \n",
    "    if prev: #already integrated up to a certain point\n",
    "        z_cur, d_L = prev #assume format is [z, d_L]\n",
    "        integral = d_L/(d_H*(1+z_cur))\n",
    "    \n",
    "    while(z_cur < z):\n",
    "        dI = dz/(O_M*(1+z_cur)**3 + O_V)**0.5\n",
    "        z_cur += dz\n",
    "        dI2 = dz/(O_M*(1+z_cur)**3 + O_V)**0.5\n",
    "        integral += (dI+dI2)/2\n",
    "    \n",
    "    return integral*(1+z)*d_H\n",
    "\n",
    "def manual_Llim(F_lim, z_i, g=g_new, k=0, prev=None):\n",
    "    if not prev:\n",
    "        return (F_lim*1e-19)*4*math.pi*(manual_dL(z_i, prev=prev))**2/g(z_i, k)\n",
    "    d_L = manual_dL(z_i, prev=prev)\n",
    "    return [(F_lim*1e-19)*4*math.pi*(d_L)**2/g(z_i, k), d_L]\n",
    "\n",
    "def manual_dVdz(z, O_M=0.286, O_V=0.714, H_0=69.6, dz= 1e-5, prev=None):\n",
    "    d_H = 299792458/(H_0*3.24077929e-20) #Hubble Distance, in meters!\n",
    "    \n",
    "    #numerical integration\n",
    "    z_cur = 0\n",
    "    integral = 0\n",
    "    \n",
    "    if prev:\n",
    "        z_cur, integral = prev\n",
    "    \n",
    "    while(z_cur < z):\n",
    "        dI = dz/(O_M*(1+z_cur)**3 + O_V)**0.5\n",
    "        z_cur += dz\n",
    "        dI2 = dz/(O_M*(1+z_cur)**3 + O_V)**0.5\n",
    "        integral += (dI+dI2)/2\n",
    "    \n",
    "    if not prev:\n",
    "        return 4*math.pi*(d_H**3)*integral**2/(O_M*(1+z_cur)**3 + O_V)**0.5\n",
    "    return [4*math.pi*(d_H**3)*integral**2/(O_M*(1+z_cur)**3 + O_V)**0.5, integral]\n",
    "\n",
    "hide_toggle()"
   ]
  },
  {
   "cell_type": "code",
   "execution_count": 51,
   "metadata": {},
   "outputs": [
    {
     "data": {
      "text/html": [
       "\n",
       "        <script>\n",
       "            function code_toggle_8377213489536210305() {\n",
       "                $('div.cell.code_cell.rendered.selected').find('div.input').toggle();\n",
       "            }\n",
       "\n",
       "            \n",
       "        </script>\n",
       "\n",
       "        <a href=\"javascript:code_toggle_8377213489536210305()\">Toggle show/hide</a>\n",
       "    "
      ],
      "text/plain": [
       "<IPython.core.display.HTML object>"
      ]
     },
     "execution_count": 51,
     "metadata": {},
     "output_type": "execute_result"
    }
   ],
   "source": [
    "def rho_z(sigma, z_, argsSig):\n",
    "    dSdz = devSig(z_, *argsSig)\n",
    "    \n",
    "    z_cur = 0\n",
    "    i = 0\n",
    "    dz = 1e-5\n",
    "    \n",
    "    prev = (0, 0)\n",
    "    \n",
    "    dVdz = []\n",
    "    \n",
    "    while(i < len(z_)):\n",
    "        dVdzi, integral = manual_dVdz(z_[i], prev=prev)\n",
    "        prev = (z_[i], integral)\n",
    "        dVdz.append(dVdzi)\n",
    "        i += 1\n",
    "    \n",
    "    return [(1+z_[i])*dSdz[i]/dVdz[i] for i in range(len(z_))]\n",
    "hide_toggle()"
   ]
  },
  {
   "cell_type": "code",
   "execution_count": 53,
   "metadata": {},
   "outputs": [
    {
     "data": {
      "text/html": [
       "\n",
       "        <script>\n",
       "            function code_toggle_4469010856155553442() {\n",
       "                $('div.cell.code_cell.rendered.selected').find('div.input').toggle();\n",
       "            }\n",
       "\n",
       "            \n",
       "        </script>\n",
       "\n",
       "        <a href=\"javascript:code_toggle_4469010856155553442()\">Toggle show/hide</a>\n",
       "    "
      ],
      "text/plain": [
       "<IPython.core.display.HTML object>"
      ]
     },
     "execution_count": 53,
     "metadata": {},
     "output_type": "execute_result"
    }
   ],
   "source": [
    "argsSig0 = np.array([6.6284342, 3.16253072, 1.48414957, 7.84493569])\n",
    "rho = rho_z(sigma0, np.array(z_0), argsSig0)\n",
    "rho = np.array(rho)*2.93799894e67\n",
    "hide_toggle()"
   ]
  },
  {
   "cell_type": "code",
   "execution_count": 54,
   "metadata": {},
   "outputs": [
    {
     "data": {
      "text/html": [
       "\n",
       "        <script>\n",
       "            function code_toggle_5076444461017349713() {\n",
       "                $('div.cell.code_cell.rendered.selected').find('div.input').toggle();\n",
       "            }\n",
       "\n",
       "            \n",
       "        </script>\n",
       "\n",
       "        <a href=\"javascript:code_toggle_5076444461017349713()\">Toggle show/hide</a>\n",
       "    "
      ],
      "text/plain": [
       "<IPython.core.display.HTML object>"
      ]
     },
     "execution_count": 54,
     "metadata": {},
     "output_type": "execute_result"
    }
   ],
   "source": [
    "argsSigRaw = np.array([6.82541666, 0.48318052, 1.52510186, 1.5272636])\n",
    "z_, N = rawLF(rawL, rawz, rawdL)\n",
    "rawrho = rho_z(np.array(N)+1, np.array(z_), argsSigRaw)\n",
    "rawrho = np.array(rawrho)*2.93799894e67\n",
    "hide_toggle()"
   ]
  },
  {
   "cell_type": "code",
   "execution_count": 66,
   "metadata": {},
   "outputs": [],
   "source": [
    "normrho = np.array(rho)/rho[0]\n",
    "normrawrho= np.array(rawrho)/rawrho[0]"
   ]
  },
  {
   "cell_type": "code",
   "execution_count": 71,
   "metadata": {},
   "outputs": [
    {
     "data": {
      "text/html": [
       "\n",
       "        <script>\n",
       "            function code_toggle_6542737967057450200() {\n",
       "                $('div.cell.code_cell.rendered.selected').find('div.input').toggle();\n",
       "            }\n",
       "\n",
       "            \n",
       "        </script>\n",
       "\n",
       "        <a href=\"javascript:code_toggle_6542737967057450200()\">Toggle show/hide</a>\n",
       "    "
      ],
      "text/plain": [
       "<IPython.core.display.HTML object>"
      ]
     },
     "execution_count": 71,
     "metadata": {},
     "output_type": "execute_result"
    },
    {
     "data": {
      "image/png": "[encoded data removed]",
      "text/plain": [
       "<Figure size 432x288 with 1 Axes>"
      ]
     },
     "metadata": {
      "needs_background": "light"
     },
     "output_type": "display_data"
    }
   ],
   "source": [
    "fig, ax = plt.subplots()\n",
    "ax.scatter(np.log10(1+np.array(z_0)), np.log10(normrho), label='dot rho')\n",
    "ax.scatter(np.log10(1+np.array(z_)), np.log10(normrawrho), label='raw dot rho')\n",
    "Z = np.linspace(1, 3.1, 50)\n",
    "ax.plot(np.log10(Z), np.log10(0.1*SFR(Z)), color='purple', label = 'SFR')\n",
    "plt.title('log(rho_z) vs. log(1+z)')\n",
    "plt.ylabel('log(rho_z) [arbitrary units]')\n",
    "plt.xlabel('log(1+z)')\n",
    "plt.legend()\n",
    "#plt.savefig('rhovsz.jpg', dpi=300)\n",
    "hide_toggle()"
   ]
  },
  {
   "cell_type": "code",
   "execution_count": 56,
   "metadata": {},
   "outputs": [
    {
     "data": {
      "text/plain": [
       "3.486017063065465"
      ]
     },
     "execution_count": 56,
     "metadata": {},
     "output_type": "execute_result"
    }
   ],
   "source": [
    "def SFR(Z):\n",
    "    return np.power(Z, 2.7)/(1 + np.power(Z/2.9, 5.6))"
   ]
  },
  {
   "cell_type": "markdown",
   "metadata": {},
   "source": [
    "# Debug"
   ]
  },
  {
   "cell_type": "code",
   "execution_count": 48,
   "metadata": {},
   "outputs": [
    {
     "data": {
      "image/png": "[encoded data removed]",
      "text/plain": [
       "<Figure size 432x288 with 1 Axes>"
      ]
     },
     "metadata": {
      "needs_background": "light"
     },
     "output_type": "display_data"
    }
   ],
   "source": [
    "def customfunc(ratio):\n",
    "    num = 115*(ratio**1.98)+16\n",
    "    denom = 100*(ratio**1.16) * (ratio**1.98 + 1)**1.5\n",
    "    return num/denom\n",
    "\n",
    "def psi_L(PSI_0, L0, L):\n",
    "    fact = customfunc(L/L0)\n",
    "    return PSI_0*fact/L0\n",
    "\n",
    "#x from 10^25.6 to 10^28.2\n",
    "\n",
    "psi = []\n",
    "Ls = np.power(10, np.arange(25.6, 28.2, 0.01))\n",
    "for L in Ls:\n",
    "    psi.append(psi_L(10**1.4, 10**27, L))\n",
    "\n",
    "otherLs = np.array(data['L_p'])\n",
    "\n",
    "fig, ax = plt.subplots()\n",
    "ax.plot(np.log10(Ls), np.log10(psi))\n",
    "plt.title('log ψ(L\\') versus log (L\\')')\n",
    "plt.ylabel('log ψ(L\\')')\n",
    "plt.xlabel('log (L\\') in erg/s')\n",
    "plt.show()"
   ]
  },
  {
   "cell_type": "code",
   "execution_count": 49,
   "metadata": {},
   "outputs": [],
   "source": [
    "def rawLF(L_p, z, d_L):\n",
    "    z_, L_p_, d_L_ = sort_by_1(z, L_p, d_L)\n",
    "    N = [i for i in range(1, len(z_)+1)] # 1 to N inclusive\n",
    "    return z_, N\n",
    "\n",
    "z_, N = rawLF(rawL, rawz, rawdL)"
   ]
  },
  {
   "cell_type": "code",
   "execution_count": 50,
   "metadata": {},
   "outputs": [],
   "source": [
    "def func_phi(L, Phi_0, L_0, d1, d2, n):\n",
    "    ratio = np.divide(L, L_0)\n",
    "    return Phi_0*np.divide(np.power(ratio, -d1), np.power(1.0+np.power(ratio, n*(d2-d1)), 1.0/n))"
   ]
  },
  {
   "cell_type": "code",
   "execution_count": 51,
   "metadata": {},
   "outputs": [],
   "source": [
    "def func_sigma(Z, d1, d2, Z_c, n):\n",
    "    ratio = np.divide(Z, Z_c)\n",
    "    return np.divide(np.power(Z, d1), np.power(1.0 + np.power(ratio, n*(d1-d2)), 1.0/n))"
   ]
  },
  {
   "cell_type": "code",
   "execution_count": 52,
   "metadata": {},
   "outputs": [],
   "source": [
    "def logsigma(logZ, d1, d2, Z_c, n):\n",
    "    return np.log10(func_sigma(np.power(10.0, logZ), d1, d2, Z_c, n))\n",
    "\n",
    "def logphi(logL, logP, logL0, d1, d2, n):\n",
    "    #original: logP - d1*(logL-logP) - (1/n)*np.log10(1 + np.power(np.power(10, logL-logL0), n*(d2-d1)))\n",
    "    return logP - d1*(logL-logL0) - (1/n)*np.log10(1 + np.power(np.power(10, logL-logL0), n*(d2-d1)))"
   ]
  },
  {
   "cell_type": "code",
   "execution_count": 53,
   "metadata": {},
   "outputs": [],
   "source": [
    "import scipy.optimize as opt\n",
    "\n",
    "xdata = 1+np.array(z_)\n",
    "ydata = np.array(N)"
   ]
  },
  {
   "cell_type": "code",
   "execution_count": 54,
   "metadata": {},
   "outputs": [
    {
     "name": "stdout",
     "output_type": "stream",
     "text": [
      "starting fitting\n",
      "done\n"
     ]
    }
   ],
   "source": [
    "guess = [5.8, 0.45, 1.66, 2.0]\n",
    "guess2 = [6.4, 1.45, 1.58, 1.8]\n",
    "bounds = [[-10, -10, -10, -10], [10, 10, 10, 10]]\n",
    "print('starting fitting')\n",
    "optrawsig, pcov = opt.curve_fit(func_sigma, xdata, ydata+1, guess, bounds=bounds)\n",
    "optsig, pcov_ = opt.curve_fit(func_sigma, 1+np.array(z_0), sigma0, guess2, bounds=bounds)\n",
    "#optsig, pcov_ = opt.curve_fit(logsigma, np.log10(1+np.array(z_0)), np.log10(sigma0), guess2, bounds=bounds)\n",
    "print('done')"
   ]
  },
  {
   "cell_type": "code",
   "execution_count": 55,
   "metadata": {},
   "outputs": [
    {
     "data": {
      "image/png": "[encoded data removed]",
      "text/plain": [
       "<Figure size 432x288 with 1 Axes>"
      ]
     },
     "metadata": {
      "needs_background": "light"
     },
     "output_type": "display_data"
    }
   ],
   "source": [
    "fig, ax = plt.subplots()\n",
    "\n",
    "ax.scatter(np.log10(1+np.array(z_0)), np.log10(sigma0), label='dot σ(z) k=0')\n",
    "ax.scatter(np.log10(xdata), np.log10(ydata+1), label='raw N(<z)', color='black', marker='.')\n",
    "\n",
    "modelzs = np.linspace(0.01, 2.1, 2000)\n",
    "ax.plot(np.log10(1+modelzs), np.log10(func_sigma(1+modelzs, *optrawsig)), color='black')\n",
    "ax.plot(np.log10(1+modelzs), np.log10(func_sigma(1+modelzs, *optsig)))\n",
    "#plt.ylim([0, 2.5])\n",
    "#plt.xlim([0, 0.5])\n",
    "plt.xlabel('log(1+z)')\n",
    "plt.ylabel('log[dot σ(z)]')\n",
    "plt.title('log[dot σ(z)] vs. log(1+z)')\n",
    "plt.legend()\n",
    "#plt.savefig('dotsigmaNEW.png', dpi=300)\n",
    "plt.show()"
   ]
  },
  {
   "cell_type": "code",
   "execution_count": 56,
   "metadata": {
    "scrolled": true
   },
   "outputs": [
    {
     "name": "stdout",
     "output_type": "stream",
     "text": [
      "[6.82542166 0.48318274 1.52510106 1.52726366]\n",
      "[6.6285091  3.16257977 1.48412362 7.85367479]\n"
     ]
    }
   ],
   "source": [
    "print(optrawsig)\n",
    "print(optsig)\n",
    "\n",
    "#regular: [7.34989559 4.07433753 1.27965648 9.99999994]\n",
    "#log: [6.92286354 3.76819259 1.3917929  8.22661275]\n",
    "# [5.744095   0.58936131 1.63170925 2.81907488]\n",
    "# [6.92286354 3.76819259 1.3917929  8.22661275]"
   ]
  },
  {
   "cell_type": "code",
   "execution_count": 46,
   "metadata": {},
   "outputs": [
    {
     "name": "stdout",
     "output_type": "stream",
     "text": [
      "starting fitting\n",
      "done\n"
     ]
    }
   ],
   "source": [
    "guess = [2.7, 34.0, 0.04, 1.15, 1.0]\n",
    "guess2 = [2.0, 34.0, 1.0, 1.5, 2.0]\n",
    "guess3 = [1.6, 34.0, 0.16, 1.35, 1.0]\n",
    "bounds = [[0.0, 30.0, 0.0, 0.0, 0.0], [10.0, 40.0, 10.0, 10.0, 10.0]]\n",
    "print('starting fitting')\n",
    "optrawphi, pcov = opt.curve_fit(logphi, np.log10(L_p_), np.log10(NPhi), guess, bounds=bounds)\n",
    "optphi, pcov_ = opt.curve_fit(logphi, np.log10(Lprime2), np.log10(phi2), guess3, bounds=bounds)\n",
    "print('done')"
   ]
  },
  {
   "cell_type": "code",
   "execution_count": 47,
   "metadata": {},
   "outputs": [
    {
     "data": {
      "image/png": "[encoded data removed]",
      "text/plain": [
       "<Figure size 432x288 with 1 Axes>"
      ]
     },
     "metadata": {
      "needs_background": "light"
     },
     "output_type": "display_data"
    }
   ],
   "source": [
    "fig, ax = plt.subplots()\n",
    "ax.scatter(np.log10(L_p_), np.log10(NPhi), label='raw N(>L)', color='black')\n",
    "ax.scatter(np.log10(Lprime2), np.log10(phi2), label='Phi(L\\') (k=2)')\n",
    "\n",
    "modelLs = np.linspace(32.5, 35.5, 2000)\n",
    "ax.plot(modelLs, logphi(modelLs, *optrawphi), color='black')\n",
    "ax.plot(modelLs, logphi(modelLs, *optphi))\n",
    "plt.legend()\n",
    "plt.xlabel('log (L\\') (erg/s/Hz)')\n",
    "plt.ylabel('log[Φ(L\\')]')\n",
    "plt.title('log[Φ(L\\')] vs. log(L\\')')\n",
    "#plt.savefig('cumulativeLFfit.png', dpi=300)\n",
    "plt.show()"
   ]
  },
  {
   "cell_type": "code",
   "execution_count": 48,
   "metadata": {},
   "outputs": [
    {
     "name": "stdout",
     "output_type": "stream",
     "text": [
      "[ 1.56219096 33.95387754  0.26498847  1.17780921  7.29468816]\n",
      "[1.38440006e+00 3.42091974e+01 5.43911577e-13 1.12020649e+00\n",
      " 1.23944549e+00]\n"
     ]
    }
   ],
   "source": [
    "print(optphi)\n",
    "print(optrawphi)"
   ]
  },
  {
   "cell_type": "code",
   "execution_count": 49,
   "metadata": {},
   "outputs": [],
   "source": [
    "# array([1.38439906e+00, 3.42091925e+01, 1.05472389e-15, 1.12020073e+00,\n",
    "#        1.23946603e+00])\n",
    "#array([1.38439892e+00, 3.42091918e+01, 1.44582557e-14, 1.12019994e+00,\n",
    "#       1.23946888e+00])"
   ]
  },
  {
   "cell_type": "code",
   "execution_count": 50,
   "metadata": {},
   "outputs": [
    {
     "data": {
      "text/plain": [
       "array([1.38440006e+00, 3.42091974e+01, 5.43911577e-13, 1.12020649e+00,\n",
       "       1.23944549e+00])"
      ]
     },
     "execution_count": 50,
     "metadata": {},
     "output_type": "execute_result"
    }
   ],
   "source": [
    "optrawphi"
   ]
  },
  {
   "cell_type": "code",
   "execution_count": 51,
   "metadata": {},
   "outputs": [],
   "source": [
    "def convert(arr):\n",
    "    newarr = np.power(arr, 1)\n",
    "    newarr[0:2] = np.power(10.0, arr[0:2])\n",
    "    return newarr"
   ]
  },
  {
   "cell_type": "code",
   "execution_count": 52,
   "metadata": {},
   "outputs": [
    {
     "data": {
      "text/plain": [
       "array([ 1.56219096, 33.95387754,  0.26498847,  1.17780921,  7.29468816])"
      ]
     },
     "execution_count": 52,
     "metadata": {},
     "output_type": "execute_result"
    }
   ],
   "source": [
    "optphi"
   ]
  },
  {
   "cell_type": "code",
   "execution_count": null,
   "metadata": {},
   "outputs": [],
   "source": []
  },
  {
   "cell_type": "code",
   "execution_count": 53,
   "metadata": {},
   "outputs": [
    {
     "name": "stdout",
     "output_type": "stream",
     "text": [
      "250.59361681363623\n"
     ]
    }
   ],
   "source": [
    "L= 10**34\n",
    "logP0, logL0, d1, d2, n = guess\n",
    "\n",
    "ratio = np.divide(L, np.power(10.0, logL0))\n",
    "a = np.power(10.0, logP0)*np.divide(np.power(ratio, -d1), np.power(1.0+np.power(ratio, n*(d2-d1)), 1.0/n))\n",
    "print(a)"
   ]
  },
  {
   "cell_type": "code",
   "execution_count": 54,
   "metadata": {},
   "outputs": [
    {
     "data": {
      "text/plain": [
       "1e+34"
      ]
     },
     "execution_count": 54,
     "metadata": {},
     "output_type": "execute_result"
    }
   ],
   "source": [
    "np.power(10.0, logL0)"
   ]
  },
  {
   "cell_type": "code",
   "execution_count": 55,
   "metadata": {},
   "outputs": [
    {
     "ename": "NameError",
     "evalue": "name 'betterphi' is not defined",
     "output_type": "error",
     "traceback": [
      "\u001b[0;31m---------------------------------------------------------------------------\u001b[0m",
      "\u001b[0;31mNameError\u001b[0m                                 Traceback (most recent call last)",
      "\u001b[0;32m<ipython-input-55-333aea8d42cd>\u001b[0m in \u001b[0;36m<module>\u001b[0;34m\u001b[0m\n\u001b[0;32m----> 1\u001b[0;31m \u001b[0mbetterphi\u001b[0m\u001b[0;34m(\u001b[0m\u001b[0;36m10\u001b[0m\u001b[0;34m**\u001b[0m\u001b[0;36m34\u001b[0m\u001b[0;34m,\u001b[0m \u001b[0;34m*\u001b[0m\u001b[0mguess\u001b[0m\u001b[0;34m)\u001b[0m\u001b[0;34m\u001b[0m\u001b[0;34m\u001b[0m\u001b[0m\n\u001b[0m",
      "\u001b[0;31mNameError\u001b[0m: name 'betterphi' is not defined"
     ]
    }
   ],
   "source": [
    "betterphi(10**34, *guess)"
   ]
  },
  {
   "cell_type": "code",
   "execution_count": null,
   "metadata": {},
   "outputs": [],
   "source": []
  }
 ],
 "metadata": {
  "kernelspec": {
   "display_name": "Python 3",
   "language": "python",
   "name": "python3"
  },
  "language_info": {
   "codemirror_mode": {
    "name": "ipython",
    "version": 3
   },
   "file_extension": ".py",
   "mimetype": "text/x-python",
   "name": "python",
   "nbconvert_exporter": "python",
   "pygments_lexer": "ipython3",
   "version": "3.8.8"
  }
 },
 "nbformat": 4,
 "nbformat_minor": 2
}
