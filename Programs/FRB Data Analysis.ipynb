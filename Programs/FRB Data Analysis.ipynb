{
 "cells": [
  {
   "cell_type": "markdown",
   "metadata": {},
   "source": [
    "Remember to download (one-time only) the CHIME package, https://github.com/chime-frb-open-data/chime-frb-open-data"
   ]
  },
  {
   "cell_type": "code",
   "execution_count": 1,
   "metadata": {},
   "outputs": [],
   "source": [
    "import matplotlib.pyplot as plt\n",
    "import numpy as np\n",
    "import math\n",
    "import pandas as pd\n",
    "\n",
    "#for most recent data:\n",
    "# import cfod\n",
    "# from cfod import catalog\n",
    "# data = catalog.as_dataframe()"
   ]
  },
  {
   "cell_type": "markdown",
   "metadata": {},
   "source": [
    "## import data"
   ]
  },
  {
   "cell_type": "code",
   "execution_count": 2,
   "metadata": {},
   "outputs": [
    {
     "data": {
      "text/html": [
       "<div>\n",
       "<style scoped>\n",
       "    .dataframe tbody tr th:only-of-type {\n",
       "        vertical-align: middle;\n",
       "    }\n",
       "\n",
       "    .dataframe tbody tr th {\n",
       "        vertical-align: top;\n",
       "    }\n",
       "\n",
       "    .dataframe thead th {\n",
       "        text-align: right;\n",
       "    }\n",
       "</style>\n",
       "<table border=\"1\" class=\"dataframe\">\n",
       "  <thead>\n",
       "    <tr style=\"text-align: right;\">\n",
       "      <th></th>\n",
       "      <th>tns_name</th>\n",
       "      <th>previous_name</th>\n",
       "      <th>repeater_name</th>\n",
       "      <th>snr_fitb</th>\n",
       "      <th>dm_fitb</th>\n",
       "      <th>dm_fitb_err</th>\n",
       "      <th>flux</th>\n",
       "      <th>flux_err</th>\n",
       "      <th>flux_notes</th>\n",
       "      <th>fluence</th>\n",
       "      <th>fluence_err</th>\n",
       "      <th>fluence_notes</th>\n",
       "    </tr>\n",
       "  </thead>\n",
       "  <tbody>\n",
       "    <tr>\n",
       "      <th>0</th>\n",
       "      <td>FRB20180725A</td>\n",
       "      <td>180725.J0613+67</td>\n",
       "      <td>-9999</td>\n",
       "      <td>33.2</td>\n",
       "      <td>715.8090</td>\n",
       "      <td>0.0040</td>\n",
       "      <td>2.0</td>\n",
       "      <td>1.0</td>\n",
       "      <td>-9999</td>\n",
       "      <td>4.0</td>\n",
       "      <td>2.0</td>\n",
       "      <td>-9999</td>\n",
       "    </tr>\n",
       "    <tr>\n",
       "      <th>1</th>\n",
       "      <td>FRB20180727A</td>\n",
       "      <td>180727.J1311+26</td>\n",
       "      <td>-9999</td>\n",
       "      <td>12.2</td>\n",
       "      <td>642.1300</td>\n",
       "      <td>0.0200</td>\n",
       "      <td>0.6</td>\n",
       "      <td>0.3</td>\n",
       "      <td>-9999</td>\n",
       "      <td>2.3</td>\n",
       "      <td>0.8</td>\n",
       "      <td>-9999</td>\n",
       "    </tr>\n",
       "    <tr>\n",
       "      <th>2</th>\n",
       "      <td>FRB20180729A</td>\n",
       "      <td>180729.J1316+55</td>\n",
       "      <td>-9999</td>\n",
       "      <td>206.6</td>\n",
       "      <td>109.5942</td>\n",
       "      <td>0.0003</td>\n",
       "      <td>12.0</td>\n",
       "      <td>7.0</td>\n",
       "      <td>-9999</td>\n",
       "      <td>20.0</td>\n",
       "      <td>10.0</td>\n",
       "      <td>-9999</td>\n",
       "    </tr>\n",
       "    <tr>\n",
       "      <th>3</th>\n",
       "      <td>FRB20180729B</td>\n",
       "      <td>180729.J0558+56</td>\n",
       "      <td>-9999</td>\n",
       "      <td>22.0</td>\n",
       "      <td>317.2240</td>\n",
       "      <td>0.0040</td>\n",
       "      <td>0.9</td>\n",
       "      <td>0.6</td>\n",
       "      <td>-9999</td>\n",
       "      <td>1.2</td>\n",
       "      <td>0.7</td>\n",
       "      <td>-9999</td>\n",
       "    </tr>\n",
       "    <tr>\n",
       "      <th>4</th>\n",
       "      <td>FRB20180730A</td>\n",
       "      <td>180730.J0353+87</td>\n",
       "      <td>-9999</td>\n",
       "      <td>89.8</td>\n",
       "      <td>848.9040</td>\n",
       "      <td>0.0020</td>\n",
       "      <td>5.0</td>\n",
       "      <td>3.0</td>\n",
       "      <td>-9999</td>\n",
       "      <td>30.0</td>\n",
       "      <td>10.0</td>\n",
       "      <td>-9999</td>\n",
       "    </tr>\n",
       "    <tr>\n",
       "      <th>...</th>\n",
       "      <td>...</td>\n",
       "      <td>...</td>\n",
       "      <td>...</td>\n",
       "      <td>...</td>\n",
       "      <td>...</td>\n",
       "      <td>...</td>\n",
       "      <td>...</td>\n",
       "      <td>...</td>\n",
       "      <td>...</td>\n",
       "      <td>...</td>\n",
       "      <td>...</td>\n",
       "      <td>...</td>\n",
       "    </tr>\n",
       "    <tr>\n",
       "      <th>594</th>\n",
       "      <td>FRB20190701A</td>\n",
       "      <td>-9999</td>\n",
       "      <td>-9999</td>\n",
       "      <td>14.6</td>\n",
       "      <td>637.0930</td>\n",
       "      <td>0.0040</td>\n",
       "      <td>1.3</td>\n",
       "      <td>0.2</td>\n",
       "      <td>-9999</td>\n",
       "      <td>1.7</td>\n",
       "      <td>0.3</td>\n",
       "      <td>-9999</td>\n",
       "    </tr>\n",
       "    <tr>\n",
       "      <th>595</th>\n",
       "      <td>FRB20190701B</td>\n",
       "      <td>-9999</td>\n",
       "      <td>-9999</td>\n",
       "      <td>17.5</td>\n",
       "      <td>749.1100</td>\n",
       "      <td>0.0100</td>\n",
       "      <td>1.1</td>\n",
       "      <td>0.5</td>\n",
       "      <td>-9999</td>\n",
       "      <td>1.9</td>\n",
       "      <td>0.7</td>\n",
       "      <td>-9999</td>\n",
       "    </tr>\n",
       "    <tr>\n",
       "      <th>596</th>\n",
       "      <td>FRB20190701C</td>\n",
       "      <td>-9999</td>\n",
       "      <td>-9999</td>\n",
       "      <td>16.8</td>\n",
       "      <td>974.1900</td>\n",
       "      <td>0.0300</td>\n",
       "      <td>0.9</td>\n",
       "      <td>0.5</td>\n",
       "      <td>-9999</td>\n",
       "      <td>2.0</td>\n",
       "      <td>2.0</td>\n",
       "      <td>-9999</td>\n",
       "    </tr>\n",
       "    <tr>\n",
       "      <th>597</th>\n",
       "      <td>FRB20190701D</td>\n",
       "      <td>-9999</td>\n",
       "      <td>-9999</td>\n",
       "      <td>44.8</td>\n",
       "      <td>933.3600</td>\n",
       "      <td>0.0100</td>\n",
       "      <td>1.3</td>\n",
       "      <td>0.7</td>\n",
       "      <td>-9999</td>\n",
       "      <td>9.0</td>\n",
       "      <td>4.0</td>\n",
       "      <td>-9999</td>\n",
       "    </tr>\n",
       "    <tr>\n",
       "      <th>598</th>\n",
       "      <td>FRB20190701E</td>\n",
       "      <td>-9999</td>\n",
       "      <td>-9999</td>\n",
       "      <td>16.7</td>\n",
       "      <td>890.4770</td>\n",
       "      <td>0.0080</td>\n",
       "      <td>0.7</td>\n",
       "      <td>0.3</td>\n",
       "      <td>-9999</td>\n",
       "      <td>2.0</td>\n",
       "      <td>0.5</td>\n",
       "      <td>-9999</td>\n",
       "    </tr>\n",
       "  </tbody>\n",
       "</table>\n",
       "<p>599 rows × 12 columns</p>\n",
       "</div>"
      ],
      "text/plain": [
       "         tns_name    previous_name repeater_name  snr_fitb   dm_fitb  \\\n",
       "0    FRB20180725A  180725.J0613+67         -9999      33.2  715.8090   \n",
       "1    FRB20180727A  180727.J1311+26         -9999      12.2  642.1300   \n",
       "2    FRB20180729A  180729.J1316+55         -9999     206.6  109.5942   \n",
       "3    FRB20180729B  180729.J0558+56         -9999      22.0  317.2240   \n",
       "4    FRB20180730A  180730.J0353+87         -9999      89.8  848.9040   \n",
       "..            ...              ...           ...       ...       ...   \n",
       "594  FRB20190701A            -9999         -9999      14.6  637.0930   \n",
       "595  FRB20190701B            -9999         -9999      17.5  749.1100   \n",
       "596  FRB20190701C            -9999         -9999      16.8  974.1900   \n",
       "597  FRB20190701D            -9999         -9999      44.8  933.3600   \n",
       "598  FRB20190701E            -9999         -9999      16.7  890.4770   \n",
       "\n",
       "     dm_fitb_err  flux  flux_err flux_notes  fluence  fluence_err  \\\n",
       "0         0.0040   2.0       1.0      -9999      4.0          2.0   \n",
       "1         0.0200   0.6       0.3      -9999      2.3          0.8   \n",
       "2         0.0003  12.0       7.0      -9999     20.0         10.0   \n",
       "3         0.0040   0.9       0.6      -9999      1.2          0.7   \n",
       "4         0.0020   5.0       3.0      -9999     30.0         10.0   \n",
       "..           ...   ...       ...        ...      ...          ...   \n",
       "594       0.0040   1.3       0.2      -9999      1.7          0.3   \n",
       "595       0.0100   1.1       0.5      -9999      1.9          0.7   \n",
       "596       0.0300   0.9       0.5      -9999      2.0          2.0   \n",
       "597       0.0100   1.3       0.7      -9999      9.0          4.0   \n",
       "598       0.0080   0.7       0.3      -9999      2.0          0.5   \n",
       "\n",
       "    fluence_notes  \n",
       "0           -9999  \n",
       "1           -9999  \n",
       "2           -9999  \n",
       "3           -9999  \n",
       "4           -9999  \n",
       "..            ...  \n",
       "594         -9999  \n",
       "595         -9999  \n",
       "596         -9999  \n",
       "597         -9999  \n",
       "598         -9999  \n",
       "\n",
       "[599 rows x 12 columns]"
      ]
     },
     "execution_count": 2,
     "metadata": {},
     "output_type": "execute_result"
    }
   ],
   "source": [
    "CHIME = pd.read_csv(\"./data/chimefrb.csv\") #catalog from 07/14\n",
    "CHIME"
   ]
  },
  {
   "cell_type": "code",
   "execution_count": 3,
   "metadata": {},
   "outputs": [
    {
     "data": {
      "image/png": "[encoded data removed]",
      "text/plain": [
       "<Figure size 432x288 with 1 Axes>"
      ]
     },
     "metadata": {
      "needs_background": "light"
     },
     "output_type": "display_data"
    }
   ],
   "source": [
    "plt.scatter(CHIME['dm_fitb'], CHIME['fluence'], marker='.')\n",
    "plt.xlabel('DM (pc cm$^{-3}$)')\n",
    "plt.ylabel('Fluence (Jy ms)')\n",
    "plt.title('CHIME FRBs Fluence vs. DM')\n",
    "#plt.savefig('chimeFvDM.png', dpi=600)\n",
    "plt.show()"
   ]
  },
  {
   "cell_type": "code",
   "execution_count": 4,
   "metadata": {},
   "outputs": [
    {
     "data": {
      "image/png": "[encoded data removed]",
      "text/plain": [
       "<Figure size 432x288 with 1 Axes>"
      ]
     },
     "metadata": {
      "needs_background": "light"
     },
     "output_type": "display_data"
    }
   ],
   "source": [
    "plt.hist(CHIME['fluence'], 1000)\n",
    "plt.show()"
   ]
  },
  {
   "cell_type": "markdown",
   "metadata": {},
   "source": [
    "## Cosmological Model Stuff"
   ]
  },
  {
   "cell_type": "code",
   "execution_count": 5,
   "metadata": {},
   "outputs": [],
   "source": [
    "import sys\n",
    "import os\n",
    "sys.path.append(os.path.abspath(\"../petrosianfuncs\"))\n",
    "import cosmology as c"
   ]
  },
  {
   "cell_type": "code",
   "execution_count": 6,
   "metadata": {},
   "outputs": [],
   "source": [
    "#generate data values: might take a while\n",
    "\n",
    "zs_model = np.linspace(0,10,2000)\n",
    "DM_Arcus = c.DM(zs_model, dDMdz=c.dDMdz_Arcus)\n",
    "DM_Zhang = c.DM(zs_model, dDMdz=c.dDMdz_Zhang)"
   ]
  },
  {
   "cell_type": "code",
   "execution_count": 7,
   "metadata": {},
   "outputs": [
    {
     "data": {
      "text/plain": [
       "[<matplotlib.lines.Line2D at 0x7fbac928a9a0>]"
      ]
     },
     "execution_count": 7,
     "metadata": {},
     "output_type": "execute_result"
    },
    {
     "data": {
      "image/png": "[encoded data removed]",
      "text/plain": [
       "<Figure size 432x288 with 1 Axes>"
      ]
     },
     "metadata": {
      "needs_background": "light"
     },
     "output_type": "display_data"
    }
   ],
   "source": [
    "plt.plot(zs_model, DM_Arcus)\n",
    "plt.plot(zs_model, DM_Zhang)"
   ]
  },
  {
   "cell_type": "markdown",
   "metadata": {},
   "source": [
    "# Begin Analysis"
   ]
  },
  {
   "cell_type": "code",
   "execution_count": 8,
   "metadata": {},
   "outputs": [],
   "source": [
    "#use those without fluence errors\n",
    "#disregard fact that some are repeaters, for now.\n",
    "Fs = np.array(CHIME[CHIME['fluence_notes'] == '-9999']['fluence'])\n",
    "DMs = np.array(CHIME[CHIME['fluence_notes'] == '-9999']['dm_fitb'])\n",
    "\n",
    "DMs, Fs = c.sort_by_first(DMs, Fs)\n",
    "DMs, Fs = np.array(DMs), np.array(Fs)"
   ]
  },
  {
   "cell_type": "code",
   "execution_count": 9,
   "metadata": {},
   "outputs": [],
   "source": [
    "import deprecated_cosmology as d\n",
    "\n",
    "zs = d.z_DM_V1(DMs, DM_Arcus, zs_model)\n",
    "Es = c.E_v(Fs, zs, alpha=1.5)\n",
    "zcuts, Flim, alpha = np.linspace(0.1, 3, 200), 2.0, 1.5\n",
    "Ecuts = c.E_v(np.full(len(zcuts), Flim), zcuts, alpha)"
   ]
  },
  {
   "cell_type": "code",
   "execution_count": 10,
   "metadata": {},
   "outputs": [
    {
     "data": {
      "image/png": "[encoded data removed]",
      "text/plain": [
       "<Figure size 432x288 with 1 Axes>"
      ]
     },
     "metadata": {
      "needs_background": "light"
     },
     "output_type": "display_data"
    }
   ],
   "source": [
    "wfluence = CHIME[(CHIME['fluence_notes'] == '-9999')].reset_index()\n",
    "\n",
    "plt.scatter(zs, Es, marker='.', label='All')\n",
    "plt.plot(zcuts, Ecuts, color='orange')\n",
    "plt.scatter(zs[wfluence['repeater_name'] != '-9999'], Es[wfluence['repeater_name'] != '-9999'], marker='.', label='repeaters')\n",
    "plt.yscale('log')\n",
    "plt.legend()\n",
    "plt.show()"
   ]
  },
  {
   "cell_type": "code",
   "execution_count": 11,
   "metadata": {},
   "outputs": [
    {
     "data": {
      "image/png": "[encoded data removed]",
      "text/plain": [
       "<Figure size 432x288 with 1 Axes>"
      ]
     },
     "metadata": {
      "needs_background": "light"
     },
     "output_type": "display_data"
    }
   ],
   "source": [
    "zcuts, Flim, alpha = np.linspace(0.1, 3, 200), 2.0, 1.5\n",
    "Ecuts = c.E_v(np.full(len(zcuts), Flim), zcuts, alpha)\n",
    "plt.scatter(zs, Es, marker='.', label='All')\n",
    "plt.plot(zcuts, Ecuts, color='orange')\n",
    "plt.yscale('log')"
   ]
  },
  {
   "cell_type": "markdown",
   "metadata": {},
   "source": [
    "## kendall tau\n",
    "- ADJUST PARAMETERS HERE! Flim, alpha"
   ]
  },
  {
   "cell_type": "code",
   "execution_count": 12,
   "metadata": {},
   "outputs": [],
   "source": [
    "Flim = 2.0  #original 2.0\n",
    "alpha = 1.5 #original 1.5\n",
    "\n",
    "params = [alpha]"
   ]
  },
  {
   "cell_type": "code",
   "execution_count": 13,
   "metadata": {},
   "outputs": [],
   "source": [
    "#clean up ones that are below the cutoff\n",
    "#also exclude repeaters, for now\n",
    "Elims = c.E_v(Flim, zs, *params)\n",
    "Es_clean = Es[(Es > Elims) & (wfluence['repeater_name'] == '-9999')]\n",
    "zs_clean = zs[(Es > Elims) & (wfluence['repeater_name'] == '-9999')]\n",
    "\n",
    "#CLEAN DATA VARIABLES:\n",
    "#Es_clean (energies)\n",
    "#zs_clean (redshifts)"
   ]
  },
  {
   "cell_type": "code",
   "execution_count": 14,
   "metadata": {},
   "outputs": [
    {
     "data": {
      "text/plain": [
       "0.6186440677966102"
      ]
     },
     "execution_count": 14,
     "metadata": {},
     "output_type": "execute_result"
    }
   ],
   "source": [
    "len(zs_clean)/len(zs)"
   ]
  },
  {
   "cell_type": "code",
   "execution_count": 15,
   "metadata": {},
   "outputs": [
    {
     "data": {
      "image/png": "[encoded data removed]",
      "text/plain": [
       "<Figure size 432x288 with 1 Axes>"
      ]
     },
     "metadata": {
      "needs_background": "light"
     },
     "output_type": "display_data"
    }
   ],
   "source": [
    "plt.scatter(zs_clean, Es_clean, marker='.', label='CHIME FRBs')\n",
    "plt.plot(zcuts, Ecuts, color='orange', label='2 Jy ms')\n",
    "plt.yscale('log')\n",
    "plt.xlabel('z')\n",
    "plt.ylabel('E (J/Hz)')\n",
    "plt.title(f'FRBs above 2 Jy ms, $\\\\alpha$ = {alpha}, k = 0')\n",
    "plt.legend()\n",
    "#plt.savefig(f'../../FRBk={k_test}.png', dpi=600)\n",
    "plt.show()"
   ]
  },
  {
   "cell_type": "code",
   "execution_count": 16,
   "metadata": {},
   "outputs": [],
   "source": [
    "def g(z, k):\n",
    "    return (1+z)**k\n",
    "\n",
    "def g_new(z, k): #The improved g-function, which transforms luminosities\n",
    "    Z = z+1\n",
    "    Z_c = 3.5\n",
    "    n = 3\n",
    "    return Z**k/(1+(Z/Z_c)**n)**(k/n)"
   ]
  },
  {
   "cell_type": "code",
   "execution_count": 17,
   "metadata": {
    "scrolled": true
   },
   "outputs": [
    {
     "data": {
      "text/plain": [
       "Text(0.5, 1.0, 'Best fit line when k=2: m=3.99')"
      ]
     },
     "execution_count": 17,
     "metadata": {},
     "output_type": "execute_result"
    },
    {
     "data": {
      "image/png": "[encoded data removed]",
      "text/plain": [
       "<Figure size 432x288 with 1 Axes>"
      ]
     },
     "metadata": {
      "needs_background": "light"
     },
     "output_type": "display_data"
    }
   ],
   "source": [
    "k_test = 2\n",
    "Eprimes = Es_clean/g_new(zs_clean, k_test)\n",
    "Ecutsprimes = Ecuts/g_new(zcuts, k_test)\n",
    "\n",
    "plt.scatter(np.log10(zs_clean+1), np.log10(Eprimes), marker='.')\n",
    "m, b = np.polyfit(np.log10(zs_clean+1), np.log10(Eprimes), 1)\n",
    "plt.plot(np.log10(zs_clean+1), m*np.log10(zs_clean+1) + b, color='red')\n",
    "plt.plot(np.log10(zcuts+1), np.log10(Ecutsprimes), color='orange')\n",
    "plt.ylabel('log E\\'')\n",
    "plt.xlabel('log (1+z)')\n",
    "plt.title(f'Best fit line when k={k_test}: m={round(m,2)}')\n",
    "#plt.savefig('../../logE\\'logz.png',dpi=600)"
   ]
  },
  {
   "cell_type": "code",
   "execution_count": 18,
   "metadata": {},
   "outputs": [],
   "source": [
    "#df = ktau(Es_clean, zs_clean, 0, k=4, diag=True)\n",
    "#df.to_csv('../../data_naive_k=4.csv')"
   ]
  },
  {
   "cell_type": "code",
   "execution_count": 19,
   "metadata": {
    "scrolled": true
   },
   "outputs": [
    {
     "data": {
      "text/plain": [
       "3.991047358779274"
      ]
     },
     "execution_count": 19,
     "metadata": {},
     "output_type": "execute_result"
    }
   ],
   "source": [
    "m"
   ]
  },
  {
   "cell_type": "code",
   "execution_count": 20,
   "metadata": {},
   "outputs": [],
   "source": [
    "Elim_clean = c.E_v(Flim, zs_clean, *params)"
   ]
  },
  {
   "cell_type": "code",
   "execution_count": 21,
   "metadata": {},
   "outputs": [
    {
     "data": {
      "image/png": "[encoded data removed]",
      "text/plain": [
       "<Figure size 432x288 with 1 Axes>"
      ]
     },
     "metadata": {
      "needs_background": "light"
     },
     "output_type": "display_data"
    }
   ],
   "source": [
    "plt.scatter(Elim_clean, Es_clean, marker='.')\n",
    "plt.plot([min(Elim_clean), max(Elim_clean)], [min(Elim_clean), max(Elim_clean)], color='orange')\n",
    "plt.yscale('log')\n",
    "plt.xscale('log')\n",
    "plt.ylabel('E (J/Hz)')\n",
    "plt.xlabel('E$_{\\\\mathrm{lim}}$ (J/Hz)')\n",
    "plt.title('E vs. E$_{\\\\mathrm{lim}}$, $\\\\alpha$ = 1.5')\n",
    "#plt.savefig('EvElim_alph_1.5.png',dpi=600)\n",
    "plt.show()"
   ]
  },
  {
   "cell_type": "markdown",
   "metadata": {},
   "source": [
    "\n",
    "- should be fixed: ~note that the associated set requirement currently allows points under the cutoff to come in (as the jth point), even if points under the cutoff are not considered as the ith point~"
   ]
  },
  {
   "cell_type": "code",
   "execution_count": 22,
   "metadata": {},
   "outputs": [],
   "source": [
    "def ktau(Es, z, Flim, func=c.E_v, g=g, k=0, params=[1.5], diag=False):\n",
    "    \n",
    "    R = []\n",
    "    E = []\n",
    "    V = []\n",
    "    T = []\n",
    "    \n",
    "    gs = g(z,k)\n",
    "    Elims_ = func(Flim, z, *params)\n",
    "    \n",
    "    for i in range(len(Es)):\n",
    "        higher = 0\n",
    "        lower = 0\n",
    "        \n",
    "        if Es[i] <= Elims_[i]: #skip points under cutoff\n",
    "            continue\n",
    "        \n",
    "        for j in range(len(Es)): \n",
    "            \n",
    "            if j == i or Es[j] <= Elims_[j]: #skip over itself or points under cutoff\n",
    "                continue\n",
    "                \n",
    "            if(Es[j]/gs[j] >= Elims_[i]/gs[i] and z[j] <= z[i]): #associated set requirements\n",
    "                \n",
    "                if(Es[j]/gs[j] > Es[i]/gs[i]):\n",
    "                    higher += 1\n",
    "                else:\n",
    "                    lower += 1\n",
    "        \n",
    "        N_i = higher+lower+1.\n",
    "        R_i = (lower+1.)/N_i\n",
    "        E_i = (1.+1./N_i)/2.\n",
    "        V_i = (1.-1./N_i**2.)/12.\n",
    "        \n",
    "        if V_i == 0: #essentially, ignore points with only themselves in the associated set\n",
    "            V_i += 1\n",
    "        \n",
    "        R.append(R_i) #diagnostic prints: print(f'loc: ({Es[i], z[i]}), high/low: {higher, lower}, rank: {R[len(R)-1]}'), print(f'loc: ({Es[i], z[i]}), {R_i}, {E_i}, {V_i}')\n",
    "        E.append(E_i) #0.5\n",
    "        V.append(V_i) #1/12\n",
    "        T.append((R_i-E_i)/(V_i)**0.5)\n",
    "    \n",
    "    #numer = sum(R) - sum(E)\n",
    "    #denom = (sum(V))**0.5\n",
    "    if diag:\n",
    "        df = pd.DataFrame()\n",
    "        df['R'] = R\n",
    "        df['E'] = E\n",
    "        df['V'] = V\n",
    "        return df\n",
    "    return sum(T)/(len(T))**0.5"
   ]
  },
  {
   "cell_type": "code",
   "execution_count": 23,
   "metadata": {},
   "outputs": [],
   "source": [
    "def ktau_E(Es, Elims, z, g=g, k=0):\n",
    "    \n",
    "    R = []\n",
    "    E = []\n",
    "    V = []\n",
    "    T = []\n",
    "    \n",
    "    gs = g(z,k)\n",
    "    \n",
    "    for i in range(len(Es)):\n",
    "        higher = 0\n",
    "        lower = 0\n",
    "        \n",
    "        if Es[i] <= Elims[i]: #not considering data points under the cutoff\n",
    "            continue\n",
    "        \n",
    "        for j in range(len(Es)): \n",
    "            if j == i or Es[j] <= Elims[j]: #skip over itself, data points under cutoff\n",
    "                continue\n",
    "                \n",
    "            if(Es[j]/gs[j] >= Elims[i]/gs[i] and Elims[j] <= Elims[i]): #associated set requirements\n",
    "                \n",
    "                if(Es[j]/gs[j] > Es[i]/gs[i]):\n",
    "                    higher += 1\n",
    "                else:\n",
    "                    lower += 1\n",
    "        \n",
    "        N_i = higher+lower+1.\n",
    "        R_i = (lower+1.)/N_i\n",
    "        E_i = (1.+1./N_i)/2.\n",
    "        V_i = (1.-1./N_i**2)/12.\n",
    "        \n",
    "        if V_i == 0: #essentially, ignore points with only themselves in the associated set\n",
    "            V_i += 1\n",
    "        \n",
    "        R.append(R_i) #diagnostic print: print(f'loc: ({Es[i], z[i]}), high/low: {higher, lower}, rank: {R[len(R)-1]}')\n",
    "        E.append(E_i) #0.5\n",
    "        V.append(V_i) #1/12\n",
    "        T.append((R_i-E_i)/V_i**0.5)\n",
    "    \n",
    "    #numer = sum(R) - sum(E)\n",
    "    #denom = (sum(V))**0.5\n",
    "    return sum(T)/(len(T))**0.5"
   ]
  },
  {
   "cell_type": "markdown",
   "metadata": {},
   "source": [
    "## applying kendall tau"
   ]
  },
  {
   "cell_type": "code",
   "execution_count": 24,
   "metadata": {},
   "outputs": [],
   "source": [
    "ks = np.linspace(5, 15, 51)\n",
    "\n",
    "taus = np.zeros(len(ks))\n",
    "tau_Es = np.zeros(len(ks))\n",
    "\n",
    "for i, k in enumerate(ks):\n",
    "    taus[i] = ktau(Es_clean, zs_clean, Flim, g=g_new, k=k, params=params)\n",
    "    tau_Es[i] = ktau_E(Es_clean, Elim_clean, zs_clean, g=g_new, k=k)"
   ]
  },
  {
   "cell_type": "code",
   "execution_count": 25,
   "metadata": {},
   "outputs": [
    {
     "data": {
      "image/png": "[encoded data removed]",
      "text/plain": [
       "<Figure size 432x288 with 1 Axes>"
      ]
     },
     "metadata": {
      "needs_background": "light"
     },
     "output_type": "display_data"
    }
   ],
   "source": [
    "plt.plot(ks, taus, label='E vs. z $\\\\tau$')\n",
    "plt.plot(ks, tau_Es, label='E vs. E$_{lim}$ $\\\\tau$')\n",
    "\n",
    "plt.hlines([-1, 0, 1], min(ks), max(ks), color='orange', linestyle='--', label='-1 to 1 $\\\\tau$')\n",
    "\n",
    "one = np.argwhere(np.diff(np.sign(taus-1))).flatten()\n",
    "zer = np.argwhere(np.diff(np.sign(taus))).flatten()\n",
    "neg = np.argwhere(np.diff(np.sign(taus+1))).flatten()\n",
    "\n",
    "\n",
    "plt.vlines([ks[one], ks[zer], ks[neg]], min(taus), max(taus), color='black', label=f'range of k: \\n{round(min(ks[one][0], ks[neg][0]), 2)}-{round(max(ks[one][0], ks[neg][0]),2)}', linestyle='--')\n",
    "\n",
    "plt.xlim(min(ks), max(ks))\n",
    "plt.ylim(min(taus), max(taus))\n",
    "\n",
    "plt.xlabel('k')\n",
    "plt.ylabel('kendall tau')\n",
    "plt.title('Kendall Tau vs. k')\n",
    "plt.legend()\n",
    "#plt.savefig('ktau_edited.png', dpi=600)\n",
    "plt.show()"
   ]
  },
  {
   "cell_type": "code",
   "execution_count": null,
   "metadata": {},
   "outputs": [],
   "source": [
    "ks[zer]"
   ]
  },
  {
   "cell_type": "markdown",
   "metadata": {},
   "source": [
    "# Debug"
   ]
  },
  {
   "cell_type": "code",
   "execution_count": null,
   "metadata": {},
   "outputs": [],
   "source": [
    "rng = np.random.default_rng(69)\n",
    "xhist = rng.lognormal(mean=-1.0, sigma=1.0,size=1000000)+0.1"
   ]
  },
  {
   "cell_type": "code",
   "execution_count": null,
   "metadata": {},
   "outputs": [],
   "source": [
    "plt.hist(xhist[xhist<3], bins=1000, histtype='step')\n",
    "plt.title('z distribution: log normal distribution')\n",
    "#plt.savefig('../../lognormal.png', dpi=600)\n",
    "plt.show()"
   ]
  },
  {
   "cell_type": "code",
   "execution_count": null,
   "metadata": {},
   "outputs": [],
   "source": [
    "seed = 69\n",
    "rng = np.random.default_rng(seed)\n",
    "x = rng.lognormal(mean=-1.0, sigma=1.0,size=1000)+0.1\n",
    "y = np.power(10,rng.random(1000)*3+23)*((1+x)/2)**(5)\n",
    "\n",
    "zrand = np.linspace(0,3.0,100)\n",
    "\n",
    "plt.scatter(x,y, marker='.')\n",
    "plt.plot(zrand, E_v(2.0, zrand, alpha=1.5), color='orange')\n",
    "plt.xlim([0,3.0])\n",
    "plt.yscale('log')\n",
    "plt.ylabel('E')\n",
    "plt.xlabel('z')"
   ]
  },
  {
   "cell_type": "code",
   "execution_count": null,
   "metadata": {},
   "outputs": [],
   "source": [
    "Flim = 2.0\n",
    "params = [1.5]\n",
    "func = E_v\n",
    "ylims = func(Flim, x, *params)\n",
    "xcleans = x[np.logical_and(y > ylims, x<2.2)]\n",
    "ycleans = y[np.logical_and(y > ylims, x<2.2)]\n",
    "ylimcleans = ylims[y > ylims]\n",
    "ktau(ycleans, xcleans, Flim, func=func, g=g, k=0, params=params)"
   ]
  },
  {
   "cell_type": "code",
   "execution_count": null,
   "metadata": {},
   "outputs": [],
   "source": [
    "plt.scatter(xcleans, ycleans, marker='.')\n",
    "plt.plot(sorted(x), sorted(ylims), color='orange')\n",
    "plt.xlim([0,3])\n",
    "plt.yscale(\"log\")\n",
    "plt.title('Simulated Data')\n",
    "plt.savefig('../../simdata.png', dpi=600)"
   ]
  },
  {
   "cell_type": "code",
   "execution_count": null,
   "metadata": {},
   "outputs": [],
   "source": [
    "ylims = func(2.0, x, *[1.5])\n",
    "plt.scatter(np.log10(1+xcleans), np.log10(ycleans))\n",
    "plt.plot(sorted(np.log10(1+x)), sorted(np.log10(ylims)))\n",
    "mraw, braw = np.polyfit(np.log10(1+xcleans), np.log10(ycleans), 1)\n",
    "print('raw slope: ' + str(mraw) + ' [naive] (best fit line for data above blue line)')\n",
    "\n",
    "plt.scatter(np.log10(1+x[x<2.2]),np.log10(y[x<2.2]), marker='.')\n",
    "m,b=np.polyfit(np.log10(1+x[x<2.2]), np.log10(y[x<2.2]), 1)\n",
    "print('true slope: ' + str(m) + ' (best fit line for all data)')\n",
    "plt.plot(np.log10(1+x), np.log10(1+x)*m+b, color='purple', label='true fit')"
   ]
  },
  {
   "cell_type": "code",
   "execution_count": null,
   "metadata": {},
   "outputs": [],
   "source": [
    "def g_new(z, k, z_c=2.5, n=2):\n",
    "    Z = 1.+z\n",
    "    return Z**k/(1+(Z/z_c)**n)**(k/n)\n",
    "\n",
    "def ktau_debug_graph(xcleans, ycleans, func):\n",
    "    Flim = 2.0\n",
    "    params = [1.5]\n",
    "    \n",
    "    ks = np.linspace(3,7,51)\n",
    "    taus = np.zeros(len(ks))\n",
    "    tau_ = np.zeros(len(ks))\n",
    "\n",
    "    for i, k in enumerate(ks):\n",
    "        taus[i] = ktau(ycleans, xcleans, Flim, func=func, g=g, k=k, params=params)\n",
    "        tau_[i] = ktau(ycleans, xcleans, 0, func=func, g=g, k=k, params=params)\n",
    "    \n",
    "    plt.plot(ks, taus, label='w/ associated set')\n",
    "    plt.plot(ks, tau_, label='naive')\n",
    "    plt.hlines([-1, 0, 1], 3, 7)\n",
    "    #plt.vlines([-1,0,1], min(taus), max(taus), color='black')\n",
    "    plt.legend()\n",
    "    plt.show()\n",
    "    \n",
    "    zer = np.argwhere(np.diff(np.sign(taus))).flatten()\n",
    "    return ks[zer]"
   ]
  },
  {
   "cell_type": "code",
   "execution_count": null,
   "metadata": {},
   "outputs": [],
   "source": [
    "ktau_debug_graph(xcleans,ycleans, func=func)"
   ]
  },
  {
   "cell_type": "markdown",
   "metadata": {},
   "source": [
    "# next analysis, temporarily using k=3\n",
    "## $\\dot{\\sigma}(z)$"
   ]
  },
  {
   "cell_type": "code",
   "execution_count": null,
   "metadata": {},
   "outputs": [],
   "source": [
    "def sigma_z(Es, z, Flim, func=E_v, g=g, k=0, params=[1.5]): #z0 being the z of interest\n",
    "    \n",
    "    gs = g(z,k)\n",
    "    Elims_ = func(Flim, z, *params)\n",
    "    \n",
    "    zs_actual = []\n",
    "    ms = []\n",
    "    \n",
    "    for i in range(len(Es)):\n",
    "        m_i = 0\n",
    "\n",
    "        if(Es[i] <= Elims_[i]): #not considering data points under the cutoff\n",
    "            continue\n",
    "        \n",
    "        for j in range(len(Es)): \n",
    "            if i == j: #exclude itself\n",
    "                continue\n",
    "            if(Es[j]/gs[j] >= Elims_[i]/gs[i] and z[j] <= z[i]): #associated set requirements\n",
    "                m_i += 1\n",
    "                \n",
    "        zs_actual.append(z[i])\n",
    "        ms.append(m_i)\n",
    "    \n",
    "    #note that in sigma formula, 1+1/m[0] should be replaced with 1\n",
    "    sigmas = [1]\n",
    "    \n",
    "    for i in range(1, len(zs_actual)):\n",
    "        s_i = sigmas[i-1]*(1.+1./ms[i])\n",
    "        sigmas.append(s_i)\n",
    "    \n",
    "    return np.array(sigmas), np.array(zs_actual)\n",
    "\n",
    "def rawN(Es, z):\n",
    "    z, Es = sort_by_first(z, Es)\n",
    "    return np.arange(1, len(Es)+1), z"
   ]
  },
  {
   "cell_type": "code",
   "execution_count": null,
   "metadata": {},
   "outputs": [],
   "source": [
    "kval = 3 #temporary measure\n",
    "\n",
    "sigma_noev, z_noev = sigma_z(Es_clean, zs_clean, 2.0, k=0)\n",
    "sigma, z = sigma_z(Es_clean, zs_clean, 2.0, k=kval)\n",
    "N, z_N = sigma_z(Es_clean, zs_clean, 2.0, func=(lambda a,b,c: np.zeros(len(b))))\n",
    "N_test, z_test = rawN(Es_clean, zs_clean)"
   ]
  },
  {
   "cell_type": "code",
   "execution_count": null,
   "metadata": {},
   "outputs": [],
   "source": [
    "plt.scatter(np.log10(1+z_noev), np.log10(sigma_noev), marker='.', label='k=0')\n",
    "plt.scatter(np.log10(1+z), np.log10(sigma), marker='.', label=f'k={kval}')\n",
    "#plt.scatter(np.log10(1+z_N), np.log10(N), marker='.', color='black', label='raw N(<z)')\n",
    "#note that the above version is actually slightly different from the actual raw N(<z), due ties in redshift\n",
    "plt.scatter(np.log10(1+z_test), np.log10(N_test), marker='.', label='raw N(<z)')\n",
    "plt.title('$\\\\log{\\\\dot{\\\\sigma}(z)}$ vs. $\\\\log{(1+z)}$')\n",
    "plt.xlabel('$\\\\log{(1+z)}$')\n",
    "plt.ylabel('$\\\\log{\\\\dot{\\\\sigma}(z)}$')\n",
    "plt.legend()"
   ]
  },
  {
   "cell_type": "markdown",
   "metadata": {},
   "source": [
    "## $\\phi(E')$"
   ]
  },
  {
   "cell_type": "code",
   "execution_count": null,
   "metadata": {},
   "outputs": [],
   "source": [
    "z_Emodel = np.linspace(0, 3, 10000)\n",
    "E_Emodel = E_v(2.0, z_Emodel, alpha=1.5)"
   ]
  },
  {
   "cell_type": "code",
   "execution_count": null,
   "metadata": {},
   "outputs": [],
   "source": [
    "def phi_E(Es, z, Flim, func=z_E, g=g, k=0, params=[1.5], model=[E_Emodel, z_Emodel]):\n",
    "    #Note: we assume that Es, z are clean already (i.e. no points under the cutoff)\n",
    "    \n",
    "    gs = g(z,k)\n",
    "    Emod, zmod = model\n",
    "    Es_overg, z = sort_by_first(Es/gs, z)\n",
    "    zmax = func(Es/gs, Emod/g(zmod, k), zmod)\n",
    "    \n",
    "    E_primes = []\n",
    "    Es_raw = []\n",
    "    ns = []\n",
    "    \n",
    "    for i in reversed(range(len(Es))):\n",
    "        n_i = 0\n",
    "        \n",
    "        for j in range(len(Es)):\n",
    "            if i == j: #skip over itself\n",
    "                continue\n",
    "                \n",
    "            if (Es_overg[j] >= Es_overg[i] and z[j] <= zmax[i]): #associated set requirements\n",
    "                n_i += 1\n",
    "        \n",
    "        ns.append(n_i)\n",
    "        E_primes.append(Es_overg[i])\n",
    "        Es_raw.append(Es_overg[i]*g(z[i],k))\n",
    "        \n",
    "        \n",
    "    phis = [1]\n",
    "    \n",
    "    for i in range(1, len(E_primes)):\n",
    "        phi_i = phis[i-1]*(1.+1./ns[i])\n",
    "        phis.append(phi_i)\n",
    "        \n",
    "    return np.array(phis), np.array(E_primes), np.array(Es_raw)"
   ]
  },
  {
   "cell_type": "code",
   "execution_count": null,
   "metadata": {},
   "outputs": [],
   "source": [
    "phi_noev, E_noev, E_raw_0 = phi_E(Es_clean, zs_clean, 2.0, k=0)\n",
    "phi, E_, E_raw_k           = phi_E(Es_clean, zs_clean, 2.0, k=kval)\n",
    "N, E_N, E_raw_N           = phi_E(Es_clean, zs_clean, 2.0, func=(lambda a,b,c: np.ones(len(a))*np.inf))"
   ]
  },
  {
   "cell_type": "code",
   "execution_count": null,
   "metadata": {},
   "outputs": [],
   "source": [
    "plt.scatter(np.log10(E_noev), np.log10(phi_noev), marker='.', label='k=0')\n",
    "plt.scatter(np.log10(E_), np.log10(phi), marker='.', label=f'k={kval}')\n",
    "plt.scatter(np.log10(E_N), np.log10(N), marker='.', color='black', label='raw N(>E)')\n",
    "plt.title('$\\\\log{\\phi(E\\')}$ vs. $\\\\log{E\\'}$')\n",
    "plt.xlabel('$\\\\log E\\'$')\n",
    "plt.ylabel('$\\\\log \\phi(E\\')$')\n",
    "plt.legend()\n",
    "#plt.savefig('../../phi_E.png', dpi=600)"
   ]
  },
  {
   "cell_type": "markdown",
   "metadata": {},
   "source": [
    "## formation rate evolution\n",
    "$$\\dot{\\rho}(z) = (1+z) \\frac{d\\dot{\\sigma}(z)/dz}{dV(z)/dz}$$\n",
    "\n",
    "$$\\dot{\\sigma}(z) = \\frac{Z^{d_1}}{\\left(1 + (Z/Z_C)^{n(d_1-d_2)} \\right)^{1/n}}$$\n",
    "\n",
    "## decision\n",
    "- choose a new function for $\\dot{\\sigma}$ at low $z$ such that its derivative $\\to 0$ as $z \\to 0$"
   ]
  },
  {
   "cell_type": "code",
   "execution_count": null,
   "metadata": {},
   "outputs": [],
   "source": [
    "def func_sigma(Z, d1, d2, Z_c, n):\n",
    "    ratio = np.divide(Z, Z_c)\n",
    "    return np.divide(np.power(Z, d1), np.power(1.0 + np.power(ratio, n*(d1-d2)), 1.0/n))\n",
    "\n",
    "def logsigma(logZ, d1, d2, Z_c, n):\n",
    "    return np.log10(func_sigma(np.power(10.0, logZ), d1, d2, Z_c, n))\n",
    "\n",
    "import scipy.optimize as opt"
   ]
  },
  {
   "cell_type": "code",
   "execution_count": null,
   "metadata": {},
   "outputs": [],
   "source": [
    "guess = [5.8, 0.45, 1.66, 2.0]\n",
    "bounds = [[0, 0, 0, 0], [100, 20, 20, 20]]\n",
    "print('starting fitting')\n",
    "\n",
    "#fit later points\n",
    "ind=20\n",
    "optsig, pcov = opt.curve_fit(logsigma, np.log10(1+z)[ind:], np.log10(sigma)[ind:], guess, bounds=bounds) \n",
    "\n",
    "print('done')"
   ]
  },
  {
   "cell_type": "code",
   "execution_count": null,
   "metadata": {},
   "outputs": [],
   "source": [
    "optsig"
   ]
  },
  {
   "cell_type": "code",
   "execution_count": null,
   "metadata": {},
   "outputs": [],
   "source": [
    "def plaw(z, C, p):\n",
    "    return C*np.power(z,p)\n",
    "\n",
    "def devPLaw(z, C, p):\n",
    "    if p == 0:\n",
    "        return z*0\n",
    "    return C*p*np.power(z,p-1)\n",
    "\n",
    "p = z[ind]*devSig(z[ind], *optsig)/sigma[20]\n",
    "C = sigma[20]/(z[ind]**p)"
   ]
  },
  {
   "cell_type": "code",
   "execution_count": null,
   "metadata": {},
   "outputs": [],
   "source": [
    "plt.scatter((1+z_noev), (sigma_noev), marker='.', label='k=0')\n",
    "plt.scatter((1+z), (sigma), marker='.', label=f'k={kval}')\n",
    "plt.scatter((1+z_test), (N_test), marker='.', label='raw N(<z)')\n",
    "\n",
    "\n",
    "modelzs = np.linspace(z[ind], 2.3, 2000)\n",
    "plt.plot(1+modelzs, func_sigma(1+modelzs, *optsig), color='black')\n",
    "\n",
    "modelzs = np.linspace(0.06, z[ind], 500)\n",
    "plt.plot(1+modelzs, plaw(modelzs, C, p), color='purple')\n",
    "\n",
    "plt.title('${\\\\dot{\\\\sigma}(z)}$ vs. ${(1+z)}$')\n",
    "plt.xlabel('${(1+z)}$')\n",
    "plt.ylabel('${\\\\dot{\\\\sigma}(z)}$')\n",
    "plt.yscale('log')\n",
    "plt.xscale('log')\n",
    "plt.legend()\n",
    "#plt.savefig('../../sigma_z.png', dpi=600)"
   ]
  },
  {
   "cell_type": "code",
   "execution_count": null,
   "metadata": {},
   "outputs": [],
   "source": [
    "def devSig(z, d1, d2, Z_c, n):\n",
    "    Z = z+1.0\n",
    "    fac1 = np.power(Z, d1-1.0)\n",
    "    fac2 = np.power(np.power(Z/Z_c, n*(d1-d2))+1.0, -1.0/n - 1.0)\n",
    "    fac3 = d2*np.power(Z/Z_c, n*(d1-d2))+d1\n",
    "    return fac1*fac2*fac3\n",
    "\n",
    "def devSigGeneral(z, zcut, params1, params2):\n",
    "    return np.piecewise(z, [z < zcut, z >= zcut], [lambda z:devPLaw(z, *params1), lambda z:devSig(z, *params2)])"
   ]
  },
  {
   "cell_type": "code",
   "execution_count": null,
   "metadata": {},
   "outputs": [],
   "source": [
    "def dVdz(z):\n",
    "    '''\n",
    "    in units of hubble volumes, D_H^3\n",
    "    '''\n",
    "    return 4*np.pi*(D_C(z))**2/(E(z))**0.5\n",
    "\n",
    "def dotrho(z, optsig):\n",
    "    return (1+z)*devSig(z, *optsig)/dVdz(z)\n",
    "\n",
    "def dotrhoGeneral(z, zcut, params1, params2):\n",
    "    return (1+z)*devSigGeneral(z, zcut, params1, params2)/dVdz(z)"
   ]
  },
  {
   "cell_type": "code",
   "execution_count": null,
   "metadata": {},
   "outputs": [],
   "source": [
    "zs = np.linspace(0, 5, 500)\n",
    "rho = dotrho(zs, optsig)\n",
    "rhoGen = dotrhoGeneral(zs, z[20], np.array([C,p]), optsig)"
   ]
  },
  {
   "cell_type": "code",
   "execution_count": null,
   "metadata": {
    "scrolled": true
   },
   "outputs": [],
   "source": [
    "#plt.plot(zs, rho, label='rho')\n",
    "plt.plot(zs, rhoGen, label='$\\dot{\\\\rho}(z)$')\n",
    "plt.plot(zs, SFR_Arcus(zs)*15000, label='SFR')\n",
    "plt.yscale('log')\n",
    "plt.ylabel('rate of formation (arbitrary units)')\n",
    "plt.xlabel('redshift (z)')\n",
    "plt.legend()\n",
    "plt.title('Formation Rate Evolution')\n",
    "#plt.savefig('../../FRE.png', dpi=600)\n",
    "plt.show()"
   ]
  },
  {
   "cell_type": "code",
   "execution_count": null,
   "metadata": {},
   "outputs": [],
   "source": [
    "def SFR_Arcus(z):\n",
    "    '''\n",
    "    ----------I/O-----------\n",
    "    INPUT: z — redshift (single value or numpy array)\n",
    "    OUTPUT: SFR — (relative) star formation rate\n",
    "    ------------------------\n",
    "    \n",
    "    Notes:\n",
    "    SFR as defined by Arcus et al. 2020. SFR looks like a smooth peak at around z=2.\n",
    "    '''\n",
    "    \n",
    "    Z=1+z\n",
    "    return (0.015*(Z**2.7))/(1+(Z/2.9)**5.6)"
   ]
  },
  {
   "cell_type": "code",
   "execution_count": null,
   "metadata": {},
   "outputs": [],
   "source": []
  }
 ],
 "metadata": {
  "kernelspec": {
   "display_name": "Python 3.9.12 ('2022')",
   "language": "python",
   "name": "python3"
  },
  "language_info": {
   "codemirror_mode": {
    "name": "ipython",
    "version": 3
   },
   "file_extension": ".py",
   "mimetype": "text/x-python",
   "name": "python",
   "nbconvert_exporter": "python",
   "pygments_lexer": "ipython3",
   "version": "3.9.12"
  },
  "vscode": {
   "interpreter": {
    "hash": "8ef6c2603613cee003e8dc1202cc215413d5752975eb5ab63e282753c2927b8a"
   }
  }
 },
 "nbformat": 4,
 "nbformat_minor": 4
}
