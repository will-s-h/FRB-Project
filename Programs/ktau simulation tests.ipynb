{
 "cells": [
  {
   "cell_type": "code",
   "execution_count": 48,
   "id": "6624a8d6",
   "metadata": {},
   "outputs": [],
   "source": [
    "from petrosianfuncs.ktau import *\n",
    "#the above also imports numpy as np, pandas as pd, math, and * from petrosianfuncs.cosmology \n",
    "\n",
    "import matplotlib.pyplot as plt"
   ]
  },
  {
   "cell_type": "markdown",
   "id": "ff13c535",
   "metadata": {},
   "source": [
    "# Functions to Test Kendall Tau\n",
    "- using random samples with a lognormal distribution in z and a log-random distribution in E"
   ]
  },
  {
   "cell_type": "markdown",
   "id": "03523374",
   "metadata": {},
   "source": [
    "## Functions"
   ]
  },
  {
   "cell_type": "code",
   "execution_count": 49,
   "id": "d2fa7166",
   "metadata": {},
   "outputs": [],
   "source": [
    "def rndm(a, b, g, size=1, seed=0):\n",
    "    '''Power-law gen for pdf(x)\\propto x^g for a<=x<=b'''\n",
    "    if g >= -1:\n",
    "        raise ValueError('g cannot be >= -1')\n",
    "    \n",
    "    g += 1\n",
    "    rng = np.random.default_rng(seed)\n",
    "    r = rng.random(size)\n",
    "    ag, bg = a**g, b**g\n",
    "    return (ag + (bg - ag)*r)**(1./g)"
   ]
  },
  {
   "cell_type": "code",
   "execution_count": 50,
   "id": "014860a3",
   "metadata": {},
   "outputs": [],
   "source": [
    "def recover_sample(seed=0, power=3, osize=200, pdSeries=None):\n",
    "    if pdSeries is not None: #overrides all other settings\n",
    "        seed = int(pdSeries['seed'])\n",
    "        power = pdSeries['power']\n",
    "        osize = int(pdSeries['osize'])\n",
    "    \n",
    "    #Generate Data\n",
    "    rng = np.random.default_rng(seed)\n",
    "    x = rng.lognormal(mean=-1.0, sigma=1.0, size=osize)+0.1\n",
    "    #y = np.power(10, (rng.random(osize)*3+23))*g_new(x,power)*((1+x)/1.5)**power\n",
    "    y = rndm(10**23, 10**26, -1.2, size=osize, seed=seed)*((1+x)/1.5)**power#*g_new(x,power)/(1.45**power)\n",
    "    \n",
    "    return x, y\n",
    "\n",
    "def lowest_nonnegative(arr):\n",
    "    #searching an array for first the lowest possible nonnegative k\n",
    "    #then the lowest absolute magnitude negative k\n",
    "    \n",
    "    if (sum(arr >= 0) != 0): #if there exists a nonnegative:\n",
    "        return sorted(arr[arr >= 0])[0]\n",
    "    else: #only negatives\n",
    "        return sorted(arr)[len(arr)-1]\n",
    "\n",
    "def findtau0(x, y, power=3, Flim = 2.0, params=[1.5], func=E_v, g=g):\n",
    "    #Clean Up Data\n",
    "    ylims = func(Flim, x, *params)\n",
    "    xcleans = x[np.logical_and(y > ylims, x<2.2)]\n",
    "    ycleans = y[np.logical_and(y > ylims, x<2.2)]\n",
    "    \n",
    "    #Commence Broad Search\n",
    "    ks = np.linspace(power-10,power+10,11)\n",
    "    taus = np.zeros(len(ks))\n",
    "\n",
    "    for i, k in enumerate(ks):\n",
    "        taus[i] = ktau(ycleans, xcleans, Flim, func=func, g=g, k=k, params=params)\n",
    "    \n",
    "    zer = np.argwhere(np.diff(np.sign(taus))).flatten()\n",
    "    \n",
    "    if len(zer) > 1:\n",
    "        print('WARNING: multiple tau=0 instances. Proceeding starting with lowest nonnegative k.')\n",
    "    \n",
    "    elif len(zer) == 0:\n",
    "        print('WARNING: no tau=0 instances')\n",
    "        if sum(taus > 0) == len(taus):\n",
    "            return 999\n",
    "        elif sum(taus > 0) == 0:\n",
    "            return -999\n",
    "        print('EXTRA WARNING: wtf this should never happen')\n",
    "        return np.nan\n",
    "    \n",
    "    klow = lowest_nonnegative(ks[zer]) # should have tau > 0\n",
    "    khigh = klow + (ks[1]-ks[0]) #klow + dk, should have tau < 0\n",
    "    \n",
    "    #Commence binary search in this region, assuming a monotonic function\n",
    "    while (khigh-klow) > 0.01:\n",
    "        mid = (khigh+klow)/2\n",
    "        tau_ = ktau(ycleans, xcleans, Flim, func=func, g=g, k=mid, params=params)\n",
    "        if tau_ == 0:\n",
    "            return mid\n",
    "        if tau_ > 0:\n",
    "            klow = mid\n",
    "        else:\n",
    "            khigh = mid\n",
    "    \n",
    "    return round((khigh+klow)/2, 3)"
   ]
  },
  {
   "cell_type": "code",
   "execution_count": 51,
   "id": "3005ea7e",
   "metadata": {},
   "outputs": [],
   "source": [
    "def g_new(z, k): #The improved g-function, which transforms luminosities\n",
    "    Z = z+1\n",
    "    Z_c = 3.5\n",
    "    n = 3\n",
    "    return Z**k/(1+(Z/Z_c)**n)**(k/n)"
   ]
  },
  {
   "cell_type": "code",
   "execution_count": 117,
   "id": "272b7b72",
   "metadata": {},
   "outputs": [],
   "source": [
    "def test_ktau(seed=0, power=3, osize=200):\n",
    "    #Generate Data\n",
    "    rng = np.random.default_rng(seed)\n",
    "    x = rng.lognormal(mean=-1.0, sigma=1.0,size=osize)+0.1\n",
    "    #y = np.power(10, (rng.random(osize)*3+23))*((1+x)/1.5)**power#*g_new(x,power)/(1.45**power)\n",
    "                                             #used to be ((1+x)/2)*power, now is ((1+x)/1.5)**power\n",
    "    y = rndm(10**23, 10**26, -1.2, size=osize, seed=seed)*((1+x)/1.5)**power #*g_new(x,power)/(1.45**power)\n",
    "    \n",
    "    #Clean Up Data\n",
    "    Flim, params, func = 2.0, [1.5], E_v\n",
    "    ylims = func(Flim, x, *params)\n",
    "    xcleans = x[np.logical_and(y > ylims, x<2.2)]\n",
    "    ycleans = y[np.logical_and(y > ylims, x<2.2)]\n",
    "    \n",
    "    #Best fit lines:\n",
    "    mraw, braw = np.polyfit(np.log10(1+xcleans), np.log10(ycleans), 1)\n",
    "    m,b=np.polyfit(np.log10(1+x[x<2.2]), np.log10(y[x<2.2]), 1)\n",
    "    \n",
    "    #Use Kendall Tau to calculate k:\n",
    "    k = findtau0(x, y, power=power, Flim=Flim, params=params, func=func, g=g)\n",
    "    \n",
    "    #return true number of points, raw slope, true slope, k\n",
    "    return len(xcleans), mraw, m, k"
   ]
  },
  {
   "cell_type": "markdown",
   "id": "90b4ae43",
   "metadata": {},
   "source": [
    "## Simulate"
   ]
  },
  {
   "cell_type": "code",
   "execution_count": 118,
   "id": "f7c532b4",
   "metadata": {
    "scrolled": true
   },
   "outputs": [
    {
     "name": "stdout",
     "output_type": "stream",
     "text": [
      "DONE WITH 1/30\n",
      "DONE WITH 2/30\n",
      "DONE WITH 3/30\n",
      "DONE WITH 4/30\n",
      "DONE WITH 5/30\n",
      "DONE WITH 6/30\n",
      "DONE WITH 7/30\n",
      "DONE WITH 8/30\n",
      "DONE WITH 9/30\n",
      "DONE WITH 10/30\n",
      "DONE WITH 11/30\n",
      "DONE WITH 12/30\n",
      "DONE WITH 13/30\n",
      "DONE WITH 14/30\n",
      "DONE WITH 15/30\n",
      "DONE WITH 16/30\n",
      "DONE WITH 17/30\n",
      "DONE WITH 18/30\n",
      "DONE WITH 19/30\n",
      "DONE WITH 20/30\n",
      "DONE WITH 21/30\n",
      "DONE WITH 22/30\n",
      "DONE WITH 23/30\n",
      "DONE WITH 24/30\n",
      "DONE WITH 25/30\n",
      "DONE WITH 26/30\n",
      "DONE WITH 27/30\n",
      "DONE WITH 28/30\n",
      "DONE WITH 29/30\n",
      "DONE WITH 30/30\n",
      "****************DONE****************\n"
     ]
    }
   ],
   "source": [
    "seeds = [1, 2, 3, 4, 5]\n",
    "powers = [2]\n",
    "sizes = [100, 200, 500, 1000, 2000, 5000]\n",
    "\n",
    "length = len(seeds)*len(powers)*len(sizes)\n",
    "i=0\n",
    "\n",
    "info = []\n",
    "\n",
    "for seed in seeds:\n",
    "    for power in powers:\n",
    "        for size in sizes:\n",
    "            tseed = int(power*100000) + seed #update, use different seed for different power\n",
    "            tsize, mraw, m, k = test_ktau(seed=tseed, power=power, osize=size)\n",
    "            info.append(np.array([tseed, power, size, tsize, mraw, m, k]))\n",
    "            print(f'DONE WITH {i+1}/{length}')\n",
    "            i += 1\n",
    "            \n",
    "df = pd.DataFrame(data = np.stack(info), columns = ['seed', 'power', 'osize', 'tsize', 'mraw', 'm', 'k'])\n",
    "print('****************DONE****************')"
   ]
  },
  {
   "cell_type": "code",
   "execution_count": 119,
   "id": "426ee4e7",
   "metadata": {},
   "outputs": [
    {
     "data": {
      "text/html": [
       "<div>\n",
       "<style scoped>\n",
       "    .dataframe tbody tr th:only-of-type {\n",
       "        vertical-align: middle;\n",
       "    }\n",
       "\n",
       "    .dataframe tbody tr th {\n",
       "        vertical-align: top;\n",
       "    }\n",
       "\n",
       "    .dataframe thead th {\n",
       "        text-align: right;\n",
       "    }\n",
       "</style>\n",
       "<table border=\"1\" class=\"dataframe\">\n",
       "  <thead>\n",
       "    <tr style=\"text-align: right;\">\n",
       "      <th></th>\n",
       "      <th>seed</th>\n",
       "      <th>power</th>\n",
       "      <th>osize</th>\n",
       "      <th>tsize</th>\n",
       "      <th>mraw</th>\n",
       "      <th>m</th>\n",
       "      <th>k</th>\n",
       "    </tr>\n",
       "  </thead>\n",
       "  <tbody>\n",
       "    <tr>\n",
       "      <th>14</th>\n",
       "      <td>200003.0</td>\n",
       "      <td>2.0</td>\n",
       "      <td>500.0</td>\n",
       "      <td>239.0</td>\n",
       "      <td>4.618925</td>\n",
       "      <td>2.096456</td>\n",
       "      <td>2.488</td>\n",
       "    </tr>\n",
       "  </tbody>\n",
       "</table>\n",
       "</div>"
      ],
      "text/plain": [
       "        seed  power  osize  tsize      mraw         m      k\n",
       "14  200003.0    2.0  500.0  239.0  4.618925  2.096456  2.488"
      ]
     },
     "execution_count": 119,
     "metadata": {},
     "output_type": "execute_result"
    }
   ],
   "source": [
    "df.iloc[14:15]"
   ]
  },
  {
   "cell_type": "code",
   "execution_count": 120,
   "id": "534aefae",
   "metadata": {},
   "outputs": [
    {
     "data": {
      "text/plain": [
       "seed       int64\n",
       "power    float64\n",
       "osize      int64\n",
       "tsize      int64\n",
       "mraw     float64\n",
       "m        float64\n",
       "k        float64\n",
       "dtype: object"
      ]
     },
     "execution_count": 120,
     "metadata": {},
     "output_type": "execute_result"
    }
   ],
   "source": [
    "columns = ['seed', 'power', 'osize', 'tsize', 'mraw', 'm', 'k']\n",
    "dtypes  = {'seed':'int', 'power':'float', 'osize':'int', 'tsize':'int', 'mraw':'float', 'm':'float', 'k':'float'}\n",
    "\n",
    "df = df.astype(dtypes)\n",
    "df.dtypes"
   ]
  },
  {
   "cell_type": "markdown",
   "id": "a54b1e78",
   "metadata": {},
   "source": [
    "## Display Results"
   ]
  },
  {
   "cell_type": "code",
   "execution_count": 121,
   "id": "91018f4c",
   "metadata": {},
   "outputs": [],
   "source": [
    "#df[df['osize'] == 100]"
   ]
  },
  {
   "cell_type": "code",
   "execution_count": 123,
   "id": "634ed87e",
   "metadata": {},
   "outputs": [
    {
     "data": {
      "image/png": "[encoded data removed]",
      "text/plain": [
       "<Figure size 432x288 with 1 Axes>"
      ]
     },
     "metadata": {
      "needs_background": "light"
     },
     "output_type": "display_data"
    }
   ],
   "source": [
    "fig, ax = plt.subplots()\n",
    "\n",
    "power = 2\n",
    "osizes = [100, 200, 500, 1000, 2000, 5000]\n",
    "\n",
    "for i, osize in enumerate(osizes):\n",
    "    seeds = (df['power'] == power) & (df['osize'] == osize)\n",
    "    ks = np.array(df[seeds]['k'])\n",
    "    max_, med, min_ = max(ks), np.median(ks), min(ks)\n",
    "    plt.bar(i, med, yerr=[[med-min_], [max_-med]], width=0, ecolor='black', capsize=10)\n",
    "    for j in range(len(ks)):\n",
    "        plt.scatter(i, ks[j], color='blue')\n",
    "    #plt.scatter(i, med, color='blue', label = 'median' if i == 0 else None)\n",
    "\n",
    "ax.set_xticks([0,1,2,3,4,5])\n",
    "ax.set_xticklabels(['100', '200', '500', '1000', '2000', '5000'])\n",
    "plt.ylim([-5,10])\n",
    "plt.xlim([-0.7, 5.7])\n",
    "\n",
    "gstatus = 'old'\n",
    "\n",
    "plt.title(f'k={power}, ' + '$g_{\\\\mathrm{'+ gstatus + '}}$')\n",
    "plt.xlabel('Number of Original Data Points')\n",
    "plt.ylabel('k values')\n",
    "plt.hlines(power, -0.7, 5.7, label='true value')\n",
    "plt.legend()\n",
    "#plt.savefig(f'../../k={power}_{gstatus}g.png', dpi=600)\n",
    "plt.show()"
   ]
  },
  {
   "cell_type": "markdown",
   "id": "48e3865a",
   "metadata": {},
   "source": [
    "## #1: How many k values obtained by Kendall Tau are greater than raw fit?"
   ]
  },
  {
   "cell_type": "code",
   "execution_count": 101,
   "id": "ecbfdb69",
   "metadata": {},
   "outputs": [
    {
     "data": {
      "text/html": [
       "<div>\n",
       "<style scoped>\n",
       "    .dataframe tbody tr th:only-of-type {\n",
       "        vertical-align: middle;\n",
       "    }\n",
       "\n",
       "    .dataframe tbody tr th {\n",
       "        vertical-align: top;\n",
       "    }\n",
       "\n",
       "    .dataframe thead th {\n",
       "        text-align: right;\n",
       "    }\n",
       "</style>\n",
       "<table border=\"1\" class=\"dataframe\">\n",
       "  <thead>\n",
       "    <tr style=\"text-align: right;\">\n",
       "      <th></th>\n",
       "      <th>seed</th>\n",
       "      <th>power</th>\n",
       "      <th>osize</th>\n",
       "      <th>tsize</th>\n",
       "      <th>mraw</th>\n",
       "      <th>m</th>\n",
       "      <th>k</th>\n",
       "    </tr>\n",
       "  </thead>\n",
       "  <tbody>\n",
       "    <tr>\n",
       "      <th>5</th>\n",
       "      <td>400001</td>\n",
       "      <td>4.0</td>\n",
       "      <td>200</td>\n",
       "      <td>131</td>\n",
       "      <td>6.126532</td>\n",
       "      <td>4.119526</td>\n",
       "      <td>8.324</td>\n",
       "    </tr>\n",
       "    <tr>\n",
       "      <th>9</th>\n",
       "      <td>500001</td>\n",
       "      <td>5.0</td>\n",
       "      <td>200</td>\n",
       "      <td>126</td>\n",
       "      <td>5.851202</td>\n",
       "      <td>4.745958</td>\n",
       "      <td>8.918</td>\n",
       "    </tr>\n",
       "    <tr>\n",
       "      <th>11</th>\n",
       "      <td>500001</td>\n",
       "      <td>5.0</td>\n",
       "      <td>1000</td>\n",
       "      <td>614</td>\n",
       "      <td>5.422775</td>\n",
       "      <td>4.397353</td>\n",
       "      <td>6.105</td>\n",
       "    </tr>\n",
       "    <tr>\n",
       "      <th>14</th>\n",
       "      <td>300002</td>\n",
       "      <td>3.0</td>\n",
       "      <td>500</td>\n",
       "      <td>314</td>\n",
       "      <td>5.007627</td>\n",
       "      <td>2.849512</td>\n",
       "      <td>5.145</td>\n",
       "    </tr>\n",
       "    <tr>\n",
       "      <th>22</th>\n",
       "      <td>500002</td>\n",
       "      <td>5.0</td>\n",
       "      <td>500</td>\n",
       "      <td>303</td>\n",
       "      <td>5.016010</td>\n",
       "      <td>3.975695</td>\n",
       "      <td>5.145</td>\n",
       "    </tr>\n",
       "    <tr>\n",
       "      <th>25</th>\n",
       "      <td>300003</td>\n",
       "      <td>3.0</td>\n",
       "      <td>200</td>\n",
       "      <td>118</td>\n",
       "      <td>4.907529</td>\n",
       "      <td>3.428352</td>\n",
       "      <td>5.488</td>\n",
       "    </tr>\n",
       "    <tr>\n",
       "      <th>28</th>\n",
       "      <td>400003</td>\n",
       "      <td>4.0</td>\n",
       "      <td>100</td>\n",
       "      <td>53</td>\n",
       "      <td>5.497070</td>\n",
       "      <td>4.172871</td>\n",
       "      <td>6.895</td>\n",
       "    </tr>\n",
       "    <tr>\n",
       "      <th>29</th>\n",
       "      <td>400003</td>\n",
       "      <td>4.0</td>\n",
       "      <td>200</td>\n",
       "      <td>122</td>\n",
       "      <td>5.849183</td>\n",
       "      <td>4.647248</td>\n",
       "      <td>6.301</td>\n",
       "    </tr>\n",
       "    <tr>\n",
       "      <th>32</th>\n",
       "      <td>500003</td>\n",
       "      <td>5.0</td>\n",
       "      <td>100</td>\n",
       "      <td>53</td>\n",
       "      <td>5.307996</td>\n",
       "      <td>4.661634</td>\n",
       "      <td>7.871</td>\n",
       "    </tr>\n",
       "    <tr>\n",
       "      <th>37</th>\n",
       "      <td>300004</td>\n",
       "      <td>3.0</td>\n",
       "      <td>200</td>\n",
       "      <td>120</td>\n",
       "      <td>4.129980</td>\n",
       "      <td>3.033301</td>\n",
       "      <td>4.746</td>\n",
       "    </tr>\n",
       "    <tr>\n",
       "      <th>41</th>\n",
       "      <td>400004</td>\n",
       "      <td>4.0</td>\n",
       "      <td>200</td>\n",
       "      <td>135</td>\n",
       "      <td>5.093180</td>\n",
       "      <td>3.991611</td>\n",
       "      <td>5.543</td>\n",
       "    </tr>\n",
       "    <tr>\n",
       "      <th>44</th>\n",
       "      <td>500004</td>\n",
       "      <td>5.0</td>\n",
       "      <td>100</td>\n",
       "      <td>60</td>\n",
       "      <td>6.552910</td>\n",
       "      <td>5.062412</td>\n",
       "      <td>6.715</td>\n",
       "    </tr>\n",
       "    <tr>\n",
       "      <th>49</th>\n",
       "      <td>300005</td>\n",
       "      <td>3.0</td>\n",
       "      <td>200</td>\n",
       "      <td>113</td>\n",
       "      <td>4.941635</td>\n",
       "      <td>2.742217</td>\n",
       "      <td>6.332</td>\n",
       "    </tr>\n",
       "    <tr>\n",
       "      <th>52</th>\n",
       "      <td>400005</td>\n",
       "      <td>4.0</td>\n",
       "      <td>100</td>\n",
       "      <td>57</td>\n",
       "      <td>5.402055</td>\n",
       "      <td>3.096157</td>\n",
       "      <td>5.613</td>\n",
       "    </tr>\n",
       "    <tr>\n",
       "      <th>56</th>\n",
       "      <td>500005</td>\n",
       "      <td>5.0</td>\n",
       "      <td>100</td>\n",
       "      <td>62</td>\n",
       "      <td>5.490865</td>\n",
       "      <td>5.469865</td>\n",
       "      <td>6.488</td>\n",
       "    </tr>\n",
       "    <tr>\n",
       "      <th>58</th>\n",
       "      <td>500005</td>\n",
       "      <td>5.0</td>\n",
       "      <td>500</td>\n",
       "      <td>293</td>\n",
       "      <td>5.136609</td>\n",
       "      <td>4.010971</td>\n",
       "      <td>5.473</td>\n",
       "    </tr>\n",
       "    <tr>\n",
       "      <th>59</th>\n",
       "      <td>500005</td>\n",
       "      <td>5.0</td>\n",
       "      <td>1000</td>\n",
       "      <td>614</td>\n",
       "      <td>5.548610</td>\n",
       "      <td>4.277011</td>\n",
       "      <td>5.965</td>\n",
       "    </tr>\n",
       "    <tr>\n",
       "      <th>65</th>\n",
       "      <td>400006</td>\n",
       "      <td>4.0</td>\n",
       "      <td>200</td>\n",
       "      <td>113</td>\n",
       "      <td>4.895760</td>\n",
       "      <td>3.181462</td>\n",
       "      <td>5.191</td>\n",
       "    </tr>\n",
       "    <tr>\n",
       "      <th>68</th>\n",
       "      <td>500006</td>\n",
       "      <td>5.0</td>\n",
       "      <td>100</td>\n",
       "      <td>60</td>\n",
       "      <td>5.524624</td>\n",
       "      <td>5.041672</td>\n",
       "      <td>6.457</td>\n",
       "    </tr>\n",
       "    <tr>\n",
       "      <th>71</th>\n",
       "      <td>500006</td>\n",
       "      <td>5.0</td>\n",
       "      <td>1000</td>\n",
       "      <td>642</td>\n",
       "      <td>5.453304</td>\n",
       "      <td>4.684042</td>\n",
       "      <td>5.980</td>\n",
       "    </tr>\n",
       "    <tr>\n",
       "      <th>76</th>\n",
       "      <td>400007</td>\n",
       "      <td>4.0</td>\n",
       "      <td>100</td>\n",
       "      <td>57</td>\n",
       "      <td>4.312255</td>\n",
       "      <td>3.046818</td>\n",
       "      <td>6.582</td>\n",
       "    </tr>\n",
       "    <tr>\n",
       "      <th>80</th>\n",
       "      <td>500007</td>\n",
       "      <td>5.0</td>\n",
       "      <td>100</td>\n",
       "      <td>55</td>\n",
       "      <td>7.264996</td>\n",
       "      <td>5.182068</td>\n",
       "      <td>8.441</td>\n",
       "    </tr>\n",
       "    <tr>\n",
       "      <th>82</th>\n",
       "      <td>500007</td>\n",
       "      <td>5.0</td>\n",
       "      <td>500</td>\n",
       "      <td>304</td>\n",
       "      <td>5.710352</td>\n",
       "      <td>4.953251</td>\n",
       "      <td>6.762</td>\n",
       "    </tr>\n",
       "    <tr>\n",
       "      <th>88</th>\n",
       "      <td>400008</td>\n",
       "      <td>4.0</td>\n",
       "      <td>100</td>\n",
       "      <td>61</td>\n",
       "      <td>5.531077</td>\n",
       "      <td>2.232879</td>\n",
       "      <td>7.527</td>\n",
       "    </tr>\n",
       "    <tr>\n",
       "      <th>92</th>\n",
       "      <td>500008</td>\n",
       "      <td>5.0</td>\n",
       "      <td>100</td>\n",
       "      <td>58</td>\n",
       "      <td>5.522583</td>\n",
       "      <td>3.254843</td>\n",
       "      <td>5.871</td>\n",
       "    </tr>\n",
       "    <tr>\n",
       "      <th>102</th>\n",
       "      <td>400009</td>\n",
       "      <td>4.0</td>\n",
       "      <td>500</td>\n",
       "      <td>290</td>\n",
       "      <td>5.315775</td>\n",
       "      <td>4.087483</td>\n",
       "      <td>5.738</td>\n",
       "    </tr>\n",
       "    <tr>\n",
       "      <th>103</th>\n",
       "      <td>400009</td>\n",
       "      <td>4.0</td>\n",
       "      <td>1000</td>\n",
       "      <td>596</td>\n",
       "      <td>5.140594</td>\n",
       "      <td>4.282849</td>\n",
       "      <td>5.191</td>\n",
       "    </tr>\n",
       "    <tr>\n",
       "      <th>104</th>\n",
       "      <td>500009</td>\n",
       "      <td>5.0</td>\n",
       "      <td>100</td>\n",
       "      <td>62</td>\n",
       "      <td>5.534502</td>\n",
       "      <td>5.243525</td>\n",
       "      <td>6.754</td>\n",
       "    </tr>\n",
       "    <tr>\n",
       "      <th>105</th>\n",
       "      <td>500009</td>\n",
       "      <td>5.0</td>\n",
       "      <td>200</td>\n",
       "      <td>122</td>\n",
       "      <td>5.416092</td>\n",
       "      <td>5.009326</td>\n",
       "      <td>6.699</td>\n",
       "    </tr>\n",
       "    <tr>\n",
       "      <th>113</th>\n",
       "      <td>400010</td>\n",
       "      <td>4.0</td>\n",
       "      <td>200</td>\n",
       "      <td>109</td>\n",
       "      <td>5.788429</td>\n",
       "      <td>5.082465</td>\n",
       "      <td>6.723</td>\n",
       "    </tr>\n",
       "  </tbody>\n",
       "</table>\n",
       "</div>"
      ],
      "text/plain": [
       "       seed  power  osize  tsize      mraw         m      k\n",
       "5    400001    4.0    200    131  6.126532  4.119526  8.324\n",
       "9    500001    5.0    200    126  5.851202  4.745958  8.918\n",
       "11   500001    5.0   1000    614  5.422775  4.397353  6.105\n",
       "14   300002    3.0    500    314  5.007627  2.849512  5.145\n",
       "22   500002    5.0    500    303  5.016010  3.975695  5.145\n",
       "25   300003    3.0    200    118  4.907529  3.428352  5.488\n",
       "28   400003    4.0    100     53  5.497070  4.172871  6.895\n",
       "29   400003    4.0    200    122  5.849183  4.647248  6.301\n",
       "32   500003    5.0    100     53  5.307996  4.661634  7.871\n",
       "37   300004    3.0    200    120  4.129980  3.033301  4.746\n",
       "41   400004    4.0    200    135  5.093180  3.991611  5.543\n",
       "44   500004    5.0    100     60  6.552910  5.062412  6.715\n",
       "49   300005    3.0    200    113  4.941635  2.742217  6.332\n",
       "52   400005    4.0    100     57  5.402055  3.096157  5.613\n",
       "56   500005    5.0    100     62  5.490865  5.469865  6.488\n",
       "58   500005    5.0    500    293  5.136609  4.010971  5.473\n",
       "59   500005    5.0   1000    614  5.548610  4.277011  5.965\n",
       "65   400006    4.0    200    113  4.895760  3.181462  5.191\n",
       "68   500006    5.0    100     60  5.524624  5.041672  6.457\n",
       "71   500006    5.0   1000    642  5.453304  4.684042  5.980\n",
       "76   400007    4.0    100     57  4.312255  3.046818  6.582\n",
       "80   500007    5.0    100     55  7.264996  5.182068  8.441\n",
       "82   500007    5.0    500    304  5.710352  4.953251  6.762\n",
       "88   400008    4.0    100     61  5.531077  2.232879  7.527\n",
       "92   500008    5.0    100     58  5.522583  3.254843  5.871\n",
       "102  400009    4.0    500    290  5.315775  4.087483  5.738\n",
       "103  400009    4.0   1000    596  5.140594  4.282849  5.191\n",
       "104  500009    5.0    100     62  5.534502  5.243525  6.754\n",
       "105  500009    5.0    200    122  5.416092  5.009326  6.699\n",
       "113  400010    4.0    200    109  5.788429  5.082465  6.723"
      ]
     },
     "execution_count": 101,
     "metadata": {},
     "output_type": "execute_result"
    }
   ],
   "source": [
    "df[(df['k'] > df['mraw'])]"
   ]
  },
  {
   "cell_type": "code",
   "execution_count": 102,
   "id": "b1372bed",
   "metadata": {},
   "outputs": [
    {
     "name": "stdout",
     "output_type": "stream",
     "text": [
      "fraction of samples with k (kendall tau) > m (raw fit)\n",
      "sample size 100: 11/30\n",
      "sample size 200: 10/30\n",
      "sample size 500: 5/30\n",
      "sample size 1000: 4/30\n"
     ]
    }
   ],
   "source": [
    "print('fraction of samples with k (kendall tau) > m (raw fit)')\n",
    "for i in [100,200, 500, 1000]:\n",
    "    a = len(df[(df['k'] > df['mraw']) & (df['osize'] == i)])\n",
    "    b = len(df[df['osize'] == i])\n",
    "    print(f'sample size {i}: {a}/{b}')"
   ]
  },
  {
   "cell_type": "markdown",
   "id": "272e37cf",
   "metadata": {},
   "source": [
    "## #2: Assuming a lower fluence threshold, when does the result become unacceptable?"
   ]
  },
  {
   "cell_type": "code",
   "execution_count": 12,
   "id": "5d649627",
   "metadata": {
    "scrolled": true
   },
   "outputs": [
    {
     "data": {
      "text/html": [
       "<div>\n",
       "<style scoped>\n",
       "    .dataframe tbody tr th:only-of-type {\n",
       "        vertical-align: middle;\n",
       "    }\n",
       "\n",
       "    .dataframe tbody tr th {\n",
       "        vertical-align: top;\n",
       "    }\n",
       "\n",
       "    .dataframe thead th {\n",
       "        text-align: right;\n",
       "    }\n",
       "</style>\n",
       "<table border=\"1\" class=\"dataframe\">\n",
       "  <thead>\n",
       "    <tr style=\"text-align: right;\">\n",
       "      <th></th>\n",
       "      <th>seed</th>\n",
       "      <th>power</th>\n",
       "      <th>osize</th>\n",
       "      <th>tsize</th>\n",
       "      <th>mraw</th>\n",
       "      <th>m</th>\n",
       "      <th>k</th>\n",
       "    </tr>\n",
       "  </thead>\n",
       "  <tbody>\n",
       "    <tr>\n",
       "      <th>1</th>\n",
       "      <td>100001</td>\n",
       "      <td>1.0</td>\n",
       "      <td>200</td>\n",
       "      <td>115</td>\n",
       "      <td>3.369934</td>\n",
       "      <td>0.613447</td>\n",
       "      <td>0.801</td>\n",
       "    </tr>\n",
       "    <tr>\n",
       "      <th>6</th>\n",
       "      <td>100002</td>\n",
       "      <td>1.0</td>\n",
       "      <td>500</td>\n",
       "      <td>276</td>\n",
       "      <td>3.922099</td>\n",
       "      <td>0.579540</td>\n",
       "      <td>1.199</td>\n",
       "    </tr>\n",
       "    <tr>\n",
       "      <th>7</th>\n",
       "      <td>100002</td>\n",
       "      <td>1.0</td>\n",
       "      <td>1000</td>\n",
       "      <td>550</td>\n",
       "      <td>3.569381</td>\n",
       "      <td>0.857501</td>\n",
       "      <td>1.191</td>\n",
       "    </tr>\n",
       "    <tr>\n",
       "      <th>9</th>\n",
       "      <td>100003</td>\n",
       "      <td>1.0</td>\n",
       "      <td>200</td>\n",
       "      <td>113</td>\n",
       "      <td>4.412233</td>\n",
       "      <td>1.233054</td>\n",
       "      <td>0.754</td>\n",
       "    </tr>\n",
       "    <tr>\n",
       "      <th>10</th>\n",
       "      <td>100003</td>\n",
       "      <td>1.0</td>\n",
       "      <td>500</td>\n",
       "      <td>296</td>\n",
       "      <td>3.838812</td>\n",
       "      <td>1.192370</td>\n",
       "      <td>0.988</td>\n",
       "    </tr>\n",
       "    <tr>\n",
       "      <th>11</th>\n",
       "      <td>100003</td>\n",
       "      <td>1.0</td>\n",
       "      <td>1000</td>\n",
       "      <td>556</td>\n",
       "      <td>4.035475</td>\n",
       "      <td>0.673378</td>\n",
       "      <td>1.363</td>\n",
       "    </tr>\n",
       "    <tr>\n",
       "      <th>18</th>\n",
       "      <td>100005</td>\n",
       "      <td>1.0</td>\n",
       "      <td>500</td>\n",
       "      <td>270</td>\n",
       "      <td>3.979253</td>\n",
       "      <td>0.658652</td>\n",
       "      <td>1.113</td>\n",
       "    </tr>\n",
       "    <tr>\n",
       "      <th>22</th>\n",
       "      <td>100006</td>\n",
       "      <td>1.0</td>\n",
       "      <td>500</td>\n",
       "      <td>281</td>\n",
       "      <td>3.251320</td>\n",
       "      <td>0.750009</td>\n",
       "      <td>1.074</td>\n",
       "    </tr>\n",
       "    <tr>\n",
       "      <th>26</th>\n",
       "      <td>100007</td>\n",
       "      <td>1.0</td>\n",
       "      <td>500</td>\n",
       "      <td>264</td>\n",
       "      <td>3.636191</td>\n",
       "      <td>0.786024</td>\n",
       "      <td>0.777</td>\n",
       "    </tr>\n",
       "    <tr>\n",
       "      <th>27</th>\n",
       "      <td>100007</td>\n",
       "      <td>1.0</td>\n",
       "      <td>1000</td>\n",
       "      <td>545</td>\n",
       "      <td>3.677204</td>\n",
       "      <td>0.696172</td>\n",
       "      <td>1.207</td>\n",
       "    </tr>\n",
       "    <tr>\n",
       "      <th>28</th>\n",
       "      <td>100008</td>\n",
       "      <td>1.0</td>\n",
       "      <td>100</td>\n",
       "      <td>54</td>\n",
       "      <td>3.033020</td>\n",
       "      <td>0.507473</td>\n",
       "      <td>0.574</td>\n",
       "    </tr>\n",
       "    <tr>\n",
       "      <th>30</th>\n",
       "      <td>100008</td>\n",
       "      <td>1.0</td>\n",
       "      <td>500</td>\n",
       "      <td>279</td>\n",
       "      <td>3.793124</td>\n",
       "      <td>1.469808</td>\n",
       "      <td>0.973</td>\n",
       "    </tr>\n",
       "    <tr>\n",
       "      <th>32</th>\n",
       "      <td>100009</td>\n",
       "      <td>1.0</td>\n",
       "      <td>100</td>\n",
       "      <td>54</td>\n",
       "      <td>3.581938</td>\n",
       "      <td>2.694669</td>\n",
       "      <td>0.848</td>\n",
       "    </tr>\n",
       "    <tr>\n",
       "      <th>37</th>\n",
       "      <td>100010</td>\n",
       "      <td>1.0</td>\n",
       "      <td>200</td>\n",
       "      <td>99</td>\n",
       "      <td>4.046234</td>\n",
       "      <td>2.235985</td>\n",
       "      <td>0.707</td>\n",
       "    </tr>\n",
       "    <tr>\n",
       "      <th>39</th>\n",
       "      <td>100010</td>\n",
       "      <td>1.0</td>\n",
       "      <td>1000</td>\n",
       "      <td>557</td>\n",
       "      <td>3.818164</td>\n",
       "      <td>1.121748</td>\n",
       "      <td>0.809</td>\n",
       "    </tr>\n",
       "  </tbody>\n",
       "</table>\n",
       "</div>"
      ],
      "text/plain": [
       "      seed  power  osize  tsize      mraw         m      k\n",
       "1   100001    1.0    200    115  3.369934  0.613447  0.801\n",
       "6   100002    1.0    500    276  3.922099  0.579540  1.199\n",
       "7   100002    1.0   1000    550  3.569381  0.857501  1.191\n",
       "9   100003    1.0    200    113  4.412233  1.233054  0.754\n",
       "10  100003    1.0    500    296  3.838812  1.192370  0.988\n",
       "11  100003    1.0   1000    556  4.035475  0.673378  1.363\n",
       "18  100005    1.0    500    270  3.979253  0.658652  1.113\n",
       "22  100006    1.0    500    281  3.251320  0.750009  1.074\n",
       "26  100007    1.0    500    264  3.636191  0.786024  0.777\n",
       "27  100007    1.0   1000    545  3.677204  0.696172  1.207\n",
       "28  100008    1.0    100     54  3.033020  0.507473  0.574\n",
       "30  100008    1.0    500    279  3.793124  1.469808  0.973\n",
       "32  100009    1.0    100     54  3.581938  2.694669  0.848\n",
       "37  100010    1.0    200     99  4.046234  2.235985  0.707\n",
       "39  100010    1.0   1000    557  3.818164  1.121748  0.809"
      ]
     },
     "execution_count": 12,
     "metadata": {},
     "output_type": "execute_result"
    }
   ],
   "source": [
    "#the task implicitly assumes that the result WAS acceptable prior to fluence threshold messup.\n",
    "#otherwise, can't differentiate effects of messup. was it already messed up or is it the fluence threshold?\n",
    "df[np.abs(df['k']-power) < 0.5]"
   ]
  },
  {
   "cell_type": "markdown",
   "id": "f1414319",
   "metadata": {},
   "source": [
    "### Test one sample first"
   ]
  },
  {
   "cell_type": "code",
   "execution_count": 43,
   "id": "f3940e52",
   "metadata": {},
   "outputs": [],
   "source": [
    "x, y = recover_sample(pdSeries=df.iloc[1])\n",
    "#suppose that the survey had a true, definitive cutoff of 2 Jy ms:\n",
    "ylims = E_v(2.0, x, *[1.5])\n",
    "x = x[y > ylims]\n",
    "y = y[y > ylims]"
   ]
  },
  {
   "cell_type": "code",
   "execution_count": 44,
   "id": "e41be35a",
   "metadata": {},
   "outputs": [
    {
     "data": {
      "text/plain": [
       "Text(0.5, 0, 'z')"
      ]
     },
     "execution_count": 44,
     "metadata": {},
     "output_type": "execute_result"
    },
    {
     "data": {
      "image/png": "[encoded data removed]",
      "text/plain": [
       "<Figure size 432x288 with 1 Axes>"
      ]
     },
     "metadata": {
      "needs_background": "light"
     },
     "output_type": "display_data"
    }
   ],
   "source": [
    "plt.scatter(x, y, marker='.')\n",
    "plt.plot(np.sort(x), E_v(2, np.sort(x), *[1.5]), color='orange')\n",
    "plt.ylim([10**22.5, 1e27])\n",
    "#plt.xlim([0,2.2])\n",
    "plt.yscale('log')\n",
    "plt.ylabel('E')\n",
    "plt.xlabel('z')"
   ]
  },
  {
   "cell_type": "code",
   "execution_count": 45,
   "id": "f4f5a679",
   "metadata": {},
   "outputs": [],
   "source": [
    "Flims = np.linspace(0, 4, 11)\n",
    "ks = np.zeros(len(Flims))\n",
    "\n",
    "for i, Flim in enumerate(Flims):\n",
    "    ks[i] = findtau0(x, y, power=power, Flim=Flim)"
   ]
  },
  {
   "cell_type": "code",
   "execution_count": 46,
   "id": "96ed3787",
   "metadata": {},
   "outputs": [
    {
     "data": {
      "image/png": "[encoded data removed]",
      "text/plain": [
       "<Figure size 432x288 with 1 Axes>"
      ]
     },
     "metadata": {
      "needs_background": "light"
     },
     "output_type": "display_data"
    }
   ],
   "source": [
    "plt.plot(Flims, ks)\n",
    "#plt.xscale('log')\n",
    "plt.hlines([power-1, power, power+1], 0, 4, color='orange')\n",
    "plt.xlabel('fluence threshold')\n",
    "plt.ylabel('k')\n",
    "plt.show()"
   ]
  },
  {
   "cell_type": "markdown",
   "id": "8b0a1a32",
   "metadata": {},
   "source": [
    "## Run the code for multiple samples"
   ]
  },
  {
   "cell_type": "code",
   "execution_count": 47,
   "id": "0c56cb10",
   "metadata": {},
   "outputs": [
    {
     "name": "stdout",
     "output_type": "stream",
     "text": [
      "0/36 is done\n",
      "4/36 is done\n",
      "8/36 is done\n",
      "12/36 is done\n",
      "16/36 is done\n",
      "20/36 is done\n",
      "24/36 is done\n"
     ]
    },
    {
     "name": "stderr",
     "output_type": "stream",
     "text": [
      "/Users/williamhuang/software/python/petrosianfuncs/ktau.py:25: RuntimeWarning: invalid value encountered in reciprocal\n",
      "  return (1+z)**k\n"
     ]
    },
    {
     "name": "stdout",
     "output_type": "stream",
     "text": [
      "28/36 is done\n",
      "32/36 is done\n",
      "36/36 is done\n"
     ]
    }
   ],
   "source": [
    "#run for all samples of size {size}\n",
    "allks = []\n",
    "size = 100\n",
    "\n",
    "for i in df[df['osize'] == size].index:\n",
    "    x, y = recover_sample(pdSeries=df.iloc[i])\n",
    "    #suppose that the survey had a true, definitive cutoff of 2 Jy ms:\n",
    "    ylims = E_v(2.0, x, *[1.5])\n",
    "    x = x[y > ylims]\n",
    "    y = y[y > ylims]\n",
    "    \n",
    "    Flims = np.linspace(0, 4, 11)\n",
    "    ks = np.zeros(len(Flims))\n",
    "\n",
    "    for j, Flim in enumerate(Flims):\n",
    "        ks[j] = findtau0(x, y, power=power, Flim=Flim)\n",
    "    \n",
    "    allks.append(ks)\n",
    "    print(f'{i}/36 is done')"
   ]
  },
  {
   "cell_type": "code",
   "execution_count": 48,
   "id": "53fa2494",
   "metadata": {},
   "outputs": [
    {
     "data": {
      "image/png": "[encoded data removed]",
      "text/plain": [
       "<Figure size 432x288 with 1 Axes>"
      ]
     },
     "metadata": {
      "needs_background": "light"
     },
     "output_type": "display_data"
    }
   ],
   "source": [
    "Flims = np.linspace(0, 4, 11)\n",
    "for i in range(len(allks)):\n",
    "    plt.plot(Flims, allks[i])\n",
    "plt.hlines([power-1,power,power+1], 0, 4, color='black', linestyle='--', label='true k$\\\\pm 1$')\n",
    "plt.vlines(2.0, power-4, power+7, color='gray', label='true threshold')\n",
    "plt.title(f'Effect of Threshold on k, k = {power}, Original Sample Size {size}')\n",
    "plt.xlabel('Fluence threshold (Jy ms)')\n",
    "plt.ylabel('k')\n",
    "plt.ylim([power-4,power+7])\n",
    "plt.legend()\n",
    "#plt.savefig(f'../../k={power}_osize={size}.png', dpi=600)\n",
    "plt.show()"
   ]
  },
  {
   "cell_type": "markdown",
   "id": "cd65c795",
   "metadata": {},
   "source": [
    "# #3: Determine z, E distributions"
   ]
  },
  {
   "cell_type": "markdown",
   "id": "893e9210",
   "metadata": {},
   "source": [
    "## z distributions"
   ]
  },
  {
   "cell_type": "code",
   "execution_count": 14,
   "id": "2e9a24e8",
   "metadata": {},
   "outputs": [
    {
     "data": {
      "text/html": [
       "<div>\n",
       "<style scoped>\n",
       "    .dataframe tbody tr th:only-of-type {\n",
       "        vertical-align: middle;\n",
       "    }\n",
       "\n",
       "    .dataframe tbody tr th {\n",
       "        vertical-align: top;\n",
       "    }\n",
       "\n",
       "    .dataframe thead th {\n",
       "        text-align: right;\n",
       "    }\n",
       "</style>\n",
       "<table border=\"1\" class=\"dataframe\">\n",
       "  <thead>\n",
       "    <tr style=\"text-align: right;\">\n",
       "      <th></th>\n",
       "      <th>seed</th>\n",
       "      <th>power</th>\n",
       "      <th>osize</th>\n",
       "      <th>tsize</th>\n",
       "      <th>mraw</th>\n",
       "      <th>m</th>\n",
       "      <th>k</th>\n",
       "    </tr>\n",
       "  </thead>\n",
       "  <tbody>\n",
       "    <tr>\n",
       "      <th>3</th>\n",
       "      <td>300001</td>\n",
       "      <td>3.0</td>\n",
       "      <td>1000</td>\n",
       "      <td>434</td>\n",
       "      <td>5.200179</td>\n",
       "      <td>3.089352</td>\n",
       "      <td>3.238</td>\n",
       "    </tr>\n",
       "    <tr>\n",
       "      <th>7</th>\n",
       "      <td>300002</td>\n",
       "      <td>3.0</td>\n",
       "      <td>1000</td>\n",
       "      <td>488</td>\n",
       "      <td>5.352938</td>\n",
       "      <td>3.020152</td>\n",
       "      <td>1.934</td>\n",
       "    </tr>\n",
       "    <tr>\n",
       "      <th>11</th>\n",
       "      <td>300003</td>\n",
       "      <td>3.0</td>\n",
       "      <td>1000</td>\n",
       "      <td>458</td>\n",
       "      <td>5.281497</td>\n",
       "      <td>3.313914</td>\n",
       "      <td>2.887</td>\n",
       "    </tr>\n",
       "    <tr>\n",
       "      <th>15</th>\n",
       "      <td>300004</td>\n",
       "      <td>3.0</td>\n",
       "      <td>1000</td>\n",
       "      <td>461</td>\n",
       "      <td>5.218821</td>\n",
       "      <td>2.481454</td>\n",
       "      <td>3.746</td>\n",
       "    </tr>\n",
       "    <tr>\n",
       "      <th>19</th>\n",
       "      <td>300005</td>\n",
       "      <td>3.0</td>\n",
       "      <td>1000</td>\n",
       "      <td>429</td>\n",
       "      <td>5.720476</td>\n",
       "      <td>3.465134</td>\n",
       "      <td>3.238</td>\n",
       "    </tr>\n",
       "    <tr>\n",
       "      <th>23</th>\n",
       "      <td>300006</td>\n",
       "      <td>3.0</td>\n",
       "      <td>1000</td>\n",
       "      <td>478</td>\n",
       "      <td>4.936587</td>\n",
       "      <td>3.033719</td>\n",
       "      <td>0.871</td>\n",
       "    </tr>\n",
       "    <tr>\n",
       "      <th>27</th>\n",
       "      <td>300007</td>\n",
       "      <td>3.0</td>\n",
       "      <td>1000</td>\n",
       "      <td>452</td>\n",
       "      <td>5.357363</td>\n",
       "      <td>3.213464</td>\n",
       "      <td>3.230</td>\n",
       "    </tr>\n",
       "    <tr>\n",
       "      <th>31</th>\n",
       "      <td>300008</td>\n",
       "      <td>3.0</td>\n",
       "      <td>1000</td>\n",
       "      <td>472</td>\n",
       "      <td>4.958127</td>\n",
       "      <td>3.059100</td>\n",
       "      <td>3.129</td>\n",
       "    </tr>\n",
       "    <tr>\n",
       "      <th>35</th>\n",
       "      <td>300009</td>\n",
       "      <td>3.0</td>\n",
       "      <td>1000</td>\n",
       "      <td>457</td>\n",
       "      <td>5.216666</td>\n",
       "      <td>3.255309</td>\n",
       "      <td>2.410</td>\n",
       "    </tr>\n",
       "    <tr>\n",
       "      <th>39</th>\n",
       "      <td>300010</td>\n",
       "      <td>3.0</td>\n",
       "      <td>1000</td>\n",
       "      <td>481</td>\n",
       "      <td>5.339999</td>\n",
       "      <td>3.205103</td>\n",
       "      <td>3.434</td>\n",
       "    </tr>\n",
       "  </tbody>\n",
       "</table>\n",
       "</div>"
      ],
      "text/plain": [
       "      seed  power  osize  tsize      mraw         m      k\n",
       "3   300001    3.0   1000    434  5.200179  3.089352  3.238\n",
       "7   300002    3.0   1000    488  5.352938  3.020152  1.934\n",
       "11  300003    3.0   1000    458  5.281497  3.313914  2.887\n",
       "15  300004    3.0   1000    461  5.218821  2.481454  3.746\n",
       "19  300005    3.0   1000    429  5.720476  3.465134  3.238\n",
       "23  300006    3.0   1000    478  4.936587  3.033719  0.871\n",
       "27  300007    3.0   1000    452  5.357363  3.213464  3.230\n",
       "31  300008    3.0   1000    472  4.958127  3.059100  3.129\n",
       "35  300009    3.0   1000    457  5.216666  3.255309  2.410\n",
       "39  300010    3.0   1000    481  5.339999  3.205103  3.434"
      ]
     },
     "execution_count": 14,
     "metadata": {},
     "output_type": "execute_result"
    }
   ],
   "source": [
    "df[df['osize'] == 1000]"
   ]
  },
  {
   "cell_type": "code",
   "execution_count": 15,
   "id": "f81604ff",
   "metadata": {},
   "outputs": [
    {
     "data": {
      "text/html": [
       "<div>\n",
       "<style scoped>\n",
       "    .dataframe tbody tr th:only-of-type {\n",
       "        vertical-align: middle;\n",
       "    }\n",
       "\n",
       "    .dataframe tbody tr th {\n",
       "        vertical-align: top;\n",
       "    }\n",
       "\n",
       "    .dataframe thead th {\n",
       "        text-align: right;\n",
       "    }\n",
       "</style>\n",
       "<table border=\"1\" class=\"dataframe\">\n",
       "  <thead>\n",
       "    <tr style=\"text-align: right;\">\n",
       "      <th></th>\n",
       "      <th>seed</th>\n",
       "      <th>power</th>\n",
       "      <th>osize</th>\n",
       "      <th>tsize</th>\n",
       "      <th>mraw</th>\n",
       "      <th>m</th>\n",
       "      <th>k</th>\n",
       "    </tr>\n",
       "  </thead>\n",
       "  <tbody>\n",
       "    <tr>\n",
       "      <th>3</th>\n",
       "      <td>300001</td>\n",
       "      <td>3.0</td>\n",
       "      <td>1000</td>\n",
       "      <td>434</td>\n",
       "      <td>5.200179</td>\n",
       "      <td>3.089352</td>\n",
       "      <td>3.238</td>\n",
       "    </tr>\n",
       "    <tr>\n",
       "      <th>8</th>\n",
       "      <td>300003</td>\n",
       "      <td>3.0</td>\n",
       "      <td>100</td>\n",
       "      <td>46</td>\n",
       "      <td>4.942765</td>\n",
       "      <td>2.630484</td>\n",
       "      <td>2.902</td>\n",
       "    </tr>\n",
       "    <tr>\n",
       "      <th>11</th>\n",
       "      <td>300003</td>\n",
       "      <td>3.0</td>\n",
       "      <td>1000</td>\n",
       "      <td>458</td>\n",
       "      <td>5.281497</td>\n",
       "      <td>3.313914</td>\n",
       "      <td>2.887</td>\n",
       "    </tr>\n",
       "    <tr>\n",
       "      <th>19</th>\n",
       "      <td>300005</td>\n",
       "      <td>3.0</td>\n",
       "      <td>1000</td>\n",
       "      <td>429</td>\n",
       "      <td>5.720476</td>\n",
       "      <td>3.465134</td>\n",
       "      <td>3.238</td>\n",
       "    </tr>\n",
       "    <tr>\n",
       "      <th>24</th>\n",
       "      <td>300007</td>\n",
       "      <td>3.0</td>\n",
       "      <td>100</td>\n",
       "      <td>44</td>\n",
       "      <td>5.726703</td>\n",
       "      <td>4.757797</td>\n",
       "      <td>3.168</td>\n",
       "    </tr>\n",
       "    <tr>\n",
       "      <th>27</th>\n",
       "      <td>300007</td>\n",
       "      <td>3.0</td>\n",
       "      <td>1000</td>\n",
       "      <td>452</td>\n",
       "      <td>5.357363</td>\n",
       "      <td>3.213464</td>\n",
       "      <td>3.230</td>\n",
       "    </tr>\n",
       "    <tr>\n",
       "      <th>29</th>\n",
       "      <td>300008</td>\n",
       "      <td>3.0</td>\n",
       "      <td>200</td>\n",
       "      <td>101</td>\n",
       "      <td>4.756104</td>\n",
       "      <td>3.068425</td>\n",
       "      <td>2.988</td>\n",
       "    </tr>\n",
       "    <tr>\n",
       "      <th>30</th>\n",
       "      <td>300008</td>\n",
       "      <td>3.0</td>\n",
       "      <td>500</td>\n",
       "      <td>235</td>\n",
       "      <td>4.753593</td>\n",
       "      <td>2.767340</td>\n",
       "      <td>3.121</td>\n",
       "    </tr>\n",
       "    <tr>\n",
       "      <th>31</th>\n",
       "      <td>300008</td>\n",
       "      <td>3.0</td>\n",
       "      <td>1000</td>\n",
       "      <td>472</td>\n",
       "      <td>4.958127</td>\n",
       "      <td>3.059100</td>\n",
       "      <td>3.129</td>\n",
       "    </tr>\n",
       "  </tbody>\n",
       "</table>\n",
       "</div>"
      ],
      "text/plain": [
       "      seed  power  osize  tsize      mraw         m      k\n",
       "3   300001    3.0   1000    434  5.200179  3.089352  3.238\n",
       "8   300003    3.0    100     46  4.942765  2.630484  2.902\n",
       "11  300003    3.0   1000    458  5.281497  3.313914  2.887\n",
       "19  300005    3.0   1000    429  5.720476  3.465134  3.238\n",
       "24  300007    3.0    100     44  5.726703  4.757797  3.168\n",
       "27  300007    3.0   1000    452  5.357363  3.213464  3.230\n",
       "29  300008    3.0    200    101  4.756104  3.068425  2.988\n",
       "30  300008    3.0    500    235  4.753593  2.767340  3.121\n",
       "31  300008    3.0   1000    472  4.958127  3.059100  3.129"
      ]
     },
     "execution_count": 15,
     "metadata": {},
     "output_type": "execute_result"
    }
   ],
   "source": [
    "df[abs((df['k']-power))<0.3]"
   ]
  },
  {
   "cell_type": "code",
   "execution_count": 46,
   "id": "30f7579e",
   "metadata": {},
   "outputs": [
    {
     "data": {
      "text/plain": [
       "<matplotlib.legend.Legend at 0x7f89ddb50d60>"
      ]
     },
     "execution_count": 46,
     "metadata": {},
     "output_type": "execute_result"
    },
    {
     "data": {
      "image/png": "[encoded data removed]",
      "text/plain": [
       "<Figure size 432x288 with 1 Axes>"
      ]
     },
     "metadata": {
      "needs_background": "light"
     },
     "output_type": "display_data"
    }
   ],
   "source": [
    "x, y = recover_sample(pdSeries=df.iloc[3])\n",
    "#suppose that the survey had a true, definitive cutoff of 2 Jy ms:\n",
    "ylims = E_v(2.0, x, *[1.5])\n",
    "k=0\n",
    "plt.plot(sorted(x[x<2.2]),sorted(ylims[x<2.2])/g_new(np.sort(x[x<2.2]), k), color='orange', label='$g_{\\\\mathrm{new}}$')\n",
    "plt.plot(sorted(x[x<2.2]),sorted(ylims[x<2.2])/g(np.sort(x[x<2.2]), k), color='red', label='$g_{\\\\mathrm{old}}$')\n",
    "#plt.scatter(x[x<2.2], y[x<2.2]/g(x[x<2.2], 4), marker='.')\n",
    "x = x[y > ylims]\n",
    "y = y[y > ylims]\n",
    "y = y[x < 2.2]\n",
    "x = x[x < 2.2]\n",
    "\n",
    "plt.title('$k=3$')\n",
    "plt.scatter(x,y/g(x,k), marker='.')\n",
    "plt.yscale('log')\n",
    "plt.legend()\n",
    "#plt.savefig('../../difference_k=7.png', dpi=600)"
   ]
  },
  {
   "cell_type": "code",
   "execution_count": 33,
   "id": "cc391da1",
   "metadata": {},
   "outputs": [],
   "source": [
    "# x, y = recover_sample(power=3,seed=300004,osize=1000)\n",
    "# ylims = E_v(2.0, x, *[1.5])\n",
    "# x = x[y > ylims]\n",
    "# y = y[y > ylims]\n",
    "# y = y[x < 2.2]\n",
    "# x = x[x < 2.2]"
   ]
  },
  {
   "cell_type": "code",
   "execution_count": 34,
   "id": "09badc02",
   "metadata": {},
   "outputs": [
    {
     "data": {
      "image/png": "[encoded data removed]",
      "text/plain": [
       "<Figure size 432x288 with 1 Axes>"
      ]
     },
     "metadata": {
      "needs_background": "light"
     },
     "output_type": "display_data"
    }
   ],
   "source": [
    "plt.scatter(x,y, marker='.')\n",
    "plt.yscale('log')"
   ]
  },
  {
   "cell_type": "code",
   "execution_count": 35,
   "id": "8a8dbf5e",
   "metadata": {},
   "outputs": [
    {
     "name": "stdout",
     "output_type": "stream",
     "text": [
      "3.238\n"
     ]
    }
   ],
   "source": [
    "k = findtau0(x,y,power=3, Flim=2.0)\n",
    "print(k)"
   ]
  },
  {
   "cell_type": "code",
   "execution_count": 36,
   "id": "80ec32f4",
   "metadata": {},
   "outputs": [],
   "source": [
    "x_, y_ = sort_by_first(x, y)\n",
    "sigmas, zs = sigma_z(y_, x_, 2.0, k=k)"
   ]
  },
  {
   "cell_type": "code",
   "execution_count": 37,
   "id": "94430047",
   "metadata": {},
   "outputs": [],
   "source": [
    "from scipy.special import erf\n",
    "def logerf(x, mu, sigma, b):\n",
    "    return 0.5*(1+erf((np.log(x-b)-mu)/(sigma*2**0.5)))\n",
    "\n",
    "def lognorm(x, mu, sigma, b):\n",
    "    return (1/(x*sigma*(2*np.pi)**0.5))*np.exp(-np.power((np.log(x-b)-mu), 2)/(2*sigma**2))"
   ]
  },
  {
   "cell_type": "code",
   "execution_count": 38,
   "id": "9ae4a493",
   "metadata": {},
   "outputs": [],
   "source": [
    "def lerf(x, mu, sigma, C):\n",
    "    return C*logerf(x, mu, sigma, 0.1)\n",
    "\n",
    "def lnorm(x, mu, sigma, C):\n",
    "    return C*lognorm(x, mu, sigma, 0.1)\n",
    "\n",
    "import scipy.optimize as opt\n",
    "\n",
    "guess = [-1.0, 1.0, 500]\n",
    "bounds = [[-3, 0, 0], [1, 4, 10000]]"
   ]
  },
  {
   "cell_type": "code",
   "execution_count": 39,
   "id": "46d64cd0",
   "metadata": {},
   "outputs": [
    {
     "name": "stdout",
     "output_type": "stream",
     "text": [
      "starting fitting\n",
      "done\n",
      "[ -0.97951173   1.01007668 723.35230973]\n"
     ]
    }
   ],
   "source": [
    "print('starting fitting')\n",
    "optsig, pcov = opt.curve_fit(lerf, zs, sigmas, guess, bounds=bounds) \n",
    "print('done')\n",
    "print(optsig)"
   ]
  },
  {
   "cell_type": "code",
   "execution_count": 40,
   "id": "482c3d66",
   "metadata": {},
   "outputs": [
    {
     "data": {
      "image/png": "[encoded data removed]",
      "text/plain": [
       "<Figure size 432x288 with 1 Axes>"
      ]
     },
     "metadata": {
      "needs_background": "light"
     },
     "output_type": "display_data"
    }
   ],
   "source": [
    "plt.scatter(zs, sigmas, marker='.', label='$\\\\dot{\\\\sigma}(z)$')\n",
    "plt.plot(zs, lerf(zs, *optsig), color='orange', label='best fit line')\n",
    "plt.legend()\n",
    "plt.title(f'k={power} ' + '$\\\\dot{\\\\sigma}(z)$')\n",
    "plt.ylabel('$\\\\dot{\\\\sigma}$')\n",
    "plt.xlabel('z')\n",
    "#plt.savefig(f'../../k={power}_dotsigma.png', dpi=600)\n",
    "plt.show()"
   ]
  },
  {
   "cell_type": "code",
   "execution_count": 41,
   "id": "8dd9f67b",
   "metadata": {},
   "outputs": [
    {
     "data": {
      "text/plain": [
       "Text(0.5, 0, 'z')"
      ]
     },
     "execution_count": 41,
     "metadata": {},
     "output_type": "execute_result"
    },
    {
     "data": {
      "image/png": "[encoded data removed]",
      "text/plain": [
       "<Figure size 432x288 with 1 Axes>"
      ]
     },
     "metadata": {
      "needs_background": "light"
     },
     "output_type": "display_data"
    }
   ],
   "source": [
    "plt.plot(zs, lnorm(zs, *optsig), label='calculated z distr')\n",
    "plt.plot(zs, 1000*lognorm(zs, -1, 1, 0.1), label='true z distr')\n",
    "plt.legend()\n",
    "plt.title(f'k={power} z distribution comparison')\n",
    "plt.ylabel('dN/dz')\n",
    "plt.xlabel('z')\n",
    "#plt.savefig(f'../../k={power}_zdistr.png', dpi=600)"
   ]
  },
  {
   "cell_type": "markdown",
   "id": "ce4c07bd",
   "metadata": {},
   "source": [
    "## E distributions"
   ]
  },
  {
   "cell_type": "code",
   "execution_count": 42,
   "id": "1c4d6870",
   "metadata": {},
   "outputs": [
    {
     "data": {
      "image/png": "[encoded data removed]",
      "text/plain": [
       "<Figure size 432x288 with 1 Axes>"
      ]
     },
     "metadata": {
      "needs_background": "light"
     },
     "output_type": "display_data"
    }
   ],
   "source": [
    "plt.scatter(x, y, marker='.')\n",
    "plt.plot(np.sort(x), E_v(2.0, np.sort(x), *[1.5]), color='orange')\n",
    "plt.yscale('log')"
   ]
  },
  {
   "cell_type": "code",
   "execution_count": 43,
   "id": "e8a9b42b",
   "metadata": {},
   "outputs": [],
   "source": [
    "phi, E_, E_raw_k = phi_E(y, x, 2.0, func=z_E, k=3, g=g)"
   ]
  },
  {
   "cell_type": "code",
   "execution_count": 47,
   "id": "97ce69b4",
   "metadata": {},
   "outputs": [
    {
     "data": {
      "image/png": "[encoded data removed]",
      "text/plain": [
       "<Figure size 432x288 with 1 Axes>"
      ]
     },
     "metadata": {
      "needs_background": "light"
     },
     "output_type": "display_data"
    }
   ],
   "source": [
    "plt.scatter(E_, phi, marker='.', label='calculated')\n",
    "xx = np.logspace(23, 26, 100)\n",
    "yy = 5.5e8*(np.power(xx, -0.2)- (1e26)**(-0.2))*0.1\n",
    "plt.plot(xx/(1.5)**3,yy,color='orange', label='expected')\n",
    "\n",
    "plt.ylabel('$\\\\phi(E\\')$')\n",
    "plt.xlabel('E\\'')\n",
    "plt.xscale('log')\n",
    "plt.title(f'k={power} $\\\\phi(E\\')$')\n",
    "plt.yscale('log')\n",
    "plt.legend()\n",
    "#plt.savefig(f'../../k={power}_phiE.png', dpi=600)"
   ]
  },
  {
   "cell_type": "code",
   "execution_count": 183,
   "id": "b525e6bc",
   "metadata": {},
   "outputs": [
    {
     "data": {
      "text/plain": [
       "<matplotlib.collections.LineCollection at 0x7fb722666940>"
      ]
     },
     "execution_count": 183,
     "metadata": {},
     "output_type": "execute_result"
    },
    {
     "data": {
      "image/png": "[encoded data removed]",
      "text/plain": [
       "<Figure size 432x288 with 1 Axes>"
      ]
     },
     "metadata": {
      "needs_background": "light"
     },
     "output_type": "display_data"
    }
   ],
   "source": [
    "plt.hist(df['tsize']/df['osize'])\n",
    "plt.vlines(0.6186440677966102, 0, 40, color='orange')"
   ]
  },
  {
   "cell_type": "code",
   "execution_count": null,
   "id": "dcf1523c",
   "metadata": {},
   "outputs": [],
   "source": []
  }
 ],
 "metadata": {
  "kernelspec": {
   "display_name": "Python 3.8.9 64-bit",
   "language": "python",
   "name": "python3"
  },
  "language_info": {
   "codemirror_mode": {
    "name": "ipython",
    "version": 3
   },
   "file_extension": ".py",
   "mimetype": "text/x-python",
   "name": "python",
   "nbconvert_exporter": "python",
   "pygments_lexer": "ipython3",
   "version": "3.8.9"
  },
  "vscode": {
   "interpreter": {
    "hash": "31f2aee4e71d21fbe5cf8b01ff0e069b9275f58929596ceb00d14d90e3e16cd6"
   }
  }
 },
 "nbformat": 4,
 "nbformat_minor": 5
}
