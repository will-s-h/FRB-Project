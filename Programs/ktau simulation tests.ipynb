{
 "cells": [
  {
   "cell_type": "code",
   "execution_count": 1,
   "id": "6624a8d6",
   "metadata": {},
   "outputs": [],
   "source": [
    "import sys\n",
    "import os\n",
    "import matplotlib.pyplot as plt\n",
    "sys.path.append(os.path.abspath(\"../petrosianfuncs\")) # add petrosianfuncs folder as a possible candidate to search functions\n",
    "from ktau import * #import all ktau functions\n",
    "#the above also imports numpy as np, pandas as pd, and * from petrosianfuncs.cosmology "
   ]
  },
  {
   "cell_type": "markdown",
   "id": "ff13c535",
   "metadata": {},
   "source": [
    "# Functions to Test Kendall Tau\n",
    "- using random samples with a lognormal distribution in z and a log-random distribution in E"
   ]
  },
  {
   "cell_type": "markdown",
   "id": "03523374",
   "metadata": {},
   "source": [
    "## Functions"
   ]
  },
  {
   "cell_type": "code",
   "execution_count": 3,
   "id": "d2fa7166",
   "metadata": {},
   "outputs": [],
   "source": [
    "def rndm(a, b, g, size=1, seed=0):\n",
    "    '''Power-law gen for pdf(x)\\propto x^g for a<=x<=b'''\n",
    "    if g >= -1:\n",
    "        raise ValueError('g cannot be >= -1')\n",
    "    \n",
    "    g += 1\n",
    "    rng = np.random.default_rng(seed)\n",
    "    r = rng.random(size)\n",
    "    ag, bg = a**g, b**g\n",
    "    return (ag + (bg - ag)*r)**(1./g)"
   ]
  },
  {
   "cell_type": "code",
   "execution_count": 4,
   "id": "014860a3",
   "metadata": {},
   "outputs": [],
   "source": [
    "def recover_sample(seed=0, power=3, osize=200, pdSeries=None):\n",
    "    if pdSeries is not None: #overrides all other settings\n",
    "        seed = int(pdSeries['seed'])\n",
    "        power = pdSeries['power']\n",
    "        osize = int(pdSeries['osize'])\n",
    "    \n",
    "    #Generate Data\n",
    "    rng = np.random.default_rng(seed)\n",
    "    x = rng.lognormal(mean=-1.0, sigma=1.0, size=osize)+0.1\n",
    "    #y = np.power(10, (rng.random(osize)*3+23))*g_new(x,power)*((1+x)/1.5)**power\n",
    "    y = rndm(10**23, 10**26, -1.2, size=osize, seed=seed)*((1+x)/1.5)**power#*g_new(x,power)/(1.45**power)\n",
    "    \n",
    "    return x, y\n",
    "\n",
    "def lowest_nonnegative(arr):\n",
    "    #searching an array for first the lowest possible nonnegative k\n",
    "    #then the lowest absolute magnitude negative k\n",
    "    \n",
    "    if (sum(arr >= 0) != 0): #if there exists a nonnegative:\n",
    "        return sorted(arr[arr >= 0])[0]\n",
    "    else: #only negatives\n",
    "        return sorted(arr)[len(arr)-1]\n",
    "\n",
    "def findtau0(x, y, power=3, Flim = 2.0, params=[1.5], func=E_v, g=g):\n",
    "    #Clean Up Data\n",
    "    ylims = func(Flim, x, *params)\n",
    "    xcleans = x[np.logical_and(y > ylims, x<2.2)]\n",
    "    ycleans = y[np.logical_and(y > ylims, x<2.2)]\n",
    "    \n",
    "    #Commence Broad Search\n",
    "    ks = np.linspace(power-10,power+10,11)\n",
    "    taus = np.zeros(len(ks))\n",
    "\n",
    "    for i, k in enumerate(ks):\n",
    "        taus[i] = ktau(ycleans, xcleans, Flim, func=func, g=g, k=k, params=params)\n",
    "    \n",
    "    zer = np.argwhere(np.diff(np.sign(taus))).flatten()\n",
    "    \n",
    "    if len(zer) > 1:\n",
    "        print('WARNING: multiple tau=0 instances. Proceeding starting with lowest nonnegative k.')\n",
    "    \n",
    "    elif len(zer) == 0:\n",
    "        print('WARNING: no tau=0 instances')\n",
    "        if sum(taus > 0) == len(taus):\n",
    "            return 999\n",
    "        elif sum(taus > 0) == 0:\n",
    "            return -999\n",
    "        print('EXTRA WARNING: wtf this should never happen')\n",
    "        return np.nan\n",
    "    \n",
    "    klow = lowest_nonnegative(ks[zer]) # should have tau > 0\n",
    "    khigh = klow + (ks[1]-ks[0]) #klow + dk, should have tau < 0\n",
    "    \n",
    "    #Commence binary search in this region, assuming a monotonic function\n",
    "    while (khigh-klow) > 0.01:\n",
    "        mid = (khigh+klow)/2\n",
    "        tau_ = ktau(ycleans, xcleans, Flim, func=func, g=g, k=mid, params=params)\n",
    "        if tau_ == 0:\n",
    "            return mid\n",
    "        if tau_ > 0:\n",
    "            klow = mid\n",
    "        else:\n",
    "            khigh = mid\n",
    "    \n",
    "    return round((khigh+klow)/2, 3)"
   ]
  },
  {
   "cell_type": "code",
   "execution_count": 5,
   "id": "3005ea7e",
   "metadata": {},
   "outputs": [],
   "source": [
    "def g_new(z, k): #The improved g-function, which transforms luminosities\n",
    "    Z = z+1\n",
    "    Z_c = 3.5\n",
    "    n = 3\n",
    "    return Z**k/(1+(Z/Z_c)**n)**(k/n)"
   ]
  },
  {
   "cell_type": "code",
   "execution_count": 6,
   "id": "272b7b72",
   "metadata": {},
   "outputs": [],
   "source": [
    "def test_ktau(seed=0, power=3, osize=200):\n",
    "    #Generate Data\n",
    "    rng = np.random.default_rng(seed)\n",
    "    x = rng.lognormal(mean=-1.0, sigma=1.0,size=osize)+0.1\n",
    "    #y = np.power(10, (rng.random(osize)*3+23))*((1+x)/1.5)**power#*g_new(x,power)/(1.45**power)\n",
    "                                             #used to be ((1+x)/2)*power, now is ((1+x)/1.5)**power\n",
    "    y = rndm(10**23, 10**26, -1.2, size=osize, seed=seed)*((1+x)/1.5)**power #*g_new(x,power)/(1.45**power)\n",
    "    \n",
    "    #Clean Up Data\n",
    "    Flim, params, func = 2.0, [1.5], E_v\n",
    "    ylims = func(Flim, x, *params)\n",
    "    xcleans = x[np.logical_and(y > ylims, x<2.2)]\n",
    "    ycleans = y[np.logical_and(y > ylims, x<2.2)]\n",
    "    \n",
    "    #Best fit lines:\n",
    "    mraw, braw = np.polyfit(np.log10(1+xcleans), np.log10(ycleans), 1)\n",
    "    m,b=np.polyfit(np.log10(1+x[x<2.2]), np.log10(y[x<2.2]), 1)\n",
    "    \n",
    "    #Use Kendall Tau to calculate k:\n",
    "    k = findtau0(x, y, power=power, Flim=Flim, params=params, func=func, g=g)\n",
    "    \n",
    "    #return true number of points, raw slope, true slope, k\n",
    "    return len(xcleans), mraw, m, k"
   ]
  },
  {
   "cell_type": "markdown",
   "id": "90b4ae43",
   "metadata": {},
   "source": [
    "## Simulate"
   ]
  },
  {
   "cell_type": "code",
   "execution_count": 8,
   "id": "f7c532b4",
   "metadata": {
    "scrolled": true
   },
   "outputs": [
    {
     "name": "stdout",
     "output_type": "stream",
     "text": [
      "DONE WITH 1/20\n",
      "DONE WITH 2/20\n",
      "DONE WITH 3/20\n",
      "DONE WITH 4/20\n",
      "DONE WITH 5/20\n",
      "DONE WITH 6/20\n",
      "DONE WITH 7/20\n",
      "DONE WITH 8/20\n",
      "DONE WITH 9/20\n",
      "DONE WITH 10/20\n",
      "DONE WITH 11/20\n",
      "DONE WITH 12/20\n",
      "DONE WITH 13/20\n",
      "DONE WITH 14/20\n",
      "DONE WITH 15/20\n",
      "DONE WITH 16/20\n",
      "DONE WITH 17/20\n"
     ]
    },
    {
     "name": "stderr",
     "output_type": "stream",
     "text": [
      "/Users/williamhuang/Documents/GitHub/FRB Project/petrosianfuncs/ktau.py:25: RuntimeWarning: invalid value encountered in reciprocal\n",
      "  return (1+z)**k\n"
     ]
    },
    {
     "name": "stdout",
     "output_type": "stream",
     "text": [
      "DONE WITH 18/20\n",
      "DONE WITH 19/20\n",
      "DONE WITH 20/20\n",
      "****************DONE****************\n"
     ]
    }
   ],
   "source": [
    "seeds = [1, 2, 3, 4, 5]\n",
    "powers = [2]\n",
    "sizes = [100, 200, 500, 1000]#, 2000, 5000]\n",
    "\n",
    "length = len(seeds)*len(powers)*len(sizes)\n",
    "i=0\n",
    "\n",
    "info = []\n",
    "\n",
    "for seed in seeds:\n",
    "    for power in powers:\n",
    "        for size in sizes:\n",
    "            tseed = int(power*100000) + seed #update, use different seed for different power\n",
    "            tsize, mraw, m, k = test_ktau(seed=tseed, power=power, osize=size)\n",
    "            info.append(np.array([tseed, power, size, tsize, mraw, m, k]))\n",
    "            print(f'DONE WITH {i+1}/{length}')\n",
    "            i += 1\n",
    "            \n",
    "df = pd.DataFrame(data = np.stack(info), columns = ['seed', 'power', 'osize', 'tsize', 'mraw', 'm', 'k'])\n",
    "print('****************DONE****************')"
   ]
  },
  {
   "cell_type": "code",
   "execution_count": 9,
   "id": "426ee4e7",
   "metadata": {},
   "outputs": [
    {
     "data": {
      "text/html": [
       "<div>\n",
       "<style scoped>\n",
       "    .dataframe tbody tr th:only-of-type {\n",
       "        vertical-align: middle;\n",
       "    }\n",
       "\n",
       "    .dataframe tbody tr th {\n",
       "        vertical-align: top;\n",
       "    }\n",
       "\n",
       "    .dataframe thead th {\n",
       "        text-align: right;\n",
       "    }\n",
       "</style>\n",
       "<table border=\"1\" class=\"dataframe\">\n",
       "  <thead>\n",
       "    <tr style=\"text-align: right;\">\n",
       "      <th></th>\n",
       "      <th>seed</th>\n",
       "      <th>power</th>\n",
       "      <th>osize</th>\n",
       "      <th>tsize</th>\n",
       "      <th>mraw</th>\n",
       "      <th>m</th>\n",
       "      <th>k</th>\n",
       "    </tr>\n",
       "  </thead>\n",
       "  <tbody>\n",
       "    <tr>\n",
       "      <th>14</th>\n",
       "      <td>200004.0</td>\n",
       "      <td>2.0</td>\n",
       "      <td>500.0</td>\n",
       "      <td>249.0</td>\n",
       "      <td>5.386781</td>\n",
       "      <td>1.952869</td>\n",
       "      <td>4.223</td>\n",
       "    </tr>\n",
       "  </tbody>\n",
       "</table>\n",
       "</div>"
      ],
      "text/plain": [
       "        seed  power  osize  tsize      mraw         m      k\n",
       "14  200004.0    2.0  500.0  249.0  5.386781  1.952869  4.223"
      ]
     },
     "execution_count": 9,
     "metadata": {},
     "output_type": "execute_result"
    }
   ],
   "source": [
    "df.iloc[14:15]"
   ]
  },
  {
   "cell_type": "code",
   "execution_count": 10,
   "id": "534aefae",
   "metadata": {},
   "outputs": [
    {
     "data": {
      "text/plain": [
       "seed       int64\n",
       "power    float64\n",
       "osize      int64\n",
       "tsize      int64\n",
       "mraw     float64\n",
       "m        float64\n",
       "k        float64\n",
       "dtype: object"
      ]
     },
     "execution_count": 10,
     "metadata": {},
     "output_type": "execute_result"
    }
   ],
   "source": [
    "columns = ['seed', 'power', 'osize', 'tsize', 'mraw', 'm', 'k']\n",
    "dtypes  = {'seed':'int', 'power':'float', 'osize':'int', 'tsize':'int', 'mraw':'float', 'm':'float', 'k':'float'}\n",
    "\n",
    "df = df.astype(dtypes)\n",
    "df.dtypes"
   ]
  },
  {
   "cell_type": "markdown",
   "id": "a54b1e78",
   "metadata": {},
   "source": [
    "## Display Results"
   ]
  },
  {
   "cell_type": "code",
   "execution_count": 15,
   "id": "91018f4c",
   "metadata": {},
   "outputs": [
    {
     "data": {
      "text/plain": [
       "0     6.488\n",
       "4    -1.996\n",
       "8    -2.762\n",
       "12    6.762\n",
       "16    0.824\n",
       "Name: k, dtype: float64"
      ]
     },
     "execution_count": 15,
     "metadata": {},
     "output_type": "execute_result"
    }
   ],
   "source": [
    "#df[df['osize'] == 100]\n",
    "df[(df['power'] == 2) & (df['osize'] == 100)]['k']"
   ]
  },
  {
   "cell_type": "code",
   "execution_count": 16,
   "id": "634ed87e",
   "metadata": {},
   "outputs": [
    {
     "data": {
      "image/png": "[encoded data removed]",
      "text/plain": [
       "<Figure size 432x288 with 1 Axes>"
      ]
     },
     "metadata": {
      "needs_background": "light"
     },
     "output_type": "display_data"
    }
   ],
   "source": [
    "fig, ax = plt.subplots()\n",
    "\n",
    "power = 2\n",
    "osizes = sizes\n",
    "\n",
    "for i, osize in enumerate(osizes):\n",
    "    seeds = (df['power'] == power) & (df['osize'] == osize)\n",
    "    ks = np.array(df[seeds]['k'])\n",
    "    max_, med, min_ = max(ks), np.median(ks), min(ks)\n",
    "    plt.bar(i, med, yerr=[[med-min_], [max_-med]], width=0, ecolor='black', capsize=10)\n",
    "    for j in range(len(ks)):\n",
    "        plt.scatter(i, ks[j], color='blue')\n",
    "    #plt.scatter(i, med, color='blue', label = 'median' if i == 0 else None)\n",
    "\n",
    "ax.set_xticks([0,1,2,3,4,5])\n",
    "ax.set_xticklabels(['100', '200', '500', '1000', '2000', '5000'])\n",
    "plt.ylim([-5,10])\n",
    "plt.xlim([-0.7, 5.7])\n",
    "\n",
    "gstatus = 'old'\n",
    "\n",
    "plt.title(f'k={power}, ' + '$g_{\\\\mathrm{'+ gstatus + '}}$')\n",
    "plt.xlabel('Number of Original Data Points')\n",
    "plt.ylabel('k values')\n",
    "plt.hlines(power, -0.7, 5.7, label='true value')\n",
    "plt.legend()\n",
    "#plt.savefig(f'../../k={power}_{gstatus}g.png', dpi=600)\n",
    "plt.show()"
   ]
  },
  {
   "cell_type": "markdown",
   "id": "48e3865a",
   "metadata": {},
   "source": [
    "## #1: How many k values obtained by Kendall Tau are greater than raw fit?"
   ]
  },
  {
   "cell_type": "code",
   "execution_count": 17,
   "id": "ecbfdb69",
   "metadata": {},
   "outputs": [
    {
     "data": {
      "text/html": [
       "<div>\n",
       "<style scoped>\n",
       "    .dataframe tbody tr th:only-of-type {\n",
       "        vertical-align: middle;\n",
       "    }\n",
       "\n",
       "    .dataframe tbody tr th {\n",
       "        vertical-align: top;\n",
       "    }\n",
       "\n",
       "    .dataframe thead th {\n",
       "        text-align: right;\n",
       "    }\n",
       "</style>\n",
       "<table border=\"1\" class=\"dataframe\">\n",
       "  <thead>\n",
       "    <tr style=\"text-align: right;\">\n",
       "      <th></th>\n",
       "      <th>seed</th>\n",
       "      <th>power</th>\n",
       "      <th>osize</th>\n",
       "      <th>tsize</th>\n",
       "      <th>mraw</th>\n",
       "      <th>m</th>\n",
       "      <th>k</th>\n",
       "    </tr>\n",
       "  </thead>\n",
       "  <tbody>\n",
       "    <tr>\n",
       "      <th>0</th>\n",
       "      <td>200001</td>\n",
       "      <td>2.0</td>\n",
       "      <td>100</td>\n",
       "      <td>44</td>\n",
       "      <td>5.317757</td>\n",
       "      <td>1.532408</td>\n",
       "      <td>6.488</td>\n",
       "    </tr>\n",
       "    <tr>\n",
       "      <th>1</th>\n",
       "      <td>200001</td>\n",
       "      <td>2.0</td>\n",
       "      <td>200</td>\n",
       "      <td>92</td>\n",
       "      <td>5.663571</td>\n",
       "      <td>1.660402</td>\n",
       "      <td>6.043</td>\n",
       "    </tr>\n",
       "    <tr>\n",
       "      <th>12</th>\n",
       "      <td>200004</td>\n",
       "      <td>2.0</td>\n",
       "      <td>100</td>\n",
       "      <td>43</td>\n",
       "      <td>5.525825</td>\n",
       "      <td>3.116770</td>\n",
       "      <td>6.762</td>\n",
       "    </tr>\n",
       "  </tbody>\n",
       "</table>\n",
       "</div>"
      ],
      "text/plain": [
       "      seed  power  osize  tsize      mraw         m      k\n",
       "0   200001    2.0    100     44  5.317757  1.532408  6.488\n",
       "1   200001    2.0    200     92  5.663571  1.660402  6.043\n",
       "12  200004    2.0    100     43  5.525825  3.116770  6.762"
      ]
     },
     "execution_count": 17,
     "metadata": {},
     "output_type": "execute_result"
    }
   ],
   "source": [
    "df[(df['k'] > df['mraw'])]"
   ]
  },
  {
   "cell_type": "code",
   "execution_count": 18,
   "id": "b1372bed",
   "metadata": {},
   "outputs": [
    {
     "name": "stdout",
     "output_type": "stream",
     "text": [
      "fraction of samples with k (kendall tau) > m (raw fit)\n",
      "sample size 100: 2/5\n",
      "sample size 200: 1/5\n",
      "sample size 500: 0/5\n",
      "sample size 1000: 0/5\n"
     ]
    }
   ],
   "source": [
    "print('fraction of samples with k (kendall tau) > m (raw fit)')\n",
    "for i in [100,200, 500, 1000]:\n",
    "    a = len(df[(df['k'] > df['mraw']) & (df['osize'] == i)])\n",
    "    b = len(df[df['osize'] == i])\n",
    "    print(f'sample size {i}: {a}/{b}')"
   ]
  },
  {
   "cell_type": "markdown",
   "id": "272e37cf",
   "metadata": {},
   "source": [
    "## #2: Assuming a lower fluence threshold, when does the result become unacceptable?"
   ]
  },
  {
   "cell_type": "code",
   "execution_count": 20,
   "id": "5d649627",
   "metadata": {
    "scrolled": true
   },
   "outputs": [
    {
     "data": {
      "text/html": [
       "<div>\n",
       "<style scoped>\n",
       "    .dataframe tbody tr th:only-of-type {\n",
       "        vertical-align: middle;\n",
       "    }\n",
       "\n",
       "    .dataframe tbody tr th {\n",
       "        vertical-align: top;\n",
       "    }\n",
       "\n",
       "    .dataframe thead th {\n",
       "        text-align: right;\n",
       "    }\n",
       "</style>\n",
       "<table border=\"1\" class=\"dataframe\">\n",
       "  <thead>\n",
       "    <tr style=\"text-align: right;\">\n",
       "      <th></th>\n",
       "      <th>seed</th>\n",
       "      <th>power</th>\n",
       "      <th>osize</th>\n",
       "      <th>tsize</th>\n",
       "      <th>mraw</th>\n",
       "      <th>m</th>\n",
       "      <th>k</th>\n",
       "    </tr>\n",
       "  </thead>\n",
       "  <tbody>\n",
       "    <tr>\n",
       "      <th>3</th>\n",
       "      <td>200001</td>\n",
       "      <td>2.0</td>\n",
       "      <td>1000</td>\n",
       "      <td>470</td>\n",
       "      <td>4.956802</td>\n",
       "      <td>2.090531</td>\n",
       "      <td>1.629</td>\n",
       "    </tr>\n",
       "    <tr>\n",
       "      <th>5</th>\n",
       "      <td>200002</td>\n",
       "      <td>2.0</td>\n",
       "      <td>200</td>\n",
       "      <td>92</td>\n",
       "      <td>5.125472</td>\n",
       "      <td>1.932838</td>\n",
       "      <td>1.996</td>\n",
       "    </tr>\n",
       "    <tr>\n",
       "      <th>10</th>\n",
       "      <td>200003</td>\n",
       "      <td>2.0</td>\n",
       "      <td>500</td>\n",
       "      <td>239</td>\n",
       "      <td>4.618925</td>\n",
       "      <td>2.096456</td>\n",
       "      <td>2.488</td>\n",
       "    </tr>\n",
       "    <tr>\n",
       "      <th>15</th>\n",
       "      <td>200004</td>\n",
       "      <td>2.0</td>\n",
       "      <td>1000</td>\n",
       "      <td>498</td>\n",
       "      <td>4.946674</td>\n",
       "      <td>1.683376</td>\n",
       "      <td>1.785</td>\n",
       "    </tr>\n",
       "    <tr>\n",
       "      <th>19</th>\n",
       "      <td>200005</td>\n",
       "      <td>2.0</td>\n",
       "      <td>1000</td>\n",
       "      <td>480</td>\n",
       "      <td>5.095669</td>\n",
       "      <td>1.956600</td>\n",
       "      <td>2.465</td>\n",
       "    </tr>\n",
       "  </tbody>\n",
       "</table>\n",
       "</div>"
      ],
      "text/plain": [
       "      seed  power  osize  tsize      mraw         m      k\n",
       "3   200001    2.0   1000    470  4.956802  2.090531  1.629\n",
       "5   200002    2.0    200     92  5.125472  1.932838  1.996\n",
       "10  200003    2.0    500    239  4.618925  2.096456  2.488\n",
       "15  200004    2.0   1000    498  4.946674  1.683376  1.785\n",
       "19  200005    2.0   1000    480  5.095669  1.956600  2.465"
      ]
     },
     "execution_count": 20,
     "metadata": {},
     "output_type": "execute_result"
    }
   ],
   "source": [
    "#the task implicitly assumes that the result WAS acceptable prior to fluence threshold messup.\n",
    "#otherwise, can't differentiate effects of messup. was it already messed up or is it the fluence threshold?\n",
    "df[np.abs(df['k']-power) < 0.5]"
   ]
  },
  {
   "cell_type": "markdown",
   "id": "f1414319",
   "metadata": {},
   "source": [
    "### Test one sample first"
   ]
  },
  {
   "cell_type": "code",
   "execution_count": 21,
   "id": "f3940e52",
   "metadata": {},
   "outputs": [],
   "source": [
    "x, y = recover_sample(pdSeries=df.iloc[1])\n",
    "#suppose that the survey had a true, definitive cutoff of 2 Jy ms:\n",
    "ylims = E_v(2.0, x, *[1.5])\n",
    "x = x[y > ylims]\n",
    "y = y[y > ylims]"
   ]
  },
  {
   "cell_type": "code",
   "execution_count": 23,
   "id": "e41be35a",
   "metadata": {},
   "outputs": [
    {
     "data": {
      "text/plain": [
       "Text(0.5, 0, 'z')"
      ]
     },
     "execution_count": 23,
     "metadata": {},
     "output_type": "execute_result"
    },
    {
     "data": {
      "image/png": "[encoded data removed]",
      "text/plain": [
       "<Figure size 432x288 with 1 Axes>"
      ]
     },
     "metadata": {
      "needs_background": "light"
     },
     "output_type": "display_data"
    }
   ],
   "source": [
    "plt.scatter(x, y, marker='.')\n",
    "plt.plot(np.sort(x), E_v(2, np.sort(x), *[1.5]), color='orange')\n",
    "plt.ylim([10**22.5, 1e27])\n",
    "#plt.xlim([0,2.2])\n",
    "plt.yscale('log')\n",
    "plt.ylabel('E')\n",
    "plt.xlabel('z')"
   ]
  },
  {
   "cell_type": "code",
   "execution_count": 24,
   "id": "f4f5a679",
   "metadata": {},
   "outputs": [],
   "source": [
    "Flims = np.linspace(0, 4, 11)\n",
    "ks = np.zeros(len(Flims))\n",
    "\n",
    "for i, Flim in enumerate(Flims):\n",
    "    ks[i] = findtau0(x, y, power=power, Flim=Flim)"
   ]
  },
  {
   "cell_type": "code",
   "execution_count": 25,
   "id": "96ed3787",
   "metadata": {},
   "outputs": [
    {
     "data": {
      "image/png": "[encoded data removed]",
      "text/plain": [
       "<Figure size 432x288 with 1 Axes>"
      ]
     },
     "metadata": {
      "needs_background": "light"
     },
     "output_type": "display_data"
    }
   ],
   "source": [
    "plt.plot(Flims, ks)\n",
    "#plt.xscale('log')\n",
    "plt.hlines([power-1, power, power+1], 0, 4, color='orange')\n",
    "plt.xlabel('fluence threshold')\n",
    "plt.ylabel('k')\n",
    "plt.show()"
   ]
  },
  {
   "cell_type": "markdown",
   "id": "8b0a1a32",
   "metadata": {},
   "source": [
    "## Run the code for multiple samples"
   ]
  },
  {
   "cell_type": "code",
   "execution_count": 26,
   "id": "0c56cb10",
   "metadata": {},
   "outputs": [
    {
     "name": "stdout",
     "output_type": "stream",
     "text": [
      "0/36 is done\n",
      "WARNING: multiple tau=0 instances. Proceeding starting with lowest nonnegative k.\n",
      "WARNING: multiple tau=0 instances. Proceeding starting with lowest nonnegative k.\n",
      "4/36 is done\n"
     ]
    },
    {
     "name": "stderr",
     "output_type": "stream",
     "text": [
      "/Users/williamhuang/Documents/GitHub/FRB Project/petrosianfuncs/ktau.py:25: RuntimeWarning: invalid value encountered in reciprocal\n",
      "  return (1+z)**k\n"
     ]
    },
    {
     "name": "stdout",
     "output_type": "stream",
     "text": [
      "8/36 is done\n",
      "12/36 is done\n",
      "16/36 is done\n"
     ]
    }
   ],
   "source": [
    "#run for all samples of size {size}\n",
    "allks = []\n",
    "size = 100\n",
    "\n",
    "for i in df[df['osize'] == size].index:\n",
    "    x, y = recover_sample(pdSeries=df.iloc[i])\n",
    "    #suppose that the survey had a true, definitive cutoff of 2 Jy ms:\n",
    "    ylims = E_v(2.0, x, *[1.5])\n",
    "    x = x[y > ylims]\n",
    "    y = y[y > ylims]\n",
    "    \n",
    "    Flims = np.linspace(0, 4, 11)\n",
    "    ks = np.zeros(len(Flims))\n",
    "\n",
    "    for j, Flim in enumerate(Flims):\n",
    "        ks[j] = findtau0(x, y, power=power, Flim=Flim)\n",
    "    \n",
    "    allks.append(ks)\n",
    "    print(f'{i}/36 is done')"
   ]
  },
  {
   "cell_type": "code",
   "execution_count": 27,
   "id": "53fa2494",
   "metadata": {},
   "outputs": [
    {
     "data": {
      "image/png": "[encoded data removed]",
      "text/plain": [
       "<Figure size 432x288 with 1 Axes>"
      ]
     },
     "metadata": {
      "needs_background": "light"
     },
     "output_type": "display_data"
    }
   ],
   "source": [
    "Flims = np.linspace(0, 4, 11)\n",
    "for i in range(len(allks)):\n",
    "    plt.plot(Flims, allks[i])\n",
    "plt.hlines([power-1,power,power+1], 0, 4, color='black', linestyle='--', label='true k$\\\\pm 1$')\n",
    "plt.vlines(2.0, power-4, power+7, color='gray', label='true threshold')\n",
    "plt.title(f'Effect of Threshold on k, k = {power}, Original Sample Size {size}')\n",
    "plt.xlabel('Fluence threshold (Jy ms)')\n",
    "plt.ylabel('k')\n",
    "plt.ylim([power-4,power+7])\n",
    "plt.legend()\n",
    "#plt.savefig(f'../../k={power}_osize={size}.png', dpi=600)\n",
    "plt.show()"
   ]
  },
  {
   "cell_type": "markdown",
   "id": "cd65c795",
   "metadata": {},
   "source": [
    "# #3: Determine z, E distributions"
   ]
  },
  {
   "cell_type": "markdown",
   "id": "893e9210",
   "metadata": {},
   "source": [
    "## z distributions"
   ]
  },
  {
   "cell_type": "code",
   "execution_count": 28,
   "id": "2e9a24e8",
   "metadata": {},
   "outputs": [
    {
     "data": {
      "text/html": [
       "<div>\n",
       "<style scoped>\n",
       "    .dataframe tbody tr th:only-of-type {\n",
       "        vertical-align: middle;\n",
       "    }\n",
       "\n",
       "    .dataframe tbody tr th {\n",
       "        vertical-align: top;\n",
       "    }\n",
       "\n",
       "    .dataframe thead th {\n",
       "        text-align: right;\n",
       "    }\n",
       "</style>\n",
       "<table border=\"1\" class=\"dataframe\">\n",
       "  <thead>\n",
       "    <tr style=\"text-align: right;\">\n",
       "      <th></th>\n",
       "      <th>seed</th>\n",
       "      <th>power</th>\n",
       "      <th>osize</th>\n",
       "      <th>tsize</th>\n",
       "      <th>mraw</th>\n",
       "      <th>m</th>\n",
       "      <th>k</th>\n",
       "    </tr>\n",
       "  </thead>\n",
       "  <tbody>\n",
       "    <tr>\n",
       "      <th>3</th>\n",
       "      <td>200001</td>\n",
       "      <td>2.0</td>\n",
       "      <td>1000</td>\n",
       "      <td>470</td>\n",
       "      <td>4.956802</td>\n",
       "      <td>2.090531</td>\n",
       "      <td>1.629</td>\n",
       "    </tr>\n",
       "    <tr>\n",
       "      <th>7</th>\n",
       "      <td>200002</td>\n",
       "      <td>2.0</td>\n",
       "      <td>1000</td>\n",
       "      <td>461</td>\n",
       "      <td>5.042476</td>\n",
       "      <td>1.643938</td>\n",
       "      <td>2.512</td>\n",
       "    </tr>\n",
       "    <tr>\n",
       "      <th>11</th>\n",
       "      <td>200003</td>\n",
       "      <td>2.0</td>\n",
       "      <td>1000</td>\n",
       "      <td>461</td>\n",
       "      <td>4.611372</td>\n",
       "      <td>2.294315</td>\n",
       "      <td>1.277</td>\n",
       "    </tr>\n",
       "    <tr>\n",
       "      <th>15</th>\n",
       "      <td>200004</td>\n",
       "      <td>2.0</td>\n",
       "      <td>1000</td>\n",
       "      <td>498</td>\n",
       "      <td>4.946674</td>\n",
       "      <td>1.683376</td>\n",
       "      <td>1.785</td>\n",
       "    </tr>\n",
       "    <tr>\n",
       "      <th>19</th>\n",
       "      <td>200005</td>\n",
       "      <td>2.0</td>\n",
       "      <td>1000</td>\n",
       "      <td>480</td>\n",
       "      <td>5.095669</td>\n",
       "      <td>1.956600</td>\n",
       "      <td>2.465</td>\n",
       "    </tr>\n",
       "  </tbody>\n",
       "</table>\n",
       "</div>"
      ],
      "text/plain": [
       "      seed  power  osize  tsize      mraw         m      k\n",
       "3   200001    2.0   1000    470  4.956802  2.090531  1.629\n",
       "7   200002    2.0   1000    461  5.042476  1.643938  2.512\n",
       "11  200003    2.0   1000    461  4.611372  2.294315  1.277\n",
       "15  200004    2.0   1000    498  4.946674  1.683376  1.785\n",
       "19  200005    2.0   1000    480  5.095669  1.956600  2.465"
      ]
     },
     "execution_count": 28,
     "metadata": {},
     "output_type": "execute_result"
    }
   ],
   "source": [
    "df[df['osize'] == 1000]"
   ]
  },
  {
   "cell_type": "code",
   "execution_count": 29,
   "id": "f81604ff",
   "metadata": {},
   "outputs": [
    {
     "data": {
      "text/html": [
       "<div>\n",
       "<style scoped>\n",
       "    .dataframe tbody tr th:only-of-type {\n",
       "        vertical-align: middle;\n",
       "    }\n",
       "\n",
       "    .dataframe tbody tr th {\n",
       "        vertical-align: top;\n",
       "    }\n",
       "\n",
       "    .dataframe thead th {\n",
       "        text-align: right;\n",
       "    }\n",
       "</style>\n",
       "<table border=\"1\" class=\"dataframe\">\n",
       "  <thead>\n",
       "    <tr style=\"text-align: right;\">\n",
       "      <th></th>\n",
       "      <th>seed</th>\n",
       "      <th>power</th>\n",
       "      <th>osize</th>\n",
       "      <th>tsize</th>\n",
       "      <th>mraw</th>\n",
       "      <th>m</th>\n",
       "      <th>k</th>\n",
       "    </tr>\n",
       "  </thead>\n",
       "  <tbody>\n",
       "    <tr>\n",
       "      <th>5</th>\n",
       "      <td>200002</td>\n",
       "      <td>2.0</td>\n",
       "      <td>200</td>\n",
       "      <td>92</td>\n",
       "      <td>5.125472</td>\n",
       "      <td>1.932838</td>\n",
       "      <td>1.996</td>\n",
       "    </tr>\n",
       "    <tr>\n",
       "      <th>15</th>\n",
       "      <td>200004</td>\n",
       "      <td>2.0</td>\n",
       "      <td>1000</td>\n",
       "      <td>498</td>\n",
       "      <td>4.946674</td>\n",
       "      <td>1.683376</td>\n",
       "      <td>1.785</td>\n",
       "    </tr>\n",
       "  </tbody>\n",
       "</table>\n",
       "</div>"
      ],
      "text/plain": [
       "      seed  power  osize  tsize      mraw         m      k\n",
       "5   200002    2.0    200     92  5.125472  1.932838  1.996\n",
       "15  200004    2.0   1000    498  4.946674  1.683376  1.785"
      ]
     },
     "execution_count": 29,
     "metadata": {},
     "output_type": "execute_result"
    }
   ],
   "source": [
    "df[abs((df['k']-power))<0.3]"
   ]
  },
  {
   "cell_type": "code",
   "execution_count": 30,
   "id": "30f7579e",
   "metadata": {},
   "outputs": [
    {
     "data": {
      "text/plain": [
       "<matplotlib.legend.Legend at 0x7fc0c94b97c0>"
      ]
     },
     "execution_count": 30,
     "metadata": {},
     "output_type": "execute_result"
    },
    {
     "data": {
      "image/png": "[encoded data removed]",
      "text/plain": [
       "<Figure size 432x288 with 1 Axes>"
      ]
     },
     "metadata": {
      "needs_background": "light"
     },
     "output_type": "display_data"
    }
   ],
   "source": [
    "x, y = recover_sample(pdSeries=df.iloc[3])\n",
    "#suppose that the survey had a true, definitive cutoff of 2 Jy ms:\n",
    "ylims = E_v(2.0, x, *[1.5])\n",
    "k=0\n",
    "plt.plot(sorted(x[x<2.2]),sorted(ylims[x<2.2])/g_new(np.sort(x[x<2.2]), k), color='orange', label='$g_{\\\\mathrm{new}}$')\n",
    "plt.plot(sorted(x[x<2.2]),sorted(ylims[x<2.2])/g(np.sort(x[x<2.2]), k), color='red', label='$g_{\\\\mathrm{old}}$')\n",
    "#plt.scatter(x[x<2.2], y[x<2.2]/g(x[x<2.2], 4), marker='.')\n",
    "x = x[y > ylims]\n",
    "y = y[y > ylims]\n",
    "y = y[x < 2.2]\n",
    "x = x[x < 2.2]\n",
    "\n",
    "plt.title('$k=3$')\n",
    "plt.scatter(x,y/g(x,k), marker='.')\n",
    "plt.yscale('log')\n",
    "plt.legend()\n",
    "#plt.savefig('../../difference_k=7.png', dpi=600)"
   ]
  },
  {
   "cell_type": "code",
   "execution_count": 31,
   "id": "cc391da1",
   "metadata": {},
   "outputs": [],
   "source": [
    "# x, y = recover_sample(power=3,seed=300004,osize=1000)\n",
    "# ylims = E_v(2.0, x, *[1.5])\n",
    "# x = x[y > ylims]\n",
    "# y = y[y > ylims]\n",
    "# y = y[x < 2.2]\n",
    "# x = x[x < 2.2]"
   ]
  },
  {
   "cell_type": "code",
   "execution_count": 32,
   "id": "09badc02",
   "metadata": {},
   "outputs": [
    {
     "data": {
      "image/png": "[encoded data removed]",
      "text/plain": [
       "<Figure size 432x288 with 1 Axes>"
      ]
     },
     "metadata": {
      "needs_background": "light"
     },
     "output_type": "display_data"
    }
   ],
   "source": [
    "plt.scatter(x,y, marker='.')\n",
    "plt.yscale('log')"
   ]
  },
  {
   "cell_type": "code",
   "execution_count": 33,
   "id": "8a8dbf5e",
   "metadata": {},
   "outputs": [
    {
     "name": "stdout",
     "output_type": "stream",
     "text": [
      "1.629\n"
     ]
    }
   ],
   "source": [
    "k = findtau0(x,y,power=3, Flim=2.0)\n",
    "print(k)"
   ]
  },
  {
   "cell_type": "code",
   "execution_count": 34,
   "id": "80ec32f4",
   "metadata": {},
   "outputs": [],
   "source": [
    "x_, y_ = sort_by_first(x, y)\n",
    "sigmas, zs = sigma_z(y_, x_, 2.0, k=k)"
   ]
  },
  {
   "cell_type": "code",
   "execution_count": 35,
   "id": "94430047",
   "metadata": {},
   "outputs": [],
   "source": [
    "from scipy.special import erf\n",
    "def logerf(x, mu, sigma, b):\n",
    "    return 0.5*(1+erf((np.log(x-b)-mu)/(sigma*2**0.5)))\n",
    "\n",
    "def lognorm(x, mu, sigma, b):\n",
    "    return (1/(x*sigma*(2*np.pi)**0.5))*np.exp(-np.power((np.log(x-b)-mu), 2)/(2*sigma**2))"
   ]
  },
  {
   "cell_type": "code",
   "execution_count": 36,
   "id": "9ae4a493",
   "metadata": {},
   "outputs": [],
   "source": [
    "def lerf(x, mu, sigma, C):\n",
    "    return C*logerf(x, mu, sigma, 0.1)\n",
    "\n",
    "def lnorm(x, mu, sigma, C):\n",
    "    return C*lognorm(x, mu, sigma, 0.1)\n",
    "\n",
    "import scipy.optimize as opt\n",
    "\n",
    "guess = [-1.0, 1.0, 500]\n",
    "bounds = [[-3, 0, 0], [1, 4, 10000]]"
   ]
  },
  {
   "cell_type": "code",
   "execution_count": 37,
   "id": "46d64cd0",
   "metadata": {},
   "outputs": [
    {
     "name": "stdout",
     "output_type": "stream",
     "text": [
      "starting fitting\n",
      "done\n",
      "[-9.81878827e-01  1.06672521e+00  1.01585794e+03]\n"
     ]
    }
   ],
   "source": [
    "print('starting fitting')\n",
    "optsig, pcov = opt.curve_fit(lerf, zs, sigmas, guess, bounds=bounds) \n",
    "print('done')\n",
    "print(optsig)"
   ]
  },
  {
   "cell_type": "code",
   "execution_count": 38,
   "id": "482c3d66",
   "metadata": {},
   "outputs": [
    {
     "data": {
      "image/png": "[encoded data removed]",
      "text/plain": [
       "<Figure size 432x288 with 1 Axes>"
      ]
     },
     "metadata": {
      "needs_background": "light"
     },
     "output_type": "display_data"
    }
   ],
   "source": [
    "plt.scatter(zs, sigmas, marker='.', label='$\\\\dot{\\\\sigma}(z)$')\n",
    "plt.plot(zs, lerf(zs, *optsig), color='orange', label='best fit line')\n",
    "plt.legend()\n",
    "plt.title(f'k={power} ' + '$\\\\dot{\\\\sigma}(z)$')\n",
    "plt.ylabel('$\\\\dot{\\\\sigma}$')\n",
    "plt.xlabel('z')\n",
    "#plt.savefig(f'../../k={power}_dotsigma.png', dpi=600)\n",
    "plt.show()"
   ]
  },
  {
   "cell_type": "code",
   "execution_count": 39,
   "id": "8dd9f67b",
   "metadata": {},
   "outputs": [
    {
     "data": {
      "text/plain": [
       "Text(0.5, 0, 'z')"
      ]
     },
     "execution_count": 39,
     "metadata": {},
     "output_type": "execute_result"
    },
    {
     "data": {
      "image/png": "[encoded data removed]",
      "text/plain": [
       "<Figure size 432x288 with 1 Axes>"
      ]
     },
     "metadata": {
      "needs_background": "light"
     },
     "output_type": "display_data"
    }
   ],
   "source": [
    "plt.plot(zs, lnorm(zs, *optsig), label='calculated z distr')\n",
    "plt.plot(zs, 1000*lognorm(zs, -1, 1, 0.1), label='true z distr')\n",
    "plt.legend()\n",
    "plt.title(f'k={power} z distribution comparison')\n",
    "plt.ylabel('dN/dz')\n",
    "plt.xlabel('z')\n",
    "#plt.savefig(f'../../k={power}_zdistr.png', dpi=600)"
   ]
  },
  {
   "cell_type": "markdown",
   "id": "ce4c07bd",
   "metadata": {},
   "source": [
    "## E distributions"
   ]
  },
  {
   "cell_type": "code",
   "execution_count": 40,
   "id": "1c4d6870",
   "metadata": {},
   "outputs": [
    {
     "data": {
      "image/png": "[encoded data removed]",
      "text/plain": [
       "<Figure size 432x288 with 1 Axes>"
      ]
     },
     "metadata": {
      "needs_background": "light"
     },
     "output_type": "display_data"
    }
   ],
   "source": [
    "plt.scatter(x, y, marker='.')\n",
    "plt.plot(np.sort(x), E_v(2.0, np.sort(x), *[1.5]), color='orange')\n",
    "plt.yscale('log')"
   ]
  },
  {
   "cell_type": "code",
   "execution_count": 41,
   "id": "e8a9b42b",
   "metadata": {},
   "outputs": [],
   "source": [
    "phi, E_, E_raw_k = phi_E(y, x, 2.0, func=z_E, k=3, g=g)"
   ]
  },
  {
   "cell_type": "code",
   "execution_count": 42,
   "id": "97ce69b4",
   "metadata": {},
   "outputs": [
    {
     "data": {
      "text/plain": [
       "<matplotlib.legend.Legend at 0x7fc0ca9d1e20>"
      ]
     },
     "execution_count": 42,
     "metadata": {},
     "output_type": "execute_result"
    },
    {
     "data": {
      "image/png": "[encoded data removed]",
      "text/plain": [
       "<Figure size 432x288 with 1 Axes>"
      ]
     },
     "metadata": {
      "needs_background": "light"
     },
     "output_type": "display_data"
    }
   ],
   "source": [
    "plt.scatter(E_, phi, marker='.', label='calculated')\n",
    "xx = np.logspace(23, 26, 100)\n",
    "yy = 5.5e8*(np.power(xx, -0.2)- (1e26)**(-0.2))*0.1\n",
    "plt.plot(xx/(1.5)**3,yy,color='orange', label='expected')\n",
    "\n",
    "plt.ylabel('$\\\\phi(E\\')$')\n",
    "plt.xlabel('E\\'')\n",
    "plt.xscale('log')\n",
    "plt.title(f'k={power} $\\\\phi(E\\')$')\n",
    "plt.yscale('log')\n",
    "plt.legend()\n",
    "#plt.savefig(f'../../k={power}_phiE.png', dpi=600)"
   ]
  },
  {
   "cell_type": "code",
   "execution_count": 43,
   "id": "b525e6bc",
   "metadata": {},
   "outputs": [
    {
     "data": {
      "text/plain": [
       "<matplotlib.collections.LineCollection at 0x7fc0ca885d90>"
      ]
     },
     "execution_count": 43,
     "metadata": {},
     "output_type": "execute_result"
    },
    {
     "data": {
      "image/png": "[encoded data removed]",
      "text/plain": [
       "<Figure size 432x288 with 1 Axes>"
      ]
     },
     "metadata": {
      "needs_background": "light"
     },
     "output_type": "display_data"
    }
   ],
   "source": [
    "plt.hist(df['tsize']/df['osize'])\n",
    "plt.vlines(0.6186440677966102, 0, 40, color='orange')"
   ]
  },
  {
   "cell_type": "code",
   "execution_count": null,
   "id": "dcf1523c",
   "metadata": {},
   "outputs": [],
   "source": []
  }
 ],
 "metadata": {
  "kernelspec": {
   "display_name": "Python 3.9.12 ('2022')",
   "language": "python",
   "name": "python3"
  },
  "language_info": {
   "codemirror_mode": {
    "name": "ipython",
    "version": 3
   },
   "file_extension": ".py",
   "mimetype": "text/x-python",
   "name": "python",
   "nbconvert_exporter": "python",
   "pygments_lexer": "ipython3",
   "version": "3.9.12"
  },
  "vscode": {
   "interpreter": {
    "hash": "8ef6c2603613cee003e8dc1202cc215413d5752975eb5ab63e282753c2927b8a"
   }
  }
 },
 "nbformat": 4,
 "nbformat_minor": 5
}
