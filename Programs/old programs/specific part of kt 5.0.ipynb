{
 "cells": [
  {
   "cell_type": "code",
   "execution_count": 89,
   "metadata": {},
   "outputs": [],
   "source": [
    "def g_new(z, k):\n",
    "    Z = z+1\n",
    "    Z_c = 3.5\n",
    "    return Z**k/(1+Z/Z_c)**k"
   ]
  },
  {
   "cell_type": "code",
   "execution_count": 90,
   "metadata": {},
   "outputs": [
    {
     "name": "stdout",
     "output_type": "stream",
     "text": [
      "Processed 64 lines.\n"
     ]
    }
   ],
   "source": [
    "import numpy as np\n",
    "import matplotlib.pyplot as plt\n",
    "import math\n",
    "import csv\n",
    "\n",
    "frb, telescope, snr, f_p, d_L, z = [], [], [], [], [], []\n",
    "\n",
    "with open('frb.csv') as csv_file:\n",
    "    csv_reader = csv.reader(csv_file, delimiter=',')\n",
    "    line_count = 0\n",
    "    for row in csv_reader:\n",
    "        if line_count == 0:\n",
    "            line_count += 1\n",
    "            continue\n",
    "        line_count += 1\n",
    "        if float(row[2]) > 6:\n",
    "            frb.append(row[0])\n",
    "            telescope.append(row[1])\n",
    "            snr.append(float(row[2]))\n",
    "            f_p.append(float(row[3]))\n",
    "            d_L.append(float(row[4]))\n",
    "            z.append(float(row[5]))\n",
    "        '''\n",
    "        else: \n",
    "            frb.append(row[0])\n",
    "            telescope.append(row[1])\n",
    "            snr.append(6)\n",
    "            f_p.append(float(row[3]))\n",
    "            d_L.append(float(row[4]))\n",
    "            z.append(float(row[5]))\n",
    "        '''\n",
    "    print(f'Processed {line_count} lines.')"
   ]
  },
  {
   "cell_type": "code",
   "execution_count": 91,
   "metadata": {},
   "outputs": [],
   "source": [
    "#Deriving New Parameters\n",
    "f_lim = []\n",
    "L_p = []\n",
    "L_plim = []\n",
    "\n",
    "for i in range(len(f_p)):\n",
    "    f_lim_i = f_p[i]/(snr[i])\n",
    "    L_p_i = (f_p[i]*1e-26)*4*math.pi*(d_L[i]*3.08567758e25)**2\n",
    "    L_plim_i = (f_lim_i*1e-26)*4*math.pi*(d_L[i]*3.08567758e25)**2\n",
    "    f_lim.append(f_lim_i)\n",
    "    L_p.append(L_p_i)\n",
    "    L_plim.append(L_plim_i)"
   ]
  },
  {
   "cell_type": "code",
   "execution_count": 92,
   "metadata": {},
   "outputs": [
    {
     "data": {
      "text/plain": [
       "{'askap', 'parkes'}"
      ]
     },
     "execution_count": 92,
     "metadata": {},
     "output_type": "execute_result"
    }
   ],
   "source": [
    "telescope = [telescope[i].lower() for i in range(len(telescope))] #removing the uppercase Parkes\n",
    "set(telescope)"
   ]
  },
  {
   "cell_type": "code",
   "execution_count": 93,
   "metadata": {},
   "outputs": [],
   "source": [
    "def new_L(L, z, k=0, g=g_new):\n",
    "    return [L[i]/g(z[i], k) for i in range(len(L))]"
   ]
  },
  {
   "cell_type": "code",
   "execution_count": 94,
   "metadata": {},
   "outputs": [],
   "source": [
    "L_lim = []\n",
    "f_lim = [14.8, 0.15, 0.30]\n",
    "for i in range(len(f_p)):\n",
    "    if(i < 27): #ASKAP\n",
    "        L_lim.append(L_p[i] * f_lim[0]/f_p[i])\n",
    "    elif(i >= 27 and i < 54): #Parkes\n",
    "        L_lim.append(L_p[i] * f_lim[1]/f_p[i])"
   ]
  },
  {
   "cell_type": "code",
   "execution_count": 95,
   "metadata": {},
   "outputs": [
    {
     "data": {
      "image/png": "[encoded data removed]",
      "text/plain": [
       "<Figure size 432x288 with 1 Axes>"
      ]
     },
     "metadata": {
      "needs_background": "light"
     },
     "output_type": "display_data"
    }
   ],
   "source": [
    "fig, ax = plt.subplots()\n",
    "kval = 8.2\n",
    "ax.set_yscale('log')\n",
    "ax.set_xscale('linear')\n",
    "#ax.scatter(L_lim[27:54], L_p[27:54], label='parkes')\n",
    "ax.scatter(new_L(L_lim[27:54], z[27:54], k=kval, g=g_new),\n",
    "          new_L(L_p[27:54], z[27:54], k=kval, g=g_new), label = 'transformed')\n",
    "#ax.plot([1e20, 1e32], [1e20, 1e32], label='L_p = L_{p,lim}', color='black')\n",
    "#ax.set_xlim([1e24, 1e30])\n",
    "ax.set_xlim([0,2e26])\n",
    "ax.set_ylim([1e24, 1e30])\n",
    "ax.set_xlabel('L_{p, lim}')\n",
    "ax.set_ylabel('L_p')\n",
    "ax.set_title('L_p vs. L_{p,lim}')\n",
    "ax.legend()\n",
    "plt.show()"
   ]
  },
  {
   "cell_type": "code",
   "execution_count": 96,
   "metadata": {},
   "outputs": [
    {
     "data": {
      "text/plain": [
       "Text(0, 0.5, 'L_peak')"
      ]
     },
     "execution_count": 96,
     "metadata": {},
     "output_type": "execute_result"
    },
    {
     "data": {
      "image/png": "[encoded data removed]",
      "text/plain": [
       "<Figure size 432x288 with 1 Axes>"
      ]
     },
     "metadata": {
      "needs_background": "light"
     },
     "output_type": "display_data"
    }
   ],
   "source": [
    "fig, ax = plt.subplots()\n",
    "ax.set_yscale('log')\n",
    "ax.scatter(z[27:54], L_p[27:54], label='parkes')\n",
    "ax.set_ylim([1e24, 1e30])\n",
    "ax.set_xlabel('z')\n",
    "ax.set_ylabel('L_peak')"
   ]
  },
  {
   "cell_type": "code",
   "execution_count": 98,
   "metadata": {},
   "outputs": [],
   "source": [
    "stuff = new_L(L_lim[27:54], z[27:54], k=kval, g=g_new)"
   ]
  },
  {
   "cell_type": "code",
   "execution_count": 99,
   "metadata": {},
   "outputs": [
    {
     "data": {
      "text/plain": [
       "1.1337865456879392e+26"
      ]
     },
     "execution_count": 99,
     "metadata": {},
     "output_type": "execute_result"
    }
   ],
   "source": [
    "max(stuff)"
   ]
  },
  {
   "cell_type": "code",
   "execution_count": 100,
   "metadata": {},
   "outputs": [
    {
     "data": {
      "text/plain": [
       "2.7772918161493955e+25"
      ]
     },
     "execution_count": 100,
     "metadata": {},
     "output_type": "execute_result"
    }
   ],
   "source": [
    "min(stuff)"
   ]
  },
  {
   "cell_type": "code",
   "execution_count": 101,
   "metadata": {},
   "outputs": [
    {
     "data": {
      "text/plain": [
       "9.175020340614087e+25"
      ]
     },
     "execution_count": 101,
     "metadata": {},
     "output_type": "execute_result"
    }
   ],
   "source": [
    "sum(stuff)/len(stuff)"
   ]
  },
  {
   "cell_type": "code",
   "execution_count": null,
   "metadata": {},
   "outputs": [],
   "source": []
  }
 ],
 "metadata": {
  "kernelspec": {
   "display_name": "Python 3",
   "language": "python",
   "name": "python3"
  },
  "language_info": {
   "codemirror_mode": {
    "name": "ipython",
    "version": 3
   },
   "file_extension": ".py",
   "mimetype": "text/x-python",
   "name": "python",
   "nbconvert_exporter": "python",
   "pygments_lexer": "ipython3",
   "version": "3.7.6"
  }
 },
 "nbformat": 4,
 "nbformat_minor": 4
}
