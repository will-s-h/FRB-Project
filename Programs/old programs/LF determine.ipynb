{
 "cells": [
  {
   "cell_type": "markdown",
   "metadata": {},
   "source": [
    "# hide_toggle() setup"
   ]
  },
  {
   "cell_type": "code",
   "execution_count": 2,
   "metadata": {},
   "outputs": [
    {
     "data": {
      "text/html": [
       "\n",
       "        <script>\n",
       "            function code_toggle_7392319400533889689() {\n",
       "                $('div.cell.code_cell.rendered.selected').find('div.input').toggle();\n",
       "            }\n",
       "\n",
       "            \n",
       "        </script>\n",
       "\n",
       "        <a href=\"javascript:code_toggle_7392319400533889689()\">Toggle show/hide</a>\n",
       "    "
      ],
      "text/plain": [
       "<IPython.core.display.HTML object>"
      ]
     },
     "execution_count": 2,
     "metadata": {},
     "output_type": "execute_result"
    }
   ],
   "source": [
    "from IPython.display import HTML\n",
    "import random\n",
    "\n",
    "def hide_toggle(for_next=False):\n",
    "    this_cell = \"\"\"$('div.cell.code_cell.rendered.selected')\"\"\"\n",
    "    next_cell = this_cell + '.next()'\n",
    "\n",
    "    toggle_text = 'Toggle show/hide'  # text shown on toggle link\n",
    "    target_cell = this_cell  # target cell to control with toggle\n",
    "    js_hide_current = ''  # bit of JS to permanently hide code in current cell (only when toggling next cell)\n",
    "\n",
    "    if for_next:\n",
    "        target_cell = next_cell\n",
    "        toggle_text += ' next cell'\n",
    "        js_hide_current = this_cell + '.find(\"div.input\").hide();'\n",
    "\n",
    "    js_f_name = 'code_toggle_{}'.format(str(random.randint(1,2**64)))\n",
    "\n",
    "    html = \"\"\"\n",
    "        <script>\n",
    "            function {f_name}() {{\n",
    "                {cell_selector}.find('div.input').toggle();\n",
    "            }}\n",
    "\n",
    "            {js_hide_current}\n",
    "        </script>\n",
    "\n",
    "        <a href=\"javascript:{f_name}()\">{toggle_text}</a>\n",
    "    \"\"\".format(\n",
    "        f_name=js_f_name,\n",
    "        cell_selector=target_cell,\n",
    "        js_hide_current=js_hide_current, \n",
    "        toggle_text=toggle_text\n",
    "    )\n",
    "\n",
    "    return HTML(html)\n",
    "\n",
    "hide_toggle()"
   ]
  },
  {
   "cell_type": "markdown",
   "metadata": {},
   "source": [
    "# import data, derive parameters"
   ]
  },
  {
   "cell_type": "code",
   "execution_count": 31,
   "metadata": {},
   "outputs": [
    {
     "name": "stdout",
     "output_type": "stream",
     "text": [
      "Processed 64 lines.\n"
     ]
    },
    {
     "data": {
      "text/html": [
       "\n",
       "        <script>\n",
       "            function code_toggle_9863057051422509686() {\n",
       "                $('div.cell.code_cell.rendered.selected').find('div.input').toggle();\n",
       "            }\n",
       "\n",
       "            \n",
       "        </script>\n",
       "\n",
       "        <a href=\"javascript:code_toggle_9863057051422509686()\">Toggle show/hide</a>\n",
       "    "
      ],
      "text/plain": [
       "<IPython.core.display.HTML object>"
      ]
     },
     "execution_count": 31,
     "metadata": {},
     "output_type": "execute_result"
    }
   ],
   "source": [
    "import csv\n",
    "\n",
    "frb, telescope, snr, f_p, d_L, z = [], [], [], [], [], []\n",
    "\n",
    "with open('frb.csv') as csv_file:\n",
    "    csv_reader = csv.reader(csv_file, delimiter=',')\n",
    "    line_count = 0\n",
    "    for row in csv_reader:\n",
    "        if line_count == 0:\n",
    "            line_count += 1\n",
    "            continue\n",
    "        line_count += 1\n",
    "        if float(row[2]) > 6:\n",
    "            frb.append(row[0])\n",
    "            telescope.append(row[1])\n",
    "            snr.append(float(row[2]))\n",
    "            f_p.append(float(row[3]))\n",
    "            d_L.append(float(row[4]))\n",
    "            z.append(float(row[5]))\n",
    "        '''\n",
    "        else: \n",
    "            frb.append(row[0])\n",
    "            telescope.append(row[1])\n",
    "            snr.append(6)\n",
    "            f_p.append(float(row[3]))\n",
    "            d_L.append(float(row[4]))\n",
    "            z.append(float(row[5]))\n",
    "        '''\n",
    "    print(f'Processed {line_count} lines.')\n",
    "    \n",
    "hide_toggle()"
   ]
  },
  {
   "cell_type": "code",
   "execution_count": 32,
   "metadata": {},
   "outputs": [
    {
     "data": {
      "text/html": [
       "\n",
       "        <script>\n",
       "            function code_toggle_6635217680930332148() {\n",
       "                $('div.cell.code_cell.rendered.selected').find('div.input').toggle();\n",
       "            }\n",
       "\n",
       "            \n",
       "        </script>\n",
       "\n",
       "        <a href=\"javascript:code_toggle_6635217680930332148()\">Toggle show/hide</a>\n",
       "    "
      ],
      "text/plain": [
       "<IPython.core.display.HTML object>"
      ]
     },
     "execution_count": 32,
     "metadata": {},
     "output_type": "execute_result"
    }
   ],
   "source": [
    "import numpy as np\n",
    "import matplotlib.pyplot as plt\n",
    "import math\n",
    "\n",
    "#Deriving New Parameters\n",
    "f_lim = []\n",
    "L_p = []\n",
    "L_plim = []\n",
    "\n",
    "for i in range(len(f_p)):\n",
    "    f_lim_i = f_p[i]/(snr[i])\n",
    "    L_p_i = (f_p[i]*1e-26)*4*math.pi*(d_L[i]*3.08567758e25)**2\n",
    "    L_plim_i = (f_lim_i*1e-26)*4*math.pi*(d_L[i]*3.08567758e25)**2\n",
    "    f_lim.append(f_lim_i)\n",
    "    L_p.append(L_p_i)\n",
    "    L_plim.append(L_plim_i)\n",
    "\n",
    "hide_toggle()"
   ]
  },
  {
   "cell_type": "code",
   "execution_count": 33,
   "metadata": {},
   "outputs": [
    {
     "data": {
      "text/html": [
       "\n",
       "        <script>\n",
       "            function code_toggle_1479884176328540607() {\n",
       "                $('div.cell.code_cell.rendered.selected').find('div.input').toggle();\n",
       "            }\n",
       "\n",
       "            \n",
       "        </script>\n",
       "\n",
       "        <a href=\"javascript:code_toggle_1479884176328540607()\">Toggle show/hide</a>\n",
       "    "
      ],
      "text/plain": [
       "<IPython.core.display.HTML object>"
      ]
     },
     "execution_count": 33,
     "metadata": {},
     "output_type": "execute_result"
    }
   ],
   "source": [
    "telescope = [telescope[i].lower() for i in range(len(telescope))] #removing the uppercase Parkes\n",
    "set(telescope)\n",
    "\n",
    "hide_toggle()"
   ]
  },
  {
   "cell_type": "code",
   "execution_count": 36,
   "metadata": {},
   "outputs": [
    {
     "data": {
      "text/html": [
       "\n",
       "        <script>\n",
       "            function code_toggle_2177054628762095923() {\n",
       "                $('div.cell.code_cell.rendered.selected').find('div.input').toggle();\n",
       "            }\n",
       "\n",
       "            \n",
       "        </script>\n",
       "\n",
       "        <a href=\"javascript:code_toggle_2177054628762095923()\">Toggle show/hide</a>\n",
       "    "
      ],
      "text/plain": [
       "<IPython.core.display.HTML object>"
      ]
     },
     "execution_count": 36,
     "metadata": {},
     "output_type": "execute_result"
    },
    {
     "data": {
      "image/png": "[encoded data removed]",
      "text/plain": [
       "<Figure size 432x288 with 1 Axes>"
      ]
     },
     "metadata": {
      "needs_background": "light"
     },
     "output_type": "display_data"
    }
   ],
   "source": [
    "tel = slice(27,54)\n",
    "telname = 'Parkes'\n",
    "F_LIM = 0.15\n",
    "\n",
    "L_cutoffs = []\n",
    "for i in range(len(z)):\n",
    "    L_cutoffs.append(L_lim1(F_LIM, z[i], d_L[i], g=g_new, k=0))\n",
    "\n",
    "fig, ax = plt.subplots()\n",
    "plt.yscale('log')\n",
    "ax.scatter(z[tel], L_p[tel], label=telname)\n",
    "ax.plot(sorted(z[tel]), sorted(L_cutoffs[tel]))\n",
    "ax.set_ylim([1e24, 1e30])\n",
    "ax.set_xlim([-0.05, 2.25])\n",
    "ax.set_xlabel('z')\n",
    "ax.set_ylabel('L_peak')\n",
    "ax.set_title('['+ telname+ '] L vs. z')\n",
    "ax.legend()\n",
    "\n",
    "hide_toggle()"
   ]
  },
  {
   "cell_type": "code",
   "execution_count": 35,
   "metadata": {},
   "outputs": [
    {
     "data": {
      "text/html": [
       "\n",
       "        <script>\n",
       "            function code_toggle_16478582935957853625() {\n",
       "                $('div.cell.code_cell.rendered.selected').find('div.input').toggle();\n",
       "            }\n",
       "\n",
       "            \n",
       "        </script>\n",
       "\n",
       "        <a href=\"javascript:code_toggle_16478582935957853625()\">Toggle show/hide</a>\n",
       "    "
      ],
      "text/plain": [
       "<IPython.core.display.HTML object>"
      ]
     },
     "execution_count": 35,
     "metadata": {},
     "output_type": "execute_result"
    }
   ],
   "source": [
    "def g_new(z, k):\n",
    "    Z = z+1\n",
    "    Z_c = 3.5\n",
    "    return Z**k/(1+Z/Z_c)**k\n",
    "\n",
    "def L_lim1(F_lim, z_i, d_Li, g=g_new, k=0):\n",
    "    return (F_lim*1e-26)*4*math.pi*(d_Li*3.08567758e25)**2/g(z_i, k)\n",
    "\n",
    "hide_toggle()"
   ]
  },
  {
   "cell_type": "code",
   "execution_count": 37,
   "metadata": {},
   "outputs": [
    {
     "data": {
      "text/html": [
       "\n",
       "        <script>\n",
       "            function code_toggle_16763413788359872999() {\n",
       "                $('div.cell.code_cell.rendered.selected').find('div.input').toggle();\n",
       "            }\n",
       "\n",
       "            \n",
       "        </script>\n",
       "\n",
       "        <a href=\"javascript:code_toggle_16763413788359872999()\">Toggle show/hide</a>\n",
       "    "
      ],
      "text/plain": [
       "<IPython.core.display.HTML object>"
      ]
     },
     "execution_count": 37,
     "metadata": {},
     "output_type": "execute_result"
    }
   ],
   "source": [
    "import numpy as np\n",
    "import matplotlib.pyplot as plt\n",
    "import math\n",
    "\n",
    "def sort_by_first(A, B, reverse=False): #SORT USING Z!\n",
    "    list1, list2 = zip(*sorted(zip(A, B), reverse=reverse))\n",
    "    return list(list1), list(list2)\n",
    "\n",
    "#original setup of Kendall Tau, using a generic F_lim,z --> L converter\n",
    "\n",
    "def kendall_tau(L, z, F_lim, srted=False, func=L_lim1):\n",
    "    \n",
    "    #if necessary, sort by z while keeping reference to L\n",
    "    if not srted:\n",
    "        z, L = sort_by_first(z, L)\n",
    "        \n",
    "    R = []\n",
    "    E = []\n",
    "    V = []\n",
    "    \n",
    "    for i in range(len(L)):\n",
    "        higher = 0\n",
    "        lower = 0\n",
    "        \n",
    "        if(L[i] < func(F_lim, z[i])): #don't include sources that are not above flux limit\n",
    "            continue\n",
    "        \n",
    "        for j in range(0, i): #since sorted by now, only j < i has z_j < z_i\n",
    "            if(L[j] >= func(F_lim, z[i]) and z[j] <= z[i]): #associated set requirements\n",
    "                if(L[j] > L[i]):\n",
    "                    higher += 1\n",
    "                else:\n",
    "                    lower += 1\n",
    "        \n",
    "        R.append((lower+1)/(higher+lower+1))\n",
    "        E.append(0.5)\n",
    "        V.append(1/12)\n",
    "    \n",
    "    numer = sum(R) - sum(E)\n",
    "    denom = (sum(V))**0.5\n",
    "    return numer/denom\n",
    "\n",
    "hide_toggle()"
   ]
  },
  {
   "cell_type": "code",
   "execution_count": 38,
   "metadata": {},
   "outputs": [
    {
     "data": {
      "text/html": [
       "\n",
       "        <script>\n",
       "            function code_toggle_8927079926321515398() {\n",
       "                $('div.cell.code_cell.rendered.selected').find('div.input').toggle();\n",
       "            }\n",
       "\n",
       "            \n",
       "        </script>\n",
       "\n",
       "        <a href=\"javascript:code_toggle_8927079926321515398()\">Toggle show/hide</a>\n",
       "    "
      ],
      "text/plain": [
       "<IPython.core.display.HTML object>"
      ]
     },
     "execution_count": 38,
     "metadata": {},
     "output_type": "execute_result"
    }
   ],
   "source": [
    "def kt_newform(L, z, F_lim, d_L, g=g_new, k=0, func=L_lim1):\n",
    "    \n",
    "    #if necessary, sort by z while keeping reference to L\n",
    "    z, L = sort_by_first(z, L)\n",
    "        \n",
    "    R = []\n",
    "    E = []\n",
    "    V = []\n",
    "    \n",
    "    for i in range(len(L)):\n",
    "        higher = 0\n",
    "        lower = 0\n",
    "        \n",
    "        #not considering data points under the cutoff\n",
    "        #if(L[i] < func(F_lim, z[i], d_L[i], g=g, k=k)):\n",
    "        #    print(i)\n",
    "        #    continue\n",
    "        \n",
    "        for j in range(0, i): #since sorted by now, only j < i has z_j < z_i\n",
    "            if(L[j] >= func(F_lim, z[i], d_L[i], g=g, k=k) and z[j] <= z[i]): #associated set requirements\n",
    "                \n",
    "                if(L[j] > L[i]):\n",
    "                    higher += 1\n",
    "                else:\n",
    "                    lower += 1\n",
    "        \n",
    "        R.append((lower+1)/(higher+lower+1))\n",
    "        E.append(0.5)\n",
    "        V.append(1/12)\n",
    "    \n",
    "    numer = sum(R) - sum(E)\n",
    "    denom = (sum(V))**0.5\n",
    "    return numer/denom\n",
    "\n",
    "hide_toggle()"
   ]
  },
  {
   "cell_type": "code",
   "execution_count": 39,
   "metadata": {},
   "outputs": [
    {
     "data": {
      "text/html": [
       "\n",
       "        <script>\n",
       "            function code_toggle_3959772968956106404() {\n",
       "                $('div.cell.code_cell.rendered.selected').find('div.input').toggle();\n",
       "            }\n",
       "\n",
       "            \n",
       "        </script>\n",
       "\n",
       "        <a href=\"javascript:code_toggle_3959772968956106404()\">Toggle show/hide</a>\n",
       "    "
      ],
      "text/plain": [
       "<IPython.core.display.HTML object>"
      ]
     },
     "execution_count": 39,
     "metadata": {},
     "output_type": "execute_result"
    }
   ],
   "source": [
    "def new_L(L, z, k=0, g=g_new):\n",
    "    return [L[i]/g(z[i], k) for i in range(len(L))]\n",
    "\n",
    "def tau_k(L_p, z, k, F_lim, d_L, func=L_lim1, g=g_new):\n",
    "    L_new = new_L(L_p, z, k=k, g=g)\n",
    "    return kt_newform(L_new, z, F_lim, d_L, func=func)\n",
    "\n",
    "def tkgraph(L_p, z, F_lim, d_L, func=L_lim1, g=g_new, k_min=-1, k_max=7, dk=0.01):\n",
    "    #the current k value\n",
    "    k = k_min\n",
    "\n",
    "    #list of k, tau\n",
    "    list_k = []\n",
    "    list_t = []\n",
    "\n",
    "    k1 = k_min #k closest to tau = 1\n",
    "    kn1 = k_min #k closest to tau = -1\n",
    "    k0 = k_min #k closest to t=0\n",
    "\n",
    "    dif1 = 1e300 #smallest distance so far to tau = 1\n",
    "    difn1 = 1e300 #smallest distance so far to tau = -1\n",
    "    dif0 = 1e300\n",
    "\n",
    "    while(k <= k_max):\n",
    "        list_k.append(k)\n",
    "        t_k = tau_k(L_p, z, k, F_lim, d_L, func=func, g=g)\n",
    "        list_t.append(t_k)\n",
    "\n",
    "        if(abs(t_k-1) < dif1):\n",
    "            dif1 = abs(t_k-1)\n",
    "            k1 = k\n",
    "        if(abs(t_k+1) < difn1):\n",
    "            difn1 = abs(t_k+1)\n",
    "            kn1 = k\n",
    "        if(abs(t_k) < dif0):\n",
    "            dif0 = abs(t_k)\n",
    "            k0 = k\n",
    "\n",
    "        k += dk\n",
    "    \n",
    "    return list_k, list_t, k1, kn1, k0\n",
    "\n",
    "hide_toggle()"
   ]
  },
  {
   "cell_type": "code",
   "execution_count": 40,
   "metadata": {},
   "outputs": [
    {
     "data": {
      "text/html": [
       "\n",
       "        <script>\n",
       "            function code_toggle_11170687604171099721() {\n",
       "                $('div.cell.code_cell.rendered.selected').find('div.input').toggle();\n",
       "            }\n",
       "\n",
       "            \n",
       "        </script>\n",
       "\n",
       "        <a href=\"javascript:code_toggle_11170687604171099721()\">Toggle show/hide</a>\n",
       "    "
      ],
      "text/plain": [
       "<IPython.core.display.HTML object>"
      ]
     },
     "execution_count": 40,
     "metadata": {},
     "output_type": "execute_result"
    }
   ],
   "source": [
    "tel = slice(27, 54) #ASKAP: (0, 27)  Parkes: (27, 54)  CHIME: (54, 62)\n",
    "F_LIM = 0.15      #ASKAP: 7.7      Parkes: 0.15      CHIME: 0.30\n",
    "telname = 'Parkes'\n",
    "\n",
    "#set k values\n",
    "k_min = -50\n",
    "k_max = 50\n",
    "dk = 0.01\n",
    "\n",
    "list_k, list_t, k1, kn1, k0 = tkgraph(L_p[tel], z[tel], F_lim=F_LIM, d_L=d_L[tel], g=g_new, k_min=k_min, \n",
    "                                     k_max=k_max, dk=dk)\n",
    "\n",
    "hide_toggle()"
   ]
  },
  {
   "cell_type": "code",
   "execution_count": 41,
   "metadata": {},
   "outputs": [
    {
     "data": {
      "text/html": [
       "\n",
       "        <script>\n",
       "            function code_toggle_11362064710808709666() {\n",
       "                $('div.cell.code_cell.rendered.selected').find('div.input').toggle();\n",
       "            }\n",
       "\n",
       "            \n",
       "        </script>\n",
       "\n",
       "        <a href=\"javascript:code_toggle_11362064710808709666()\">Toggle show/hide</a>\n",
       "    "
      ],
      "text/plain": [
       "<IPython.core.display.HTML object>"
      ]
     },
     "execution_count": 41,
     "metadata": {},
     "output_type": "execute_result"
    },
    {
     "data": {
      "image/png": "[encoded data removed]",
      "text/plain": [
       "<Figure size 432x288 with 1 Axes>"
      ]
     },
     "metadata": {
      "needs_background": "light"
     },
     "output_type": "display_data"
    }
   ],
   "source": [
    "k1, kn1, k0 = round(k1, 2), round(kn1, 2), round(k0, 2)\n",
    "\n",
    "YMAX, YMIN = max(list_t), min(list_t)\n",
    "XMAX, XMIN = k_max, k_min\n",
    "MAR = 0 #margin\n",
    "XMAR = MAR/10 * (abs(XMAX)+abs(XMIN)) #scaling the xmargin\n",
    "YMAR = MAR/10 * (abs(YMAX)+abs(YMIN)) #scaling the ymargin\n",
    "\n",
    "PLOT_LINES = True\n",
    "\n",
    "fig, ax = plt.subplots()  # Create a figure and an axes.\n",
    "ax.plot(list_k, list_t, label='τ(k)')\n",
    "ax.plot(list_k, [0 for i in range(len(list_k))], label='τ=0')\n",
    "\n",
    "if PLOT_LINES:\n",
    "    ax.plot([k1 for i in range(11)], [YMIN+(1-YMIN)*i/10 for i in range(11)], color='black', linestyle='--', label='k = ' + str(kn1))\n",
    "    ax.plot([kn1 for i in range(11)], [YMIN+(-1-YMIN)*i/10 for i in range(11)], color='black', linestyle='--', label='k = ' + str(k1))\n",
    "    ax.plot([XMIN + (k1-XMIN)*i/10 for i in range(11)],[1 for i in range(11)], color='black', linestyle='--')\n",
    "    ax.plot([XMIN + (kn1-XMIN)*i/10 for i in range(11)],[-1 for i in range(11)], color='black', linestyle='--')\n",
    "\n",
    "ax.set_ylim([YMIN-YMAR, YMAX+YMAR])\n",
    "ax.set_xlim([XMIN-XMAR, XMAX+XMAR])\n",
    "ax.set_xlabel('k')  # Add an x-label to the axes.\n",
    "ax.set_ylabel('τ')  # Add a y-label to the axes.\n",
    "ax.plot()\n",
    "\n",
    "ax.set_title(\"[\" + telname + \"] Relation between τ and k\")  # Add a title to the axes.\n",
    "ax.legend()  # Add a legend.\n",
    "hide_toggle()"
   ]
  },
  {
   "cell_type": "code",
   "execution_count": 42,
   "metadata": {},
   "outputs": [
    {
     "data": {
      "text/html": [
       "\n",
       "        <script>\n",
       "            function code_toggle_6913321548699236541() {\n",
       "                $('div.cell.code_cell.rendered.selected').find('div.input').toggle();\n",
       "            }\n",
       "\n",
       "            \n",
       "        </script>\n",
       "\n",
       "        <a href=\"javascript:code_toggle_6913321548699236541()\">Toggle show/hide</a>\n",
       "    "
      ],
      "text/plain": [
       "<IPython.core.display.HTML object>"
      ]
     },
     "execution_count": 42,
     "metadata": {},
     "output_type": "execute_result"
    },
    {
     "data": {
      "image/png": "[encoded data removed]",
      "text/plain": [
       "<Figure size 432x288 with 1 Axes>"
      ]
     },
     "metadata": {
      "needs_background": "light"
     },
     "output_type": "display_data"
    }
   ],
   "source": [
    "K = k0\n",
    "\n",
    "L_cutoffs = []\n",
    "for i in range(len(z)):\n",
    "    L_cutoffs.append(L_lim1(F_LIM, z[i], d_L[i], g=g_new, k=K))\n",
    "\n",
    "z_throwaway, L_cutoffs = sort_by_first(z, L_cutoffs)\n",
    "\n",
    "fig, ax = plt.subplots()\n",
    "plt.yscale('log')\n",
    "ax.scatter(z[tel], new_L(L_p[tel], z[tel], k=K, g=g_new), label=telname)\n",
    "ax.plot(z_throwaway, L_cutoffs, label='F_cutoff ='+str(F_LIM) + ' Jy / g(z, k=' + str(K) + \")\")\n",
    "ax.set_ylim([1e24, 1e30])\n",
    "#ax.set_xlim([-0.05, 2.25])\n",
    "ax.set_xlabel('z')\n",
    "ax.set_ylabel('L_peak')\n",
    "ax.set_title('['+ telname+ '] L\\' vs. z (k = ' + str(K) + ')')\n",
    "\n",
    "randnum = 35\n",
    "idx = np.argwhere(np.diff(np.sign(np.array(L_cutoffs) - L_p[randnum]))).flatten()\n",
    "#plt.plot(np.array(z_throwaway)[idx], np.array(L_cutoffs)[idx], 'ro')\n",
    "plt.plot(z[randnum], L_p[randnum], 'bo')\n",
    "ax.legend()\n",
    "\n",
    "hide_toggle()"
   ]
  },
  {
   "cell_type": "code",
   "execution_count": 115,
   "metadata": {},
   "outputs": [
    {
     "data": {
      "text/plain": [
       "4.15212543936665e+25"
      ]
     },
     "execution_count": 115,
     "metadata": {},
     "output_type": "execute_result"
    }
   ],
   "source": []
  },
  {
   "cell_type": "code",
   "execution_count": 43,
   "metadata": {},
   "outputs": [],
   "source": [
    "L_prime = new_L(L_p[tel], z[tel], k=2.91, g=g_new)"
   ]
  },
  {
   "cell_type": "code",
   "execution_count": 44,
   "metadata": {},
   "outputs": [],
   "source": [
    "def sigma_z(L, z, F_lim, d_L, func=L_lim1, g=g_new): #z0 being the z of interest\n",
    "    z, L = sort_by_first(z, L)\n",
    "    m = []\n",
    "    for i in range(len(L)):\n",
    "        num = 0\n",
    "        for j in range(0, i): #since sorted by now, only j < i has z_j < z_i\n",
    "            if(L[j] >= func(F_lim, z[i], d_L[i], g=g) and z[j] <= z[i]): #associated set requirements\n",
    "                num += 1\n",
    "        \n",
    "        m.append(num+1) #includes itself?\n",
    "    \n",
    "    sigma = []\n",
    "    prod = 1\n",
    "    for j in range(len(L)):\n",
    "        prod *= (1 + 1/m[j])\n",
    "        sigma.append(prod)\n",
    "    \n",
    "    return sigma, z"
   ]
  },
  {
   "cell_type": "code",
   "execution_count": 45,
   "metadata": {},
   "outputs": [],
   "source": [
    "sigma, z_ = sigma_z(L_p[tel], z[tel], 0.15, d_L[tel])"
   ]
  },
  {
   "cell_type": "code",
   "execution_count": 46,
   "metadata": {},
   "outputs": [
    {
     "data": {
      "text/html": [
       "\n",
       "        <script>\n",
       "            function code_toggle_14476531049766032821() {\n",
       "                $('div.cell.code_cell.rendered.selected').find('div.input').toggle();\n",
       "            }\n",
       "\n",
       "            \n",
       "        </script>\n",
       "\n",
       "        <a href=\"javascript:code_toggle_14476531049766032821()\">Toggle show/hide</a>\n",
       "    "
      ],
      "text/plain": [
       "<IPython.core.display.HTML object>"
      ]
     },
     "execution_count": 46,
     "metadata": {},
     "output_type": "execute_result"
    },
    {
     "data": {
      "image/png": "[encoded data removed]",
      "text/plain": [
       "<Figure size 432x288 with 1 Axes>"
      ]
     },
     "metadata": {
      "needs_background": "light"
     },
     "output_type": "display_data"
    }
   ],
   "source": [
    "\n",
    "fig, ax = plt.subplots()\n",
    "plt.yscale('log')\n",
    "plt.xscale('log')\n",
    "plt.ylim([1, 200])\n",
    "plt.xlim([1, 5])\n",
    "ax.scatter(1 + np.array(z_), sigma, label=telname)\n",
    "ax.set_xlabel('1+z')\n",
    "ax.set_ylabel('sigma')\n",
    "ax.set_title('sigma vs. (1+z)')\n",
    "ax.legend()\n",
    "\n",
    "hide_toggle()"
   ]
  },
  {
   "cell_type": "code",
   "execution_count": 47,
   "metadata": {},
   "outputs": [
    {
     "name": "stdout",
     "output_type": "stream",
     "text": [
      "0.14\n",
      "0.19\n",
      "0.19\n",
      "0.28\n",
      "0.3\n",
      "0.35\n",
      "0.43\n",
      "0.44\n",
      "0.49\n",
      "0.56\n",
      "0.57\n",
      "0.57\n",
      "0.59\n",
      "0.69\n",
      "0.72\n",
      "0.74\n",
      "0.76\n",
      "0.8\n",
      "0.89\n",
      "0.95\n",
      "1.2\n",
      "1.3\n",
      "1.5\n",
      "1.57\n",
      "1.6\n",
      "2.0\n",
      "2.1\n"
     ]
    }
   ],
   "source": [
    "for s in z_:\n",
    "    print(s)"
   ]
  },
  {
   "cell_type": "code",
   "execution_count": 48,
   "metadata": {},
   "outputs": [
    {
     "name": "stdout",
     "output_type": "stream",
     "text": [
      "[-7.50444804  7.41720043  0.03419661]\n"
     ]
    }
   ],
   "source": [
    "logz = np.log10(1+np.array(z_))\n",
    "logS = np.log10(sigma)\n",
    "\n",
    "args = np.polyfit(logz, logS, 2)\n",
    "print(args)"
   ]
  },
  {
   "cell_type": "code",
   "execution_count": 49,
   "metadata": {},
   "outputs": [],
   "source": [
    "def unpack(args, logz):\n",
    "    poly = np.zeros(len(logz))\n",
    "    for j in range(len(args)):\n",
    "        power = len(args)-j-1\n",
    "        poly += args[j]*(logz**power)\n",
    "    return poly\n",
    "            "
   ]
  },
  {
   "cell_type": "code",
   "execution_count": 50,
   "metadata": {},
   "outputs": [
    {
     "data": {
      "text/plain": [
       "<matplotlib.legend.Legend at 0x109835470>"
      ]
     },
     "execution_count": 50,
     "metadata": {},
     "output_type": "execute_result"
    },
    {
     "data": {
      "image/png": "[encoded data removed]",
      "text/plain": [
       "<Figure size 432x288 with 1 Axes>"
      ]
     },
     "metadata": {
      "needs_background": "light"
     },
     "output_type": "display_data"
    }
   ],
   "source": [
    "fig, ax = plt.subplots()\n",
    "plt.ylim([0, 2.3])\n",
    "plt.xlim([0, 0.7])\n",
    "ax.scatter(logz, logS, label=telname)\n",
    "ax.plot(np.linspace(0, 0.7, 50), unpack(args, np.linspace(0, 0.7, 50)), label='best fit')\n",
    "ax.set_xlabel('log(1+z)')\n",
    "ax.set_ylabel('log(sigma)')\n",
    "ax.set_title('log(sigma) vs. log(1+z)')\n",
    "ax.legend()"
   ]
  },
  {
   "cell_type": "code",
   "execution_count": 51,
   "metadata": {},
   "outputs": [],
   "source": [
    "def manual_dL(z, O_M=0.286, O_V=0.714, H_0=69.6, dz = 1e-5):\n",
    "    d_H = 299792458/(H_0*3.24077929e-20) #Hubble Distance, in meters!\n",
    "    \n",
    "    #numerical integration\n",
    "    z_cur = 0\n",
    "    integral = 0\n",
    "    \n",
    "    while(z_cur < z):\n",
    "        dI = dz/(O_M*(1+z_cur)**3 + O_V)**0.5\n",
    "        z_cur += dz\n",
    "        dI2 = dz/(O_M*(1+z_cur)**3 + O_V)**0.5\n",
    "        integral += (dI+dI2)/2\n",
    "    \n",
    "    return integral*(1+z)*d_H"
   ]
  },
  {
   "cell_type": "code",
   "execution_count": 52,
   "metadata": {},
   "outputs": [],
   "source": [
    "def manual_Llim(F_lim, z_i, g=g_new, k=0):\n",
    "    return (F_lim*1e-26)*4*math.pi*(manual_dL(z_i))**2/g(z_i, k)"
   ]
  },
  {
   "cell_type": "code",
   "execution_count": 53,
   "metadata": {},
   "outputs": [],
   "source": [
    "def print_progress(i, l, prefix='PROGRESS:', suffix='COMPLETE', decimals=1, length=50, fill='█', empty='-'):\n",
    "    blocks = int(i*length/l)\n",
    "    spaces = length-blocks\n",
    "    percent = round(100*i/l,decimals)\n",
    "    bar = blocks*fill + spaces*empty\n",
    "    print(f\"\\r{prefix} |{bar}| {percent}% {suffix}\", end=' ')"
   ]
  },
  {
   "cell_type": "code",
   "execution_count": 54,
   "metadata": {},
   "outputs": [
    {
     "name": "stdout",
     "output_type": "stream",
     "text": [
      "PROGRESS: |██████████████████████████████████████████████████| 100.0% COMPLETE "
     ]
    }
   ],
   "source": [
    "#manually takes a while, so separate cell\n",
    "\n",
    "L_cutoffs = []\n",
    "\n",
    "zrange = np.linspace(0, 2.25, num=2000)\n",
    "\n",
    "for i in range(len(zrange)):\n",
    "    L_cutoffs.append(manual_Llim(F_LIM, zrange[i], g=g_new, k=K))\n",
    "    print_progress(i+1, len(zrange))"
   ]
  },
  {
   "cell_type": "code",
   "execution_count": null,
   "metadata": {},
   "outputs": [],
   "source": []
  },
  {
   "cell_type": "code",
   "execution_count": 55,
   "metadata": {},
   "outputs": [
    {
     "data": {
      "text/html": [
       "\n",
       "        <script>\n",
       "            function code_toggle_5442372422414424645() {\n",
       "                $('div.cell.code_cell.rendered.selected').find('div.input').toggle();\n",
       "            }\n",
       "\n",
       "            \n",
       "        </script>\n",
       "\n",
       "        <a href=\"javascript:code_toggle_5442372422414424645()\">Toggle show/hide</a>\n",
       "    "
      ],
      "text/plain": [
       "<IPython.core.display.HTML object>"
      ]
     },
     "execution_count": 55,
     "metadata": {},
     "output_type": "execute_result"
    },
    {
     "data": {
      "image/png": "[encoded data removed]",
      "text/plain": [
       "<Figure size 432x288 with 1 Axes>"
      ]
     },
     "metadata": {
      "needs_background": "light"
     },
     "output_type": "display_data"
    }
   ],
   "source": [
    "K = 0\n",
    "\n",
    "zrange, L_cutoffs = sort_by_first(zrange, L_cutoffs)\n",
    "\n",
    "fig, ax = plt.subplots()\n",
    "plt.yscale('log')\n",
    "ax.scatter(z[tel], new_L(L_p[tel], z[tel], k=K, g=g_new), label=telname)\n",
    "ax.plot(zrange, L_cutoffs, label='F_cutoff ='+str(F_LIM) + ' Jy / g(z, k=' + str(K) + \")\")\n",
    "ax.set_ylim([1e24, 1e30])\n",
    "ax.set_xlim([-0.05, 2.25])\n",
    "ax.set_xlabel('z')\n",
    "ax.set_ylabel('L_peak')\n",
    "ax.set_title('['+ telname+ '] L\\' vs. z (k = ' + str(K) + ')')\n",
    "\n",
    "randnum = 35\n",
    "ax.plot(z[randnum], L_p[randnum], 'ro', label ='wtf')\n",
    "ax.plot(zrange[1056], L_cutoffs[1056], 'bo', label='maxz')\n",
    "ax.legend()\n",
    "\n",
    "hide_toggle()"
   ]
  },
  {
   "cell_type": "code",
   "execution_count": 56,
   "metadata": {},
   "outputs": [
    {
     "data": {
      "text/plain": [
       "3.024880746990346e+26"
      ]
     },
     "execution_count": 56,
     "metadata": {},
     "output_type": "execute_result"
    }
   ],
   "source": [
    "L_cutoffs[745]"
   ]
  },
  {
   "cell_type": "code",
   "execution_count": 57,
   "metadata": {},
   "outputs": [
    {
     "data": {
      "text/plain": [
       "5.21193301151538e+26"
      ]
     },
     "execution_count": 57,
     "metadata": {},
     "output_type": "execute_result"
    }
   ],
   "source": [
    "L_p[randnum]"
   ]
  },
  {
   "cell_type": "code",
   "execution_count": 58,
   "metadata": {},
   "outputs": [
    {
     "data": {
      "text/plain": [
       "2.1"
      ]
     },
     "execution_count": 58,
     "metadata": {},
     "output_type": "execute_result"
    }
   ],
   "source": [
    "max(z[tel])"
   ]
  },
  {
   "cell_type": "code",
   "execution_count": 59,
   "metadata": {},
   "outputs": [],
   "source": [
    "def get_max_z(zrange, L_cutoffs, L):\n",
    "    idx = np.argwhere(np.diff(np.sign(np.array(L_cutoffs) - L))).flatten()\n",
    "    if(len(idx) < 1):\n",
    "        return 1e300\n",
    "    return np.array(zrange)[idx][0]"
   ]
  },
  {
   "cell_type": "code",
   "execution_count": 60,
   "metadata": {},
   "outputs": [
    {
     "data": {
      "text/plain": [
       "1.1885942971485743"
      ]
     },
     "execution_count": 60,
     "metadata": {},
     "output_type": "execute_result"
    }
   ],
   "source": [
    "get_max_z(zrange, L_cutoffs, L_p[randnum])"
   ]
  },
  {
   "cell_type": "code",
   "execution_count": 61,
   "metadata": {
    "scrolled": false
   },
   "outputs": [
    {
     "data": {
      "text/plain": [
       "[1.4472994122953383e+27,\n",
       " 3.149110064114112e+26,\n",
       " 6.0908053794960286e+26,\n",
       " 5.865482873584374e+25,\n",
       " 8.740274167770368e+27,\n",
       " 1.8159498954351517e+27,\n",
       " 2.2498860376798284e+27,\n",
       " 2.2256499259443295e+27,\n",
       " 4.176824607831405e+26,\n",
       " 1.1166276435698347e+27,\n",
       " 3.352975247400746e+26,\n",
       " 1.695790994063613e+27,\n",
       " 1.209695487749351e+27,\n",
       " 8.530399950576744e+26,\n",
       " 3.249826583115173e+26,\n",
       " 1.2662229221298476e+27,\n",
       " 3.2103441136431715e+26,\n",
       " 7.303858074135388e+26,\n",
       " 1.8022066133664358e+27,\n",
       " 2.4689301624754303e+27,\n",
       " 1.4725566299164962e+27,\n",
       " 7.84240832484191e+26,\n",
       " 3.974402397516345e+27,\n",
       " 7.757189246650208e+27,\n",
       " 3.94847139782753e+27,\n",
       " 1.1125823831715643e+27,\n",
       " 3.233311801769861e+27]"
      ]
     },
     "execution_count": 61,
     "metadata": {},
     "output_type": "execute_result"
    }
   ],
   "source": [
    "L_prime = new_L(L_p[tel], z[tel], k=2.91, g=g_new)\n",
    "L_prime"
   ]
  },
  {
   "cell_type": "code",
   "execution_count": 62,
   "metadata": {},
   "outputs": [
    {
     "data": {
      "text/plain": [
       "[0.3,\n",
       " 0.57,\n",
       " 0.95,\n",
       " 0.19,\n",
       " 0.28,\n",
       " 0.72,\n",
       " 0.14,\n",
       " 0.76,\n",
       " 0.56,\n",
       " 0.89,\n",
       " 0.43,\n",
       " 1.3,\n",
       " 0.74,\n",
       " 0.35,\n",
       " 0.69,\n",
       " 0.59,\n",
       " 0.44,\n",
       " 0.57,\n",
       " 0.49,\n",
       " 1.2,\n",
       " 1.5,\n",
       " 0.8,\n",
       " 2.1,\n",
       " 1.57,\n",
       " 0.19,\n",
       " 2.0,\n",
       " 1.6]"
      ]
     },
     "execution_count": 62,
     "metadata": {},
     "output_type": "execute_result"
    }
   ],
   "source": [
    "z[tel]"
   ]
  },
  {
   "cell_type": "code",
   "execution_count": 63,
   "metadata": {},
   "outputs": [
    {
     "data": {
      "text/plain": [
       "[0.0,\n",
       " 1.8296081893740102e+21,\n",
       " 7.294157195669621e+21,\n",
       " 1.6261189494606244e+22,\n",
       " 2.885576313905025e+22,\n",
       " 4.48188257047085e+22,\n",
       " 6.44022688697897e+22,\n",
       " 8.722237935310067e+22,\n",
       " 1.1365608001922253e+23,\n",
       " 1.4347900060372408e+23,\n",
       " 1.7634460357077807e+23,\n",
       " 2.128143096453171e+23,\n",
       " 2.5220015286838975e+23,\n",
       " 2.9518418379807898e+23,\n",
       " 3.4095985458940316e+23,\n",
       " 3.903281279329477e+23,\n",
       " 4.423655576376101e+23,\n",
       " 4.979903242133249e+23,\n",
       " 5.567104846634584e+23,\n",
       " 6.179195437889463e+23,\n",
       " 6.827086486217466e+23,\n",
       " 7.49869060303651e+23,\n",
       " 8.206050056639974e+23,\n",
       " 8.935965651763084e+23,\n",
       " 9.701594303004605e+23,\n",
       " 1.0488640846152711e+24,\n",
       " 1.1311360908954494e+24,\n",
       " 1.2162325988375537e+24,\n",
       " 1.3033033692110735e+24,\n",
       " 1.393936087593004e+24,\n",
       " 1.486433781589383e+24,\n",
       " 1.5824901161042053e+24,\n",
       " 1.680303901736489e+24,\n",
       " 1.7816732633724691e+24,\n",
       " 1.8846942850731656e+24,\n",
       " 1.9912680527909708e+24,\n",
       " 2.1004164916816684e+24,\n",
       " 2.2110608787814938e+24,\n",
       " 2.32525422178655e+24,\n",
       " 2.440841934912481e+24,\n",
       " 2.55997632495309e+24,\n",
       " 2.6804051434657163e+24,\n",
       " 2.804378566603116e+24,\n",
       " 2.929548086419799e+24,\n",
       " 3.058260337799351e+24,\n",
       " 3.189316784653681e+24,\n",
       " 3.3214245882971613e+24,\n",
       " 3.457072705318735e+24,\n",
       " 3.593677760936737e+24,\n",
       " 3.7338217236827113e+24,\n",
       " 3.8748297273464205e+24,\n",
       " 4.01937540650785e+24,\n",
       " 4.164693724928641e+24,\n",
       " 4.313548655231397e+24,\n",
       " 4.464535102538089e+24,\n",
       " 4.616159644824291e+24,\n",
       " 4.7713195388006276e+24,\n",
       " 4.927029763863922e+24,\n",
       " 5.086274669398991e+24,\n",
       " 5.245983555794593e+24,\n",
       " 5.409226597715923e+24,\n",
       " 5.572848661350157e+24,\n",
       " 5.740004496003185e+24,\n",
       " 5.909095544048844e+24,\n",
       " 6.078440549501384e+24,\n",
       " 6.251319034751367e+24,\n",
       " 6.424369901660398e+24,\n",
       " 6.600954190541308e+24,\n",
       " 6.777630600436549e+24,\n",
       " 6.95784049572687e+24,\n",
       " 7.138063545643634e+24,\n",
       " 7.321820260481938e+24,\n",
       " 7.507330960068503e+24,\n",
       " 7.692738569736575e+24,\n",
       " 7.881680355234992e+24,\n",
       " 8.070443233065993e+24,\n",
       " 8.262740734965118e+24,\n",
       " 8.45478473555678e+24,\n",
       " 8.650363907639871e+24,\n",
       " 8.845616189629397e+24,\n",
       " 9.044404285186177e+24,\n",
       " 9.244779022967705e+24,\n",
       " 9.44471883629692e+24,\n",
       " 9.64819562914724e+24,\n",
       " 9.851167040557896e+24,\n",
       " 1.0057676291205694e+25,\n",
       " 1.0263610843461887e+25,\n",
       " 1.0473084174430235e+25,\n",
       " 1.0681914612291454e+25,\n",
       " 1.089428484411145e+25,\n",
       " 1.1108087173677078e+25,\n",
       " 1.1321146222696092e+25,\n",
       " 1.1537746757183745e+25,\n",
       " 1.1753538547763542e+25,\n",
       " 1.1972873011772793e+25,\n",
       " 1.2191334330808972e+25,\n",
       " 1.2413339573916623e+25,\n",
       " 1.2634408316816286e+25,\n",
       " 1.2859022293609073e+25,\n",
       " 1.3084925625155332e+25,\n",
       " 1.3309799195092873e+25,\n",
       " 1.3538220102174629e+25,\n",
       " 1.376555043833644e+25,\n",
       " 1.3996429554726445e+25,\n",
       " 1.422615828124419e+25,\n",
       " 1.4459437278769623e+25,\n",
       " 1.469150704258563e+25,\n",
       " 1.4927128612815547e+25,\n",
       " 1.5163907682921839e+25,\n",
       " 1.5399390901907903e+25,\n",
       " 1.5638428342447704e+25,\n",
       " 1.5876113462284082e+25,\n",
       " 1.611735443776696e+25,\n",
       " 1.6357187546704702e+25,\n",
       " 1.660057817995498e+25,\n",
       " 1.6842506310437321e+25,\n",
       " 1.7087993665788252e+25,\n",
       " 1.733451671655237e+25,\n",
       " 1.7579496844684782e+25,\n",
       " 1.7828038837298864e+25,\n",
       " 1.8074985486265755e+25,\n",
       " 1.832549576872419e+25,\n",
       " 1.8574359148525595e+25,\n",
       " 1.8826787953939461e+25,\n",
       " 1.9077519146598842e+25,\n",
       " 1.9331817577762235e+25,\n",
       " 1.958703918147707e+25,\n",
       " 1.9840488536354397e+25,\n",
       " 2.009750791748328e+25,\n",
       " 2.0352706407427168e+25,\n",
       " 2.061147677860332e+25,\n",
       " 2.0868378421000255e+25,\n",
       " 2.1128853812736476e+25,\n",
       " 2.13874134307048e+25,\n",
       " 2.1649548677211606e+25,\n",
       " 2.1912503148960035e+25,\n",
       " 2.2173472610885014e+25,\n",
       " 2.2438020570755426e+25,\n",
       " 2.2700538406755744e+25,\n",
       " 2.296663663906853e+25,\n",
       " 2.3230660385086282e+25,\n",
       " 2.349826643024124e+25,\n",
       " 2.37637543670197e+25,\n",
       " 2.4032826508455718e+25,\n",
       " 2.4302621854550445e+25,\n",
       " 2.4570234900077365e+25,\n",
       " 2.484143504363433e+25,\n",
       " 2.511041106846959e+25,\n",
       " 2.5382976096167186e+25,\n",
       " 2.5653275889270215e+25,\n",
       " 2.5927166587027848e+25,\n",
       " 2.6198751626121335e+25,\n",
       " 2.647392946710188e+25,\n",
       " 2.6749741822273794e+25,\n",
       " 2.7023189039674036e+25,\n",
       " 2.7300231926420284e+25,\n",
       " 2.757487093725192e+25,\n",
       " 2.785310749684546e+25,\n",
       " 2.812890209881187e+25,\n",
       " 2.840829611946025e+25,\n",
       " 2.868826037850247e+25,\n",
       " 2.8965726653258923e+25,\n",
       " 2.9246795163963233e+25,\n",
       " 2.9525329208585005e+25,\n",
       " 2.9807467329626395e+25,\n",
       " 3.008703512579115e+25,\n",
       " 3.0370208824975507e+25,\n",
       " 3.065077695428467e+25,\n",
       " 3.093495279818806e+25,\n",
       " 3.1219621894465036e+25,\n",
       " 3.1501633575746546e+25,\n",
       " 3.1787255690967056e+25,\n",
       " 3.207018664241736e+25,\n",
       " 3.2356729796928638e+25,\n",
       " 3.264054862158968e+25,\n",
       " 3.2927981399681016e+25,\n",
       " 3.321265725596795e+25,\n",
       " 3.35009487963224e+25,\n",
       " 3.3789662513462134e+25,\n",
       " 3.407557137492801e+25,\n",
       " 3.4365098509465925e+25,\n",
       " 3.465178959609561e+25,\n",
       " 3.494210063294402e+25,\n",
       " 3.5229544974822182e+25,\n",
       " 3.5520610921182313e+25,\n",
       " 3.580878006270269e+25,\n",
       " 3.610057243926077e+25,\n",
       " 3.639272139053841e+25,\n",
       " 3.6681929262726898e+25,\n",
       " 3.6974762801206023e+25,\n",
       " 3.7264626460577303e+25,\n",
       " 3.7558117354011356e+25,\n",
       " 3.78486100785409e+25,\n",
       " 3.814273157855741e+25,\n",
       " 3.8433827122658884e+25,\n",
       " 3.872855295663656e+25,\n",
       " 3.902357483391405e+25,\n",
       " 3.93155299062457e+25,\n",
       " 3.961111751898647e+25,\n",
       " 3.990361176588197e+25,\n",
       " 4.019973999704771e+25,\n",
       " 4.049274877911671e+25,\n",
       " 4.078939296009468e+25,\n",
       " 4.1082892079440044e+25,\n",
       " 4.138002798254568e+25,\n",
       " 4.167740409647739e+25,\n",
       " 4.197159750648422e+25,\n",
       " 4.226942975103432e+25,\n",
       " 4.2564054827161025e+25,\n",
       " 4.28623200457808e+25,\n",
       " 4.315735407875016e+25,\n",
       " 4.3456029530588944e+25,\n",
       " 4.375145022035533e+25,\n",
       " 4.405051357333569e+25,\n",
       " 4.434976566049619e+25,\n",
       " 4.464572834627425e+25,\n",
       " 4.494533553075733e+25,\n",
       " 4.524163081264172e+25,\n",
       " 4.554157175551491e+25,\n",
       " 4.583817871350171e+25,\n",
       " 4.613843246129833e+25,\n",
       " 4.643533055481448e+25,\n",
       " 4.673587653313616e+25,\n",
       " 4.7036563807917876e+25,\n",
       " 4.7333863601961414e+25,\n",
       " 4.763481288855156e+25,\n",
       " 4.793235403223581e+25,\n",
       " 4.823354567731425e+25,\n",
       " 4.853130890978837e+25,\n",
       " 4.883272361756084e+25,\n",
       " 4.913069002986388e+25,\n",
       " 4.943230885614753e+25,\n",
       " 4.973402528726035e+25,\n",
       " 5.003226423178793e+25,\n",
       " 5.0334156960552935e+25,\n",
       " 5.063255326361028e+25,\n",
       " 5.093460420029836e+25,\n",
       " 5.123314013991167e+25,\n",
       " 5.153533152648505e+25,\n",
       " 5.18339897071052e+25,\n",
       " 5.213630411174626e+25,\n",
       " 5.243867590494019e+25,\n",
       " 5.273748777059096e+25,\n",
       " 5.303995698570176e+25,\n",
       " 5.333884894881845e+25,\n",
       " 5.364139894685942e+25,\n",
       " 5.394035471311392e+25,\n",
       " 5.4242969162889706e+25,\n",
       " 5.454197274082247e+25,\n",
       " 5.484463561386642e+25,\n",
       " 5.514731888411907e+25,\n",
       " 5.5446366875493964e+25,\n",
       " 5.574907503738111e+25,\n",
       " 5.604813210931166e+25,\n",
       " 5.63508498701727e+25,\n",
       " 5.6649901053062935e+25,\n",
       " 5.695261340590895e+25,\n",
       " 5.7251644011229255e+25,\n",
       " 5.755433623005587e+25,\n",
       " 5.785701484793553e+25,\n",
       " 5.815598948090348e+25,\n",
       " 5.845862634937467e+25,\n",
       " 5.8757544840496936e+25,\n",
       " 5.906012591656838e+25,\n",
       " 5.935897452571681e+25,\n",
       " 5.966148603158627e+25,\n",
       " 5.99602512795139e+25,\n",
       " 6.026267969822735e+25,\n",
       " 6.056506329647029e+25,\n",
       " 6.0863680433473475e+25,\n",
       " 6.116596110811373e+25,\n",
       " 6.146446225908653e+25,\n",
       " 6.176662712728618e+25,\n",
       " 6.2064999693348395e+25,\n",
       " 6.236703611848425e+25,\n",
       " 6.266526774293781e+25,\n",
       " 6.296716333057949e+25,\n",
       " 6.326898545812417e+25,\n",
       " 6.356698448889948e+25,\n",
       " 6.386864759424577e+25,\n",
       " 6.4166475787440695e+25,\n",
       " 6.446796806496478e+25,\n",
       " 6.476561388121257e+25,\n",
       " 6.5066923753922024e+25,\n",
       " 6.536437587871002e+25,\n",
       " 6.5665491994513906e+25,\n",
       " 6.596650840633308e+25,\n",
       " 6.626365056255129e+25,\n",
       " 6.656445656661076e+25,\n",
       " 6.6861377669040805e+25,\n",
       " 6.716196246005461e+25,\n",
       " 6.745865195308659e+25,\n",
       " 6.775900493809602e+25,\n",
       " 6.805545247490876e+25,\n",
       " 6.835556326982506e+25,\n",
       " 6.865555034188379e+25,\n",
       " 6.89516171351821e+25,\n",
       " 6.925134679083338e+25,\n",
       " 6.954714661826142e+25,\n",
       " 6.984660898126856e+25,\n",
       " 7.0142132200728476e+25,\n",
       " 7.044131759206108e+25,\n",
       " 7.073655475534313e+25,\n",
       " 7.103545368996834e+25,\n",
       " 7.133420694954208e+25,\n",
       " 7.1628998723318155e+25,\n",
       " 7.19274516230154e+25,\n",
       " 7.222193451579716e+25,\n",
       " 7.2520078042299035e+25,\n",
       " 7.281424326033947e+25,\n",
       " 7.3112068583502e+25,\n",
       " 7.34097324885755e+25,\n",
       " 7.370340598299494e+25,\n",
       " 7.400073874540283e+25,\n",
       " 7.4294073331547e+25,\n",
       " 7.459106656655568e+25,\n",
       " 7.4884054068561265e+25,\n",
       " 7.51806995643975e+25,\n",
       " 7.547333197640166e+25,\n",
       " 7.576962169144303e+25,\n",
       " 7.606573135455381e+25,\n",
       " 7.6357817234824715e+25,\n",
       " 7.665355933837391e+25,\n",
       " 7.694527081085067e+25,\n",
       " 7.724063772696836e+25,\n",
       " 7.75319673596507e+25,\n",
       " 7.78269516211325e+25,\n",
       " 7.811789213990924e+25,\n",
       " 7.841248643760715e+25,\n",
       " 7.870688373367636e+25,\n",
       " 7.89972279039392e+25,\n",
       " 7.92912245355652e+25,\n",
       " 7.958116205342668e+25,\n",
       " 7.98747510958122e+25,\n",
       " 8.016427522014528e+25,\n",
       " 8.04574498977403e+25,\n",
       " 8.074655403405711e+25,\n",
       " 8.103930771813295e+25,\n",
       " 8.133184901549114e+25,\n",
       " 8.162031162246037e+25,\n",
       " 8.19124222271567e+25,\n",
       " 8.220044896018311e+25,\n",
       " 8.249212260052465e+25,\n",
       " 8.277970736013116e+25,\n",
       " 8.307093790306093e+25,\n",
       " 8.335807472595745e+25,\n",
       " 8.364885617480028e+25,\n",
       " 8.393941130538686e+25,\n",
       " 8.422586572391152e+25,\n",
       " 8.451596299161692e+25,\n",
       " 8.480195512233075e+25,\n",
       " 8.50915888621301e+25,\n",
       " 8.537711320146702e+25,\n",
       " 8.566627787710869e+25,\n",
       " 8.595132904797586e+25,\n",
       " 8.624001924988657e+25,\n",
       " 8.652847055233319e+25,\n",
       " 8.681280244282559e+25,\n",
       " 8.710077136694212e+25,\n",
       " 8.738461716325654e+25,\n",
       " 8.767209860751933e+25,\n",
       " 8.79554533594853e+25,\n",
       " 8.824244234197482e+25,\n",
       " 8.852530121686453e+25,\n",
       " 8.881179287331607e+25,\n",
       " 8.909803430346162e+25,\n",
       " 8.938014073581335e+25,\n",
       " 8.966587773800605e+25,\n",
       " 8.994747669122572e+25,\n",
       " 9.023270468730379e+25,\n",
       " 9.051379172508562e+25,\n",
       " 9.079850624796219e+25,\n",
       " 9.107907704304474e+25,\n",
       " 9.136327373489654e+25,\n",
       " 9.164721003871921e+25,\n",
       " 9.192699867776054e+25,\n",
       " 9.221041079411583e+25,\n",
       " 9.24896728174368e+25,\n",
       " 9.277255665418796e+25,\n",
       " 9.305128810258021e+25,\n",
       " 9.333363967073126e+25,\n",
       " 9.361183668621876e+25,\n",
       " 9.389365209822838e+25,\n",
       " 9.417519804257847e+25,\n",
       " 9.445258639052803e+25,\n",
       " 9.473359051453867e+25,\n",
       " 9.501043519757809e+25,\n",
       " 9.529089386039803e+25,\n",
       " 9.556719136220984e+25,\n",
       " 9.584710101874535e+25,\n",
       " 9.612284791697494e+25,\n",
       " 9.640220511631998e+25,\n",
       " 9.668128477320726e+25,\n",
       " 9.695619946492104e+25,\n",
       " 9.723472164312774e+25,\n",
       " 9.750907755836654e+25,\n",
       " 9.778703903599494e+25,\n",
       " 9.80608330695004e+25,\n",
       " 9.833823071353792e+25,\n",
       " 9.861145984724719e+25,\n",
       " 9.888829061210448e+25,\n",
       " 9.916483669262461e+25,\n",
       " 9.943721283978514e+25,\n",
       " 9.971318761622955e+25,\n",
       " 9.998499167358155e+25,\n",
       " 1.0026039231290788e+26,\n",
       " 1.0053162155662016e+26,\n",
       " 1.0080644530827191e+26,\n",
       " 1.0107709709540916e+26,\n",
       " 1.0135134128995491e+26,\n",
       " 1.0162529452424696e+26,\n",
       " 1.0189507510493322e+26,\n",
       " 1.0216844491088148e+26,\n",
       " 1.024376417568888e+26,\n",
       " 1.0271042566227946e+26,\n",
       " 1.0297903640361464e+26,\n",
       " 1.0325123201276002e+26,\n",
       " 1.035192543544607e+26,\n",
       " 1.0379085934693233e+26,\n",
       " 1.040621679068417e+26,\n",
       " 1.043293031971989e+26,\n",
       " 1.0460001778286602e+26,\n",
       " 1.0486655924130206e+26,\n",
       " 1.0513667771523716e+26,\n",
       " 1.0540262329990441e+26,\n",
       " 1.0567214359559362e+26,\n",
       " 1.0593749133421049e+26,\n",
       " 1.062064114549337e+26,\n",
       " 1.0647503041631206e+26,\n",
       " 1.0673947746129366e+26,\n",
       " 1.070074933665543e+26,\n",
       " 1.072713379174589e+26,\n",
       " 1.0753874893951909e+26,\n",
       " 1.0780198925871046e+26,\n",
       " 1.0806879363629052e+26,\n",
       " 1.083314280506099e+26,\n",
       " 1.0859762408713279e+26,\n",
       " 1.088635149289372e+26,\n",
       " 1.091252370493242e+26,\n",
       " 1.0939051711062668e+26,\n",
       " 1.0965162940502491e+26,\n",
       " 1.0991629714649015e+26,\n",
       " 1.1017679815917822e+26,\n",
       " 1.1044085210245432e+26,\n",
       " 1.1070074043744565e+26,\n",
       " 1.1096417916413783e+26,\n",
       " 1.1122730930171679e+26,\n",
       " 1.1148627563483222e+26,\n",
       " 1.1174878852574255e+26,\n",
       " 1.120071389335167e+26,\n",
       " 1.1226903330505346e+26,\n",
       " 1.1252676659290108e+26,\n",
       " 1.1278804122884913e+26,\n",
       " 1.1304515625749962e+26,\n",
       " 1.1330580999717894e+26,\n",
       " 1.1356615234732441e+26,\n",
       " 1.1382233741906047e+26,\n",
       " 1.140820572220619e+26,\n",
       " 1.1433762141062644e+26,\n",
       " 1.1459671764072442e+26,\n",
       " 1.1485165999330287e+26,\n",
       " 1.1511013167703982e+26,\n",
       " 1.1536829017434357e+26,\n",
       " 1.1562229750734257e+26,\n",
       " 1.1587983008287241e+26,\n",
       " 1.1613321340882e+26,\n",
       " 1.1639011921616838e+26,\n",
       " 1.1664287775778464e+26,\n",
       " 1.1689915599978616e+26,\n",
       " 1.1715128902797461e+26,\n",
       " 1.174069389558616e+26,\n",
       " 1.176622738466359e+26,\n",
       " 1.1791346670145229e+26,\n",
       " 1.1816817223325497e+26,\n",
       " 1.1841873794690179e+26,\n",
       " 1.1867281348850647e+26,\n",
       " 1.189227514942292e+26,\n",
       " 1.1917619645995322e+26,\n",
       " 1.1942550623554492e+26,\n",
       " 1.1967832008446267e+26,\n",
       " 1.199308175250204e+26,\n",
       " 1.2017918338665717e+26,\n",
       " 1.2043104897128486e+26,\n",
       " 1.2067878547738916e+26,\n",
       " 1.2093001877383558e+26,\n",
       " 1.211771255522408e+26,\n",
       " 1.2142772617034967e+26,\n",
       " 1.2167420289004479e+26,\n",
       " 1.2192417048102102e+26,\n",
       " 1.2217382073573339e+26,\n",
       " 1.2241935110711598e+26,\n",
       " 1.2266836787815523e+26,\n",
       " 1.229132675295517e+26,\n",
       " 1.2316165056852693e+26,\n",
       " 1.2340591930749575e+26,\n",
       " 1.2365366840489455e+26,\n",
       " 1.2389730607698717e+26,\n",
       " 1.241444210614917e+26,\n",
       " 1.243912181915117e+26,\n",
       " 1.2463390828739197e+26,\n",
       " 1.2488007110896767e+26,\n",
       " 1.2512212990518273e+26,\n",
       " 1.253676583396862e+26,\n",
       " 1.2560908580965967e+26,\n",
       " 1.2585397981434107e+26,\n",
       " 1.2609477596653966e+26,\n",
       " 1.2633903553388918e+26,\n",
       " 1.265829771068173e+26,\n",
       " 1.2682282556831437e+26,\n",
       " 1.270661327492098e+26,\n",
       " 1.273053500553907e+26,\n",
       " 1.275480229222376e+26,\n",
       " 1.2778660919946436e+26,\n",
       " 1.2802864786332642e+26,\n",
       " 1.2826660327025135e+26,\n",
       " 1.2850800787467682e+26,\n",
       " 1.2874909469373499e+26,\n",
       " 1.2898610332209497e+26,\n",
       " 1.2922655634907408e+26,\n",
       " 1.294629346338372e+26,\n",
       " 1.297027540910662e+26,\n",
       " 1.299385022994739e+26,\n",
       " 1.3017768843975031e+26,\n",
       " 1.3041280686877013e+26,\n",
       " 1.306513599748047e+26,\n",
       " 1.3088959582618735e+26,\n",
       " 1.3112376933445283e+26,\n",
       " 1.3136137262347977e+26,\n",
       " 1.315949172143891e+26,\n",
       " 1.318318882962891e+26,\n",
       " 1.3206480436671674e+26,\n",
       " 1.3230114362475098e+26,\n",
       " 1.3253343159890437e+26,\n",
       " 1.3276913944384827e+26,\n",
       " 1.3300453086101857e+26,\n",
       " 1.332358766423913e+26,\n",
       " 1.334706373065311e+26,\n",
       " 1.3370135616201312e+26,\n",
       " 1.3393548655057364e+26,\n",
       " 1.3416557899618089e+26,\n",
       " 1.3439907961237258e+26,\n",
       " 1.3462854618922192e+26,\n",
       " 1.3486141756153164e+26,\n",
       " 1.3509397360531571e+26,\n",
       " 1.3532250151707955e+26,\n",
       " 1.355544291499556e+26,\n",
       " 1.3578233264653351e+26,\n",
       " 1.3601363245821175e+26,\n",
       " 1.3624091216497568e+26,\n",
       " 1.3647158476880715e+26,\n",
       " 1.3669824133414597e+26,\n",
       " 1.3692828736666951e+26,\n",
       " 1.3715801942008589e+26,\n",
       " 1.3738374158204545e+26,\n",
       " 1.376128480558031e+26,\n",
       " 1.3783794878962494e+26,\n",
       " 1.3806643037640104e+26,\n",
       " 1.3829091040768381e+26,\n",
       " 1.3851876782181581e+26,\n",
       " 1.3874262789723262e+26,\n",
       " 1.3896986187429908e+26,\n",
       " 1.391967834511329e+26,\n",
       " 1.3941971405758995e+26,\n",
       " 1.3964601333440085e+26,\n",
       " 1.3986832593609865e+26,\n",
       " 1.4009400369985804e+26,\n",
       " 1.403156991141064e+26,\n",
       " 1.4054075617159999e+26,\n",
       " 1.4076183523497124e+26,\n",
       " 1.4098627241240928e+26,\n",
       " 1.4121039897861814e+26,\n",
       " 1.4143055412298188e+26,\n",
       " 1.4165406207917864e+26,\n",
       " 1.418736030411673e+26,\n",
       " 1.420964932605268e+26,\n",
       " 1.4231542094121903e+26,\n",
       " 1.4253769431501012e+26,\n",
       " 1.4275600963305778e+26,\n",
       " 1.4297766707027854e+26,\n",
       " 1.431990158773708e+26,\n",
       " 1.4341641338856018e+26,\n",
       " 1.4363714765056374e+26,\n",
       " 1.4385393516595492e+26,\n",
       " 1.440740558347025e+26,\n",
       " 1.4429023433173539e+26,\n",
       " 1.4450974237554776e+26,\n",
       " 1.4472531284765872e+26,\n",
       " 1.449442092510044e+26,\n",
       " 1.4516279918059491e+26,\n",
       " 1.4537745847044738e+26,\n",
       " 1.4559543826170637e+26,\n",
       " 1.4580949207406256e+26,\n",
       " 1.460268627504407e+26,\n",
       " 1.4624031213219243e+26,\n",
       " 1.4645707473213207e+26,\n",
       " 1.4666992074469901e+26,\n",
       " 1.4688607632131353e+26,\n",
       " 1.4710192774012485e+26,\n",
       " 1.473138696610883e+26,\n",
       " 1.4752911565930294e+26,\n",
       " 1.4774045692251667e+26,\n",
       " 1.4795509858863838e+26,\n",
       " 1.4816584030400556e+26,\n",
       " 1.4837987874013154e+26,\n",
       " 1.4859002203071082e+26,\n",
       " 1.4880345835223547e+26,\n",
       " 1.490165929768483e+26,\n",
       " 1.4922583968927196e+26,\n",
       " 1.4943837389322285e+26,\n",
       " 1.4964702504085507e+26,\n",
       " 1.498589599715773e+26,\n",
       " 1.5006701672132514e+26,\n",
       " 1.5027835353854326e+26,\n",
       " 1.5048581706919357e+26,\n",
       " 1.5069655694464568e+26,\n",
       " 1.5090699771536301e+26,\n",
       " 1.5111357256375676e+26,\n",
       " 1.5132341816910949e+26,\n",
       " 1.5152940279255987e+26,\n",
       " 1.5173865443320224e+26,\n",
       " 1.519440500500214e+26,\n",
       " 1.5215270893768443e+26,\n",
       " 1.5236107081900014e+26,\n",
       " 1.5256558413410543e+26,\n",
       " 1.5277335509733252e+26,\n",
       " 1.529772824950122e+26,\n",
       " 1.5318446377851407e+26,\n",
       " 1.5338780651345012e+26,\n",
       " 1.535943993657787e+26,\n",
       " 1.5379715870247138e+26,\n",
       " 1.54003164382123e+26,\n",
       " 1.5420887585014886e+26,\n",
       " 1.5441076136982444e+26,\n",
       " 1.5461588756840766e+26,\n",
       " 1.5481719288996933e+26,\n",
       " 1.550217351014824e+26,\n",
       " 1.552224615219865e+26,\n",
       " 1.5542642103791756e+26,\n",
       " 1.556265698631886e+26,\n",
       " 1.5582994798391633e+26,\n",
       " 1.56033034785747e+26,\n",
       " 1.562323185628895e+26,\n",
       " 1.5643482593389597e+26,\n",
       " 1.5663353541501614e+26,\n",
       " 1.568354646768831e+26,\n",
       " 1.570336011968106e+26,\n",
       " 1.5723495367934067e+26,\n",
       " 1.5743251858069425e+26,\n",
       " 1.5763329562159585e+26,\n",
       " 1.5783378432386277e+26,\n",
       " 1.5803049319925558e+26,\n",
       " 1.582304084787112e+26,\n",
       " 1.584265491227917e+26,\n",
       " 1.586258923360588e+26,\n",
       " 1.5882146611714306e+26,\n",
       " 1.5902023862802973e+26,\n",
       " 1.5921524692131165e+26,\n",
       " 1.5941345010062e+26,\n",
       " 1.5961136799932723e+26,\n",
       " 1.5980552951330253e+26,\n",
       " 1.6000288014743688e+26,\n",
       " 1.6019647963865022e+26,\n",
       " 1.6039326439569553e+26,\n",
       " 1.6058630326195786e+26,\n",
       " 1.6078252353571975e+26,\n",
       " 1.6097500318087192e+26,\n",
       " 1.6117066037129475e+26,\n",
       " 1.6136603540783182e+26,\n",
       " 1.615576777180112e+26,\n",
       " 1.6175249178058638e+26,\n",
       " 1.619435784029107e+26,\n",
       " 1.621378329060756e+26,\n",
       " 1.6232836526413656e+26,\n",
       " 1.6252206162795845e+26,\n",
       " 1.627120411505873e+26,\n",
       " 1.629051808004782e+26,\n",
       " 1.6309804148341368e+26,\n",
       " 1.6328719328812697e+26,\n",
       " 1.634794994034631e+26,\n",
       " 1.636681019653156e+26,\n",
       " 1.6385985495114013e+26,\n",
       " 1.6404790971604623e+26,\n",
       " 1.6423911101521266e+26,\n",
       " 1.6442661943359314e+26,\n",
       " 1.6461727049356076e+26,\n",
       " 1.6480764582583913e+26,\n",
       " 1.6499433629286547e+26,\n",
       " 1.6518416356419097e+26,\n",
       " 1.6537031132829924e+26,\n",
       " 1.6555959199700958e+26,\n",
       " 1.657451985232229e+26,\n",
       " 1.6593393405172473e+26,\n",
       " 1.6611900080888998e+26,\n",
       " 1.6630719266350796e+26,\n",
       " 1.664951120747056e+26,\n",
       " 1.6667937077498545e+26,\n",
       " 1.668667487177705e+26,\n",
       " 1.670504713359471e+26,\n",
       " 1.6723730928585287e+26,\n",
       " 1.6742049730306967e+26,\n",
       " 1.676067967390478e+26,\n",
       " 1.6778945163963723e+26,\n",
       " 1.679752140439203e+26,\n",
       " 1.6816070732723447e+26,\n",
       " 1.6834256417323703e+26,\n",
       " 1.6852752265319487e+26,\n",
       " 1.6870885010569726e+26,\n",
       " 1.6889327527218565e+26,\n",
       " 1.6907407482567396e+26,\n",
       " 1.692579681713952e+26,\n",
       " 1.694382413229561e+26,\n",
       " 1.6962160434330067e+26,\n",
       " 1.6980470159697135e+26,\n",
       " 1.699841867854167e+26,\n",
       " 1.701667559608655e+26,\n",
       " 1.703457185000461e+26,\n",
       " 1.7052776109887572e+26,\n",
       " 1.707062024940417e+26,\n",
       " 1.7088772002010937e+26,\n",
       " 1.7106564177856457e+26,\n",
       " 1.7124663573786398e+26,\n",
       " 1.714273673107381e+26,\n",
       " 1.7160451126939554e+26,\n",
       " 1.7178472153771187e+26,\n",
       " 1.7196134963568626e+26,\n",
       " 1.721410401103107e+26,\n",
       " 1.723171538612232e+26,\n",
       " 1.7249632605475757e+26,\n",
       " 1.7267192697377326e+26,\n",
       " 1.7285058240044617e+26,\n",
       " 1.7302897884142505e+26,\n",
       " 1.732038121797259e+26,\n",
       " 1.733816941276155e+26,\n",
       " 1.735560184276889e+26,\n",
       " 1.7373338740034585e+26,\n",
       " 1.739072041819621e+26,\n",
       " 1.7408406169849672e+26,\n",
       " 1.7425737248250037e+26,\n",
       " 1.7443372006317553e+26,\n",
       " 1.746098120742949e+26,\n",
       " 1.747823655375163e+26,\n",
       " 1.7495794989487272e+26,\n",
       " 1.7513000116648314e+26,\n",
       " 1.7530507939281386e+26,\n",
       " 1.7547662999667607e+26,\n",
       " 1.7565120361552673e+26,\n",
       " 1.7582225507614088e+26,\n",
       " 1.7599632561176984e+26,\n",
       " 1.76170144004681e+26,\n",
       " 1.7634044843146874e+26,\n",
       " 1.765137660285772e+26,\n",
       " 1.766835751255332e+26,\n",
       " 1.768563934525031e+26,\n",
       " 1.770257087456758e+26,\n",
       " 1.7719802932856737e+26,\n",
       " 1.773668523442402e+26,\n",
       " 1.7753867670941834e+26,\n",
       " 1.777102523650543e+26,\n",
       " 1.7787833864807507e+26,\n",
       " 1.7804942037595694e+26,\n",
       " 1.7821701819775628e+26,\n",
       " 1.78387607524669e+26,\n",
       " 1.7855471841171747e+26,\n",
       " 1.787248168644555e+26,\n",
       " 1.7889144234308622e+26,\n",
       " 1.7906105144837376e+26,\n",
       " 1.792304152795924e+26,\n",
       " 1.793963143291148e+26,\n",
       " 1.7956519110281218e+26,\n",
       " 1.797306085588463e+26,\n",
       " 1.7989899980125064e+26,\n",
       " 1.8006393718905856e+26,\n",
       " 1.8023184442605647e+26,\n",
       " 1.8039950906022658e+26,\n",
       " 1.805637280274768e+26,\n",
       " 1.8073091094449963e+26,\n",
       " 1.808946536547128e+26,\n",
       " 1.8106135637931472e+26,\n",
       " 1.812246243557727e+26,\n",
       " 1.813908484120816e+26,\n",
       " 1.815536431773328e+26,\n",
       " 1.8171939008880553e+26,\n",
       " 1.8188489782797597e+26,\n",
       " 1.8204698445395233e+26,\n",
       " 1.8221201733241152e+26,\n",
       " 1.8237363455031243e+26,\n",
       " 1.825381940895651e+26,\n",
       " 1.826993434188674e+26,\n",
       " 1.828634311395117e+26,\n",
       " 1.8302411409866095e+26,\n",
       " 1.8318773152032255e+26,\n",
       " 1.8335111319281174e+26,\n",
       " 1.8351109826794015e+26,\n",
       " 1.8367401191937433e+26,\n",
       " 1.8383353441605156e+26,\n",
       " 1.8399598156337196e+26,\n",
       " 1.8415504299596648e+26,\n",
       " 1.8431702515492612e+26,\n",
       " 1.8447562703650085e+26,\n",
       " 1.846371457216007e+26,\n",
       " 1.847984320702678e+26,\n",
       " 1.8495634628828814e+26,\n",
       " 1.851171714329244e+26,\n",
       " 1.852746298770924e+26,\n",
       " 1.8543499532884197e+26,\n",
       " 1.8559199950721797e+26,\n",
       " 1.8575190677577424e+26,\n",
       " 1.8590845819486055e+26,\n",
       " 1.860679087884104e+26,\n",
       " 1.8622713044512042e+26,\n",
       " 1.863830043782676e+26,\n",
       " 1.865417716199508e+26,\n",
       " 1.866971965535859e+26,\n",
       " 1.868555108844527e+26,\n",
       " 1.8701048831922434e+26,\n",
       " 1.8716835124179425e+26,\n",
       " 1.8732288267656144e+26,\n",
       " 1.8748029569161424e+26,\n",
       " 1.876374831537337e+26,\n",
       " 1.8779134722991824e+26,\n",
       " 1.879480870330424e+26,\n",
       " 1.881015088489867e+26,\n",
       " 1.8825780248934727e+26,\n",
       " 1.8841078353727757e+26,\n",
       " 1.8856663250919767e+26,\n",
       " 1.8871917427933573e+26,\n",
       " 1.8887458007518122e+26,\n",
       " 1.8902976368398485e+26,\n",
       " 1.8918164816583622e+26,\n",
       " 1.8933639083415427e+26,\n",
       " 1.8948783975556135e+26,\n",
       " 1.896421429706913e+26,\n",
       " 1.8979315781452998e+26,\n",
       " 1.899470230616583e+26,\n",
       " 1.900976053086044e+26,\n",
       " 1.9025103407076545e+26,\n",
       " 1.9040424399162205e+26,\n",
       " 1.9055417895728727e+26,\n",
       " 1.9070695461447938e+26,\n",
       " 1.9085646067598305e+26,\n",
       " 1.9100880354699776e+26,\n",
       " 1.911578821770173e+26,\n",
       " 1.913097937370468e+26,\n",
       " 1.914584464058819e+26,\n",
       " 1.9160992812778593e+26,\n",
       " 1.9176119433201378e+26,\n",
       " 1.9190920965758768e+26,\n",
       " 1.920600482294719e+26,\n",
       " 1.9220764125996565e+26,\n",
       " 1.9235805366638304e+26,\n",
       " 1.925052258635018e+26,\n",
       " 1.926552135688664e+26,\n",
       " 1.9280196639177606e+26,\n",
       " 1.9295153085800483e+26,\n",
       " 1.9310088310628847e+26,\n",
       " 1.9324700844977538e+26,\n",
       " 1.933959396480569e+26,\n",
       " 1.9354164925498186e+26,\n",
       " 1.9369016085879888e+26,\n",
       " 1.938354561791912e+26,\n",
       " 1.939835496414658e+26,\n",
       " 1.941284321226683e+26,\n",
       " 1.942761088936751e+26,\n",
       " 1.9442357672094122e+26,\n",
       " 1.945678415076489e+26,\n",
       " 1.9471489481510842e+26,\n",
       " 1.9485875037015198e+26,\n",
       " 1.9500539060133968e+26,\n",
       " 1.9514883836243385e+26,\n",
       " 1.95295066958131e+26,\n",
       " 1.9543810836016943e+26,\n",
       " 1.955839267583741e+26,\n",
       " 1.9572953946003645e+26,\n",
       " 1.958719728693047e+26,\n",
       " 1.9601717752633188e+26,\n",
       " 1.9615920815244246e+26,\n",
       " 1.9630400619576623e+26,\n",
       " 1.9644563546354038e+26,\n",
       " 1.9659002832121327e+26,\n",
       " 1.967312576525313e+26,\n",
       " 1.96875246749701e+26,\n",
       " 1.9701903336917723e+26,\n",
       " 1.971596643223617e+26,\n",
       " 1.9730304931474612e+26,\n",
       " 1.9744328387438178e+26,\n",
       " 1.975862686574603e+26,\n",
       " 1.9772610823495318e+26,\n",
       " 1.9786869422351943e+26,\n",
       " 1.9800814022722785e+26,\n",
       " 1.9815032883306027e+26,\n",
       " 1.9829231815048704e+26,\n",
       " 1.984311753001089e+26,\n",
       " 1.9857276934800855e+26,\n",
       " 1.9871123643253685e+26,\n",
       " 1.9885243661506153e+26,\n",
       " 1.9899051503201943e+26,\n",
       " 1.991313227502267e+26,\n",
       " 1.9926901389399183e+26,\n",
       " 1.994094305458251e+26,\n",
       " 1.9954965106788618e+26,\n",
       " 1.9968676278787614e+26,\n",
       " 1.998265943358854e+26,\n",
       " 1.999633222560595e+26,\n",
       " 2.0010276622009548e+26,\n",
       " 2.0023911172367537e+26,\n",
       " 2.0037816949063283e+26,\n",
       " 2.0051413395760695e+26,\n",
       " 2.0065280691117796e+26,\n",
       " 2.007912868619792e+26,\n",
       " 2.0092668123894026e+26,\n",
       " 2.0106477844718283e+26,\n",
       " 2.0119979522462203e+26,\n",
       " 2.013375110659216e+26,\n",
       " 2.0147215161238603e+26,\n",
       " 2.0160948745909336e+26,\n",
       " 2.0174375313982065e+26,\n",
       " 2.0188071036100518e+26,\n",
       " 2.0201747767391794e+26,\n",
       " 2.0215118249934162e+26,\n",
       " 2.022875732355249e+26,\n",
       " 2.0242090659513444e+26,\n",
       " 2.0255692211539412e+26,\n",
       " 2.0268988536273167e+26,\n",
       " 2.028255270245377e+26,\n",
       " 2.0296098116208562e+26,\n",
       " 2.0309339066724048e+26,\n",
       " 2.032284729776585e+26,\n",
       " 2.033605157410326e+26,\n",
       " 2.03495227573397e+26,\n",
       " 2.0362690493666214e+26,\n",
       " 2.0376124763666345e+26,\n",
       " 2.038925609380689e+26,\n",
       " 2.0402653584799934e+26,\n",
       " 2.04160326268534e+26,\n",
       " 2.042910948810995e+26,\n",
       " 2.044245195200449e+26,\n",
       " 2.0455492740278807e+26,\n",
       " 2.046879875938927e+26,\n",
       " 2.0481803607299372e+26,\n",
       " 2.049507331465667e+26,\n",
       " 2.0508042354472946e+26,\n",
       " 2.052127588276271e+26,\n",
       " 2.0534491262155873e+26,\n",
       " 2.054740672796821e+26,\n",
       " 2.056058612682002e+26,\n",
       " 2.0573466113837297e+26,\n",
       " 2.058660966396609e+26,\n",
       " 2.0599454303234565e+26,\n",
       " 2.061256213610998e+26,\n",
       " 2.062537155832389e+26,\n",
       " 2.0638443805065643e+26,\n",
       " 2.0651498199457217e+26,\n",
       " 2.066425493194292e+26,\n",
       " 2.0677273936372642e+26,\n",
       " 2.068999577714631e+26,\n",
       " 2.07029795218556e+26,\n",
       " 2.071566660037279e+26,\n",
       " 2.072861521525023e+26,\n",
       " 2.074126766061052e+26,\n",
       " 2.075418127519074e+26,\n",
       " 2.0767077330424867e+26,\n",
       " 2.0779677959600074e+26,\n",
       " 2.0792539208326913e+26,\n",
       " 2.0805105525688303e+26,\n",
       " 2.0817932096555157e+26,\n",
       " 2.0830464229951564e+26,\n",
       " 2.084325625124923e+26,\n",
       " 2.08557543281703e+26,\n",
       " 2.086851192783231e+26,\n",
       " 2.088125225757127e+26,\n",
       " 2.0893699381010355e+26,\n",
       " 2.0906405480498896e+26,\n",
       " 2.091881886477051e+26,\n",
       " 2.093149086104727e+26,\n",
       " 2.0943870632380195e+26,\n",
       " 2.0956508652124428e+26,\n",
       " 2.09688549363859e+26,\n",
       " 2.0981459105917093e+26,\n",
       " 2.0994046291335123e+26,\n",
       " 2.1006342473889698e+26,\n",
       " 2.1018895998056252e+26,\n",
       " 2.103115900678296e+26,\n",
       " 2.1043678995116442e+26,\n",
       " 2.105590895461381e+26,\n",
       " 2.1068395532170882e+26,\n",
       " 2.1080592566673712e+26,\n",
       " 2.1093045858149324e+26,\n",
       " 2.1105482447682502e+26,\n",
       " 2.1117630221255314e+26,\n",
       " 2.113003371123019e+26,\n",
       " 2.11421488689653e+26,\n",
       " 2.1154519383170724e+26,\n",
       " 2.116660204802829e+26,\n",
       " 2.117893970989001e+26,\n",
       " 2.1190990004465015e+26,\n",
       " 2.1203294937045316e+26,\n",
       " 2.121558344619451e+26,\n",
       " 2.1227585309564866e+26,\n",
       " 2.123984127350605e+26,\n",
       " 2.1251811071647402e+26,\n",
       " ...]"
      ]
     },
     "execution_count": 63,
     "metadata": {},
     "output_type": "execute_result"
    }
   ],
   "source": [
    "cutoffs_prime= new_L(L_cutoffs, zrange, k=2.91, g=g_new)\n",
    "cutoffs_prime"
   ]
  },
  {
   "cell_type": "code",
   "execution_count": 64,
   "metadata": {},
   "outputs": [],
   "source": [
    "def phi_L(Lprime, z, zrange, cutoffs_prime, func=L_lim1, g=g_new): #z0 being the z of interest\n",
    "    Lprime, z = sort_by_first(Lprime, z, reverse=True)\n",
    "    n = []\n",
    "    for i in range(len(z)):\n",
    "        num = 0\n",
    "        \n",
    "        z_max = get_max_z(zrange, cutoffs_prime, Lprime[i])\n",
    "        for j in range(0, i): #since sorted by largest L' to smallest\n",
    "                            #should only include L'[j] > L'[i]\n",
    "                \n",
    "            if(Lprime[j] >= Lprime[i] and z[j] <= z_max): #associated set requirements\n",
    "                num += 1\n",
    "        \n",
    "        n.append(num+1) #includes itself?\n",
    "    \n",
    "    phi = []\n",
    "    prod = 1\n",
    "    for k in range(len(z)):\n",
    "        prod *= (1 + 1/n[k])\n",
    "        phi.append(prod)\n",
    "    \n",
    "    return phi, Lprime"
   ]
  },
  {
   "cell_type": "code",
   "execution_count": 65,
   "metadata": {},
   "outputs": [],
   "source": [
    "phi, Lprime = phi_L(L_prime, z[tel], zrange, cutoffs_prime)"
   ]
  },
  {
   "cell_type": "code",
   "execution_count": 66,
   "metadata": {},
   "outputs": [
    {
     "data": {
      "text/plain": [
       "<matplotlib.legend.Legend at 0x118b132e8>"
      ]
     },
     "execution_count": 66,
     "metadata": {},
     "output_type": "execute_result"
    },
    {
     "data": {
      "image/png": "[encoded data removed]",
      "text/plain": [
       "<Figure size 432x288 with 1 Axes>"
      ]
     },
     "metadata": {
      "needs_background": "light"
     },
     "output_type": "display_data"
    }
   ],
   "source": [
    "fig, ax = plt.subplots()\n",
    "plt.yscale('log')\n",
    "plt.xscale('log')\n",
    "plt.ylim([1, 200])\n",
    "plt.xlim([1e25, 1e29])\n",
    "ax.scatter(Lprime, phi, label=telname)\n",
    "ax.set_xlabel('L\\'')\n",
    "ax.set_ylabel('phi(L\\')')\n",
    "ax.set_title('phi(L\\') vs L\\'')\n",
    "ax.legend()\n"
   ]
  },
  {
   "cell_type": "code",
   "execution_count": 44,
   "metadata": {},
   "outputs": [
    {
     "name": "stdout",
     "output_type": "stream",
     "text": [
      "8.740274167770368e+27\n",
      "7.757189246650208e+27\n",
      "3.974402397516345e+27\n",
      "3.94847139782753e+27\n",
      "3.233311801769861e+27\n",
      "2.4689301624754303e+27\n",
      "2.2498860376798284e+27\n",
      "2.2256499259443295e+27\n",
      "1.8159498954351517e+27\n",
      "1.8022066133664358e+27\n",
      "1.695790994063613e+27\n",
      "1.4725566299164962e+27\n",
      "1.4472994122953383e+27\n",
      "1.2662229221298476e+27\n",
      "1.209695487749351e+27\n",
      "1.1166276435698347e+27\n",
      "1.1125823831715643e+27\n",
      "8.530399950576744e+26\n",
      "7.84240832484191e+26\n",
      "7.303858074135388e+26\n",
      "6.0908053794960286e+26\n",
      "4.176824607831405e+26\n",
      "3.352975247400746e+26\n",
      "3.249826583115173e+26\n",
      "3.2103441136431715e+26\n",
      "3.149110064114112e+26\n",
      "5.865482873584374e+25\n"
     ]
    }
   ],
   "source": [
    "for p in Lprime:\n",
    "    print(p)"
   ]
  },
  {
   "cell_type": "code",
   "execution_count": 41,
   "metadata": {},
   "outputs": [
    {
     "name": "stdout",
     "output_type": "stream",
     "text": [
      "[  -0.33119575   17.24837765 -223.0512902 ]\n"
     ]
    }
   ],
   "source": [
    "logL = np.log10(Lprime)\n",
    "logP = np.log10(phi)\n",
    "\n",
    "args = np.polyfit(logL, logP, 2)\n",
    "print(args)"
   ]
  },
  {
   "cell_type": "code",
   "execution_count": 42,
   "metadata": {},
   "outputs": [
    {
     "data": {
      "text/plain": [
       "<matplotlib.legend.Legend at 0x121915ad0>"
      ]
     },
     "execution_count": 42,
     "metadata": {},
     "output_type": "execute_result"
    },
    {
     "data": {
      "image/png": "[encoded data removed]",
      "text/plain": [
       "<Figure size 432x288 with 1 Axes>"
      ]
     },
     "metadata": {
      "needs_background": "light"
     },
     "output_type": "display_data"
    }
   ],
   "source": [
    "fig, ax = plt.subplots()\n",
    "plt.ylim([0, 2.3])\n",
    "plt.xlim([25, 29])\n",
    "ax.scatter(logL, logP, label=telname)\n",
    "ax.plot(np.linspace(25, 29, 50), unpack(args, np.linspace(25, 29, 50)), label='best fit')\n",
    "ax.set_xlabel('log(L\\')')\n",
    "ax.set_ylabel('log(phi)')\n",
    "ax.set_title('log(phi) vs. log(L\\')')\n",
    "ax.legend()"
   ]
  },
  {
   "cell_type": "markdown",
   "metadata": {},
   "source": [
    "## man"
   ]
  },
  {
   "cell_type": "code",
   "execution_count": null,
   "metadata": {},
   "outputs": [],
   "source": [
    "def manual_V(z, O_M=0.286, O_V=0.714, H_0=69.6, dz = 1e-5):\n",
    "    d_H = 299792458/(H_0*3.24077929e-20) #Hubble Distance, in meters!\n",
    "    \n",
    "    #numerical integration\n",
    "    z_cur = 0\n",
    "    integral = 0\n",
    "    \n",
    "    while(z_cur < z):\n",
    "        dI = dz/(O_M*(1+z_cur)**3 + O_V)**0.5\n",
    "        z_cur += dz\n",
    "        dI2 = dz/(O_M*(1+z_cur)**3 + O_V)**0.5\n",
    "        integral += (dI+dI2)/2\n",
    "    \n",
    "    return integral*(1+z)*d_H"
   ]
  }
 ],
 "metadata": {
  "kernelspec": {
   "display_name": "Python 3",
   "language": "python",
   "name": "python3"
  },
  "language_info": {
   "codemirror_mode": {
    "name": "ipython",
    "version": 3
   },
   "file_extension": ".py",
   "mimetype": "text/x-python",
   "name": "python",
   "nbconvert_exporter": "python",
   "pygments_lexer": "ipython3",
   "version": "3.7.3"
  }
 },
 "nbformat": 4,
 "nbformat_minor": 4
}
