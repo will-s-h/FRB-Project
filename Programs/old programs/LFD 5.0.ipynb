{
 "cells": [
  {
   "cell_type": "markdown",
   "metadata": {},
   "source": [
    "# Goal of this Version\n",
    "- clean up the unnecessary\n",
    "- table of contents\n",
    "- new data!"
   ]
  },
  {
   "cell_type": "markdown",
   "metadata": {},
   "source": [
    "# Table of Contents\n",
    "\n",
    "* hide_toggle() code\n",
    "\n",
    "Original Kendall Tau Setup\n",
    "* some original functions\n",
    "* import data from \"frb.csv\"\n",
    "* derive some properties\n",
    "\n",
    "Kendall Tau Graph Functions\n",
    "* presets\n",
    "* kendall tau functions\n",
    "\n",
    "LFD Functions\n",
    "* sigma, phi, rho\n",
    "\n",
    "Fitting Curves\n",
    "\n",
    "Full Analysis of Parkes + CHIME"
   ]
  },
  {
   "cell_type": "code",
   "execution_count": 1,
   "metadata": {},
   "outputs": [
    {
     "name": "stdout",
     "output_type": "stream",
     "text": [
      "lets get this ball rolling\n"
     ]
    }
   ],
   "source": [
    "print('lets get this ball rolling')"
   ]
  },
  {
   "cell_type": "markdown",
   "metadata": {},
   "source": [
    "## hide_toggle() code"
   ]
  },
  {
   "cell_type": "code",
   "execution_count": 2,
   "metadata": {},
   "outputs": [
    {
     "data": {
      "text/html": [
       "\n",
       "        <script>\n",
       "            function code_toggle_13106832251507016650() {\n",
       "                $('div.cell.code_cell.rendered.selected').find('div.input').toggle();\n",
       "            }\n",
       "\n",
       "            \n",
       "        </script>\n",
       "\n",
       "        <a href=\"javascript:code_toggle_13106832251507016650()\">Toggle show/hide</a>\n",
       "    "
      ],
      "text/plain": [
       "<IPython.core.display.HTML object>"
      ]
     },
     "execution_count": 2,
     "metadata": {},
     "output_type": "execute_result"
    }
   ],
   "source": [
    "#Note that I don't actually know how this function works,\n",
    "#but it doesn't really matter because I'm not looking to\n",
    "#edit this function any time soon. It serves its purpose.\n",
    "\n",
    "from IPython.display import HTML\n",
    "import random\n",
    "\n",
    "def hide_toggle(for_next=False):\n",
    "    this_cell = \"\"\"$('div.cell.code_cell.rendered.selected')\"\"\"\n",
    "    next_cell = this_cell + '.next()'\n",
    "\n",
    "    toggle_text = 'Toggle show/hide'  # text shown on toggle link\n",
    "    target_cell = this_cell  # target cell to control with toggle\n",
    "    js_hide_current = ''  # bit of JS to permanently hide code in current cell (only when toggling next cell)\n",
    "\n",
    "    if for_next:\n",
    "        target_cell = next_cell\n",
    "        toggle_text += ' next cell'\n",
    "        js_hide_current = this_cell + '.find(\"div.input\").hide();'\n",
    "\n",
    "    js_f_name = 'code_toggle_{}'.format(str(random.randint(1,2**64)))\n",
    "\n",
    "    html = \"\"\"\n",
    "        <script>\n",
    "            function {f_name}() {{\n",
    "                {cell_selector}.find('div.input').toggle();\n",
    "            }}\n",
    "\n",
    "            {js_hide_current}\n",
    "        </script>\n",
    "\n",
    "        <a href=\"javascript:{f_name}()\">{toggle_text}</a>\n",
    "    \"\"\".format(\n",
    "        f_name=js_f_name,\n",
    "        cell_selector=target_cell,\n",
    "        js_hide_current=js_hide_current, \n",
    "        toggle_text=toggle_text\n",
    "    )\n",
    "\n",
    "    return HTML(html)\n",
    "\n",
    "hide_toggle()"
   ]
  },
  {
   "cell_type": "markdown",
   "metadata": {},
   "source": [
    "# Original Kendall Tau Setup\n",
    "g_new, L_lim1  \n",
    "sort_by_first, sort_by_1, kt_newform  \n",
    "L_lim2, kendall_tau"
   ]
  },
  {
   "cell_type": "code",
   "execution_count": 3,
   "metadata": {},
   "outputs": [
    {
     "data": {
      "text/html": [
       "\n",
       "        <script>\n",
       "            function code_toggle_18402309812290215659() {\n",
       "                $('div.cell.code_cell.rendered.selected').find('div.input').toggle();\n",
       "            }\n",
       "\n",
       "            \n",
       "        </script>\n",
       "\n",
       "        <a href=\"javascript:code_toggle_18402309812290215659()\">Toggle show/hide</a>\n",
       "    "
      ],
      "text/plain": [
       "<IPython.core.display.HTML object>"
      ]
     },
     "execution_count": 3,
     "metadata": {},
     "output_type": "execute_result"
    }
   ],
   "source": [
    "def g_new(z, k): #The improved g-function, which transforms luminosities\n",
    "    Z = z+1\n",
    "    Z_c = 3.5\n",
    "    return Z**k/(1+Z/Z_c)**k\n",
    "\n",
    "def L_lim1(F_lim, z_i, d_Li, g=g_new, k=0): #finds the limiting luminosity using flux, luminosity distance, and g\n",
    "    return (F_lim*1e-19)*4*math.pi*(d_Li*3.08567758e25)**2/g(z_i, k)\n",
    "\n",
    "hide_toggle()"
   ]
  },
  {
   "cell_type": "code",
   "execution_count": 4,
   "metadata": {},
   "outputs": [
    {
     "data": {
      "text/html": [
       "\n",
       "        <script>\n",
       "            function code_toggle_3215175821668924923() {\n",
       "                $('div.cell.code_cell.rendered.selected').find('div.input').toggle();\n",
       "            }\n",
       "\n",
       "            \n",
       "        </script>\n",
       "\n",
       "        <a href=\"javascript:code_toggle_3215175821668924923()\">Toggle show/hide</a>\n",
       "    "
      ],
      "text/plain": [
       "<IPython.core.display.HTML object>"
      ]
     },
     "execution_count": 4,
     "metadata": {},
     "output_type": "execute_result"
    }
   ],
   "source": [
    "import numpy as np\n",
    "import matplotlib.pyplot as plt\n",
    "import math\n",
    "\n",
    "def sort_by_first(A, B, reverse=False): #SORT USING Z!\n",
    "    list1, list2 = zip(*sorted(zip(A, B), reverse=reverse))\n",
    "    return list(list1), list(list2)\n",
    "\n",
    "def sort_by_1(*args, reverse=False):\n",
    "    thing = zip(*sorted(zip(*args), reverse=reverse))\n",
    "    return [list(thang) for thang in thing]\n",
    "\n",
    "def kt_newform(L, z, F_lim, d_L, g=g_new, k=0, func=L_lim1):\n",
    "    \n",
    "    #if necessary, sort by z while keeping reference to L\n",
    "    z, L, d_L = sort_by_1(z, L, d_L)\n",
    "        \n",
    "    R = []\n",
    "    E = []\n",
    "    V = []\n",
    "    \n",
    "    for i in range(len(L)):\n",
    "        higher = 0\n",
    "        lower = 0\n",
    "        \n",
    "        #not considering data points under the cutoff\n",
    "        if(L[i] < func(F_lim, z[i], d_L[i], g=g, k=k)):\n",
    "            continue\n",
    "        \n",
    "        for j in range(0, i): #since sorted by now, only j < i has z_j < z_i\n",
    "            if(L[j] >= func(F_lim, z[i], d_L[i], g=g, k=k) and z[j] <= z[i]): #associated set requirements\n",
    "                \n",
    "                if(L[j] > L[i]):\n",
    "                    higher += 1\n",
    "                else:\n",
    "                    lower += 1\n",
    "        \n",
    "        R.append((lower+1)/(higher+lower+1))\n",
    "        E.append(0.5)\n",
    "        V.append(1/12)\n",
    "    \n",
    "    numer = sum(R) - sum(E)\n",
    "    denom = (sum(V))**0.5\n",
    "    return numer/denom\n",
    "\n",
    "hide_toggle()"
   ]
  },
  {
   "cell_type": "code",
   "execution_count": 5,
   "metadata": {},
   "outputs": [
    {
     "data": {
      "text/html": [
       "\n",
       "        <script>\n",
       "            function code_toggle_15247965011960949357() {\n",
       "                $('div.cell.code_cell.rendered.selected').find('div.input').toggle();\n",
       "            }\n",
       "\n",
       "            \n",
       "        </script>\n",
       "\n",
       "        <a href=\"javascript:code_toggle_15247965011960949357()\">Toggle show/hide</a>\n",
       "    "
      ],
      "text/plain": [
       "<IPython.core.display.HTML object>"
      ]
     },
     "execution_count": 5,
     "metadata": {},
     "output_type": "execute_result"
    }
   ],
   "source": [
    "#original setup of Kendall Tau, using a generic F_lim, z --> L converter\n",
    "#now only used in L-Llim space, since cannot account for d_L\n",
    "\n",
    "def L_lim2(L_limi):\n",
    "    return L_limi\n",
    "\n",
    "def kendall_tau(L, Llim, srted=False, func=L_lim2):\n",
    "    \n",
    "    #if necessary, sort by z while keeping reference to L\n",
    "    \n",
    "    #these days I almost always assume it isn't sorted\n",
    "    #bc 1) if I assume it is sorted, trouble may ensue\n",
    "    #and 2) it doesn't take too long to sort it again\n",
    "    \n",
    "    if not srted:\n",
    "        Llim, L = sort_by_first(Llim, L)\n",
    "        \n",
    "    R = [] # rank\n",
    "    E = [] # expected value\n",
    "    V = [] # (expected) variance\n",
    "    \n",
    "    for i in range(len(L)):\n",
    "        higher = 0\n",
    "        lower = 0\n",
    "        \n",
    "        #similar issue?\n",
    "        \n",
    "        if(L[i] < func(Llim[i])): #don't include sources that are not above flux limit\n",
    "            continue\n",
    "        \n",
    "        for j in range(0, i): #since sorted by Llim now, only j < i has z_j < z_i\n",
    "            if(L[j] >= func(Llim[i]) and Llim[j] <= Llim[i]): #associated set requirements\n",
    "                if(L[j] > L[i]):\n",
    "                    higher += 1\n",
    "                else:\n",
    "                    lower += 1\n",
    "        \n",
    "        R.append((lower+1)/(higher+lower+1))\n",
    "        E.append(0.5)\n",
    "        V.append(1/12)\n",
    "    \n",
    "    numer = sum(R) - sum(E)\n",
    "    denom = (sum(V))**0.5\n",
    "    return numer/denom\n",
    "\n",
    "hide_toggle()"
   ]
  },
  {
   "cell_type": "markdown",
   "metadata": {},
   "source": [
    "### import data from \"newfrbs.csv\""
   ]
  },
  {
   "cell_type": "code",
   "execution_count": 6,
   "metadata": {},
   "outputs": [
    {
     "data": {
      "text/html": [
       "\n",
       "        <script>\n",
       "            function code_toggle_15711989048662655603() {\n",
       "                $('div.cell.code_cell.rendered.selected').find('div.input').toggle();\n",
       "            }\n",
       "\n",
       "            \n",
       "        </script>\n",
       "\n",
       "        <a href=\"javascript:code_toggle_15711989048662655603()\">Toggle show/hide</a>\n",
       "    "
      ],
      "text/plain": [
       "<IPython.core.display.HTML object>"
      ]
     },
     "execution_count": 6,
     "metadata": {},
     "output_type": "execute_result"
    }
   ],
   "source": [
    "import pandas as pd\n",
    "data = pd.read_csv(\"./data/updatedfrbs.csv\")\n",
    "data.columns = ['frb', 'telescope', 'snr', 'f_p', 'd_L', 'z', 'DM', 'W', 'fl']\n",
    "hide_toggle()"
   ]
  },
  {
   "cell_type": "markdown",
   "metadata": {},
   "source": [
    "### derive some properties"
   ]
  },
  {
   "cell_type": "code",
   "execution_count": 7,
   "metadata": {},
   "outputs": [
    {
     "name": "stderr",
     "output_type": "stream",
     "text": [
      "/anaconda3/lib/python3.7/site-packages/ipykernel_launcher.py:2: SettingWithCopyWarning: \n",
      "A value is trying to be set on a copy of a slice from a DataFrame\n",
      "\n",
      "See the caveats in the documentation: https://pandas.pydata.org/pandas-docs/stable/user_guide/indexing.html#returning-a-view-versus-a-copy\n",
      "  \n"
     ]
    },
    {
     "data": {
      "text/html": [
       "\n",
       "        <script>\n",
       "            function code_toggle_14813525828984332802() {\n",
       "                $('div.cell.code_cell.rendered.selected').find('div.input').toggle();\n",
       "            }\n",
       "\n",
       "            \n",
       "        </script>\n",
       "\n",
       "        <a href=\"javascript:code_toggle_14813525828984332802()\">Toggle show/hide</a>\n",
       "    "
      ],
      "text/plain": [
       "<IPython.core.display.HTML object>"
      ]
     },
     "execution_count": 7,
     "metadata": {},
     "output_type": "execute_result"
    }
   ],
   "source": [
    "#estimate the peak flux of FRBs from 27:54 (27-53)\n",
    "data['f_p'][27:54] = data['fl'][27:54]/data['W'][27:54]\n",
    "\n",
    "#create L_p\n",
    "data['L_p'] = (data['f_p']*1e-19)*4*math.pi*(data['d_L']*3.08567758e25)**2\n",
    "\n",
    "#create L_lim\n",
    "#0:32 ASKAP, 32:62: CHIME, 62:90: Parkes\n",
    "f_lim = [14.8, 0.30, 0.30]\n",
    "slices = [slice(0,32), slice(32,62), slice(62,90)]\n",
    "a_Llim, c_Llim, p_Llim = [data['L_p'][slices[i]]*f_lim[i]/data['f_p'][slices[i]] for i in range(3)]\n",
    "data['L_lim'] = pd.concat([a_Llim, c_Llim, p_Llim], ignore_index=True)\n",
    "hide_toggle()"
   ]
  },
  {
   "cell_type": "code",
   "execution_count": 10,
   "metadata": {},
   "outputs": [
    {
     "data": {
      "text/html": [
       "<div>\n",
       "<style scoped>\n",
       "    .dataframe tbody tr th:only-of-type {\n",
       "        vertical-align: middle;\n",
       "    }\n",
       "\n",
       "    .dataframe tbody tr th {\n",
       "        vertical-align: top;\n",
       "    }\n",
       "\n",
       "    .dataframe thead th {\n",
       "        text-align: right;\n",
       "    }\n",
       "</style>\n",
       "<table border=\"1\" class=\"dataframe\">\n",
       "  <thead>\n",
       "    <tr style=\"text-align: right;\">\n",
       "      <th></th>\n",
       "      <th>frb</th>\n",
       "      <th>telescope</th>\n",
       "      <th>snr</th>\n",
       "      <th>f_p</th>\n",
       "      <th>d_L</th>\n",
       "      <th>z</th>\n",
       "      <th>DM</th>\n",
       "      <th>W</th>\n",
       "      <th>fl</th>\n",
       "      <th>L_p</th>\n",
       "      <th>L_lim</th>\n",
       "    </tr>\n",
       "  </thead>\n",
       "  <tbody>\n",
       "    <tr>\n",
       "      <th>0</th>\n",
       "      <td>FRB170107</td>\n",
       "      <td>ASKAP</td>\n",
       "      <td>16.0</td>\n",
       "      <td>24.100000</td>\n",
       "      <td>2.72</td>\n",
       "      <td>0.48</td>\n",
       "      <td>609.50</td>\n",
       "      <td>2.40</td>\n",
       "      <td>58.0</td>\n",
       "      <td>2.133368e+35</td>\n",
       "      <td>1.310118e+35</td>\n",
       "    </tr>\n",
       "    <tr>\n",
       "      <th>1</th>\n",
       "      <td>FRB170416</td>\n",
       "      <td>ASKAP</td>\n",
       "      <td>13.0</td>\n",
       "      <td>19.400000</td>\n",
       "      <td>2.21</td>\n",
       "      <td>0.40</td>\n",
       "      <td>523.20</td>\n",
       "      <td>5.00</td>\n",
       "      <td>97.0</td>\n",
       "      <td>1.133698e+35</td>\n",
       "      <td>8.648827e+34</td>\n",
       "    </tr>\n",
       "    <tr>\n",
       "      <th>2</th>\n",
       "      <td>FRB170428</td>\n",
       "      <td>ASKAP</td>\n",
       "      <td>10.5</td>\n",
       "      <td>7.700000</td>\n",
       "      <td>5.03</td>\n",
       "      <td>0.79</td>\n",
       "      <td>991.70</td>\n",
       "      <td>4.40</td>\n",
       "      <td>34.0</td>\n",
       "      <td>2.330975e+35</td>\n",
       "      <td>4.480316e+35</td>\n",
       "    </tr>\n",
       "    <tr>\n",
       "      <th>3</th>\n",
       "      <td>FRB170707</td>\n",
       "      <td>ASKAP</td>\n",
       "      <td>9.5</td>\n",
       "      <td>14.800000</td>\n",
       "      <td>0.80</td>\n",
       "      <td>0.17</td>\n",
       "      <td>235.20</td>\n",
       "      <td>3.50</td>\n",
       "      <td>52.0</td>\n",
       "      <td>1.133320e+34</td>\n",
       "      <td>1.133320e+34</td>\n",
       "    </tr>\n",
       "    <tr>\n",
       "      <th>4</th>\n",
       "      <td>FRB170712</td>\n",
       "      <td>ASKAP</td>\n",
       "      <td>12.7</td>\n",
       "      <td>37.800000</td>\n",
       "      <td>1.15</td>\n",
       "      <td>0.23</td>\n",
       "      <td>312.79</td>\n",
       "      <td>1.40</td>\n",
       "      <td>53.0</td>\n",
       "      <td>5.981339e+34</td>\n",
       "      <td>2.341900e+34</td>\n",
       "    </tr>\n",
       "    <tr>\n",
       "      <th>5</th>\n",
       "      <td>FRB170906</td>\n",
       "      <td>ASKAP</td>\n",
       "      <td>17.0</td>\n",
       "      <td>29.600000</td>\n",
       "      <td>1.52</td>\n",
       "      <td>0.29</td>\n",
       "      <td>390.30</td>\n",
       "      <td>2.50</td>\n",
       "      <td>74.0</td>\n",
       "      <td>8.182572e+34</td>\n",
       "      <td>4.091286e+34</td>\n",
       "    </tr>\n",
       "    <tr>\n",
       "      <th>6</th>\n",
       "      <td>FRB171003</td>\n",
       "      <td>ASKAP</td>\n",
       "      <td>13.8</td>\n",
       "      <td>40.500000</td>\n",
       "      <td>1.89</td>\n",
       "      <td>0.35</td>\n",
       "      <td>463.20</td>\n",
       "      <td>2.00</td>\n",
       "      <td>81.0</td>\n",
       "      <td>1.730970e+35</td>\n",
       "      <td>6.325521e+34</td>\n",
       "    </tr>\n",
       "    <tr>\n",
       "      <th>7</th>\n",
       "      <td>FRB171004</td>\n",
       "      <td>ASKAP</td>\n",
       "      <td>10.9</td>\n",
       "      <td>22.000000</td>\n",
       "      <td>1.11</td>\n",
       "      <td>0.22</td>\n",
       "      <td>304.00</td>\n",
       "      <td>2.00</td>\n",
       "      <td>44.0</td>\n",
       "      <td>3.243244e+34</td>\n",
       "      <td>2.181819e+34</td>\n",
       "    </tr>\n",
       "    <tr>\n",
       "      <th>8</th>\n",
       "      <td>FRB171019</td>\n",
       "      <td>ASKAP</td>\n",
       "      <td>23.4</td>\n",
       "      <td>40.500000</td>\n",
       "      <td>1.89</td>\n",
       "      <td>0.35</td>\n",
       "      <td>460.80</td>\n",
       "      <td>5.40</td>\n",
       "      <td>219.0</td>\n",
       "      <td>1.730970e+35</td>\n",
       "      <td>6.325521e+34</td>\n",
       "    </tr>\n",
       "    <tr>\n",
       "      <th>9</th>\n",
       "      <td>FRB171020</td>\n",
       "      <td>ASKAP</td>\n",
       "      <td>19.5</td>\n",
       "      <td>117.600000</td>\n",
       "      <td>0.29</td>\n",
       "      <td>0.06</td>\n",
       "      <td>114.10</td>\n",
       "      <td>3.20</td>\n",
       "      <td>200.0</td>\n",
       "      <td>1.183353e+34</td>\n",
       "      <td>1.489254e+33</td>\n",
       "    </tr>\n",
       "    <tr>\n",
       "      <th>10</th>\n",
       "      <td>FRB171116</td>\n",
       "      <td>ASKAP</td>\n",
       "      <td>11.8</td>\n",
       "      <td>19.600000</td>\n",
       "      <td>2.76</td>\n",
       "      <td>0.49</td>\n",
       "      <td>618.50</td>\n",
       "      <td>3.20</td>\n",
       "      <td>63.0</td>\n",
       "      <td>1.786427e+35</td>\n",
       "      <td>1.348934e+35</td>\n",
       "    </tr>\n",
       "    <tr>\n",
       "      <th>11</th>\n",
       "      <td>FRB171213</td>\n",
       "      <td>ASKAP</td>\n",
       "      <td>25.1</td>\n",
       "      <td>88.600000</td>\n",
       "      <td>0.47</td>\n",
       "      <td>0.10</td>\n",
       "      <td>158.60</td>\n",
       "      <td>1.50</td>\n",
       "      <td>133.0</td>\n",
       "      <td>2.341749e+34</td>\n",
       "      <td>3.911726e+33</td>\n",
       "    </tr>\n",
       "    <tr>\n",
       "      <th>12</th>\n",
       "      <td>FRB171216</td>\n",
       "      <td>ASKAP</td>\n",
       "      <td>8.0</td>\n",
       "      <td>21.000000</td>\n",
       "      <td>0.66</td>\n",
       "      <td>0.14</td>\n",
       "      <td>203.10</td>\n",
       "      <td>1.90</td>\n",
       "      <td>40.0</td>\n",
       "      <td>1.094506e+34</td>\n",
       "      <td>7.713661e+33</td>\n",
       "    </tr>\n",
       "    <tr>\n",
       "      <th>13</th>\n",
       "      <td>FRB180110</td>\n",
       "      <td>ASKAP</td>\n",
       "      <td>35.6</td>\n",
       "      <td>128.100000</td>\n",
       "      <td>3.32</td>\n",
       "      <td>0.56</td>\n",
       "      <td>715.70</td>\n",
       "      <td>3.20</td>\n",
       "      <td>420.0</td>\n",
       "      <td>1.689415e+36</td>\n",
       "      <td>1.951861e+35</td>\n",
       "    </tr>\n",
       "    <tr>\n",
       "      <th>14</th>\n",
       "      <td>FRB180119</td>\n",
       "      <td>ASKAP</td>\n",
       "      <td>15.9</td>\n",
       "      <td>40.700000</td>\n",
       "      <td>1.60</td>\n",
       "      <td>0.31</td>\n",
       "      <td>402.70</td>\n",
       "      <td>2.70</td>\n",
       "      <td>110.0</td>\n",
       "      <td>1.246652e+35</td>\n",
       "      <td>4.533281e+34</td>\n",
       "    </tr>\n",
       "    <tr>\n",
       "      <th>15</th>\n",
       "      <td>FRB180128.0</td>\n",
       "      <td>ASKAP</td>\n",
       "      <td>12.4</td>\n",
       "      <td>17.500000</td>\n",
       "      <td>1.82</td>\n",
       "      <td>0.34</td>\n",
       "      <td>441.40</td>\n",
       "      <td>2.90</td>\n",
       "      <td>51.0</td>\n",
       "      <td>6.935724e+34</td>\n",
       "      <td>5.865641e+34</td>\n",
       "    </tr>\n",
       "    <tr>\n",
       "      <th>16</th>\n",
       "      <td>FRB180128.2</td>\n",
       "      <td>ASKAP</td>\n",
       "      <td>9.6</td>\n",
       "      <td>28.700000</td>\n",
       "      <td>2.06</td>\n",
       "      <td>0.38</td>\n",
       "      <td>495.90</td>\n",
       "      <td>2.30</td>\n",
       "      <td>66.0</td>\n",
       "      <td>1.457227e+35</td>\n",
       "      <td>7.514621e+34</td>\n",
       "    </tr>\n",
       "    <tr>\n",
       "      <th>17</th>\n",
       "      <td>FRB180130</td>\n",
       "      <td>ASKAP</td>\n",
       "      <td>10.2</td>\n",
       "      <td>23.100000</td>\n",
       "      <td>1.29</td>\n",
       "      <td>0.25</td>\n",
       "      <td>343.50</td>\n",
       "      <td>4.10</td>\n",
       "      <td>95.0</td>\n",
       "      <td>4.599412e+34</td>\n",
       "      <td>2.946810e+34</td>\n",
       "    </tr>\n",
       "    <tr>\n",
       "      <th>18</th>\n",
       "      <td>FRB180131</td>\n",
       "      <td>ASKAP</td>\n",
       "      <td>13.8</td>\n",
       "      <td>22.200000</td>\n",
       "      <td>2.97</td>\n",
       "      <td>0.51</td>\n",
       "      <td>657.70</td>\n",
       "      <td>4.50</td>\n",
       "      <td>100.0</td>\n",
       "      <td>2.343024e+35</td>\n",
       "      <td>1.562016e+35</td>\n",
       "    </tr>\n",
       "    <tr>\n",
       "      <th>19</th>\n",
       "      <td>FRB180212</td>\n",
       "      <td>ASKAP</td>\n",
       "      <td>18.3</td>\n",
       "      <td>53.000000</td>\n",
       "      <td>0.52</td>\n",
       "      <td>0.11</td>\n",
       "      <td>167.50</td>\n",
       "      <td>1.81</td>\n",
       "      <td>96.0</td>\n",
       "      <td>1.714721e+34</td>\n",
       "      <td>4.788278e+33</td>\n",
       "    </tr>\n",
       "    <tr>\n",
       "      <th>20</th>\n",
       "      <td>FRB180315</td>\n",
       "      <td>ASKAP</td>\n",
       "      <td>10.4</td>\n",
       "      <td>23.300000</td>\n",
       "      <td>2.00</td>\n",
       "      <td>0.37</td>\n",
       "      <td>479.00</td>\n",
       "      <td>2.40</td>\n",
       "      <td>56.0</td>\n",
       "      <td>1.115134e+35</td>\n",
       "      <td>7.083251e+34</td>\n",
       "    </tr>\n",
       "    <tr>\n",
       "      <th>21</th>\n",
       "      <td>FRB180324</td>\n",
       "      <td>ASKAP</td>\n",
       "      <td>9.8</td>\n",
       "      <td>16.500000</td>\n",
       "      <td>1.57</td>\n",
       "      <td>0.30</td>\n",
       "      <td>431.00</td>\n",
       "      <td>4.30</td>\n",
       "      <td>71.0</td>\n",
       "      <td>4.866248e+34</td>\n",
       "      <td>4.364877e+34</td>\n",
       "    </tr>\n",
       "    <tr>\n",
       "      <th>22</th>\n",
       "      <td>FRB180417</td>\n",
       "      <td>ASKAP</td>\n",
       "      <td>24.2</td>\n",
       "      <td>21.800000</td>\n",
       "      <td>2.03</td>\n",
       "      <td>0.37</td>\n",
       "      <td>474.80</td>\n",
       "      <td>2.52</td>\n",
       "      <td>55.0</td>\n",
       "      <td>1.074879e+35</td>\n",
       "      <td>7.297343e+34</td>\n",
       "    </tr>\n",
       "    <tr>\n",
       "      <th>23</th>\n",
       "      <td>FRB180430</td>\n",
       "      <td>ASKAP</td>\n",
       "      <td>28.2</td>\n",
       "      <td>147.500000</td>\n",
       "      <td>0.38</td>\n",
       "      <td>0.08</td>\n",
       "      <td>264.10</td>\n",
       "      <td>1.20</td>\n",
       "      <td>177.0</td>\n",
       "      <td>2.548415e+34</td>\n",
       "      <td>2.557054e+33</td>\n",
       "    </tr>\n",
       "    <tr>\n",
       "      <th>24</th>\n",
       "      <td>FRB180515</td>\n",
       "      <td>ASKAP</td>\n",
       "      <td>12.1</td>\n",
       "      <td>24.200000</td>\n",
       "      <td>0.99</td>\n",
       "      <td>0.20</td>\n",
       "      <td>355.20</td>\n",
       "      <td>1.90</td>\n",
       "      <td>46.0</td>\n",
       "      <td>2.837898e+34</td>\n",
       "      <td>1.735574e+34</td>\n",
       "    </tr>\n",
       "    <tr>\n",
       "      <th>25</th>\n",
       "      <td>FRB180525</td>\n",
       "      <td>ASKAP</td>\n",
       "      <td>27.4</td>\n",
       "      <td>78.900000</td>\n",
       "      <td>1.55</td>\n",
       "      <td>0.30</td>\n",
       "      <td>388.10</td>\n",
       "      <td>3.80</td>\n",
       "      <td>300.0</td>\n",
       "      <td>2.268043e+35</td>\n",
       "      <td>4.254378e+34</td>\n",
       "    </tr>\n",
       "    <tr>\n",
       "      <th>26</th>\n",
       "      <td>FRB180924</td>\n",
       "      <td>ASKAP</td>\n",
       "      <td>194.0</td>\n",
       "      <td>12.300000</td>\n",
       "      <td>1.81</td>\n",
       "      <td>0.34</td>\n",
       "      <td>361.42</td>\n",
       "      <td>1.30</td>\n",
       "      <td>16.0</td>\n",
       "      <td>4.821401e+34</td>\n",
       "      <td>5.801360e+34</td>\n",
       "    </tr>\n",
       "    <tr>\n",
       "      <th>27</th>\n",
       "      <td>FRB181112</td>\n",
       "      <td>ASKAP</td>\n",
       "      <td>19.3</td>\n",
       "      <td>12.380952</td>\n",
       "      <td>2.23</td>\n",
       "      <td>0.41</td>\n",
       "      <td>589.27</td>\n",
       "      <td>2.10</td>\n",
       "      <td>26.0</td>\n",
       "      <td>7.366730e+34</td>\n",
       "      <td>8.806075e+34</td>\n",
       "    </tr>\n",
       "    <tr>\n",
       "      <th>28</th>\n",
       "      <td>FRB190102</td>\n",
       "      <td>ASKAP</td>\n",
       "      <td>14.0</td>\n",
       "      <td>8.235294</td>\n",
       "      <td>1.30</td>\n",
       "      <td>0.26</td>\n",
       "      <td>363.60</td>\n",
       "      <td>1.70</td>\n",
       "      <td>14.0</td>\n",
       "      <td>1.665240e+34</td>\n",
       "      <td>2.992674e+34</td>\n",
       "    </tr>\n",
       "    <tr>\n",
       "      <th>29</th>\n",
       "      <td>FRB190608</td>\n",
       "      <td>ASKAP</td>\n",
       "      <td>16.1</td>\n",
       "      <td>4.333333</td>\n",
       "      <td>1.28</td>\n",
       "      <td>0.25</td>\n",
       "      <td>338.70</td>\n",
       "      <td>6.00</td>\n",
       "      <td>26.0</td>\n",
       "      <td>8.494797e+33</td>\n",
       "      <td>2.901300e+34</td>\n",
       "    </tr>\n",
       "  </tbody>\n",
       "</table>\n",
       "</div>"
      ],
      "text/plain": [
       "            frb telescope    snr         f_p   d_L     z      DM     W     fl  \\\n",
       "0     FRB170107     ASKAP   16.0   24.100000  2.72  0.48  609.50  2.40   58.0   \n",
       "1     FRB170416     ASKAP   13.0   19.400000  2.21  0.40  523.20  5.00   97.0   \n",
       "2     FRB170428     ASKAP   10.5    7.700000  5.03  0.79  991.70  4.40   34.0   \n",
       "3     FRB170707     ASKAP    9.5   14.800000  0.80  0.17  235.20  3.50   52.0   \n",
       "4     FRB170712     ASKAP   12.7   37.800000  1.15  0.23  312.79  1.40   53.0   \n",
       "5     FRB170906     ASKAP   17.0   29.600000  1.52  0.29  390.30  2.50   74.0   \n",
       "6     FRB171003     ASKAP   13.8   40.500000  1.89  0.35  463.20  2.00   81.0   \n",
       "7     FRB171004     ASKAP   10.9   22.000000  1.11  0.22  304.00  2.00   44.0   \n",
       "8     FRB171019     ASKAP   23.4   40.500000  1.89  0.35  460.80  5.40  219.0   \n",
       "9     FRB171020     ASKAP   19.5  117.600000  0.29  0.06  114.10  3.20  200.0   \n",
       "10    FRB171116     ASKAP   11.8   19.600000  2.76  0.49  618.50  3.20   63.0   \n",
       "11    FRB171213     ASKAP   25.1   88.600000  0.47  0.10  158.60  1.50  133.0   \n",
       "12    FRB171216     ASKAP    8.0   21.000000  0.66  0.14  203.10  1.90   40.0   \n",
       "13    FRB180110     ASKAP   35.6  128.100000  3.32  0.56  715.70  3.20  420.0   \n",
       "14    FRB180119     ASKAP   15.9   40.700000  1.60  0.31  402.70  2.70  110.0   \n",
       "15  FRB180128.0     ASKAP   12.4   17.500000  1.82  0.34  441.40  2.90   51.0   \n",
       "16  FRB180128.2     ASKAP    9.6   28.700000  2.06  0.38  495.90  2.30   66.0   \n",
       "17    FRB180130     ASKAP   10.2   23.100000  1.29  0.25  343.50  4.10   95.0   \n",
       "18    FRB180131     ASKAP   13.8   22.200000  2.97  0.51  657.70  4.50  100.0   \n",
       "19    FRB180212     ASKAP   18.3   53.000000  0.52  0.11  167.50  1.81   96.0   \n",
       "20    FRB180315     ASKAP   10.4   23.300000  2.00  0.37  479.00  2.40   56.0   \n",
       "21    FRB180324     ASKAP    9.8   16.500000  1.57  0.30  431.00  4.30   71.0   \n",
       "22    FRB180417     ASKAP   24.2   21.800000  2.03  0.37  474.80  2.52   55.0   \n",
       "23    FRB180430     ASKAP   28.2  147.500000  0.38  0.08  264.10  1.20  177.0   \n",
       "24    FRB180515     ASKAP   12.1   24.200000  0.99  0.20  355.20  1.90   46.0   \n",
       "25    FRB180525     ASKAP   27.4   78.900000  1.55  0.30  388.10  3.80  300.0   \n",
       "26    FRB180924     ASKAP  194.0   12.300000  1.81  0.34  361.42  1.30   16.0   \n",
       "27    FRB181112     ASKAP   19.3   12.380952  2.23  0.41  589.27  2.10   26.0   \n",
       "28    FRB190102     ASKAP   14.0    8.235294  1.30  0.26  363.60  1.70   14.0   \n",
       "29    FRB190608     ASKAP   16.1    4.333333  1.28  0.25  338.70  6.00   26.0   \n",
       "\n",
       "             L_p         L_lim  \n",
       "0   2.133368e+35  1.310118e+35  \n",
       "1   1.133698e+35  8.648827e+34  \n",
       "2   2.330975e+35  4.480316e+35  \n",
       "3   1.133320e+34  1.133320e+34  \n",
       "4   5.981339e+34  2.341900e+34  \n",
       "5   8.182572e+34  4.091286e+34  \n",
       "6   1.730970e+35  6.325521e+34  \n",
       "7   3.243244e+34  2.181819e+34  \n",
       "8   1.730970e+35  6.325521e+34  \n",
       "9   1.183353e+34  1.489254e+33  \n",
       "10  1.786427e+35  1.348934e+35  \n",
       "11  2.341749e+34  3.911726e+33  \n",
       "12  1.094506e+34  7.713661e+33  \n",
       "13  1.689415e+36  1.951861e+35  \n",
       "14  1.246652e+35  4.533281e+34  \n",
       "15  6.935724e+34  5.865641e+34  \n",
       "16  1.457227e+35  7.514621e+34  \n",
       "17  4.599412e+34  2.946810e+34  \n",
       "18  2.343024e+35  1.562016e+35  \n",
       "19  1.714721e+34  4.788278e+33  \n",
       "20  1.115134e+35  7.083251e+34  \n",
       "21  4.866248e+34  4.364877e+34  \n",
       "22  1.074879e+35  7.297343e+34  \n",
       "23  2.548415e+34  2.557054e+33  \n",
       "24  2.837898e+34  1.735574e+34  \n",
       "25  2.268043e+35  4.254378e+34  \n",
       "26  4.821401e+34  5.801360e+34  \n",
       "27  7.366730e+34  8.806075e+34  \n",
       "28  1.665240e+34  2.992674e+34  \n",
       "29  8.494797e+33  2.901300e+34  "
      ]
     },
     "execution_count": 10,
     "metadata": {},
     "output_type": "execute_result"
    }
   ],
   "source": [
    "data[0:30]"
   ]
  },
  {
   "cell_type": "code",
   "execution_count": 32,
   "metadata": {},
   "outputs": [
    {
     "data": {
      "image/png": "[encoded data removed]",
      "text/plain": [
       "<Figure size 432x288 with 1 Axes>"
      ]
     },
     "metadata": {
      "needs_background": "light"
     },
     "output_type": "display_data"
    },
    {
     "data": {
      "text/html": [
       "\n",
       "        <script>\n",
       "            function code_toggle_12360662008851894624() {\n",
       "                $('div.cell.code_cell.rendered.selected').find('div.input').toggle();\n",
       "            }\n",
       "\n",
       "            \n",
       "        </script>\n",
       "\n",
       "        <a href=\"javascript:code_toggle_12360662008851894624()\">Toggle show/hide</a>\n",
       "    "
      ],
      "text/plain": [
       "<IPython.core.display.HTML object>"
      ]
     },
     "execution_count": 32,
     "metadata": {},
     "output_type": "execute_result"
    }
   ],
   "source": [
    "L_p = np.array(data['L_p'])\n",
    "z = np.array(data['z'])\n",
    "\n",
    "fig, ax = plt.subplots()\n",
    "#plt.scatter(np.log10(z[0:27]+1), np.log10(L_p[0:27]), label='ASKAP')\n",
    "plt.scatter(np.log10(z[54:62]+1), np.log10(L_p[54:62]), label='CHIME')\n",
    "plt.scatter(np.log10(z[62:90]+1), np.log10(L_p[62:90]), label='Parkes')\n",
    "#plt.scatter(np.log10(z[27:32]+1), np.log10(L_p[27:32]), label='ASKAP estimated', color='purple')\n",
    "#plt.scatter(np.log10(z[32:54]+1), np.log10(L_p[32:54]), label='CHIME estimated', color='red')\n",
    "plt.scatter(np.log10(z[82]+1), np.log10(L_p[82]), label='evil point', color = 'black', s = 100)\n",
    "plt.ylim([31, 37])\n",
    "plt.xlim([0, 0.5])\n",
    "plt.title('log L_p vs. log (1+z)')\n",
    "plt.legend()\n",
    "plt.show()\n",
    "hide_toggle()"
   ]
  },
  {
   "cell_type": "code",
   "execution_count": 35,
   "metadata": {},
   "outputs": [
    {
     "data": {
      "text/html": [
       "\n",
       "        <script>\n",
       "            function code_toggle_3928100197283394736() {\n",
       "                $('div.cell.code_cell.rendered.selected').find('div.input').toggle();\n",
       "            }\n",
       "\n",
       "            \n",
       "        </script>\n",
       "\n",
       "        <a href=\"javascript:code_toggle_3928100197283394736()\">Toggle show/hide</a>\n",
       "    "
      ],
      "text/plain": [
       "<IPython.core.display.HTML object>"
      ]
     },
     "execution_count": 35,
     "metadata": {},
     "output_type": "execute_result"
    }
   ],
   "source": [
    "#removing the evil point\n",
    "data = data.drop(82)\n",
    "data = data.reset_index(drop=True)\n",
    "hide_toggle()"
   ]
  },
  {
   "cell_type": "code",
   "execution_count": 97,
   "metadata": {},
   "outputs": [
    {
     "name": "stderr",
     "output_type": "stream",
     "text": [
      "/anaconda3/lib/python3.7/site-packages/ipykernel_launcher.py:2: SettingWithCopyWarning: \n",
      "A value is trying to be set on a copy of a slice from a DataFrame.\n",
      "Try using .loc[row_indexer,col_indexer] = value instead\n",
      "\n",
      "See the caveats in the documentation: http://pandas.pydata.org/pandas-docs/stable/indexing.html#indexing-view-versus-copy\n",
      "  \n",
      "/anaconda3/lib/python3.7/site-packages/ipykernel_launcher.py:6: SettingWithCopyWarning: \n",
      "A value is trying to be set on a copy of a slice from a DataFrame.\n",
      "Try using .loc[row_indexer,col_indexer] = value instead\n",
      "\n",
      "See the caveats in the documentation: http://pandas.pydata.org/pandas-docs/stable/indexing.html#indexing-view-versus-copy\n",
      "  \n"
     ]
    }
   ],
   "source": [
    "newdata = data[['f_p', 'fl', 'W']]\n",
    "newdata['f_p estimate'] = float(\"NaN\")\n",
    "newdata['f_p estimate'][ASKAP_0[0]] = newdata['fl'][ASKAP_0[0]]/newdata['W'][ASKAP_0[0]]\n",
    "#newdata['f_p estimate'][CHIME_0[0]] = newdata['fl'][CHIME_0[0]]/newdata['W'][CHIME_0[0]]\n",
    "#newdata['f_p estimate'][PARKES_0[0]] = newdata['fl'][PARKES_0[0]]/newdata['W'][PARKES_0[0]]\n",
    "newdata['% change'] = (newdata['f_p estimate']-newdata['f_p'])*100/newdata['f_p']\n"
   ]
  },
  {
   "cell_type": "code",
   "execution_count": 98,
   "metadata": {},
   "outputs": [
    {
     "data": {
      "text/html": [
       "<div>\n",
       "<style scoped>\n",
       "    .dataframe tbody tr th:only-of-type {\n",
       "        vertical-align: middle;\n",
       "    }\n",
       "\n",
       "    .dataframe tbody tr th {\n",
       "        vertical-align: top;\n",
       "    }\n",
       "\n",
       "    .dataframe thead th {\n",
       "        text-align: right;\n",
       "    }\n",
       "</style>\n",
       "<table border=\"1\" class=\"dataframe\">\n",
       "  <thead>\n",
       "    <tr style=\"text-align: right;\">\n",
       "      <th></th>\n",
       "      <th>f_p</th>\n",
       "      <th>fl</th>\n",
       "      <th>W</th>\n",
       "      <th>f_p estimate</th>\n",
       "      <th>% change</th>\n",
       "    </tr>\n",
       "  </thead>\n",
       "  <tbody>\n",
       "    <tr>\n",
       "      <th>54</th>\n",
       "      <td>0.6</td>\n",
       "      <td>2.7</td>\n",
       "      <td>1.91</td>\n",
       "      <td>NaN</td>\n",
       "      <td>NaN</td>\n",
       "    </tr>\n",
       "    <tr>\n",
       "      <th>55</th>\n",
       "      <td>1.7</td>\n",
       "      <td>5.9</td>\n",
       "      <td>1.44</td>\n",
       "      <td>NaN</td>\n",
       "      <td>NaN</td>\n",
       "    </tr>\n",
       "    <tr>\n",
       "      <th>56</th>\n",
       "      <td>0.4</td>\n",
       "      <td>1.4</td>\n",
       "      <td>0.91</td>\n",
       "      <td>NaN</td>\n",
       "      <td>NaN</td>\n",
       "    </tr>\n",
       "    <tr>\n",
       "      <th>57</th>\n",
       "      <td>0.4</td>\n",
       "      <td>3.0</td>\n",
       "      <td>4.10</td>\n",
       "      <td>NaN</td>\n",
       "      <td>NaN</td>\n",
       "    </tr>\n",
       "    <tr>\n",
       "      <th>58</th>\n",
       "      <td>0.5</td>\n",
       "      <td>3.1</td>\n",
       "      <td>4.50</td>\n",
       "      <td>NaN</td>\n",
       "      <td>NaN</td>\n",
       "    </tr>\n",
       "    <tr>\n",
       "      <th>59</th>\n",
       "      <td>0.5</td>\n",
       "      <td>4.4</td>\n",
       "      <td>3.30</td>\n",
       "      <td>NaN</td>\n",
       "      <td>NaN</td>\n",
       "    </tr>\n",
       "    <tr>\n",
       "      <th>60</th>\n",
       "      <td>0.6</td>\n",
       "      <td>1.7</td>\n",
       "      <td>1.20</td>\n",
       "      <td>NaN</td>\n",
       "      <td>NaN</td>\n",
       "    </tr>\n",
       "    <tr>\n",
       "      <th>61</th>\n",
       "      <td>0.3</td>\n",
       "      <td>1.7</td>\n",
       "      <td>3.00</td>\n",
       "      <td>NaN</td>\n",
       "      <td>NaN</td>\n",
       "    </tr>\n",
       "  </tbody>\n",
       "</table>\n",
       "</div>"
      ],
      "text/plain": [
       "    f_p   fl     W  f_p estimate  % change\n",
       "54  0.6  2.7  1.91           NaN       NaN\n",
       "55  1.7  5.9  1.44           NaN       NaN\n",
       "56  0.4  1.4  0.91           NaN       NaN\n",
       "57  0.4  3.0  4.10           NaN       NaN\n",
       "58  0.5  3.1  4.50           NaN       NaN\n",
       "59  0.5  4.4  3.30           NaN       NaN\n",
       "60  0.6  1.7  1.20           NaN       NaN\n",
       "61  0.3  1.7  3.00           NaN       NaN"
      ]
     },
     "execution_count": 98,
     "metadata": {},
     "output_type": "execute_result"
    }
   ],
   "source": [
    "newdata.iloc[54:62]"
   ]
  },
  {
   "cell_type": "code",
   "execution_count": 99,
   "metadata": {},
   "outputs": [
    {
     "data": {
      "text/html": [
       "<div>\n",
       "<style scoped>\n",
       "    .dataframe tbody tr th:only-of-type {\n",
       "        vertical-align: middle;\n",
       "    }\n",
       "\n",
       "    .dataframe tbody tr th {\n",
       "        vertical-align: top;\n",
       "    }\n",
       "\n",
       "    .dataframe thead th {\n",
       "        text-align: right;\n",
       "    }\n",
       "</style>\n",
       "<table border=\"1\" class=\"dataframe\">\n",
       "  <thead>\n",
       "    <tr style=\"text-align: right;\">\n",
       "      <th></th>\n",
       "      <th>f_p</th>\n",
       "      <th>fl</th>\n",
       "      <th>W</th>\n",
       "      <th>f_p estimate</th>\n",
       "      <th>% change</th>\n",
       "    </tr>\n",
       "  </thead>\n",
       "  <tbody>\n",
       "    <tr>\n",
       "      <th>54</th>\n",
       "      <td>0.6</td>\n",
       "      <td>2.7</td>\n",
       "      <td>1.91</td>\n",
       "      <td>NaN</td>\n",
       "      <td>NaN</td>\n",
       "    </tr>\n",
       "    <tr>\n",
       "      <th>55</th>\n",
       "      <td>1.7</td>\n",
       "      <td>5.9</td>\n",
       "      <td>1.44</td>\n",
       "      <td>NaN</td>\n",
       "      <td>NaN</td>\n",
       "    </tr>\n",
       "    <tr>\n",
       "      <th>56</th>\n",
       "      <td>0.4</td>\n",
       "      <td>1.4</td>\n",
       "      <td>0.91</td>\n",
       "      <td>NaN</td>\n",
       "      <td>NaN</td>\n",
       "    </tr>\n",
       "    <tr>\n",
       "      <th>57</th>\n",
       "      <td>0.4</td>\n",
       "      <td>3.0</td>\n",
       "      <td>4.10</td>\n",
       "      <td>NaN</td>\n",
       "      <td>NaN</td>\n",
       "    </tr>\n",
       "    <tr>\n",
       "      <th>58</th>\n",
       "      <td>0.5</td>\n",
       "      <td>3.1</td>\n",
       "      <td>4.50</td>\n",
       "      <td>NaN</td>\n",
       "      <td>NaN</td>\n",
       "    </tr>\n",
       "    <tr>\n",
       "      <th>59</th>\n",
       "      <td>0.5</td>\n",
       "      <td>4.4</td>\n",
       "      <td>3.30</td>\n",
       "      <td>NaN</td>\n",
       "      <td>NaN</td>\n",
       "    </tr>\n",
       "    <tr>\n",
       "      <th>60</th>\n",
       "      <td>0.6</td>\n",
       "      <td>1.7</td>\n",
       "      <td>1.20</td>\n",
       "      <td>NaN</td>\n",
       "      <td>NaN</td>\n",
       "    </tr>\n",
       "    <tr>\n",
       "      <th>61</th>\n",
       "      <td>0.3</td>\n",
       "      <td>1.7</td>\n",
       "      <td>3.00</td>\n",
       "      <td>NaN</td>\n",
       "      <td>NaN</td>\n",
       "    </tr>\n",
       "  </tbody>\n",
       "</table>\n",
       "</div>"
      ],
      "text/plain": [
       "    f_p   fl     W  f_p estimate  % change\n",
       "54  0.6  2.7  1.91           NaN       NaN\n",
       "55  1.7  5.9  1.44           NaN       NaN\n",
       "56  0.4  1.4  0.91           NaN       NaN\n",
       "57  0.4  3.0  4.10           NaN       NaN\n",
       "58  0.5  3.1  4.50           NaN       NaN\n",
       "59  0.5  4.4  3.30           NaN       NaN\n",
       "60  0.6  1.7  1.20           NaN       NaN\n",
       "61  0.3  1.7  3.00           NaN       NaN"
      ]
     },
     "execution_count": 99,
     "metadata": {},
     "output_type": "execute_result"
    }
   ],
   "source": [
    "newdata.iloc[54:62]"
   ]
  },
  {
   "cell_type": "code",
   "execution_count": 100,
   "metadata": {
    "scrolled": false
   },
   "outputs": [
    {
     "name": "stdout",
     "output_type": "stream",
     "text": [
      "0.10010010010009246\n",
      "-1.5097862254878314\n",
      "25 27\n",
      "2\n"
     ]
    },
    {
     "data": {
      "image/png": "[encoded data removed]",
      "text/plain": [
       "<Figure size 432x288 with 1 Axes>"
      ]
     },
     "metadata": {
      "needs_background": "light"
     },
     "output_type": "display_data"
    }
   ],
   "source": [
    "import statistics\n",
    "dF = list(newdata['% change'])\n",
    "dF = [x for x in dF if x == x]\n",
    "plt.hist(dF, 50)\n",
    "plt.ylabel('Number of FRBs')\n",
    "plt.xlabel('% difference of estimated')\n",
    "plt.title('CHIME FRB Estimates')\n",
    "#plt.xlim(-100,100)\n",
    "print(statistics.median(dF))\n",
    "print(sum(dF)/len(dF))\n",
    "print(len([x for x in dF if ((x <= 0.5 and x >= -0.5))]), len(dF))\n",
    "print(len([x for x in dF if (x < 0)]))"
   ]
  },
  {
   "cell_type": "markdown",
   "metadata": {},
   "source": [
    "# Kendall Tau Graph Functions\n",
    "presets: new ones!!!  \n",
    "new_L, tau_k, tkgraph  \n",
    "tkplot  \n",
    "tau_k2, tk_graph2  \n",
    "tk_pandas, tk2_pandas"
   ]
  },
  {
   "cell_type": "code",
   "execution_count": 11,
   "metadata": {},
   "outputs": [
    {
     "data": {
      "text/html": [
       "\n",
       "        <script>\n",
       "            function code_toggle_9206443119470708573() {\n",
       "                $('div.cell.code_cell.rendered.selected').find('div.input').toggle();\n",
       "            }\n",
       "\n",
       "            \n",
       "        </script>\n",
       "\n",
       "        <a href=\"javascript:code_toggle_9206443119470708573()\">Toggle show/hide</a>\n",
       "    "
      ],
      "text/plain": [
       "<IPython.core.display.HTML object>"
      ]
     },
     "execution_count": 11,
     "metadata": {},
     "output_type": "execute_result"
    }
   ],
   "source": [
    "#Presets for the TELESCOPE option\n",
    "\n",
    "#subscript e stands for estimated\n",
    "    #orig            : 0:27 ASKAP, 54:62 CHIME, 62:90 Parkes\n",
    "    #orig + estimated: 0:32 ASKAP, 32:62 CHIME, 62:90 Parkes\n",
    "ASKAP_0 = (slice(0,27), 'ASKAP', 14.8, '#1f77b4')\n",
    "ASKAP = (slice(0,32), 'ASKAP', 14.8, '#1f77b4')\n",
    "CHIME_0 = (slice(54,62), 'CHIME', 0.30, '#2ca02c')\n",
    "CHIME = (slice(32,62), 'CHIME', 0.30, '#2ca02c')\n",
    "PARKES_0 = (slice(62,89), 'Parkes', 0.30, '#ff7f0e')\n",
    "PARKES = (slice(62,89), 'Parkes', 0.30, '#ff7f0e')\n",
    "ALL = (slice(0,89), 'All FRBs', 0.30, '#1f77b4')\n",
    "PAC_0 = (slice(54,89), 'Parkes + CHIME (orig)', 0.30, '#1f77b4') # PARKES + CHIME\n",
    "PAC = (slice(32,89), 'Parkes + CHIME', 0.30, '#1f77b4')\n",
    "hide_toggle()"
   ]
  },
  {
   "cell_type": "code",
   "execution_count": 12,
   "metadata": {},
   "outputs": [
    {
     "data": {
      "text/html": [
       "\n",
       "        <script>\n",
       "            function code_toggle_13299133479525109529() {\n",
       "                $('div.cell.code_cell.rendered.selected').find('div.input').toggle();\n",
       "            }\n",
       "\n",
       "            \n",
       "        </script>\n",
       "\n",
       "        <a href=\"javascript:code_toggle_13299133479525109529()\">Toggle show/hide</a>\n",
       "    "
      ],
      "text/plain": [
       "<IPython.core.display.HTML object>"
      ]
     },
     "execution_count": 12,
     "metadata": {},
     "output_type": "execute_result"
    }
   ],
   "source": [
    "def new_L(L, z, k=0, g=g_new):\n",
    "    return [L[i]/g(z[i], k) for i in range(len(L))]\n",
    "\n",
    "def tau_k(L_p, z, k, F_lim, d_L, func=L_lim1, g=g_new):\n",
    "    L_new = new_L(L_p, z, k=k, g=g)\n",
    "    return kt_newform(L_new, z, F_lim, d_L, g=g, k=k, func=func)\n",
    "\n",
    "def tkgraph(L_p, z, d_L, func=L_lim1, g=g_new, k_min=0, k_max=10, dk=0.01, TELESCOPE=ALL):\n",
    "    #the current k value\n",
    "    k = k_min\n",
    "    \n",
    "    #expand telescope\n",
    "    tel, telname, F_LIM, color = TELESCOPE\n",
    "\n",
    "    #list of k, tau\n",
    "    list_k = []\n",
    "    list_t = []\n",
    "\n",
    "    k1 = k_min #k closest to tau = 1\n",
    "    kn1 = k_min #k closest to tau = -1\n",
    "    k0 = k_min #k closest to t=0\n",
    "\n",
    "    dif1 = 1e300 #smallest distance so far to tau = 1\n",
    "    difn1 = 1e300 #smallest distance so far to tau = -1\n",
    "    dif0 = 1e300\n",
    "\n",
    "    while(k <= k_max):\n",
    "        list_k.append(k)\n",
    "        t_k = tau_k(L_p[tel], z[tel], k, F_LIM, d_L[tel], func=func, g=g)\n",
    "        list_t.append(t_k)\n",
    "\n",
    "        if(abs(t_k-1) < dif1):\n",
    "            dif1 = abs(t_k-1)\n",
    "            k1 = k\n",
    "        if(abs(t_k+1) < difn1):\n",
    "            difn1 = abs(t_k+1)\n",
    "            kn1 = k\n",
    "        if(abs(t_k) < dif0):\n",
    "            dif0 = abs(t_k)\n",
    "            k0 = k\n",
    "\n",
    "        k += dk\n",
    "    \n",
    "    return list_k, list_t, round(k1,2), round(kn1,2), round(k0,2)\n",
    "\n",
    "hide_toggle()"
   ]
  },
  {
   "cell_type": "code",
   "execution_count": 13,
   "metadata": {},
   "outputs": [
    {
     "data": {
      "text/html": [
       "\n",
       "        <script>\n",
       "            function code_toggle_9325793499488459188() {\n",
       "                $('div.cell.code_cell.rendered.selected').find('div.input').toggle();\n",
       "            }\n",
       "\n",
       "            \n",
       "        </script>\n",
       "\n",
       "        <a href=\"javascript:code_toggle_9325793499488459188()\">Toggle show/hide</a>\n",
       "    "
      ],
      "text/plain": [
       "<IPython.core.display.HTML object>"
      ]
     },
     "execution_count": 13,
     "metadata": {},
     "output_type": "execute_result"
    }
   ],
   "source": [
    "def tkplot(list_k, list_t, k1, kn1, k0, k_min=0, k_max=10, dk=0.01, TELESCOPE=ALL, PLOT_LINES=True, NAT=False):\n",
    "    \n",
    "    #expand telescope\n",
    "    tel, telname, F_LIM, color = TELESCOPE\n",
    "\n",
    "    k1, kn1, k0 = round(k1, 2), round(kn1, 2), round(k0, 2)\n",
    "\n",
    "    YMAX, YMIN = max(list_t), min(list_t)\n",
    "    XMAX, XMIN = k_max, k_min\n",
    "    MAR = 0 #margin\n",
    "    XMAR = MAR/10 * (abs(XMAX)+abs(XMIN)) #scaling the xmargin\n",
    "    YMAR = MAR/10 * (abs(YMAX)+abs(YMIN)) #scaling the ymargin\n",
    "\n",
    "    fig, ax = plt.subplots()  # Create a figure and an axes.\n",
    "    ax.plot(list_k, list_t, label='τ(k)')\n",
    "    ax.plot(list_k, [0 for i in range(len(list_k))], label='τ=0')\n",
    "\n",
    "    if PLOT_LINES:\n",
    "        ax.plot([k1 for i in range(11)], [YMIN+(1-YMIN)*i/10 for i in range(11)], color='black', linestyle='--', label='k = ' + str(kn1))\n",
    "        ax.plot([kn1 for i in range(11)], [YMIN+(-1-YMIN)*i/10 for i in range(11)], color='black', linestyle='--', label='k = ' + str(k1))\n",
    "        ax.plot([XMIN + (k1-XMIN)*i/10 for i in range(11)],[1 for i in range(11)], color='black', linestyle='--')\n",
    "        ax.plot([XMIN + (kn1-XMIN)*i/10 for i in range(11)],[-1 for i in range(11)], color='black', linestyle='--')\n",
    "    \n",
    "    if not NAT:\n",
    "        ax.set_ylim([YMIN-YMAR, YMAX+YMAR])\n",
    "        ax.set_xlim([XMIN-XMAR, XMAX+XMAR])\n",
    "    ax.set_xlabel('k')  # Add an x-label to the axes.\n",
    "    ax.set_ylabel('τ')  # Add a y-label to the axes.\n",
    "    ax.plot()\n",
    "\n",
    "    ax.set_title(f\"[{telname}] Relation between τ and k\")  # Add a title to the axes.\n",
    "    ax.legend()  # Add a legend.\n",
    "    return fig, ax\n",
    "\n",
    "hide_toggle()"
   ]
  },
  {
   "cell_type": "code",
   "execution_count": 14,
   "metadata": {},
   "outputs": [
    {
     "data": {
      "text/html": [
       "\n",
       "        <script>\n",
       "            function code_toggle_17394445400060460912() {\n",
       "                $('div.cell.code_cell.rendered.selected').find('div.input').toggle();\n",
       "            }\n",
       "\n",
       "            \n",
       "        </script>\n",
       "\n",
       "        <a href=\"javascript:code_toggle_17394445400060460912()\">Toggle show/hide</a>\n",
       "    "
      ],
      "text/plain": [
       "<IPython.core.display.HTML object>"
      ]
     },
     "execution_count": 14,
     "metadata": {},
     "output_type": "execute_result"
    }
   ],
   "source": [
    "#this uses the other version of kendall tau, to be used for L-Llim space. \n",
    "#Haven't been able to get it working though.\n",
    "\n",
    "def tau_k2(L_p, L_plim, z, k, func=L_lim2, g=g_new):\n",
    "    L_new = new_L(L_p, z, k=k, g=g)\n",
    "    L_pnew = new_L(L_plim, z, k=k, g=g)\n",
    "    return kendall_tau(L_new, L_pnew, func=func)\n",
    "\n",
    "def tk_graph2(L_p, L_lim, z, func=L_lim2, g=g_new, k_min=0, k_max=10, dk=0.01, TELESCOPE=ALL):\n",
    "    #the current k value\n",
    "    k = k_min\n",
    "    \n",
    "    #expand telescope\n",
    "    tel, telname, F_LIM, color = TELESCOPE\n",
    "\n",
    "    #list of k, tau\n",
    "    list_k = []\n",
    "    list_t = []\n",
    "\n",
    "    k1 = k_min #k closest to tau = 1\n",
    "    kn1 = k_min #k closest to tau = -1\n",
    "    k0 = k_min #k closest to t=0\n",
    "\n",
    "    dif1 = 1e300 #smallest distance so far to tau = 1\n",
    "    difn1 = 1e300 #smallest distance so far to tau = -1\n",
    "    dif0 = 1e300\n",
    "\n",
    "    while(k <= k_max):\n",
    "        list_k.append(k)\n",
    "        t_k = tau_k2(L_p[tel], L_lim[tel], z[tel], k, func=func, g=g)\n",
    "        list_t.append(t_k)\n",
    "\n",
    "        if(abs(t_k-1) < dif1):\n",
    "            dif1 = abs(t_k-1)\n",
    "            k1 = k\n",
    "        if(abs(t_k+1) < difn1):\n",
    "            difn1 = abs(t_k+1)\n",
    "            kn1 = k\n",
    "        if(abs(t_k) < dif0):\n",
    "            dif0 = abs(t_k)\n",
    "            k0 = k\n",
    "\n",
    "        k += dk\n",
    "    \n",
    "    return list_k, list_t, round(k1,2), round(kn1,2), round(k0,2)\n",
    "\n",
    "hide_toggle()"
   ]
  },
  {
   "cell_type": "code",
   "execution_count": 15,
   "metadata": {},
   "outputs": [
    {
     "data": {
      "text/html": [
       "\n",
       "        <script>\n",
       "            function code_toggle_13559101086183241898() {\n",
       "                $('div.cell.code_cell.rendered.selected').find('div.input').toggle();\n",
       "            }\n",
       "\n",
       "            \n",
       "        </script>\n",
       "\n",
       "        <a href=\"javascript:code_toggle_13559101086183241898()\">Toggle show/hide</a>\n",
       "    "
      ],
      "text/plain": [
       "<IPython.core.display.HTML object>"
      ]
     },
     "execution_count": 15,
     "metadata": {},
     "output_type": "execute_result"
    }
   ],
   "source": [
    "def tk_pandas(data, k_min=0, k_max=10, TELESCOPE=ALL):\n",
    "    L_p = data['L_p'].to_numpy()\n",
    "    z = data['z'].to_numpy()\n",
    "    d_L = data['d_L'].to_numpy()\n",
    "    list_k, list_t, k1, kn1, k0 = tkgraph(L_p, z, d_L, func=L_lim1, g=g_new, k_min=k_min, k_max=k_max, TELESCOPE=TELESCOPE)\n",
    "    fig, ax = tkplot(list_k, list_t, k1, kn1, k0, k_min=k_min, k_max=k_max, TELESCOPE=TELESCOPE)\n",
    "    return fig, ax, k0\n",
    "\n",
    "def tk2_pandas(data, k_min=0, k_max=10, TELESCOPE=ALL):\n",
    "    L_p = data['L_p'].to_numpy()\n",
    "    L_lim = data['L_lim'].to_numpy()\n",
    "    z = data['z'].to_numpy()\n",
    "    list_k, list_t, k1, kn1, k0 = tk_graph2(L_p, L_lim, z, k_min=k_min, k_max=k_max, TELESCOPE=TELESCOPE)\n",
    "    fig, ax = tkplot(list_k, list_t, k1, kn1, k0, k_min=k_min, k_max=k_max, TELESCOPE=TELESCOPE)\n",
    "    return fig, ax, k0\n",
    "\n",
    "hide_toggle()"
   ]
  },
  {
   "cell_type": "markdown",
   "metadata": {},
   "source": [
    "# LFD Functions\n",
    "sigma_z  \n",
    "manual_dL, manual_Llim, manual_dVdz  \n",
    "get_max_z, create_Lcutoffs, phi_L  \n",
    "devSig, devPhi  \n",
    "manual_dL, manual_Llim, manual_dVdz  \n",
    "rho_z"
   ]
  },
  {
   "cell_type": "code",
   "execution_count": 16,
   "metadata": {},
   "outputs": [
    {
     "data": {
      "text/html": [
       "\n",
       "        <script>\n",
       "            function code_toggle_10640870856082273316() {\n",
       "                $('div.cell.code_cell.rendered.selected').find('div.input').toggle();\n",
       "            }\n",
       "\n",
       "            \n",
       "        </script>\n",
       "\n",
       "        <a href=\"javascript:code_toggle_10640870856082273316()\">Toggle show/hide</a>\n",
       "    "
      ],
      "text/plain": [
       "<IPython.core.display.HTML object>"
      ]
     },
     "execution_count": 16,
     "metadata": {},
     "output_type": "execute_result"
    }
   ],
   "source": [
    "def sigma_z(L, z, d_L, k=0, func=L_lim1, g=g_new, TELESCOPE=ALL): #z0 being the z of interest\n",
    "    \n",
    "    tel, telname, F_LIM, color = TELESCOPE\n",
    "    \n",
    "    L = new_L(L, z, k=k)\n",
    "    z, L, d_L = sort_by_1(z[tel], L[tel], d_L[tel])\n",
    "    \n",
    "    zs_actual = []\n",
    "    m = []\n",
    "    for i in range(len(L)):\n",
    "        num = 0\n",
    "        \n",
    "        if(L[i] < func(F_LIM, z[i], d_L[i], g=g, k=k)): #skip all those under limit\n",
    "            print(z[i])\n",
    "            continue\n",
    "        \n",
    "        #if above limit, add to list of indices\n",
    "        zs_actual.append(z[i])\n",
    "        \n",
    "        for j in range(0, i): #since sorted by now, only j < i has z_j < z_i\n",
    "            if(L[j] >= func(F_LIM, z[i], d_L[i], g=g) and z[j] <= z[i]): #associated set requirements\n",
    "                num += 1\n",
    "        \n",
    "        m.append(num+1) #includes itself?\n",
    "    \n",
    "    sigma = []\n",
    "    prod = 1\n",
    "    for j in range(len(m)):\n",
    "        prod *= (1 + 1/m[j])\n",
    "        sigma.append(prod)\n",
    "    \n",
    "    return sigma, zs_actual\n",
    "\n",
    "hide_toggle()"
   ]
  },
  {
   "cell_type": "code",
   "execution_count": 17,
   "metadata": {},
   "outputs": [
    {
     "data": {
      "text/html": [
       "\n",
       "        <script>\n",
       "            function code_toggle_2120822845892892276() {\n",
       "                $('div.cell.code_cell.rendered.selected').find('div.input').toggle();\n",
       "            }\n",
       "\n",
       "            \n",
       "        </script>\n",
       "\n",
       "        <a href=\"javascript:code_toggle_2120822845892892276()\">Toggle show/hide</a>\n",
       "    "
      ],
      "text/plain": [
       "<IPython.core.display.HTML object>"
      ]
     },
     "execution_count": 17,
     "metadata": {},
     "output_type": "execute_result"
    }
   ],
   "source": [
    "def manual_dL(z, O_M=0.286, O_V=0.714, H_0=69.6, dz = 1e-5, prev=None):\n",
    "    d_H = 299792458/(H_0*3.24077929e-20) #Hubble Distance, in meters!\n",
    "    \n",
    "    #numerical integration\n",
    "    z_cur = 0\n",
    "    integral = 0\n",
    "    \n",
    "    if prev: #already integrated up to a certain point\n",
    "        z_cur, d_L = prev #assume format is [z, d_L]\n",
    "        integral = d_L/(d_H*(1+z_cur))\n",
    "    \n",
    "    while(z_cur < z):\n",
    "        dI = dz/(O_M*(1+z_cur)**3 + O_V)**0.5\n",
    "        z_cur += dz\n",
    "        dI2 = dz/(O_M*(1+z_cur)**3 + O_V)**0.5\n",
    "        integral += (dI+dI2)/2\n",
    "    \n",
    "    return integral*(1+z)*d_H\n",
    "\n",
    "def manual_Llim(F_lim, z_i, g=g_new, k=0, prev=None):\n",
    "    if not prev:\n",
    "        return (F_lim*1e-19)*4*math.pi*(manual_dL(z_i, prev=prev))**2/g(z_i, k)\n",
    "    d_L = manual_dL(z_i, prev=prev)\n",
    "    return [(F_lim*1e-19)*4*math.pi*(d_L)**2/g(z_i, k), d_L]\n",
    "\n",
    "def manual_dVdz(z, O_M=0.286, O_V=0.714, H_0=69.6, dz= 1e-5, prev=None):\n",
    "    d_H = 299792458/(H_0*3.24077929e-20) #Hubble Distance, in meters!\n",
    "    \n",
    "    #numerical integration\n",
    "    z_cur = 0\n",
    "    integral = 0\n",
    "    \n",
    "    if prev:\n",
    "        z_cur, integral = prev\n",
    "    \n",
    "    while(z_cur < z):\n",
    "        dI = dz/(O_M*(1+z_cur)**3 + O_V)**0.5\n",
    "        z_cur += dz\n",
    "        dI2 = dz/(O_M*(1+z_cur)**3 + O_V)**0.5\n",
    "        integral += (dI+dI2)/2\n",
    "    \n",
    "    if not prev:\n",
    "        return 4*math.pi*(d_H**3)*integral**2/(O_M*(1+z_cur)**3 + O_V)**0.5\n",
    "    return [4*math.pi*(d_H**3)*integral**2/(O_M*(1+z_cur)**3 + O_V)**0.5, integral]\n",
    "\n",
    "hide_toggle()"
   ]
  },
  {
   "cell_type": "code",
   "execution_count": 18,
   "metadata": {},
   "outputs": [
    {
     "data": {
      "text/html": [
       "\n",
       "        <script>\n",
       "            function code_toggle_12856516100391846322() {\n",
       "                $('div.cell.code_cell.rendered.selected').find('div.input').toggle();\n",
       "            }\n",
       "\n",
       "            \n",
       "        </script>\n",
       "\n",
       "        <a href=\"javascript:code_toggle_12856516100391846322()\">Toggle show/hide</a>\n",
       "    "
      ],
      "text/plain": [
       "<IPython.core.display.HTML object>"
      ]
     },
     "execution_count": 18,
     "metadata": {},
     "output_type": "execute_result"
    }
   ],
   "source": [
    "def get_max_z(zrange, L_cutoffs, L):\n",
    "    idx = np.argwhere(np.diff(np.sign(np.array(L_cutoffs) - L))).flatten()\n",
    "    if(len(idx) < 1):\n",
    "        return 1e300\n",
    "    return np.array(zrange)[idx][0]\n",
    "\n",
    "def create_Lcutoffs(TELESCOPE=ALL):\n",
    "    tel, telname, F_LIM, color = TELESCOPE\n",
    "    \n",
    "    #creation of the cutoff luminosities\n",
    "    zrange = np.linspace(0, 2.25, num=2000)\n",
    "    L_cutoffs = []\n",
    "    \n",
    "    prev = (0, 0)\n",
    "\n",
    "    for i in range(len(zrange)):\n",
    "        L_lim, d_L = manual_Llim(F_LIM, zrange[i], g=g_new, k=0, prev=prev)\n",
    "        L_cutoffs.append(L_lim)\n",
    "        prev = (zrange[i], d_L)\n",
    "        \n",
    "    zrange, L_cutoffs = sort_by_first(zrange, L_cutoffs)\n",
    "    return zrange, L_cutoffs\n",
    "\n",
    "def phi_L(L_p, z, k=0, L_cutoffs=None, zrange=None, func=L_lim1, g=g_new, TELESCOPE=ALL): #z0 being the z of interest\n",
    "    \n",
    "    tel, telname, F_LIM, color = TELESCOPE\n",
    "    \n",
    "    #creating the L_cutoffs and zrange if None\n",
    "    if (not L_cutoffs) or (not zrange):\n",
    "        zrange, L_cutoffs = create_Lcutoffs(TELESCOPE=TELESCOPE)\n",
    "    cutoffs_prime = new_L(L_cutoffs, zrange, k=k, g=g_new)\n",
    "    #####################################\n",
    "    \n",
    "    ax.plot(zrange, cutoffs_prime, color='black')\n",
    "    \n",
    "    #creation of L_prime\n",
    "    Lprime = new_L(L_p[tel], z[tel], k=k, g=g_new)\n",
    "    ####################\n",
    "    \n",
    "    Lprime, z = sort_by_first(Lprime, z[tel], reverse=True)\n",
    "    L_actuals = [] # only return the luminosities that are above the limit\n",
    "    n = []\n",
    "    for i in range(len(z)):\n",
    "        num = 0\n",
    "        z_max = get_max_z(zrange, cutoffs_prime, Lprime[i])\n",
    "        \n",
    "        if (z[i] > z_max and z[i] != 0.57 and z[i] != 1.5): #skip things under limit\n",
    "            ax.scatter(z[i], Lprime[i])\n",
    "            ax.scatter(z_max, Lprime[i], color='peachpuff')\n",
    "            print(z[i])\n",
    "            continue\n",
    "            \n",
    "        L_actuals.append(Lprime[i])\n",
    "        \n",
    "        for j in range(0, i): #since sorted by largest L' to smallest\n",
    "                            #should only include L'[j] > L'[i]\n",
    "                \n",
    "            if(Lprime[j] >= Lprime[i] and z[j] <= z_max): #associated set requirements\n",
    "                num += 1\n",
    "        \n",
    "        n.append(num+1) #includes itself?\n",
    "    \n",
    "    phi = []\n",
    "    prod = 1\n",
    "    for l in range(len(n)):\n",
    "        prod *= (1 + 1/n[l])\n",
    "        phi.append(prod)\n",
    "    \n",
    "    return phi, L_actuals\n",
    "\n",
    "hide_toggle()"
   ]
  },
  {
   "cell_type": "code",
   "execution_count": 19,
   "metadata": {},
   "outputs": [
    {
     "data": {
      "text/html": [
       "\n",
       "        <script>\n",
       "            function code_toggle_7046848353676970695() {\n",
       "                $('div.cell.code_cell.rendered.selected').find('div.input').toggle();\n",
       "            }\n",
       "\n",
       "            \n",
       "        </script>\n",
       "\n",
       "        <a href=\"javascript:code_toggle_7046848353676970695()\">Toggle show/hide</a>\n",
       "    "
      ],
      "text/plain": [
       "<IPython.core.display.HTML object>"
      ]
     },
     "execution_count": 19,
     "metadata": {},
     "output_type": "execute_result"
    }
   ],
   "source": [
    "def devSig(z, d1, d2, Z_c, n):\n",
    "    Z = z+1.0\n",
    "    fac1 = np.power(Z, d1-1.0)\n",
    "    fac2 = np.power(np.power(Z/Z_c, n*(d1-d2))+1.0, -1.0/n - 1.0)\n",
    "    fac3 = d2*np.power(Z/Z_c, n*(d1-d2))+d1\n",
    "    return fac1*fac2*fac3\n",
    "\n",
    "def devPhi(L, Phi_0, L_0, d1, d2, n):\n",
    "    ratio = L/L_0\n",
    "    fac1 = Phi_0 * np.power(1+ np.power(ratio, n*(d2-d1)), -1.0/n -1.0)\n",
    "    fac2 = d2*np.power(ratio, n*(d2-d1))+d1\n",
    "    fac3 = L*np.power(ratio, d1)\n",
    "    return fac1*fac2/fac3\n",
    "hide_toggle()"
   ]
  },
  {
   "cell_type": "code",
   "execution_count": 20,
   "metadata": {},
   "outputs": [
    {
     "data": {
      "text/html": [
       "\n",
       "        <script>\n",
       "            function code_toggle_11418004976429845119() {\n",
       "                $('div.cell.code_cell.rendered.selected').find('div.input').toggle();\n",
       "            }\n",
       "\n",
       "            \n",
       "        </script>\n",
       "\n",
       "        <a href=\"javascript:code_toggle_11418004976429845119()\">Toggle show/hide</a>\n",
       "    "
      ],
      "text/plain": [
       "<IPython.core.display.HTML object>"
      ]
     },
     "execution_count": 20,
     "metadata": {},
     "output_type": "execute_result"
    }
   ],
   "source": [
    "def manual_dL(z, O_M=0.286, O_V=0.714, H_0=69.6, dz = 1e-5, prev=None):\n",
    "    d_H = 299792458/(H_0*3.24077929e-20) #Hubble Distance, in meters!\n",
    "    \n",
    "    #numerical integration\n",
    "    z_cur = 0\n",
    "    integral = 0\n",
    "    \n",
    "    if prev: #already integrated up to a certain point\n",
    "        z_cur, d_L = prev #assume format is [z, d_L]\n",
    "        integral = d_L/(d_H*(1+z_cur))\n",
    "    \n",
    "    while(z_cur < z):\n",
    "        dI = dz/(O_M*(1+z_cur)**3 + O_V)**0.5\n",
    "        z_cur += dz\n",
    "        dI2 = dz/(O_M*(1+z_cur)**3 + O_V)**0.5\n",
    "        integral += (dI+dI2)/2\n",
    "    \n",
    "    return integral*(1+z)*d_H\n",
    "\n",
    "def manual_Llim(F_lim, z_i, g=g_new, k=0, prev=None):\n",
    "    if not prev:\n",
    "        return (F_lim*1e-19)*4*math.pi*(manual_dL(z_i, prev=prev))**2/g(z_i, k)\n",
    "    d_L = manual_dL(z_i, prev=prev)\n",
    "    return [(F_lim*1e-19)*4*math.pi*(d_L)**2/g(z_i, k), d_L]\n",
    "\n",
    "def manual_dVdz(z, O_M=0.286, O_V=0.714, H_0=69.6, dz= 1e-5, prev=None):\n",
    "    d_H = 299792458/(H_0*3.24077929e-20) #Hubble Distance, in meters!\n",
    "    \n",
    "    #numerical integration\n",
    "    z_cur = 0\n",
    "    integral = 0\n",
    "    \n",
    "    if prev:\n",
    "        z_cur, integral = prev\n",
    "    \n",
    "    while(z_cur < z):\n",
    "        dI = dz/(O_M*(1+z_cur)**3 + O_V)**0.5\n",
    "        z_cur += dz\n",
    "        dI2 = dz/(O_M*(1+z_cur)**3 + O_V)**0.5\n",
    "        integral += (dI+dI2)/2\n",
    "    \n",
    "    if not prev:\n",
    "        return 4*math.pi*(d_H**3)*integral**2/(O_M*(1+z_cur)**3 + O_V)**0.5\n",
    "    return [4*math.pi*(d_H**3)*integral**2/(O_M*(1+z_cur)**3 + O_V)**0.5, integral]\n",
    "\n",
    "hide_toggle()"
   ]
  },
  {
   "cell_type": "code",
   "execution_count": 21,
   "metadata": {},
   "outputs": [
    {
     "data": {
      "text/html": [
       "\n",
       "        <script>\n",
       "            function code_toggle_2816571925610123178() {\n",
       "                $('div.cell.code_cell.rendered.selected').find('div.input').toggle();\n",
       "            }\n",
       "\n",
       "            \n",
       "        </script>\n",
       "\n",
       "        <a href=\"javascript:code_toggle_2816571925610123178()\">Toggle show/hide</a>\n",
       "    "
      ],
      "text/plain": [
       "<IPython.core.display.HTML object>"
      ]
     },
     "execution_count": 21,
     "metadata": {},
     "output_type": "execute_result"
    }
   ],
   "source": [
    "def rho_z(sigma, z_, argsSig):\n",
    "    dSdz = devSig(z_, *argsSig)\n",
    "    \n",
    "    z_cur = 0\n",
    "    i = 0\n",
    "    dz = 1e-5\n",
    "    \n",
    "    prev = (0, 0)\n",
    "    \n",
    "    dVdz = []\n",
    "    \n",
    "    while(i < len(z_)):\n",
    "        dVdzi, integral = manual_dVdz(z_[i], prev=prev)\n",
    "        prev = (z_[i], integral)\n",
    "        dVdz.append(dVdzi)\n",
    "        i += 1\n",
    "    \n",
    "    return [(1+z_[i])*dSdz[i]/dVdz[i] for i in range(len(z_))]\n",
    "hide_toggle()"
   ]
  },
  {
   "cell_type": "markdown",
   "metadata": {},
   "source": [
    "# Fitting Curves\n",
    "rawLF, rawPhi, func_phi, func_sigma  \n",
    "logsigma, logphi"
   ]
  },
  {
   "cell_type": "code",
   "execution_count": 22,
   "metadata": {},
   "outputs": [
    {
     "data": {
      "text/html": [
       "\n",
       "        <script>\n",
       "            function code_toggle_718252084712864264() {\n",
       "                $('div.cell.code_cell.rendered.selected').find('div.input').toggle();\n",
       "            }\n",
       "\n",
       "            \n",
       "        </script>\n",
       "\n",
       "        <a href=\"javascript:code_toggle_718252084712864264()\">Toggle show/hide</a>\n",
       "    "
      ],
      "text/plain": [
       "<IPython.core.display.HTML object>"
      ]
     },
     "execution_count": 22,
     "metadata": {},
     "output_type": "execute_result"
    }
   ],
   "source": [
    "def rawLF(L_p, z, d_L):\n",
    "    z_, L_p_, d_L_ = sort_by_1(z, L_p, d_L)\n",
    "    N = [i for i in range(1, len(z_)+1)] # 1 to N inclusive\n",
    "    return z_, N\n",
    "\n",
    "def rawPhi(L_p, z, d_L):\n",
    "    L_p_, z_, d_L_ = sort_by_1(L_p, z, d_L, reverse=True)\n",
    "    N = [i for i in range(1, len(L_p_)+1)]\n",
    "    return L_p_, N\n",
    "\n",
    "def func_phi(L, Phi_0, L_0, d1, d2, n):\n",
    "    ratio = np.divide(L, L_0)\n",
    "    return Phi_0*np.divide(np.power(ratio, -d1), np.power(1.0+np.power(ratio, n*(d2-d1)), 1.0/n))\n",
    "\n",
    "def func_sigma(Z, d1, d2, Z_c, n):\n",
    "    ratio = np.divide(Z, Z_c)\n",
    "    return np.divide(np.power(Z, d1), np.power(1.0 + np.power(ratio, n*(d1-d2)), 1.0/n))\n",
    "hide_toggle()"
   ]
  },
  {
   "cell_type": "code",
   "execution_count": 23,
   "metadata": {},
   "outputs": [
    {
     "data": {
      "text/html": [
       "\n",
       "        <script>\n",
       "            function code_toggle_11932609088194250085() {\n",
       "                $('div.cell.code_cell.rendered.selected').find('div.input').toggle();\n",
       "            }\n",
       "\n",
       "            \n",
       "        </script>\n",
       "\n",
       "        <a href=\"javascript:code_toggle_11932609088194250085()\">Toggle show/hide</a>\n",
       "    "
      ],
      "text/plain": [
       "<IPython.core.display.HTML object>"
      ]
     },
     "execution_count": 23,
     "metadata": {},
     "output_type": "execute_result"
    }
   ],
   "source": [
    "def logsigma(logZ, d1, d2, Z_c, n):\n",
    "    return np.log10(func_sigma(np.power(10.0, logZ), d1, d2, Z_c, n))\n",
    "\n",
    "def logphi(logL, logP, logL0, d1, d2, n):\n",
    "    #original: logP - d1*(logL-logP) - (1/n)*np.log10(1 + np.power(np.power(10, logL-logL0), n*(d2-d1)))\n",
    "    return logP - d1*(logL-logL0) - (1/n)*np.log10(1 + np.power(np.power(10, logL-logL0), n*(d2-d1)))\n",
    "hide_toggle()"
   ]
  },
  {
   "cell_type": "markdown",
   "metadata": {},
   "source": [
    "# Full Analysis of Parkes + CHIME"
   ]
  },
  {
   "cell_type": "code",
   "execution_count": 24,
   "metadata": {},
   "outputs": [
    {
     "data": {
      "text/html": [
       "\n",
       "        <script>\n",
       "            function code_toggle_4242128320756162081() {\n",
       "                $('div.cell.code_cell.rendered.selected').find('div.input').toggle();\n",
       "            }\n",
       "\n",
       "            \n",
       "        </script>\n",
       "\n",
       "        <a href=\"javascript:code_toggle_4242128320756162081()\">Toggle show/hide</a>\n",
       "    "
      ],
      "text/plain": [
       "<IPython.core.display.HTML object>"
      ]
     },
     "execution_count": 24,
     "metadata": {},
     "output_type": "execute_result"
    }
   ],
   "source": [
    "L_p = np.array(data['L_p'])\n",
    "z = np.array(data['z'])\n",
    "d_L = np.array(data['d_L'])\n",
    "hide_toggle()"
   ]
  },
  {
   "cell_type": "code",
   "execution_count": 180,
   "metadata": {},
   "outputs": [],
   "source": [
    "TELE=PAC\n",
    "Tstr='PAC0' if (TELE is PAC_0) else 'PAC'"
   ]
  },
  {
   "cell_type": "markdown",
   "metadata": {},
   "source": [
    "### kendall tau both methods"
   ]
  },
  {
   "cell_type": "code",
   "execution_count": 181,
   "metadata": {},
   "outputs": [
    {
     "name": "stdout",
     "output_type": "stream",
     "text": [
      "-3.52\n"
     ]
    },
    {
     "data": {
      "text/html": [
       "\n",
       "        <script>\n",
       "            function code_toggle_12306487487438639264() {\n",
       "                $('div.cell.code_cell.rendered.selected').find('div.input').toggle();\n",
       "            }\n",
       "\n",
       "            \n",
       "        </script>\n",
       "\n",
       "        <a href=\"javascript:code_toggle_12306487487438639264()\">Toggle show/hide</a>\n",
       "    "
      ],
      "text/plain": [
       "<IPython.core.display.HTML object>"
      ]
     },
     "execution_count": 181,
     "metadata": {},
     "output_type": "execute_result"
    },
    {
     "data": {
      "image/png": "[encoded data removed]",
      "text/plain": [
       "<Figure size 432x288 with 1 Axes>"
      ]
     },
     "metadata": {
      "needs_background": "light"
     },
     "output_type": "display_data"
    }
   ],
   "source": [
    "fig, ax, k0 = tk_pandas(data, k_min=-10, k_max=10, TELESCOPE=TELE)\n",
    "plt.title(f'[{TELE[1]}] τ(k) for L vs. z')\n",
    "print(k0)\n",
    "plt.savefig(f'../Plots/tau_{Tstr}.png', dpi=300)\n",
    "hide_toggle()"
   ]
  },
  {
   "cell_type": "code",
   "execution_count": 183,
   "metadata": {},
   "outputs": [
    {
     "name": "stdout",
     "output_type": "stream",
     "text": [
      "-2.48\n"
     ]
    },
    {
     "data": {
      "text/html": [
       "\n",
       "        <script>\n",
       "            function code_toggle_9154271510630029306() {\n",
       "                $('div.cell.code_cell.rendered.selected').find('div.input').toggle();\n",
       "            }\n",
       "\n",
       "            \n",
       "        </script>\n",
       "\n",
       "        <a href=\"javascript:code_toggle_9154271510630029306()\">Toggle show/hide</a>\n",
       "    "
      ],
      "text/plain": [
       "<IPython.core.display.HTML object>"
      ]
     },
     "execution_count": 183,
     "metadata": {},
     "output_type": "execute_result"
    },
    {
     "data": {
      "image/png": "[encoded data removed]",
      "text/plain": [
       "<Figure size 432x288 with 1 Axes>"
      ]
     },
     "metadata": {
      "needs_background": "light"
     },
     "output_type": "display_data"
    }
   ],
   "source": [
    "fig, ax, k0 = tk2_pandas(data, k_min=-10, k_max=10, TELESCOPE=TELE)\n",
    "plt.title(f'[{TELE[1]}] τ(k) for L vs. L_lim')\n",
    "print(k0)\n",
    "plt.savefig(f'../Plots/tau2_{Tstr}.png', dpi=300)\n",
    "hide_toggle()"
   ]
  },
  {
   "cell_type": "code",
   "execution_count": 128,
   "metadata": {
    "scrolled": true
   },
   "outputs": [
    {
     "name": "stdout",
     "output_type": "stream",
     "text": [
      "0.69\n",
      "0.95\n",
      "2.0\n",
      "0.69\n",
      "0.95\n",
      "2.0\n",
      "0.69\n",
      "0.95\n",
      "2.0\n",
      "0.69\n",
      "0.95\n",
      "2.0\n"
     ]
    },
    {
     "data": {
      "text/html": [
       "\n",
       "        <script>\n",
       "            function code_toggle_9117729495225051438() {\n",
       "                $('div.cell.code_cell.rendered.selected').find('div.input').toggle();\n",
       "            }\n",
       "\n",
       "            \n",
       "        </script>\n",
       "\n",
       "        <a href=\"javascript:code_toggle_9117729495225051438()\">Toggle show/hide</a>\n",
       "    "
      ],
      "text/plain": [
       "<IPython.core.display.HTML object>"
      ]
     },
     "execution_count": 128,
     "metadata": {},
     "output_type": "execute_result"
    }
   ],
   "source": [
    "sigma3, z_3 = sigma_z(L_p, z, d_L, k=-3, TELESCOPE=TELE)\n",
    "sigma0, z_0 = sigma_z(L_p, z, d_L, k=0, TELESCOPE=TELE)\n",
    "sigma2, z_2 = sigma_z(L_p, z, d_L, k=2, TELESCOPE=TELE)\n",
    "sigma4, z_4 = sigma_z(L_p, z, d_L, k=4, TELESCOPE=TELE)\n",
    "\n",
    "rawL = L_p[TELE[0]]\n",
    "rawz = z[TELE[0]]\n",
    "rawdL = d_L[TELE[0]]\n",
    "\n",
    "arr = [10,22,33] if (TELE is PAC_0) else [14, 16, 18, 20, 32, 44, 55]\n",
    "rawL = np.delete(rawL, arr)\n",
    "rawz = np.delete(rawz, arr)\n",
    "rawdL = np.delete(rawdL, arr)\n",
    "hide_toggle()"
   ]
  },
  {
   "cell_type": "code",
   "execution_count": 129,
   "metadata": {},
   "outputs": [],
   "source": [
    "z_, N = rawLF(rawL, rawz, rawdL)"
   ]
  },
  {
   "cell_type": "code",
   "execution_count": 131,
   "metadata": {},
   "outputs": [
    {
     "data": {
      "image/png": "[encoded data removed]",
      "text/plain": [
       "<Figure size 432x288 with 1 Axes>"
      ]
     },
     "metadata": {
      "needs_background": "light"
     },
     "output_type": "display_data"
    },
    {
     "data": {
      "text/html": [
       "\n",
       "        <script>\n",
       "            function code_toggle_3892157583501633385() {\n",
       "                $('div.cell.code_cell.rendered.selected').find('div.input').toggle();\n",
       "            }\n",
       "\n",
       "            \n",
       "        </script>\n",
       "\n",
       "        <a href=\"javascript:code_toggle_3892157583501633385()\">Toggle show/hide</a>\n",
       "    "
      ],
      "text/plain": [
       "<IPython.core.display.HTML object>"
      ]
     },
     "execution_count": 131,
     "metadata": {},
     "output_type": "execute_result"
    }
   ],
   "source": [
    "fig, ax = plt.subplots()\n",
    "if TELE is PAC:\n",
    "    ax.scatter(np.log10(1+np.array(z_3)), np.log10(sigma3), label='k=-3', marker='2', color = 'magenta')\n",
    "ax.scatter(np.log10(1+np.array(z_0)), np.log10(sigma0), label='k=0')\n",
    "ax.scatter(np.log10(1+np.array(z_2)), np.log10(sigma2), label='k=2', marker='x')\n",
    "ax.scatter(np.log10(1+np.array(z_4)), np.log10(sigma4), label='k=4', marker='v')\n",
    "#plt.xlim([0, 0.6])\n",
    "#plt.ylim([0, 2.6])\n",
    "plt.title(f'log(dot σ(z)) vs. log(1+z)')\n",
    "plt.xlabel('log(1+z)')\n",
    "plt.ylabel('log(dot σ(z))')\n",
    "\n",
    "ax.scatter(np.log10(1+np.array(z_)), np.log10(np.array(N)+1), label='raw N(<z)', color='black')\n",
    "\n",
    "#plt.ylabel('log N(<z)')\n",
    "#plt.xlabel('log (1+z)')\n",
    "#plt.title('log N(<z) vs. log(1+z)')\n",
    "\n",
    "ax.legend()\n",
    "\n",
    "#plt.savefig(f'../Plots/dotsigma_{Tstr}.png', dpi=300)\n",
    "plt.show()\n",
    "hide_toggle()"
   ]
  },
  {
   "cell_type": "code",
   "execution_count": 132,
   "metadata": {},
   "outputs": [
    {
     "name": "stdout",
     "output_type": "stream",
     "text": [
      "2.0\n",
      "0.95\n",
      "0.69\n",
      "2.0\n",
      "0.95\n",
      "0.69\n",
      "2.0\n",
      "0.95\n",
      "0.69\n",
      "2.0\n",
      "0.95\n",
      "0.69\n"
     ]
    }
   ],
   "source": [
    "zrange, L_cutoffs = create_Lcutoffs(TELESCOPE=TELE)\n",
    "phi3, Lprime3 = phi_L(L_p, z, k=-3, L_cutoffs=L_cutoffs, zrange=zrange, TELESCOPE=TELE)\n",
    "phi0, Lprime0 = phi_L(L_p, z, k=0, L_cutoffs=L_cutoffs, zrange=zrange, TELESCOPE=TELE)\n",
    "phi2, Lprime2 = phi_L(L_p, z, k=2, L_cutoffs=L_cutoffs, zrange=zrange, TELESCOPE=TELE)\n",
    "phi4, Lprime4 = phi_L(L_p, z, k=4, L_cutoffs=L_cutoffs, zrange=zrange, TELESCOPE=TELE)"
   ]
  },
  {
   "cell_type": "code",
   "execution_count": 133,
   "metadata": {},
   "outputs": [],
   "source": [
    "L_p_, NPhi = rawPhi(rawL, rawz, rawdL)"
   ]
  },
  {
   "cell_type": "code",
   "execution_count": 135,
   "metadata": {},
   "outputs": [
    {
     "data": {
      "image/png": "[encoded data removed]",
      "text/plain": [
       "<Figure size 432x288 with 1 Axes>"
      ]
     },
     "metadata": {
      "needs_background": "light"
     },
     "output_type": "display_data"
    },
    {
     "data": {
      "text/html": [
       "\n",
       "        <script>\n",
       "            function code_toggle_13252494504148495218() {\n",
       "                $('div.cell.code_cell.rendered.selected').find('div.input').toggle();\n",
       "            }\n",
       "\n",
       "            \n",
       "        </script>\n",
       "\n",
       "        <a href=\"javascript:code_toggle_13252494504148495218()\">Toggle show/hide</a>\n",
       "    "
      ],
      "text/plain": [
       "<IPython.core.display.HTML object>"
      ]
     },
     "execution_count": 135,
     "metadata": {},
     "output_type": "execute_result"
    }
   ],
   "source": [
    "fig, ax = plt.subplots()\n",
    "if TELE is PAC:\n",
    "    ax.scatter(np.log10(Lprime0), np.log10(phi3), label='k=-3', marker='2', color='magenta')\n",
    "ax.scatter(np.log10(Lprime0), np.log10(phi0), label='k=0')\n",
    "ax.scatter(np.log10(Lprime0), np.log10(phi2), label='k=2', marker='x')\n",
    "ax.scatter(np.log10(Lprime0), np.log10(phi4), label='k=4', marker='v')\n",
    "ax.scatter(np.log10(L_p_), np.log10(np.array(NPhi)+1), label='N(>L)', color='black', marker='.')\n",
    "ax.legend()\n",
    "#plt.ylim(0, 2.25)\n",
    "#plt.xlim(32.5, 35.5)\n",
    "plt.xlabel('log(L) in erg/s')\n",
    "plt.ylabel('log Φ(L)')\n",
    "plt.title(f'log Φ(L) vs. log(L)')\n",
    "#plt.savefig(f'../Plots/phi_{Tstr}.png', dpi=300)\n",
    "plt.show()\n",
    "hide_toggle()"
   ]
  },
  {
   "cell_type": "code",
   "execution_count": 136,
   "metadata": {},
   "outputs": [],
   "source": [
    "import scipy.optimize as opt\n",
    "\n",
    "#raw numbers\n",
    "xdata = 1+np.array(z_)\n",
    "ydata = np.array(N)\n",
    "\n",
    "#currently k=-3 for PAC and k=4 for PAC_0\n",
    "xdata2 = 1+np.array(z_4)\n",
    "ydata2 = sigma4\n",
    "if TELE is PAC:\n",
    "    xdata2 = 1+np.array(z_3)\n",
    "    ydata2 = sigma3"
   ]
  },
  {
   "cell_type": "code",
   "execution_count": 169,
   "metadata": {},
   "outputs": [
    {
     "name": "stdout",
     "output_type": "stream",
     "text": [
      "starting fitting\n",
      "done\n"
     ]
    }
   ],
   "source": [
    "guess = [5.8, 0.45, 1.66, 2.0]\n",
    "guess2 = [9, 2, 1.58, 1.8]\n",
    "bounds = [[0, 0, 0, 0], [100, 20, 20, 20]]\n",
    "print('starting fitting')\n",
    "#raw numbers\n",
    "#optrawsig, pcov = opt.curve_fit(func_sigma, (xdata), (ydata+1), guess, bounds=bounds)\n",
    "optrawsig, pcov = opt.curve_fit(logsigma, np.log10(xdata), np.log10(ydata+1), guess, bounds=bounds)\n",
    "#optsig, pcov_ = opt.curve_fit(func_sigma, xdata2, ydata2, guess2, bounds=bounds)\n",
    "optsig, pcov_ = opt.curve_fit(logsigma, np.log10(xdata2), np.log10(ydata2), guess2, bounds=bounds)\n",
    "print('done')"
   ]
  },
  {
   "cell_type": "code",
   "execution_count": 177,
   "metadata": {},
   "outputs": [
    {
     "data": {
      "image/png": "[encoded data removed]",
      "text/plain": [
       "<Figure size 432x288 with 1 Axes>"
      ]
     },
     "metadata": {
      "needs_background": "light"
     },
     "output_type": "display_data"
    }
   ],
   "source": [
    "fig, ax = plt.subplots()\n",
    "\n",
    "ax.scatter(np.log10(xdata2), np.log10(ydata2), label=f'dot σ(z) k={-3 if (TELE is PAC) else 4}')\n",
    "ax.scatter(np.log10(xdata), np.log10(ydata+1), label='raw N(<z)', color='black', marker='.')\n",
    "\n",
    "modelzs = np.linspace(0.01, 2.1, 2000)\n",
    "ax.plot(np.log10(1+modelzs), np.log10(func_sigma(1+modelzs, *optrawsig)), color='black')\n",
    "ax.plot(np.log10(1+modelzs), np.log10(func_sigma(1+modelzs, *optsig)))\n",
    "#plt.ylim([0, 2.5])\n",
    "#plt.xlim([0, 0.5])\n",
    "plt.xlabel('log(1+z)')\n",
    "plt.ylabel('log[dot σ(z)]')\n",
    "plt.title('log[dot σ(z)] vs. log(1+z)')\n",
    "plt.legend()\n",
    "plt.savefig(f'../Plots/dotsigmafit_{Tstr}.png', dpi=300)\n",
    "plt.show()"
   ]
  },
  {
   "cell_type": "code",
   "execution_count": 171,
   "metadata": {},
   "outputs": [
    {
     "name": "stdout",
     "output_type": "stream",
     "text": [
      "[ 9.66321464  4.48281276  1.34283812 19.01545101]\n",
      "[61.04374964  0.91537387  1.04393612  0.18894622]\n"
     ]
    }
   ],
   "source": [
    "print(optsig)\n",
    "print(optrawsig)"
   ]
  },
  {
   "cell_type": "code",
   "execution_count": 172,
   "metadata": {},
   "outputs": [
    {
     "data": {
      "text/html": [
       "\n",
       "        <script>\n",
       "            function code_toggle_15098327297051916578() {\n",
       "                $('div.cell.code_cell.rendered.selected').find('div.input').toggle();\n",
       "            }\n",
       "\n",
       "            \n",
       "        </script>\n",
       "\n",
       "        <a href=\"javascript:code_toggle_15098327297051916578()\">Toggle show/hide</a>\n",
       "    "
      ],
      "text/plain": [
       "<IPython.core.display.HTML object>"
      ]
     },
     "execution_count": 172,
     "metadata": {},
     "output_type": "execute_result"
    }
   ],
   "source": [
    "argsSig0 = optsig\n",
    "rho = rho_z(sigma4, np.array(z_4), argsSig0)\n",
    "if TELE is PAC:\n",
    "    rho = rho_z(sigma3, np.array(z_3), argsSig0)\n",
    "rho = np.array(rho)*2.93799894e67\n",
    "hide_toggle()"
   ]
  },
  {
   "cell_type": "code",
   "execution_count": 173,
   "metadata": {},
   "outputs": [
    {
     "data": {
      "text/html": [
       "\n",
       "        <script>\n",
       "            function code_toggle_13782771060911738349() {\n",
       "                $('div.cell.code_cell.rendered.selected').find('div.input').toggle();\n",
       "            }\n",
       "\n",
       "            \n",
       "        </script>\n",
       "\n",
       "        <a href=\"javascript:code_toggle_13782771060911738349()\">Toggle show/hide</a>\n",
       "    "
      ],
      "text/plain": [
       "<IPython.core.display.HTML object>"
      ]
     },
     "execution_count": 173,
     "metadata": {},
     "output_type": "execute_result"
    }
   ],
   "source": [
    "argsSigRaw = optrawsig\n",
    "z_, N = rawLF(rawL, rawz, rawdL)\n",
    "rawrho = rho_z(np.array(N)+1, np.array(z_), argsSigRaw)\n",
    "rawrho = np.array(rawrho)*2.93799894e67\n",
    "hide_toggle()"
   ]
  },
  {
   "cell_type": "code",
   "execution_count": 174,
   "metadata": {},
   "outputs": [],
   "source": [
    "normrho = np.array(rho)/rho[0]\n",
    "normrawrho= np.array(rawrho)/rawrho[0]\n",
    "\n",
    "def SFR(Z):\n",
    "    return np.power(Z, 2.7)/(1 + np.power(Z/2.9, 5.6))"
   ]
  },
  {
   "cell_type": "code",
   "execution_count": 179,
   "metadata": {},
   "outputs": [
    {
     "data": {
      "text/html": [
       "\n",
       "        <script>\n",
       "            function code_toggle_6654294347589133371() {\n",
       "                $('div.cell.code_cell.rendered.selected').find('div.input').toggle();\n",
       "            }\n",
       "\n",
       "            \n",
       "        </script>\n",
       "\n",
       "        <a href=\"javascript:code_toggle_6654294347589133371()\">Toggle show/hide</a>\n",
       "    "
      ],
      "text/plain": [
       "<IPython.core.display.HTML object>"
      ]
     },
     "execution_count": 179,
     "metadata": {},
     "output_type": "execute_result"
    },
    {
     "data": {
      "image/png": "[encoded data removed]",
      "text/plain": [
       "<Figure size 432x288 with 1 Axes>"
      ]
     },
     "metadata": {
      "needs_background": "light"
     },
     "output_type": "display_data"
    }
   ],
   "source": [
    "fig, ax = plt.subplots()\n",
    "ax.scatter(np.log10(1+np.array(z_0)), np.log10(normrho), label='dot rho')\n",
    "ax.scatter(np.log10(1+np.array(z_)), np.log10(normrawrho), label='raw dot rho')\n",
    "Z = np.linspace(1, 3.1, 50)\n",
    "ax.plot(np.log10(Z), np.log10(0.1*SFR(Z)), color='purple', label = 'SFR')\n",
    "plt.title('log(rho_z) vs. log(1+z)')\n",
    "plt.ylabel('log(rho_z) [arbitrary units]')\n",
    "plt.xlabel('log(1+z)')\n",
    "plt.legend()\n",
    "plt.savefig(f'../Plots/rhoz_{Tstr}.png', dpi=300)\n",
    "hide_toggle()"
   ]
  },
  {
   "cell_type": "code",
   "execution_count": null,
   "metadata": {},
   "outputs": [],
   "source": []
  },
  {
   "cell_type": "code",
   "execution_count": null,
   "metadata": {},
   "outputs": [],
   "source": []
  }
 ],
 "metadata": {
  "kernelspec": {
   "display_name": "Python 3",
   "language": "python",
   "name": "python3"
  },
  "language_info": {
   "codemirror_mode": {
    "name": "ipython",
    "version": 3
   },
   "file_extension": ".py",
   "mimetype": "text/x-python",
   "name": "python",
   "nbconvert_exporter": "python",
   "pygments_lexer": "ipython3",
   "version": "3.8.8"
  }
 },
 "nbformat": 4,
 "nbformat_minor": 2
}
