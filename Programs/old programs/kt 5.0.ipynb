{
 "cells": [
  {
   "cell_type": "markdown",
   "metadata": {},
   "source": [
    "# hide_toggle() setup\n",
    "- if needed, put hide_toggle() at the end of a cell"
   ]
  },
  {
   "cell_type": "code",
   "execution_count": 2,
   "metadata": {},
   "outputs": [
    {
     "data": {
      "text/html": [
       "\n",
       "        <script>\n",
       "            function code_toggle_5557225443829689124() {\n",
       "                $('div.cell.code_cell.rendered.selected').find('div.input').toggle();\n",
       "            }\n",
       "\n",
       "            \n",
       "        </script>\n",
       "\n",
       "        <a href=\"javascript:code_toggle_5557225443829689124()\">Toggle show/hide</a>\n",
       "    "
      ],
      "text/plain": [
       "<IPython.core.display.HTML object>"
      ]
     },
     "execution_count": 2,
     "metadata": {},
     "output_type": "execute_result"
    }
   ],
   "source": [
    "from IPython.display import HTML\n",
    "import random\n",
    "\n",
    "def hide_toggle(for_next=False):\n",
    "    this_cell = \"\"\"$('div.cell.code_cell.rendered.selected')\"\"\"\n",
    "    next_cell = this_cell + '.next()'\n",
    "\n",
    "    toggle_text = 'Toggle show/hide'  # text shown on toggle link\n",
    "    target_cell = this_cell  # target cell to control with toggle\n",
    "    js_hide_current = ''  # bit of JS to permanently hide code in current cell (only when toggling next cell)\n",
    "\n",
    "    if for_next:\n",
    "        target_cell = next_cell\n",
    "        toggle_text += ' next cell'\n",
    "        js_hide_current = this_cell + '.find(\"div.input\").hide();'\n",
    "\n",
    "    js_f_name = 'code_toggle_{}'.format(str(random.randint(1,2**64)))\n",
    "\n",
    "    html = \"\"\"\n",
    "        <script>\n",
    "            function {f_name}() {{\n",
    "                {cell_selector}.find('div.input').toggle();\n",
    "            }}\n",
    "\n",
    "            {js_hide_current}\n",
    "        </script>\n",
    "\n",
    "        <a href=\"javascript:{f_name}()\">{toggle_text}</a>\n",
    "    \"\"\".format(\n",
    "        f_name=js_f_name,\n",
    "        cell_selector=target_cell,\n",
    "        js_hide_current=js_hide_current, \n",
    "        toggle_text=toggle_text\n",
    "    )\n",
    "\n",
    "    return HTML(html)\n",
    "\n",
    "hide_toggle()"
   ]
  },
  {
   "cell_type": "markdown",
   "metadata": {},
   "source": [
    "# Original Setup of Kendall Tau"
   ]
  },
  {
   "cell_type": "markdown",
   "metadata": {},
   "source": [
    "### g_new, L_lim1"
   ]
  },
  {
   "cell_type": "code",
   "execution_count": 3,
   "metadata": {},
   "outputs": [
    {
     "data": {
      "text/html": [
       "\n",
       "        <script>\n",
       "            function code_toggle_3167349232957413531() {\n",
       "                $('div.cell.code_cell.rendered.selected').find('div.input').toggle();\n",
       "            }\n",
       "\n",
       "            \n",
       "        </script>\n",
       "\n",
       "        <a href=\"javascript:code_toggle_3167349232957413531()\">Toggle show/hide</a>\n",
       "    "
      ],
      "text/plain": [
       "<IPython.core.display.HTML object>"
      ]
     },
     "execution_count": 3,
     "metadata": {},
     "output_type": "execute_result"
    }
   ],
   "source": [
    "def g_new(z, k):\n",
    "    Z = z+1\n",
    "    Z_c = 3.5\n",
    "    return Z**k/(1+Z/Z_c)**k\n",
    "\n",
    "def L_lim1(F_lim, z_i, d_Li, g=g_new, k=0):\n",
    "    return (F_lim*1e-26)*4*math.pi*(d_Li*3.08567758e25)**2/g(z_i, k)\n",
    "\n",
    "hide_toggle()"
   ]
  },
  {
   "cell_type": "markdown",
   "metadata": {},
   "source": [
    "### sort_by_first, kendall_tau, importing packages"
   ]
  },
  {
   "cell_type": "code",
   "execution_count": 4,
   "metadata": {},
   "outputs": [
    {
     "data": {
      "text/html": [
       "\n",
       "        <script>\n",
       "            function code_toggle_17485380173614725817() {\n",
       "                $('div.cell.code_cell.rendered.selected').find('div.input').toggle();\n",
       "            }\n",
       "\n",
       "            \n",
       "        </script>\n",
       "\n",
       "        <a href=\"javascript:code_toggle_17485380173614725817()\">Toggle show/hide</a>\n",
       "    "
      ],
      "text/plain": [
       "<IPython.core.display.HTML object>"
      ]
     },
     "execution_count": 4,
     "metadata": {},
     "output_type": "execute_result"
    }
   ],
   "source": [
    "import numpy as np\n",
    "import matplotlib.pyplot as plt\n",
    "import math\n",
    "\n",
    "def sort_by_first(A, B): #SORT USING Z!\n",
    "    list1, list2 = zip(*sorted(zip(A, B)))\n",
    "    return list(list1), list(list2)\n",
    "\n",
    "#original setup of Kendall Tau, using a generic F_lim,z --> L converter\n",
    "\n",
    "def kendall_tau(L, z, F_lim, srted=False, func=L_lim1):\n",
    "    \n",
    "    #if necessary, sort by z while keeping reference to L\n",
    "    if not srted:\n",
    "        z, L = sort_by_first(z, L)\n",
    "        \n",
    "    R = []\n",
    "    E = []\n",
    "    V = []\n",
    "    \n",
    "    for i in range(len(L)):\n",
    "        higher = 0\n",
    "        lower = 0\n",
    "        \n",
    "        if(L[i] < func(F_lim, z[i])): #don't include sources that are not above flux limit\n",
    "            continue\n",
    "        \n",
    "        for j in range(0, i): #since sorted by now, only j < i has z_j < z_i\n",
    "            if(L[j] >= func(F_lim, z[i]) and z[j] <= z[i]): #associated set requirements\n",
    "                if(L[j] > L[i]):\n",
    "                    higher += 1\n",
    "                else:\n",
    "                    lower += 1\n",
    "        \n",
    "        R.append((lower+1)/(higher+lower+1))\n",
    "        E.append(0.5)\n",
    "        V.append(1/12)\n",
    "    \n",
    "    numer = sum(R) - sum(E)\n",
    "    denom = (sum(V))**0.5\n",
    "    return numer/denom\n",
    "\n",
    "hide_toggle()"
   ]
  },
  {
   "cell_type": "markdown",
   "metadata": {},
   "source": [
    "# Importing Data, Deriving Parameters"
   ]
  },
  {
   "cell_type": "code",
   "execution_count": 5,
   "metadata": {},
   "outputs": [
    {
     "name": "stdout",
     "output_type": "stream",
     "text": [
      "Processed 64 lines.\n"
     ]
    },
    {
     "data": {
      "text/html": [
       "\n",
       "        <script>\n",
       "            function code_toggle_6472186961284368317() {\n",
       "                $('div.cell.code_cell.rendered.selected').find('div.input').toggle();\n",
       "            }\n",
       "\n",
       "            \n",
       "        </script>\n",
       "\n",
       "        <a href=\"javascript:code_toggle_6472186961284368317()\">Toggle show/hide</a>\n",
       "    "
      ],
      "text/plain": [
       "<IPython.core.display.HTML object>"
      ]
     },
     "execution_count": 5,
     "metadata": {},
     "output_type": "execute_result"
    }
   ],
   "source": [
    "import csv\n",
    "\n",
    "frb, telescope, snr, f_p, d_L, z = [], [], [], [], [], []\n",
    "\n",
    "with open('frb.csv') as csv_file:\n",
    "    csv_reader = csv.reader(csv_file, delimiter=',')\n",
    "    line_count = 0\n",
    "    for row in csv_reader:\n",
    "        if line_count == 0:\n",
    "            line_count += 1\n",
    "            continue\n",
    "        line_count += 1\n",
    "        if float(row[2]) > 6:\n",
    "            frb.append(row[0])\n",
    "            telescope.append(row[1])\n",
    "            snr.append(float(row[2]))\n",
    "            f_p.append(float(row[3]))\n",
    "            d_L.append(float(row[4]))\n",
    "            z.append(float(row[5]))\n",
    "        '''\n",
    "        else: \n",
    "            frb.append(row[0])\n",
    "            telescope.append(row[1])\n",
    "            snr.append(6)\n",
    "            f_p.append(float(row[3]))\n",
    "            d_L.append(float(row[4]))\n",
    "            z.append(float(row[5]))\n",
    "        '''\n",
    "    print(f'Processed {line_count} lines.')\n",
    "    \n",
    "hide_toggle()"
   ]
  },
  {
   "cell_type": "code",
   "execution_count": 6,
   "metadata": {},
   "outputs": [
    {
     "data": {
      "text/html": [
       "\n",
       "        <script>\n",
       "            function code_toggle_11126338912579861723() {\n",
       "                $('div.cell.code_cell.rendered.selected').find('div.input').toggle();\n",
       "            }\n",
       "\n",
       "            \n",
       "        </script>\n",
       "\n",
       "        <a href=\"javascript:code_toggle_11126338912579861723()\">Toggle show/hide</a>\n",
       "    "
      ],
      "text/plain": [
       "<IPython.core.display.HTML object>"
      ]
     },
     "execution_count": 6,
     "metadata": {},
     "output_type": "execute_result"
    }
   ],
   "source": [
    "#Deriving New Parameters\n",
    "f_lim = []\n",
    "L_p = []\n",
    "L_plim = []\n",
    "\n",
    "for i in range(len(f_p)):\n",
    "    f_lim_i = f_p[i]/(snr[i])\n",
    "    L_p_i = (f_p[i]*1e-26)*4*math.pi*(d_L[i]*3.08567758e25)**2\n",
    "    L_plim_i = (f_lim_i*1e-26)*4*math.pi*(d_L[i]*3.08567758e25)**2\n",
    "    f_lim.append(f_lim_i)\n",
    "    L_p.append(L_p_i)\n",
    "    L_plim.append(L_plim_i)\n",
    "\n",
    "hide_toggle()"
   ]
  },
  {
   "cell_type": "code",
   "execution_count": 7,
   "metadata": {},
   "outputs": [
    {
     "data": {
      "text/html": [
       "\n",
       "        <script>\n",
       "            function code_toggle_7608044060340652562() {\n",
       "                $('div.cell.code_cell.rendered.selected').find('div.input').toggle();\n",
       "            }\n",
       "\n",
       "            \n",
       "        </script>\n",
       "\n",
       "        <a href=\"javascript:code_toggle_7608044060340652562()\">Toggle show/hide</a>\n",
       "    "
      ],
      "text/plain": [
       "<IPython.core.display.HTML object>"
      ]
     },
     "execution_count": 7,
     "metadata": {},
     "output_type": "execute_result"
    }
   ],
   "source": [
    "telescope = [telescope[i].lower() for i in range(len(telescope))] #removing the uppercase Parkes\n",
    "set(telescope)\n",
    "\n",
    "hide_toggle()"
   ]
  },
  {
   "cell_type": "markdown",
   "metadata": {},
   "source": [
    "# Adding CHIME FRBs"
   ]
  },
  {
   "cell_type": "code",
   "execution_count": 8,
   "metadata": {},
   "outputs": [
    {
     "name": "stdout",
     "output_type": "stream",
     "text": [
      "Processed 8 lines.\n"
     ]
    },
    {
     "data": {
      "text/html": [
       "\n",
       "        <script>\n",
       "            function code_toggle_3306127584110113150() {\n",
       "                $('div.cell.code_cell.rendered.selected').find('div.input').toggle();\n",
       "            }\n",
       "\n",
       "            \n",
       "        </script>\n",
       "\n",
       "        <a href=\"javascript:code_toggle_3306127584110113150()\">Toggle show/hide</a>\n",
       "    "
      ],
      "text/plain": [
       "<IPython.core.display.HTML object>"
      ]
     },
     "execution_count": 8,
     "metadata": {},
     "output_type": "execute_result"
    }
   ],
   "source": [
    "import csv\n",
    "\n",
    "frbC, telescopeC, snrC, f_pC, d_LC, zC = [], [], [], [], [], []\n",
    "\n",
    "with open('frb.csv') as csv_file:\n",
    "    csv_reader = csv.reader(csv_file, delimiter=',')\n",
    "    line_count = 0\n",
    "    chime_lines = 0\n",
    "    for row in csv_reader:\n",
    "        if line_count == 0:\n",
    "            line_count += 1\n",
    "            continue\n",
    "        line_count += 1\n",
    "        if row[1] == 'CHIME/FRB':\n",
    "            chime_lines += 1\n",
    "            frbC.append(row[0])\n",
    "            telescopeC.append(row[1])\n",
    "            snrC.append(float(row[2]))\n",
    "            f_pC.append(float(row[3]))\n",
    "            d_LC.append(float(row[4]))\n",
    "            zC.append(float(row[5]))\n",
    "            \n",
    "    print(f'Processed {chime_lines} lines.')\n",
    "\n",
    "hide_toggle()"
   ]
  },
  {
   "cell_type": "code",
   "execution_count": 9,
   "metadata": {},
   "outputs": [
    {
     "data": {
      "text/html": [
       "\n",
       "        <script>\n",
       "            function code_toggle_16626492456322330091() {\n",
       "                $('div.cell.code_cell.rendered.selected').find('div.input').toggle();\n",
       "            }\n",
       "\n",
       "            \n",
       "        </script>\n",
       "\n",
       "        <a href=\"javascript:code_toggle_16626492456322330091()\">Toggle show/hide</a>\n",
       "    "
      ],
      "text/plain": [
       "<IPython.core.display.HTML object>"
      ]
     },
     "execution_count": 9,
     "metadata": {},
     "output_type": "execute_result"
    }
   ],
   "source": [
    "SETSNR = 6\n",
    "\n",
    "#Deriving New Parameters\n",
    "f_limC = []\n",
    "L_pC = []\n",
    "L_plimC = []\n",
    "\n",
    "for i in range(len(f_pC)):\n",
    "    f_lim_i = f_pC[i]/(SETSNR)\n",
    "    L_p_i = (f_pC[i]*1e-26)*4*math.pi*(d_LC[i]*3.08567758e25)**2\n",
    "    L_plim_i = (f_lim_i*1e-26)*4*math.pi*(d_LC[i]*3.08567758e25)**2\n",
    "    f_limC.append(f_lim_i)\n",
    "    L_pC.append(L_p_i)\n",
    "    L_plimC.append(L_plim_i)\n",
    "\n",
    "hide_toggle()"
   ]
  },
  {
   "cell_type": "code",
   "execution_count": 10,
   "metadata": {},
   "outputs": [
    {
     "data": {
      "text/html": [
       "\n",
       "        <script>\n",
       "            function code_toggle_16743192279716141282() {\n",
       "                $('div.cell.code_cell.rendered.selected').find('div.input').toggle();\n",
       "            }\n",
       "\n",
       "            \n",
       "        </script>\n",
       "\n",
       "        <a href=\"javascript:code_toggle_16743192279716141282()\">Toggle show/hide</a>\n",
       "    "
      ],
      "text/plain": [
       "<IPython.core.display.HTML object>"
      ]
     },
     "execution_count": 10,
     "metadata": {},
     "output_type": "execute_result"
    }
   ],
   "source": [
    "for i in range(len(f_pC)):\n",
    "    f_p.append(f_pC[i])\n",
    "    z.append(zC[i])\n",
    "    L_p.append(L_pC[i])\n",
    "    L_plim.append(L_plimC[i])\n",
    "    d_L.append(d_LC[i])\n",
    "    snr.append(SETSNR)\n",
    "\n",
    "hide_toggle()"
   ]
  },
  {
   "cell_type": "markdown",
   "metadata": {},
   "source": [
    "# Kendall Tau for each telescope"
   ]
  },
  {
   "cell_type": "markdown",
   "metadata": {},
   "source": [
    "### kt_newform"
   ]
  },
  {
   "cell_type": "code",
   "execution_count": 11,
   "metadata": {},
   "outputs": [
    {
     "data": {
      "text/html": [
       "\n",
       "        <script>\n",
       "            function code_toggle_11845081220453033644() {\n",
       "                $('div.cell.code_cell.rendered.selected').find('div.input').toggle();\n",
       "            }\n",
       "\n",
       "            \n",
       "        </script>\n",
       "\n",
       "        <a href=\"javascript:code_toggle_11845081220453033644()\">Toggle show/hide</a>\n",
       "    "
      ],
      "text/plain": [
       "<IPython.core.display.HTML object>"
      ]
     },
     "execution_count": 11,
     "metadata": {},
     "output_type": "execute_result"
    }
   ],
   "source": [
    "def kt_newform(L, z, F_lim, d_L, g=g_new, k=0, func=L_lim1):\n",
    "    \n",
    "    #if necessary, sort by z while keeping reference to L\n",
    "    z, L = sort_by_first(z, L)\n",
    "        \n",
    "    R = []\n",
    "    E = []\n",
    "    V = []\n",
    "    \n",
    "    for i in range(len(L)):\n",
    "        higher = 0\n",
    "        lower = 0\n",
    "        \n",
    "        #not considering data points under the cutoff\n",
    "        if(L[i] < func(F_lim, z[i], d_L[i], g=g, k=k)):\n",
    "            continue\n",
    "        \n",
    "        for j in range(0, i): #since sorted by now, only j < i has z_j < z_i\n",
    "            if(L[j] >= func(F_lim, z[i], d_L[i], g=g, k=k) and z[j] <= z[i]): #associated set requirements\n",
    "                \n",
    "                if(L[j] > L[i]):\n",
    "                    higher += 1\n",
    "                else:\n",
    "                    lower += 1\n",
    "        \n",
    "        R.append((lower+1)/(higher+lower+1))\n",
    "        E.append(0.5)\n",
    "        V.append(1/12)\n",
    "    \n",
    "    numer = sum(R) - sum(E)\n",
    "    denom = (sum(V))**0.5\n",
    "    return numer/denom\n",
    "\n",
    "hide_toggle()"
   ]
  },
  {
   "cell_type": "markdown",
   "metadata": {},
   "source": [
    "### new_L, tau_k, tkgraph"
   ]
  },
  {
   "cell_type": "code",
   "execution_count": 12,
   "metadata": {},
   "outputs": [
    {
     "data": {
      "text/html": [
       "\n",
       "        <script>\n",
       "            function code_toggle_6121835079553628406() {\n",
       "                $('div.cell.code_cell.rendered.selected').find('div.input').toggle();\n",
       "            }\n",
       "\n",
       "            \n",
       "        </script>\n",
       "\n",
       "        <a href=\"javascript:code_toggle_6121835079553628406()\">Toggle show/hide</a>\n",
       "    "
      ],
      "text/plain": [
       "<IPython.core.display.HTML object>"
      ]
     },
     "execution_count": 12,
     "metadata": {},
     "output_type": "execute_result"
    }
   ],
   "source": [
    "def new_L(L, z, k=0, g=g_new):\n",
    "    return [L[i]/g(z[i], k) for i in range(len(L))]\n",
    "\n",
    "def tau_k(L_p, z, k, F_lim, d_L, func=L_lim1, g=g_new):\n",
    "    L_new = new_L(L_p, z, k=k, g=g)\n",
    "    return kt_newform(L_new, z, F_lim, d_L, func=func)\n",
    "\n",
    "def tkgraph(L_p, z, F_lim, d_L, func=L_lim1, g=g_new, k_min=-1, k_max=7, dk=0.01):\n",
    "    #the current k value\n",
    "    k = k_min\n",
    "\n",
    "    #list of k, tau\n",
    "    list_k = []\n",
    "    list_t = []\n",
    "\n",
    "    k1 = k_min #k closest to tau = 1\n",
    "    kn1 = k_min #k closest to tau = -1\n",
    "    k0 = k_min #k closest to t=0\n",
    "\n",
    "    dif1 = 1e300 #smallest distance so far to tau = 1\n",
    "    difn1 = 1e300 #smallest distance so far to tau = -1\n",
    "    dif0 = 1e300\n",
    "\n",
    "    while(k <= k_max):\n",
    "        list_k.append(k)\n",
    "        t_k = tau_k(L_p, z, k, F_lim, d_L, func=func, g=g)\n",
    "        list_t.append(t_k)\n",
    "\n",
    "        if(abs(t_k-1) < dif1):\n",
    "            dif1 = abs(t_k-1)\n",
    "            k1 = k\n",
    "        if(abs(t_k+1) < difn1):\n",
    "            difn1 = abs(t_k+1)\n",
    "            kn1 = k\n",
    "        if(abs(t_k) < dif0):\n",
    "            dif0 = abs(t_k)\n",
    "            k0 = k\n",
    "\n",
    "        k += dk\n",
    "    \n",
    "    return list_k, list_t, k1, kn1, k0\n",
    "\n",
    "hide_toggle()"
   ]
  },
  {
   "cell_type": "markdown",
   "metadata": {},
   "source": [
    "### actually determining the tau vs. k graph for each telescope"
   ]
  },
  {
   "cell_type": "code",
   "execution_count": 17,
   "metadata": {},
   "outputs": [
    {
     "data": {
      "text/html": [
       "\n",
       "        <script>\n",
       "            function code_toggle_18187883963861997723() {\n",
       "                $('div.cell.code_cell.rendered.selected').find('div.input').toggle();\n",
       "            }\n",
       "\n",
       "            \n",
       "        </script>\n",
       "\n",
       "        <a href=\"javascript:code_toggle_18187883963861997723()\">Toggle show/hide</a>\n",
       "    "
      ],
      "text/plain": [
       "<IPython.core.display.HTML object>"
      ]
     },
     "execution_count": 17,
     "metadata": {},
     "output_type": "execute_result"
    }
   ],
   "source": [
    "tel = slice(27, 54) #ASKAP: (0, 27)  Parkes: (27, 54)  CHIME: (54, 62)\n",
    "F_LIM = 0.15       #ASKAP: 7.7      Parkes: 0.15      CHIME: 0.30\n",
    "telname = 'Parkes'\n",
    "\n",
    "#set k values\n",
    "k_min = -50\n",
    "k_max = 50\n",
    "dk = 0.01\n",
    "\n",
    "list_k, list_t, k1, kn1, k0 = tkgraph(L_p[tel], z[tel], F_lim=F_LIM, d_L=d_L[tel], g=g_new, k_min=k_min, \n",
    "                                     k_max=k_max, dk=dk)\n",
    "\n",
    "hide_toggle()"
   ]
  },
  {
   "cell_type": "markdown",
   "metadata": {},
   "source": [
    "### graph of tau vs. k"
   ]
  },
  {
   "cell_type": "code",
   "execution_count": 18,
   "metadata": {},
   "outputs": [
    {
     "data": {
      "text/html": [
       "\n",
       "        <script>\n",
       "            function code_toggle_5089105214523189264() {\n",
       "                $('div.cell.code_cell.rendered.selected').find('div.input').toggle();\n",
       "            }\n",
       "\n",
       "            \n",
       "        </script>\n",
       "\n",
       "        <a href=\"javascript:code_toggle_5089105214523189264()\">Toggle show/hide</a>\n",
       "    "
      ],
      "text/plain": [
       "<IPython.core.display.HTML object>"
      ]
     },
     "execution_count": 18,
     "metadata": {},
     "output_type": "execute_result"
    },
    {
     "data": {
      "image/png": "[encoded data removed]",
      "text/plain": [
       "<Figure size 432x288 with 1 Axes>"
      ]
     },
     "metadata": {
      "needs_background": "light"
     },
     "output_type": "display_data"
    }
   ],
   "source": [
    "k1, kn1, k0 = round(k1, 2), round(kn1, 2), round(k0, 2)\n",
    "\n",
    "YMAX, YMIN = max(list_t), min(list_t)\n",
    "XMAX, XMIN = k_max, k_min\n",
    "MAR = 0 #margin\n",
    "XMAR = MAR/10 * (abs(XMAX)+abs(XMIN)) #scaling the xmargin\n",
    "YMAR = MAR/10 * (abs(YMAX)+abs(YMIN)) #scaling the ymargin\n",
    "\n",
    "PLOT_LINES = True\n",
    "\n",
    "fig, ax = plt.subplots()  # Create a figure and an axes.\n",
    "ax.plot(list_k, list_t, label='τ(k)')\n",
    "ax.plot(list_k, [0 for i in range(len(list_k))], label='τ=0')\n",
    "\n",
    "if PLOT_LINES:\n",
    "    ax.plot([k1 for i in range(11)], [YMIN+(1-YMIN)*i/10 for i in range(11)], color='black', linestyle='--', label='k = ' + str(kn1))\n",
    "    ax.plot([kn1 for i in range(11)], [YMIN+(-1-YMIN)*i/10 for i in range(11)], color='black', linestyle='--', label='k = ' + str(k1))\n",
    "    ax.plot([XMIN + (k1-XMIN)*i/10 for i in range(11)],[1 for i in range(11)], color='black', linestyle='--')\n",
    "    ax.plot([XMIN + (kn1-XMIN)*i/10 for i in range(11)],[-1 for i in range(11)], color='black', linestyle='--')\n",
    "\n",
    "ax.set_ylim([YMIN-YMAR, YMAX+YMAR])\n",
    "ax.set_xlim([XMIN-XMAR, XMAX+XMAR])\n",
    "ax.set_xlabel('k')  # Add an x-label to the axes.\n",
    "ax.set_ylabel('τ')  # Add a y-label to the axes.\n",
    "ax.plot()\n",
    "\n",
    "ax.set_title(\"[\" + telname + \"] Relation between τ and k\")  # Add a title to the axes.\n",
    "ax.legend()  # Add a legend.\n",
    "\n",
    "hide_toggle()"
   ]
  },
  {
   "cell_type": "markdown",
   "metadata": {},
   "source": [
    "### graph of L' vs. z"
   ]
  },
  {
   "cell_type": "code",
   "execution_count": 16,
   "metadata": {},
   "outputs": [
    {
     "data": {
      "text/html": [
       "\n",
       "        <script>\n",
       "            function code_toggle_9336859804081073713() {\n",
       "                $('div.cell.code_cell.rendered.selected').find('div.input').toggle();\n",
       "            }\n",
       "\n",
       "            \n",
       "        </script>\n",
       "\n",
       "        <a href=\"javascript:code_toggle_9336859804081073713()\">Toggle show/hide</a>\n",
       "    "
      ],
      "text/plain": [
       "<IPython.core.display.HTML object>"
      ]
     },
     "execution_count": 16,
     "metadata": {},
     "output_type": "execute_result"
    },
    {
     "data": {
      "image/png": "[encoded data removed]",
      "text/plain": [
       "<Figure size 432x288 with 1 Axes>"
      ]
     },
     "metadata": {
      "needs_background": "light"
     },
     "output_type": "display_data"
    }
   ],
   "source": [
    "K = 2.91\n",
    "\n",
    "L_cutoffs = []\n",
    "for i in range(len(z)):\n",
    "    L_cutoffs.append(L_lim1(F_LIM, z[i], d_L[i], g=g_new, k=K))\n",
    "\n",
    "z_throwaway, L_cutoffs = sort_by_first(z, L_cutoffs)\n",
    "\n",
    "fig, ax = plt.subplots()\n",
    "plt.yscale('log')\n",
    "ax.scatter(z[tel], new_L(L_p[tel], z[tel], k=K, g=g_new), label=telname)\n",
    "ax.plot(z_throwaway, L_cutoffs, label='F_cutoff ='+str(F_LIM) + ' Jy / g(z, k=' + str(K) + \")\")\n",
    "ax.set_ylim([1e24, 1e30])\n",
    "ax.set_xlim([-0.05, 2.25])\n",
    "ax.set_xlabel('z')\n",
    "ax.set_ylabel('L_peak')\n",
    "ax.set_title('['+ telname+ '] L\\' vs. z (k = ' + str(K) + ')')\n",
    "ax.legend()\n",
    "\n",
    "hide_toggle()"
   ]
  },
  {
   "cell_type": "markdown",
   "metadata": {},
   "source": [
    "# doing some line fitting"
   ]
  },
  {
   "cell_type": "markdown",
   "metadata": {},
   "source": [
    "### logz, logL, np.polyfit"
   ]
  },
  {
   "cell_type": "code",
   "execution_count": 17,
   "metadata": {},
   "outputs": [
    {
     "name": "stdout",
     "output_type": "stream",
     "text": [
      "8.153290318266096 26.926884643288847\n",
      "3.165259005102575 26.487312703186664\n",
      "7.870002668162934 25.19002177384451\n"
     ]
    },
    {
     "data": {
      "text/html": [
       "\n",
       "        <script>\n",
       "            function code_toggle_15858707848186357724() {\n",
       "                $('div.cell.code_cell.rendered.selected').find('div.input').toggle();\n",
       "            }\n",
       "\n",
       "            \n",
       "        </script>\n",
       "\n",
       "        <a href=\"javascript:code_toggle_15858707848186357724()\">Toggle show/hide</a>\n",
       "    "
      ],
      "text/plain": [
       "<IPython.core.display.HTML object>"
      ]
     },
     "execution_count": 17,
     "metadata": {},
     "output_type": "execute_result"
    }
   ],
   "source": [
    "logz = np.log10(1+np.array(z))\n",
    "logL = np.log10(L_p)\n",
    "\n",
    "mA, bA = np.polyfit(logz[:27], logL[:27], 1)\n",
    "print(mA, bA)\n",
    "mP, bP = np.polyfit(logz[27:54], logL[27:54], 1)\n",
    "print(mP, bP)\n",
    "mC, bC = np.polyfit(logz[54:], logL[54:], 1)\n",
    "print(mC, bC)\n",
    "\n",
    "hide_toggle()"
   ]
  },
  {
   "cell_type": "markdown",
   "metadata": {},
   "source": [
    "### best fit lines graphed"
   ]
  },
  {
   "cell_type": "code",
   "execution_count": 18,
   "metadata": {},
   "outputs": [
    {
     "data": {
      "text/html": [
       "\n",
       "        <script>\n",
       "            function code_toggle_13173092732455891039() {\n",
       "                $('div.cell.code_cell.rendered.selected').find('div.input').toggle();\n",
       "            }\n",
       "\n",
       "            \n",
       "        </script>\n",
       "\n",
       "        <a href=\"javascript:code_toggle_13173092732455891039()\">Toggle show/hide</a>\n",
       "    "
      ],
      "text/plain": [
       "<IPython.core.display.HTML object>"
      ]
     },
     "execution_count": 18,
     "metadata": {},
     "output_type": "execute_result"
    },
    {
     "data": {
      "image/png": "[encoded data removed]",
      "text/plain": [
       "<Figure size 432x288 with 1 Axes>"
      ]
     },
     "metadata": {
      "needs_background": "light"
     },
     "output_type": "display_data"
    }
   ],
   "source": [
    "fig, ax = plt.subplots()\n",
    "ax.scatter(logz[:27], logL[:27], label='ASKAP')\n",
    "ax.plot(sorted(logz), mA*np.array(sorted(logz))+bA, label='best fit ASKAP')\n",
    "ax.scatter(logz[27:54], logL[27:54], label='Parkes')\n",
    "ax.plot(sorted(logz), mP*np.array(sorted(logz))+bP, label='best fit Parkes')\n",
    "ax.scatter(logz[54:], logL[54:], label='CHIME')\n",
    "ax.plot(sorted(logz), mC*np.array(sorted(logz))+bC, label='best fit CHIME')\n",
    "ax.set_ylim([24, 30])\n",
    "ax.set_xlabel('log(1+z)')\n",
    "ax.set_ylabel('log(L_p)')\n",
    "ax.set_title('log(L_p) vs. log(1+z)')\n",
    "ax.legend()\n",
    "\n",
    "hide_toggle()"
   ]
  },
  {
   "cell_type": "markdown",
   "metadata": {},
   "source": [
    "# Calculating new L_lim, combining into one"
   ]
  },
  {
   "cell_type": "code",
   "execution_count": 19,
   "metadata": {},
   "outputs": [
    {
     "data": {
      "text/html": [
       "\n",
       "        <script>\n",
       "            function code_toggle_17692740239507970418() {\n",
       "                $('div.cell.code_cell.rendered.selected').find('div.input').toggle();\n",
       "            }\n",
       "\n",
       "            \n",
       "        </script>\n",
       "\n",
       "        <a href=\"javascript:code_toggle_17692740239507970418()\">Toggle show/hide</a>\n",
       "    "
      ],
      "text/plain": [
       "<IPython.core.display.HTML object>"
      ]
     },
     "execution_count": 19,
     "metadata": {},
     "output_type": "execute_result"
    }
   ],
   "source": [
    "L_lim = []\n",
    "f_lim = [14.8, 0.15, 0.30]\n",
    "for i in range(len(f_p)):\n",
    "    if(i < 27): #ASKAP\n",
    "        L_lim.append(L_p[i] * f_lim[0]/f_p[i])\n",
    "    elif(i >= 27 and i < 54): #Parkes\n",
    "        L_lim.append(L_p[i] * f_lim[1]/f_p[i])\n",
    "    elif(i >= 54): #CHIME\n",
    "        L_lim.append(L_p[i] * f_lim[2]/f_p[i])\n",
    "\n",
    "hide_toggle()"
   ]
  },
  {
   "cell_type": "code",
   "execution_count": 41,
   "metadata": {},
   "outputs": [
    {
     "data": {
      "image/png": "[encoded data removed]",
      "text/plain": [
       "<Figure size 432x288 with 1 Axes>"
      ]
     },
     "metadata": {
      "needs_background": "light"
     },
     "output_type": "display_data"
    },
    {
     "data": {
      "text/html": [
       "\n",
       "        <script>\n",
       "            function code_toggle_9587746235024495099() {\n",
       "                $('div.cell.code_cell.rendered.selected').find('div.input').toggle();\n",
       "            }\n",
       "\n",
       "            \n",
       "        </script>\n",
       "\n",
       "        <a href=\"javascript:code_toggle_9587746235024495099()\">Toggle show/hide</a>\n",
       "    "
      ],
      "text/plain": [
       "<IPython.core.display.HTML object>"
      ]
     },
     "execution_count": 41,
     "metadata": {},
     "output_type": "execute_result"
    }
   ],
   "source": [
    "fig, ax = plt.subplots()\n",
    "kval = 15\n",
    "ax.set_yscale('log')\n",
    "ax.set_xscale('log')\n",
    "ax.scatter(L_lim[27:54], L_p[27:54], label='parkes')\n",
    "ax.scatter(new_L(L_lim[27:54], z[27:54], k=kval, g=g_new),\n",
    "          new_L(L_p[27:54], z[27:54], k=kval, g=g_new), label = 'transformed')\n",
    "ax.plot([1e20, 1e32], [1e20, 1e32], label='L_p = L_{p,lim}', color='black')\n",
    "ax.set_xlim([1e24, 1e30])\n",
    "ax.set_ylim([1e24, 1e30])\n",
    "ax.set_xlabel('L_{p, lim}')\n",
    "ax.set_ylabel('L_p')\n",
    "ax.set_title('L_p vs. L_{p,lim}')\n",
    "ax.legend()\n",
    "plt.show()\n",
    "hide_toggle()"
   ]
  },
  {
   "cell_type": "code",
   "execution_count": 56,
   "metadata": {},
   "outputs": [],
   "source": [
    "def L_lim2(F_lim, L_plimi):\n",
    "    return L_plimi\n",
    "\n",
    "def tau_k2(L_p, L_plim, k, func=L_lim2, g=g_new):\n",
    "    L_new = new_L(L_p, z, k=k, g=g)\n",
    "    L_pnew = new_L(L_plim, z, k=k, g=g)\n",
    "    return kendall_tau(L_new, L_pnew, 0.15, func=func) #note 0.15 won't be used, won't matter"
   ]
  },
  {
   "cell_type": "code",
   "execution_count": 57,
   "metadata": {},
   "outputs": [],
   "source": [
    "#plot tau for multiple values of k\n",
    "k_min = -20\n",
    "k_max = 20\n",
    "dk = 0.01\n",
    "\n",
    "#the current k value\n",
    "k = k_min\n",
    "\n",
    "#list of k, tau\n",
    "list_k = []\n",
    "list_t = []\n",
    "\n",
    "k1 = k_min #k closest to tau = 1\n",
    "kn1 = k_min #k closest to tau = -1\n",
    "k0 = k_min #k closest to t=0\n",
    "\n",
    "dif1 = 1e300 #smallest distance so far to tau = 1\n",
    "difn1 = 1e300 #smallest distance so far to tau = -1\n",
    "dif0 = 1e300\n",
    "\n",
    "while(k <= k_max):\n",
    "    list_k.append(k)\n",
    "    t_k = tau_k2(L_p, L_lim, k, g=g_new)\n",
    "    list_t.append(t_k)\n",
    "    \n",
    "    if(abs(t_k-1) < dif1):\n",
    "        dif1 = abs(t_k-1)\n",
    "        k1 = k\n",
    "    if(abs(t_k+1) < difn1):\n",
    "        difn1 = abs(t_k+1)\n",
    "        kn1 = k\n",
    "    if(abs(t_k) < dif0):\n",
    "        dif0 = abs(t_k)\n",
    "        k0 = k\n",
    "    \n",
    "    k += dk"
   ]
  },
  {
   "cell_type": "code",
   "execution_count": 66,
   "metadata": {},
   "outputs": [
    {
     "data": {
      "text/plain": [
       "<matplotlib.legend.Legend at 0x11db33210>"
      ]
     },
     "execution_count": 66,
     "metadata": {},
     "output_type": "execute_result"
    },
    {
     "data": {
      "image/png": "[encoded data removed]",
      "text/plain": [
       "<Figure size 432x288 with 1 Axes>"
      ]
     },
     "metadata": {
      "needs_background": "light"
     },
     "output_type": "display_data"
    }
   ],
   "source": [
    "YMAX, YMIN = max(list_t), min(list_t)\n",
    "XMAX, XMIN = k_max, k_min\n",
    "MAR = 0 #margin\n",
    "\n",
    "fig, ax = plt.subplots()  # Create a figure and an axes.\n",
    "ax.plot(list_k, list_t, label='τ(k)')\n",
    "ax.plot(list_k, [0 for i in range(len(list_k))], label='τ=0')\n",
    "#ax.plot([k1 for i in range(11)], [YMIN+(1-YMIN)*i/10 for i in range(11)], color='black', linestyle='--', label='k = 1.25')\n",
    "#ax.plot([kn1 for i in range(11)], [YMIN+(-1-YMIN)*i/10 for i in range(11)], color='black', linestyle='--', label='k = 4.75')\n",
    "#ax.plot([XMIN + (k1-XMIN)*i/10 for i in range(11)],[1 for i in range(11)], color='black', linestyle='--')\n",
    "#ax.plot([XMIN + (kn1-XMIN)*i/10 for i in range(11)],[-1 for i in range(11)], color='black', linestyle='--')\n",
    "#ax.set_ylim([YMIN-MAR, YMAX+MAR])\n",
    "#ax.set_xlim([XMIN-MAR, XMAX+MAR])\n",
    "ax.set_xlabel('k')  # Add an x-label to the axes.\n",
    "ax.set_ylabel('τ')  # Add a y-label to the axes.\n",
    "ax.plot()\n",
    "\n",
    "ax.set_title(\"τ(k) for L_p\\' vs. L_{p,lim}\\'\")  # Add a title to the axes.\n",
    "ax.legend()  # Add a legend."
   ]
  },
  {
   "cell_type": "code",
   "execution_count": 67,
   "metadata": {},
   "outputs": [
    {
     "data": {
      "image/png": "[encoded data removed]",
      "text/plain": [
       "<Figure size 432x288 with 1 Axes>"
      ]
     },
     "metadata": {
      "needs_background": "light"
     },
     "output_type": "display_data"
    }
   ],
   "source": [
    "L_p_ = new_L(L_p, z, k=k0, g=g_new)\n",
    "L_lim_ = new_L(L_lim, z, k=k0, g=g_new)\n",
    "\n",
    "\n",
    "fig, ax = plt.subplots()\n",
    "ax.set_yscale('log')\n",
    "ax.set_xscale('log')\n",
    "ax.scatter(L_lim_[:27], L_p_[:27], label='ASKAP')\n",
    "ax.scatter(L_lim_[27:54], L_p_[27:54], label='parkes')\n",
    "ax.scatter(L_lim_[54:], L_p_[54:], label='CHIME')\n",
    "ax.plot([1e20, 1e32], [1e20, 1e32], label='L_p = L_{p,lim}', color='black')\n",
    "ax.set_xlim([1e24, 1e30])\n",
    "ax.set_ylim([1e24, 1e30])\n",
    "ax.set_xlabel('L_{p, lim}')\n",
    "ax.set_ylabel('L_p')\n",
    "ax.set_title('k= 7.61')\n",
    "ax.legend()\n",
    "plt.show()"
   ]
  },
  {
   "cell_type": "code",
   "execution_count": 45,
   "metadata": {},
   "outputs": [
    {
     "data": {
      "text/plain": [
       "7.610000000000209"
      ]
     },
     "execution_count": 45,
     "metadata": {},
     "output_type": "execute_result"
    }
   ],
   "source": [
    "k0"
   ]
  },
  {
   "cell_type": "code",
   "execution_count": null,
   "metadata": {},
   "outputs": [],
   "source": []
  }
 ],
 "metadata": {
  "kernelspec": {
   "display_name": "Python 3",
   "language": "python",
   "name": "python3"
  },
  "language_info": {
   "codemirror_mode": {
    "name": "ipython",
    "version": 3
   },
   "file_extension": ".py",
   "mimetype": "text/x-python",
   "name": "python",
   "nbconvert_exporter": "python",
   "pygments_lexer": "ipython3",
   "version": "3.7.3"
  }
 },
 "nbformat": 4,
 "nbformat_minor": 4
}
