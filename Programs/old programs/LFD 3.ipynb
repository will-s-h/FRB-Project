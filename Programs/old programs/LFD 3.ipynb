{
 "cells": [
  {
   "cell_type": "markdown",
   "metadata": {},
   "source": [
    "### Goals of this new version\n",
    "- change units"
   ]
  },
  {
   "cell_type": "markdown",
   "metadata": {},
   "source": [
    "## hide_toggle() setup"
   ]
  },
  {
   "cell_type": "code",
   "execution_count": 1,
   "metadata": {},
   "outputs": [
    {
     "data": {
      "text/html": [
       "\n",
       "        <script>\n",
       "            function code_toggle_11927070556042657496() {\n",
       "                $('div.cell.code_cell.rendered.selected').find('div.input').toggle();\n",
       "            }\n",
       "\n",
       "            \n",
       "        </script>\n",
       "\n",
       "        <a href=\"javascript:code_toggle_11927070556042657496()\">Toggle show/hide</a>\n",
       "    "
      ],
      "text/plain": [
       "<IPython.core.display.HTML object>"
      ]
     },
     "execution_count": 1,
     "metadata": {},
     "output_type": "execute_result"
    }
   ],
   "source": [
    "#Note that I don't actually know how this function works,\n",
    "#but it doesn't really matter because I'm not looking to\n",
    "#edit this function any time soon. It serves its purpose.\n",
    "\n",
    "from IPython.display import HTML\n",
    "import random\n",
    "\n",
    "def hide_toggle(for_next=False):\n",
    "    this_cell = \"\"\"$('div.cell.code_cell.rendered.selected')\"\"\"\n",
    "    next_cell = this_cell + '.next()'\n",
    "\n",
    "    toggle_text = 'Toggle show/hide'  # text shown on toggle link\n",
    "    target_cell = this_cell  # target cell to control with toggle\n",
    "    js_hide_current = ''  # bit of JS to permanently hide code in current cell (only when toggling next cell)\n",
    "\n",
    "    if for_next:\n",
    "        target_cell = next_cell\n",
    "        toggle_text += ' next cell'\n",
    "        js_hide_current = this_cell + '.find(\"div.input\").hide();'\n",
    "\n",
    "    js_f_name = 'code_toggle_{}'.format(str(random.randint(1,2**64)))\n",
    "\n",
    "    html = \"\"\"\n",
    "        <script>\n",
    "            function {f_name}() {{\n",
    "                {cell_selector}.find('div.input').toggle();\n",
    "            }}\n",
    "\n",
    "            {js_hide_current}\n",
    "        </script>\n",
    "\n",
    "        <a href=\"javascript:{f_name}()\">{toggle_text}</a>\n",
    "    \"\"\".format(\n",
    "        f_name=js_f_name,\n",
    "        cell_selector=target_cell,\n",
    "        js_hide_current=js_hide_current, \n",
    "        toggle_text=toggle_text\n",
    "    )\n",
    "\n",
    "    return HTML(html)\n",
    "\n",
    "hide_toggle()"
   ]
  },
  {
   "cell_type": "markdown",
   "metadata": {},
   "source": [
    "# Original Kendall Tau Setup"
   ]
  },
  {
   "cell_type": "markdown",
   "metadata": {},
   "source": [
    "## g_new, L_lim1\n",
    "```python\n",
    "- g_new(z, k)\n",
    "- L_lim1(F_lim, z_i, d_Li, g=g_new, k=0)\n",
    "```\n",
    "- edited for J -> erg change"
   ]
  },
  {
   "cell_type": "code",
   "execution_count": 2,
   "metadata": {},
   "outputs": [
    {
     "data": {
      "text/html": [
       "\n",
       "        <script>\n",
       "            function code_toggle_1858670146256806856() {\n",
       "                $('div.cell.code_cell.rendered.selected').find('div.input').toggle();\n",
       "            }\n",
       "\n",
       "            \n",
       "        </script>\n",
       "\n",
       "        <a href=\"javascript:code_toggle_1858670146256806856()\">Toggle show/hide</a>\n",
       "    "
      ],
      "text/plain": [
       "<IPython.core.display.HTML object>"
      ]
     },
     "execution_count": 2,
     "metadata": {},
     "output_type": "execute_result"
    }
   ],
   "source": [
    "def g_new(z, k): #The improved g-function, which transforms luminosities\n",
    "    Z = z+1\n",
    "    Z_c = 3.5\n",
    "    return Z**k/(1+Z/Z_c)**k\n",
    "\n",
    "def L_lim1(F_lim, z_i, d_Li, g=g_new, k=0): #finds the limiting luminosity using flux, luminosity distance, and g\n",
    "    return (F_lim*1e-19)*4*math.pi*(d_Li*3.08567758e25)**2/g(z_i, k)\n",
    "\n",
    "hide_toggle()"
   ]
  },
  {
   "cell_type": "markdown",
   "metadata": {},
   "source": [
    "## sort_by_first, kt_newform + importing packages\n",
    "- numpy as np, matplotlib as plt, math \n",
    "- functions:\n",
    "\n",
    "```python \n",
    "- sort_by_first(A, B, reverse=False)\n",
    "- sort_by_1(*args, reverse=False)\n",
    "```\n",
    "sort_by_1 is the more general function of the two; it can take multiple arguments\n",
    "\n",
    "```python\n",
    "- kt_newform(L, z, F_lim, d_L, g=g_new, k=0, func=L_lim1)\n",
    "```\n",
    "**- potential error with kendall_tau in removing those under limit** (should be resolved)"
   ]
  },
  {
   "cell_type": "code",
   "execution_count": 3,
   "metadata": {},
   "outputs": [
    {
     "data": {
      "text/html": [
       "\n",
       "        <script>\n",
       "            function code_toggle_9491731180335852612() {\n",
       "                $('div.cell.code_cell.rendered.selected').find('div.input').toggle();\n",
       "            }\n",
       "\n",
       "            \n",
       "        </script>\n",
       "\n",
       "        <a href=\"javascript:code_toggle_9491731180335852612()\">Toggle show/hide</a>\n",
       "    "
      ],
      "text/plain": [
       "<IPython.core.display.HTML object>"
      ]
     },
     "execution_count": 3,
     "metadata": {},
     "output_type": "execute_result"
    }
   ],
   "source": [
    "import numpy as np\n",
    "import matplotlib.pyplot as plt\n",
    "import math\n",
    "\n",
    "def sort_by_first(A, B, reverse=False): #SORT USING Z!\n",
    "    list1, list2 = zip(*sorted(zip(A, B), reverse=reverse))\n",
    "    return list(list1), list(list2)\n",
    "\n",
    "def sort_by_1(*args, reverse=False):\n",
    "    thing = zip(*sorted(zip(*args), reverse=reverse))\n",
    "    return [list(thang) for thang in thing]\n",
    "\n",
    "def kt_newform(L, z, F_lim, d_L, g=g_new, k=0, func=L_lim1):\n",
    "    \n",
    "    #if necessary, sort by z while keeping reference to L\n",
    "    z, L, d_L = sort_by_1(z, L, d_L)\n",
    "        \n",
    "    R = []\n",
    "    E = []\n",
    "    V = []\n",
    "    \n",
    "    for i in range(len(L)):\n",
    "        higher = 0\n",
    "        lower = 0\n",
    "        \n",
    "        # I have a lot of trouble with this line. Ex. when using kt on Parkes,\n",
    "        # without this line the tau curve is smooth and goes through t=0 at k~2,\n",
    "        # whereas using this line it is rough and goes through at k~5. I must\n",
    "        # look into why this line is causing so much trouble and how to fix it.\n",
    "        \n",
    "        #It looks like some errors in other cells, not this cell.\n",
    "        \n",
    "        #not considering data points under the cutoff\n",
    "        if(L[i] < func(F_lim, z[i], d_L[i], g=g, k=k)):\n",
    "            continue\n",
    "        \n",
    "        for j in range(0, i): #since sorted by now, only j < i has z_j < z_i\n",
    "            if(L[j] >= func(F_lim, z[i], d_L[i], g=g, k=k) and z[j] <= z[i]): #associated set requirements\n",
    "                \n",
    "                if(L[j] > L[i]):\n",
    "                    higher += 1\n",
    "                else:\n",
    "                    lower += 1\n",
    "        \n",
    "        R.append((lower+1)/(higher+lower+1))\n",
    "        E.append(0.5)\n",
    "        V.append(1/12)\n",
    "    \n",
    "    numer = sum(R) - sum(E)\n",
    "    denom = (sum(V))**0.5\n",
    "    return numer/denom\n",
    "\n",
    "hide_toggle()"
   ]
  },
  {
   "cell_type": "markdown",
   "metadata": {},
   "source": [
    "## L_lim2, kendall_tau\n",
    "```python\n",
    "L_lim2(L_limi)\n",
    "kendall_tau(L, Llim, srted=False, func=L_lim2)\n",
    "```\n",
    "- these functions are specifically for the L-Llim plots"
   ]
  },
  {
   "cell_type": "code",
   "execution_count": 4,
   "metadata": {},
   "outputs": [
    {
     "data": {
      "text/html": [
       "\n",
       "        <script>\n",
       "            function code_toggle_3649123420219184675() {\n",
       "                $('div.cell.code_cell.rendered.selected').find('div.input').toggle();\n",
       "            }\n",
       "\n",
       "            \n",
       "        </script>\n",
       "\n",
       "        <a href=\"javascript:code_toggle_3649123420219184675()\">Toggle show/hide</a>\n",
       "    "
      ],
      "text/plain": [
       "<IPython.core.display.HTML object>"
      ]
     },
     "execution_count": 4,
     "metadata": {},
     "output_type": "execute_result"
    }
   ],
   "source": [
    "#original setup of Kendall Tau, using a generic F_lim, z --> L converter\n",
    "#now only used in L-Llim space, since cannot account for d_L\n",
    "\n",
    "def L_lim2(L_limi):\n",
    "    return L_limi\n",
    "\n",
    "def kendall_tau(L, Llim, srted=False, func=L_lim2):\n",
    "    \n",
    "    #if necessary, sort by z while keeping reference to L\n",
    "    \n",
    "    #these days I almost always assume it isn't sorted\n",
    "    #bc 1) if I assume it is sorted, trouble may ensue\n",
    "    #and 2) it doesn't take too long to sort it again\n",
    "    \n",
    "    if not srted:\n",
    "        Llim, L = sort_by_first(Llim, L)\n",
    "        \n",
    "    R = [] # rank\n",
    "    E = [] # expected value\n",
    "    V = [] # (expected) variance\n",
    "    \n",
    "    for i in range(len(L)):\n",
    "        higher = 0\n",
    "        lower = 0\n",
    "        \n",
    "        #similar issue?\n",
    "        \n",
    "        if(L[i] < func(Llim[i])): #don't include sources that are not above flux limit\n",
    "            continue\n",
    "        \n",
    "        for j in range(0, i): #since sorted by now, only j < i has z_j < z_i\n",
    "            if(L[j] >= func(Llim[i]) and Llim[j] <= Llim[i]): #associated set requirements\n",
    "                if(L[j] > L[i]):\n",
    "                    higher += 1\n",
    "                else:\n",
    "                    lower += 1\n",
    "        \n",
    "        R.append((lower+1)/(higher+lower+1))\n",
    "        E.append(0.5)\n",
    "        V.append(1/12)\n",
    "    \n",
    "    numer = sum(R) - sum(E)\n",
    "    denom = (sum(V))**0.5\n",
    "    return numer/denom\n",
    "\n",
    "hide_toggle()"
   ]
  },
  {
   "cell_type": "markdown",
   "metadata": {},
   "source": [
    "# Importing Data, Deriving Parameters\n",
    "- `frb`: all the FRB id strings\n",
    "- `telescope`: ASKAP, Parkes, or CHIME\n",
    "- `snr`: signal to noise ratio (i think all the 0's are set to 6)\n",
    "- `f_p`: peak flux, Jy\n",
    "- `d_L`: luminosity distance, in Gpc\n",
    "- `z`: redshift"
   ]
  },
  {
   "cell_type": "code",
   "execution_count": 5,
   "metadata": {},
   "outputs": [
    {
     "name": "stdout",
     "output_type": "stream",
     "text": [
      "Processed 64 lines.\n"
     ]
    },
    {
     "data": {
      "text/html": [
       "\n",
       "        <script>\n",
       "            function code_toggle_14781518473520962334() {\n",
       "                $('div.cell.code_cell.rendered.selected').find('div.input').toggle();\n",
       "            }\n",
       "\n",
       "            \n",
       "        </script>\n",
       "\n",
       "        <a href=\"javascript:code_toggle_14781518473520962334()\">Toggle show/hide</a>\n",
       "    "
      ],
      "text/plain": [
       "<IPython.core.display.HTML object>"
      ]
     },
     "execution_count": 5,
     "metadata": {},
     "output_type": "execute_result"
    }
   ],
   "source": [
    "import csv\n",
    "\n",
    "frb, telescope, snr, f_p, d_L, z = [], [], [], [], [], []\n",
    "\n",
    "with open('frb.csv') as csv_file:\n",
    "    csv_reader = csv.reader(csv_file, delimiter=',')\n",
    "    line_count = 0\n",
    "    for row in csv_reader:\n",
    "        if line_count == 0:\n",
    "            line_count += 1\n",
    "            continue\n",
    "        line_count += 1\n",
    "        if float(row[2]) > 6:\n",
    "            frb.append(row[0])\n",
    "            telescope.append(row[1])\n",
    "            snr.append(float(row[2]))\n",
    "            f_p.append(float(row[3]))\n",
    "            d_L.append(float(row[4]))\n",
    "            z.append(float(row[5]))\n",
    "        '''\n",
    "        else: \n",
    "            frb.append(row[0])\n",
    "            telescope.append(row[1])\n",
    "            snr.append(6)\n",
    "            f_p.append(float(row[3]))\n",
    "            d_L.append(float(row[4]))\n",
    "            z.append(float(row[5]))\n",
    "        '''\n",
    "    print(f'Processed {line_count} lines.')\n",
    "\n",
    "hide_toggle()"
   ]
  },
  {
   "cell_type": "markdown",
   "metadata": {},
   "source": [
    "- f_lim = limiting flux as defined as $F_p/(S/N)$\n",
    "- L_p = peak luminosity, as defined as $F_p * 4 \\pi d_L^2$\n",
    "- L_plim = limiting peak luminosity, defined as $F_{lim} * 4 \\pi d_L^2 = L_p/(S/N)$\n",
    "\n",
    "**problem with erg/s versus W** (should be fixed, if not then bad)"
   ]
  },
  {
   "cell_type": "code",
   "execution_count": 6,
   "metadata": {},
   "outputs": [
    {
     "data": {
      "text/html": [
       "\n",
       "        <script>\n",
       "            function code_toggle_12789283918107421537() {\n",
       "                $('div.cell.code_cell.rendered.selected').find('div.input').toggle();\n",
       "            }\n",
       "\n",
       "            \n",
       "        </script>\n",
       "\n",
       "        <a href=\"javascript:code_toggle_12789283918107421537()\">Toggle show/hide</a>\n",
       "    "
      ],
      "text/plain": [
       "<IPython.core.display.HTML object>"
      ]
     },
     "execution_count": 6,
     "metadata": {},
     "output_type": "execute_result"
    }
   ],
   "source": [
    "#Deriving New Parameters\n",
    "f_lim = []\n",
    "L_p = []\n",
    "L_plim = []\n",
    "\n",
    "for i in range(len(f_p)):\n",
    "    f_lim_i = f_p[i]/(snr[i])\n",
    "    L_p_i = (f_p[i]*1e-19)*4*math.pi*(d_L[i]*3.08567758e25)**2\n",
    "    L_plim_i = (f_lim_i*1e-19)*4*math.pi*(d_L[i]*3.08567758e25)**2\n",
    "    f_lim.append(f_lim_i)\n",
    "    L_p.append(L_p_i)\n",
    "    L_plim.append(L_plim_i)\n",
    "\n",
    "hide_toggle()"
   ]
  },
  {
   "cell_type": "markdown",
   "metadata": {},
   "source": [
    "removing the uppercase Parkes"
   ]
  },
  {
   "cell_type": "code",
   "execution_count": 7,
   "metadata": {},
   "outputs": [
    {
     "data": {
      "text/html": [
       "\n",
       "        <script>\n",
       "            function code_toggle_12656415671175958644() {\n",
       "                $('div.cell.code_cell.rendered.selected').find('div.input').toggle();\n",
       "            }\n",
       "\n",
       "            \n",
       "        </script>\n",
       "\n",
       "        <a href=\"javascript:code_toggle_12656415671175958644()\">Toggle show/hide</a>\n",
       "    "
      ],
      "text/plain": [
       "<IPython.core.display.HTML object>"
      ]
     },
     "execution_count": 7,
     "metadata": {},
     "output_type": "execute_result"
    }
   ],
   "source": [
    "telescope = [telescope[i].lower() for i in range(len(telescope))] #removing the uppercase Parkes\n",
    "set(telescope)\n",
    "\n",
    "hide_toggle()"
   ]
  },
  {
   "cell_type": "markdown",
   "metadata": {},
   "source": [
    "## Other Cell for DM and Fluence"
   ]
  },
  {
   "cell_type": "code",
   "execution_count": 8,
   "metadata": {},
   "outputs": [
    {
     "name": "stdout",
     "output_type": "stream",
     "text": [
      "Processed 64 lines.\n"
     ]
    },
    {
     "data": {
      "text/html": [
       "\n",
       "        <script>\n",
       "            function code_toggle_16438422795900513022() {\n",
       "                $('div.cell.code_cell.rendered.selected').find('div.input').toggle();\n",
       "            }\n",
       "\n",
       "            \n",
       "        </script>\n",
       "\n",
       "        <a href=\"javascript:code_toggle_16438422795900513022()\">Toggle show/hide</a>\n",
       "    "
      ],
      "text/plain": [
       "<IPython.core.display.HTML object>"
      ]
     },
     "execution_count": 8,
     "metadata": {},
     "output_type": "execute_result"
    }
   ],
   "source": [
    "frb_other, telescope_other, DM, W, snr_other, f_p_other = [], [], [], [], [], []\n",
    "\n",
    "with open('DM_and_fluence.csv') as csv_file:\n",
    "    csv_reader = csv.reader(csv_file, delimiter=',')\n",
    "    line_count = 0\n",
    "    for row in csv_reader:\n",
    "        if line_count == 0:\n",
    "            line_count += 1\n",
    "            continue\n",
    "        line_count += 1\n",
    "        if float(row[4]) > 6:\n",
    "            frb_other.append(row[0])\n",
    "            telescope_other.append(row[1])\n",
    "            DM.append(float(row[2]))\n",
    "            W.append(float(row[3]))\n",
    "            snr_other.append(float(row[4]))\n",
    "            f_p_other.append(float(row[5]))\n",
    "    print(f'Processed {line_count} lines.')\n",
    "    \n",
    "hide_toggle()"
   ]
  },
  {
   "cell_type": "markdown",
   "metadata": {},
   "source": [
    "just had slight issue with csvs not being consistent; fixing issue here\n",
    "issues with i=27,28 switched"
   ]
  },
  {
   "cell_type": "code",
   "execution_count": 9,
   "metadata": {},
   "outputs": [
    {
     "data": {
      "text/html": [
       "\n",
       "        <script>\n",
       "            function code_toggle_9780303251336595956() {\n",
       "                $('div.cell.code_cell.rendered.selected').find('div.input').toggle();\n",
       "            }\n",
       "\n",
       "            \n",
       "        </script>\n",
       "\n",
       "        <a href=\"javascript:code_toggle_9780303251336595956()\">Toggle show/hide</a>\n",
       "    "
      ],
      "text/plain": [
       "<IPython.core.display.HTML object>"
      ]
     },
     "execution_count": 9,
     "metadata": {},
     "output_type": "execute_result"
    }
   ],
   "source": [
    "data27 = (frb_other[27], 'parkes', DM[27], W[27], snr_other[27], f_p_other[27])\n",
    "data28 = (frb_other[28], 'parkes', DM[28], W[28], snr_other[28], f_p_other[29])\n",
    "frb_other[27], telescope_other[27], DM[27], W[27], snr_other[27], f_p_other[27] = data28\n",
    "frb_other[28], telescope_other[28], DM[28], W[28], snr_other[28], f_p_other[28] = data27\n",
    "hide_toggle()"
   ]
  },
  {
   "cell_type": "markdown",
   "metadata": {},
   "source": [
    "deriving fluence"
   ]
  },
  {
   "cell_type": "code",
   "execution_count": 10,
   "metadata": {},
   "outputs": [
    {
     "data": {
      "text/html": [
       "\n",
       "        <script>\n",
       "            function code_toggle_5761142748273597154() {\n",
       "                $('div.cell.code_cell.rendered.selected').find('div.input').toggle();\n",
       "            }\n",
       "\n",
       "            \n",
       "        </script>\n",
       "\n",
       "        <a href=\"javascript:code_toggle_5761142748273597154()\">Toggle show/hide</a>\n",
       "    "
      ],
      "text/plain": [
       "<IPython.core.display.HTML object>"
      ]
     },
     "execution_count": 10,
     "metadata": {},
     "output_type": "execute_result"
    }
   ],
   "source": [
    "fluence = [f_p[i] * W[i] for i in range(len(f_p))]\n",
    "hide_toggle()"
   ]
  },
  {
   "cell_type": "code",
   "execution_count": 11,
   "metadata": {},
   "outputs": [
    {
     "ename": "NameError",
     "evalue": "name 'ASKAP' is not defined",
     "output_type": "error",
     "traceback": [
      "\u001b[0;31m---------------------------------------------------------------------------\u001b[0m",
      "\u001b[0;31mNameError\u001b[0m                                 Traceback (most recent call last)",
      "\u001b[0;32m<ipython-input-11-7a051ee3b3d0>\u001b[0m in \u001b[0;36m<module>\u001b[0;34m\u001b[0m\n\u001b[1;32m      3\u001b[0m \u001b[0;31m#ax.set_xscale('log')\u001b[0m\u001b[0;34m\u001b[0m\u001b[0;34m\u001b[0m\u001b[0;34m\u001b[0m\u001b[0m\n\u001b[1;32m      4\u001b[0m \u001b[0;34m\u001b[0m\u001b[0m\n\u001b[0;32m----> 5\u001b[0;31m \u001b[0mtel\u001b[0m \u001b[0;34m=\u001b[0m \u001b[0mASKAP\u001b[0m\u001b[0;34m[\u001b[0m\u001b[0;36m0\u001b[0m\u001b[0;34m]\u001b[0m\u001b[0;34m\u001b[0m\u001b[0;34m\u001b[0m\u001b[0m\n\u001b[0m\u001b[1;32m      6\u001b[0m \u001b[0mtel1\u001b[0m \u001b[0;34m=\u001b[0m \u001b[0mPARKES\u001b[0m\u001b[0;34m[\u001b[0m\u001b[0;36m0\u001b[0m\u001b[0;34m]\u001b[0m\u001b[0;34m\u001b[0m\u001b[0;34m\u001b[0m\u001b[0m\n\u001b[1;32m      7\u001b[0m \u001b[0max\u001b[0m\u001b[0;34m.\u001b[0m\u001b[0mset_xlim\u001b[0m\u001b[0;34m(\u001b[0m\u001b[0;34m[\u001b[0m\u001b[0;36m0\u001b[0m\u001b[0;34m,\u001b[0m \u001b[0;36m1e4\u001b[0m\u001b[0;34m]\u001b[0m\u001b[0;34m)\u001b[0m\u001b[0;34m\u001b[0m\u001b[0;34m\u001b[0m\u001b[0m\n",
      "\u001b[0;31mNameError\u001b[0m: name 'ASKAP' is not defined"
     ]
    },
    {
     "data": {
      "image/png": "[encoded data removed]",
      "text/plain": [
       "<Figure size 432x288 with 1 Axes>"
      ]
     },
     "metadata": {
      "needs_background": "light"
     },
     "output_type": "display_data"
    }
   ],
   "source": [
    "fig, ax = plt.subplots()\n",
    "#ax.set_yscale('log')\n",
    "#ax.set_xscale('log')\n",
    "\n",
    "tel = ASKAP[0]\n",
    "tel1 = PARKES[0]\n",
    "ax.set_xlim([0, 1e4])\n",
    "ax.scatter(DM[tel], fluence[tel], label='ASKAP')\n",
    "ax.scatter(DM[tel1], fluence[tel1], label='Parkes')\n",
    "ax.scatter(DM_C, fluence[CHIME[0]], label='CHIME')\n",
    "ax.set_title('fluence vs. DM')\n",
    "ax.set_xlabel('DM (cm^-3 pc)')\n",
    "ax.set_ylabel('fluence (Jy ms)')\n",
    "ax.legend()\n",
    "plt.show()"
   ]
  },
  {
   "cell_type": "code",
   "execution_count": 12,
   "metadata": {},
   "outputs": [
    {
     "ename": "NameError",
     "evalue": "name 'tel' is not defined",
     "output_type": "error",
     "traceback": [
      "\u001b[0;31m---------------------------------------------------------------------------\u001b[0m",
      "\u001b[0;31mNameError\u001b[0m                                 Traceback (most recent call last)",
      "\u001b[0;32m<ipython-input-12-1255542a0b97>\u001b[0m in \u001b[0;36m<module>\u001b[0;34m\u001b[0m\n\u001b[1;32m      2\u001b[0m \u001b[0max\u001b[0m\u001b[0;34m.\u001b[0m\u001b[0mset_yscale\u001b[0m\u001b[0;34m(\u001b[0m\u001b[0;34m'log'\u001b[0m\u001b[0;34m)\u001b[0m\u001b[0;34m\u001b[0m\u001b[0;34m\u001b[0m\u001b[0m\n\u001b[1;32m      3\u001b[0m \u001b[0max\u001b[0m\u001b[0;34m.\u001b[0m\u001b[0mset_xscale\u001b[0m\u001b[0;34m(\u001b[0m\u001b[0;34m'log'\u001b[0m\u001b[0;34m)\u001b[0m\u001b[0;34m\u001b[0m\u001b[0;34m\u001b[0m\u001b[0m\n\u001b[0;32m----> 4\u001b[0;31m \u001b[0max\u001b[0m\u001b[0;34m.\u001b[0m\u001b[0mscatter\u001b[0m\u001b[0;34m(\u001b[0m\u001b[0mDM\u001b[0m\u001b[0;34m[\u001b[0m\u001b[0mtel\u001b[0m\u001b[0;34m]\u001b[0m\u001b[0;34m,\u001b[0m \u001b[0mf_p\u001b[0m\u001b[0;34m[\u001b[0m\u001b[0mtel\u001b[0m\u001b[0;34m]\u001b[0m\u001b[0;34m,\u001b[0m \u001b[0mlabel\u001b[0m\u001b[0;34m=\u001b[0m\u001b[0;34m'ASKAP'\u001b[0m\u001b[0;34m)\u001b[0m\u001b[0;34m\u001b[0m\u001b[0;34m\u001b[0m\u001b[0m\n\u001b[0m\u001b[1;32m      5\u001b[0m \u001b[0max\u001b[0m\u001b[0;34m.\u001b[0m\u001b[0mscatter\u001b[0m\u001b[0;34m(\u001b[0m\u001b[0mDM\u001b[0m\u001b[0;34m[\u001b[0m\u001b[0mtel1\u001b[0m\u001b[0;34m]\u001b[0m\u001b[0;34m,\u001b[0m \u001b[0mf_p\u001b[0m\u001b[0;34m[\u001b[0m\u001b[0mtel1\u001b[0m\u001b[0;34m]\u001b[0m\u001b[0;34m,\u001b[0m \u001b[0mlabel\u001b[0m\u001b[0;34m=\u001b[0m\u001b[0;34m'Parkes'\u001b[0m\u001b[0;34m)\u001b[0m\u001b[0;34m\u001b[0m\u001b[0;34m\u001b[0m\u001b[0m\n\u001b[1;32m      6\u001b[0m \u001b[0max\u001b[0m\u001b[0;34m.\u001b[0m\u001b[0mscatter\u001b[0m\u001b[0;34m(\u001b[0m\u001b[0mDM_C\u001b[0m\u001b[0;34m,\u001b[0m \u001b[0mf_p\u001b[0m\u001b[0;34m[\u001b[0m\u001b[0mCHIME\u001b[0m\u001b[0;34m[\u001b[0m\u001b[0;36m0\u001b[0m\u001b[0;34m]\u001b[0m\u001b[0;34m]\u001b[0m\u001b[0;34m,\u001b[0m \u001b[0mlabel\u001b[0m\u001b[0;34m=\u001b[0m\u001b[0;34m'CHIME'\u001b[0m\u001b[0;34m)\u001b[0m\u001b[0;34m\u001b[0m\u001b[0;34m\u001b[0m\u001b[0m\n",
      "\u001b[0;31mNameError\u001b[0m: name 'tel' is not defined"
     ]
    },
    {
     "data": {
      "image/png": "[encoded data removed]",
      "text/plain": [
       "<Figure size 432x288 with 1 Axes>"
      ]
     },
     "metadata": {
      "needs_background": "light"
     },
     "output_type": "display_data"
    }
   ],
   "source": [
    "fig, ax = plt.subplots()\n",
    "ax.set_yscale('log')\n",
    "ax.set_xscale('log')\n",
    "ax.scatter(DM[tel], f_p[tel], label='ASKAP')\n",
    "ax.scatter(DM[tel1], f_p[tel1], label='Parkes')\n",
    "ax.scatter(DM_C, f_p[CHIME[0]], label='CHIME')\n",
    "ax.set_title('peak flux vs. DM')\n",
    "ax.set_xlabel('DM (cm^-3 pc)')\n",
    "ax.set_ylabel('peak flux (Jy)')\n",
    "ax.legend()\n",
    "plt.show()"
   ]
  },
  {
   "cell_type": "markdown",
   "metadata": {},
   "source": [
    "## Adding CHIME FRBs"
   ]
  },
  {
   "cell_type": "code",
   "execution_count": 13,
   "metadata": {},
   "outputs": [
    {
     "name": "stdout",
     "output_type": "stream",
     "text": [
      "Processed 8 lines.\n"
     ]
    },
    {
     "data": {
      "text/html": [
       "\n",
       "        <script>\n",
       "            function code_toggle_14388226746856178329() {\n",
       "                $('div.cell.code_cell.rendered.selected').find('div.input').toggle();\n",
       "            }\n",
       "\n",
       "            \n",
       "        </script>\n",
       "\n",
       "        <a href=\"javascript:code_toggle_14388226746856178329()\">Toggle show/hide</a>\n",
       "    "
      ],
      "text/plain": [
       "<IPython.core.display.HTML object>"
      ]
     },
     "execution_count": 13,
     "metadata": {},
     "output_type": "execute_result"
    }
   ],
   "source": [
    "import csv\n",
    "\n",
    "frbC, telescopeC, snrC, f_pC, d_LC, zC = [], [], [], [], [], []\n",
    "\n",
    "with open('frb.csv') as csv_file:\n",
    "    csv_reader = csv.reader(csv_file, delimiter=',')\n",
    "    line_count = 0\n",
    "    chime_lines = 0\n",
    "    for row in csv_reader:\n",
    "        if line_count == 0:\n",
    "            line_count += 1\n",
    "            continue\n",
    "        line_count += 1\n",
    "        if row[1] == 'CHIME/FRB':\n",
    "            chime_lines += 1\n",
    "            frbC.append(row[0])\n",
    "            telescopeC.append(row[1])\n",
    "            snrC.append(float(row[2]))\n",
    "            f_pC.append(float(row[3]))\n",
    "            d_LC.append(float(row[4]))\n",
    "            zC.append(float(row[5]))\n",
    "            \n",
    "    print(f'Processed {chime_lines} lines.')\n",
    "\n",
    "hide_toggle()"
   ]
  },
  {
   "cell_type": "code",
   "execution_count": 14,
   "metadata": {},
   "outputs": [
    {
     "data": {
      "text/html": [
       "\n",
       "        <script>\n",
       "            function code_toggle_3549212436716741439() {\n",
       "                $('div.cell.code_cell.rendered.selected').find('div.input').toggle();\n",
       "            }\n",
       "\n",
       "            \n",
       "        </script>\n",
       "\n",
       "        <a href=\"javascript:code_toggle_3549212436716741439()\">Toggle show/hide</a>\n",
       "    "
      ],
      "text/plain": [
       "<IPython.core.display.HTML object>"
      ]
     },
     "execution_count": 14,
     "metadata": {},
     "output_type": "execute_result"
    }
   ],
   "source": [
    "SETSNR = 6\n",
    "\n",
    "#Deriving New Parameters\n",
    "f_limC = []\n",
    "L_pC = []\n",
    "L_plimC = []\n",
    "\n",
    "for i in range(len(f_pC)):\n",
    "    f_lim_i = f_pC[i]/(SETSNR)\n",
    "    L_p_i = (f_pC[i]*1e-19)*4*math.pi*(d_LC[i]*3.08567758e25)**2\n",
    "    L_plim_i = (f_lim_i*1e-19)*4*math.pi*(d_LC[i]*3.08567758e25)**2\n",
    "    f_limC.append(f_lim_i)\n",
    "    L_pC.append(L_p_i)\n",
    "    L_plimC.append(L_plim_i)\n",
    "\n",
    "hide_toggle()"
   ]
  },
  {
   "cell_type": "code",
   "execution_count": 15,
   "metadata": {},
   "outputs": [
    {
     "data": {
      "text/html": [
       "\n",
       "        <script>\n",
       "            function code_toggle_7910798539022162853() {\n",
       "                $('div.cell.code_cell.rendered.selected').find('div.input').toggle();\n",
       "            }\n",
       "\n",
       "            \n",
       "        </script>\n",
       "\n",
       "        <a href=\"javascript:code_toggle_7910798539022162853()\">Toggle show/hide</a>\n",
       "    "
      ],
      "text/plain": [
       "<IPython.core.display.HTML object>"
      ]
     },
     "execution_count": 15,
     "metadata": {},
     "output_type": "execute_result"
    }
   ],
   "source": [
    "for i in range(len(f_pC)):\n",
    "    f_p.append(f_pC[i])\n",
    "    z.append(zC[i])\n",
    "    L_p.append(L_pC[i])\n",
    "    L_plim.append(L_plimC[i])\n",
    "    d_L.append(d_LC[i])\n",
    "    snr.append(SETSNR)\n",
    "\n",
    "hide_toggle()"
   ]
  },
  {
   "cell_type": "code",
   "execution_count": 16,
   "metadata": {},
   "outputs": [
    {
     "name": "stdout",
     "output_type": "stream",
     "text": [
      "FRB180908.J1232+74 CHIME/FRB 0.0\n",
      "FRB190117.J2207+17 CHIME/FRB 0.0\n",
      "FRB190208.J1855+46 CHIME/FRB 0.0\n",
      "FRB190212.J18+81 CHIME/FRB 0.0\n",
      "FRB190303.J1353+48 CHIME/FRB 0.0\n",
      "FRB190417.J1939+59 CHIME/FRB 0.0\n",
      "FRB190604.J1435+53 CHIME/FRB 0.0\n",
      "FRB190907.J08+46 CHIME/FRB 0.0\n",
      "Processed 64 lines.\n"
     ]
    },
    {
     "data": {
      "text/html": [
       "\n",
       "        <script>\n",
       "            function code_toggle_14850273524472760564() {\n",
       "                $('div.cell.code_cell.rendered.selected').find('div.input').toggle();\n",
       "            }\n",
       "\n",
       "            \n",
       "        </script>\n",
       "\n",
       "        <a href=\"javascript:code_toggle_14850273524472760564()\">Toggle show/hide</a>\n",
       "    "
      ],
      "text/plain": [
       "<IPython.core.display.HTML object>"
      ]
     },
     "execution_count": 16,
     "metadata": {},
     "output_type": "execute_result"
    }
   ],
   "source": [
    "frbC, tC, DM_C, W_C, snr_C, f_pC = [], [], [], [], [], []\n",
    "\n",
    "with open('DM_and_fluence.csv') as csv_file:\n",
    "    csv_reader = csv.reader(csv_file, delimiter=',')\n",
    "    line_count = 0\n",
    "    for row in csv_reader:\n",
    "        if line_count == 0:\n",
    "            line_count += 1\n",
    "            continue\n",
    "        line_count += 1\n",
    "        if row[1] == 'CHIME/FRB':\n",
    "            print(row[0], row[1], float(row[4]))\n",
    "            frbC.append(row[0])\n",
    "            tC.append(row[1])\n",
    "            DM_C.append(float(row[2]))\n",
    "            W_C.append(float(row[3]))\n",
    "            snr_C.append(float(row[4]))\n",
    "            f_pC.append(float(row[5]))\n",
    "    print(f'Processed {line_count} lines.')\n",
    "    \n",
    "hide_toggle()"
   ]
  },
  {
   "cell_type": "code",
   "execution_count": 17,
   "metadata": {},
   "outputs": [],
   "source": [
    "for i in range(len(W_C)):\n",
    "    fluence.append(W_C[i]*f_pC[i])"
   ]
  },
  {
   "cell_type": "code",
   "execution_count": 18,
   "metadata": {},
   "outputs": [
    {
     "data": {
      "text/plain": [
       "['FRB180908.J1232+74',\n",
       " 'FRB190117.J2207+17',\n",
       " 'FRB190208.J1855+46',\n",
       " 'FRB190212.J18+81',\n",
       " 'FRB190303.J1353+48',\n",
       " 'FRB190417.J1939+59',\n",
       " 'FRB190604.J1435+53',\n",
       " 'FRB190907.J08+46']"
      ]
     },
     "execution_count": 18,
     "metadata": {},
     "output_type": "execute_result"
    }
   ],
   "source": [
    "frbC"
   ]
  },
  {
   "cell_type": "markdown",
   "metadata": {},
   "source": [
    "## Deriving L_lim (L_p,lim also used) in most recent way, depending on telescope"
   ]
  },
  {
   "cell_type": "markdown",
   "metadata": {},
   "source": [
    "- $L_{lim} = L_p * F_{lim}/F_p$"
   ]
  },
  {
   "cell_type": "code",
   "execution_count": 19,
   "metadata": {},
   "outputs": [
    {
     "data": {
      "text/html": [
       "\n",
       "        <script>\n",
       "            function code_toggle_18142539670508892560() {\n",
       "                $('div.cell.code_cell.rendered.selected').find('div.input').toggle();\n",
       "            }\n",
       "\n",
       "            \n",
       "        </script>\n",
       "\n",
       "        <a href=\"javascript:code_toggle_18142539670508892560()\">Toggle show/hide</a>\n",
       "    "
      ],
      "text/plain": [
       "<IPython.core.display.HTML object>"
      ]
     },
     "execution_count": 19,
     "metadata": {},
     "output_type": "execute_result"
    }
   ],
   "source": [
    "L_lim = []\n",
    "f_lim = [14.8, 0.30, 0.30]\n",
    "for i in range(len(f_p)):\n",
    "    if(i < 27): #ASKAP\n",
    "        L_lim.append(L_p[i] * f_lim[0]/f_p[i])\n",
    "    elif(i >= 27 and i < 54): #Parkes\n",
    "        L_lim.append(L_p[i] * f_lim[1]/f_p[i])\n",
    "    elif(i >= 54): #CHIME\n",
    "        L_lim.append(L_p[i] * f_lim[2]/f_p[i])\n",
    "\n",
    "hide_toggle()"
   ]
  },
  {
   "cell_type": "code",
   "execution_count": 20,
   "metadata": {},
   "outputs": [
    {
     "name": "stdout",
     "output_type": "stream",
     "text": [
      "[1.3101181929463999e+35, 8.648827133122714e+34, 4.4803159315416265e+35, 1.1333202361128027e+34, 2.3419000191549705e+34, 4.091286052367217e+34, 6.325520649091471e+34, 2.181818535804037e+34, 6.325520649091471e+34, 1.4892536227669793e+33, 1.3489344110332629e+35, 3.9117256274580937e+33, 7.713660857042764e+33, 1.951860776645274e+35, 4.533280944451211e+34, 5.865640547031323e+34, 7.5146214905754505e+34, 2.946809695180179e+34, 1.5620163235511594e+35, 4.7882779975765896e+33, 7.083251475705015e+34, 4.364876640616322e+34, 7.297342751558199e+34, 2.5570537827295112e+33, 1.735573692834621e+34, 4.254377917595325e+34, 5.801360039889301e+34, 8.847722920168221e+32, 3.980344626128987e+33, 1.4066332374797521e+34, 3.038140565390232e+32, 7.23783865318155e+32, 7.236438753818953e+33, 1.6113200612047202e+32, 8.132912768712868e+33, 3.908949758636535e+33, 1.2158449017854925e+34, 2.102146314644536e+33, 3.0712535695439704e+34, 7.59535141347558e+33, 1.2418184191899866e+33, 6.483508265874416e+33, 4.39711979277296e+33, 2.172213072485294e+33, 3.9564745472539326e+33, 2.79409144317747e+33, 2.5387749258385728e+34, 4.414640071718695e+34, 9.2631699771605e+33, 1.0130964002548903e+35, 4.938877256612496e+34, 3.0381405653902315e+32, 8.983491621426869e+34, 5.177477539767765e+34, 1.3797982435444294e+32, 7.969016858722652e+32, 1.9822933922929536e+33, 3.957407813495666e+32, 2.128205979702113e+32, 1.9656022845081414e+34, 2.102146314644536e+33, 4.109602000608787e+32]\n"
     ]
    }
   ],
   "source": [
    "print(L_lim)"
   ]
  },
  {
   "cell_type": "markdown",
   "metadata": {},
   "source": [
    "# Kendall Tau Graph Functions"
   ]
  },
  {
   "cell_type": "markdown",
   "metadata": {},
   "source": [
    "## graph presets:\n",
    "```python\n",
    "- ASKAP = (slice(0,27), 'ASKAP', 14.8, '#1f77b4')\n",
    "- PARKES = (slice(27,54), 'Parkes', 0.15, '#ff7f0e')\n",
    "- CHIME = (slice(54,62), 'CHIME', 0.30, '#2ca02c')\n",
    "- ALL = (slice(0,62), 'All FRBs', 0.15, '#1f77b4')\n",
    "```"
   ]
  },
  {
   "cell_type": "code",
   "execution_count": 21,
   "metadata": {},
   "outputs": [
    {
     "data": {
      "text/html": [
       "\n",
       "        <script>\n",
       "            function code_toggle_12709574370609640723() {\n",
       "                $('div.cell.code_cell.rendered.selected').find('div.input').toggle();\n",
       "            }\n",
       "\n",
       "            \n",
       "        </script>\n",
       "\n",
       "        <a href=\"javascript:code_toggle_12709574370609640723()\">Toggle show/hide</a>\n",
       "    "
      ],
      "text/plain": [
       "<IPython.core.display.HTML object>"
      ]
     },
     "execution_count": 21,
     "metadata": {},
     "output_type": "execute_result"
    }
   ],
   "source": [
    "#Presets for the TELESCOPE option\n",
    "ASKAP = (slice(0,27), 'ASKAP', 14.8, '#1f77b4')\n",
    "PARKES = (slice(27,54), 'Parkes', 0.15, '#ff7f0e')\n",
    "NEW_PARKES = (slice(27,54), 'Parkes', 0.3, '#ff7f0e')\n",
    "CHIME = (slice(54,62), 'CHIME', 0.30, '#2ca02c')\n",
    "ALL = (slice(0,62), 'All FRBs', 0.15, '#1f77b4')\n",
    "hide_toggle()"
   ]
  },
  {
   "cell_type": "markdown",
   "metadata": {},
   "source": [
    "## new_L, tau_k, tk_graph\n",
    "```python\n",
    "- new_L(L, z, k=0, g=g_new)\n",
    "- tau_k(L_p, z, k, F_lim, d_L, func=L_lim1, g=g_new)\n",
    "- tkgraph(L_p, z, d_L, func=L_lim1, g=g_new, k_min=0, k_max=10, dk=0.01, TELESCOPE=ALL)\n",
    "```"
   ]
  },
  {
   "cell_type": "code",
   "execution_count": 22,
   "metadata": {},
   "outputs": [
    {
     "data": {
      "text/html": [
       "\n",
       "        <script>\n",
       "            function code_toggle_6769655879589763294() {\n",
       "                $('div.cell.code_cell.rendered.selected').find('div.input').toggle();\n",
       "            }\n",
       "\n",
       "            \n",
       "        </script>\n",
       "\n",
       "        <a href=\"javascript:code_toggle_6769655879589763294()\">Toggle show/hide</a>\n",
       "    "
      ],
      "text/plain": [
       "<IPython.core.display.HTML object>"
      ]
     },
     "execution_count": 22,
     "metadata": {},
     "output_type": "execute_result"
    }
   ],
   "source": [
    "def new_L(L, z, k=0, g=g_new):\n",
    "    return [L[i]/g(z[i], k) for i in range(len(L))]\n",
    "\n",
    "def tau_k(L_p, z, k, F_lim, d_L, func=L_lim1, g=g_new):\n",
    "    L_new = new_L(L_p, z, k=k, g=g)\n",
    "    return kt_newform(L_new, z, F_lim, d_L, g=g, k=k, func=func)\n",
    "\n",
    "def tkgraph(L_p, z, d_L, func=L_lim1, g=g_new, k_min=0, k_max=10, dk=0.01, TELESCOPE=ALL):\n",
    "    #the current k value\n",
    "    k = k_min\n",
    "    \n",
    "    #expand telescope\n",
    "    tel, telname, F_LIM, color = TELESCOPE\n",
    "\n",
    "    #list of k, tau\n",
    "    list_k = []\n",
    "    list_t = []\n",
    "\n",
    "    k1 = k_min #k closest to tau = 1\n",
    "    kn1 = k_min #k closest to tau = -1\n",
    "    k0 = k_min #k closest to t=0\n",
    "\n",
    "    dif1 = 1e300 #smallest distance so far to tau = 1\n",
    "    difn1 = 1e300 #smallest distance so far to tau = -1\n",
    "    dif0 = 1e300\n",
    "\n",
    "    while(k <= k_max):\n",
    "        list_k.append(k)\n",
    "        t_k = tau_k(L_p[tel], z[tel], k, F_LIM, d_L[tel], func=func, g=g)\n",
    "        list_t.append(t_k)\n",
    "\n",
    "        if(abs(t_k-1) < dif1):\n",
    "            dif1 = abs(t_k-1)\n",
    "            k1 = k\n",
    "        if(abs(t_k+1) < difn1):\n",
    "            difn1 = abs(t_k+1)\n",
    "            kn1 = k\n",
    "        if(abs(t_k) < dif0):\n",
    "            dif0 = abs(t_k)\n",
    "            k0 = k\n",
    "\n",
    "        k += dk\n",
    "    \n",
    "    return list_k, list_t, round(k1,2), round(kn1,2), round(k0,2)\n",
    "\n",
    "hide_toggle()"
   ]
  },
  {
   "cell_type": "markdown",
   "metadata": {},
   "source": [
    "## tkplot\n",
    "```python\n",
    "tkplot(list_k, list_t, k1, kn1, k0, k_min=0, k_max=10, dk=0.01, TELESCOPE=ALL, PLOT_LINES=True, NAT=False):\n",
    "```"
   ]
  },
  {
   "cell_type": "code",
   "execution_count": 23,
   "metadata": {},
   "outputs": [
    {
     "data": {
      "text/html": [
       "\n",
       "        <script>\n",
       "            function code_toggle_13601367959189115973() {\n",
       "                $('div.cell.code_cell.rendered.selected').find('div.input').toggle();\n",
       "            }\n",
       "\n",
       "            \n",
       "        </script>\n",
       "\n",
       "        <a href=\"javascript:code_toggle_13601367959189115973()\">Toggle show/hide</a>\n",
       "    "
      ],
      "text/plain": [
       "<IPython.core.display.HTML object>"
      ]
     },
     "execution_count": 23,
     "metadata": {},
     "output_type": "execute_result"
    }
   ],
   "source": [
    "def tkplot(list_k, list_t, k1, kn1, k0, k_min=0, k_max=10, dk=0.01, TELESCOPE=ALL, PLOT_LINES=True, NAT=False):\n",
    "    \n",
    "    #expand telescope\n",
    "    tel, telname, F_LIM, color = TELESCOPE\n",
    "\n",
    "    k1, kn1, k0 = round(k1, 2), round(kn1, 2), round(k0, 2)\n",
    "\n",
    "    YMAX, YMIN = max(list_t), min(list_t)\n",
    "    XMAX, XMIN = k_max, k_min\n",
    "    MAR = 0 #margin\n",
    "    XMAR = MAR/10 * (abs(XMAX)+abs(XMIN)) #scaling the xmargin\n",
    "    YMAR = MAR/10 * (abs(YMAX)+abs(YMIN)) #scaling the ymargin\n",
    "\n",
    "    fig, ax = plt.subplots()  # Create a figure and an axes.\n",
    "    ax.plot(list_k, list_t, label='τ(k)')\n",
    "    ax.plot(list_k, [0 for i in range(len(list_k))], label='τ=0')\n",
    "\n",
    "    if PLOT_LINES:\n",
    "        ax.plot([k1 for i in range(11)], [YMIN+(1-YMIN)*i/10 for i in range(11)], color='black', linestyle='--', label='k = ' + str(kn1))\n",
    "        ax.plot([kn1 for i in range(11)], [YMIN+(-1-YMIN)*i/10 for i in range(11)], color='black', linestyle='--', label='k = ' + str(k1))\n",
    "        ax.plot([XMIN + (k1-XMIN)*i/10 for i in range(11)],[1 for i in range(11)], color='black', linestyle='--')\n",
    "        ax.plot([XMIN + (kn1-XMIN)*i/10 for i in range(11)],[-1 for i in range(11)], color='black', linestyle='--')\n",
    "    \n",
    "    if not NAT:\n",
    "        ax.set_ylim([YMIN-YMAR, YMAX+YMAR])\n",
    "        ax.set_xlim([XMIN-XMAR, XMAX+XMAR])\n",
    "    ax.set_xlabel('k')  # Add an x-label to the axes.\n",
    "    ax.set_ylabel('τ')  # Add a y-label to the axes.\n",
    "    ax.plot()\n",
    "\n",
    "    ax.set_title(f\"[{telname}] Relation between τ and k\")  # Add a title to the axes.\n",
    "    ax.legend()  # Add a legend.\n",
    "    return fig, ax\n",
    "\n",
    "hide_toggle()"
   ]
  },
  {
   "cell_type": "markdown",
   "metadata": {},
   "source": [
    "## tau_k2, tk_graph2\n",
    "```python\n",
    "- tau_k2(L_p, L_plim, k, func=L_lim2, g=g_new)\n",
    "- tk_graph2(L_p, L_lim, func=L_lim2, g=g_new, k_min=0, k_max=10, dk=0.01, TELESCOPE=ALL)\n",
    "```\n",
    "- to be used exclusively for L-Llim space\n",
    "- additionally, can use regular tkplot; no need to use a separate plotter"
   ]
  },
  {
   "cell_type": "code",
   "execution_count": 24,
   "metadata": {},
   "outputs": [
    {
     "data": {
      "text/html": [
       "\n",
       "        <script>\n",
       "            function code_toggle_1752967242029706907() {\n",
       "                $('div.cell.code_cell.rendered.selected').find('div.input').toggle();\n",
       "            }\n",
       "\n",
       "            \n",
       "        </script>\n",
       "\n",
       "        <a href=\"javascript:code_toggle_1752967242029706907()\">Toggle show/hide</a>\n",
       "    "
      ],
      "text/plain": [
       "<IPython.core.display.HTML object>"
      ]
     },
     "execution_count": 24,
     "metadata": {},
     "output_type": "execute_result"
    }
   ],
   "source": [
    "#this uses the other version of kendall tau, to be used for L-Llim space. \n",
    "#Haven't been able to get it working though.\n",
    "\n",
    "def tau_k2(L_p, L_plim, k, func=L_lim2, g=g_new):\n",
    "    L_new = new_L(L_p, z, k=k, g=g)\n",
    "    L_pnew = new_L(L_plim, z, k=k, g=g)\n",
    "    return kendall_tau(L_new, L_pnew, func=func)\n",
    "\n",
    "def tk_graph2(L_p, L_lim, func=L_lim2, g=g_new, k_min=0, k_max=10, dk=0.01, TELESCOPE=ALL):\n",
    "    #the current k value\n",
    "    k = k_min\n",
    "    \n",
    "    #expand telescope\n",
    "    tel, telname, F_LIM, color = TELESCOPE\n",
    "\n",
    "    #list of k, tau\n",
    "    list_k = []\n",
    "    list_t = []\n",
    "\n",
    "    k1 = k_min #k closest to tau = 1\n",
    "    kn1 = k_min #k closest to tau = -1\n",
    "    k0 = k_min #k closest to t=0\n",
    "\n",
    "    dif1 = 1e300 #smallest distance so far to tau = 1\n",
    "    difn1 = 1e300 #smallest distance so far to tau = -1\n",
    "    dif0 = 1e300\n",
    "\n",
    "    while(k <= k_max):\n",
    "        list_k.append(k)\n",
    "        t_k = tau_k2(L_p[tel], L_lim[tel], k, func=func, g=g)\n",
    "        list_t.append(t_k)\n",
    "\n",
    "        if(abs(t_k-1) < dif1):\n",
    "            dif1 = abs(t_k-1)\n",
    "            k1 = k\n",
    "        if(abs(t_k+1) < difn1):\n",
    "            difn1 = abs(t_k+1)\n",
    "            kn1 = k\n",
    "        if(abs(t_k) < dif0):\n",
    "            dif0 = abs(t_k)\n",
    "            k0 = k\n",
    "\n",
    "        k += dk\n",
    "    \n",
    "    return list_k, list_t, round(k1,2), round(kn1,2), round(k0,2)\n",
    "\n",
    "hide_toggle()"
   ]
  },
  {
   "cell_type": "markdown",
   "metadata": {},
   "source": [
    "# Graph Functions\n",
    "## graphLz\n",
    "```python \n",
    "graphLz(L, z, d_L, k=0, TELESCOPE=ALL, L_str='L_peak',prev=None)```\n",
    "- can plot multiple telescopes using two lines:\n",
    "```python\n",
    "fig, ax = graphLz(L_p, z, d_L, TELESCOPE=PARKES)\n",
    "graphLz(L_p, z, d_L, TELESCOPE=ASKAP, prev=(fig,ax))\n",
    "```"
   ]
  },
  {
   "cell_type": "code",
   "execution_count": 25,
   "metadata": {},
   "outputs": [
    {
     "data": {
      "text/html": [
       "\n",
       "        <script>\n",
       "            function code_toggle_9430593888543218406() {\n",
       "                $('div.cell.code_cell.rendered.selected').find('div.input').toggle();\n",
       "            }\n",
       "\n",
       "            \n",
       "        </script>\n",
       "\n",
       "        <a href=\"javascript:code_toggle_9430593888543218406()\">Toggle show/hide</a>\n",
       "    "
      ],
      "text/plain": [
       "<IPython.core.display.HTML object>"
      ]
     },
     "execution_count": 25,
     "metadata": {},
     "output_type": "execute_result"
    }
   ],
   "source": [
    "def graphLz(L, z, d_L, k=0, TELESCOPE=ALL, L_str='L_peak', prev=None, s=None):\n",
    "    tel, telname, F_LIM, color = TELESCOPE\n",
    "\n",
    "    L_cutoffs = []\n",
    "    for i in range(len(z)):\n",
    "        L_cutoffs.append(L_lim1(F_LIM, z[i], d_L[i], g=g_new, k=k))\n",
    "\n",
    "    fig, ax = plt.subplots()\n",
    "    if prev:\n",
    "        plt.close() #closes the window with nothing on it\n",
    "        fig, ax = prev #continues working on previous fig\n",
    "    plt.yscale('log')\n",
    "    ax.scatter(z[tel], new_L(L[tel], z[tel], k=k), label=telname, color=color, s=s)\n",
    "    ax.plot(sorted(z), sorted(L_cutoffs), color=color, label=f'F_cutoff = {F_LIM} Jy/g(z,k={k})')\n",
    "    ax.set_ylim([1e31, 1e37])\n",
    "    ax.set_xlim([-0.05, 2.25])\n",
    "    ax.set_xlabel('z')\n",
    "    ax.set_ylabel(L_str)\n",
    "    ax.set_title(f'[{telname}] {L_str} vs. z (k={k})')\n",
    "    ax.legend()\n",
    "    return fig, ax\n",
    "\n",
    "hide_toggle()"
   ]
  },
  {
   "cell_type": "markdown",
   "metadata": {},
   "source": [
    "## graphSz\n",
    "```python\n",
    "- graphSz(sigma, z_, TELESCOPE=ALL, prev=None)\n",
    "```"
   ]
  },
  {
   "cell_type": "code",
   "execution_count": 26,
   "metadata": {},
   "outputs": [
    {
     "data": {
      "text/html": [
       "\n",
       "        <script>\n",
       "            function code_toggle_330702469534913257() {\n",
       "                $('div.cell.code_cell.rendered.selected').find('div.input').toggle();\n",
       "            }\n",
       "\n",
       "            \n",
       "        </script>\n",
       "\n",
       "        <a href=\"javascript:code_toggle_330702469534913257()\">Toggle show/hide</a>\n",
       "    "
      ],
      "text/plain": [
       "<IPython.core.display.HTML object>"
      ]
     },
     "execution_count": 26,
     "metadata": {},
     "output_type": "execute_result"
    }
   ],
   "source": [
    "def graphSz(sigma, z_, TELESCOPE=ALL, prev=None):\n",
    "    tel, telname, F_LIM, color = TELESCOPE\n",
    "    \n",
    "    fig, ax = plt.subplots()\n",
    "    \n",
    "    if prev:\n",
    "        plt.close() #closes the window with nothing on it\n",
    "        fig, ax = prev #continues working on previous fig\n",
    "    \n",
    "    plt.yscale('log')\n",
    "    plt.xscale('log')\n",
    "    plt.ylim([1, 200])\n",
    "    plt.xlim([1, 5])\n",
    "    ax.scatter(1 + np.array(z_), sigma, label=telname)\n",
    "    ax.set_xlabel('1+z')\n",
    "    ax.set_ylabel('sigma')\n",
    "    ax.set_title(f'[{telname}] sigma vs. (1+z)')\n",
    "    ax.legend()\n",
    "    \n",
    "    return fig, ax\n",
    "\n",
    "hide_toggle()"
   ]
  },
  {
   "cell_type": "markdown",
   "metadata": {},
   "source": [
    "## graphPL\n",
    "```python\n",
    "- graphPL(phi, Lprime, TELESCOPE=ALL, prev=None):\n",
    "```"
   ]
  },
  {
   "cell_type": "code",
   "execution_count": 27,
   "metadata": {},
   "outputs": [
    {
     "data": {
      "text/html": [
       "\n",
       "        <script>\n",
       "            function code_toggle_8640467092773061263() {\n",
       "                $('div.cell.code_cell.rendered.selected').find('div.input').toggle();\n",
       "            }\n",
       "\n",
       "            \n",
       "        </script>\n",
       "\n",
       "        <a href=\"javascript:code_toggle_8640467092773061263()\">Toggle show/hide</a>\n",
       "    "
      ],
      "text/plain": [
       "<IPython.core.display.HTML object>"
      ]
     },
     "execution_count": 27,
     "metadata": {},
     "output_type": "execute_result"
    }
   ],
   "source": [
    "def graphPL(phi, Lprime, TELESCOPE=ALL, prev=None, old=False):\n",
    "    tel, telname, F_LIM, color = TELESCOPE\n",
    "    \n",
    "    fig, ax = plt.subplots()\n",
    "    \n",
    "    if prev:\n",
    "        plt.close() #closes the window with nothing on it\n",
    "        fig, ax = prev #continues working on previous fig\n",
    "        \n",
    "    plt.yscale('log')\n",
    "    plt.xscale('log')\n",
    "    plt.ylim([1, 200])\n",
    "    plt.xlim([1e32, 1e36])\n",
    "    if old:\n",
    "        plt.xlim([1e25, 1e29])\n",
    "    ax.scatter(Lprime, phi, label=telname)\n",
    "    ax.set_xlabel('L\\'')\n",
    "    ax.set_ylabel('phi(L\\')')\n",
    "    ax.set_title('phi(L\\') vs L\\'')\n",
    "    ax.legend()\n",
    "    \n",
    "    return fig, ax\n",
    "\n",
    "hide_toggle()"
   ]
  },
  {
   "cell_type": "markdown",
   "metadata": {},
   "source": [
    "## log-log polynomial fitting"
   ]
  },
  {
   "cell_type": "markdown",
   "metadata": {},
   "source": [
    "```python\n",
    "- unpack(args, logz)\n",
    "- loglogpfit(s_or_p, x, sigma=False, phi=False, order=2, print_coeffs=True, prev=None, TELESCOPE=ALL)\n",
    "```"
   ]
  },
  {
   "cell_type": "code",
   "execution_count": 28,
   "metadata": {},
   "outputs": [
    {
     "data": {
      "text/html": [
       "\n",
       "        <script>\n",
       "            function code_toggle_8529485808140026105() {\n",
       "                $('div.cell.code_cell.rendered.selected').find('div.input').toggle();\n",
       "            }\n",
       "\n",
       "            \n",
       "        </script>\n",
       "\n",
       "        <a href=\"javascript:code_toggle_8529485808140026105()\">Toggle show/hide</a>\n",
       "    "
      ],
      "text/plain": [
       "<IPython.core.display.HTML object>"
      ]
     },
     "execution_count": 28,
     "metadata": {},
     "output_type": "execute_result"
    }
   ],
   "source": [
    "def unpack(args, logz):\n",
    "    poly = np.zeros(len(logz))\n",
    "    for j in range(len(args)):\n",
    "        power = len(args)-j-1\n",
    "        poly += args[j]*(logz**power)\n",
    "    return poly\n",
    "\n",
    "def loglogpfit(s_or_p, x, sigma=False, phi=False, Lz=False, order=2, print_coeffs=True, prev=None, TELESCOPE=ALL, old=False):\n",
    "    tel, telname, F_LIM, color = TELESCOPE\n",
    "    \n",
    "    if not (sigma or phi or Lz):\n",
    "        raise Exception('specify a preset using sigma=True, phi=True, or Lz=True')\n",
    "    \n",
    "    logSP = np.log10(s_or_p)\n",
    "    logx = np.log10(x)\n",
    "    \n",
    "    if sigma or Lz:\n",
    "        logx = np.log10(1 + np.array(x)) #representing 1+z\n",
    "    \n",
    "    if Lz:\n",
    "        logSP = logSP[tel]\n",
    "        logx = logx[tel]\n",
    "    \n",
    "    args = np.polyfit(logx, logSP, order)\n",
    "    if print_coeffs:\n",
    "        print(args)\n",
    "    \n",
    "    fig, ax = plt.subplots()\n",
    "    \n",
    "    if prev:\n",
    "        plt.close()\n",
    "        fig, ax = prev\n",
    "    \n",
    "    if sigma:\n",
    "        plt.ylim([0, 2.3])\n",
    "        plt.xlim([0, 0.7])\n",
    "        ax.scatter(logx, logSP, label=telname)\n",
    "        ax.plot(np.linspace(0, 0.7, 50), unpack(args, np.linspace(0, 0.7, 50)), label='best fit')\n",
    "        ax.set_xlabel('log(1+z)')\n",
    "        ax.set_ylabel('log(sigma)')\n",
    "        ax.set_title('log(sigma) vs. log(1+z)')\n",
    "        ax.legend()\n",
    "    \n",
    "    elif phi:\n",
    "        plt.ylim([0, 2.3])\n",
    "        plt.xlim([32, 36])\n",
    "        if old:\n",
    "            plt.xlim([25, 29])\n",
    "        ax.scatter(logx, logSP, label=telname)\n",
    "        if old:\n",
    "            ax.plot(np.linspace(25, 29, 50), unpack(args, np.linspace(25, 29, 50)), label='best fit')\n",
    "        else:\n",
    "            ax.plot(np.linspace(32, 36, 50), unpack(args, np.linspace(32, 36, 50)), label='best fit')\n",
    "        ax.set_xlabel('log(L\\')')\n",
    "        ax.set_ylabel('log(phi)')\n",
    "        ax.set_title('log(phi) vs. log(L\\')')\n",
    "        ax.legend()\n",
    "    \n",
    "    elif Lz:\n",
    "        plt.ylim([31, 37])\n",
    "        plt.xlim([0, 0.7])\n",
    "        ax.scatter(logx, logSP, label=telname)\n",
    "        ax.plot(np.linspace(0, 0.7, 50), unpack(args, np.linspace(0, 0.7, 50)), label='best fit')\n",
    "        ax.set_xlabel('log(1+z)')\n",
    "        ax.set_ylabel('log(L)')\n",
    "        ax.set_title('log(L) vs. log(1+z)')\n",
    "        ax.legend()\n",
    "        \n",
    "    return fig, ax, args\n",
    "\n",
    "hide_toggle()"
   ]
  },
  {
   "cell_type": "markdown",
   "metadata": {},
   "source": [
    "## L-Llim\n",
    "```python\n",
    "- LLlim(L, Llim, z, k=0, TELESCOPE=ALL, prev=None)\n",
    "```"
   ]
  },
  {
   "cell_type": "code",
   "execution_count": 29,
   "metadata": {},
   "outputs": [
    {
     "data": {
      "text/html": [
       "\n",
       "        <script>\n",
       "            function code_toggle_10444057174497414300() {\n",
       "                $('div.cell.code_cell.rendered.selected').find('div.input').toggle();\n",
       "            }\n",
       "\n",
       "            \n",
       "        </script>\n",
       "\n",
       "        <a href=\"javascript:code_toggle_10444057174497414300()\">Toggle show/hide</a>\n",
       "    "
      ],
      "text/plain": [
       "<IPython.core.display.HTML object>"
      ]
     },
     "execution_count": 29,
     "metadata": {},
     "output_type": "execute_result"
    }
   ],
   "source": [
    "def LLlim(L, Llim, z, k=0, TELESCOPE=ALL, prev=None):\n",
    "    tel, telname, F_LIM, color = TELESCOPE\n",
    "    \n",
    "    fig, ax = plt.subplots()\n",
    "    \n",
    "    if prev:\n",
    "        plt.close() #closes the window with nothing on it\n",
    "        fig, ax = prev #continues working on previous fig\n",
    "        \n",
    "    plt.yscale('log')\n",
    "    plt.xscale('log')\n",
    "    plt.ylim([1e31, 1e37])\n",
    "    plt.xlim([1e31, 1e37])\n",
    "    ax.scatter(new_L(Llim[tel],z[tel],k=k), new_L(L[tel],z[tel],k=k), label=telname, color=color)\n",
    "    ax.plot([1e31, 1e37], [1e31, 1e37], color='black')\n",
    "    ax.set_xlabel('L_lim\\'')\n",
    "    ax.set_ylabel('L\\'')\n",
    "    ax.set_title('L\\' vs. L_lim\\'')\n",
    "    ax.legend()\n",
    "    \n",
    "    return fig, ax\n",
    "hide_toggle()"
   ]
  },
  {
   "cell_type": "code",
   "execution_count": 30,
   "metadata": {},
   "outputs": [
    {
     "data": {
      "text/html": [
       "\n",
       "        <script>\n",
       "            function code_toggle_18179349679618480196() {\n",
       "                $('div.cell.code_cell.rendered.selected').find('div.input').toggle();\n",
       "            }\n",
       "\n",
       "            \n",
       "        </script>\n",
       "\n",
       "        <a href=\"javascript:code_toggle_18179349679618480196()\">Toggle show/hide</a>\n",
       "    "
      ],
      "text/plain": [
       "<IPython.core.display.HTML object>"
      ]
     },
     "execution_count": 30,
     "metadata": {},
     "output_type": "execute_result"
    }
   ],
   "source": [
    "#essentially an LLlim plot comparing k=0 to k=k for debugging purposes\n",
    "def LLlim_change(L, Llim, z, k=0, TELESCOPE=ALL, prev=None):\n",
    "    tel, telname, F_LIM, color = TELESCOPE\n",
    "    \n",
    "    fig, ax = plt.subplots()\n",
    "    if prev:\n",
    "        plt.close()\n",
    "        fig, ax = prev\n",
    "    \n",
    "    plt.yscale('log')\n",
    "    plt.xscale('log')\n",
    "    plt.ylim([1e31, 1e37])\n",
    "    plt.xlim([1e31, 1e37])\n",
    "    ax.scatter(Llim[tel], L[tel], label=telname, color='orange')\n",
    "    Llim_ = new_L(Llim[tel], z[tel], k=k)\n",
    "    L_ = new_L(L[tel], z[tel], k=k)\n",
    "    ax.scatter(Llim_, L_, label=telname + f'(k = {k})', color='blue')\n",
    "    for i in range(len(L_)):\n",
    "        ax.plot([Llim[tel][i],Llim_[i]], [L[tel][i], L_[i]], color='pink')\n",
    "    ax.plot([1e31, 1e37], [1e31, 1e37], color='black')\n",
    "    ax.set_xlabel('L_lim\\'')\n",
    "    ax.set_ylabel('L\\'')\n",
    "    ax.set_title('L\\' vs. L_lim\\'')\n",
    "    ax.legend()\n",
    "    \n",
    "    return fig, ax\n",
    "hide_toggle()"
   ]
  },
  {
   "cell_type": "markdown",
   "metadata": {},
   "source": [
    "## Example Graphs:"
   ]
  },
  {
   "cell_type": "code",
   "execution_count": 31,
   "metadata": {},
   "outputs": [
    {
     "data": {
      "image/png": "[encoded data removed]",
      "text/plain": [
       "<Figure size 432x288 with 1 Axes>"
      ]
     },
     "metadata": {
      "needs_background": "light"
     },
     "output_type": "display_data"
    }
   ],
   "source": [
    "list_k, list_t, k1, kn1, k0 = tkgraph(L_p, z, d_L, TELESCOPE=NEW_PARKES, k_min=0, k_max=10)\n",
    "fig, ax = tkplot(list_k, list_t, k1, kn1, k0, TELESCOPE=NEW_PARKES, k_min=0, k_max=10)"
   ]
  },
  {
   "cell_type": "code",
   "execution_count": 32,
   "metadata": {},
   "outputs": [
    {
     "data": {
      "image/png": "[encoded data removed]",
      "text/plain": [
       "<Figure size 432x288 with 1 Axes>"
      ]
     },
     "metadata": {
      "needs_background": "light"
     },
     "output_type": "display_data"
    }
   ],
   "source": [
    "k=7.61\n",
    "NN_PARKES = (slice(27, 54, None), 'Parkes', 0.3, None)\n",
    "fig, ax = LLlim(L_p, L_lim, z, k=k, TELESCOPE=NN_PARKES)\n",
    "fig, ax = LLlim(L_p, L_lim, z, k=0, TELESCOPE=NN_PARKES, prev=(fig,ax))"
   ]
  },
  {
   "cell_type": "code",
   "execution_count": 33,
   "metadata": {},
   "outputs": [
    {
     "data": {
      "image/png": "[encoded data removed]",
      "text/plain": [
       "<Figure size 432x288 with 1 Axes>"
      ]
     },
     "metadata": {
      "needs_background": "light"
     },
     "output_type": "display_data"
    }
   ],
   "source": [
    "fig, ax = graphLz(L_lim, z, d_L, k=7.61, TELESCOPE=ASKAP, L_str='L\\'')\n",
    "#fig, ax = graphLz(L_p, z, d_L, k=7.61, TELESCOPE=NN_PARKES, prev=(fig,ax), L_str='L\\'')"
   ]
  },
  {
   "cell_type": "code",
   "execution_count": 34,
   "metadata": {},
   "outputs": [
    {
     "data": {
      "image/png": "[encoded data removed]",
      "text/plain": [
       "<Figure size 432x288 with 1 Axes>"
      ]
     },
     "metadata": {
      "needs_background": "light"
     },
     "output_type": "display_data"
    }
   ],
   "source": [
    "fig, ax = LLlim_change(L_p, L_lim, z, k=k, TELESCOPE=NN_PARKES)"
   ]
  },
  {
   "cell_type": "code",
   "execution_count": 35,
   "metadata": {
    "scrolled": true
   },
   "outputs": [
    {
     "data": {
      "image/png": "[encoded data removed]",
      "text/plain": [
       "<Figure size 432x288 with 1 Axes>"
      ]
     },
     "metadata": {
      "needs_background": "light"
     },
     "output_type": "display_data"
    }
   ],
   "source": [
    "fig, ax = graphLz(L_p, z, d_L, k=k0, TELESCOPE=NEW_PARKES, L_str='L_p\\'')"
   ]
  },
  {
   "cell_type": "code",
   "execution_count": 36,
   "metadata": {},
   "outputs": [
    {
     "name": "stdout",
     "output_type": "stream",
     "text": [
      "[ 3.16525901 33.4873127 ]\n"
     ]
    },
    {
     "data": {
      "image/png": "[encoded data removed]",
      "text/plain": [
       "<Figure size 432x288 with 1 Axes>"
      ]
     },
     "metadata": {
      "needs_background": "light"
     },
     "output_type": "display_data"
    }
   ],
   "source": [
    "fig, ax, argsLz = loglogpfit(L_p, z, Lz=True, TELESCOPE=NEW_PARKES, order=1)"
   ]
  },
  {
   "cell_type": "code",
   "execution_count": 37,
   "metadata": {},
   "outputs": [
    {
     "name": "stdout",
     "output_type": "stream",
     "text": [
      "-1.43\n"
     ]
    },
    {
     "data": {
      "image/png": "[encoded data removed]",
      "text/plain": [
       "<Figure size 432x288 with 1 Axes>"
      ]
     },
     "metadata": {
      "needs_background": "light"
     },
     "output_type": "display_data"
    }
   ],
   "source": [
    "list_k, list_t, k1, kn1, k0 = tk_graph2(L_p, L_lim, TELESCOPE=NEW_PARKES, k_min=-20, k_max=20)\n",
    "fig, ax = tkplot(list_k, list_t, k1, kn1, k0, TELESCOPE=NEW_PARKES, k_min=-20, k_max=20, NAT=True, PLOT_LINES=False)\n",
    "ax.set_title('[ALL FRBs] τ(k) for L_p\\' vs. L_{p,lim}\\'')\n",
    "print(k0)"
   ]
  },
  {
   "cell_type": "code",
   "execution_count": 38,
   "metadata": {},
   "outputs": [
    {
     "data": {
      "text/plain": [
       "[1.3101181929463999e+35,\n",
       " 8.648827133122714e+34,\n",
       " 4.4803159315416265e+35,\n",
       " 1.1333202361128027e+34,\n",
       " 2.3419000191549705e+34,\n",
       " 4.091286052367217e+34,\n",
       " 6.325520649091471e+34,\n",
       " 2.181818535804037e+34,\n",
       " 6.325520649091471e+34,\n",
       " 1.4892536227669793e+33,\n",
       " 1.3489344110332629e+35,\n",
       " 3.9117256274580937e+33,\n",
       " 7.713660857042764e+33,\n",
       " 1.951860776645274e+35,\n",
       " 4.533280944451211e+34,\n",
       " 5.865640547031323e+34,\n",
       " 7.5146214905754505e+34,\n",
       " 2.946809695180179e+34,\n",
       " 1.5620163235511594e+35,\n",
       " 4.7882779975765896e+33,\n",
       " 7.083251475705015e+34,\n",
       " 4.364876640616322e+34,\n",
       " 7.297342751558199e+34,\n",
       " 2.5570537827295112e+33,\n",
       " 1.735573692834621e+34,\n",
       " 4.254377917595325e+34,\n",
       " 5.801360039889301e+34,\n",
       " 8.847722920168221e+32,\n",
       " 3.980344626128987e+33,\n",
       " 1.4066332374797521e+34,\n",
       " 3.038140565390232e+32,\n",
       " 7.23783865318155e+32,\n",
       " 7.236438753818953e+33,\n",
       " 1.6113200612047202e+32,\n",
       " 8.132912768712868e+33,\n",
       " 3.908949758636535e+33,\n",
       " 1.2158449017854925e+34,\n",
       " 2.102146314644536e+33,\n",
       " 3.0712535695439704e+34,\n",
       " 7.59535141347558e+33,\n",
       " 1.2418184191899866e+33,\n",
       " 6.483508265874416e+33,\n",
       " 4.39711979277296e+33,\n",
       " 2.172213072485294e+33,\n",
       " 3.9564745472539326e+33,\n",
       " 2.79409144317747e+33,\n",
       " 2.5387749258385728e+34,\n",
       " 4.414640071718695e+34,\n",
       " 9.2631699771605e+33,\n",
       " 1.0130964002548903e+35,\n",
       " 4.938877256612496e+34,\n",
       " 3.0381405653902315e+32,\n",
       " 8.983491621426869e+34,\n",
       " 5.177477539767765e+34,\n",
       " 1.3797982435444294e+32,\n",
       " 7.969016858722652e+32,\n",
       " 1.9822933922929536e+33,\n",
       " 3.957407813495666e+32,\n",
       " 2.128205979702113e+32,\n",
       " 1.9656022845081414e+34,\n",
       " 2.102146314644536e+33,\n",
       " 4.109602000608787e+32]"
      ]
     },
     "execution_count": 38,
     "metadata": {},
     "output_type": "execute_result"
    }
   ],
   "source": [
    "L_lim"
   ]
  },
  {
   "cell_type": "code",
   "execution_count": 39,
   "metadata": {},
   "outputs": [
    {
     "name": "stdout",
     "output_type": "stream",
     "text": [
      "-1.43\n",
      "(slice(54, 62, None), 'CHIME', 0.3, '#2ca02c')\n"
     ]
    },
    {
     "data": {
      "image/png": "[encoded data removed]",
      "text/plain": [
       "<Figure size 432x288 with 1 Axes>"
      ]
     },
     "metadata": {
      "needs_background": "light"
     },
     "output_type": "display_data"
    }
   ],
   "source": [
    "#fig, ax = LLlim(L_p, L_lim, z, k=0, TELESCOPE=(slice(54,62), 'CHIME', 0.3, None))\n",
    "#fig, ax = LLlim(L_p, L_lim, z, k=1, TELESCOPE=(slice(54,62), 'CHIME_1', 0.3, None), prev=(fig,ax))\n",
    "#fig, ax = LLlim(L_p, L_lim, z, k=2, TELESCOPE=(slice(54,62), 'CHIME_2', 0.3, None))\n",
    "#fig, ax = LLlim(L_p, L_lim, z, k=3, TELESCOPE=(slice(54,62), 'CHIME_3', 0.3, None), prev=(fig,ax))\n",
    "#fig, ax = LLlim(L_p, L_lim, z, k=4, TELESCOPE=(slice(54,62), 'CHIME_4', 0.3, None), prev=(fig,ax))\n",
    "#fig, ax = LLlim(L_p, L_lim, z, k=5, TELESCOPE=(slice(54,62), 'CHIME_5', 0.3, None), prev=(fig,ax))\n",
    "#fig, ax = LLlim(L_p, L_lim, z, k=6, TELESCOPE=(slice(54,62), 'CHIME_6', 0.3, None))\n",
    "# fig, ax = LLlim(L_p, L_lim, z, k=7, TELESCOPE=(slice(54,62), 'CHIME_7', 0.3, None), prev=(fig,ax))\n",
    "# fig, ax = LLlim(L_p, L_lim, z, k=8, TELESCOPE=(slice(54,62), 'CHIME_8', 0.3, None), prev=(fig,ax))\n",
    "#fig, ax = LLlim(L_p, L_lim, z, k=9, TELESCOPE=(slice(54,62), 'CHIME_9', 0.3, None))\n",
    "fig, ax = LLlim(L_p, L_lim, z, k=8, TELESCOPE=NEW_PARKES)\n",
    "plt.title('Parkes L-Llim at k=8')\n",
    "print(k0)\n",
    "print(CHIME)"
   ]
  },
  {
   "cell_type": "code",
   "execution_count": null,
   "metadata": {},
   "outputs": [],
   "source": []
  },
  {
   "cell_type": "markdown",
   "metadata": {},
   "source": [
    "# Actual LFD stuff"
   ]
  },
  {
   "cell_type": "markdown",
   "metadata": {},
   "source": [
    "## sigma_z\n",
    "```python\n",
    "- sigma_z(L, z, d_L, func=L_lim1, g=g_new, TELESCOPE=ALL)\n",
    "```"
   ]
  },
  {
   "cell_type": "code",
   "execution_count": 40,
   "metadata": {},
   "outputs": [
    {
     "data": {
      "text/html": [
       "\n",
       "        <script>\n",
       "            function code_toggle_8493869679633257861() {\n",
       "                $('div.cell.code_cell.rendered.selected').find('div.input').toggle();\n",
       "            }\n",
       "\n",
       "            \n",
       "        </script>\n",
       "\n",
       "        <a href=\"javascript:code_toggle_8493869679633257861()\">Toggle show/hide</a>\n",
       "    "
      ],
      "text/plain": [
       "<IPython.core.display.HTML object>"
      ]
     },
     "execution_count": 40,
     "metadata": {},
     "output_type": "execute_result"
    }
   ],
   "source": [
    "def sigma_z(L, z, d_L, func=L_lim1, g=g_new, TELESCOPE=ALL): #z0 being the z of interest\n",
    "    \n",
    "    tel, telname, F_LIM, color = TELESCOPE\n",
    "    \n",
    "    z, L, d_L = sort_by_1(z[tel], L[tel], d_L[tel])\n",
    "    zs_actual = []\n",
    "    m = []\n",
    "    for i in range(len(L)):\n",
    "        num = 0\n",
    "        \n",
    "        if(L[i] < func(F_LIM, z[i], d_L[i], g=g)): #skip all those under limit\n",
    "            print(z[i])\n",
    "            continue\n",
    "        \n",
    "        #if above limit, add to list of indices\n",
    "        zs_actual.append(z[i])\n",
    "        \n",
    "        for j in range(0, i): #since sorted by now, only j < i has z_j < z_i\n",
    "            if(L[j] >= func(F_LIM, z[i], d_L[i], g=g) and z[j] <= z[i]): #associated set requirements\n",
    "                num += 1\n",
    "        \n",
    "        m.append(num+1) #includes itself?\n",
    "    \n",
    "    sigma = []\n",
    "    prod = 1\n",
    "    for j in range(len(m)):\n",
    "        prod *= (1 + 1/m[j])\n",
    "        sigma.append(prod)\n",
    "    \n",
    "    return sigma, zs_actual\n",
    "\n",
    "hide_toggle()"
   ]
  },
  {
   "cell_type": "code",
   "execution_count": 41,
   "metadata": {},
   "outputs": [
    {
     "name": "stdout",
     "output_type": "stream",
     "text": [
      "0.69\n",
      "0.95\n",
      "2.0\n"
     ]
    }
   ],
   "source": [
    "sigma, z_ = sigma_z(L_p, z, d_L, TELESCOPE=NEW_PARKES)"
   ]
  },
  {
   "cell_type": "code",
   "execution_count": 42,
   "metadata": {},
   "outputs": [
    {
     "data": {
      "image/png": "[encoded data removed]",
      "text/plain": [
       "<Figure size 432x288 with 1 Axes>"
      ]
     },
     "metadata": {
      "needs_background": "light"
     },
     "output_type": "display_data"
    }
   ],
   "source": [
    "fig, ax = graphSz(sigma, z_, TELESCOPE=NEW_PARKES)"
   ]
  },
  {
   "cell_type": "code",
   "execution_count": 43,
   "metadata": {},
   "outputs": [
    {
     "name": "stdout",
     "output_type": "stream",
     "text": [
      "2.0\n",
      "3.0\n",
      "4.0\n",
      "5.333333333333333\n",
      "6.666666666666666\n",
      "7.999999999999999\n",
      "9.333333333333332\n",
      "10.666666666666664\n",
      "11.999999999999996\n",
      "13.71428571428571\n",
      "15.428571428571423\n",
      "17.14285714285714\n",
      "19.047619047619044\n",
      "21.16402116402116\n",
      "23.28042328042328\n",
      "25.608465608465607\n",
      "28.16931216931217\n",
      "30.73015873015873\n",
      "36.87619047619047\n",
      "46.09523809523809\n",
      "61.46031746031745\n",
      "81.94708994708992\n",
      "102.4338624338624\n",
      "136.57848324514987\n"
     ]
    }
   ],
   "source": [
    "for i in range(len(sigma)):\n",
    "    print(sigma[i])"
   ]
  },
  {
   "cell_type": "markdown",
   "metadata": {},
   "source": [
    "## functions for creation of any L_lim\n",
    "```python\n",
    "- manual_dL(z, O_M=0.286, O_V=0.714, H_0=69.6, dz = 1e-5)\n",
    "- manual_Llim(F_lim, z_i, g=g_new, k=0)\n",
    "- manual_dVdz(z, O_M=0.286, O_V=0.714, H_0=69.6, dz= 1e-5, prev=None)\n",
    "```"
   ]
  },
  {
   "cell_type": "code",
   "execution_count": 44,
   "metadata": {},
   "outputs": [
    {
     "data": {
      "text/html": [
       "\n",
       "        <script>\n",
       "            function code_toggle_4820603806753490413() {\n",
       "                $('div.cell.code_cell.rendered.selected').find('div.input').toggle();\n",
       "            }\n",
       "\n",
       "            \n",
       "        </script>\n",
       "\n",
       "        <a href=\"javascript:code_toggle_4820603806753490413()\">Toggle show/hide</a>\n",
       "    "
      ],
      "text/plain": [
       "<IPython.core.display.HTML object>"
      ]
     },
     "execution_count": 44,
     "metadata": {},
     "output_type": "execute_result"
    }
   ],
   "source": [
    "def manual_dL(z, O_M=0.286, O_V=0.714, H_0=69.6, dz = 1e-5, prev=None):\n",
    "    d_H = 299792458/(H_0*3.24077929e-20) #Hubble Distance, in meters!\n",
    "    \n",
    "    #numerical integration\n",
    "    z_cur = 0\n",
    "    integral = 0\n",
    "    \n",
    "    if prev: #already integrated up to a certain point\n",
    "        z_cur, d_L = prev #assume format is [z, d_L]\n",
    "        integral = d_L/(d_H*(1+z_cur))\n",
    "    \n",
    "    while(z_cur < z):\n",
    "        dI = dz/(O_M*(1+z_cur)**3 + O_V)**0.5\n",
    "        z_cur += dz\n",
    "        dI2 = dz/(O_M*(1+z_cur)**3 + O_V)**0.5\n",
    "        integral += (dI+dI2)/2\n",
    "    \n",
    "    return integral*(1+z)*d_H\n",
    "\n",
    "def manual_Llim(F_lim, z_i, g=g_new, k=0, prev=None):\n",
    "    if not prev:\n",
    "        return (F_lim*1e-19)*4*math.pi*(manual_dL(z_i, prev=prev))**2/g(z_i, k)\n",
    "    d_L = manual_dL(z_i, prev=prev)\n",
    "    return [(F_lim*1e-19)*4*math.pi*(d_L)**2/g(z_i, k), d_L]\n",
    "\n",
    "def manual_dVdz(z, O_M=0.286, O_V=0.714, H_0=69.6, dz= 1e-5, prev=None):\n",
    "    d_H = 299792458/(H_0*3.24077929e-20) #Hubble Distance, in meters!\n",
    "    \n",
    "    #numerical integration\n",
    "    z_cur = 0\n",
    "    integral = 0\n",
    "    \n",
    "    if prev:\n",
    "        z_cur, integral = prev\n",
    "    \n",
    "    while(z_cur < z):\n",
    "        dI = dz/(O_M*(1+z_cur)**3 + O_V)**0.5\n",
    "        z_cur += dz\n",
    "        dI2 = dz/(O_M*(1+z_cur)**3 + O_V)**0.5\n",
    "        integral += (dI+dI2)/2\n",
    "    \n",
    "    if not prev:\n",
    "        return 4*math.pi*(d_H**3)*integral**2/(O_M*(1+z_cur)**3 + O_V)**0.5\n",
    "    return [4*math.pi*(d_H**3)*integral**2/(O_M*(1+z_cur)**3 + O_V)**0.5, integral]\n",
    "\n",
    "hide_toggle()"
   ]
  },
  {
   "cell_type": "markdown",
   "metadata": {},
   "source": [
    "## random progress bar function\n",
    "```python\n",
    "- print_progress(i, l, prefix='PROGRESS:', suffix='COMPLETE', decimals=1, length=50, fill='█', empty='-')\n",
    "```"
   ]
  },
  {
   "cell_type": "code",
   "execution_count": 45,
   "metadata": {},
   "outputs": [
    {
     "data": {
      "text/html": [
       "\n",
       "        <script>\n",
       "            function code_toggle_14774503031724196905() {\n",
       "                $('div.cell.code_cell.rendered.selected').find('div.input').toggle();\n",
       "            }\n",
       "\n",
       "            \n",
       "        </script>\n",
       "\n",
       "        <a href=\"javascript:code_toggle_14774503031724196905()\">Toggle show/hide</a>\n",
       "    "
      ],
      "text/plain": [
       "<IPython.core.display.HTML object>"
      ]
     },
     "execution_count": 45,
     "metadata": {},
     "output_type": "execute_result"
    }
   ],
   "source": [
    "def print_progress(i, l, prefix='PROGRESS:', suffix='COMPLETE', decimals=1, length=50, fill='█', empty='-'):\n",
    "    blocks = int(i*length/l)\n",
    "    spaces = length-blocks\n",
    "    percent = round(100*i/l,decimals)\n",
    "    bar = blocks*fill + spaces*empty\n",
    "    print(f\"\\r{prefix} |{bar}| {percent}% {suffix}\", end=' ')\n",
    "    \n",
    "    #note; some errors when progress goes too fast\n",
    "\n",
    "hide_toggle()"
   ]
  },
  {
   "cell_type": "markdown",
   "metadata": {},
   "source": [
    "## functions for Phi\n",
    "```python\n",
    "- get_max_z(zrange, L_cutoffs, L)\n",
    "- create_Lcutoffs(TELESCOPE=ALL)\n",
    "- phi_L(L_p, z, k=0, L_cutoffs=None, zrange=None, func=L_lim1, g=g_new, TELESCOPE=ALL)\n",
    "```"
   ]
  },
  {
   "cell_type": "code",
   "execution_count": 123,
   "metadata": {},
   "outputs": [
    {
     "data": {
      "text/html": [
       "\n",
       "        <script>\n",
       "            function code_toggle_7833166774970087709() {\n",
       "                $('div.cell.code_cell.rendered.selected').find('div.input').toggle();\n",
       "            }\n",
       "\n",
       "            \n",
       "        </script>\n",
       "\n",
       "        <a href=\"javascript:code_toggle_7833166774970087709()\">Toggle show/hide</a>\n",
       "    "
      ],
      "text/plain": [
       "<IPython.core.display.HTML object>"
      ]
     },
     "execution_count": 123,
     "metadata": {},
     "output_type": "execute_result"
    }
   ],
   "source": [
    "def get_max_z(zrange, L_cutoffs, L):\n",
    "    idx = np.argwhere(np.diff(np.sign(np.array(L_cutoffs) - L))).flatten()\n",
    "    if(len(idx) < 1):\n",
    "        return 1e300\n",
    "    return np.array(zrange)[idx][0]\n",
    "\n",
    "def create_Lcutoffs(TELESCOPE=ALL):\n",
    "    tel, telname, F_LIM, color = TELESCOPE\n",
    "    \n",
    "    #creation of the cutoff luminosities\n",
    "    zrange = np.linspace(0, 2.25, num=2000)\n",
    "    L_cutoffs = []\n",
    "    \n",
    "    prev = (0, 0)\n",
    "\n",
    "    for i in range(len(zrange)):\n",
    "        L_lim, d_L = manual_Llim(F_LIM, zrange[i], g=g_new, k=0, prev=prev)\n",
    "        L_cutoffs.append(L_lim)\n",
    "        prev = (zrange[i], d_L)\n",
    "        \n",
    "    zrange, L_cutoffs = sort_by_first(zrange, L_cutoffs)\n",
    "    return zrange, L_cutoffs\n",
    "\n",
    "def phi_L(L_p, z, k=0, L_cutoffs=None, zrange=None, func=L_lim1, g=g_new, TELESCOPE=ALL): #z0 being the z of interest\n",
    "    \n",
    "    tel, telname, F_LIM, color = TELESCOPE\n",
    "    \n",
    "    #creating the L_cutoffs and zrange if None\n",
    "    if (not L_cutoffs) or (not zrange):\n",
    "        zrange, L_cutoffs = create_Lcutoffs(TELESCOPE=TELESCOPE)\n",
    "    cutoffs_prime = new_L(L_cutoffs, zrange, k=k, g=g_new)\n",
    "    #####################################\n",
    "    \n",
    "    #creation of L_prime\n",
    "    Lprime = new_L(L_p[tel], z[tel], k=k, g=g_new)\n",
    "    ####################\n",
    "    \n",
    "    Lprime, z = sort_by_first(Lprime, z[tel], reverse=True)\n",
    "    L_actuals = [] # only return the luminosities that are above the limit\n",
    "    n = []\n",
    "    for i in range(len(z)):\n",
    "        num = 0\n",
    "        z_max = get_max_z(zrange, cutoffs_prime, Lprime[i])\n",
    "        \n",
    "        if (z[i] > z_max): #skip things under limit\n",
    "            ax.scatter(z[i], Lprime[i])\n",
    "            print(z[i])\n",
    "            continue\n",
    "            \n",
    "        L_actuals.append(Lprime[i])\n",
    "        \n",
    "        for j in range(0, i): #since sorted by largest L' to smallest\n",
    "                            #should only include L'[j] > L'[i]\n",
    "                \n",
    "            if(Lprime[j] >= Lprime[i] and z[j] <= z_max): #associated set requirements\n",
    "                num += 1\n",
    "        \n",
    "        n.append(num+1) #includes itself?\n",
    "    \n",
    "    phi = []\n",
    "    prod = 1\n",
    "    for l in range(len(n)):\n",
    "        prod *= (1 + 1/n[l])\n",
    "        phi.append(prod)\n",
    "    \n",
    "    return phi, L_actuals\n",
    "\n",
    "hide_toggle()"
   ]
  },
  {
   "cell_type": "code",
   "execution_count": 124,
   "metadata": {},
   "outputs": [
    {
     "name": "stdout",
     "output_type": "stream",
     "text": [
      "2.0\n",
      "0.95\n",
      "0.69\n"
     ]
    }
   ],
   "source": [
    "NN_PARKES = (slice(27, 54), 'Parkes', 0.29, 'ff7f0e')\n",
    "zrange, L_cutoffs = create_Lcutoffs(TELESCOPE=NN_PARKES)\n",
    "phi, Lprime = phi_L(L_p, z, k=2.6, L_cutoffs=L_cutoffs, zrange=zrange, TELESCOPE=NN_PARKES)\n"
   ]
  },
  {
   "cell_type": "code",
   "execution_count": 127,
   "metadata": {},
   "outputs": [
    {
     "name": "stdout",
     "output_type": "stream",
     "text": [
      "8.763069467615085e+34\n",
      "8.566404789629308e+34\n",
      "4.636565880006141e+34\n",
      "3.805800921445755e+34\n",
      "3.660143984618289e+34\n",
      "2.710189915498122e+34\n",
      "2.3373367899449704e+34\n",
      "2.1470469643407034e+34\n",
      "1.898020583529569e+34\n",
      "1.877181949133352e+34\n",
      "1.8270155632146417e+34\n",
      "1.6552653127596186e+34\n",
      "1.4234988975294123e+34\n",
      "1.3017328388593384e+34\n",
      "1.2674029756842977e+34\n",
      "1.1898168389420905e+34\n",
      "8.46162971935083e+33\n",
      "8.274075917797688e+33\n",
      "7.488413958976006e+33\n",
      "4.276508089483127e+33\n",
      "3.368705671644532e+33\n",
      "3.230350885713167e+33\n",
      "3.22868263910721e+33\n",
      "5.653544847075215e+32\n"
     ]
    },
    {
     "data": {
      "image/png": "[encoded data removed]",
      "text/plain": [
       "<Figure size 432x288 with 1 Axes>"
      ]
     },
     "metadata": {
      "needs_background": "light"
     },
     "output_type": "display_data"
    }
   ],
   "source": [
    "fig, ax = graphPL(phi, Lprime, TELESCOPE=NEW_PARKES)\n",
    "ax.set_title('phi(L\\') vs L\\' (k=2.6)')\n",
    "\n",
    "for i in range(len(phi)):\n",
    "    print(Lprime[i])"
   ]
  },
  {
   "cell_type": "code",
   "execution_count": 45,
   "metadata": {},
   "outputs": [
    {
     "name": "stdout",
     "output_type": "stream",
     "text": [
      "[-7.71506238e+02  9.64070653e+02 -4.06780220e+02  5.91952546e+01\n",
      "  4.09764416e+00 -8.19452993e-04]\n"
     ]
    },
    {
     "data": {
      "image/png": "[encoded data removed]",
      "text/plain": [
       "<Figure size 432x288 with 1 Axes>"
      ]
     },
     "metadata": {
      "needs_background": "light"
     },
     "output_type": "display_data"
    }
   ],
   "source": [
    "fig, ax, argsSig = loglogpfit(sigma, z_, sigma=True, TELESCOPE=NEW_PARKES, order=5)"
   ]
  },
  {
   "cell_type": "code",
   "execution_count": 72,
   "metadata": {},
   "outputs": [
    {
     "name": "stdout",
     "output_type": "stream",
     "text": [
      "[ 6.92133630e-01 -9.42048130e+01  4.80750833e+03 -1.09023621e+05\n",
      "  9.27027755e+05]\n"
     ]
    },
    {
     "data": {
      "image/png": "[encoded data removed]",
      "text/plain": [
       "<Figure size 432x288 with 1 Axes>"
      ]
     },
     "metadata": {
      "needs_background": "light"
     },
     "output_type": "display_data"
    }
   ],
   "source": [
    "fig, ax, argsPhi = loglogpfit(phi, Lprime, phi=True, TELESCOPE=NEW_PARKES, order=4)"
   ]
  },
  {
   "cell_type": "markdown",
   "metadata": {},
   "source": [
    "# NEW LF Functions, unique to version 2.0"
   ]
  },
  {
   "cell_type": "code",
   "execution_count": 162,
   "metadata": {},
   "outputs": [],
   "source": [
    "def derivative(args, logx, phi=False, sigma=False):\n",
    "    if not (sigma or phi):\n",
    "        raise Exception('specify a preset using sigma=True or phi=True')\n",
    "    \n",
    "    logx = np.array(logx)\n",
    "    if sigma:\n",
    "        logx = 1+logx\n",
    "    \n",
    "    poly = np.zeros(len(logx))\n",
    "    for j in range(len(args)):\n",
    "        n = len(args)-j-1\n",
    "        if n >= 0:\n",
    "            poly += n*args[j]*(logx**(n-1))\n",
    "    return poly"
   ]
  },
  {
   "cell_type": "code",
   "execution_count": 163,
   "metadata": {},
   "outputs": [],
   "source": [
    "devPhi = derivative(argsPhi, np.log10(Lprime), phi=True)"
   ]
  },
  {
   "cell_type": "code",
   "execution_count": 164,
   "metadata": {},
   "outputs": [
    {
     "data": {
      "text/plain": [
       "<matplotlib.legend.Legend at 0x11b7cdcf8>"
      ]
     },
     "execution_count": 164,
     "metadata": {},
     "output_type": "execute_result"
    },
    {
     "data": {
      "image/png": "[encoded data removed]",
      "text/plain": [
       "<Figure size 432x288 with 1 Axes>"
      ]
     },
     "metadata": {
      "needs_background": "light"
     },
     "output_type": "display_data"
    }
   ],
   "source": [
    "fig, ax = plt.subplots()\n",
    "plt.ylim([-2.3, 2.3])\n",
    "plt.xlim([25, 29])\n",
    "ax.scatter(np.log10(Lprime), np.log10(phi), label='Parkes')\n",
    "ax.scatter(np.log10(Lprime), devPhi, label='dev')\n",
    "ax.plot(np.linspace(25, 29, 50), unpack(argsPhi, np.linspace(25, 29, 50)), label='best fit')\n",
    "ax.set_xlabel('log(L\\')')\n",
    "ax.set_ylabel('log(phi)')\n",
    "ax.set_title('log(phi) vs. log(L\\')')\n",
    "ax.legend()"
   ]
  },
  {
   "cell_type": "code",
   "execution_count": 165,
   "metadata": {},
   "outputs": [],
   "source": [
    "def psi_L(phi, Lprime, argsPhi):\n",
    "    devPhi = derivative(argsPhi, np.log10(Lprime), phi=True)\n",
    "    return [-phi[i]/Lprime[i] * devPhi[i] for i in range(len(phi))]"
   ]
  },
  {
   "cell_type": "code",
   "execution_count": 166,
   "metadata": {},
   "outputs": [],
   "source": [
    "psi = psi_L(phi, Lprime, argsPhi)"
   ]
  },
  {
   "cell_type": "code",
   "execution_count": 167,
   "metadata": {},
   "outputs": [
    {
     "data": {
      "text/plain": [
       "<matplotlib.legend.Legend at 0x11b780e10>"
      ]
     },
     "execution_count": 167,
     "metadata": {},
     "output_type": "execute_result"
    },
    {
     "data": {
      "image/png": "[encoded data removed]",
      "text/plain": [
       "<Figure size 432x288 with 1 Axes>"
      ]
     },
     "metadata": {
      "needs_background": "light"
     },
     "output_type": "display_data"
    }
   ],
   "source": [
    "fig, ax = plt.subplots()\n",
    "#plt.ylim([-2.3, 2.3])\n",
    "plt.xlim([25, 29])\n",
    "ax.scatter(np.log10(Lprime), np.log10(psi), label='psi(L\\')')\n",
    "ax.set_xlabel('log(L\\')')\n",
    "ax.set_ylabel('log(psi)')\n",
    "ax.set_title('log(psi) vs. log(L\\')')\n",
    "ax.legend()"
   ]
  },
  {
   "cell_type": "code",
   "execution_count": 168,
   "metadata": {},
   "outputs": [],
   "source": [
    "def rho_z(sigma, z_, argsSig):\n",
    "    devSig = derivative(argsSig, np.log10(z_), sigma=True)\n",
    "    dSdz = [sigma[i]/z_[i] * devSig[i] for i in range(len(sigma))]\n",
    "    \n",
    "    z_cur = 0\n",
    "    i = 0\n",
    "    dz = 1e-5\n",
    "    \n",
    "    prev = (0, 0)\n",
    "    \n",
    "    dVdz = []\n",
    "    \n",
    "    while(i < len(z_)):\n",
    "        dVdzi, integral = manual_dVdz(z_[i], prev=prev)\n",
    "        prev = (z_[i], integral)\n",
    "        dVdz.append(dVdzi)\n",
    "        i += 1\n",
    "    \n",
    "    return [(1+z_[i])*dSdz[i]/dVdz[i] for i in range(len(z_))]"
   ]
  },
  {
   "cell_type": "code",
   "execution_count": 169,
   "metadata": {},
   "outputs": [],
   "source": [
    "rho = rho_z(sigma, z_, argsSig)"
   ]
  },
  {
   "cell_type": "code",
   "execution_count": 170,
   "metadata": {},
   "outputs": [
    {
     "data": {
      "text/plain": [
       "<matplotlib.legend.Legend at 0x11b76b4e0>"
      ]
     },
     "execution_count": 170,
     "metadata": {},
     "output_type": "execute_result"
    },
    {
     "data": {
      "image/png": "[encoded data removed]",
      "text/plain": [
       "<Figure size 432x288 with 1 Axes>"
      ]
     },
     "metadata": {
      "needs_background": "light"
     },
     "output_type": "display_data"
    }
   ],
   "source": [
    "fig, ax = plt.subplots()\n",
    "#plt.ylim([-2.3, 2.3])\n",
    "#plt.xlim([0, 0.7])\n",
    "ax.scatter(1+np.log10(z_), np.log10(rho), label='rho(z)')\n",
    "ax.set_xlabel('log(1+z)')\n",
    "ax.set_ylabel('log(rho)')\n",
    "ax.set_title('log(rho) vs. log(1+z)')\n",
    "ax.legend()"
   ]
  },
  {
   "cell_type": "code",
   "execution_count": 96,
   "metadata": {},
   "outputs": [],
   "source": [
    "def fitted_sigma(z, d1=6.4, d2=1.45, Z_c=1.58, n=1.8):\n",
    "    z = np.array(z)\n",
    "    Z = 1+z\n",
    "    num = np.power(z, d1)\n",
    "    denom = np.power(1 + np.power(Z/Z_c, n*(d2-d1)), 1/n)\n",
    "    return num/denom"
   ]
  },
  {
   "cell_type": "code",
   "execution_count": 99,
   "metadata": {},
   "outputs": [
    {
     "data": {
      "text/plain": [
       "array([6.61797652e-07, 5.70242026e-06, 5.70242026e-06, 9.43540589e-05,\n",
       "       1.56730602e-04, 4.90609678e-04, 2.27332343e-03, 2.69823304e-03,\n",
       "       6.00941502e-03, 1.61095435e-02, 1.83416766e-02, 1.83416766e-02,\n",
       "       2.35993633e-02, 7.29544322e-02, 9.86470891e-02, 1.19647331e-01,\n",
       "       1.44237210e-01, 2.06096997e-01, 4.28127360e-01, 6.65269638e-01,\n",
       "       3.12208774e+00, 5.25873455e+00, 1.32731118e+01, 1.78080242e+01,\n",
       "       2.01155872e+01, 8.42939489e+01, 1.15241585e+02])"
      ]
     },
     "execution_count": 99,
     "metadata": {},
     "output_type": "execute_result"
    }
   ],
   "source": [
    "fitted_sigma(z_)"
   ]
  },
  {
   "cell_type": "code",
   "execution_count": 174,
   "metadata": {},
   "outputs": [
    {
     "data": {
      "text/plain": [
       "[0.14,\n",
       " 0.19,\n",
       " 0.19,\n",
       " 0.28,\n",
       " 0.3,\n",
       " 0.35,\n",
       " 0.43,\n",
       " 0.44,\n",
       " 0.49,\n",
       " 0.56,\n",
       " 0.57,\n",
       " 0.57,\n",
       " 0.59,\n",
       " 0.69,\n",
       " 0.72,\n",
       " 0.74,\n",
       " 0.76,\n",
       " 0.8,\n",
       " 0.89,\n",
       " 0.95,\n",
       " 1.2,\n",
       " 1.3,\n",
       " 1.5,\n",
       " 1.57,\n",
       " 1.6,\n",
       " 2.0,\n",
       " 2.1]"
      ]
     },
     "execution_count": 174,
     "metadata": {},
     "output_type": "execute_result"
    }
   ],
   "source": [
    "z_"
   ]
  },
  {
   "cell_type": "code",
   "execution_count": null,
   "metadata": {},
   "outputs": [],
   "source": []
  }
 ],
 "metadata": {
  "kernelspec": {
   "display_name": "Python 3",
   "language": "python",
   "name": "python3"
  },
  "language_info": {
   "codemirror_mode": {
    "name": "ipython",
    "version": 3
   },
   "file_extension": ".py",
   "mimetype": "text/x-python",
   "name": "python",
   "nbconvert_exporter": "python",
   "pygments_lexer": "ipython3",
   "version": "3.7.3"
  }
 },
 "nbformat": 4,
 "nbformat_minor": 2
}
