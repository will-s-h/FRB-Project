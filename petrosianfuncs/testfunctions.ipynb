{
 "cells": [
  {
   "cell_type": "code",
   "execution_count": 122,
   "metadata": {},
   "outputs": [],
   "source": [
    "import unittest\n",
    "import importlib as i\n",
    "import cosmology as c\n",
    "import deprecated as d\n",
    "import numpy as np"
   ]
  },
  {
   "cell_type": "code",
   "execution_count": 142,
   "metadata": {},
   "outputs": [],
   "source": [
    "class TestCosmology(unittest.TestCase):\n",
    "    \n",
    "    def test_set_default(self):\n",
    "        c.cosm_model = [1,2,5,3,6]\n",
    "        c.H_0 = c.O_M = c.O_L = c.O_B = 69\n",
    "        self.assertEqual(c.cosm_model, [1,2,5,3,6])\n",
    "        self.assertEqual(c.O_M, 69)\n",
    "        self.assertEqual(c.H_0, 69)\n",
    "        \n",
    "        c.set_default()\n",
    "        self.assertEqual(c.cosm_model, [0.286, 0.714, 0.049, 70])\n",
    "        self.assertEqual(c.O_M, 0.286)\n",
    "        self.assertEqual(c.O_L, 0.714)\n",
    "        self.assertEqual(c.O_B, 0.049)\n",
    "        self.assertEqual(c.H_0, 70*c.kmsMpc_to_s)\n",
    "    \n",
    "    def test_update_cmodel(self):\n",
    "        new_model = [0.284, 0.755, 0.010, 50]\n",
    "        c.update_cmodel(new_model)\n",
    "        self.assertEqual(c.cosm_model, [0.284, 0.755, 0.010, 50])\n",
    "        self.assertEqual(c.H_0, 50*c.kmsMpc_to_s)\n",
    "        self.assertEqual(c.O_M, 0.284)\n",
    "        self.assertEqual(c.O_L, 0.755)\n",
    "        self.assertEqual(c.O_B, 0.010)\n",
    "        \n",
    "        new_model.append(69)\n",
    "        self.assertEqual(c.cosm_model, [0.284, 0.755, 0.010, 50])\n",
    "        \n",
    "        c.set_default()\n",
    "    \n",
    "    def test_E(self):\n",
    "        self.assertEqual(c.E(0), (c.O_M + c.O_L)**0.5)\n",
    "        self.assertEqual(c.E(1), (8.0*c.O_M + c.O_L)**0.5)\n",
    "        self.assertEqual(c.E(0.5), (3.375*c.O_M + c.O_L)**0.5)\n",
    "        self.assertEqual(c.E(55.19482), ((56.19482)**3*c.O_M + c.O_L)**0.5)\n",
    "        \n",
    "        ans = np.array([(c.O_M + c.O_L)**0.5, (8.0*c.O_M + c.O_L)**0.5, (3.375*c.O_M + c.O_L)**0.5, ((56.19482)**3*c.O_M + c.O_L)**0.5])\n",
    "        self.assertEqual(c.E(np.array([0,1,0.5,55.19482])).tolist(), ans.tolist())\n",
    "    \n",
    "    def test_sort_by_first(self):\n",
    "        l1, l2 = c.sort_by_first([4,3,5,-1,2], [5,69,8,72,-11])\n",
    "        self.assertEqual(l1.tolist(), [-1,2,3,4,5])\n",
    "        self.assertEqual(l2.tolist(), [72,-11,69,5,8])\n",
    "        \n",
    "        l1, l2 = c.sort_by_first([5,4,3,2], [-5,-6,-7,8])\n",
    "        self.assertEqual(l1.tolist(), [2,3,4,5])\n",
    "        self.assertEqual(l2.tolist(), [8,-7,-6,-5])\n",
    "        \n",
    "        #check if sort in place\n",
    "        l1, l2 = c.sort_by_first([9,9,3,9,9], [5,-2,3,-4,99])\n",
    "        self.assertEqual(l1.tolist(), [3,9,9,9,9])\n",
    "        self.assertEqual(l2.tolist(), [3,5,-2,-4,99])\n",
    "        \n",
    "        #check if it works for numpy arrays as well\n",
    "        l1, l2 = c.sort_by_first(np.array([4,3,5,-1,2]), np.array([5,69,8,72,-11]))\n",
    "        self.assertEqual(l1.tolist(), [-1,2,3,4,5])\n",
    "        self.assertEqual(l2.tolist(), [72,-11,69,5,8])\n",
    "        \n",
    "        l1, l2 = c.sort_by_first(np.array([5,4,3,2]), np.array([-5,-6,-7,8]))\n",
    "        self.assertEqual(l1.tolist(), [2,3,4,5])\n",
    "        self.assertEqual(l2.tolist(), [8,-7,-6,-5])\n",
    "        \n",
    "        l1, l2 = c.sort_by_first(np.array([9,9,3,9,9]), np.array([5,-2,3,-4,99]))\n",
    "        self.assertEqual(l1.tolist(), [3,9,9,9,9])\n",
    "        self.assertEqual(l2.tolist(), [3,5,-2,-4,99])\n",
    "    \n",
    "    def test_D_C(self):\n",
    "        self.assertAlmostEqual(c.D_C(2.12384), d.D_C_old(2.12384), delta=1e-7)\n",
    "        self.assertAlmostEqual(c.D_C(2.12384), 1.26580797970764, delta=1e-11) # value calcualted through integral-calculator\n",
    "        self.assertAlmostEqual(c.D_C(55.123854), 2.870559850206997, delta=1e-11) # value calcualted through integral-calculator\n",
    "        \n",
    "        input = np.array([50,1,3,25,4])\n",
    "        np.testing.assert_almost_equal(c.D_C(input), d.D_C_old(input), 7)\n",
    "        np.testing.assert_almost_equal(c.D_C(input), np.array([2.846083449712865, 0.7779423776121797, 1.504993571457544, 2.636332485477817, 1.699640679205983]), 11)\n",
    "    \n",
    "    #next up: test D_L\n",
    "    def test_D_L(self):\n",
    "        pass"
   ]
  },
  {
   "cell_type": "code",
   "execution_count": 143,
   "metadata": {},
   "outputs": [
    {
     "name": "stderr",
     "output_type": "stream",
     "text": [
      "test_D_C (__main__.TestCosmology) ... ok\n",
      "test_E (__main__.TestCosmology) ... ok\n",
      "test_set_default (__main__.TestCosmology) ... ok\n",
      "test_sort_by_first (__main__.TestCosmology) ... ok\n",
      "test_update_cmodel (__main__.TestCosmology) ... ok\n",
      "\n",
      "----------------------------------------------------------------------\n",
      "Ran 5 tests in 0.252s\n",
      "\n",
      "OK\n"
     ]
    },
    {
     "data": {
      "text/plain": [
       "<unittest.main.TestProgram at 0x7f9ff83eae80>"
      ]
     },
     "execution_count": 143,
     "metadata": {},
     "output_type": "execute_result"
    }
   ],
   "source": [
    "i.reload(c)\n",
    "unittest.main(argv=[''], verbosity=2, exit=False)"
   ]
  }
 ],
 "metadata": {
  "kernelspec": {
   "display_name": "Python 3.9.12 ('2022')",
   "language": "python",
   "name": "python3"
  },
  "language_info": {
   "codemirror_mode": {
    "name": "ipython",
    "version": 3
   },
   "file_extension": ".py",
   "mimetype": "text/x-python",
   "name": "python",
   "nbconvert_exporter": "python",
   "pygments_lexer": "ipython3",
   "version": "3.9.12"
  },
  "orig_nbformat": 4,
  "vscode": {
   "interpreter": {
    "hash": "8ef6c2603613cee003e8dc1202cc215413d5752975eb5ab63e282753c2927b8a"
   }
  }
 },
 "nbformat": 4,
 "nbformat_minor": 2
}
